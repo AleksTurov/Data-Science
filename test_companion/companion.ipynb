{
  "cells": [
    {
      "attachments": {},
      "cell_type": "markdown",
      "metadata": {
        "id": "lOXouvCfeB1z"
      },
      "source": [
        "# test_companion"
      ]
    },
    {
      "attachments": {},
      "cell_type": "markdown",
      "metadata": {
        "id": "MAA5Dui_d9BD"
      },
      "source": [
        "Задание :  \n",
        "  \n",
        "Вам нужно построить скоринговую модель (модель прогноза и принятия решений), для того, чтобы автоматически решать - кому из клиентов выдавать кредит, а кому нет.  \n",
        "  \n",
        "Модель должна предсказывать тип кредита (\"Хороший\" или \"Плохой\") при помощи информации о клиенте (Пол, Возраст) и информации о кредитной истории клиента (Просрочки по его историческим кредитам).  \n",
        "  \n",
        "Модель может быть составлена в любом виде (рекомендуемый вариант - Логистическая регрессия).  \n",
        "  \n",
        "Желательно сделать обучение модели на одной части данных, а тестирование модели на другой части, и показать метрики качества модели (рекомендуемый вариант - ROC-AUC, Gini index).  \n",
        "  \n",
        "Результат :  \n",
        "  \n",
        "Отправить результаты нужно в виде :  \n",
        "  \n",
        "1) Код создания модели (рекомендуемый вариан т - jupyter notebook, .ipynb)  \n",
        "  \n",
        "2) Результат тестирования в любом формате  "
      ]
    },
    {
      "attachments": {},
      "cell_type": "markdown",
      "metadata": {
        "id": "hKrkP8x8dZl9"
      },
      "source": [
        "## Импорт библиотек"
      ]
    },
    {
      "cell_type": "code",
      "execution_count": 109,
      "metadata": {},
      "outputs": [
        {
          "name": "stdout",
          "output_type": "stream",
          "text": [
            "Requirement already satisfied: imbalanced-learn in /home/aleksey/anaconda3/lib/python3.10/site-packages (0.10.1)\n",
            "Requirement already satisfied: numpy>=1.17.3 in /home/aleksey/anaconda3/lib/python3.10/site-packages (from imbalanced-learn) (1.24.2)\n",
            "Requirement already satisfied: threadpoolctl>=2.0.0 in /home/aleksey/anaconda3/lib/python3.10/site-packages (from imbalanced-learn) (3.1.0)\n",
            "Requirement already satisfied: scikit-learn>=1.0.2 in /home/aleksey/anaconda3/lib/python3.10/site-packages (from imbalanced-learn) (1.2.2)\n",
            "Requirement already satisfied: joblib>=1.1.1 in /home/aleksey/anaconda3/lib/python3.10/site-packages (from imbalanced-learn) (1.2.0)\n",
            "Requirement already satisfied: scipy>=1.3.2 in /home/aleksey/anaconda3/lib/python3.10/site-packages (from imbalanced-learn) (1.10.1)\n"
          ]
        }
      ],
      "source": [
        "!pip install imbalanced-learn"
      ]
    },
    {
      "cell_type": "code",
      "execution_count": 110,
      "metadata": {
        "id": "Nu6jgHuEdWHV"
      },
      "outputs": [],
      "source": [
        "import pandas as pd\n",
        "import re as re\n",
        "import matplotlib.pyplot as plt\n",
        "import seaborn as sns\n",
        "import warnings\n",
        "warnings.filterwarnings('ignore') \n",
        "import numpy as np\n",
        "\n",
        "from sklearn.model_selection import train_test_split, GridSearchCV\n",
        "from sklearn.preprocessing import StandardScaler\n",
        "from sklearn.linear_model import LogisticRegression\n",
        "from sklearn.ensemble import RandomForestClassifier\n",
        "from catboost import CatBoostClassifier, Pool, cv\n",
        "from sklearn.metrics import f1_score, roc_auc_score, roc_curve, precision_score, recall_score, precision_recall_curve, accuracy_score\n",
        "from sklearn.tree import DecisionTreeClassifier\n",
        "from imblearn.over_sampling import SMOTE\n",
        "from imblearn.under_sampling import RandomUnderSampler\n",
        "\n"
      ]
    },
    {
      "attachments": {},
      "cell_type": "markdown",
      "metadata": {
        "id": "ZKYGY_bNfgZy"
      },
      "source": [
        "## Загрузка данных\n"
      ]
    },
    {
      "cell_type": "code",
      "execution_count": 111,
      "metadata": {
        "id": "5bqLaq-IHl70"
      },
      "outputs": [],
      "source": [
        "credit_info = pd.read_excel(\"Credit Info.xlsx\")\n",
        "customer_info = pd.read_excel(\"Customer Info.xlsx\")\n",
        "history_info = pd.read_excel(\"History Info.xlsx\")\n"
      ]
    },
    {
      "attachments": {},
      "cell_type": "markdown",
      "metadata": {
        "id": "qPJBe1ngxvQE"
      },
      "source": [
        "### credit_info"
      ]
    },
    {
      "cell_type": "code",
      "execution_count": 112,
      "metadata": {
        "colab": {
          "base_uri": "https://localhost:8080/"
        },
        "id": "8ccksqLYdXli",
        "outputId": "ff3f437a-d4ee-4b00-8273-95fdcf52be02"
      },
      "outputs": [
        {
          "name": "stdout",
          "output_type": "stream",
          "text": [
            "<class 'pandas.core.frame.DataFrame'>\n",
            "RangeIndex: 1000 entries, 0 to 999\n",
            "Data columns (total 4 columns):\n",
            " #   Column             Non-Null Count  Dtype         \n",
            "---  ------             --------------  -----         \n",
            " 0   Credit ID          1000 non-null   int64         \n",
            " 1   Customer ID        1000 non-null   int64         \n",
            " 2   Loan Created Date  1000 non-null   datetime64[ns]\n",
            " 3   Type Credit        1000 non-null   object        \n",
            "dtypes: datetime64[ns](1), int64(2), object(1)\n",
            "memory usage: 31.4+ KB\n"
          ]
        }
      ],
      "source": [
        "credit_info.info()"
      ]
    },
    {
      "cell_type": "code",
      "execution_count": 113,
      "metadata": {
        "colab": {
          "base_uri": "https://localhost:8080/",
          "height": 206
        },
        "id": "9zEQkZnsiwdj",
        "outputId": "57ec123f-3fc3-458c-fdcd-c3cf6925508e"
      },
      "outputs": [
        {
          "data": {
            "text/html": [
              "<div>\n",
              "<style scoped>\n",
              "    .dataframe tbody tr th:only-of-type {\n",
              "        vertical-align: middle;\n",
              "    }\n",
              "\n",
              "    .dataframe tbody tr th {\n",
              "        vertical-align: top;\n",
              "    }\n",
              "\n",
              "    .dataframe thead th {\n",
              "        text-align: right;\n",
              "    }\n",
              "</style>\n",
              "<table border=\"1\" class=\"dataframe\">\n",
              "  <thead>\n",
              "    <tr style=\"text-align: right;\">\n",
              "      <th></th>\n",
              "      <th>Credit ID</th>\n",
              "      <th>Customer ID</th>\n",
              "      <th>Loan Created Date</th>\n",
              "      <th>Type Credit</th>\n",
              "    </tr>\n",
              "  </thead>\n",
              "  <tbody>\n",
              "    <tr>\n",
              "      <th>0</th>\n",
              "      <td>857000</td>\n",
              "      <td>483</td>\n",
              "      <td>2020-09-05</td>\n",
              "      <td>Normal</td>\n",
              "    </tr>\n",
              "    <tr>\n",
              "      <th>1</th>\n",
              "      <td>695553</td>\n",
              "      <td>843</td>\n",
              "      <td>2021-05-20</td>\n",
              "      <td>Normal</td>\n",
              "    </tr>\n",
              "    <tr>\n",
              "      <th>2</th>\n",
              "      <td>992484</td>\n",
              "      <td>1801</td>\n",
              "      <td>2021-07-02</td>\n",
              "      <td>Normal</td>\n",
              "    </tr>\n",
              "    <tr>\n",
              "      <th>3</th>\n",
              "      <td>964325</td>\n",
              "      <td>296</td>\n",
              "      <td>2021-09-25</td>\n",
              "      <td>Normal</td>\n",
              "    </tr>\n",
              "    <tr>\n",
              "      <th>4</th>\n",
              "      <td>602834</td>\n",
              "      <td>694</td>\n",
              "      <td>2021-04-21</td>\n",
              "      <td>Normal</td>\n",
              "    </tr>\n",
              "  </tbody>\n",
              "</table>\n",
              "</div>"
            ],
            "text/plain": [
              "   Credit ID  Customer ID Loan Created Date Type Credit\n",
              "0     857000          483        2020-09-05      Normal\n",
              "1     695553          843        2021-05-20      Normal\n",
              "2     992484         1801        2021-07-02      Normal\n",
              "3     964325          296        2021-09-25      Normal\n",
              "4     602834          694        2021-04-21      Normal"
            ]
          },
          "execution_count": 113,
          "metadata": {},
          "output_type": "execute_result"
        }
      ],
      "source": [
        "credit_info.head()"
      ]
    },
    {
      "cell_type": "code",
      "execution_count": 114,
      "metadata": {
        "colab": {
          "base_uri": "https://localhost:8080/",
          "height": 394
        },
        "id": "xqCA1D-uuVS0",
        "outputId": "7544cadc-7c12-42df-a589-35dcfe54d528"
      },
      "outputs": [
        {
          "data": {
            "text/html": [
              "<div>\n",
              "<style scoped>\n",
              "    .dataframe tbody tr th:only-of-type {\n",
              "        vertical-align: middle;\n",
              "    }\n",
              "\n",
              "    .dataframe tbody tr th {\n",
              "        vertical-align: top;\n",
              "    }\n",
              "\n",
              "    .dataframe thead th {\n",
              "        text-align: right;\n",
              "    }\n",
              "</style>\n",
              "<table border=\"1\" class=\"dataframe\">\n",
              "  <thead>\n",
              "    <tr style=\"text-align: right;\">\n",
              "      <th></th>\n",
              "      <th>Credit ID</th>\n",
              "      <th>Customer ID</th>\n",
              "      <th>Loan Created Date</th>\n",
              "      <th>Type Credit</th>\n",
              "    </tr>\n",
              "  </thead>\n",
              "  <tbody>\n",
              "    <tr>\n",
              "      <th>count</th>\n",
              "      <td>1000.000000</td>\n",
              "      <td>1000.000000</td>\n",
              "      <td>1000</td>\n",
              "      <td>1000</td>\n",
              "    </tr>\n",
              "    <tr>\n",
              "      <th>unique</th>\n",
              "      <td>NaN</td>\n",
              "      <td>NaN</td>\n",
              "      <td>NaN</td>\n",
              "      <td>2</td>\n",
              "    </tr>\n",
              "    <tr>\n",
              "      <th>top</th>\n",
              "      <td>NaN</td>\n",
              "      <td>NaN</td>\n",
              "      <td>NaN</td>\n",
              "      <td>Normal</td>\n",
              "    </tr>\n",
              "    <tr>\n",
              "      <th>freq</th>\n",
              "      <td>NaN</td>\n",
              "      <td>NaN</td>\n",
              "      <td>NaN</td>\n",
              "      <td>897</td>\n",
              "    </tr>\n",
              "    <tr>\n",
              "      <th>mean</th>\n",
              "      <td>503401.862000</td>\n",
              "      <td>979.259000</td>\n",
              "      <td>2021-06-29 05:03:50.400000</td>\n",
              "      <td>NaN</td>\n",
              "    </tr>\n",
              "    <tr>\n",
              "      <th>min</th>\n",
              "      <td>4639.000000</td>\n",
              "      <td>1.000000</td>\n",
              "      <td>2020-01-01 00:00:00</td>\n",
              "      <td>NaN</td>\n",
              "    </tr>\n",
              "    <tr>\n",
              "      <th>25%</th>\n",
              "      <td>255464.250000</td>\n",
              "      <td>476.000000</td>\n",
              "      <td>2020-09-26 18:00:00</td>\n",
              "      <td>NaN</td>\n",
              "    </tr>\n",
              "    <tr>\n",
              "      <th>50%</th>\n",
              "      <td>498307.000000</td>\n",
              "      <td>974.500000</td>\n",
              "      <td>2021-07-10 12:00:00</td>\n",
              "      <td>NaN</td>\n",
              "    </tr>\n",
              "    <tr>\n",
              "      <th>75%</th>\n",
              "      <td>748615.500000</td>\n",
              "      <td>1469.000000</td>\n",
              "      <td>2022-03-16 00:00:00</td>\n",
              "      <td>NaN</td>\n",
              "    </tr>\n",
              "    <tr>\n",
              "      <th>max</th>\n",
              "      <td>999987.000000</td>\n",
              "      <td>1997.000000</td>\n",
              "      <td>2022-12-30 00:00:00</td>\n",
              "      <td>NaN</td>\n",
              "    </tr>\n",
              "    <tr>\n",
              "      <th>std</th>\n",
              "      <td>287560.165729</td>\n",
              "      <td>579.172789</td>\n",
              "      <td>NaN</td>\n",
              "      <td>NaN</td>\n",
              "    </tr>\n",
              "  </tbody>\n",
              "</table>\n",
              "</div>"
            ],
            "text/plain": [
              "            Credit ID  Customer ID           Loan Created Date Type Credit\n",
              "count     1000.000000  1000.000000                        1000        1000\n",
              "unique            NaN          NaN                         NaN           2\n",
              "top               NaN          NaN                         NaN      Normal\n",
              "freq              NaN          NaN                         NaN         897\n",
              "mean    503401.862000   979.259000  2021-06-29 05:03:50.400000         NaN\n",
              "min       4639.000000     1.000000         2020-01-01 00:00:00         NaN\n",
              "25%     255464.250000   476.000000         2020-09-26 18:00:00         NaN\n",
              "50%     498307.000000   974.500000         2021-07-10 12:00:00         NaN\n",
              "75%     748615.500000  1469.000000         2022-03-16 00:00:00         NaN\n",
              "max     999987.000000  1997.000000         2022-12-30 00:00:00         NaN\n",
              "std     287560.165729   579.172789                         NaN         NaN"
            ]
          },
          "execution_count": 114,
          "metadata": {},
          "output_type": "execute_result"
        }
      ],
      "source": [
        "credit_info.describe(include = 'all', datetime_is_numeric=True)"
      ]
    },
    {
      "cell_type": "code",
      "execution_count": 115,
      "metadata": {
        "colab": {
          "base_uri": "https://localhost:8080/"
        },
        "id": "YNTkRwKFv2sm",
        "outputId": "10cec22c-d558-4eb7-8d8a-b7743d6527bc"
      },
      "outputs": [
        {
          "data": {
            "text/plain": [
              "0"
            ]
          },
          "execution_count": 115,
          "metadata": {},
          "output_type": "execute_result"
        }
      ],
      "source": [
        "credit_info.duplicated().sum()"
      ]
    },
    {
      "attachments": {},
      "cell_type": "markdown",
      "metadata": {
        "id": "6MJeSVHCiWCh"
      },
      "source": [
        "Credit ID: Уникальный идентификатор кредита.    \n",
        "Customer ID: Уникальный идентификатор клиента.  \n",
        "Loan Created Date: Дата создания кредита.  \n",
        "Type Credit: Тип кредита, который может быть либо \"Normal\", либо \"Problem\".  "
      ]
    },
    {
      "attachments": {},
      "cell_type": "markdown",
      "metadata": {
        "id": "PCkE4RS-vrQg"
      },
      "source": [
        "Пропуски отсутствуют, дубликаты отсутствуют. Минимальная дата 2020-01-01 0:00:00\tпоследняя дата 2022-12-30 00:00:00. Два уникальных значения в типах кредита\t"
      ]
    },
    {
      "attachments": {},
      "cell_type": "markdown",
      "metadata": {
        "id": "n37Ygcmvx0T2"
      },
      "source": [
        "### customer_info"
      ]
    },
    {
      "cell_type": "code",
      "execution_count": 116,
      "metadata": {
        "colab": {
          "base_uri": "https://localhost:8080/"
        },
        "id": "xQIkrsr_egKW",
        "outputId": "d6ce45c0-2ee4-4970-ba35-3dbb69243c1f"
      },
      "outputs": [
        {
          "name": "stdout",
          "output_type": "stream",
          "text": [
            "<class 'pandas.core.frame.DataFrame'>\n",
            "RangeIndex: 798 entries, 0 to 797\n",
            "Data columns (total 3 columns):\n",
            " #   Column       Non-Null Count  Dtype         \n",
            "---  ------       --------------  -----         \n",
            " 0   Customer ID  798 non-null    int64         \n",
            " 1   Sex          798 non-null    object        \n",
            " 2   Birthday     798 non-null    datetime64[ns]\n",
            "dtypes: datetime64[ns](1), int64(1), object(1)\n",
            "memory usage: 18.8+ KB\n"
          ]
        }
      ],
      "source": [
        "customer_info.info()"
      ]
    },
    {
      "cell_type": "code",
      "execution_count": 117,
      "metadata": {
        "colab": {
          "base_uri": "https://localhost:8080/",
          "height": 394
        },
        "id": "6VfJqLtWvdhK",
        "outputId": "8445a377-471d-4add-db1c-ca5564e6ab33"
      },
      "outputs": [
        {
          "data": {
            "text/html": [
              "<div>\n",
              "<style scoped>\n",
              "    .dataframe tbody tr th:only-of-type {\n",
              "        vertical-align: middle;\n",
              "    }\n",
              "\n",
              "    .dataframe tbody tr th {\n",
              "        vertical-align: top;\n",
              "    }\n",
              "\n",
              "    .dataframe thead th {\n",
              "        text-align: right;\n",
              "    }\n",
              "</style>\n",
              "<table border=\"1\" class=\"dataframe\">\n",
              "  <thead>\n",
              "    <tr style=\"text-align: right;\">\n",
              "      <th></th>\n",
              "      <th>Customer ID</th>\n",
              "      <th>Sex</th>\n",
              "      <th>Birthday</th>\n",
              "    </tr>\n",
              "  </thead>\n",
              "  <tbody>\n",
              "    <tr>\n",
              "      <th>count</th>\n",
              "      <td>798.000000</td>\n",
              "      <td>798</td>\n",
              "      <td>798</td>\n",
              "    </tr>\n",
              "    <tr>\n",
              "      <th>unique</th>\n",
              "      <td>NaN</td>\n",
              "      <td>2</td>\n",
              "      <td>NaN</td>\n",
              "    </tr>\n",
              "    <tr>\n",
              "      <th>top</th>\n",
              "      <td>NaN</td>\n",
              "      <td>Man</td>\n",
              "      <td>NaN</td>\n",
              "    </tr>\n",
              "    <tr>\n",
              "      <th>freq</th>\n",
              "      <td>NaN</td>\n",
              "      <td>412</td>\n",
              "      <td>NaN</td>\n",
              "    </tr>\n",
              "    <tr>\n",
              "      <th>mean</th>\n",
              "      <td>969.021303</td>\n",
              "      <td>NaN</td>\n",
              "      <td>1971-07-13 02:51:25.714285712</td>\n",
              "    </tr>\n",
              "    <tr>\n",
              "      <th>min</th>\n",
              "      <td>1.000000</td>\n",
              "      <td>NaN</td>\n",
              "      <td>1940-01-06 00:00:00</td>\n",
              "    </tr>\n",
              "    <tr>\n",
              "      <th>25%</th>\n",
              "      <td>453.250000</td>\n",
              "      <td>NaN</td>\n",
              "      <td>1955-05-27 12:00:00</td>\n",
              "    </tr>\n",
              "    <tr>\n",
              "      <th>50%</th>\n",
              "      <td>966.500000</td>\n",
              "      <td>NaN</td>\n",
              "      <td>1971-02-15 00:00:00</td>\n",
              "    </tr>\n",
              "    <tr>\n",
              "      <th>75%</th>\n",
              "      <td>1460.500000</td>\n",
              "      <td>NaN</td>\n",
              "      <td>1987-08-10 18:00:00</td>\n",
              "    </tr>\n",
              "    <tr>\n",
              "      <th>max</th>\n",
              "      <td>1997.000000</td>\n",
              "      <td>NaN</td>\n",
              "      <td>2005-12-16 00:00:00</td>\n",
              "    </tr>\n",
              "    <tr>\n",
              "      <th>std</th>\n",
              "      <td>581.813994</td>\n",
              "      <td>NaN</td>\n",
              "      <td>NaN</td>\n",
              "    </tr>\n",
              "  </tbody>\n",
              "</table>\n",
              "</div>"
            ],
            "text/plain": [
              "        Customer ID  Sex                       Birthday\n",
              "count    798.000000  798                            798\n",
              "unique          NaN    2                            NaN\n",
              "top             NaN  Man                            NaN\n",
              "freq            NaN  412                            NaN\n",
              "mean     969.021303  NaN  1971-07-13 02:51:25.714285712\n",
              "min        1.000000  NaN            1940-01-06 00:00:00\n",
              "25%      453.250000  NaN            1955-05-27 12:00:00\n",
              "50%      966.500000  NaN            1971-02-15 00:00:00\n",
              "75%     1460.500000  NaN            1987-08-10 18:00:00\n",
              "max     1997.000000  NaN            2005-12-16 00:00:00\n",
              "std      581.813994  NaN                            NaN"
            ]
          },
          "execution_count": 117,
          "metadata": {},
          "output_type": "execute_result"
        }
      ],
      "source": [
        "customer_info.describe(include = 'all', datetime_is_numeric=True)"
      ]
    },
    {
      "cell_type": "code",
      "execution_count": 118,
      "metadata": {
        "colab": {
          "base_uri": "https://localhost:8080/"
        },
        "id": "lSFWvNpJwf6p",
        "outputId": "8a40c902-9246-4026-995d-296f32feef99"
      },
      "outputs": [
        {
          "data": {
            "text/plain": [
              "0"
            ]
          },
          "execution_count": 118,
          "metadata": {},
          "output_type": "execute_result"
        }
      ],
      "source": [
        "customer_info.duplicated().sum()"
      ]
    },
    {
      "cell_type": "code",
      "execution_count": 119,
      "metadata": {
        "colab": {
          "base_uri": "https://localhost:8080/",
          "height": 206
        },
        "id": "K1q5GpcXjBhT",
        "outputId": "b256ac39-9e90-4d4f-d785-125cd98d3cb8"
      },
      "outputs": [
        {
          "data": {
            "text/html": [
              "<div>\n",
              "<style scoped>\n",
              "    .dataframe tbody tr th:only-of-type {\n",
              "        vertical-align: middle;\n",
              "    }\n",
              "\n",
              "    .dataframe tbody tr th {\n",
              "        vertical-align: top;\n",
              "    }\n",
              "\n",
              "    .dataframe thead th {\n",
              "        text-align: right;\n",
              "    }\n",
              "</style>\n",
              "<table border=\"1\" class=\"dataframe\">\n",
              "  <thead>\n",
              "    <tr style=\"text-align: right;\">\n",
              "      <th></th>\n",
              "      <th>Customer ID</th>\n",
              "      <th>Sex</th>\n",
              "      <th>Birthday</th>\n",
              "    </tr>\n",
              "  </thead>\n",
              "  <tbody>\n",
              "    <tr>\n",
              "      <th>0</th>\n",
              "      <td>1</td>\n",
              "      <td>Man</td>\n",
              "      <td>2000-07-14</td>\n",
              "    </tr>\n",
              "    <tr>\n",
              "      <th>1</th>\n",
              "      <td>3</td>\n",
              "      <td>Man</td>\n",
              "      <td>2003-03-04</td>\n",
              "    </tr>\n",
              "    <tr>\n",
              "      <th>2</th>\n",
              "      <td>16</td>\n",
              "      <td>Man</td>\n",
              "      <td>1989-03-04</td>\n",
              "    </tr>\n",
              "    <tr>\n",
              "      <th>3</th>\n",
              "      <td>17</td>\n",
              "      <td>Woman</td>\n",
              "      <td>1956-01-17</td>\n",
              "    </tr>\n",
              "    <tr>\n",
              "      <th>4</th>\n",
              "      <td>18</td>\n",
              "      <td>Man</td>\n",
              "      <td>1993-10-23</td>\n",
              "    </tr>\n",
              "  </tbody>\n",
              "</table>\n",
              "</div>"
            ],
            "text/plain": [
              "   Customer ID    Sex   Birthday\n",
              "0            1    Man 2000-07-14\n",
              "1            3    Man 2003-03-04\n",
              "2           16    Man 1989-03-04\n",
              "3           17  Woman 1956-01-17\n",
              "4           18    Man 1993-10-23"
            ]
          },
          "execution_count": 119,
          "metadata": {},
          "output_type": "execute_result"
        }
      ],
      "source": [
        "customer_info.head()"
      ]
    },
    {
      "attachments": {},
      "cell_type": "markdown",
      "metadata": {
        "id": "QOy4SoNKjI88"
      },
      "source": [
        "Customer ID: Уникальный идентификатор клиента.    \n",
        "Sex - пол   \n",
        "Birthday - день рождение клиента  "
      ]
    },
    {
      "attachments": {},
      "cell_type": "markdown",
      "metadata": {
        "id": "brJriCnUwnX6"
      },
      "source": [
        "Пропуски отсутствуют, дубликаты отсутствуют. Минимальная дата дня рождения 1940-01-06 00:00:00\tпоследняя дата 2005-12-16 00:00:00(По каждому клиенту можно посчитать возраст на момент выдачи кредита). Пол только два значение Man and Woman\n"
      ]
    },
    {
      "attachments": {},
      "cell_type": "markdown",
      "metadata": {
        "id": "x32EX-ykx4YT"
      },
      "source": [
        "### history_info"
      ]
    },
    {
      "cell_type": "code",
      "execution_count": 120,
      "metadata": {
        "colab": {
          "base_uri": "https://localhost:8080/"
        },
        "id": "L_knmZhbeufr",
        "outputId": "76f5b51c-8f07-40f2-8ec7-eb683d50e9c9"
      },
      "outputs": [
        {
          "name": "stdout",
          "output_type": "stream",
          "text": [
            "<class 'pandas.core.frame.DataFrame'>\n",
            "RangeIndex: 1500 entries, 0 to 1499\n",
            "Data columns (total 3 columns):\n",
            " #   Column           Non-Null Count  Dtype\n",
            "---  ------           --------------  -----\n",
            " 0   History Note ID  1500 non-null   int64\n",
            " 1   Customer ID      1500 non-null   int64\n",
            " 2   Overdues         1500 non-null   int64\n",
            "dtypes: int64(3)\n",
            "memory usage: 35.3 KB\n"
          ]
        }
      ],
      "source": [
        "history_info.info()"
      ]
    },
    {
      "cell_type": "code",
      "execution_count": 121,
      "metadata": {
        "colab": {
          "base_uri": "https://localhost:8080/",
          "height": 424
        },
        "id": "W09op7j33X4n",
        "outputId": "b142027a-fca7-4f98-b6fa-ca0a0019a4df"
      },
      "outputs": [
        {
          "data": {
            "text/html": [
              "<div>\n",
              "<style scoped>\n",
              "    .dataframe tbody tr th:only-of-type {\n",
              "        vertical-align: middle;\n",
              "    }\n",
              "\n",
              "    .dataframe tbody tr th {\n",
              "        vertical-align: top;\n",
              "    }\n",
              "\n",
              "    .dataframe thead th {\n",
              "        text-align: right;\n",
              "    }\n",
              "</style>\n",
              "<table border=\"1\" class=\"dataframe\">\n",
              "  <thead>\n",
              "    <tr style=\"text-align: right;\">\n",
              "      <th></th>\n",
              "      <th>History Note ID</th>\n",
              "      <th>Customer ID</th>\n",
              "      <th>Overdues</th>\n",
              "    </tr>\n",
              "  </thead>\n",
              "  <tbody>\n",
              "    <tr>\n",
              "      <th>0</th>\n",
              "      <td>0</td>\n",
              "      <td>499</td>\n",
              "      <td>0</td>\n",
              "    </tr>\n",
              "    <tr>\n",
              "      <th>1</th>\n",
              "      <td>1</td>\n",
              "      <td>461</td>\n",
              "      <td>0</td>\n",
              "    </tr>\n",
              "    <tr>\n",
              "      <th>2</th>\n",
              "      <td>2</td>\n",
              "      <td>516</td>\n",
              "      <td>0</td>\n",
              "    </tr>\n",
              "    <tr>\n",
              "      <th>3</th>\n",
              "      <td>3</td>\n",
              "      <td>138</td>\n",
              "      <td>0</td>\n",
              "    </tr>\n",
              "    <tr>\n",
              "      <th>4</th>\n",
              "      <td>4</td>\n",
              "      <td>1770</td>\n",
              "      <td>0</td>\n",
              "    </tr>\n",
              "    <tr>\n",
              "      <th>...</th>\n",
              "      <td>...</td>\n",
              "      <td>...</td>\n",
              "      <td>...</td>\n",
              "    </tr>\n",
              "    <tr>\n",
              "      <th>1495</th>\n",
              "      <td>1495</td>\n",
              "      <td>1287</td>\n",
              "      <td>0</td>\n",
              "    </tr>\n",
              "    <tr>\n",
              "      <th>1496</th>\n",
              "      <td>1496</td>\n",
              "      <td>194</td>\n",
              "      <td>86</td>\n",
              "    </tr>\n",
              "    <tr>\n",
              "      <th>1497</th>\n",
              "      <td>1497</td>\n",
              "      <td>48</td>\n",
              "      <td>0</td>\n",
              "    </tr>\n",
              "    <tr>\n",
              "      <th>1498</th>\n",
              "      <td>1498</td>\n",
              "      <td>686</td>\n",
              "      <td>0</td>\n",
              "    </tr>\n",
              "    <tr>\n",
              "      <th>1499</th>\n",
              "      <td>1499</td>\n",
              "      <td>510</td>\n",
              "      <td>0</td>\n",
              "    </tr>\n",
              "  </tbody>\n",
              "</table>\n",
              "<p>1500 rows × 3 columns</p>\n",
              "</div>"
            ],
            "text/plain": [
              "      History Note ID  Customer ID  Overdues\n",
              "0                   0          499         0\n",
              "1                   1          461         0\n",
              "2                   2          516         0\n",
              "3                   3          138         0\n",
              "4                   4         1770         0\n",
              "...               ...          ...       ...\n",
              "1495             1495         1287         0\n",
              "1496             1496          194        86\n",
              "1497             1497           48         0\n",
              "1498             1498          686         0\n",
              "1499             1499          510         0\n",
              "\n",
              "[1500 rows x 3 columns]"
            ]
          },
          "execution_count": 121,
          "metadata": {},
          "output_type": "execute_result"
        }
      ],
      "source": [
        "history_info"
      ]
    },
    {
      "cell_type": "code",
      "execution_count": 122,
      "metadata": {
        "colab": {
          "base_uri": "https://localhost:8080/",
          "height": 300
        },
        "id": "bY7qbAkQx9bY",
        "outputId": "e75595ae-8171-4df1-b245-24f8283e179d"
      },
      "outputs": [
        {
          "data": {
            "text/html": [
              "<div>\n",
              "<style scoped>\n",
              "    .dataframe tbody tr th:only-of-type {\n",
              "        vertical-align: middle;\n",
              "    }\n",
              "\n",
              "    .dataframe tbody tr th {\n",
              "        vertical-align: top;\n",
              "    }\n",
              "\n",
              "    .dataframe thead th {\n",
              "        text-align: right;\n",
              "    }\n",
              "</style>\n",
              "<table border=\"1\" class=\"dataframe\">\n",
              "  <thead>\n",
              "    <tr style=\"text-align: right;\">\n",
              "      <th></th>\n",
              "      <th>History Note ID</th>\n",
              "      <th>Customer ID</th>\n",
              "      <th>Overdues</th>\n",
              "    </tr>\n",
              "  </thead>\n",
              "  <tbody>\n",
              "    <tr>\n",
              "      <th>count</th>\n",
              "      <td>1500.000000</td>\n",
              "      <td>1500.000000</td>\n",
              "      <td>1500.000000</td>\n",
              "    </tr>\n",
              "    <tr>\n",
              "      <th>mean</th>\n",
              "      <td>749.500000</td>\n",
              "      <td>940.132667</td>\n",
              "      <td>11.480000</td>\n",
              "    </tr>\n",
              "    <tr>\n",
              "      <th>std</th>\n",
              "      <td>433.157015</td>\n",
              "      <td>586.060076</td>\n",
              "      <td>23.990386</td>\n",
              "    </tr>\n",
              "    <tr>\n",
              "      <th>min</th>\n",
              "      <td>0.000000</td>\n",
              "      <td>1.000000</td>\n",
              "      <td>0.000000</td>\n",
              "    </tr>\n",
              "    <tr>\n",
              "      <th>25%</th>\n",
              "      <td>374.750000</td>\n",
              "      <td>431.000000</td>\n",
              "      <td>0.000000</td>\n",
              "    </tr>\n",
              "    <tr>\n",
              "      <th>50%</th>\n",
              "      <td>749.500000</td>\n",
              "      <td>918.500000</td>\n",
              "      <td>0.000000</td>\n",
              "    </tr>\n",
              "    <tr>\n",
              "      <th>75%</th>\n",
              "      <td>1124.250000</td>\n",
              "      <td>1449.250000</td>\n",
              "      <td>0.000000</td>\n",
              "    </tr>\n",
              "    <tr>\n",
              "      <th>max</th>\n",
              "      <td>1499.000000</td>\n",
              "      <td>1997.000000</td>\n",
              "      <td>90.000000</td>\n",
              "    </tr>\n",
              "  </tbody>\n",
              "</table>\n",
              "</div>"
            ],
            "text/plain": [
              "       History Note ID  Customer ID     Overdues\n",
              "count      1500.000000  1500.000000  1500.000000\n",
              "mean        749.500000   940.132667    11.480000\n",
              "std         433.157015   586.060076    23.990386\n",
              "min           0.000000     1.000000     0.000000\n",
              "25%         374.750000   431.000000     0.000000\n",
              "50%         749.500000   918.500000     0.000000\n",
              "75%        1124.250000  1449.250000     0.000000\n",
              "max        1499.000000  1997.000000    90.000000"
            ]
          },
          "execution_count": 122,
          "metadata": {},
          "output_type": "execute_result"
        }
      ],
      "source": [
        "history_info.describe(include = 'all', datetime_is_numeric=True)"
      ]
    },
    {
      "cell_type": "code",
      "execution_count": 123,
      "metadata": {
        "colab": {
          "base_uri": "https://localhost:8080/",
          "height": 269
        },
        "id": "C6mRO95dn1AV",
        "outputId": "c7ce190b-ce77-426e-8c6d-983c9b0b34be"
      },
      "outputs": [
        {
          "data": {
            "text/html": [
              "<div>\n",
              "<style scoped>\n",
              "    .dataframe tbody tr th:only-of-type {\n",
              "        vertical-align: middle;\n",
              "    }\n",
              "\n",
              "    .dataframe tbody tr th {\n",
              "        vertical-align: top;\n",
              "    }\n",
              "\n",
              "    .dataframe thead th {\n",
              "        text-align: right;\n",
              "    }\n",
              "</style>\n",
              "<table border=\"1\" class=\"dataframe\">\n",
              "  <thead>\n",
              "    <tr style=\"text-align: right;\">\n",
              "      <th></th>\n",
              "      <th>History Note ID</th>\n",
              "      <th>Customer ID</th>\n",
              "      <th>Overdues</th>\n",
              "    </tr>\n",
              "  </thead>\n",
              "  <tbody>\n",
              "    <tr>\n",
              "      <th>282</th>\n",
              "      <td>282</td>\n",
              "      <td>201</td>\n",
              "      <td>90</td>\n",
              "    </tr>\n",
              "    <tr>\n",
              "      <th>832</th>\n",
              "      <td>832</td>\n",
              "      <td>201</td>\n",
              "      <td>63</td>\n",
              "    </tr>\n",
              "    <tr>\n",
              "      <th>1178</th>\n",
              "      <td>1178</td>\n",
              "      <td>201</td>\n",
              "      <td>0</td>\n",
              "    </tr>\n",
              "    <tr>\n",
              "      <th>1211</th>\n",
              "      <td>1211</td>\n",
              "      <td>201</td>\n",
              "      <td>90</td>\n",
              "    </tr>\n",
              "    <tr>\n",
              "      <th>1229</th>\n",
              "      <td>1229</td>\n",
              "      <td>201</td>\n",
              "      <td>0</td>\n",
              "    </tr>\n",
              "    <tr>\n",
              "      <th>1426</th>\n",
              "      <td>1426</td>\n",
              "      <td>201</td>\n",
              "      <td>87</td>\n",
              "    </tr>\n",
              "    <tr>\n",
              "      <th>1436</th>\n",
              "      <td>1436</td>\n",
              "      <td>201</td>\n",
              "      <td>0</td>\n",
              "    </tr>\n",
              "  </tbody>\n",
              "</table>\n",
              "</div>"
            ],
            "text/plain": [
              "      History Note ID  Customer ID  Overdues\n",
              "282               282          201        90\n",
              "832               832          201        63\n",
              "1178             1178          201         0\n",
              "1211             1211          201        90\n",
              "1229             1229          201         0\n",
              "1426             1426          201        87\n",
              "1436             1436          201         0"
            ]
          },
          "execution_count": 123,
          "metadata": {},
          "output_type": "execute_result"
        }
      ],
      "source": [
        "history_info.query(\"`Customer ID` == 201\")"
      ]
    },
    {
      "cell_type": "code",
      "execution_count": 124,
      "metadata": {
        "colab": {
          "base_uri": "https://localhost:8080/",
          "height": 81
        },
        "id": "U9A4qnm24nFC",
        "outputId": "73f3a364-038a-420c-8ad4-da0be700d21d"
      },
      "outputs": [
        {
          "data": {
            "text/html": [
              "<div>\n",
              "<style scoped>\n",
              "    .dataframe tbody tr th:only-of-type {\n",
              "        vertical-align: middle;\n",
              "    }\n",
              "\n",
              "    .dataframe tbody tr th {\n",
              "        vertical-align: top;\n",
              "    }\n",
              "\n",
              "    .dataframe thead th {\n",
              "        text-align: right;\n",
              "    }\n",
              "</style>\n",
              "<table border=\"1\" class=\"dataframe\">\n",
              "  <thead>\n",
              "    <tr style=\"text-align: right;\">\n",
              "      <th></th>\n",
              "      <th>Credit ID</th>\n",
              "      <th>Customer ID</th>\n",
              "      <th>Loan Created Date</th>\n",
              "      <th>Type Credit</th>\n",
              "    </tr>\n",
              "  </thead>\n",
              "  <tbody>\n",
              "    <tr>\n",
              "      <th>975</th>\n",
              "      <td>531107</td>\n",
              "      <td>201</td>\n",
              "      <td>2021-03-14</td>\n",
              "      <td>Problem</td>\n",
              "    </tr>\n",
              "  </tbody>\n",
              "</table>\n",
              "</div>"
            ],
            "text/plain": [
              "     Credit ID  Customer ID Loan Created Date Type Credit\n",
              "975     531107          201        2021-03-14     Problem"
            ]
          },
          "execution_count": 124,
          "metadata": {},
          "output_type": "execute_result"
        }
      ],
      "source": [
        "credit_info.query(\"`Customer ID` == 201\")"
      ]
    },
    {
      "cell_type": "code",
      "execution_count": 125,
      "metadata": {
        "colab": {
          "base_uri": "https://localhost:8080/"
        },
        "id": "tifprLX5yFd2",
        "outputId": "fdd1e1e9-8801-4b99-8887-653c8b501957"
      },
      "outputs": [
        {
          "data": {
            "text/plain": [
              "0"
            ]
          },
          "execution_count": 125,
          "metadata": {},
          "output_type": "execute_result"
        }
      ],
      "source": [
        "history_info.duplicated().sum()"
      ]
    },
    {
      "attachments": {},
      "cell_type": "markdown",
      "metadata": {
        "id": "JkeEDD7YjXi2"
      },
      "source": [
        "History Note ID\t - Это уникальный идентификатор записи в истории кредитования. Каждая запись представляет собой конкретный случай, когда клиент имел просрочку по оплате кредита.  \n",
        "  \n",
        "Customer ID\t-  Это уникальный идентификатор клиента. Этот идентификатор связывает запись просрочки с конкретным клиентом.  \n",
        "    \n",
        "Overdues - Этот признак представляет собой количество дней просрочек, которые были у данного клиента в данном случае. В контексте этого файла, одна запись соответствует  просрочке. "
      ]
    },
    {
      "attachments": {},
      "cell_type": "markdown",
      "metadata": {
        "id": "LPwXw1lowkcy"
      },
      "source": [
        "Пропуски отсутствуют, дубликаты отсутствуют. "
      ]
    },
    {
      "attachments": {},
      "cell_type": "markdown",
      "metadata": {
        "id": "5pS0f8-0siOj"
      },
      "source": [
        "## Объединение данных"
      ]
    },
    {
      "cell_type": "code",
      "execution_count": 126,
      "metadata": {
        "colab": {
          "base_uri": "https://localhost:8080/",
          "height": 206
        },
        "id": "EMhXDaf0IDG_",
        "outputId": "66a99138-2956-4822-d875-b3a339141640"
      },
      "outputs": [
        {
          "data": {
            "text/html": [
              "<div>\n",
              "<style scoped>\n",
              "    .dataframe tbody tr th:only-of-type {\n",
              "        vertical-align: middle;\n",
              "    }\n",
              "\n",
              "    .dataframe tbody tr th {\n",
              "        vertical-align: top;\n",
              "    }\n",
              "\n",
              "    .dataframe thead th {\n",
              "        text-align: right;\n",
              "    }\n",
              "</style>\n",
              "<table border=\"1\" class=\"dataframe\">\n",
              "  <thead>\n",
              "    <tr style=\"text-align: right;\">\n",
              "      <th></th>\n",
              "      <th>History Note ID</th>\n",
              "      <th>Customer ID</th>\n",
              "      <th>Overdues</th>\n",
              "    </tr>\n",
              "  </thead>\n",
              "  <tbody>\n",
              "    <tr>\n",
              "      <th>1495</th>\n",
              "      <td>1495</td>\n",
              "      <td>1287</td>\n",
              "      <td>0</td>\n",
              "    </tr>\n",
              "    <tr>\n",
              "      <th>1496</th>\n",
              "      <td>1496</td>\n",
              "      <td>194</td>\n",
              "      <td>86</td>\n",
              "    </tr>\n",
              "    <tr>\n",
              "      <th>1497</th>\n",
              "      <td>1497</td>\n",
              "      <td>48</td>\n",
              "      <td>0</td>\n",
              "    </tr>\n",
              "    <tr>\n",
              "      <th>1498</th>\n",
              "      <td>1498</td>\n",
              "      <td>686</td>\n",
              "      <td>0</td>\n",
              "    </tr>\n",
              "    <tr>\n",
              "      <th>1499</th>\n",
              "      <td>1499</td>\n",
              "      <td>510</td>\n",
              "      <td>0</td>\n",
              "    </tr>\n",
              "  </tbody>\n",
              "</table>\n",
              "</div>"
            ],
            "text/plain": [
              "      History Note ID  Customer ID  Overdues\n",
              "1495             1495         1287         0\n",
              "1496             1496          194        86\n",
              "1497             1497           48         0\n",
              "1498             1498          686         0\n",
              "1499             1499          510         0"
            ]
          },
          "execution_count": 126,
          "metadata": {},
          "output_type": "execute_result"
        }
      ],
      "source": [
        "history_info.tail()"
      ]
    },
    {
      "cell_type": "code",
      "execution_count": 127,
      "metadata": {
        "colab": {
          "base_uri": "https://localhost:8080/"
        },
        "id": "4rgzq_HrN4Op",
        "outputId": "914f7998-e4d3-4c47-cb86-6c947a78c70b"
      },
      "outputs": [
        {
          "name": "stdout",
          "output_type": "stream",
          "text": [
            "<class 'pandas.core.frame.DataFrame'>\n",
            "RangeIndex: 1500 entries, 0 to 1499\n",
            "Data columns (total 3 columns):\n",
            " #   Column           Non-Null Count  Dtype\n",
            "---  ------           --------------  -----\n",
            " 0   History Note ID  1500 non-null   int64\n",
            " 1   Customer ID      1500 non-null   int64\n",
            " 2   Overdues         1500 non-null   int64\n",
            "dtypes: int64(3)\n",
            "memory usage: 35.3 KB\n"
          ]
        }
      ],
      "source": [
        "history_info.info()"
      ]
    },
    {
      "cell_type": "code",
      "execution_count": 128,
      "metadata": {
        "id": "dUetTyltN8n_"
      },
      "outputs": [],
      "source": [
        "# Группировка данных истории по ID клиента, подсчет общего числа просрочек и количества записей о просрочках\n",
        "overdues_sum = history_info.groupby('Customer ID')['Overdues'].sum().reset_index().rename(columns={'Overdues': 'Overdues_Sum'})\n",
        "overdues_count = history_info.groupby('Customer ID').size().reset_index().rename(columns={0: 'Overdues_Count'})\n",
        "\n",
        "# Объединение информации о сумме и количестве просрочек\n",
        "overdues = pd.merge(overdues_sum, overdues_count, on=\"Customer ID\")\n",
        "\n",
        "# Объединение информации о клиентах с историей просрочек\n",
        "customer_info = pd.merge(customer_info, overdues, on=\"Customer ID\", how='left')\n",
        "\n",
        "# Объединение данных кредитов и информации о клиентах\n",
        "data = pd.merge(credit_info, customer_info, on=\"Customer ID\")\n",
        "\n",
        "\n"
      ]
    },
    {
      "cell_type": "code",
      "execution_count": 129,
      "metadata": {
        "colab": {
          "base_uri": "https://localhost:8080/",
          "height": 206
        },
        "id": "ESvozdMXOdT2",
        "outputId": "c288f198-f776-4df4-eb29-95b111152ba8"
      },
      "outputs": [
        {
          "data": {
            "text/html": [
              "<div>\n",
              "<style scoped>\n",
              "    .dataframe tbody tr th:only-of-type {\n",
              "        vertical-align: middle;\n",
              "    }\n",
              "\n",
              "    .dataframe tbody tr th {\n",
              "        vertical-align: top;\n",
              "    }\n",
              "\n",
              "    .dataframe thead th {\n",
              "        text-align: right;\n",
              "    }\n",
              "</style>\n",
              "<table border=\"1\" class=\"dataframe\">\n",
              "  <thead>\n",
              "    <tr style=\"text-align: right;\">\n",
              "      <th></th>\n",
              "      <th>Credit ID</th>\n",
              "      <th>Customer ID</th>\n",
              "      <th>Loan Created Date</th>\n",
              "      <th>Type Credit</th>\n",
              "      <th>Sex</th>\n",
              "      <th>Birthday</th>\n",
              "      <th>Overdues_Sum</th>\n",
              "      <th>Overdues_Count</th>\n",
              "    </tr>\n",
              "  </thead>\n",
              "  <tbody>\n",
              "    <tr>\n",
              "      <th>0</th>\n",
              "      <td>857000</td>\n",
              "      <td>483</td>\n",
              "      <td>2020-09-05</td>\n",
              "      <td>Normal</td>\n",
              "      <td>Woman</td>\n",
              "      <td>1959-06-15</td>\n",
              "      <td>NaN</td>\n",
              "      <td>NaN</td>\n",
              "    </tr>\n",
              "    <tr>\n",
              "      <th>1</th>\n",
              "      <td>695553</td>\n",
              "      <td>843</td>\n",
              "      <td>2021-05-20</td>\n",
              "      <td>Normal</td>\n",
              "      <td>Man</td>\n",
              "      <td>1960-09-25</td>\n",
              "      <td>32.0</td>\n",
              "      <td>1.0</td>\n",
              "    </tr>\n",
              "    <tr>\n",
              "      <th>2</th>\n",
              "      <td>755310</td>\n",
              "      <td>843</td>\n",
              "      <td>2020-08-24</td>\n",
              "      <td>Normal</td>\n",
              "      <td>Man</td>\n",
              "      <td>1960-09-25</td>\n",
              "      <td>32.0</td>\n",
              "      <td>1.0</td>\n",
              "    </tr>\n",
              "    <tr>\n",
              "      <th>3</th>\n",
              "      <td>992484</td>\n",
              "      <td>1801</td>\n",
              "      <td>2021-07-02</td>\n",
              "      <td>Normal</td>\n",
              "      <td>Woman</td>\n",
              "      <td>1982-12-24</td>\n",
              "      <td>32.0</td>\n",
              "      <td>1.0</td>\n",
              "    </tr>\n",
              "    <tr>\n",
              "      <th>4</th>\n",
              "      <td>964325</td>\n",
              "      <td>296</td>\n",
              "      <td>2021-09-25</td>\n",
              "      <td>Normal</td>\n",
              "      <td>Man</td>\n",
              "      <td>1982-08-17</td>\n",
              "      <td>NaN</td>\n",
              "      <td>NaN</td>\n",
              "    </tr>\n",
              "  </tbody>\n",
              "</table>\n",
              "</div>"
            ],
            "text/plain": [
              "   Credit ID  Customer ID Loan Created Date Type Credit    Sex   Birthday  \\\n",
              "0     857000          483        2020-09-05      Normal  Woman 1959-06-15   \n",
              "1     695553          843        2021-05-20      Normal    Man 1960-09-25   \n",
              "2     755310          843        2020-08-24      Normal    Man 1960-09-25   \n",
              "3     992484         1801        2021-07-02      Normal  Woman 1982-12-24   \n",
              "4     964325          296        2021-09-25      Normal    Man 1982-08-17   \n",
              "\n",
              "   Overdues_Sum  Overdues_Count  \n",
              "0           NaN             NaN  \n",
              "1          32.0             1.0  \n",
              "2          32.0             1.0  \n",
              "3          32.0             1.0  \n",
              "4           NaN             NaN  "
            ]
          },
          "execution_count": 129,
          "metadata": {},
          "output_type": "execute_result"
        }
      ],
      "source": [
        "data.head()"
      ]
    },
    {
      "attachments": {},
      "cell_type": "markdown",
      "metadata": {
        "id": "kJHI26TsXQzL"
      },
      "source": [
        "### Обобщение"
      ]
    },
    {
      "attachments": {},
      "cell_type": "markdown",
      "metadata": {
        "id": "GXpiCdzwJeM7"
      },
      "source": [
        "\n",
        "Исходя из текущего описания данных, у нас нет прямого способа связать просрочки с конкретными кредитами. В нашей таблице history_info у нас есть информация о просрочках ('Overdues') и идентификаторе клиента ('Customer ID'), но нет уникального идентификатора кредита ('Credit ID') для связи с просрочками.  \n",
        "  \n",
        "Если бы у нас была такая информация, мы могли бы использовать ее для более точного объединения данных. Например, если бы у нас был столбец 'Credit ID' в таблице history_info, мы могли бы просто выполнить операцию объединения (merge) с использованием идентификатора кредита.  \n",
        "  \n",
        "Мы вынуждены предположить, что общая история просрочек клиента применима ко всем его кредитам.  "
      ]
    },
    {
      "attachments": {},
      "cell_type": "markdown",
      "metadata": {
        "id": "NVfqgkfCPJk-"
      },
      "source": [
        "## Предобработка"
      ]
    },
    {
      "cell_type": "code",
      "execution_count": 130,
      "metadata": {
        "colab": {
          "base_uri": "https://localhost:8080/",
          "height": 206
        },
        "id": "BJ8LyF2CPejp",
        "outputId": "8343284f-f6dd-442d-d4b1-b8f25d6c4abf"
      },
      "outputs": [
        {
          "data": {
            "text/html": [
              "<div>\n",
              "<style scoped>\n",
              "    .dataframe tbody tr th:only-of-type {\n",
              "        vertical-align: middle;\n",
              "    }\n",
              "\n",
              "    .dataframe tbody tr th {\n",
              "        vertical-align: top;\n",
              "    }\n",
              "\n",
              "    .dataframe thead th {\n",
              "        text-align: right;\n",
              "    }\n",
              "</style>\n",
              "<table border=\"1\" class=\"dataframe\">\n",
              "  <thead>\n",
              "    <tr style=\"text-align: right;\">\n",
              "      <th></th>\n",
              "      <th>Credit ID</th>\n",
              "      <th>Customer ID</th>\n",
              "      <th>Loan Created Date</th>\n",
              "      <th>Type Credit</th>\n",
              "      <th>Sex</th>\n",
              "      <th>Birthday</th>\n",
              "      <th>Overdues_Sum</th>\n",
              "      <th>Overdues_Count</th>\n",
              "    </tr>\n",
              "  </thead>\n",
              "  <tbody>\n",
              "    <tr>\n",
              "      <th>0</th>\n",
              "      <td>857000</td>\n",
              "      <td>483</td>\n",
              "      <td>2020-09-05</td>\n",
              "      <td>Normal</td>\n",
              "      <td>Woman</td>\n",
              "      <td>1959-06-15</td>\n",
              "      <td>NaN</td>\n",
              "      <td>NaN</td>\n",
              "    </tr>\n",
              "    <tr>\n",
              "      <th>1</th>\n",
              "      <td>695553</td>\n",
              "      <td>843</td>\n",
              "      <td>2021-05-20</td>\n",
              "      <td>Normal</td>\n",
              "      <td>Man</td>\n",
              "      <td>1960-09-25</td>\n",
              "      <td>32.0</td>\n",
              "      <td>1.0</td>\n",
              "    </tr>\n",
              "    <tr>\n",
              "      <th>2</th>\n",
              "      <td>755310</td>\n",
              "      <td>843</td>\n",
              "      <td>2020-08-24</td>\n",
              "      <td>Normal</td>\n",
              "      <td>Man</td>\n",
              "      <td>1960-09-25</td>\n",
              "      <td>32.0</td>\n",
              "      <td>1.0</td>\n",
              "    </tr>\n",
              "    <tr>\n",
              "      <th>3</th>\n",
              "      <td>992484</td>\n",
              "      <td>1801</td>\n",
              "      <td>2021-07-02</td>\n",
              "      <td>Normal</td>\n",
              "      <td>Woman</td>\n",
              "      <td>1982-12-24</td>\n",
              "      <td>32.0</td>\n",
              "      <td>1.0</td>\n",
              "    </tr>\n",
              "    <tr>\n",
              "      <th>4</th>\n",
              "      <td>964325</td>\n",
              "      <td>296</td>\n",
              "      <td>2021-09-25</td>\n",
              "      <td>Normal</td>\n",
              "      <td>Man</td>\n",
              "      <td>1982-08-17</td>\n",
              "      <td>NaN</td>\n",
              "      <td>NaN</td>\n",
              "    </tr>\n",
              "  </tbody>\n",
              "</table>\n",
              "</div>"
            ],
            "text/plain": [
              "   Credit ID  Customer ID Loan Created Date Type Credit    Sex   Birthday  \\\n",
              "0     857000          483        2020-09-05      Normal  Woman 1959-06-15   \n",
              "1     695553          843        2021-05-20      Normal    Man 1960-09-25   \n",
              "2     755310          843        2020-08-24      Normal    Man 1960-09-25   \n",
              "3     992484         1801        2021-07-02      Normal  Woman 1982-12-24   \n",
              "4     964325          296        2021-09-25      Normal    Man 1982-08-17   \n",
              "\n",
              "   Overdues_Sum  Overdues_Count  \n",
              "0           NaN             NaN  \n",
              "1          32.0             1.0  \n",
              "2          32.0             1.0  \n",
              "3          32.0             1.0  \n",
              "4           NaN             NaN  "
            ]
          },
          "execution_count": 130,
          "metadata": {},
          "output_type": "execute_result"
        }
      ],
      "source": [
        "data.head()"
      ]
    },
    {
      "cell_type": "code",
      "execution_count": 131,
      "metadata": {
        "colab": {
          "base_uri": "https://localhost:8080/"
        },
        "id": "Zoa3mTqYOe8i",
        "outputId": "640b6c11-c39b-43fa-dfd2-26714a632ad5"
      },
      "outputs": [
        {
          "name": "stdout",
          "output_type": "stream",
          "text": [
            "<class 'pandas.core.frame.DataFrame'>\n",
            "Int64Index: 1000 entries, 0 to 999\n",
            "Data columns (total 8 columns):\n",
            " #   Column             Non-Null Count  Dtype         \n",
            "---  ------             --------------  -----         \n",
            " 0   Credit ID          1000 non-null   int64         \n",
            " 1   Customer ID        1000 non-null   int64         \n",
            " 2   Loan Created Date  1000 non-null   datetime64[ns]\n",
            " 3   Type Credit        1000 non-null   object        \n",
            " 4   Sex                1000 non-null   object        \n",
            " 5   Birthday           1000 non-null   datetime64[ns]\n",
            " 6   Overdues_Sum       1000 non-null   int64         \n",
            " 7   Overdues_Count     1000 non-null   int64         \n",
            "dtypes: datetime64[ns](2), int64(4), object(2)\n",
            "memory usage: 70.3+ KB\n"
          ]
        }
      ],
      "source": [
        "# Заполнение пропущенных значений в просрочках\n",
        "data['Overdues_Sum'] = data['Overdues_Sum'].fillna(0)\n",
        "data['Overdues_Count'] = data['Overdues_Count'].fillna(0)\n",
        "data['Overdues_Sum'] = data['Overdues_Sum'].astype(int)\n",
        "data['Overdues_Count'] = data['Overdues_Count'].astype(int)\n",
        "\n",
        "data.info()"
      ]
    },
    {
      "cell_type": "code",
      "execution_count": 132,
      "metadata": {
        "colab": {
          "base_uri": "https://localhost:8080/"
        },
        "id": "6GQfcL3XO5M2",
        "outputId": "197b266a-ee65-4298-c446-b464908f0257"
      },
      "outputs": [
        {
          "data": {
            "text/plain": [
              "0"
            ]
          },
          "execution_count": 132,
          "metadata": {},
          "output_type": "execute_result"
        }
      ],
      "source": [
        "data.drop_duplicates().duplicated().sum()"
      ]
    },
    {
      "cell_type": "code",
      "execution_count": 133,
      "metadata": {
        "colab": {
          "base_uri": "https://localhost:8080/"
        },
        "id": "wch8zavcTlI9",
        "outputId": "6b5a39d7-cf4b-40c8-996c-40a7a3e3f976"
      },
      "outputs": [
        {
          "data": {
            "text/plain": [
              "Index(['credit_id', 'customer_id', 'loan_created_date', 'type_credit', 'sex',\n",
              "       'birthday', 'overdues_sum', 'overdues_count'],\n",
              "      dtype='object')"
            ]
          },
          "execution_count": 133,
          "metadata": {},
          "output_type": "execute_result"
        }
      ],
      "source": [
        "#Приведем название столбцов к змеиному регистру\n",
        "data.columns = [re.sub(r\"\\b([A-Z])\", r\"_\\1\", col).lower() for col in data.columns]\n",
        "data.columns = [col.lstrip(\"_\") for col in data.columns]\n",
        "data.columns = [re.sub(r'\\s_', '_', i) for i in data.columns]\n",
        "\n",
        "data.columns"
      ]
    },
    {
      "cell_type": "code",
      "execution_count": 134,
      "metadata": {
        "colab": {
          "base_uri": "https://localhost:8080/",
          "height": 394
        },
        "id": "eqh7mvkgTljg",
        "outputId": "274303da-786e-41bf-b5da-25c5192c62d3"
      },
      "outputs": [
        {
          "data": {
            "text/html": [
              "<div>\n",
              "<style scoped>\n",
              "    .dataframe tbody tr th:only-of-type {\n",
              "        vertical-align: middle;\n",
              "    }\n",
              "\n",
              "    .dataframe tbody tr th {\n",
              "        vertical-align: top;\n",
              "    }\n",
              "\n",
              "    .dataframe thead th {\n",
              "        text-align: right;\n",
              "    }\n",
              "</style>\n",
              "<table border=\"1\" class=\"dataframe\">\n",
              "  <thead>\n",
              "    <tr style=\"text-align: right;\">\n",
              "      <th></th>\n",
              "      <th>credit_id</th>\n",
              "      <th>customer_id</th>\n",
              "      <th>loan_created_date</th>\n",
              "      <th>type_credit</th>\n",
              "      <th>sex</th>\n",
              "      <th>birthday</th>\n",
              "      <th>overdues_sum</th>\n",
              "      <th>overdues_count</th>\n",
              "    </tr>\n",
              "  </thead>\n",
              "  <tbody>\n",
              "    <tr>\n",
              "      <th>count</th>\n",
              "      <td>1000.000000</td>\n",
              "      <td>1000.000000</td>\n",
              "      <td>1000</td>\n",
              "      <td>1000</td>\n",
              "      <td>1000</td>\n",
              "      <td>1000</td>\n",
              "      <td>1000.000000</td>\n",
              "      <td>1000.00000</td>\n",
              "    </tr>\n",
              "    <tr>\n",
              "      <th>unique</th>\n",
              "      <td>NaN</td>\n",
              "      <td>NaN</td>\n",
              "      <td>NaN</td>\n",
              "      <td>2</td>\n",
              "      <td>2</td>\n",
              "      <td>NaN</td>\n",
              "      <td>NaN</td>\n",
              "      <td>NaN</td>\n",
              "    </tr>\n",
              "    <tr>\n",
              "      <th>top</th>\n",
              "      <td>NaN</td>\n",
              "      <td>NaN</td>\n",
              "      <td>NaN</td>\n",
              "      <td>Normal</td>\n",
              "      <td>Man</td>\n",
              "      <td>NaN</td>\n",
              "      <td>NaN</td>\n",
              "      <td>NaN</td>\n",
              "    </tr>\n",
              "    <tr>\n",
              "      <th>freq</th>\n",
              "      <td>NaN</td>\n",
              "      <td>NaN</td>\n",
              "      <td>NaN</td>\n",
              "      <td>897</td>\n",
              "      <td>519</td>\n",
              "      <td>NaN</td>\n",
              "      <td>NaN</td>\n",
              "      <td>NaN</td>\n",
              "    </tr>\n",
              "    <tr>\n",
              "      <th>mean</th>\n",
              "      <td>503401.862000</td>\n",
              "      <td>979.259000</td>\n",
              "      <td>2021-06-29 05:03:50.400000</td>\n",
              "      <td>NaN</td>\n",
              "      <td>NaN</td>\n",
              "      <td>1971-11-03 09:50:24</td>\n",
              "      <td>21.246000</td>\n",
              "      <td>1.85900</td>\n",
              "    </tr>\n",
              "    <tr>\n",
              "      <th>min</th>\n",
              "      <td>4639.000000</td>\n",
              "      <td>1.000000</td>\n",
              "      <td>2020-01-01 00:00:00</td>\n",
              "      <td>NaN</td>\n",
              "      <td>NaN</td>\n",
              "      <td>1940-01-06 00:00:00</td>\n",
              "      <td>0.000000</td>\n",
              "      <td>0.00000</td>\n",
              "    </tr>\n",
              "    <tr>\n",
              "      <th>25%</th>\n",
              "      <td>255464.250000</td>\n",
              "      <td>476.000000</td>\n",
              "      <td>2020-09-26 18:00:00</td>\n",
              "      <td>NaN</td>\n",
              "      <td>NaN</td>\n",
              "      <td>1956-01-21 00:00:00</td>\n",
              "      <td>0.000000</td>\n",
              "      <td>1.00000</td>\n",
              "    </tr>\n",
              "    <tr>\n",
              "      <th>50%</th>\n",
              "      <td>498307.000000</td>\n",
              "      <td>974.500000</td>\n",
              "      <td>2021-07-10 12:00:00</td>\n",
              "      <td>NaN</td>\n",
              "      <td>NaN</td>\n",
              "      <td>1971-03-06 00:00:00</td>\n",
              "      <td>0.000000</td>\n",
              "      <td>2.00000</td>\n",
              "    </tr>\n",
              "    <tr>\n",
              "      <th>75%</th>\n",
              "      <td>748615.500000</td>\n",
              "      <td>1469.000000</td>\n",
              "      <td>2022-03-16 00:00:00</td>\n",
              "      <td>NaN</td>\n",
              "      <td>NaN</td>\n",
              "      <td>1987-08-20 00:00:00</td>\n",
              "      <td>34.000000</td>\n",
              "      <td>3.00000</td>\n",
              "    </tr>\n",
              "    <tr>\n",
              "      <th>max</th>\n",
              "      <td>999987.000000</td>\n",
              "      <td>1997.000000</td>\n",
              "      <td>2022-12-30 00:00:00</td>\n",
              "      <td>NaN</td>\n",
              "      <td>NaN</td>\n",
              "      <td>2005-12-16 00:00:00</td>\n",
              "      <td>330.000000</td>\n",
              "      <td>7.00000</td>\n",
              "    </tr>\n",
              "    <tr>\n",
              "      <th>std</th>\n",
              "      <td>287560.165729</td>\n",
              "      <td>579.172789</td>\n",
              "      <td>NaN</td>\n",
              "      <td>NaN</td>\n",
              "      <td>NaN</td>\n",
              "      <td>NaN</td>\n",
              "      <td>38.599967</td>\n",
              "      <td>1.38746</td>\n",
              "    </tr>\n",
              "  </tbody>\n",
              "</table>\n",
              "</div>"
            ],
            "text/plain": [
              "            credit_id  customer_id           loan_created_date type_credit  \\\n",
              "count     1000.000000  1000.000000                        1000        1000   \n",
              "unique            NaN          NaN                         NaN           2   \n",
              "top               NaN          NaN                         NaN      Normal   \n",
              "freq              NaN          NaN                         NaN         897   \n",
              "mean    503401.862000   979.259000  2021-06-29 05:03:50.400000         NaN   \n",
              "min       4639.000000     1.000000         2020-01-01 00:00:00         NaN   \n",
              "25%     255464.250000   476.000000         2020-09-26 18:00:00         NaN   \n",
              "50%     498307.000000   974.500000         2021-07-10 12:00:00         NaN   \n",
              "75%     748615.500000  1469.000000         2022-03-16 00:00:00         NaN   \n",
              "max     999987.000000  1997.000000         2022-12-30 00:00:00         NaN   \n",
              "std     287560.165729   579.172789                         NaN         NaN   \n",
              "\n",
              "         sex             birthday  overdues_sum  overdues_count  \n",
              "count   1000                 1000   1000.000000      1000.00000  \n",
              "unique     2                  NaN           NaN             NaN  \n",
              "top      Man                  NaN           NaN             NaN  \n",
              "freq     519                  NaN           NaN             NaN  \n",
              "mean     NaN  1971-11-03 09:50:24     21.246000         1.85900  \n",
              "min      NaN  1940-01-06 00:00:00      0.000000         0.00000  \n",
              "25%      NaN  1956-01-21 00:00:00      0.000000         1.00000  \n",
              "50%      NaN  1971-03-06 00:00:00      0.000000         2.00000  \n",
              "75%      NaN  1987-08-20 00:00:00     34.000000         3.00000  \n",
              "max      NaN  2005-12-16 00:00:00    330.000000         7.00000  \n",
              "std      NaN                  NaN     38.599967         1.38746  "
            ]
          },
          "execution_count": 134,
          "metadata": {},
          "output_type": "execute_result"
        }
      ],
      "source": [
        "data.describe(include='all', datetime_is_numeric=True)"
      ]
    },
    {
      "cell_type": "code",
      "execution_count": 135,
      "metadata": {
        "colab": {
          "base_uri": "https://localhost:8080/",
          "height": 206
        },
        "id": "Fw1VSk4yUs9X",
        "outputId": "448b1f53-d945-41d7-cc73-3cf28e125310"
      },
      "outputs": [
        {
          "data": {
            "text/html": [
              "<div>\n",
              "<style scoped>\n",
              "    .dataframe tbody tr th:only-of-type {\n",
              "        vertical-align: middle;\n",
              "    }\n",
              "\n",
              "    .dataframe tbody tr th {\n",
              "        vertical-align: top;\n",
              "    }\n",
              "\n",
              "    .dataframe thead th {\n",
              "        text-align: right;\n",
              "    }\n",
              "</style>\n",
              "<table border=\"1\" class=\"dataframe\">\n",
              "  <thead>\n",
              "    <tr style=\"text-align: right;\">\n",
              "      <th></th>\n",
              "      <th>loan_created_date</th>\n",
              "      <th>type_credit</th>\n",
              "      <th>sex</th>\n",
              "      <th>birthday</th>\n",
              "      <th>overdues_sum</th>\n",
              "      <th>overdues_count</th>\n",
              "    </tr>\n",
              "  </thead>\n",
              "  <tbody>\n",
              "    <tr>\n",
              "      <th>0</th>\n",
              "      <td>2020-09-05</td>\n",
              "      <td>Normal</td>\n",
              "      <td>Woman</td>\n",
              "      <td>1959-06-15</td>\n",
              "      <td>0</td>\n",
              "      <td>0</td>\n",
              "    </tr>\n",
              "    <tr>\n",
              "      <th>1</th>\n",
              "      <td>2021-05-20</td>\n",
              "      <td>Normal</td>\n",
              "      <td>Man</td>\n",
              "      <td>1960-09-25</td>\n",
              "      <td>32</td>\n",
              "      <td>1</td>\n",
              "    </tr>\n",
              "    <tr>\n",
              "      <th>2</th>\n",
              "      <td>2020-08-24</td>\n",
              "      <td>Normal</td>\n",
              "      <td>Man</td>\n",
              "      <td>1960-09-25</td>\n",
              "      <td>32</td>\n",
              "      <td>1</td>\n",
              "    </tr>\n",
              "    <tr>\n",
              "      <th>3</th>\n",
              "      <td>2021-07-02</td>\n",
              "      <td>Normal</td>\n",
              "      <td>Woman</td>\n",
              "      <td>1982-12-24</td>\n",
              "      <td>32</td>\n",
              "      <td>1</td>\n",
              "    </tr>\n",
              "    <tr>\n",
              "      <th>4</th>\n",
              "      <td>2021-09-25</td>\n",
              "      <td>Normal</td>\n",
              "      <td>Man</td>\n",
              "      <td>1982-08-17</td>\n",
              "      <td>0</td>\n",
              "      <td>0</td>\n",
              "    </tr>\n",
              "  </tbody>\n",
              "</table>\n",
              "</div>"
            ],
            "text/plain": [
              "  loan_created_date type_credit    sex   birthday  overdues_sum  \\\n",
              "0        2020-09-05      Normal  Woman 1959-06-15             0   \n",
              "1        2021-05-20      Normal    Man 1960-09-25            32   \n",
              "2        2020-08-24      Normal    Man 1960-09-25            32   \n",
              "3        2021-07-02      Normal  Woman 1982-12-24            32   \n",
              "4        2021-09-25      Normal    Man 1982-08-17             0   \n",
              "\n",
              "   overdues_count  \n",
              "0               0  \n",
              "1               1  \n",
              "2               1  \n",
              "3               1  \n",
              "4               0  "
            ]
          },
          "execution_count": 135,
          "metadata": {},
          "output_type": "execute_result"
        }
      ],
      "source": [
        "#Удалим неинформативные столбцы, не нужные для модели credit_id, customer_id\n",
        "data = data.drop(['credit_id', 'customer_id'], axis=1).copy()\n",
        "data.head()\n",
        "\n"
      ]
    },
    {
      "attachments": {},
      "cell_type": "markdown",
      "metadata": {
        "id": "dOom4fW0XJsA"
      },
      "source": [
        "### Обобщение"
      ]
    },
    {
      "attachments": {},
      "cell_type": "markdown",
      "metadata": {
        "id": "w2UR9pvDXjUU"
      },
      "source": [
        "1. Обработали пропуски в overdues, замнили на 0\n",
        "2. Удалили неинформативные столбцы, не нужные для модели credit_id, customer_id\n",
        "3. Привели столбцы к змеиному регистру\n",
        "4. Дубликаты отсутствуют как и пропуски"
      ]
    },
    {
      "attachments": {},
      "cell_type": "markdown",
      "metadata": {
        "id": "_rT-BNa0WJfk"
      },
      "source": [
        "## Анализ данных и добавление дополнительных призанков"
      ]
    },
    {
      "cell_type": "code",
      "execution_count": 136,
      "metadata": {
        "id": "-DZLcUj3YHZ3"
      },
      "outputs": [],
      "source": [
        "# Возраст клиента на момент создания кредит\n",
        "data['age_at_loan'] = (data['loan_created_date'] - data['birthday']).dt.days // 365\n",
        "data = data.drop(['birthday',], axis=1).copy()\n"
      ]
    },
    {
      "cell_type": "code",
      "execution_count": 137,
      "metadata": {
        "id": "9_uF_oMCo3DO"
      },
      "outputs": [],
      "source": [
        "# Берем максимальную дату из loan_created_date\n",
        "max_date = data['loan_created_date'].max()\n",
        "\n",
        "# Вычисление количества дней с момента выдачи кредита\n",
        "data['days_since_loan'] = (max_date - data['loan_created_date']).dt.days\n",
        "data = data.drop('loan_created_date', axis=1)\n"
      ]
    },
    {
      "cell_type": "code",
      "execution_count": 138,
      "metadata": {
        "id": "NoSck57nYWpc"
      },
      "outputs": [],
      "source": [
        "# Среднее количество дней просрочки на одну просрочку\n",
        "data['average_overdue'] = data['overdues_sum'] / data['overdues_count']\n",
        "data['average_overdue'].fillna(0, inplace=True)\n"
      ]
    },
    {
      "cell_type": "code",
      "execution_count": 139,
      "metadata": {
        "colab": {
          "base_uri": "https://localhost:8080/",
          "height": 206
        },
        "id": "K_pxoavaYdeh",
        "outputId": "d9bbf25c-1afa-4da4-c32e-2811ccb68426"
      },
      "outputs": [
        {
          "data": {
            "text/html": [
              "<div>\n",
              "<style scoped>\n",
              "    .dataframe tbody tr th:only-of-type {\n",
              "        vertical-align: middle;\n",
              "    }\n",
              "\n",
              "    .dataframe tbody tr th {\n",
              "        vertical-align: top;\n",
              "    }\n",
              "\n",
              "    .dataframe thead th {\n",
              "        text-align: right;\n",
              "    }\n",
              "</style>\n",
              "<table border=\"1\" class=\"dataframe\">\n",
              "  <thead>\n",
              "    <tr style=\"text-align: right;\">\n",
              "      <th></th>\n",
              "      <th>type_credit</th>\n",
              "      <th>sex</th>\n",
              "      <th>overdues_sum</th>\n",
              "      <th>overdues_count</th>\n",
              "      <th>age_at_loan</th>\n",
              "      <th>days_since_loan</th>\n",
              "      <th>average_overdue</th>\n",
              "    </tr>\n",
              "  </thead>\n",
              "  <tbody>\n",
              "    <tr>\n",
              "      <th>0</th>\n",
              "      <td>Normal</td>\n",
              "      <td>0</td>\n",
              "      <td>0</td>\n",
              "      <td>0</td>\n",
              "      <td>61</td>\n",
              "      <td>846</td>\n",
              "      <td>0.0</td>\n",
              "    </tr>\n",
              "    <tr>\n",
              "      <th>1</th>\n",
              "      <td>Normal</td>\n",
              "      <td>1</td>\n",
              "      <td>32</td>\n",
              "      <td>1</td>\n",
              "      <td>60</td>\n",
              "      <td>589</td>\n",
              "      <td>32.0</td>\n",
              "    </tr>\n",
              "    <tr>\n",
              "      <th>2</th>\n",
              "      <td>Normal</td>\n",
              "      <td>1</td>\n",
              "      <td>32</td>\n",
              "      <td>1</td>\n",
              "      <td>59</td>\n",
              "      <td>858</td>\n",
              "      <td>32.0</td>\n",
              "    </tr>\n",
              "    <tr>\n",
              "      <th>3</th>\n",
              "      <td>Normal</td>\n",
              "      <td>0</td>\n",
              "      <td>32</td>\n",
              "      <td>1</td>\n",
              "      <td>38</td>\n",
              "      <td>546</td>\n",
              "      <td>32.0</td>\n",
              "    </tr>\n",
              "    <tr>\n",
              "      <th>4</th>\n",
              "      <td>Normal</td>\n",
              "      <td>1</td>\n",
              "      <td>0</td>\n",
              "      <td>0</td>\n",
              "      <td>39</td>\n",
              "      <td>461</td>\n",
              "      <td>0.0</td>\n",
              "    </tr>\n",
              "  </tbody>\n",
              "</table>\n",
              "</div>"
            ],
            "text/plain": [
              "  type_credit  sex  overdues_sum  overdues_count  age_at_loan  \\\n",
              "0      Normal    0             0               0           61   \n",
              "1      Normal    1            32               1           60   \n",
              "2      Normal    1            32               1           59   \n",
              "3      Normal    0            32               1           38   \n",
              "4      Normal    1             0               0           39   \n",
              "\n",
              "   days_since_loan  average_overdue  \n",
              "0              846              0.0  \n",
              "1              589             32.0  \n",
              "2              858             32.0  \n",
              "3              546             32.0  \n",
              "4              461              0.0  "
            ]
          },
          "execution_count": 139,
          "metadata": {},
          "output_type": "execute_result"
        }
      ],
      "source": [
        "#кодирование категориального признака 'sex'\n",
        "data['sex'] = data['sex'].map({'Woman': 0, 'Man': 1})\n",
        "data.head()"
      ]
    },
    {
      "cell_type": "code",
      "execution_count": 140,
      "metadata": {
        "id": "cicYSUZAbS-Q"
      },
      "outputs": [],
      "source": [
        "# целевой признак 'type_credit' содержит категории \"Normal\" и \"Problem\", мы можете выполнить бинарное кодирование этого признака\n",
        "data['type_credit'] = data['type_credit'].replace({'Normal': 0, 'Problem': 1})\n"
      ]
    },
    {
      "cell_type": "code",
      "execution_count": 141,
      "metadata": {
        "colab": {
          "base_uri": "https://localhost:8080/",
          "height": 1000
        },
        "id": "cCL78C05Ym_n",
        "outputId": "a3096c2d-9b54-407b-ef2f-75631b2c68da"
      },
      "outputs": [
        {
          "data": {
            "image/png": "[encoded data removed]",
            "text/plain": [
              "<Figure size 1000x400 with 2 Axes>"
            ]
          },
          "metadata": {},
          "output_type": "display_data"
        },
        {
          "data": {
            "image/png": "[encoded data removed]",
            "text/plain": [
              "<Figure size 1000x400 with 2 Axes>"
            ]
          },
          "metadata": {},
          "output_type": "display_data"
        },
        {
          "data": {
            "image/png": "[encoded data removed]",
            "text/plain": [
              "<Figure size 1000x400 with 2 Axes>"
            ]
          },
          "metadata": {},
          "output_type": "display_data"
        },
        {
          "data": {
            "image/png": "[encoded data removed]",
            "text/plain": [
              "<Figure size 1000x400 with 2 Axes>"
            ]
          },
          "metadata": {},
          "output_type": "display_data"
        },
        {
          "data": {
            "image/png": "[encoded data removed]",
            "text/plain": [
              "<Figure size 1000x400 with 2 Axes>"
            ]
          },
          "metadata": {},
          "output_type": "display_data"
        },
        {
          "data": {
            "image/png": "[encoded data removed]",
            "text/plain": [
              "<Figure size 1000x400 with 2 Axes>"
            ]
          },
          "metadata": {},
          "output_type": "display_data"
        }
      ],
      "source": [
        "# Список всех числовых столбцов, кроме целевой переменной\n",
        "features = [col for col in data.select_dtypes(include=[np.number]).columns if col != 'type_credit']\n",
        "\n",
        "# Построение графика для каждого признака\n",
        "for feature in features:\n",
        "    plt.figure(figsize=(10, 4))\n",
        "    \n",
        "    # Построение гистограммы\n",
        "    plt.subplot(1, 2, 1)\n",
        "    sns.histplot(data[feature], bins=30, kde=False)\n",
        "    plt.title(f'Distribution of {feature}')\n",
        "    \n",
        "    # Построение ящика с усами для оценки выбросов\n",
        "    plt.subplot(1, 2, 2)\n",
        "    sns.boxplot(x=data[feature])\n",
        "    plt.title(f'Boxplot of {feature}')\n",
        "    \n",
        "    plt.tight_layout()\n",
        "    plt.show() \n",
        "\n"
      ]
    },
    {
      "cell_type": "code",
      "execution_count": 142,
      "metadata": {
        "colab": {
          "base_uri": "https://localhost:8080/",
          "height": 789
        },
        "id": "cAr2ajXkYrXX",
        "outputId": "f001ae43-3394-4a9f-c155-a9b4bb186b70"
      },
      "outputs": [
        {
          "data": {
            "image/png": "[encoded data removed]",
            "text/plain": [
              "<Figure size 1000x800 with 2 Axes>"
            ]
          },
          "metadata": {},
          "output_type": "display_data"
        }
      ],
      "source": [
        "# Проверим корреляцию\n",
        "corr_matrix = data.corr(numeric_only=True)\n",
        "plt.figure(figsize=(10, 8))\n",
        "sns.heatmap(corr_matrix, annot=True, cmap='coolwarm')\n",
        "plt.show()\n"
      ]
    },
    {
      "attachments": {},
      "cell_type": "markdown",
      "metadata": {
        "id": "KrMnCopMZ6Fb"
      },
      "source": [
        "Мультиколлинеарность может вызвать проблемы в некоторых статистических моделях (например, линейной регрессии), так как они предполагают, что признаки независимы друг от друга. В этих случаях удаление одного из коррелирующих признаков может помочь.  \n",
        "  \n",
        "Однако в контексте многих современных алгоритмов машинного обучения (например, градиентный бустинг или случайный лес), мультиколлинеарность не является большой проблемой, и удаление признаков может привести к потере информации.  "
      ]
    },
    {
      "cell_type": "code",
      "execution_count": 143,
      "metadata": {
        "colab": {
          "base_uri": "https://localhost:8080/"
        },
        "id": "bj3Erv5faf-i",
        "outputId": "80c019d0-5944-4f0d-c224-91faaf0b9704"
      },
      "outputs": [
        {
          "data": {
            "text/plain": [
              "sex\n",
              "0    481\n",
              "1    519\n",
              "Name: type_credit, dtype: int64"
            ]
          },
          "execution_count": 143,
          "metadata": {},
          "output_type": "execute_result"
        }
      ],
      "source": [
        "data.groupby('sex')['type_credit'].count()# рассмотрим целевой признак"
      ]
    },
    {
      "cell_type": "code",
      "execution_count": 144,
      "metadata": {
        "colab": {
          "base_uri": "https://localhost:8080/"
        },
        "id": "Yg-bvZrgbt6a",
        "outputId": "f2d5a07f-e597-430d-fe4f-141153921451"
      },
      "outputs": [
        {
          "data": {
            "text/plain": [
              "sex\n",
              "0    46\n",
              "1    57\n",
              "Name: type_credit, dtype: int64"
            ]
          },
          "execution_count": 144,
          "metadata": {},
          "output_type": "execute_result"
        }
      ],
      "source": [
        "data.groupby('sex')['type_credit'].sum()# количество проблемных кредитов"
      ]
    },
    {
      "cell_type": "code",
      "execution_count": 145,
      "metadata": {
        "colab": {
          "base_uri": "https://localhost:8080/",
          "height": 487
        },
        "id": "GcptTaSxazse",
        "outputId": "3cc1c931-2a3b-4c50-ae94-e2fe11f6e0fe"
      },
      "outputs": [
        {
          "data": {
            "image/png": "[encoded data removed]",
            "text/plain": [
              "<Figure size 500x500 with 1 Axes>"
            ]
          },
          "metadata": {},
          "output_type": "display_data"
        }
      ],
      "source": [
        "problem_credits_per_age = data.groupby('age_at_loan')['type_credit'].sum()# количество проблемных кредитов по возрасту\n",
        "\n",
        "plt.figure(figsize=(5, 5))\n",
        "plt.bar(problem_credits_per_age.index, problem_credits_per_age.values)\n",
        "plt.xlabel('Age at Loan')\n",
        "plt.ylabel('Number of Problem Credits')\n",
        "plt.title('Number of Problem Credits by Age at Loan')\n",
        "plt.show()"
      ]
    },
    {
      "cell_type": "code",
      "execution_count": 146,
      "metadata": {
        "colab": {
          "base_uri": "https://localhost:8080/",
          "height": 487
        },
        "id": "SoHEjaZRa4lw",
        "outputId": "dd16a389-fd39-4459-cfbc-04f382ed642c"
      },
      "outputs": [
        {
          "data": {
            "image/png": "[encoded data removed]",
            "text/plain": [
              "<Figure size 500x500 with 1 Axes>"
            ]
          },
          "metadata": {},
          "output_type": "display_data"
        }
      ],
      "source": [
        "problem_credits_per_overdues = data.groupby('overdues_count')['type_credit'].count()\n",
        "\n",
        "plt.figure(figsize=(5, 5))\n",
        "plt.bar(problem_credits_per_overdues.index, problem_credits_per_overdues.values)\n",
        "plt.xlabel('Overdues Count')\n",
        "plt.ylabel('Number of Problem Credits')\n",
        "plt.title('Number of Problem Credits by Overdues Count')\n",
        "plt.show()\n"
      ]
    },
    {
      "cell_type": "code",
      "execution_count": 147,
      "metadata": {
        "colab": {
          "base_uri": "https://localhost:8080/",
          "height": 564
        },
        "id": "zYg3DjLadGb3",
        "outputId": "251282a4-e41d-4fbf-feb1-b8afb27ab553"
      },
      "outputs": [
        {
          "data": {
            "image/png": "[encoded data removed]",
            "text/plain": [
              "<Figure size 1000x600 with 1 Axes>"
            ]
          },
          "metadata": {},
          "output_type": "display_data"
        }
      ],
      "source": [
        "problem_credits_per_overdues_sum = data.groupby('overdues_sum')['type_credit'].sum()\n",
        "\n",
        "plt.figure(figsize=(10, 6))\n",
        "plt.bar(problem_credits_per_overdues_sum.index, problem_credits_per_overdues_sum.values)\n",
        "plt.xlabel('Overdues Sum')\n",
        "plt.ylabel('Number of Problem Credits')\n",
        "plt.title('Number of Problem Credits by Overdues Sum')\n",
        "plt.show()\n"
      ]
    },
    {
      "attachments": {},
      "cell_type": "markdown",
      "metadata": {
        "id": "cTlXxErsed2n"
      },
      "source": [
        "### Вывод "
      ]
    },
    {
      "attachments": {},
      "cell_type": "markdown",
      "metadata": {
        "id": "v8NN82VLe0rf"
      },
      "source": [
        "1. У большинства клиентов отсутствуют просрочки по платежам (то есть 'overdues_sum' равен 0). Это нормально и соответствует общей динамике кредитования: большинство клиентов погашают свои кредиты в срок, а проблемные кредиты — это относительно редкий случай.\n",
        "2. Больше всего проблемных кредитов у 50-летних\n",
        "3. Клиенты, которые допустили хотя бы одну просрочку, могут стать менее дисциплинированными в погашении кредита, что увеличивает вероятность проблем с кредитом.\n",
        "4. Присутствуют выбросы"
      ]
    },
    {
      "attachments": {},
      "cell_type": "markdown",
      "metadata": {
        "id": "zJ86WVdUgKKK"
      },
      "source": [
        "## Основная часть "
      ]
    },
    {
      "cell_type": "code",
      "execution_count": 148,
      "metadata": {
        "colab": {
          "base_uri": "https://localhost:8080/",
          "height": 424
        },
        "id": "d0YB2nCEg1tN",
        "outputId": "ed676761-b4bf-4db6-a15c-87abb69c8dda"
      },
      "outputs": [
        {
          "data": {
            "text/html": [
              "<div>\n",
              "<style scoped>\n",
              "    .dataframe tbody tr th:only-of-type {\n",
              "        vertical-align: middle;\n",
              "    }\n",
              "\n",
              "    .dataframe tbody tr th {\n",
              "        vertical-align: top;\n",
              "    }\n",
              "\n",
              "    .dataframe thead th {\n",
              "        text-align: right;\n",
              "    }\n",
              "</style>\n",
              "<table border=\"1\" class=\"dataframe\">\n",
              "  <thead>\n",
              "    <tr style=\"text-align: right;\">\n",
              "      <th></th>\n",
              "      <th>type_credit</th>\n",
              "      <th>sex</th>\n",
              "      <th>overdues_sum</th>\n",
              "      <th>overdues_count</th>\n",
              "      <th>age_at_loan</th>\n",
              "      <th>days_since_loan</th>\n",
              "      <th>average_overdue</th>\n",
              "    </tr>\n",
              "  </thead>\n",
              "  <tbody>\n",
              "    <tr>\n",
              "      <th>0</th>\n",
              "      <td>0</td>\n",
              "      <td>0</td>\n",
              "      <td>0</td>\n",
              "      <td>0</td>\n",
              "      <td>61</td>\n",
              "      <td>846</td>\n",
              "      <td>0.000000</td>\n",
              "    </tr>\n",
              "    <tr>\n",
              "      <th>1</th>\n",
              "      <td>0</td>\n",
              "      <td>1</td>\n",
              "      <td>32</td>\n",
              "      <td>1</td>\n",
              "      <td>60</td>\n",
              "      <td>589</td>\n",
              "      <td>32.000000</td>\n",
              "    </tr>\n",
              "    <tr>\n",
              "      <th>2</th>\n",
              "      <td>0</td>\n",
              "      <td>1</td>\n",
              "      <td>32</td>\n",
              "      <td>1</td>\n",
              "      <td>59</td>\n",
              "      <td>858</td>\n",
              "      <td>32.000000</td>\n",
              "    </tr>\n",
              "    <tr>\n",
              "      <th>3</th>\n",
              "      <td>0</td>\n",
              "      <td>0</td>\n",
              "      <td>32</td>\n",
              "      <td>1</td>\n",
              "      <td>38</td>\n",
              "      <td>546</td>\n",
              "      <td>32.000000</td>\n",
              "    </tr>\n",
              "    <tr>\n",
              "      <th>4</th>\n",
              "      <td>0</td>\n",
              "      <td>1</td>\n",
              "      <td>0</td>\n",
              "      <td>0</td>\n",
              "      <td>39</td>\n",
              "      <td>461</td>\n",
              "      <td>0.000000</td>\n",
              "    </tr>\n",
              "    <tr>\n",
              "      <th>...</th>\n",
              "      <td>...</td>\n",
              "      <td>...</td>\n",
              "      <td>...</td>\n",
              "      <td>...</td>\n",
              "      <td>...</td>\n",
              "      <td>...</td>\n",
              "      <td>...</td>\n",
              "    </tr>\n",
              "    <tr>\n",
              "      <th>995</th>\n",
              "      <td>0</td>\n",
              "      <td>1</td>\n",
              "      <td>0</td>\n",
              "      <td>1</td>\n",
              "      <td>22</td>\n",
              "      <td>977</td>\n",
              "      <td>0.000000</td>\n",
              "    </tr>\n",
              "    <tr>\n",
              "      <th>996</th>\n",
              "      <td>0</td>\n",
              "      <td>1</td>\n",
              "      <td>79</td>\n",
              "      <td>6</td>\n",
              "      <td>28</td>\n",
              "      <td>441</td>\n",
              "      <td>13.166667</td>\n",
              "    </tr>\n",
              "    <tr>\n",
              "      <th>997</th>\n",
              "      <td>1</td>\n",
              "      <td>1</td>\n",
              "      <td>0</td>\n",
              "      <td>0</td>\n",
              "      <td>64</td>\n",
              "      <td>1005</td>\n",
              "      <td>0.000000</td>\n",
              "    </tr>\n",
              "    <tr>\n",
              "      <th>998</th>\n",
              "      <td>0</td>\n",
              "      <td>0</td>\n",
              "      <td>0</td>\n",
              "      <td>1</td>\n",
              "      <td>31</td>\n",
              "      <td>62</td>\n",
              "      <td>0.000000</td>\n",
              "    </tr>\n",
              "    <tr>\n",
              "      <th>999</th>\n",
              "      <td>0</td>\n",
              "      <td>0</td>\n",
              "      <td>0</td>\n",
              "      <td>2</td>\n",
              "      <td>67</td>\n",
              "      <td>209</td>\n",
              "      <td>0.000000</td>\n",
              "    </tr>\n",
              "  </tbody>\n",
              "</table>\n",
              "<p>1000 rows × 7 columns</p>\n",
              "</div>"
            ],
            "text/plain": [
              "     type_credit  sex  overdues_sum  overdues_count  age_at_loan  \\\n",
              "0              0    0             0               0           61   \n",
              "1              0    1            32               1           60   \n",
              "2              0    1            32               1           59   \n",
              "3              0    0            32               1           38   \n",
              "4              0    1             0               0           39   \n",
              "..           ...  ...           ...             ...          ...   \n",
              "995            0    1             0               1           22   \n",
              "996            0    1            79               6           28   \n",
              "997            1    1             0               0           64   \n",
              "998            0    0             0               1           31   \n",
              "999            0    0             0               2           67   \n",
              "\n",
              "     days_since_loan  average_overdue  \n",
              "0                846         0.000000  \n",
              "1                589        32.000000  \n",
              "2                858        32.000000  \n",
              "3                546        32.000000  \n",
              "4                461         0.000000  \n",
              "..               ...              ...  \n",
              "995              977         0.000000  \n",
              "996              441        13.166667  \n",
              "997             1005         0.000000  \n",
              "998               62         0.000000  \n",
              "999              209         0.000000  \n",
              "\n",
              "[1000 rows x 7 columns]"
            ]
          },
          "execution_count": 148,
          "metadata": {},
          "output_type": "execute_result"
        }
      ],
      "source": [
        "data"
      ]
    },
    {
      "attachments": {},
      "cell_type": "markdown",
      "metadata": {
        "id": "YXm1Y6xSgNsY"
      },
      "source": [
        " ### Разобьем данные на выборки"
      ]
    },
    {
      "cell_type": "code",
      "execution_count": 149,
      "metadata": {
        "id": "K4Pdx5z_yB2S"
      },
      "outputs": [],
      "source": [
        "# отделим 20% данных для тестовой выборки выборки (для проверки модели)\n",
        "target = data['type_credit']\n",
        "features = data.drop(['type_credit'] , axis=1)\n",
        "features_other, features_test, target_other, target_test = train_test_split(\n",
        "    features, target, test_size=0.2, random_state=453)"
      ]
    },
    {
      "cell_type": "code",
      "execution_count": 150,
      "metadata": {
        "id": "W08ZZ1NRyLR3"
      },
      "outputs": [],
      "source": [
        "# отделим 25% данных(от other) для разделения на обучающую и валидационную выборку\n",
        "features_train, features_valid, target_train, target_valid = train_test_split(\n",
        "    features_other, target_other, test_size=0.25, random_state=453)"
      ]
    },
    {
      "cell_type": "code",
      "execution_count": 151,
      "metadata": {
        "colab": {
          "base_uri": "https://localhost:8080/"
        },
        "id": "Qb4CPEy_gVmD",
        "outputId": "c615bf40-7467-4254-c666-00cba39d30b5"
      },
      "outputs": [
        {
          "name": "stdout",
          "output_type": "stream",
          "text": [
            "Размер обучающей выборки 600\n",
            "Размер валидационной выборки 200\n",
            "Размер тестовой выборки 200\n"
          ]
        }
      ],
      "source": [
        "print('Размер обучающей выборки', len(features_train))\n",
        "print('Размер валидационной выборки', len(features_valid))\n",
        "print('Размер тестовой выборки', len(features_test))"
      ]
    },
    {
      "attachments": {},
      "cell_type": "markdown",
      "metadata": {
        "id": "fmkr3-ODl7f7"
      },
      "source": [
        "### Масштабирование"
      ]
    },
    {
      "cell_type": "code",
      "execution_count": 152,
      "metadata": {
        "colab": {
          "base_uri": "https://localhost:8080/"
        },
        "id": "i2ZkLIlgy9FY",
        "outputId": "cb10b87f-adfc-4570-ebb9-ccad31930183"
      },
      "outputs": [
        {
          "data": {
            "text/plain": [
              "Index(['sex', 'overdues_sum', 'overdues_count', 'age_at_loan',\n",
              "       'days_since_loan', 'average_overdue'],\n",
              "      dtype='object')"
            ]
          },
          "execution_count": 152,
          "metadata": {},
          "output_type": "execute_result"
        }
      ],
      "source": [
        "features.columns"
      ]
    },
    {
      "cell_type": "code",
      "execution_count": 153,
      "metadata": {
        "id": "AeQlYi9DmE_0"
      },
      "outputs": [],
      "source": [
        "scaler = StandardScaler()\n",
        "scaler.fit(features_train)\n",
        "features_train = pd.DataFrame(scaler.transform(features_train), columns = features.columns)\n",
        "features_valid = pd.DataFrame(scaler.transform(features_valid), columns = features.columns)\n",
        "features_test = pd.DataFrame(scaler.transform(features_test), columns = features.columns)"
      ]
    },
    {
      "cell_type": "code",
      "execution_count": 154,
      "metadata": {
        "colab": {
          "base_uri": "https://localhost:8080/",
          "height": 424
        },
        "id": "6vSlKHszyqV1",
        "outputId": "9479b05d-9239-44ef-ccea-884a9368e750"
      },
      "outputs": [
        {
          "data": {
            "text/html": [
              "<div>\n",
              "<style scoped>\n",
              "    .dataframe tbody tr th:only-of-type {\n",
              "        vertical-align: middle;\n",
              "    }\n",
              "\n",
              "    .dataframe tbody tr th {\n",
              "        vertical-align: top;\n",
              "    }\n",
              "\n",
              "    .dataframe thead th {\n",
              "        text-align: right;\n",
              "    }\n",
              "</style>\n",
              "<table border=\"1\" class=\"dataframe\">\n",
              "  <thead>\n",
              "    <tr style=\"text-align: right;\">\n",
              "      <th></th>\n",
              "      <th>sex</th>\n",
              "      <th>overdues_sum</th>\n",
              "      <th>overdues_count</th>\n",
              "      <th>age_at_loan</th>\n",
              "      <th>days_since_loan</th>\n",
              "      <th>average_overdue</th>\n",
              "    </tr>\n",
              "  </thead>\n",
              "  <tbody>\n",
              "    <tr>\n",
              "      <th>0</th>\n",
              "      <td>0.932287</td>\n",
              "      <td>0.969643</td>\n",
              "      <td>0.093744</td>\n",
              "      <td>0.358781</td>\n",
              "      <td>-0.348477</td>\n",
              "      <td>1.148507</td>\n",
              "    </tr>\n",
              "    <tr>\n",
              "      <th>1</th>\n",
              "      <td>0.932287</td>\n",
              "      <td>-0.539007</td>\n",
              "      <td>-0.627362</td>\n",
              "      <td>-0.345774</td>\n",
              "      <td>0.112665</td>\n",
              "      <td>-0.547296</td>\n",
              "    </tr>\n",
              "    <tr>\n",
              "      <th>2</th>\n",
              "      <td>0.932287</td>\n",
              "      <td>-0.539007</td>\n",
              "      <td>-0.627362</td>\n",
              "      <td>1.280123</td>\n",
              "      <td>0.083843</td>\n",
              "      <td>-0.547296</td>\n",
              "    </tr>\n",
              "    <tr>\n",
              "      <th>3</th>\n",
              "      <td>0.932287</td>\n",
              "      <td>-0.539007</td>\n",
              "      <td>-0.627362</td>\n",
              "      <td>-0.887740</td>\n",
              "      <td>0.810781</td>\n",
              "      <td>-0.547296</td>\n",
              "    </tr>\n",
              "    <tr>\n",
              "      <th>4</th>\n",
              "      <td>-1.072631</td>\n",
              "      <td>-0.539007</td>\n",
              "      <td>-1.348468</td>\n",
              "      <td>-0.725150</td>\n",
              "      <td>-1.533353</td>\n",
              "      <td>-0.547296</td>\n",
              "    </tr>\n",
              "    <tr>\n",
              "      <th>...</th>\n",
              "      <td>...</td>\n",
              "      <td>...</td>\n",
              "      <td>...</td>\n",
              "      <td>...</td>\n",
              "      <td>...</td>\n",
              "      <td>...</td>\n",
              "    </tr>\n",
              "    <tr>\n",
              "      <th>195</th>\n",
              "      <td>-1.072631</td>\n",
              "      <td>-0.539007</td>\n",
              "      <td>-0.627362</td>\n",
              "      <td>-1.429706</td>\n",
              "      <td>0.125474</td>\n",
              "      <td>-0.547296</td>\n",
              "    </tr>\n",
              "    <tr>\n",
              "      <th>196</th>\n",
              "      <td>0.932287</td>\n",
              "      <td>-0.539007</td>\n",
              "      <td>-0.627362</td>\n",
              "      <td>-1.212919</td>\n",
              "      <td>0.894043</td>\n",
              "      <td>-0.547296</td>\n",
              "    </tr>\n",
              "    <tr>\n",
              "      <th>197</th>\n",
              "      <td>-1.072631</td>\n",
              "      <td>-0.539007</td>\n",
              "      <td>-1.348468</td>\n",
              "      <td>-1.700689</td>\n",
              "      <td>-0.502190</td>\n",
              "      <td>-0.547296</td>\n",
              "    </tr>\n",
              "    <tr>\n",
              "      <th>198</th>\n",
              "      <td>-1.072631</td>\n",
              "      <td>-0.539007</td>\n",
              "      <td>-0.627362</td>\n",
              "      <td>-0.725150</td>\n",
              "      <td>-1.222724</td>\n",
              "      <td>-0.547296</td>\n",
              "    </tr>\n",
              "    <tr>\n",
              "      <th>199</th>\n",
              "      <td>-1.072631</td>\n",
              "      <td>-0.539007</td>\n",
              "      <td>0.093744</td>\n",
              "      <td>-1.375509</td>\n",
              "      <td>-0.476571</td>\n",
              "      <td>-0.547296</td>\n",
              "    </tr>\n",
              "  </tbody>\n",
              "</table>\n",
              "<p>200 rows × 6 columns</p>\n",
              "</div>"
            ],
            "text/plain": [
              "          sex  overdues_sum  overdues_count  age_at_loan  days_since_loan  \\\n",
              "0    0.932287      0.969643        0.093744     0.358781        -0.348477   \n",
              "1    0.932287     -0.539007       -0.627362    -0.345774         0.112665   \n",
              "2    0.932287     -0.539007       -0.627362     1.280123         0.083843   \n",
              "3    0.932287     -0.539007       -0.627362    -0.887740         0.810781   \n",
              "4   -1.072631     -0.539007       -1.348468    -0.725150        -1.533353   \n",
              "..        ...           ...             ...          ...              ...   \n",
              "195 -1.072631     -0.539007       -0.627362    -1.429706         0.125474   \n",
              "196  0.932287     -0.539007       -0.627362    -1.212919         0.894043   \n",
              "197 -1.072631     -0.539007       -1.348468    -1.700689        -0.502190   \n",
              "198 -1.072631     -0.539007       -0.627362    -0.725150        -1.222724   \n",
              "199 -1.072631     -0.539007        0.093744    -1.375509        -0.476571   \n",
              "\n",
              "     average_overdue  \n",
              "0           1.148507  \n",
              "1          -0.547296  \n",
              "2          -0.547296  \n",
              "3          -0.547296  \n",
              "4          -0.547296  \n",
              "..               ...  \n",
              "195        -0.547296  \n",
              "196        -0.547296  \n",
              "197        -0.547296  \n",
              "198        -0.547296  \n",
              "199        -0.547296  \n",
              "\n",
              "[200 rows x 6 columns]"
            ]
          },
          "execution_count": 154,
          "metadata": {},
          "output_type": "execute_result"
        }
      ],
      "source": [
        "features_test"
      ]
    },
    {
      "attachments": {},
      "cell_type": "markdown",
      "metadata": {
        "id": "V-6fPMjUtoec"
      },
      "source": [
        "### Дисбаланс классов"
      ]
    },
    {
      "cell_type": "code",
      "execution_count": 155,
      "metadata": {
        "colab": {
          "base_uri": "https://localhost:8080/"
        },
        "id": "Kz23HNPCrU_c",
        "outputId": "3a8f63f9-f8f6-44ed-fe14-d5d174638b6c"
      },
      "outputs": [
        {
          "data": {
            "text/plain": [
              "type_credit\n",
              "0    897\n",
              "1    103\n",
              "Name: type_credit, dtype: int64"
            ]
          },
          "execution_count": 155,
          "metadata": {},
          "output_type": "execute_result"
        }
      ],
      "source": [
        "data.groupby('type_credit')['type_credit'].count()# рассмотрим целевой признак. Каждый 9 кредит проблемный. Наблюдается дисбаланс классов"
      ]
    },
    {
      "attachments": {},
      "cell_type": "markdown",
      "metadata": {
        "id": "fKvx3t6HsEIT"
      },
      "source": [
        "В большинстве моделей есть параметр для взвешивания классов во время обучения модели. Например, в случае логистической регрессии, мы можем установить параметр class_weight='balanced', и модель автоматически придаст больший вес миноритарному классу."
      ]
    },
    {
      "attachments": {},
      "cell_type": "markdown",
      "metadata": {
        "id": "-VotZqEgmJMa"
      },
      "source": [
        "### Обучение и выбор моделей"
      ]
    },
    {
      "cell_type": "code",
      "execution_count": 156,
      "metadata": {
        "id": "hrS_QsLSqDku"
      },
      "outputs": [],
      "source": [
        "#для удобства вывода в дальнейшем - соберем показатели в списки\n",
        "\n",
        "tabl_model = []\n",
        "tabl_prec = []\n",
        "tabl_not = []\n",
        "tabl_roc_auc = []\n",
        "tabl_gini = []\n"
      ]
    },
    {
      "attachments": {},
      "cell_type": "markdown",
      "metadata": {
        "id": "F-gsimAy1BIB"
      },
      "source": [
        "### class_weight='balanced'"
      ]
    },
    {
      "attachments": {},
      "cell_type": "markdown",
      "metadata": {
        "id": "t8PKj9pL3h5n"
      },
      "source": [
        "#### CatBoostClassifier"
      ]
    },
    {
      "cell_type": "code",
      "execution_count": 157,
      "metadata": {
        "colab": {
          "base_uri": "https://localhost:8080/"
        },
        "id": "nN6MZ0Dj3ppb",
        "outputId": "0ab8feb0-d879-49fb-c54f-c8aac5aa9131"
      },
      "outputs": [
        {
          "name": "stdout",
          "output_type": "stream",
          "text": [
            "F1: 0.16666666666666666\n",
            "AUC_ROC = 0.605\n",
            "\n",
            "Gini Index = 0.210\n",
            "\n"
          ]
        }
      ],
      "source": [
        "model = CatBoostClassifier(\n",
        "    iterations=1000, \n",
        "    depth=5, \n",
        "    learning_rate=0.1, \n",
        "    custom_loss=['AUC', 'Accuracy'],\n",
        "    random_seed=453,\n",
        "    verbose=False\n",
        ")\n",
        "\n",
        "model.fit(features_train, target_train)\n",
        "\n",
        "predicted_valid = model.predict(features_valid)\n",
        "print(\"F1:\", f1_score(target_valid, predicted_valid))\n",
        "\n",
        "probabilities_valid = model.predict_proba(features_valid)[:, 1]\n",
        "auc_roc = roc_auc_score(target_valid, probabilities_valid)\n",
        "print(\"AUC_ROC = {:.3f}\\n\".format(auc_roc))\n",
        "\n",
        "gini = 2 * auc_roc - 1\n",
        "print(\"Gini Index = {:.3f}\\n\".format(gini))\n",
        "tabl_gini.append(round(gini, 2))\n"
      ]
    },
    {
      "cell_type": "code",
      "execution_count": 158,
      "metadata": {
        "id": "_j1Cukg66UvX"
      },
      "outputs": [],
      "source": [
        "tabl_prec.append(round(f1_score(target_valid, predicted_valid), 2))\n",
        "tabl_roc_auc.append(round(auc_roc, 2))\n",
        "tabl_model.append('CatBoostClassifier')\n",
        "tabl_not.append('class_weight')\n"
      ]
    },
    {
      "attachments": {},
      "cell_type": "markdown",
      "metadata": {
        "id": "pMW6Snog1PXK"
      },
      "source": [
        "#### LogisticRegression"
      ]
    },
    {
      "cell_type": "code",
      "execution_count": 159,
      "metadata": {
        "colab": {
          "base_uri": "https://localhost:8080/"
        },
        "id": "1T9BZoXNz0aO",
        "outputId": "1a69658b-0799-4a8b-e4a8-9e6826e04c9d"
      },
      "outputs": [
        {
          "name": "stdout",
          "output_type": "stream",
          "text": [
            "F1: 0.19047619047619044\n",
            "AUC_ROC = 0.674\n",
            "\n",
            "Gini Index = 0.347\n",
            "\n"
          ]
        }
      ],
      "source": [
        "model = LogisticRegression(penalty='l2', solver='liblinear', random_state=453, class_weight='balanced')\n",
        "model.fit(features_train, target_train) \n",
        "predicted_valid = model.predict(features_valid)\n",
        "print(\"F1:\", f1_score(target_valid, predicted_valid))\n",
        "\n",
        "probabilities_valid = model.predict_proba(features_valid)[:, 1]\n",
        "auc_roc = roc_auc_score(target_valid, probabilities_valid)\n",
        "print(\"AUC_ROC = {:.3f}\\n\".format(auc_roc))\n",
        "\n",
        "gini = 2 * auc_roc - 1\n",
        "print(\"Gini Index = {:.3f}\\n\".format(gini))\n",
        "tabl_gini.append(round(gini, 2))"
      ]
    },
    {
      "cell_type": "code",
      "execution_count": 160,
      "metadata": {
        "id": "okd1MTJZz_to"
      },
      "outputs": [],
      "source": [
        "tabl_prec.append(round(f1_score(target_valid, predicted_valid), 2))\n",
        "tabl_roc_auc.append(round(auc_roc, 2))\n",
        "tabl_model.append('LogisticRegression')\n",
        "tabl_not.append('class_weight')"
      ]
    },
    {
      "attachments": {},
      "cell_type": "markdown",
      "metadata": {
        "id": "Uib1dSTO1TrC"
      },
      "source": [
        "#### Модель Дерево решений "
      ]
    },
    {
      "cell_type": "code",
      "execution_count": 161,
      "metadata": {
        "colab": {
          "base_uri": "https://localhost:8080/"
        },
        "id": "qnJadDnJ0C5w",
        "outputId": "8f24a68b-1d18-4043-c2de-fe39a4f9177d"
      },
      "outputs": [
        {
          "name": "stdout",
          "output_type": "stream",
          "text": [
            "F1 лучшей модели: 0.20833333333333334\n",
            "max_depth лучшей модели: DecisionTreeClassifier(class_weight='balanced', max_depth=4, random_state=453)\n",
            "AUC_ROC = 0.685\n",
            "\n",
            "Gini Index = 0.370\n",
            "\n",
            "CPU times: user 89.2 ms, sys: 0 ns, total: 89.2 ms\n",
            "Wall time: 88.9 ms\n"
          ]
        }
      ],
      "source": [
        "%%time\n",
        "1 + 1\n",
        "best_model = None\n",
        "best_result = 0\n",
        "for depth in range(1, 15):\n",
        "\tmodel = DecisionTreeClassifier(max_depth=depth, random_state=453, class_weight='balanced') \n",
        "\tmodel.fit(features_train, target_train) \n",
        "\tpredicted_valid = model.predict(features_valid) \n",
        "\tresult = f1_score(target_valid, predicted_valid) \n",
        "\tif result > best_result:\n",
        "\t\tbest_model = model\n",
        "\t\tbest_result = result\n",
        "\n",
        "print(\"F1 лучшей модели:\", best_result)\n",
        "print(\"max_depth лучшей модели:\", best_model)\n",
        "\n",
        "probabilities_valid = best_model.predict_proba(features_valid)[:, 1]\n",
        "auc_roc = roc_auc_score(target_valid, probabilities_valid)\n",
        "print(\"AUC_ROC = {:.3f}\\n\".format(auc_roc))\n",
        "\n",
        "gini = 2 * auc_roc - 1\n",
        "print(\"Gini Index = {:.3f}\\n\".format(gini))\n",
        "tabl_gini.append(round(gini, 2))"
      ]
    },
    {
      "cell_type": "code",
      "execution_count": 162,
      "metadata": {
        "id": "kG3WSpJQ3aoa"
      },
      "outputs": [],
      "source": [
        "tabl_prec.append(round((best_result), 2))\n",
        "tabl_roc_auc.append(round(auc_roc,2))\n",
        "tabl_model.append('DecisionTreeClassifier')\n",
        "tabl_not.append('class_weight')"
      ]
    },
    {
      "attachments": {},
      "cell_type": "markdown",
      "metadata": {
        "id": "7O9ITYiA1Vv0"
      },
      "source": [
        "#### Модель случайный лес"
      ]
    },
    {
      "cell_type": "code",
      "execution_count": 163,
      "metadata": {
        "colab": {
          "base_uri": "https://localhost:8080/"
        },
        "id": "1VEoZ90k3Rii",
        "outputId": "2cf3a59b-7c89-4dd1-ed15-28b001470d73"
      },
      "outputs": [
        {
          "name": "stdout",
          "output_type": "stream",
          "text": [
            "F1: 0.1379310344827586\n",
            "AUC_ROC = 0.685\n",
            "\n",
            "Gini Index = 0.370\n",
            "\n",
            "CPU times: user 67.4 ms, sys: 3.21 ms, total: 70.6 ms\n",
            "Wall time: 74.9 ms\n"
          ]
        }
      ],
      "source": [
        "%%time\n",
        "1 + 1\n",
        "\n",
        "model = RandomForestClassifier(class_weight='balanced', max_depth=17, min_samples_leaf=2, min_samples_split=12,\n",
        "                       n_estimators=30,random_state=453)\n",
        "\n",
        "model.fit(features_train, target_train)\n",
        "predicted_valid = model.predict(features_valid)\n",
        "print(\"F1:\", f1_score(target_valid, predicted_valid))\n",
        "\n",
        "probabilities_valid = best_model.predict_proba(features_valid)[:, 1]\n",
        "auc_roc = roc_auc_score(target_valid, probabilities_valid)\n",
        "print(\"AUC_ROC = {:.3f}\\n\".format(auc_roc))\n",
        "\n",
        "\n",
        "gini = 2 * auc_roc - 1\n",
        "print(\"Gini Index = {:.3f}\\n\".format(gini))\n",
        "tabl_gini.append(round(gini, 2))"
      ]
    },
    {
      "cell_type": "code",
      "execution_count": 164,
      "metadata": {
        "id": "OlDYZd1Y3UoU"
      },
      "outputs": [],
      "source": [
        "tabl_prec.append(round(f1_score(target_valid, predicted_valid), 2))\n",
        "tabl_roc_auc.append(round(auc_roc,2))\n",
        "tabl_model.append('RandomForestClassifier')\n",
        "tabl_not.append('class_weight')\n"
      ]
    },
    {
      "cell_type": "code",
      "execution_count": 165,
      "metadata": {
        "colab": {
          "base_uri": "https://localhost:8080/",
          "height": 175
        },
        "id": "lV_p4rd23YWq",
        "outputId": "81038c23-6fda-44b3-f923-5388027d1279"
      },
      "outputs": [
        {
          "data": {
            "text/html": [
              "<div>\n",
              "<style scoped>\n",
              "    .dataframe tbody tr th:only-of-type {\n",
              "        vertical-align: middle;\n",
              "    }\n",
              "\n",
              "    .dataframe tbody tr th {\n",
              "        vertical-align: top;\n",
              "    }\n",
              "\n",
              "    .dataframe thead th {\n",
              "        text-align: right;\n",
              "    }\n",
              "</style>\n",
              "<table border=\"1\" class=\"dataframe\">\n",
              "  <thead>\n",
              "    <tr style=\"text-align: right;\">\n",
              "      <th></th>\n",
              "      <th>Model</th>\n",
              "      <th>F1 score</th>\n",
              "      <th>ROC-AUC</th>\n",
              "      <th>Gini Index</th>\n",
              "      <th>Notice</th>\n",
              "    </tr>\n",
              "  </thead>\n",
              "  <tbody>\n",
              "    <tr>\n",
              "      <th>0</th>\n",
              "      <td>DecisionTreeClassifier</td>\n",
              "      <td>0.21</td>\n",
              "      <td>0.69</td>\n",
              "      <td>0.37</td>\n",
              "      <td>class_weight</td>\n",
              "    </tr>\n",
              "    <tr>\n",
              "      <th>1</th>\n",
              "      <td>RandomForestClassifier</td>\n",
              "      <td>0.14</td>\n",
              "      <td>0.69</td>\n",
              "      <td>0.37</td>\n",
              "      <td>class_weight</td>\n",
              "    </tr>\n",
              "    <tr>\n",
              "      <th>2</th>\n",
              "      <td>LogisticRegression</td>\n",
              "      <td>0.19</td>\n",
              "      <td>0.67</td>\n",
              "      <td>0.35</td>\n",
              "      <td>class_weight</td>\n",
              "    </tr>\n",
              "    <tr>\n",
              "      <th>3</th>\n",
              "      <td>CatBoostClassifier</td>\n",
              "      <td>0.17</td>\n",
              "      <td>0.61</td>\n",
              "      <td>0.21</td>\n",
              "      <td>class_weight</td>\n",
              "    </tr>\n",
              "  </tbody>\n",
              "</table>\n",
              "</div>"
            ],
            "text/plain": [
              "                    Model  F1 score  ROC-AUC  Gini Index        Notice\n",
              "0  DecisionTreeClassifier      0.21     0.69        0.37  class_weight\n",
              "1  RandomForestClassifier      0.14     0.69        0.37  class_weight\n",
              "2      LogisticRegression      0.19     0.67        0.35  class_weight\n",
              "3      CatBoostClassifier      0.17     0.61        0.21  class_weight"
            ]
          },
          "execution_count": 165,
          "metadata": {},
          "output_type": "execute_result"
        }
      ],
      "source": [
        "table_models = (pd.DataFrame({'Model':tabl_model, 'F1 score':tabl_prec, 'ROC-AUC':tabl_roc_auc, 'Gini Index':tabl_gini, 'Notice': tabl_not}).sort_values(by='ROC-AUC', ascending=False).\n",
        "                  reset_index(drop=True))\n",
        "table_models"
      ]
    },
    {
      "attachments": {},
      "cell_type": "markdown",
      "metadata": {
        "id": "8eE65UaS6-oT"
      },
      "source": [
        "### upsampling. Увеличение выборки"
      ]
    },
    {
      "cell_type": "code",
      "execution_count": 166,
      "metadata": {
        "colab": {
          "base_uri": "https://localhost:8080/"
        },
        "id": "0fPwBT9o7AVS",
        "outputId": "2ded888c-dfad-4028-a2e2-06f2f52154d1"
      },
      "outputs": [
        {
          "name": "stdout",
          "output_type": "stream",
          "text": [
            "Размер увеличенной валидационной выборки 1078\n"
          ]
        }
      ],
      "source": [
        "oversample = SMOTE(random_state=453)\n",
        "features_upsampled, target_upsampled = oversample.fit_resample(features_train, target_train)\n",
        "print('Размер увеличенной валидационной выборки', len(features_upsampled))"
      ]
    },
    {
      "attachments": {},
      "cell_type": "markdown",
      "metadata": {
        "id": "JmTAqcdZ7DKm"
      },
      "source": [
        "#### Модель Логистическая регрессия"
      ]
    },
    {
      "cell_type": "code",
      "execution_count": 167,
      "metadata": {
        "colab": {
          "base_uri": "https://localhost:8080/"
        },
        "id": "z_RBv78u7bon",
        "outputId": "0740d0e6-f72b-4528-8733-a053acaf979e"
      },
      "outputs": [
        {
          "name": "stdout",
          "output_type": "stream",
          "text": [
            "F1: 0.17391304347826086\n",
            "AUC_ROC = 0.634\n",
            "\n",
            "Gini Index = 0.267\n",
            "\n"
          ]
        }
      ],
      "source": [
        "model = LogisticRegression(penalty='l2', solver='liblinear', random_state=453, class_weight='balanced')\n",
        "model.fit(features_upsampled, target_upsampled)\n",
        "predicted_valid = model.predict(features_valid)\n",
        "print(\"F1:\", f1_score(target_valid, predicted_valid))\n",
        "\n",
        "probabilities_valid = model.predict_proba(features_valid)[:, 1]\n",
        "auc_roc = roc_auc_score(target_valid, probabilities_valid)\n",
        "print(\"AUC_ROC = {:.3f}\\n\".format(auc_roc))\n",
        "\n",
        "gini = 2 * auc_roc - 1\n",
        "print(\"Gini Index = {:.3f}\\n\".format(gini))\n",
        "tabl_gini.append(round(gini, 2))"
      ]
    },
    {
      "cell_type": "code",
      "execution_count": 168,
      "metadata": {
        "id": "3BLNsipE7dxG"
      },
      "outputs": [],
      "source": [
        "tabl_prec.append(round(f1_score(target_valid, predicted_valid), 2))\n",
        "tabl_roc_auc.append(round(auc_roc,2))\n",
        "tabl_model.append('LogisticRegression')\n",
        "tabl_not.append('upsampling')"
      ]
    },
    {
      "attachments": {},
      "cell_type": "markdown",
      "metadata": {
        "id": "27xJsm3gd3sD",
        "tags": []
      },
      "source": [
        "#### Модель Дерево решений "
      ]
    },
    {
      "cell_type": "code",
      "execution_count": 169,
      "metadata": {
        "colab": {
          "base_uri": "https://localhost:8080/"
        },
        "id": "NZR__SGdd3sD",
        "outputId": "754db799-aaef-49f4-975d-e06e809b150c"
      },
      "outputs": [
        {
          "name": "stdout",
          "output_type": "stream",
          "text": [
            "F1 лучшей модели: 0.22580645161290322\n",
            "max_depth лучшей модели: DecisionTreeClassifier(max_depth=6)\n",
            "AUC_ROC = 0.705\n",
            "\n",
            "Gini Index = 0.410\n",
            "\n",
            "CPU times: user 98.2 ms, sys: 407 µs, total: 98.6 ms\n",
            "Wall time: 100 ms\n"
          ]
        }
      ],
      "source": [
        "%%time\n",
        "1 + 1\n",
        "best_model = None\n",
        "best_result = 0\n",
        "for depth in range(1, 15):\n",
        "\tmodel = DecisionTreeClassifier(max_depth=depth)\n",
        "\tmodel.fit(features_upsampled, target_upsampled)\n",
        "\tpredicted_valid = model.predict(features_valid) \n",
        "\tresult = f1_score(target_valid, predicted_valid) \n",
        "\tif result > best_result:\n",
        "\t\tbest_model = model\n",
        "\t\tbest_result = result\n",
        "\n",
        "print(\"F1 лучшей модели:\", best_result)\n",
        "print(\"max_depth лучшей модели:\", best_model)\n",
        "\n",
        "probabilities_valid = best_model.predict_proba(features_valid)[:, 1]\n",
        "auc_roc = roc_auc_score(target_valid, probabilities_valid)\n",
        "print(\"AUC_ROC = {:.3f}\\n\".format(auc_roc))\n",
        "\n",
        "gini = 2 * auc_roc - 1\n",
        "print(\"Gini Index = {:.3f}\\n\".format(gini))\n",
        "tabl_gini.append(round(gini, 2))"
      ]
    },
    {
      "cell_type": "code",
      "execution_count": 170,
      "metadata": {
        "id": "8XsmnHgDd3sD"
      },
      "outputs": [],
      "source": [
        "tabl_prec.append(round((best_result), 2))\n",
        "tabl_roc_auc.append(round(auc_roc,2))\n",
        "tabl_model.append('DecisionTreeClassifier')\n",
        "tabl_not.append('upsampling')"
      ]
    },
    {
      "attachments": {},
      "cell_type": "markdown",
      "metadata": {
        "id": "q1hsAxTcd3sE",
        "tags": []
      },
      "source": [
        "#### Модель случайный лес. "
      ]
    },
    {
      "cell_type": "code",
      "execution_count": 171,
      "metadata": {
        "colab": {
          "base_uri": "https://localhost:8080/"
        },
        "id": "Y719hNtcd3sE",
        "outputId": "6c6b5848-f8f8-4967-be25-06b7303b41a3"
      },
      "outputs": [
        {
          "name": "stdout",
          "output_type": "stream",
          "text": [
            "F1: 0.10526315789473685\n",
            "AUC_ROC = 0.680\n",
            "\n",
            "Gini Index = 0.359\n",
            "\n",
            "CPU times: user 87.4 ms, sys: 654 µs, total: 88 ms\n",
            "Wall time: 90.5 ms\n"
          ]
        }
      ],
      "source": [
        "%%time\n",
        "1 + 1\n",
        "model = RandomForestClassifier(max_depth=17, min_samples_leaf=2, min_samples_split=12,\n",
        "                       n_estimators=30, random_state=453)\n",
        "\n",
        "model.fit(features_upsampled, target_upsampled)\n",
        "predicted_valid = model.predict(features_valid)\n",
        "print(\"F1:\", f1_score(target_valid, predicted_valid))\n",
        "\n",
        "probabilities_valid = model.predict_proba(features_valid)[:, 1]\n",
        "auc_roc = roc_auc_score(target_valid, probabilities_valid)\n",
        "print(\"AUC_ROC = {:.3f}\\n\".format(auc_roc))\n",
        "\n",
        "gini = 2 * auc_roc - 1\n",
        "print(\"Gini Index = {:.3f}\\n\".format(gini))\n",
        "tabl_gini.append(round(gini, 2))"
      ]
    },
    {
      "cell_type": "code",
      "execution_count": 172,
      "metadata": {
        "id": "iczGREL7d3sE"
      },
      "outputs": [],
      "source": [
        "tabl_prec.append(round(f1_score(target_valid, predicted_valid), 2))\n",
        "tabl_roc_auc.append(round(auc_roc,2))\n",
        "tabl_model.append('RandomForestClassifier')\n",
        "tabl_not.append('upsampling')"
      ]
    },
    {
      "attachments": {},
      "cell_type": "markdown",
      "metadata": {
        "id": "Vei2bDnjd3sE",
        "tags": []
      },
      "source": [
        "#### CatBoostClassifier"
      ]
    },
    {
      "cell_type": "code",
      "execution_count": 173,
      "metadata": {
        "colab": {
          "base_uri": "https://localhost:8080/"
        },
        "id": "oacWx5y-d3sE",
        "outputId": "e2a65ae1-3cc3-4bc4-ad47-efa34edfc559"
      },
      "outputs": [
        {
          "name": "stdout",
          "output_type": "stream",
          "text": [
            "F1: 0.1\n",
            "ROC-AUC: 0.5069124423963133\n",
            "Gini Index = 0.014\n",
            "\n"
          ]
        }
      ],
      "source": [
        "model = CatBoostClassifier(\n",
        "    iterations=1000, \n",
        "    depth=5, \n",
        "    learning_rate=0.1, \n",
        "    custom_loss=['AUC', 'Accuracy'],\n",
        "    random_seed=453,\n",
        "    verbose=False\n",
        ")\n",
        "model.fit(features_upsampled, target_upsampled)\n",
        "predicted_valid = model.predict(features_valid)\n",
        "print(\"F1:\", f1_score(target_valid, predicted_valid))\n",
        "\n",
        "auc_roc = roc_auc_score(target_valid, predicted_valid)\n",
        "print('ROC-AUC:', auc_roc)\n",
        "\n",
        "gini = 2 * auc_roc - 1\n",
        "print(\"Gini Index = {:.3f}\\n\".format(gini))\n",
        "tabl_gini.append(round(gini, 2))"
      ]
    },
    {
      "cell_type": "code",
      "execution_count": 174,
      "metadata": {
        "id": "tcWv-3Cod3sE"
      },
      "outputs": [],
      "source": [
        "tabl_prec.append(round(f1_score(target_valid, predicted_valid), 2))\n",
        "tabl_roc_auc.append(round(auc_roc,2))\n",
        "tabl_model.append('CatBoostClassifier')\n",
        "tabl_not.append('upsampling')"
      ]
    },
    {
      "cell_type": "code",
      "execution_count": 175,
      "metadata": {
        "colab": {
          "base_uri": "https://localhost:8080/",
          "height": 300
        },
        "id": "vJ2ul9qJd3sF",
        "outputId": "ae5a1bbd-4423-4e0b-cd1d-b5805e4698f5"
      },
      "outputs": [
        {
          "data": {
            "text/html": [
              "<div>\n",
              "<style scoped>\n",
              "    .dataframe tbody tr th:only-of-type {\n",
              "        vertical-align: middle;\n",
              "    }\n",
              "\n",
              "    .dataframe tbody tr th {\n",
              "        vertical-align: top;\n",
              "    }\n",
              "\n",
              "    .dataframe thead th {\n",
              "        text-align: right;\n",
              "    }\n",
              "</style>\n",
              "<table border=\"1\" class=\"dataframe\">\n",
              "  <thead>\n",
              "    <tr style=\"text-align: right;\">\n",
              "      <th></th>\n",
              "      <th>Model</th>\n",
              "      <th>F1 score</th>\n",
              "      <th>ROC-AUC</th>\n",
              "      <th>Gini Index</th>\n",
              "      <th>Notice</th>\n",
              "    </tr>\n",
              "  </thead>\n",
              "  <tbody>\n",
              "    <tr>\n",
              "      <th>0</th>\n",
              "      <td>DecisionTreeClassifier</td>\n",
              "      <td>0.23</td>\n",
              "      <td>0.71</td>\n",
              "      <td>0.41</td>\n",
              "      <td>upsampling</td>\n",
              "    </tr>\n",
              "    <tr>\n",
              "      <th>1</th>\n",
              "      <td>DecisionTreeClassifier</td>\n",
              "      <td>0.21</td>\n",
              "      <td>0.69</td>\n",
              "      <td>0.37</td>\n",
              "      <td>class_weight</td>\n",
              "    </tr>\n",
              "    <tr>\n",
              "      <th>2</th>\n",
              "      <td>RandomForestClassifier</td>\n",
              "      <td>0.14</td>\n",
              "      <td>0.69</td>\n",
              "      <td>0.37</td>\n",
              "      <td>class_weight</td>\n",
              "    </tr>\n",
              "    <tr>\n",
              "      <th>3</th>\n",
              "      <td>RandomForestClassifier</td>\n",
              "      <td>0.11</td>\n",
              "      <td>0.68</td>\n",
              "      <td>0.36</td>\n",
              "      <td>upsampling</td>\n",
              "    </tr>\n",
              "    <tr>\n",
              "      <th>4</th>\n",
              "      <td>LogisticRegression</td>\n",
              "      <td>0.19</td>\n",
              "      <td>0.67</td>\n",
              "      <td>0.35</td>\n",
              "      <td>class_weight</td>\n",
              "    </tr>\n",
              "    <tr>\n",
              "      <th>5</th>\n",
              "      <td>LogisticRegression</td>\n",
              "      <td>0.17</td>\n",
              "      <td>0.63</td>\n",
              "      <td>0.27</td>\n",
              "      <td>upsampling</td>\n",
              "    </tr>\n",
              "    <tr>\n",
              "      <th>6</th>\n",
              "      <td>CatBoostClassifier</td>\n",
              "      <td>0.17</td>\n",
              "      <td>0.61</td>\n",
              "      <td>0.21</td>\n",
              "      <td>class_weight</td>\n",
              "    </tr>\n",
              "    <tr>\n",
              "      <th>7</th>\n",
              "      <td>CatBoostClassifier</td>\n",
              "      <td>0.10</td>\n",
              "      <td>0.51</td>\n",
              "      <td>0.01</td>\n",
              "      <td>upsampling</td>\n",
              "    </tr>\n",
              "  </tbody>\n",
              "</table>\n",
              "</div>"
            ],
            "text/plain": [
              "                    Model  F1 score  ROC-AUC  Gini Index        Notice\n",
              "0  DecisionTreeClassifier      0.23     0.71        0.41    upsampling\n",
              "1  DecisionTreeClassifier      0.21     0.69        0.37  class_weight\n",
              "2  RandomForestClassifier      0.14     0.69        0.37  class_weight\n",
              "3  RandomForestClassifier      0.11     0.68        0.36    upsampling\n",
              "4      LogisticRegression      0.19     0.67        0.35  class_weight\n",
              "5      LogisticRegression      0.17     0.63        0.27    upsampling\n",
              "6      CatBoostClassifier      0.17     0.61        0.21  class_weight\n",
              "7      CatBoostClassifier      0.10     0.51        0.01    upsampling"
            ]
          },
          "execution_count": 175,
          "metadata": {},
          "output_type": "execute_result"
        }
      ],
      "source": [
        "table_models = (pd.DataFrame({'Model':tabl_model, 'F1 score':tabl_prec, 'ROC-AUC':tabl_roc_auc, 'Gini Index':tabl_gini, 'Notice': tabl_not}).sort_values(by='ROC-AUC', ascending=False).\n",
        "                  reset_index(drop=True))\n",
        "table_models"
      ]
    },
    {
      "attachments": {},
      "cell_type": "markdown",
      "metadata": {
        "id": "BmV0KZl_d3sF"
      },
      "source": [
        "### downsampling. Уменьшение выборки"
      ]
    },
    {
      "cell_type": "code",
      "execution_count": 176,
      "metadata": {
        "id": "mfi8Tm8pd3sF"
      },
      "outputs": [],
      "source": [
        "downsample = RandomUnderSampler(random_state=12345)"
      ]
    },
    {
      "cell_type": "code",
      "execution_count": 177,
      "metadata": {
        "id": "_4yfYEXhd3sF"
      },
      "outputs": [],
      "source": [
        "features_downsampled, target_downsampled = downsample.fit_resample(features_train, target_train)"
      ]
    },
    {
      "cell_type": "code",
      "execution_count": 178,
      "metadata": {
        "colab": {
          "base_uri": "https://localhost:8080/"
        },
        "id": "peIAmQP6d3sG",
        "outputId": "98d90964-2348-4644-d2a5-774eafb43700"
      },
      "outputs": [
        {
          "name": "stdout",
          "output_type": "stream",
          "text": [
            "Размер уменьшенной валидационной выборки 122\n"
          ]
        }
      ],
      "source": [
        "print('Размер уменьшенной валидационной выборки', len(features_downsampled))"
      ]
    },
    {
      "attachments": {},
      "cell_type": "markdown",
      "metadata": {
        "id": "i7o7GWzQd3sG",
        "tags": []
      },
      "source": [
        "#### Модель Логистическая регрессия"
      ]
    },
    {
      "cell_type": "code",
      "execution_count": 179,
      "metadata": {
        "colab": {
          "base_uri": "https://localhost:8080/"
        },
        "id": "qq1kRhsld3sG",
        "outputId": "1908da98-d304-4ec2-e74f-59c52fe8ae22"
      },
      "outputs": [
        {
          "name": "stdout",
          "output_type": "stream",
          "text": [
            "F1: 0.19607843137254902\n",
            "AUC_ROC = 0.707\n",
            "\n",
            "Gini Index = 0.413\n",
            "\n"
          ]
        }
      ],
      "source": [
        "model = LogisticRegression(penalty='l2', solver='liblinear', random_state=453, class_weight='balanced')\n",
        "model.fit(features_downsampled, target_downsampled)\n",
        "predicted_valid = model.predict(features_valid)\n",
        "print(\"F1:\", f1_score(target_valid, predicted_valid))\n",
        "\n",
        "probabilities_valid = model.predict_proba(features_valid)[:, 1]\n",
        "auc_roc = roc_auc_score(target_valid, probabilities_valid)\n",
        "print(\"AUC_ROC = {:.3f}\\n\".format(auc_roc))\n",
        "\n",
        "gini = 2 * auc_roc - 1\n",
        "print(\"Gini Index = {:.3f}\\n\".format(gini))\n",
        "tabl_gini.append(round(gini, 2))"
      ]
    },
    {
      "cell_type": "code",
      "execution_count": 180,
      "metadata": {
        "id": "k94UPPpgd3sG"
      },
      "outputs": [],
      "source": [
        "tabl_prec.append(round(f1_score(target_valid, predicted_valid), 2))\n",
        "tabl_roc_auc.append(round(auc_roc,2))\n",
        "tabl_model.append('LogisticRegression')\n",
        "tabl_not.append('downsampled')"
      ]
    },
    {
      "attachments": {},
      "cell_type": "markdown",
      "metadata": {
        "id": "bOeI80Q-d3sG"
      },
      "source": [
        "#### Модель Дерево решений "
      ]
    },
    {
      "cell_type": "code",
      "execution_count": 181,
      "metadata": {
        "colab": {
          "base_uri": "https://localhost:8080/"
        },
        "id": "GiLbM_a1d3sG",
        "outputId": "d3ffd8a3-132a-47ef-850f-92731fb77175"
      },
      "outputs": [
        {
          "name": "stdout",
          "output_type": "stream",
          "text": [
            "F1 лучшей модели: 0.2\n",
            "max_depth лучшей модели: DecisionTreeClassifier(max_depth=1)\n",
            "AUC_ROC = 0.595\n",
            "\n",
            "Gini Index = 0.190\n",
            "\n",
            "CPU times: user 68.8 ms, sys: 0 ns, total: 68.8 ms\n",
            "Wall time: 70.9 ms\n"
          ]
        }
      ],
      "source": [
        "%%time\n",
        "1 + 1\n",
        "best_model = None\n",
        "best_result = 0\n",
        "for depth in range(1, 15):\n",
        "\tmodel = DecisionTreeClassifier(max_depth=depth) \n",
        "\tmodel.fit(features_downsampled, target_downsampled) \n",
        "\tpredicted_valid = model.predict(features_valid) \n",
        "\tresult = f1_score(target_valid, predicted_valid) \n",
        "\tif result > best_result:\n",
        "\t\tbest_model = model\n",
        "\t\tbest_result = result\n",
        "\n",
        "print(\"F1 лучшей модели:\", best_result)\n",
        "print(\"max_depth лучшей модели:\", best_model)\n",
        "\n",
        "probabilities_valid = best_model.predict_proba(features_valid)[:, 1]\n",
        "auc_roc = roc_auc_score(target_valid, probabilities_valid)\n",
        "print(\"AUC_ROC = {:.3f}\\n\".format(auc_roc))\n",
        "\n",
        "gini = 2 * auc_roc - 1\n",
        "print(\"Gini Index = {:.3f}\\n\".format(gini))\n",
        "tabl_gini.append(round(gini, 2))"
      ]
    },
    {
      "cell_type": "code",
      "execution_count": 182,
      "metadata": {
        "id": "wBGbM4Ckd3sH"
      },
      "outputs": [],
      "source": [
        "tabl_prec.append(round((best_result), 2))\n",
        "tabl_roc_auc.append(round(auc_roc,2))\n",
        "tabl_model.append('DecisionTreeClassifier')\n",
        "tabl_not.append('downsampled')"
      ]
    },
    {
      "attachments": {},
      "cell_type": "markdown",
      "metadata": {
        "id": "9V2xYvK2d3sH"
      },
      "source": [
        "#### Модель случайный лес"
      ]
    },
    {
      "cell_type": "code",
      "execution_count": 183,
      "metadata": {
        "colab": {
          "base_uri": "https://localhost:8080/"
        },
        "id": "PKynxcu1d3sH",
        "outputId": "6f145ee4-f3e3-4ec5-f3c8-2f3c9b8275d7"
      },
      "outputs": [
        {
          "name": "stdout",
          "output_type": "stream",
          "text": [
            "F1: 0.14678899082568805\n",
            "AUC_ROC = 0.517\n",
            "\n",
            "Gini Index = 0.035\n",
            "\n",
            "CPU times: user 59.7 ms, sys: 2.1 ms, total: 61.8 ms\n",
            "Wall time: 62.7 ms\n"
          ]
        }
      ],
      "source": [
        "%%time\n",
        "1 + 1\n",
        "model = RandomForestClassifier(max_depth=17, min_samples_leaf=2, min_samples_split=12,\n",
        "                       n_estimators=30, random_state=12345)\n",
        "model.fit(features_downsampled, target_downsampled)\n",
        "predicted_valid = model.predict(features_valid)\n",
        "print(\"F1:\", f1_score(target_valid, predicted_valid))\n",
        "\n",
        "probabilities_valid = model.predict_proba(features_valid)[:, 1]\n",
        "auc_roc = roc_auc_score(target_valid, probabilities_valid)\n",
        "print(\"AUC_ROC = {:.3f}\\n\".format(auc_roc))\n",
        "\n",
        "gini = 2 * auc_roc - 1\n",
        "print(\"Gini Index = {:.3f}\\n\".format(gini))\n",
        "tabl_gini.append(round(gini, 2))"
      ]
    },
    {
      "cell_type": "code",
      "execution_count": 184,
      "metadata": {
        "id": "UZBSgrAod3sH"
      },
      "outputs": [],
      "source": [
        "tabl_prec.append(round(f1_score(target_valid, predicted_valid), 2))\n",
        "tabl_roc_auc.append(round(auc_roc,2))\n",
        "tabl_model.append('RandomForestClassifier')\n",
        "tabl_not.append('downsampled')"
      ]
    },
    {
      "attachments": {},
      "cell_type": "markdown",
      "metadata": {
        "id": "6-VEzRpPd3sH"
      },
      "source": [
        "#### CatBoostClassifier"
      ]
    },
    {
      "cell_type": "code",
      "execution_count": 185,
      "metadata": {
        "colab": {
          "base_uri": "https://localhost:8080/"
        },
        "id": "TQVvTCeTd3sH",
        "outputId": "fd9abf3b-cb94-4c76-9dc9-8712d665639f"
      },
      "outputs": [
        {
          "name": "stdout",
          "output_type": "stream",
          "text": [
            "F1: 0.11320754716981131\n",
            "AUC_ROC = 0.514\n",
            "\n",
            "Gini Index = 0.028\n",
            "\n"
          ]
        }
      ],
      "source": [
        "model = CatBoostClassifier(\n",
        "    iterations=1000, \n",
        "    depth=5, \n",
        "    learning_rate=0.1, \n",
        "    custom_loss=['AUC', 'Accuracy'],\n",
        "    random_seed=453,\n",
        "    verbose=False\n",
        ")\n",
        "model.fit(features_downsampled, target_downsampled)\n",
        "predicted_valid = model.predict(features_valid)\n",
        "print(\"F1:\", f1_score(target_valid, predicted_valid))\n",
        "\n",
        "probabilities_valid = model.predict_proba(features_valid)[:, 1]\n",
        "auc_roc = roc_auc_score(target_valid, probabilities_valid)\n",
        "print(\"AUC_ROC = {:.3f}\\n\".format(auc_roc))\n",
        "\n",
        "gini = 2 * auc_roc - 1\n",
        "print(\"Gini Index = {:.3f}\\n\".format(gini))\n",
        "tabl_gini.append(round(gini, 2))"
      ]
    },
    {
      "cell_type": "code",
      "execution_count": 186,
      "metadata": {
        "id": "Je8Fe6HDd3sI"
      },
      "outputs": [],
      "source": [
        "tabl_prec.append(round(f1_score(target_valid, predicted_valid), 2))\n",
        "tabl_roc_auc.append(round(auc_roc,2))\n",
        "tabl_model.append('CatBoostClassifier')\n",
        "tabl_not.append('downsampled')"
      ]
    },
    {
      "cell_type": "code",
      "execution_count": 187,
      "metadata": {
        "colab": {
          "base_uri": "https://localhost:8080/",
          "height": 426
        },
        "id": "Ol1Q24F_d3sI",
        "outputId": "a6467766-1ade-4ec2-a78f-03a74d387d6b"
      },
      "outputs": [
        {
          "data": {
            "text/html": [
              "<div>\n",
              "<style scoped>\n",
              "    .dataframe tbody tr th:only-of-type {\n",
              "        vertical-align: middle;\n",
              "    }\n",
              "\n",
              "    .dataframe tbody tr th {\n",
              "        vertical-align: top;\n",
              "    }\n",
              "\n",
              "    .dataframe thead th {\n",
              "        text-align: right;\n",
              "    }\n",
              "</style>\n",
              "<table border=\"1\" class=\"dataframe\">\n",
              "  <thead>\n",
              "    <tr style=\"text-align: right;\">\n",
              "      <th></th>\n",
              "      <th>Model</th>\n",
              "      <th>F1 score</th>\n",
              "      <th>ROC-AUC</th>\n",
              "      <th>Gini Index</th>\n",
              "      <th>Notice</th>\n",
              "    </tr>\n",
              "  </thead>\n",
              "  <tbody>\n",
              "    <tr>\n",
              "      <th>0</th>\n",
              "      <td>DecisionTreeClassifier</td>\n",
              "      <td>0.23</td>\n",
              "      <td>0.71</td>\n",
              "      <td>0.41</td>\n",
              "      <td>upsampling</td>\n",
              "    </tr>\n",
              "    <tr>\n",
              "      <th>1</th>\n",
              "      <td>LogisticRegression</td>\n",
              "      <td>0.20</td>\n",
              "      <td>0.71</td>\n",
              "      <td>0.41</td>\n",
              "      <td>downsampled</td>\n",
              "    </tr>\n",
              "    <tr>\n",
              "      <th>2</th>\n",
              "      <td>DecisionTreeClassifier</td>\n",
              "      <td>0.21</td>\n",
              "      <td>0.69</td>\n",
              "      <td>0.37</td>\n",
              "      <td>class_weight</td>\n",
              "    </tr>\n",
              "    <tr>\n",
              "      <th>3</th>\n",
              "      <td>RandomForestClassifier</td>\n",
              "      <td>0.14</td>\n",
              "      <td>0.69</td>\n",
              "      <td>0.37</td>\n",
              "      <td>class_weight</td>\n",
              "    </tr>\n",
              "    <tr>\n",
              "      <th>4</th>\n",
              "      <td>RandomForestClassifier</td>\n",
              "      <td>0.11</td>\n",
              "      <td>0.68</td>\n",
              "      <td>0.36</td>\n",
              "      <td>upsampling</td>\n",
              "    </tr>\n",
              "    <tr>\n",
              "      <th>5</th>\n",
              "      <td>LogisticRegression</td>\n",
              "      <td>0.19</td>\n",
              "      <td>0.67</td>\n",
              "      <td>0.35</td>\n",
              "      <td>class_weight</td>\n",
              "    </tr>\n",
              "    <tr>\n",
              "      <th>6</th>\n",
              "      <td>LogisticRegression</td>\n",
              "      <td>0.17</td>\n",
              "      <td>0.63</td>\n",
              "      <td>0.27</td>\n",
              "      <td>upsampling</td>\n",
              "    </tr>\n",
              "    <tr>\n",
              "      <th>7</th>\n",
              "      <td>CatBoostClassifier</td>\n",
              "      <td>0.17</td>\n",
              "      <td>0.61</td>\n",
              "      <td>0.21</td>\n",
              "      <td>class_weight</td>\n",
              "    </tr>\n",
              "    <tr>\n",
              "      <th>8</th>\n",
              "      <td>DecisionTreeClassifier</td>\n",
              "      <td>0.20</td>\n",
              "      <td>0.60</td>\n",
              "      <td>0.19</td>\n",
              "      <td>downsampled</td>\n",
              "    </tr>\n",
              "    <tr>\n",
              "      <th>9</th>\n",
              "      <td>RandomForestClassifier</td>\n",
              "      <td>0.15</td>\n",
              "      <td>0.52</td>\n",
              "      <td>0.03</td>\n",
              "      <td>downsampled</td>\n",
              "    </tr>\n",
              "    <tr>\n",
              "      <th>10</th>\n",
              "      <td>CatBoostClassifier</td>\n",
              "      <td>0.10</td>\n",
              "      <td>0.51</td>\n",
              "      <td>0.01</td>\n",
              "      <td>upsampling</td>\n",
              "    </tr>\n",
              "    <tr>\n",
              "      <th>11</th>\n",
              "      <td>CatBoostClassifier</td>\n",
              "      <td>0.11</td>\n",
              "      <td>0.51</td>\n",
              "      <td>0.03</td>\n",
              "      <td>downsampled</td>\n",
              "    </tr>\n",
              "  </tbody>\n",
              "</table>\n",
              "</div>"
            ],
            "text/plain": [
              "                     Model  F1 score  ROC-AUC  Gini Index        Notice\n",
              "0   DecisionTreeClassifier      0.23     0.71        0.41    upsampling\n",
              "1       LogisticRegression      0.20     0.71        0.41   downsampled\n",
              "2   DecisionTreeClassifier      0.21     0.69        0.37  class_weight\n",
              "3   RandomForestClassifier      0.14     0.69        0.37  class_weight\n",
              "4   RandomForestClassifier      0.11     0.68        0.36    upsampling\n",
              "5       LogisticRegression      0.19     0.67        0.35  class_weight\n",
              "6       LogisticRegression      0.17     0.63        0.27    upsampling\n",
              "7       CatBoostClassifier      0.17     0.61        0.21  class_weight\n",
              "8   DecisionTreeClassifier      0.20     0.60        0.19   downsampled\n",
              "9   RandomForestClassifier      0.15     0.52        0.03   downsampled\n",
              "10      CatBoostClassifier      0.10     0.51        0.01    upsampling\n",
              "11      CatBoostClassifier      0.11     0.51        0.03   downsampled"
            ]
          },
          "execution_count": 187,
          "metadata": {},
          "output_type": "execute_result"
        }
      ],
      "source": [
        "table_models = (pd.DataFrame({'Model':tabl_model, 'F1 score':tabl_prec, 'ROC-AUC':tabl_roc_auc, 'Gini Index':tabl_gini, 'Notice': tabl_not}).sort_values(by='ROC-AUC', ascending=False).\n",
        "                  reset_index(drop=True))\n",
        "table_models"
      ]
    },
    {
      "attachments": {},
      "cell_type": "markdown",
      "metadata": {
        "id": "0dt5EO9fd3sI"
      },
      "source": [
        "### Изменение порога клалификации"
      ]
    },
    {
      "attachments": {},
      "cell_type": "markdown",
      "metadata": {
        "id": "RS3-PEqSd3sI"
      },
      "source": [
        "Граница, где заканчивается отрицательный класс и начинается положительный, называется порогом (threshold). По умолчанию он равен 0.5, но его можно поменять."
      ]
    },
    {
      "attachments": {},
      "cell_type": "markdown",
      "metadata": {
        "id": "bf4n4_2Id3sJ"
      },
      "source": [
        "#### Модель Логистическая регрессия"
      ]
    },
    {
      "cell_type": "code",
      "execution_count": 188,
      "metadata": {
        "colab": {
          "base_uri": "https://localhost:8080/"
        },
        "id": "AZKY54sSd3sJ",
        "outputId": "aaf40913-86bc-4fc2-b33f-266fe20a9ff6"
      },
      "outputs": [
        {
          "name": "stdout",
          "output_type": "stream",
          "text": [
            "Порог = 0.00 | Точность = 0.070, Полнота = 1.000, F1-мера = 0.131\n",
            "Порог = 0.01 | Точность = 0.070, Полнота = 1.000, F1-мера = 0.131\n",
            "Порог = 0.02 | Точность = 0.070, Полнота = 1.000, F1-мера = 0.131\n",
            "Порог = 0.03 | Точность = 0.070, Полнота = 1.000, F1-мера = 0.131\n",
            "Порог = 0.04 | Точность = 0.070, Полнота = 1.000, F1-мера = 0.131\n",
            "Порог = 0.05 | Точность = 0.070, Полнота = 1.000, F1-мера = 0.131\n",
            "Порог = 0.06 | Точность = 0.070, Полнота = 1.000, F1-мера = 0.131\n",
            "Порог = 0.07 | Точность = 0.071, Полнота = 1.000, F1-мера = 0.133\n",
            "Порог = 0.08 | Точность = 0.071, Полнота = 1.000, F1-мера = 0.133\n",
            "Порог = 0.09 | Точность = 0.071, Полнота = 1.000, F1-мера = 0.133\n",
            "Порог = 0.10 | Точность = 0.071, Полнота = 1.000, F1-мера = 0.133\n",
            "Порог = 0.11 | Точность = 0.073, Полнота = 1.000, F1-мера = 0.135\n",
            "Порог = 0.12 | Точность = 0.074, Полнота = 1.000, F1-мера = 0.137\n",
            "Порог = 0.13 | Точность = 0.075, Полнота = 1.000, F1-мера = 0.140\n",
            "Порог = 0.14 | Точность = 0.075, Полнота = 1.000, F1-мера = 0.140\n",
            "Порог = 0.15 | Точность = 0.075, Полнота = 1.000, F1-мера = 0.140\n",
            "Порог = 0.16 | Точность = 0.076, Полнота = 1.000, F1-мера = 0.141\n",
            "Порог = 0.17 | Точность = 0.077, Полнота = 1.000, F1-мера = 0.144\n",
            "Порог = 0.18 | Точность = 0.078, Полнота = 1.000, F1-мера = 0.145\n",
            "Порог = 0.19 | Точность = 0.081, Полнота = 1.000, F1-мера = 0.150\n",
            "Порог = 0.20 | Точность = 0.082, Полнота = 1.000, F1-мера = 0.151\n",
            "Порог = 0.21 | Точность = 0.082, Полнота = 1.000, F1-мера = 0.152\n",
            "Порог = 0.22 | Точность = 0.084, Полнота = 1.000, F1-мера = 0.155\n",
            "Порог = 0.23 | Точность = 0.084, Полнота = 1.000, F1-мера = 0.156\n",
            "Порог = 0.24 | Точность = 0.086, Полнота = 1.000, F1-мера = 0.158\n",
            "Порог = 0.25 | Точность = 0.086, Полнота = 1.000, F1-мера = 0.159\n",
            "Порог = 0.26 | Точность = 0.087, Полнота = 1.000, F1-мера = 0.160\n",
            "Порог = 0.27 | Точность = 0.088, Полнота = 1.000, F1-мера = 0.162\n",
            "Порог = 0.28 | Точность = 0.089, Полнота = 1.000, F1-мера = 0.163\n",
            "Порог = 0.29 | Точность = 0.090, Полнота = 1.000, F1-мера = 0.165\n",
            "ROC-AUC = 0.674\n",
            "F1-мера = 0.165\n",
            "Gini Index = 0.347\n",
            "\n"
          ]
        }
      ],
      "source": [
        "model = LogisticRegression(penalty='l2', solver='liblinear', random_state=453, class_weight='balanced')\n",
        "model.fit(features_train, target_train)\n",
        "probabilities_valid = model.predict_proba(features_valid)[:, 1]\n",
        "\n",
        "best_f1 = 0\n",
        "for threshold in np.arange(0, 0.3, 0.01):\n",
        "    predicted_valid = probabilities_valid > threshold \n",
        "    precision = precision_score(target_valid, predicted_valid)\n",
        "    recall = recall_score(target_valid, predicted_valid)\n",
        "    F1 = f1_score(target_valid, predicted_valid)\n",
        "    print(\"Порог = {:.2f} | Точность = {:.3f}, Полнота = {:.3f}, F1-мера = {:.3f}\".format(threshold, precision, recall, F1))\n",
        "    if F1>best_f1:\n",
        "        best_f1 = F1\n",
        "\n",
        "auc_roc = roc_auc_score(target_valid, probabilities_valid)\n",
        "print(\"ROC-AUC = {:.3f}\".format(auc_roc))     \n",
        "print(\"F1-мера = {:.3f}\".format(best_f1))\n",
        "\n",
        "gini = 2 * auc_roc - 1\n",
        "print(\"Gini Index = {:.3f}\\n\".format(gini))\n",
        "tabl_gini.append(round(gini, 2))"
      ]
    },
    {
      "cell_type": "code",
      "execution_count": 189,
      "metadata": {
        "colab": {
          "base_uri": "https://localhost:8080/",
          "height": 564
        },
        "id": "4SRAIqb2d3sJ",
        "outputId": "3852797d-f649-468e-be0b-c8b022704535"
      },
      "outputs": [
        {
          "data": {
            "image/png": "[encoded data removed]",
            "text/plain": [
              "<Figure size 600x600 with 1 Axes>"
            ]
          },
          "metadata": {},
          "output_type": "display_data"
        }
      ],
      "source": [
        "probabilities_valid = model.predict_proba(features_valid)\n",
        "precision, recall, thresholds = precision_recall_curve(target_valid, probabilities_valid[:, 1])\n",
        "\n",
        "plt.figure(figsize=(6, 6))\n",
        "plt.step(recall, precision, where='post')\n",
        "plt.xlabel('Recall')\n",
        "plt.ylabel('Precision')\n",
        "plt.ylim([0.0, 1.05])\n",
        "plt.xlim([0.0, 1.0])\n",
        "plt.title('Кривая Precision-Recall')\n",
        "\n",
        "plt.show()"
      ]
    },
    {
      "attachments": {},
      "cell_type": "markdown",
      "metadata": {
        "id": "9lBXC1Cqd3sJ"
      },
      "source": [
        "Для порога 0.05 самый высокий показатель F1 и ROC-AUC"
      ]
    },
    {
      "cell_type": "code",
      "execution_count": 190,
      "metadata": {
        "id": "w2KrUaTFd3sJ"
      },
      "outputs": [],
      "source": [
        "tabl_prec.append(round(best_f1, 2))\n",
        "tabl_roc_auc.append(round(auc_roc,2))\n",
        "tabl_model.append('LogisticRegression')\n",
        "tabl_not.append('threshold=0.19')"
      ]
    },
    {
      "cell_type": "code",
      "execution_count": 191,
      "metadata": {
        "colab": {
          "base_uri": "https://localhost:8080/",
          "height": 457
        },
        "id": "sFdvMdjMd3sJ",
        "outputId": "b891e15a-1982-4980-e10b-5a58973bc9a3"
      },
      "outputs": [
        {
          "data": {
            "text/html": [
              "<div>\n",
              "<style scoped>\n",
              "    .dataframe tbody tr th:only-of-type {\n",
              "        vertical-align: middle;\n",
              "    }\n",
              "\n",
              "    .dataframe tbody tr th {\n",
              "        vertical-align: top;\n",
              "    }\n",
              "\n",
              "    .dataframe thead th {\n",
              "        text-align: right;\n",
              "    }\n",
              "</style>\n",
              "<table border=\"1\" class=\"dataframe\">\n",
              "  <thead>\n",
              "    <tr style=\"text-align: right;\">\n",
              "      <th></th>\n",
              "      <th>Model</th>\n",
              "      <th>F1 score</th>\n",
              "      <th>ROC-AUC</th>\n",
              "      <th>Gini Index</th>\n",
              "      <th>Notice</th>\n",
              "    </tr>\n",
              "  </thead>\n",
              "  <tbody>\n",
              "    <tr>\n",
              "      <th>0</th>\n",
              "      <td>DecisionTreeClassifier</td>\n",
              "      <td>0.23</td>\n",
              "      <td>0.71</td>\n",
              "      <td>0.41</td>\n",
              "      <td>upsampling</td>\n",
              "    </tr>\n",
              "    <tr>\n",
              "      <th>1</th>\n",
              "      <td>LogisticRegression</td>\n",
              "      <td>0.20</td>\n",
              "      <td>0.71</td>\n",
              "      <td>0.41</td>\n",
              "      <td>downsampled</td>\n",
              "    </tr>\n",
              "    <tr>\n",
              "      <th>2</th>\n",
              "      <td>DecisionTreeClassifier</td>\n",
              "      <td>0.21</td>\n",
              "      <td>0.69</td>\n",
              "      <td>0.37</td>\n",
              "      <td>class_weight</td>\n",
              "    </tr>\n",
              "    <tr>\n",
              "      <th>3</th>\n",
              "      <td>RandomForestClassifier</td>\n",
              "      <td>0.14</td>\n",
              "      <td>0.69</td>\n",
              "      <td>0.37</td>\n",
              "      <td>class_weight</td>\n",
              "    </tr>\n",
              "    <tr>\n",
              "      <th>4</th>\n",
              "      <td>RandomForestClassifier</td>\n",
              "      <td>0.11</td>\n",
              "      <td>0.68</td>\n",
              "      <td>0.36</td>\n",
              "      <td>upsampling</td>\n",
              "    </tr>\n",
              "    <tr>\n",
              "      <th>5</th>\n",
              "      <td>LogisticRegression</td>\n",
              "      <td>0.19</td>\n",
              "      <td>0.67</td>\n",
              "      <td>0.35</td>\n",
              "      <td>class_weight</td>\n",
              "    </tr>\n",
              "    <tr>\n",
              "      <th>6</th>\n",
              "      <td>LogisticRegression</td>\n",
              "      <td>0.16</td>\n",
              "      <td>0.67</td>\n",
              "      <td>0.35</td>\n",
              "      <td>threshold=0.19</td>\n",
              "    </tr>\n",
              "    <tr>\n",
              "      <th>7</th>\n",
              "      <td>LogisticRegression</td>\n",
              "      <td>0.17</td>\n",
              "      <td>0.63</td>\n",
              "      <td>0.27</td>\n",
              "      <td>upsampling</td>\n",
              "    </tr>\n",
              "    <tr>\n",
              "      <th>8</th>\n",
              "      <td>CatBoostClassifier</td>\n",
              "      <td>0.17</td>\n",
              "      <td>0.61</td>\n",
              "      <td>0.21</td>\n",
              "      <td>class_weight</td>\n",
              "    </tr>\n",
              "    <tr>\n",
              "      <th>9</th>\n",
              "      <td>DecisionTreeClassifier</td>\n",
              "      <td>0.20</td>\n",
              "      <td>0.60</td>\n",
              "      <td>0.19</td>\n",
              "      <td>downsampled</td>\n",
              "    </tr>\n",
              "    <tr>\n",
              "      <th>10</th>\n",
              "      <td>RandomForestClassifier</td>\n",
              "      <td>0.15</td>\n",
              "      <td>0.52</td>\n",
              "      <td>0.03</td>\n",
              "      <td>downsampled</td>\n",
              "    </tr>\n",
              "    <tr>\n",
              "      <th>11</th>\n",
              "      <td>CatBoostClassifier</td>\n",
              "      <td>0.10</td>\n",
              "      <td>0.51</td>\n",
              "      <td>0.01</td>\n",
              "      <td>upsampling</td>\n",
              "    </tr>\n",
              "    <tr>\n",
              "      <th>12</th>\n",
              "      <td>CatBoostClassifier</td>\n",
              "      <td>0.11</td>\n",
              "      <td>0.51</td>\n",
              "      <td>0.03</td>\n",
              "      <td>downsampled</td>\n",
              "    </tr>\n",
              "  </tbody>\n",
              "</table>\n",
              "</div>"
            ],
            "text/plain": [
              "                     Model  F1 score  ROC-AUC  Gini Index          Notice\n",
              "0   DecisionTreeClassifier      0.23     0.71        0.41      upsampling\n",
              "1       LogisticRegression      0.20     0.71        0.41     downsampled\n",
              "2   DecisionTreeClassifier      0.21     0.69        0.37    class_weight\n",
              "3   RandomForestClassifier      0.14     0.69        0.37    class_weight\n",
              "4   RandomForestClassifier      0.11     0.68        0.36      upsampling\n",
              "5       LogisticRegression      0.19     0.67        0.35    class_weight\n",
              "6       LogisticRegression      0.16     0.67        0.35  threshold=0.19\n",
              "7       LogisticRegression      0.17     0.63        0.27      upsampling\n",
              "8       CatBoostClassifier      0.17     0.61        0.21    class_weight\n",
              "9   DecisionTreeClassifier      0.20     0.60        0.19     downsampled\n",
              "10  RandomForestClassifier      0.15     0.52        0.03     downsampled\n",
              "11      CatBoostClassifier      0.10     0.51        0.01      upsampling\n",
              "12      CatBoostClassifier      0.11     0.51        0.03     downsampled"
            ]
          },
          "execution_count": 191,
          "metadata": {},
          "output_type": "execute_result"
        }
      ],
      "source": [
        "table_models = (pd.DataFrame({'Model':tabl_model, 'F1 score':tabl_prec, 'ROC-AUC':tabl_roc_auc, 'Gini Index':tabl_gini, 'Notice': tabl_not}).sort_values(by='ROC-AUC', ascending=False).\n",
        "                  reset_index(drop=True))\n",
        "table_models"
      ]
    },
    {
      "attachments": {},
      "cell_type": "markdown",
      "metadata": {
        "id": "lhR8Lix9d3sK"
      },
      "source": [
        "#### Модель Дерево решений "
      ]
    },
    {
      "cell_type": "code",
      "execution_count": 192,
      "metadata": {
        "colab": {
          "base_uri": "https://localhost:8080/"
        },
        "id": "VNfjnIpGd3sK",
        "outputId": "3890c2aa-1831-4da9-c5be-c0c6789e7822"
      },
      "outputs": [
        {
          "name": "stdout",
          "output_type": "stream",
          "text": [
            "Порог = 0.00 | Точность = 0.071, Полнота = 0.929, F1-мера = 0.133\n",
            "Порог = 0.01 | Точность = 0.071, Полнота = 0.929, F1-мера = 0.133\n",
            "Порог = 0.02 | Точность = 0.071, Полнота = 0.929, F1-мера = 0.133\n",
            "Порог = 0.03 | Точность = 0.120, Полнота = 0.857, F1-мера = 0.211\n",
            "Порог = 0.04 | Точность = 0.120, Полнота = 0.857, F1-мера = 0.211\n",
            "Порог = 0.05 | Точность = 0.120, Полнота = 0.857, F1-мера = 0.211\n",
            "Порог = 0.06 | Точность = 0.126, Полнота = 0.857, F1-мера = 0.220\n",
            "Порог = 0.07 | Точность = 0.126, Полнота = 0.857, F1-мера = 0.220\n",
            "Порог = 0.08 | Точность = 0.126, Полнота = 0.857, F1-мера = 0.220\n",
            "Порог = 0.09 | Точность = 0.161, Полнота = 0.714, F1-мера = 0.263\n",
            "Порог = 0.10 | Точность = 0.153, Полнота = 0.643, F1-мера = 0.247\n",
            "Порог = 0.11 | Точность = 0.182, Полнота = 0.143, F1-мера = 0.160\n",
            "Порог = 0.12 | Точность = 0.182, Полнота = 0.143, F1-мера = 0.160\n",
            "Порог = 0.13 | Точность = 0.182, Полнота = 0.143, F1-мера = 0.160\n",
            "Порог = 0.14 | Точность = 0.182, Полнота = 0.143, F1-мера = 0.160\n",
            "Порог = 0.15 | Точность = 0.182, Полнота = 0.143, F1-мера = 0.160\n",
            "Порог = 0.16 | Точность = 0.182, Полнота = 0.143, F1-мера = 0.160\n",
            "Порог = 0.17 | Точность = 0.200, Полнота = 0.143, F1-мера = 0.167\n",
            "Порог = 0.18 | Точность = 0.200, Полнота = 0.143, F1-мера = 0.167\n",
            "Порог = 0.19 | Точность = 0.200, Полнота = 0.143, F1-мера = 0.167\n",
            "Порог = 0.20 | Точность = 0.200, Полнота = 0.143, F1-мера = 0.167\n",
            "Порог = 0.21 | Точность = 0.200, Полнота = 0.143, F1-мера = 0.167\n",
            "Порог = 0.22 | Точность = 0.200, Полнота = 0.143, F1-мера = 0.167\n",
            "Порог = 0.23 | Точность = 0.200, Полнота = 0.143, F1-мера = 0.167\n",
            "Порог = 0.24 | Точность = 0.200, Полнота = 0.143, F1-мера = 0.167\n",
            "Порог = 0.25 | Точность = 0.200, Полнота = 0.143, F1-мера = 0.167\n",
            "Порог = 0.26 | Точность = 0.200, Полнота = 0.143, F1-мера = 0.167\n",
            "Порог = 0.27 | Точность = 0.200, Полнота = 0.143, F1-мера = 0.167\n",
            "Порог = 0.28 | Точность = 0.200, Полнота = 0.143, F1-мера = 0.167\n",
            "Порог = 0.29 | Точность = 0.200, Полнота = 0.143, F1-мера = 0.167\n",
            "ROC-AUC = 0.730\n",
            "F1-мера = 0.263\n",
            "Gini Index = 0.459\n",
            "\n",
            "CPU times: user 135 ms, sys: 3.66 ms, total: 139 ms\n",
            "Wall time: 136 ms\n"
          ]
        }
      ],
      "source": [
        "%%time\n",
        "1 + 1\n",
        "model = DecisionTreeClassifier(max_depth=5)\n",
        "model.fit(features_train, target_train)\n",
        "probabilities_valid = model.predict_proba(features_valid)[:, 1]\n",
        "\n",
        "best_f1 = 0\n",
        "for threshold in np.arange(0, 0.3, 0.01):\n",
        "    predicted_valid = probabilities_valid > threshold \n",
        "    precision = precision_score(target_valid, predicted_valid)\n",
        "    recall = recall_score(target_valid, predicted_valid)\n",
        "    F1 = f1_score(target_valid, predicted_valid)\n",
        "    print(\"Порог = {:.2f} | Точность = {:.3f}, Полнота = {:.3f}, F1-мера = {:.3f}\".format(threshold, precision, recall, F1))\n",
        "    if F1>best_f1:\n",
        "        best_f1 = F1\n",
        "\n",
        "auc_roc = roc_auc_score(target_valid, probabilities_valid)\n",
        "print(\"ROC-AUC = {:.3f}\".format(auc_roc))     \n",
        "print(\"F1-мера = {:.3f}\".format(best_f1))\n",
        "\n",
        "gini = 2 * auc_roc - 1\n",
        "print(\"Gini Index = {:.3f}\\n\".format(gini))\n",
        "tabl_gini.append(round(gini, 2))"
      ]
    },
    {
      "cell_type": "code",
      "execution_count": 193,
      "metadata": {
        "colab": {
          "base_uri": "https://localhost:8080/",
          "height": 564
        },
        "id": "rWC_IojAd3sK",
        "outputId": "abfd75f3-ed7d-40d4-ae24-a600f333e15d"
      },
      "outputs": [
        {
          "data": {
            "image/png": "[encoded data removed]",
            "text/plain": [
              "<Figure size 600x600 with 1 Axes>"
            ]
          },
          "metadata": {},
          "output_type": "display_data"
        }
      ],
      "source": [
        "probabilities_valid = model.predict_proba(features_valid)\n",
        "precision, recall, thresholds = precision_recall_curve(target_valid, probabilities_valid[:, 1])\n",
        "\n",
        "plt.figure(figsize=(6, 6))\n",
        "plt.step(recall, precision, where='post')\n",
        "plt.xlabel('Recall')\n",
        "plt.ylabel('Precision')\n",
        "plt.ylim([0.0, 1.05])\n",
        "plt.xlim([0.0, 1.0])\n",
        "plt.title('Кривая Precision-Recall')\n",
        "plt.show()"
      ]
    },
    {
      "attachments": {},
      "cell_type": "markdown",
      "metadata": {
        "id": "WiMdARhxd3sK"
      },
      "source": [
        "Для порога 0.4 самый высокий показатель F1"
      ]
    },
    {
      "cell_type": "code",
      "execution_count": 194,
      "metadata": {
        "id": "OZti6s4Gd3sL"
      },
      "outputs": [],
      "source": [
        "tabl_prec.append(round(best_f1, 2))\n",
        "tabl_roc_auc.append(round(auc_roc,2))\n",
        "tabl_model.append('DecisionTreeClassifier')\n",
        "tabl_not.append('threshold=0.09')"
      ]
    },
    {
      "cell_type": "code",
      "execution_count": 195,
      "metadata": {
        "colab": {
          "base_uri": "https://localhost:8080/",
          "height": 488
        },
        "id": "47ny3Lf9d3sL",
        "outputId": "39bd21cd-a2f9-4e0b-9183-f8ddb099713e"
      },
      "outputs": [
        {
          "data": {
            "text/html": [
              "<div>\n",
              "<style scoped>\n",
              "    .dataframe tbody tr th:only-of-type {\n",
              "        vertical-align: middle;\n",
              "    }\n",
              "\n",
              "    .dataframe tbody tr th {\n",
              "        vertical-align: top;\n",
              "    }\n",
              "\n",
              "    .dataframe thead th {\n",
              "        text-align: right;\n",
              "    }\n",
              "</style>\n",
              "<table border=\"1\" class=\"dataframe\">\n",
              "  <thead>\n",
              "    <tr style=\"text-align: right;\">\n",
              "      <th></th>\n",
              "      <th>Model</th>\n",
              "      <th>F1 score</th>\n",
              "      <th>ROC-AUC</th>\n",
              "      <th>Gini Index</th>\n",
              "      <th>Notice</th>\n",
              "    </tr>\n",
              "  </thead>\n",
              "  <tbody>\n",
              "    <tr>\n",
              "      <th>0</th>\n",
              "      <td>DecisionTreeClassifier</td>\n",
              "      <td>0.26</td>\n",
              "      <td>0.73</td>\n",
              "      <td>0.46</td>\n",
              "      <td>threshold=0.09</td>\n",
              "    </tr>\n",
              "    <tr>\n",
              "      <th>1</th>\n",
              "      <td>DecisionTreeClassifier</td>\n",
              "      <td>0.23</td>\n",
              "      <td>0.71</td>\n",
              "      <td>0.41</td>\n",
              "      <td>upsampling</td>\n",
              "    </tr>\n",
              "    <tr>\n",
              "      <th>2</th>\n",
              "      <td>LogisticRegression</td>\n",
              "      <td>0.20</td>\n",
              "      <td>0.71</td>\n",
              "      <td>0.41</td>\n",
              "      <td>downsampled</td>\n",
              "    </tr>\n",
              "    <tr>\n",
              "      <th>3</th>\n",
              "      <td>DecisionTreeClassifier</td>\n",
              "      <td>0.21</td>\n",
              "      <td>0.69</td>\n",
              "      <td>0.37</td>\n",
              "      <td>class_weight</td>\n",
              "    </tr>\n",
              "    <tr>\n",
              "      <th>4</th>\n",
              "      <td>RandomForestClassifier</td>\n",
              "      <td>0.14</td>\n",
              "      <td>0.69</td>\n",
              "      <td>0.37</td>\n",
              "      <td>class_weight</td>\n",
              "    </tr>\n",
              "    <tr>\n",
              "      <th>5</th>\n",
              "      <td>RandomForestClassifier</td>\n",
              "      <td>0.11</td>\n",
              "      <td>0.68</td>\n",
              "      <td>0.36</td>\n",
              "      <td>upsampling</td>\n",
              "    </tr>\n",
              "    <tr>\n",
              "      <th>6</th>\n",
              "      <td>LogisticRegression</td>\n",
              "      <td>0.19</td>\n",
              "      <td>0.67</td>\n",
              "      <td>0.35</td>\n",
              "      <td>class_weight</td>\n",
              "    </tr>\n",
              "    <tr>\n",
              "      <th>7</th>\n",
              "      <td>LogisticRegression</td>\n",
              "      <td>0.16</td>\n",
              "      <td>0.67</td>\n",
              "      <td>0.35</td>\n",
              "      <td>threshold=0.19</td>\n",
              "    </tr>\n",
              "    <tr>\n",
              "      <th>8</th>\n",
              "      <td>LogisticRegression</td>\n",
              "      <td>0.17</td>\n",
              "      <td>0.63</td>\n",
              "      <td>0.27</td>\n",
              "      <td>upsampling</td>\n",
              "    </tr>\n",
              "    <tr>\n",
              "      <th>9</th>\n",
              "      <td>CatBoostClassifier</td>\n",
              "      <td>0.17</td>\n",
              "      <td>0.61</td>\n",
              "      <td>0.21</td>\n",
              "      <td>class_weight</td>\n",
              "    </tr>\n",
              "    <tr>\n",
              "      <th>10</th>\n",
              "      <td>DecisionTreeClassifier</td>\n",
              "      <td>0.20</td>\n",
              "      <td>0.60</td>\n",
              "      <td>0.19</td>\n",
              "      <td>downsampled</td>\n",
              "    </tr>\n",
              "    <tr>\n",
              "      <th>11</th>\n",
              "      <td>RandomForestClassifier</td>\n",
              "      <td>0.15</td>\n",
              "      <td>0.52</td>\n",
              "      <td>0.03</td>\n",
              "      <td>downsampled</td>\n",
              "    </tr>\n",
              "    <tr>\n",
              "      <th>12</th>\n",
              "      <td>CatBoostClassifier</td>\n",
              "      <td>0.10</td>\n",
              "      <td>0.51</td>\n",
              "      <td>0.01</td>\n",
              "      <td>upsampling</td>\n",
              "    </tr>\n",
              "    <tr>\n",
              "      <th>13</th>\n",
              "      <td>CatBoostClassifier</td>\n",
              "      <td>0.11</td>\n",
              "      <td>0.51</td>\n",
              "      <td>0.03</td>\n",
              "      <td>downsampled</td>\n",
              "    </tr>\n",
              "  </tbody>\n",
              "</table>\n",
              "</div>"
            ],
            "text/plain": [
              "                     Model  F1 score  ROC-AUC  Gini Index          Notice\n",
              "0   DecisionTreeClassifier      0.26     0.73        0.46  threshold=0.09\n",
              "1   DecisionTreeClassifier      0.23     0.71        0.41      upsampling\n",
              "2       LogisticRegression      0.20     0.71        0.41     downsampled\n",
              "3   DecisionTreeClassifier      0.21     0.69        0.37    class_weight\n",
              "4   RandomForestClassifier      0.14     0.69        0.37    class_weight\n",
              "5   RandomForestClassifier      0.11     0.68        0.36      upsampling\n",
              "6       LogisticRegression      0.19     0.67        0.35    class_weight\n",
              "7       LogisticRegression      0.16     0.67        0.35  threshold=0.19\n",
              "8       LogisticRegression      0.17     0.63        0.27      upsampling\n",
              "9       CatBoostClassifier      0.17     0.61        0.21    class_weight\n",
              "10  DecisionTreeClassifier      0.20     0.60        0.19     downsampled\n",
              "11  RandomForestClassifier      0.15     0.52        0.03     downsampled\n",
              "12      CatBoostClassifier      0.10     0.51        0.01      upsampling\n",
              "13      CatBoostClassifier      0.11     0.51        0.03     downsampled"
            ]
          },
          "execution_count": 195,
          "metadata": {},
          "output_type": "execute_result"
        }
      ],
      "source": [
        "table_models = (pd.DataFrame({'Model':tabl_model, 'F1 score':tabl_prec, 'ROC-AUC':tabl_roc_auc, 'Gini Index':tabl_gini, 'Notice': tabl_not}).sort_values(by='ROC-AUC', ascending=False).\n",
        "                  reset_index(drop=True))\n",
        "table_models"
      ]
    },
    {
      "attachments": {},
      "cell_type": "markdown",
      "metadata": {
        "id": "m657X25Id3sL"
      },
      "source": [
        "#### Модель случайный лес"
      ]
    },
    {
      "cell_type": "code",
      "execution_count": 196,
      "metadata": {
        "colab": {
          "base_uri": "https://localhost:8080/"
        },
        "id": "6XghQN7hd3sL",
        "outputId": "7ec8bf90-13e0-4327-a35c-b8a6c39fe056"
      },
      "outputs": [
        {
          "name": "stdout",
          "output_type": "stream",
          "text": [
            "Порог = 0.00 | Точность = 0.075, Полнота = 1.000, F1-мера = 0.139\n",
            "Порог = 0.01 | Точность = 0.084, Полнота = 1.000, F1-мера = 0.155\n",
            "Порог = 0.02 | Точность = 0.085, Полнота = 0.929, F1-мера = 0.156\n",
            "Порог = 0.03 | Точность = 0.085, Полнота = 0.857, F1-мера = 0.155\n",
            "Порог = 0.04 | Точность = 0.085, Полнота = 0.786, F1-мера = 0.154\n",
            "Порог = 0.05 | Точность = 0.097, Полнота = 0.786, F1-мера = 0.173\n",
            "Порог = 0.06 | Точность = 0.093, Полнота = 0.714, F1-мера = 0.165\n",
            "Порог = 0.07 | Точность = 0.075, Полнота = 0.500, F1-мера = 0.131\n",
            "Порог = 0.08 | Точность = 0.081, Полнота = 0.500, F1-мера = 0.140\n",
            "Порог = 0.09 | Точность = 0.089, Полнота = 0.500, F1-мера = 0.151\n",
            "Порог = 0.10 | Точность = 0.083, Полнота = 0.429, F1-мера = 0.140\n",
            "Порог = 0.11 | Точность = 0.094, Полнота = 0.429, F1-мера = 0.154\n",
            "Порог = 0.12 | Точность = 0.100, Полнота = 0.429, F1-мера = 0.162\n",
            "Порог = 0.13 | Точность = 0.088, Полнота = 0.357, F1-мера = 0.141\n",
            "Порог = 0.14 | Точность = 0.098, Полнота = 0.357, F1-мера = 0.154\n",
            "Порог = 0.15 | Точность = 0.087, Полнота = 0.286, F1-мера = 0.133\n",
            "Порог = 0.16 | Точность = 0.095, Полнота = 0.286, F1-мера = 0.143\n",
            "Порог = 0.17 | Точность = 0.114, Полнота = 0.286, F1-мера = 0.163\n",
            "Порог = 0.18 | Точность = 0.114, Полнота = 0.286, F1-мера = 0.163\n",
            "Порог = 0.19 | Точность = 0.121, Полнота = 0.286, F1-мера = 0.170\n",
            "Порог = 0.20 | Точность = 0.111, Полнота = 0.214, F1-мера = 0.146\n",
            "Порог = 0.21 | Точность = 0.120, Полнота = 0.214, F1-мера = 0.154\n",
            "Порог = 0.22 | Точность = 0.136, Полнота = 0.214, F1-мера = 0.167\n",
            "Порог = 0.23 | Точность = 0.100, Полнота = 0.143, F1-мера = 0.118\n",
            "Порог = 0.24 | Точность = 0.118, Полнота = 0.143, F1-мера = 0.129\n",
            "Порог = 0.25 | Точность = 0.071, Полнота = 0.071, F1-мера = 0.071\n",
            "Порог = 0.26 | Точность = 0.091, Полнота = 0.071, F1-мера = 0.080\n",
            "Порог = 0.27 | Точность = 0.111, Полнота = 0.071, F1-мера = 0.087\n",
            "Порог = 0.28 | Точность = 0.125, Полнота = 0.071, F1-мера = 0.091\n",
            "Порог = 0.29 | Точность = 0.125, Полнота = 0.071, F1-мера = 0.091\n",
            "ROC-AUC = 0.618\n",
            "F1-мера = 0.173\n",
            "Gini Index = 0.236\n",
            "\n",
            "CPU times: user 202 ms, sys: 3.23 ms, total: 205 ms\n",
            "Wall time: 204 ms\n"
          ]
        }
      ],
      "source": [
        "%%time\n",
        "1 + 1\n",
        "model = RandomForestClassifier(max_depth=17, min_samples_leaf=2, min_samples_split=12,\n",
        "                       n_estimators=30, random_state=12345)\n",
        "\n",
        "model.fit(features_train, target_train)\n",
        "probabilities_valid = model.predict_proba(features_valid)[:, 1]\n",
        "\n",
        "best_f1 = 0 \n",
        "\n",
        "for threshold in np.arange(0, 0.3, 0.01):\n",
        "    predicted_valid = probabilities_valid > threshold\n",
        "    precision = precision_score(target_valid, predicted_valid)\n",
        "    recall = recall_score(target_valid, predicted_valid)\n",
        "    F1 = f1_score(target_valid, predicted_valid)\n",
        "    print(\"Порог = {:.2f} | Точность = {:.3f}, Полнота = {:.3f}, F1-мера = {:.3f}\".format(threshold, precision, recall, F1))\n",
        "    if F1>best_f1:\n",
        "        best_f1 = F1\n",
        "\n",
        "auc_roc = roc_auc_score(target_valid, probabilities_valid)\n",
        "print(\"ROC-AUC = {:.3f}\".format(auc_roc))     \n",
        "print(\"F1-мера = {:.3f}\".format(best_f1)) \n",
        "\n",
        "gini = 2 * auc_roc - 1\n",
        "print(\"Gini Index = {:.3f}\\n\".format(gini))\n",
        "tabl_gini.append(round(gini, 2))"
      ]
    },
    {
      "cell_type": "code",
      "execution_count": 197,
      "metadata": {
        "colab": {
          "base_uri": "https://localhost:8080/",
          "height": 564
        },
        "id": "onjQ1D5ud3sL",
        "outputId": "dab418f7-72e7-4ebf-c698-ded286271341"
      },
      "outputs": [
        {
          "data": {
            "image/png": "[encoded data removed]",
            "text/plain": [
              "<Figure size 600x600 with 1 Axes>"
            ]
          },
          "metadata": {},
          "output_type": "display_data"
        }
      ],
      "source": [
        "probabilities_valid = model.predict_proba(features_valid)\n",
        "precision, recall, thresholds = precision_recall_curve(target_valid, probabilities_valid[:, 1])\n",
        "\n",
        "plt.figure(figsize=(6, 6))\n",
        "plt.step(recall, precision, where='post')\n",
        "plt.xlabel('Recall')\n",
        "plt.ylabel('Precision')\n",
        "plt.ylim([0.0, 1.05])\n",
        "plt.xlim([0.0, 1.0])\n",
        "plt.title('Кривая Precision-Recall')\n",
        "plt.show()"
      ]
    },
    {
      "cell_type": "code",
      "execution_count": 198,
      "metadata": {
        "id": "wIBk6-_qd3sM"
      },
      "outputs": [],
      "source": [
        "tabl_prec.append(round(best_f1, 2))\n",
        "tabl_roc_auc.append(round(auc_roc,2))\n",
        "tabl_model.append('RandomForestClassifier')\n",
        "tabl_not.append('threshold=0.05')"
      ]
    },
    {
      "cell_type": "code",
      "execution_count": 199,
      "metadata": {
        "colab": {
          "base_uri": "https://localhost:8080/"
        },
        "id": "XOJj8aQ9d3sM",
        "outputId": "e9b3affe-691e-4579-fd84-f9199ccc2253"
      },
      "outputs": [
        {
          "name": "stdout",
          "output_type": "stream",
          "text": [
            "Learning rate set to 0.008283\n",
            "0:\tlearn: 0.6849106\ttotal: 893us\tremaining: 893ms\n",
            "100:\tlearn: 0.3375026\ttotal: 69.9ms\tremaining: 622ms\n",
            "200:\tlearn: 0.2706317\ttotal: 139ms\tremaining: 554ms\n",
            "300:\tlearn: 0.2403189\ttotal: 211ms\tremaining: 491ms\n",
            "400:\tlearn: 0.2217593\ttotal: 283ms\tremaining: 422ms\n",
            "500:\tlearn: 0.2073118\ttotal: 377ms\tremaining: 375ms\n",
            "600:\tlearn: 0.1955484\ttotal: 449ms\tremaining: 298ms\n",
            "700:\tlearn: 0.1836469\ttotal: 518ms\tremaining: 221ms\n",
            "800:\tlearn: 0.1728261\ttotal: 602ms\tremaining: 150ms\n",
            "900:\tlearn: 0.1628763\ttotal: 695ms\tremaining: 76.4ms\n",
            "999:\tlearn: 0.1537580\ttotal: 767ms\tremaining: 0us\n",
            "Порог = 0.00 | Точность = 0.070, Полнота = 1.000, F1-мера = 0.131\n",
            "Порог = 0.01 | Точность = 0.071, Полнота = 1.000, F1-мера = 0.133\n",
            "Порог = 0.02 | Точность = 0.081, Полнота = 1.000, F1-мера = 0.150\n",
            "Порог = 0.03 | Точность = 0.088, Полнота = 0.929, F1-мера = 0.160\n",
            "Порог = 0.04 | Точность = 0.094, Полнота = 0.857, F1-мера = 0.170\n",
            "Порог = 0.05 | Точность = 0.106, Полнота = 0.857, F1-мера = 0.189\n",
            "Порог = 0.06 | Точность = 0.097, Полнота = 0.643, F1-мера = 0.168\n",
            "Порог = 0.07 | Точность = 0.100, Полнота = 0.500, F1-мера = 0.167\n",
            "Порог = 0.08 | Точность = 0.109, Полнота = 0.500, F1-мера = 0.179\n",
            "Порог = 0.09 | Точность = 0.107, Полнота = 0.429, F1-мера = 0.171\n",
            "Порог = 0.10 | Точность = 0.096, Полнота = 0.357, F1-мера = 0.152\n",
            "Порог = 0.11 | Точность = 0.116, Полнота = 0.357, F1-мера = 0.175\n",
            "Порог = 0.12 | Точность = 0.075, Полнота = 0.214, F1-мера = 0.111\n",
            "Порог = 0.13 | Точность = 0.083, Полнота = 0.214, F1-мера = 0.120\n",
            "Порог = 0.14 | Точность = 0.100, Полнота = 0.214, F1-мера = 0.136\n",
            "Порог = 0.15 | Точность = 0.074, Полнота = 0.143, F1-мера = 0.098\n",
            "Порог = 0.16 | Точность = 0.087, Полнота = 0.143, F1-мера = 0.108\n",
            "Порог = 0.17 | Точность = 0.087, Полнота = 0.143, F1-мера = 0.108\n",
            "Порог = 0.18 | Точность = 0.100, Полнота = 0.143, F1-мера = 0.118\n",
            "Порог = 0.19 | Точность = 0.111, Полнота = 0.143, F1-мера = 0.125\n",
            "Порог = 0.20 | Точность = 0.118, Полнота = 0.143, F1-мера = 0.129\n",
            "Порог = 0.21 | Точность = 0.118, Полнота = 0.143, F1-мера = 0.129\n",
            "Порог = 0.22 | Точность = 0.118, Полнота = 0.143, F1-мера = 0.129\n",
            "Порог = 0.23 | Точность = 0.143, Полнота = 0.143, F1-мера = 0.143\n",
            "Порог = 0.24 | Точность = 0.154, Полнота = 0.143, F1-мера = 0.148\n",
            "Порог = 0.25 | Точность = 0.091, Полнота = 0.071, F1-мера = 0.080\n",
            "Порог = 0.26 | Точность = 0.100, Полнота = 0.071, F1-мера = 0.083\n",
            "Порог = 0.27 | Точность = 0.111, Полнота = 0.071, F1-мера = 0.087\n",
            "Порог = 0.28 | Точность = 0.125, Полнота = 0.071, F1-мера = 0.091\n",
            "Порог = 0.29 | Точность = 0.143, Полнота = 0.071, F1-мера = 0.095\n",
            "ROC-AUC = 0.653\n",
            "F1-мера = 0.189\n",
            "Gini Index = 0.306\n",
            "\n",
            "CPU times: user 1.82 s, sys: 346 ms, total: 2.17 s\n",
            "Wall time: 1.26 s\n"
          ]
        }
      ],
      "source": [
        "%%time\n",
        "1 + 1\n",
        "model = CatBoostClassifier(verbose=100, random_state=12345)\n",
        "\n",
        "model.fit(features_train, target_train)\n",
        "probabilities_valid = model.predict_proba(features_valid)[:, 1]\n",
        "\n",
        "best_f1 = 0 \n",
        "\n",
        "for threshold in np.arange(0, 0.3, 0.01):\n",
        "    predicted_valid = probabilities_valid > threshold \n",
        "    precision = precision_score(target_valid, predicted_valid)\n",
        "    recall = recall_score(target_valid, predicted_valid)\n",
        "    F1 = f1_score(target_valid, predicted_valid)\n",
        "    print(\"Порог = {:.2f} | Точность = {:.3f}, Полнота = {:.3f}, F1-мера = {:.3f}\".format(threshold, precision, recall, F1))\n",
        "    if F1>best_f1:\n",
        "        best_f1 = F1\n",
        "\n",
        "auc_roc = roc_auc_score(target_valid, probabilities_valid)\n",
        "print(\"ROC-AUC = {:.3f}\".format(auc_roc))     \n",
        "print(\"F1-мера = {:.3f}\".format(best_f1)) \n",
        "\n",
        "gini = 2 * auc_roc - 1\n",
        "print(\"Gini Index = {:.3f}\\n\".format(gini))\n",
        "tabl_gini.append(round(gini, 2))"
      ]
    },
    {
      "cell_type": "code",
      "execution_count": 200,
      "metadata": {
        "colab": {
          "base_uri": "https://localhost:8080/",
          "height": 564
        },
        "id": "taufVcnWd3sM",
        "outputId": "3d0d5045-9b18-4944-c60c-7dfca381069e"
      },
      "outputs": [
        {
          "data": {
            "image/png": "[encoded data removed]",
            "text/plain": [
              "<Figure size 600x600 with 1 Axes>"
            ]
          },
          "metadata": {},
          "output_type": "display_data"
        }
      ],
      "source": [
        "probabilities_valid = model.predict_proba(features_valid)\n",
        "precision, recall, thresholds = precision_recall_curve(target_valid, probabilities_valid[:, 1])\n",
        "\n",
        "plt.figure(figsize=(6, 6))\n",
        "plt.step(recall, precision, where='post')\n",
        "plt.xlabel('Recall')\n",
        "plt.ylabel('Precision')\n",
        "plt.ylim([0.0, 1.05])\n",
        "plt.xlim([0.0, 1.0])\n",
        "plt.title('Кривая Precision-Recall')\n",
        "plt.show()"
      ]
    },
    {
      "cell_type": "code",
      "execution_count": 201,
      "metadata": {
        "id": "efO-igTTd3sN"
      },
      "outputs": [],
      "source": [
        "tabl_prec.append(round(best_f1, 2))\n",
        "tabl_roc_auc.append(round(auc_roc,2))\n",
        "tabl_model.append('CatBoostClassifier')\n",
        "tabl_not.append('threshold=0.05')"
      ]
    },
    {
      "cell_type": "code",
      "execution_count": 202,
      "metadata": {
        "colab": {
          "base_uri": "https://localhost:8080/",
          "height": 551
        },
        "id": "OQiSTZ55d3sN",
        "outputId": "c84126c7-4b0f-40d8-a33b-2356d091fd4c"
      },
      "outputs": [
        {
          "data": {
            "text/html": [
              "<div>\n",
              "<style scoped>\n",
              "    .dataframe tbody tr th:only-of-type {\n",
              "        vertical-align: middle;\n",
              "    }\n",
              "\n",
              "    .dataframe tbody tr th {\n",
              "        vertical-align: top;\n",
              "    }\n",
              "\n",
              "    .dataframe thead th {\n",
              "        text-align: right;\n",
              "    }\n",
              "</style>\n",
              "<table border=\"1\" class=\"dataframe\">\n",
              "  <thead>\n",
              "    <tr style=\"text-align: right;\">\n",
              "      <th></th>\n",
              "      <th>Model</th>\n",
              "      <th>F1 score</th>\n",
              "      <th>ROC-AUC</th>\n",
              "      <th>Gini Index</th>\n",
              "      <th>Notice</th>\n",
              "    </tr>\n",
              "  </thead>\n",
              "  <tbody>\n",
              "    <tr>\n",
              "      <th>0</th>\n",
              "      <td>DecisionTreeClassifier</td>\n",
              "      <td>0.26</td>\n",
              "      <td>0.73</td>\n",
              "      <td>0.46</td>\n",
              "      <td>threshold=0.09</td>\n",
              "    </tr>\n",
              "    <tr>\n",
              "      <th>1</th>\n",
              "      <td>DecisionTreeClassifier</td>\n",
              "      <td>0.23</td>\n",
              "      <td>0.71</td>\n",
              "      <td>0.41</td>\n",
              "      <td>upsampling</td>\n",
              "    </tr>\n",
              "    <tr>\n",
              "      <th>2</th>\n",
              "      <td>LogisticRegression</td>\n",
              "      <td>0.20</td>\n",
              "      <td>0.71</td>\n",
              "      <td>0.41</td>\n",
              "      <td>downsampled</td>\n",
              "    </tr>\n",
              "    <tr>\n",
              "      <th>3</th>\n",
              "      <td>DecisionTreeClassifier</td>\n",
              "      <td>0.21</td>\n",
              "      <td>0.69</td>\n",
              "      <td>0.37</td>\n",
              "      <td>class_weight</td>\n",
              "    </tr>\n",
              "    <tr>\n",
              "      <th>4</th>\n",
              "      <td>RandomForestClassifier</td>\n",
              "      <td>0.14</td>\n",
              "      <td>0.69</td>\n",
              "      <td>0.37</td>\n",
              "      <td>class_weight</td>\n",
              "    </tr>\n",
              "    <tr>\n",
              "      <th>5</th>\n",
              "      <td>RandomForestClassifier</td>\n",
              "      <td>0.11</td>\n",
              "      <td>0.68</td>\n",
              "      <td>0.36</td>\n",
              "      <td>upsampling</td>\n",
              "    </tr>\n",
              "    <tr>\n",
              "      <th>6</th>\n",
              "      <td>LogisticRegression</td>\n",
              "      <td>0.19</td>\n",
              "      <td>0.67</td>\n",
              "      <td>0.35</td>\n",
              "      <td>class_weight</td>\n",
              "    </tr>\n",
              "    <tr>\n",
              "      <th>7</th>\n",
              "      <td>LogisticRegression</td>\n",
              "      <td>0.16</td>\n",
              "      <td>0.67</td>\n",
              "      <td>0.35</td>\n",
              "      <td>threshold=0.19</td>\n",
              "    </tr>\n",
              "    <tr>\n",
              "      <th>8</th>\n",
              "      <td>CatBoostClassifier</td>\n",
              "      <td>0.19</td>\n",
              "      <td>0.65</td>\n",
              "      <td>0.31</td>\n",
              "      <td>threshold=0.05</td>\n",
              "    </tr>\n",
              "    <tr>\n",
              "      <th>9</th>\n",
              "      <td>LogisticRegression</td>\n",
              "      <td>0.17</td>\n",
              "      <td>0.63</td>\n",
              "      <td>0.27</td>\n",
              "      <td>upsampling</td>\n",
              "    </tr>\n",
              "    <tr>\n",
              "      <th>10</th>\n",
              "      <td>RandomForestClassifier</td>\n",
              "      <td>0.17</td>\n",
              "      <td>0.62</td>\n",
              "      <td>0.24</td>\n",
              "      <td>threshold=0.05</td>\n",
              "    </tr>\n",
              "    <tr>\n",
              "      <th>11</th>\n",
              "      <td>CatBoostClassifier</td>\n",
              "      <td>0.17</td>\n",
              "      <td>0.61</td>\n",
              "      <td>0.21</td>\n",
              "      <td>class_weight</td>\n",
              "    </tr>\n",
              "    <tr>\n",
              "      <th>12</th>\n",
              "      <td>DecisionTreeClassifier</td>\n",
              "      <td>0.20</td>\n",
              "      <td>0.60</td>\n",
              "      <td>0.19</td>\n",
              "      <td>downsampled</td>\n",
              "    </tr>\n",
              "    <tr>\n",
              "      <th>13</th>\n",
              "      <td>RandomForestClassifier</td>\n",
              "      <td>0.15</td>\n",
              "      <td>0.52</td>\n",
              "      <td>0.03</td>\n",
              "      <td>downsampled</td>\n",
              "    </tr>\n",
              "    <tr>\n",
              "      <th>14</th>\n",
              "      <td>CatBoostClassifier</td>\n",
              "      <td>0.10</td>\n",
              "      <td>0.51</td>\n",
              "      <td>0.01</td>\n",
              "      <td>upsampling</td>\n",
              "    </tr>\n",
              "    <tr>\n",
              "      <th>15</th>\n",
              "      <td>CatBoostClassifier</td>\n",
              "      <td>0.11</td>\n",
              "      <td>0.51</td>\n",
              "      <td>0.03</td>\n",
              "      <td>downsampled</td>\n",
              "    </tr>\n",
              "  </tbody>\n",
              "</table>\n",
              "</div>"
            ],
            "text/plain": [
              "                     Model  F1 score  ROC-AUC  Gini Index          Notice\n",
              "0   DecisionTreeClassifier      0.26     0.73        0.46  threshold=0.09\n",
              "1   DecisionTreeClassifier      0.23     0.71        0.41      upsampling\n",
              "2       LogisticRegression      0.20     0.71        0.41     downsampled\n",
              "3   DecisionTreeClassifier      0.21     0.69        0.37    class_weight\n",
              "4   RandomForestClassifier      0.14     0.69        0.37    class_weight\n",
              "5   RandomForestClassifier      0.11     0.68        0.36      upsampling\n",
              "6       LogisticRegression      0.19     0.67        0.35    class_weight\n",
              "7       LogisticRegression      0.16     0.67        0.35  threshold=0.19\n",
              "8       CatBoostClassifier      0.19     0.65        0.31  threshold=0.05\n",
              "9       LogisticRegression      0.17     0.63        0.27      upsampling\n",
              "10  RandomForestClassifier      0.17     0.62        0.24  threshold=0.05\n",
              "11      CatBoostClassifier      0.17     0.61        0.21    class_weight\n",
              "12  DecisionTreeClassifier      0.20     0.60        0.19     downsampled\n",
              "13  RandomForestClassifier      0.15     0.52        0.03     downsampled\n",
              "14      CatBoostClassifier      0.10     0.51        0.01      upsampling\n",
              "15      CatBoostClassifier      0.11     0.51        0.03     downsampled"
            ]
          },
          "execution_count": 202,
          "metadata": {},
          "output_type": "execute_result"
        }
      ],
      "source": [
        "table_models = (pd.DataFrame({'Model':tabl_model, 'F1 score':tabl_prec, 'ROC-AUC':tabl_roc_auc, 'Gini Index':tabl_gini, 'Notice': tabl_not}).sort_values(by='ROC-AUC', ascending=False).\n",
        "                  reset_index(drop=True))\n",
        "table_models"
      ]
    },
    {
      "attachments": {},
      "cell_type": "markdown",
      "metadata": {
        "id": "Wmp3l4knd3sN"
      },
      "source": [
        "### Вывод"
      ]
    },
    {
      "attachments": {},
      "cell_type": "markdown",
      "metadata": {
        "id": "LYr0uJWid3sN"
      },
      "source": [
        "<div class=\"alert alert-info\"> <b>\n",
        "У нас определилась самая удачная модели - DecisionTreeClassifier с лучшей F1-мерой и мерой ROC-AUC полученной с параметром threshold=0.09. Попробуем подобрать для нее оптимальные гиперпараметры.\n",
        "\n",
        "    1. Кроме того, мы выявили что при наличии дисбаланса для нашей задачи, лучше всего подходит параметр изменение порога для DecisionTreeClassifier и LogisticRegression.\n",
        "    2. Увеличение выборки показало себя лучше чем ее уменьшение. \n",
        "    3. class_weight показал себя средне\n",
        "</div>\n"
      ]
    },
    {
      "attachments": {},
      "cell_type": "markdown",
      "metadata": {
        "id": "riKdtn0lBmej"
      },
      "source": [
        "### Подбор гиперпараметров"
      ]
    },
    {
      "cell_type": "code",
      "execution_count": 203,
      "metadata": {
        "colab": {
          "base_uri": "https://localhost:8080/"
        },
        "id": "7Z478DGkIhVF",
        "outputId": "54071dba-28ac-4343-9622-41ded63d9126"
      },
      "outputs": [
        {
          "name": "stdout",
          "output_type": "stream",
          "text": [
            "Best parameters: {'max_depth': 3, 'max_features': 'sqrt', 'min_samples_leaf': 1, 'min_samples_split': 3}\n",
            "Best ROC-AUC score (training): 0.6703913939700543\n",
            "Gini Index = 0.341\n",
            "\n"
          ]
        }
      ],
      "source": [
        "# Задаем параметры для поиска по сетке\n",
        "parameters = {\n",
        "    'max_depth': range(1,10),\n",
        "    'min_samples_split': range(2,10),\n",
        "    'min_samples_leaf': range(1,5),\n",
        "    'max_features': ['sqrt', 'log2', None]\n",
        "}\n",
        "\n",
        "# Создаем модель\n",
        "clf = DecisionTreeClassifier(random_state=453)\n",
        "\n",
        "# Запускаем поиск по сетке\n",
        "grid_search = GridSearchCV(estimator=clf, param_grid=parameters, cv=5, scoring='roc_auc', n_jobs=-1)\n",
        "grid_search.fit(features_train, target_train)\n",
        "\n",
        "# Выводим лучшие параметры и лучший ROC-AUC score\n",
        "print('Best parameters:', grid_search.best_params_)\n",
        "print('Best ROC-AUC score (training):', grid_search.best_score_)\n",
        "\n",
        "auc_roc = grid_search.best_score_\n",
        "gini = 2 * auc_roc - 1\n",
        "print(\"Gini Index = {:.3f}\\n\".format(gini))"
      ]
    },
    {
      "attachments": {},
      "cell_type": "markdown",
      "metadata": {
        "id": "jpbI5vMUMhSB"
      },
      "source": [
        "## Проверяем модель на тестовой выборке"
      ]
    },
    {
      "cell_type": "code",
      "execution_count": 204,
      "metadata": {
        "id": "OBa07nAlk7Ka"
      },
      "outputs": [],
      "source": [
        "tabl_model = []\n",
        "tabl_prec = []\n",
        "tabl_not = []\n",
        "tabl_roc_auc = []\n",
        "tabl_gini = []\n",
        "tabl_params = []"
      ]
    },
    {
      "cell_type": "code",
      "execution_count": 205,
      "metadata": {
        "colab": {
          "base_uri": "https://localhost:8080/"
        },
        "id": "Act23t5UK51-",
        "outputId": "44a35996-eac0-48a4-c70c-3e813c31e892"
      },
      "outputs": [
        {
          "name": "stdout",
          "output_type": "stream",
          "text": [
            "ROC-AUC: 0.686\n",
            "Gini Index: 0.372\n",
            "F1-score: 0.352\n"
          ]
        }
      ],
      "source": [
        "# Обучаем модель с лучшими параметрами\n",
        "model_best = DecisionTreeClassifier(**grid_search.best_params_, random_state=453)\n",
        "model_best.fit(features_train, target_train)\n",
        "\n",
        "# Получаем предсказанные вероятности\n",
        "probabilities = model_best.predict_proba(features_test)[:, 1]\n",
        "\n",
        "# Устанавливаем порог и преобразуем вероятности в предсказанные классы\n",
        "threshold = 0.09\n",
        "predicted = (probabilities >= threshold).astype('int')\n",
        "\n",
        "# Получаем ROC-AUC и Gini Index для предсказаний с учетом порога\n",
        "roc_auc = roc_auc_score(target_test, probabilities)\n",
        "gini = 2 * roc_auc - 1\n",
        "print(\"ROC-AUC: {:.3f}\".format(roc_auc))\n",
        "print(\"Gini Index: {:.3f}\".format(gini))\n",
        "\n",
        "# Вычисляем и печатаем F1-score\n",
        "f1 = f1_score(target_test, predicted)\n",
        "print(\"F1-score: {:.3f}\".format(f1))"
      ]
    },
    {
      "cell_type": "code",
      "execution_count": 206,
      "metadata": {
        "id": "DPld655aaebY"
      },
      "outputs": [],
      "source": [
        "tabl_prec.append(round(f1, 2))\n",
        "tabl_roc_auc.append(round(roc_auc, 2))\n",
        "tabl_model.append('DecisionTreeClassifier')\n",
        "tabl_not.append('test')\n",
        "tabl_gini.append(round(gini, 2))\n",
        "tabl_params.append(grid_search.best_params_)\n"
      ]
    },
    {
      "cell_type": "code",
      "execution_count": 207,
      "metadata": {
        "colab": {
          "base_uri": "https://localhost:8080/",
          "height": 81
        },
        "id": "mr-iWueHaj9e",
        "outputId": "26d412f0-5473-46cf-d1e1-87e0b6680de2"
      },
      "outputs": [
        {
          "data": {
            "text/html": [
              "<div>\n",
              "<style scoped>\n",
              "    .dataframe tbody tr th:only-of-type {\n",
              "        vertical-align: middle;\n",
              "    }\n",
              "\n",
              "    .dataframe tbody tr th {\n",
              "        vertical-align: top;\n",
              "    }\n",
              "\n",
              "    .dataframe thead th {\n",
              "        text-align: right;\n",
              "    }\n",
              "</style>\n",
              "<table border=\"1\" class=\"dataframe\">\n",
              "  <thead>\n",
              "    <tr style=\"text-align: right;\">\n",
              "      <th></th>\n",
              "      <th>Model</th>\n",
              "      <th>F1 score</th>\n",
              "      <th>ROC-AUC</th>\n",
              "      <th>Gini Index</th>\n",
              "      <th>Notice</th>\n",
              "      <th>params</th>\n",
              "    </tr>\n",
              "  </thead>\n",
              "  <tbody>\n",
              "    <tr>\n",
              "      <th>0</th>\n",
              "      <td>DecisionTreeClassifier</td>\n",
              "      <td>0.35</td>\n",
              "      <td>0.69</td>\n",
              "      <td>0.37</td>\n",
              "      <td>test</td>\n",
              "      <td>{'max_depth': 3, 'max_features': 'sqrt', 'min_...</td>\n",
              "    </tr>\n",
              "  </tbody>\n",
              "</table>\n",
              "</div>"
            ],
            "text/plain": [
              "                    Model  F1 score  ROC-AUC  Gini Index Notice  \\\n",
              "0  DecisionTreeClassifier      0.35     0.69        0.37   test   \n",
              "\n",
              "                                              params  \n",
              "0  {'max_depth': 3, 'max_features': 'sqrt', 'min_...  "
            ]
          },
          "execution_count": 207,
          "metadata": {},
          "output_type": "execute_result"
        }
      ],
      "source": [
        "table_models = (pd.DataFrame({'Model':tabl_model, 'F1 score':tabl_prec, 'ROC-AUC':tabl_roc_auc, \n",
        "                              'Gini Index':tabl_gini, 'Notice': tabl_not, 'params':tabl_params}).sort_values(by='ROC-AUC', ascending=False).\n",
        "                  reset_index(drop=True))\n",
        "table_models"
      ]
    },
    {
      "cell_type": "code",
      "execution_count": 208,
      "metadata": {
        "colab": {
          "base_uri": "https://localhost:8080/",
          "height": 891
        },
        "id": "fzmTDuwJTgVM",
        "outputId": "21403ae1-23b3-4b63-ddf8-d7ae615b9af1"
      },
      "outputs": [
        {
          "data": {
            "image/png": "[encoded data removed]",
            "text/plain": [
              "<Figure size 1000x1000 with 1 Axes>"
            ]
          },
          "metadata": {},
          "output_type": "display_data"
        },
        {
          "name": "stdout",
          "output_type": "stream",
          "text": [
            "AUC: 0.6859426910299005\n"
          ]
        }
      ],
      "source": [
        "fpr, tpr, thresholds = roc_curve(target_test, probabilities) \n",
        "\n",
        "plt.figure(figsize=(10, 10))\n",
        "plt.plot(fpr, tpr, linestyle='-')\n",
        "plt.plot([0, 1], [0, 1], linestyle='--')\n",
        "plt.xlim([0.0, 1.0])\n",
        "plt.ylim([0.0, 1.0])\n",
        "plt.xlabel('False Positive Rate')\n",
        "plt.ylabel('True Positive Rate')\n",
        "plt.title('ROC-кривая')\n",
        "plt.show()\n",
        "\n",
        "auc_roc = roc_auc_score(target_test, probabilities)\n",
        "\n",
        "print(\"AUC:\", auc_roc)"
      ]
    },
    {
      "attachments": {},
      "cell_type": "markdown",
      "metadata": {
        "id": "i_04x9OChWQT"
      },
      "source": [
        "Модель получше константной"
      ]
    },
    {
      "attachments": {},
      "cell_type": "markdown",
      "metadata": {
        "id": "IJjwffjVZ_nu"
      },
      "source": [
        "## Важность признаков"
      ]
    },
    {
      "cell_type": "code",
      "execution_count": 209,
      "metadata": {
        "colab": {
          "base_uri": "https://localhost:8080/",
          "height": 564
        },
        "id": "0-kYJoPSZgvE",
        "outputId": "32a58da7-e2fd-4429-af39-05d16cd9decd"
      },
      "outputs": [
        {
          "data": {
            "image/png": "[encoded data removed]",
            "text/plain": [
              "<Figure size 1000x600 with 1 Axes>"
            ]
          },
          "metadata": {},
          "output_type": "display_data"
        }
      ],
      "source": [
        "# Получаем важности признаков\n",
        "importances = model_best.feature_importances_\n",
        "\n",
        "# Создаем DataFrame с важностями признаков\n",
        "feature_importance_df = pd.DataFrame({'Feature': features_train.columns, 'Importance': importances})\n",
        "\n",
        "# Сортируем по убыванию важности\n",
        "feature_importance_df = feature_importance_df.sort_values(by='Importance', ascending=False)\n",
        "\n",
        "# Создаем график важности признаков\n",
        "plt.figure(figsize=(10, 6))\n",
        "plt.barh(feature_importance_df['Feature'], feature_importance_df['Importance'])\n",
        "plt.xlabel('Importance')\n",
        "plt.ylabel('Feature')\n",
        "plt.title('Feature Importance')\n",
        "plt.show()"
      ]
    },
    {
      "attachments": {},
      "cell_type": "markdown",
      "metadata": {
        "id": "XAFP_ADsZzUp"
      },
      "source": [
        "# Вывод "
      ]
    },
    {
      "attachments": {},
      "cell_type": "markdown",
      "metadata": {
        "id": "YWah4LkHcvN3"
      },
      "source": [
        "**Согласно анализу, самые важные признаки, на которые стоит обратить внимание, это:**  \n",
        "  \n",
        "1. *overdues_sum*: Общая сумма просроченных дней платежей клиента. Этот признак является сильным индикатором плохой кредитной истории и может быть полезным для прогнозирования типа кредита.  \n",
        "  \n",
        "2. *average_overdue*: Средний колмчество дней просроченного платежа клиента. Этот признак также может быть информативным при прогнозировании типа кредита.\n",
        "  \n",
        "3. *overdues_count*: Количество просроченных платежей клиента. Этот признак указывает на активность клиента в погашении кредитных обязательств и может быть полезным для предсказания типа кредита.  \n",
        "  \n",
        "**Для прогнозирования проблемных кредитов можно использовать модель**    \n",
        "*model_best = DecisionTreeClassifier(**grid_search.best_params_, random_state=453)  \n",
        "Best parameters: \"{'max_depth': 3, 'max_features': 'sqrt', 'min_samples_leaf': 1, 'min_samples_split': 3}\"*  \n",
        " \n",
        "**С метриками**   \n",
        "*ROC-AUC: 0.686  \n",
        "Gini Index: 0.372  \n",
        "F1-score: 0.352*  \n",
        "  \n",
        "Эти метрики позволяют оценить качество модели и ее способность предсказывать тип кредита.  \n",
        "\n",
        "***Проблемы построения модели:***  \n",
        "  \n",
        "1. Малое количество признаков: У нас ограниченный набор признаков, которые могут быть использованы для построения модели. Это может ограничить способность модели к полному и точному прогнозированию типа кредита. Возможно, добавление дополнительных информативных признаков может улучшить производительность модели.\n",
        "  \n",
        "2. Недостаток данных: Если у вас мало данных, особенно примеров положительного класса (в вашем случае - проблемных кредитов), это может затруднить обучение хорошей модели. Модели машинного обучения обычно работают лучше с большим количеством данных. \n",
        "   \n",
        "3. Отсутствие уникального идентификатора кредита: В данных отсутствует прямой способ связать просрочки с конкретными кредитами. Это ограничивает нашу способность более точно анализировать и предсказывать связь между просрочками и типом кредита. Вместо этого мы предполагаем, что общая история просрочек клиента применима ко всем его кредитам. Это может вносить некоторую неопределенность и потенциально снижать точность предсказания модели.  \n",
        "\n",
        "В целом, необходимо учитывать эти проблемы при построении модели и принимать соответствующие меры для минимизации их влияния на качество и интерпретируемость модели.  "
      ]
    },
    {
      "cell_type": "code",
      "execution_count": 210,
      "metadata": {
        "id": "gNEjgVKydgsV"
      },
      "outputs": [],
      "source": [
        "table_models.to_csv('результаты_тестирования.csv', index=False)\n"
      ]
    }
  ],
  "metadata": {
    "colab": {
      "provenance": []
    },
    "kernelspec": {
      "display_name": "Python 3",
      "name": "python3"
    },
    "language_info": {
      "codemirror_mode": {
        "name": "ipython",
        "version": 3
      },
      "file_extension": ".py",
      "mimetype": "text/x-python",
      "name": "python",
      "nbconvert_exporter": "python",
      "pygments_lexer": "ipython3",
      "version": "3.10.10"
    }
  },
  "nbformat": 4,
  "nbformat_minor": 0
}
