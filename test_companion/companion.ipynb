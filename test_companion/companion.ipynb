{
  "cells": [
    {
      "cell_type": "markdown",
      "metadata": {
        "id": "lOXouvCfeB1z"
      },
      "source": [
        "# test_companion"
      ]
    },
    {
      "cell_type": "markdown",
      "metadata": {
        "id": "MAA5Dui_d9BD"
      },
      "source": [
        "Задание :  \n",
        "  \n",
        "Вам нужно построить скоринговую модель (модель прогноза и принятия решений), для того, чтобы автоматически решать - кому из клиентов выдавать кредит, а кому нет.  \n",
        "  \n",
        "Модель должна предсказывать тип кредита (\"Хороший\" или \"Плохой\") при помощи информации о клиенте (Пол, Возраст) и информации о кредитной истории клиента (Просрочки по его историческим кредитам).  \n",
        "  \n",
        "Модель может быть составлена в любом виде (рекомендуемый вариант - Логистическая регрессия).  \n",
        "  \n",
        "Желательно сделать обучение модели на одной части данных, а тестирование модели на другой части, и показать метрики качества модели (рекомендуемый вариант - ROC-AUC, Gini index).  \n",
        "  \n",
        "Результат :  \n",
        "  \n",
        "Отправить результаты нужно в виде :  \n",
        "  \n",
        "1) Код создания модели (рекомендуемый вариан т - jupyter notebook, .ipynb)  \n",
        "  \n",
        "2) Результат тестирования в любом формате  "
      ]
    },
    {
      "cell_type": "markdown",
      "metadata": {
        "id": "hKrkP8x8dZl9"
      },
      "source": [
        "## Импорт библиотек"
      ]
    },
    {
      "cell_type": "code",
      "execution_count": 1,
      "metadata": {
        "colab": {
          "base_uri": "https://localhost:8080/"
        },
        "id": "ZuV8TJcLqrAj",
        "outputId": "162c3d03-02f1-4bea-e16d-9353f9ba2846"
      },
      "outputs": [],
      "source": [
        "try:\n",
        "    import catboost\n",
        "except ImportError:\n",
        "    !pip install catboost\n"
      ]
    },
    {
      "cell_type": "code",
      "execution_count": 2,
      "metadata": {
        "id": "Nu6jgHuEdWHV"
      },
      "outputs": [],
      "source": [
        "import pandas as pd\n",
        "import re as re\n",
        "import matplotlib.pyplot as plt\n",
        "import seaborn as sns\n",
        "import warnings\n",
        "warnings.filterwarnings('ignore') \n",
        "import numpy as np\n",
        "\n",
        "from catboost import CatBoostClassifier\n",
        "from catboost import Pool, cv\n",
        "\n",
        "from sklearn.model_selection import train_test_split, GridSearchCV\n",
        "from sklearn.preprocessing import StandardScaler\n",
        "from sklearn.linear_model import LogisticRegression\n",
        "from sklearn.ensemble import RandomForestClassifier\n",
        "from sklearn.metrics import f1_score, roc_auc_score, roc_curve, precision_score, recall_score, precision_recall_curve, accuracy_score\n",
        "from sklearn.tree import DecisionTreeClassifier\n",
        "\n",
        "from imblearn.over_sampling import SMOTE\n",
        "from imblearn.under_sampling import RandomUnderSampler\n"
      ]
    },
    {
      "cell_type": "markdown",
      "metadata": {
        "id": "ZKYGY_bNfgZy"
      },
      "source": [
        "## Загрузка данных\n"
      ]
    },
    {
      "cell_type": "code",
      "execution_count": 3,
      "metadata": {
        "id": "5bqLaq-IHl70"
      },
      "outputs": [],
      "source": [
        "credit_info = pd.read_excel(\"Credit Info.xlsx\")\n",
        "customer_info = pd.read_excel(\"Customer Info.xlsx\")\n",
        "history_info = pd.read_excel(\"History Info.xlsx\")\n"
      ]
    },
    {
      "cell_type": "markdown",
      "metadata": {
        "id": "qPJBe1ngxvQE"
      },
      "source": [
        "### credit_info"
      ]
    },
    {
      "cell_type": "code",
      "execution_count": 4,
      "metadata": {
        "colab": {
          "base_uri": "https://localhost:8080/"
        },
        "id": "8ccksqLYdXli",
        "outputId": "289e218d-407a-4aaa-eda7-c6bc5c6ca4d6"
      },
      "outputs": [
        {
          "name": "stdout",
          "output_type": "stream",
          "text": [
            "<class 'pandas.core.frame.DataFrame'>\n",
            "RangeIndex: 1000 entries, 0 to 999\n",
            "Data columns (total 4 columns):\n",
            " #   Column             Non-Null Count  Dtype         \n",
            "---  ------             --------------  -----         \n",
            " 0   Credit ID          1000 non-null   int64         \n",
            " 1   Customer ID        1000 non-null   int64         \n",
            " 2   Loan Created Date  1000 non-null   datetime64[ns]\n",
            " 3   Type Credit        1000 non-null   object        \n",
            "dtypes: datetime64[ns](1), int64(2), object(1)\n",
            "memory usage: 31.4+ KB\n"
          ]
        }
      ],
      "source": [
        "credit_info.info()"
      ]
    },
    {
      "cell_type": "code",
      "execution_count": 5,
      "metadata": {
        "colab": {
          "base_uri": "https://localhost:8080/",
          "height": 206
        },
        "id": "9zEQkZnsiwdj",
        "outputId": "3755a822-9649-4bb8-f191-e6b39bf28e18"
      },
      "outputs": [
        {
          "data": {
            "text/html": [
              "<div>\n",
              "<style scoped>\n",
              "    .dataframe tbody tr th:only-of-type {\n",
              "        vertical-align: middle;\n",
              "    }\n",
              "\n",
              "    .dataframe tbody tr th {\n",
              "        vertical-align: top;\n",
              "    }\n",
              "\n",
              "    .dataframe thead th {\n",
              "        text-align: right;\n",
              "    }\n",
              "</style>\n",
              "<table border=\"1\" class=\"dataframe\">\n",
              "  <thead>\n",
              "    <tr style=\"text-align: right;\">\n",
              "      <th></th>\n",
              "      <th>Credit ID</th>\n",
              "      <th>Customer ID</th>\n",
              "      <th>Loan Created Date</th>\n",
              "      <th>Type Credit</th>\n",
              "    </tr>\n",
              "  </thead>\n",
              "  <tbody>\n",
              "    <tr>\n",
              "      <th>0</th>\n",
              "      <td>857000</td>\n",
              "      <td>483</td>\n",
              "      <td>2020-09-05</td>\n",
              "      <td>Normal</td>\n",
              "    </tr>\n",
              "    <tr>\n",
              "      <th>1</th>\n",
              "      <td>695553</td>\n",
              "      <td>843</td>\n",
              "      <td>2021-05-20</td>\n",
              "      <td>Normal</td>\n",
              "    </tr>\n",
              "    <tr>\n",
              "      <th>2</th>\n",
              "      <td>992484</td>\n",
              "      <td>1801</td>\n",
              "      <td>2021-07-02</td>\n",
              "      <td>Normal</td>\n",
              "    </tr>\n",
              "    <tr>\n",
              "      <th>3</th>\n",
              "      <td>964325</td>\n",
              "      <td>296</td>\n",
              "      <td>2021-09-25</td>\n",
              "      <td>Normal</td>\n",
              "    </tr>\n",
              "    <tr>\n",
              "      <th>4</th>\n",
              "      <td>602834</td>\n",
              "      <td>694</td>\n",
              "      <td>2021-04-21</td>\n",
              "      <td>Normal</td>\n",
              "    </tr>\n",
              "  </tbody>\n",
              "</table>\n",
              "</div>"
            ],
            "text/plain": [
              "   Credit ID  Customer ID Loan Created Date Type Credit\n",
              "0     857000          483        2020-09-05      Normal\n",
              "1     695553          843        2021-05-20      Normal\n",
              "2     992484         1801        2021-07-02      Normal\n",
              "3     964325          296        2021-09-25      Normal\n",
              "4     602834          694        2021-04-21      Normal"
            ]
          },
          "execution_count": 5,
          "metadata": {},
          "output_type": "execute_result"
        }
      ],
      "source": [
        "credit_info.head()"
      ]
    },
    {
      "cell_type": "code",
      "execution_count": 6,
      "metadata": {
        "colab": {
          "base_uri": "https://localhost:8080/",
          "height": 394
        },
        "id": "xqCA1D-uuVS0",
        "outputId": "aa058870-e09c-4dff-9330-7af5c0fbb7f7"
      },
      "outputs": [
        {
          "data": {
            "text/html": [
              "<div>\n",
              "<style scoped>\n",
              "    .dataframe tbody tr th:only-of-type {\n",
              "        vertical-align: middle;\n",
              "    }\n",
              "\n",
              "    .dataframe tbody tr th {\n",
              "        vertical-align: top;\n",
              "    }\n",
              "\n",
              "    .dataframe thead th {\n",
              "        text-align: right;\n",
              "    }\n",
              "</style>\n",
              "<table border=\"1\" class=\"dataframe\">\n",
              "  <thead>\n",
              "    <tr style=\"text-align: right;\">\n",
              "      <th></th>\n",
              "      <th>Credit ID</th>\n",
              "      <th>Customer ID</th>\n",
              "      <th>Loan Created Date</th>\n",
              "      <th>Type Credit</th>\n",
              "    </tr>\n",
              "  </thead>\n",
              "  <tbody>\n",
              "    <tr>\n",
              "      <th>count</th>\n",
              "      <td>1000.000000</td>\n",
              "      <td>1000.000000</td>\n",
              "      <td>1000</td>\n",
              "      <td>1000</td>\n",
              "    </tr>\n",
              "    <tr>\n",
              "      <th>unique</th>\n",
              "      <td>NaN</td>\n",
              "      <td>NaN</td>\n",
              "      <td>NaN</td>\n",
              "      <td>2</td>\n",
              "    </tr>\n",
              "    <tr>\n",
              "      <th>top</th>\n",
              "      <td>NaN</td>\n",
              "      <td>NaN</td>\n",
              "      <td>NaN</td>\n",
              "      <td>Normal</td>\n",
              "    </tr>\n",
              "    <tr>\n",
              "      <th>freq</th>\n",
              "      <td>NaN</td>\n",
              "      <td>NaN</td>\n",
              "      <td>NaN</td>\n",
              "      <td>897</td>\n",
              "    </tr>\n",
              "    <tr>\n",
              "      <th>mean</th>\n",
              "      <td>503401.862000</td>\n",
              "      <td>979.259000</td>\n",
              "      <td>2021-06-29 05:03:50.400000</td>\n",
              "      <td>NaN</td>\n",
              "    </tr>\n",
              "    <tr>\n",
              "      <th>min</th>\n",
              "      <td>4639.000000</td>\n",
              "      <td>1.000000</td>\n",
              "      <td>2020-01-01 00:00:00</td>\n",
              "      <td>NaN</td>\n",
              "    </tr>\n",
              "    <tr>\n",
              "      <th>25%</th>\n",
              "      <td>255464.250000</td>\n",
              "      <td>476.000000</td>\n",
              "      <td>2020-09-26 18:00:00</td>\n",
              "      <td>NaN</td>\n",
              "    </tr>\n",
              "    <tr>\n",
              "      <th>50%</th>\n",
              "      <td>498307.000000</td>\n",
              "      <td>974.500000</td>\n",
              "      <td>2021-07-10 12:00:00</td>\n",
              "      <td>NaN</td>\n",
              "    </tr>\n",
              "    <tr>\n",
              "      <th>75%</th>\n",
              "      <td>748615.500000</td>\n",
              "      <td>1469.000000</td>\n",
              "      <td>2022-03-16 00:00:00</td>\n",
              "      <td>NaN</td>\n",
              "    </tr>\n",
              "    <tr>\n",
              "      <th>max</th>\n",
              "      <td>999987.000000</td>\n",
              "      <td>1997.000000</td>\n",
              "      <td>2022-12-30 00:00:00</td>\n",
              "      <td>NaN</td>\n",
              "    </tr>\n",
              "    <tr>\n",
              "      <th>std</th>\n",
              "      <td>287560.165729</td>\n",
              "      <td>579.172789</td>\n",
              "      <td>NaN</td>\n",
              "      <td>NaN</td>\n",
              "    </tr>\n",
              "  </tbody>\n",
              "</table>\n",
              "</div>"
            ],
            "text/plain": [
              "            Credit ID  Customer ID           Loan Created Date Type Credit\n",
              "count     1000.000000  1000.000000                        1000        1000\n",
              "unique            NaN          NaN                         NaN           2\n",
              "top               NaN          NaN                         NaN      Normal\n",
              "freq              NaN          NaN                         NaN         897\n",
              "mean    503401.862000   979.259000  2021-06-29 05:03:50.400000         NaN\n",
              "min       4639.000000     1.000000         2020-01-01 00:00:00         NaN\n",
              "25%     255464.250000   476.000000         2020-09-26 18:00:00         NaN\n",
              "50%     498307.000000   974.500000         2021-07-10 12:00:00         NaN\n",
              "75%     748615.500000  1469.000000         2022-03-16 00:00:00         NaN\n",
              "max     999987.000000  1997.000000         2022-12-30 00:00:00         NaN\n",
              "std     287560.165729   579.172789                         NaN         NaN"
            ]
          },
          "execution_count": 6,
          "metadata": {},
          "output_type": "execute_result"
        }
      ],
      "source": [
        "credit_info.describe(include = 'all', datetime_is_numeric=True)"
      ]
    },
    {
      "cell_type": "code",
      "execution_count": 7,
      "metadata": {
        "colab": {
          "base_uri": "https://localhost:8080/"
        },
        "id": "YNTkRwKFv2sm",
        "outputId": "e5aa829c-bdaf-4c2d-a837-d22d2ccc1943"
      },
      "outputs": [
        {
          "data": {
            "text/plain": [
              "0"
            ]
          },
          "execution_count": 7,
          "metadata": {},
          "output_type": "execute_result"
        }
      ],
      "source": [
        "credit_info.duplicated().sum()"
      ]
    },
    {
      "cell_type": "markdown",
      "metadata": {
        "id": "6MJeSVHCiWCh"
      },
      "source": [
        "Credit ID: Уникальный идентификатор кредита.    \n",
        "Customer ID: Уникальный идентификатор клиента.  \n",
        "Loan Created Date: Дата создания кредита.  \n",
        "Type Credit: Тип кредита, который может быть либо \"Normal\", либо \"Problem\".  "
      ]
    },
    {
      "cell_type": "markdown",
      "metadata": {
        "id": "PCkE4RS-vrQg"
      },
      "source": [
        "Пропуски отсутствуют, дубликаты отсутствуют. Минимальная дата 2020-01-01 0:00:00\tпоследняя дата 2022-12-30 00:00:00. Два уникальных значения в типах кредита\t"
      ]
    },
    {
      "cell_type": "markdown",
      "metadata": {
        "id": "n37Ygcmvx0T2"
      },
      "source": [
        "### customer_info"
      ]
    },
    {
      "cell_type": "code",
      "execution_count": 8,
      "metadata": {
        "colab": {
          "base_uri": "https://localhost:8080/"
        },
        "id": "xQIkrsr_egKW",
        "outputId": "12bce3c9-5c9b-4c45-8a35-0b945163c954"
      },
      "outputs": [
        {
          "name": "stdout",
          "output_type": "stream",
          "text": [
            "<class 'pandas.core.frame.DataFrame'>\n",
            "RangeIndex: 798 entries, 0 to 797\n",
            "Data columns (total 3 columns):\n",
            " #   Column       Non-Null Count  Dtype         \n",
            "---  ------       --------------  -----         \n",
            " 0   Customer ID  798 non-null    int64         \n",
            " 1   Sex          798 non-null    object        \n",
            " 2   Birthday     798 non-null    datetime64[ns]\n",
            "dtypes: datetime64[ns](1), int64(1), object(1)\n",
            "memory usage: 18.8+ KB\n"
          ]
        }
      ],
      "source": [
        "customer_info.info()"
      ]
    },
    {
      "cell_type": "code",
      "execution_count": 9,
      "metadata": {
        "colab": {
          "base_uri": "https://localhost:8080/",
          "height": 394
        },
        "id": "6VfJqLtWvdhK",
        "outputId": "3a39f2f7-de85-47ec-9ffb-e9d7891d5844"
      },
      "outputs": [
        {
          "data": {
            "text/html": [
              "<div>\n",
              "<style scoped>\n",
              "    .dataframe tbody tr th:only-of-type {\n",
              "        vertical-align: middle;\n",
              "    }\n",
              "\n",
              "    .dataframe tbody tr th {\n",
              "        vertical-align: top;\n",
              "    }\n",
              "\n",
              "    .dataframe thead th {\n",
              "        text-align: right;\n",
              "    }\n",
              "</style>\n",
              "<table border=\"1\" class=\"dataframe\">\n",
              "  <thead>\n",
              "    <tr style=\"text-align: right;\">\n",
              "      <th></th>\n",
              "      <th>Customer ID</th>\n",
              "      <th>Sex</th>\n",
              "      <th>Birthday</th>\n",
              "    </tr>\n",
              "  </thead>\n",
              "  <tbody>\n",
              "    <tr>\n",
              "      <th>count</th>\n",
              "      <td>798.000000</td>\n",
              "      <td>798</td>\n",
              "      <td>798</td>\n",
              "    </tr>\n",
              "    <tr>\n",
              "      <th>unique</th>\n",
              "      <td>NaN</td>\n",
              "      <td>2</td>\n",
              "      <td>NaN</td>\n",
              "    </tr>\n",
              "    <tr>\n",
              "      <th>top</th>\n",
              "      <td>NaN</td>\n",
              "      <td>Man</td>\n",
              "      <td>NaN</td>\n",
              "    </tr>\n",
              "    <tr>\n",
              "      <th>freq</th>\n",
              "      <td>NaN</td>\n",
              "      <td>412</td>\n",
              "      <td>NaN</td>\n",
              "    </tr>\n",
              "    <tr>\n",
              "      <th>mean</th>\n",
              "      <td>969.021303</td>\n",
              "      <td>NaN</td>\n",
              "      <td>1971-07-13 02:51:25.714285712</td>\n",
              "    </tr>\n",
              "    <tr>\n",
              "      <th>min</th>\n",
              "      <td>1.000000</td>\n",
              "      <td>NaN</td>\n",
              "      <td>1940-01-06 00:00:00</td>\n",
              "    </tr>\n",
              "    <tr>\n",
              "      <th>25%</th>\n",
              "      <td>453.250000</td>\n",
              "      <td>NaN</td>\n",
              "      <td>1955-05-27 12:00:00</td>\n",
              "    </tr>\n",
              "    <tr>\n",
              "      <th>50%</th>\n",
              "      <td>966.500000</td>\n",
              "      <td>NaN</td>\n",
              "      <td>1971-02-15 00:00:00</td>\n",
              "    </tr>\n",
              "    <tr>\n",
              "      <th>75%</th>\n",
              "      <td>1460.500000</td>\n",
              "      <td>NaN</td>\n",
              "      <td>1987-08-10 18:00:00</td>\n",
              "    </tr>\n",
              "    <tr>\n",
              "      <th>max</th>\n",
              "      <td>1997.000000</td>\n",
              "      <td>NaN</td>\n",
              "      <td>2005-12-16 00:00:00</td>\n",
              "    </tr>\n",
              "    <tr>\n",
              "      <th>std</th>\n",
              "      <td>581.813994</td>\n",
              "      <td>NaN</td>\n",
              "      <td>NaN</td>\n",
              "    </tr>\n",
              "  </tbody>\n",
              "</table>\n",
              "</div>"
            ],
            "text/plain": [
              "        Customer ID  Sex                       Birthday\n",
              "count    798.000000  798                            798\n",
              "unique          NaN    2                            NaN\n",
              "top             NaN  Man                            NaN\n",
              "freq            NaN  412                            NaN\n",
              "mean     969.021303  NaN  1971-07-13 02:51:25.714285712\n",
              "min        1.000000  NaN            1940-01-06 00:00:00\n",
              "25%      453.250000  NaN            1955-05-27 12:00:00\n",
              "50%      966.500000  NaN            1971-02-15 00:00:00\n",
              "75%     1460.500000  NaN            1987-08-10 18:00:00\n",
              "max     1997.000000  NaN            2005-12-16 00:00:00\n",
              "std      581.813994  NaN                            NaN"
            ]
          },
          "execution_count": 9,
          "metadata": {},
          "output_type": "execute_result"
        }
      ],
      "source": [
        "customer_info.describe(include = 'all', datetime_is_numeric=True)"
      ]
    },
    {
      "cell_type": "code",
      "execution_count": 10,
      "metadata": {
        "colab": {
          "base_uri": "https://localhost:8080/"
        },
        "id": "lSFWvNpJwf6p",
        "outputId": "83b8bcb2-3bb3-43cc-fd1b-2037e64e65e9"
      },
      "outputs": [
        {
          "data": {
            "text/plain": [
              "0"
            ]
          },
          "execution_count": 10,
          "metadata": {},
          "output_type": "execute_result"
        }
      ],
      "source": [
        "customer_info.duplicated().sum()"
      ]
    },
    {
      "cell_type": "code",
      "execution_count": 11,
      "metadata": {
        "colab": {
          "base_uri": "https://localhost:8080/",
          "height": 206
        },
        "id": "K1q5GpcXjBhT",
        "outputId": "52f0330b-2171-4c2f-b166-6dd3be6a056c"
      },
      "outputs": [
        {
          "data": {
            "text/html": [
              "<div>\n",
              "<style scoped>\n",
              "    .dataframe tbody tr th:only-of-type {\n",
              "        vertical-align: middle;\n",
              "    }\n",
              "\n",
              "    .dataframe tbody tr th {\n",
              "        vertical-align: top;\n",
              "    }\n",
              "\n",
              "    .dataframe thead th {\n",
              "        text-align: right;\n",
              "    }\n",
              "</style>\n",
              "<table border=\"1\" class=\"dataframe\">\n",
              "  <thead>\n",
              "    <tr style=\"text-align: right;\">\n",
              "      <th></th>\n",
              "      <th>Customer ID</th>\n",
              "      <th>Sex</th>\n",
              "      <th>Birthday</th>\n",
              "    </tr>\n",
              "  </thead>\n",
              "  <tbody>\n",
              "    <tr>\n",
              "      <th>0</th>\n",
              "      <td>1</td>\n",
              "      <td>Man</td>\n",
              "      <td>2000-07-14</td>\n",
              "    </tr>\n",
              "    <tr>\n",
              "      <th>1</th>\n",
              "      <td>3</td>\n",
              "      <td>Man</td>\n",
              "      <td>2003-03-04</td>\n",
              "    </tr>\n",
              "    <tr>\n",
              "      <th>2</th>\n",
              "      <td>16</td>\n",
              "      <td>Man</td>\n",
              "      <td>1989-03-04</td>\n",
              "    </tr>\n",
              "    <tr>\n",
              "      <th>3</th>\n",
              "      <td>17</td>\n",
              "      <td>Woman</td>\n",
              "      <td>1956-01-17</td>\n",
              "    </tr>\n",
              "    <tr>\n",
              "      <th>4</th>\n",
              "      <td>18</td>\n",
              "      <td>Man</td>\n",
              "      <td>1993-10-23</td>\n",
              "    </tr>\n",
              "  </tbody>\n",
              "</table>\n",
              "</div>"
            ],
            "text/plain": [
              "   Customer ID    Sex   Birthday\n",
              "0            1    Man 2000-07-14\n",
              "1            3    Man 2003-03-04\n",
              "2           16    Man 1989-03-04\n",
              "3           17  Woman 1956-01-17\n",
              "4           18    Man 1993-10-23"
            ]
          },
          "execution_count": 11,
          "metadata": {},
          "output_type": "execute_result"
        }
      ],
      "source": [
        "customer_info.head()"
      ]
    },
    {
      "cell_type": "markdown",
      "metadata": {
        "id": "QOy4SoNKjI88"
      },
      "source": [
        "Customer ID: Уникальный идентификатор клиента.    \n",
        "Sex - пол   \n",
        "Birthday - день рождение клиента  "
      ]
    },
    {
      "cell_type": "markdown",
      "metadata": {
        "id": "brJriCnUwnX6"
      },
      "source": [
        "Пропуски отсутствуют, дубликаты отсутствуют. Минимальная дата дня рождения 1940-01-06 00:00:00\tпоследняя дата 2005-12-16 00:00:00(По каждому клиенту можно посчитать возраст на момент выдачи кредита). Пол только два значение Man and Woman\n"
      ]
    },
    {
      "cell_type": "markdown",
      "metadata": {
        "id": "x32EX-ykx4YT"
      },
      "source": [
        "### history_info"
      ]
    },
    {
      "cell_type": "code",
      "execution_count": 12,
      "metadata": {
        "colab": {
          "base_uri": "https://localhost:8080/"
        },
        "id": "L_knmZhbeufr",
        "outputId": "3d2e7ca3-0601-4ea0-ffd7-762d2e35bdda"
      },
      "outputs": [
        {
          "name": "stdout",
          "output_type": "stream",
          "text": [
            "<class 'pandas.core.frame.DataFrame'>\n",
            "RangeIndex: 1500 entries, 0 to 1499\n",
            "Data columns (total 3 columns):\n",
            " #   Column           Non-Null Count  Dtype\n",
            "---  ------           --------------  -----\n",
            " 0   History Note ID  1500 non-null   int64\n",
            " 1   Customer ID      1500 non-null   int64\n",
            " 2   Overdues         1500 non-null   int64\n",
            "dtypes: int64(3)\n",
            "memory usage: 35.3 KB\n"
          ]
        }
      ],
      "source": [
        "history_info.info()"
      ]
    },
    {
      "cell_type": "code",
      "execution_count": 13,
      "metadata": {
        "colab": {
          "base_uri": "https://localhost:8080/",
          "height": 424
        },
        "id": "W09op7j33X4n",
        "outputId": "8de35417-16a8-4fa7-d21b-7074eecfd3d9"
      },
      "outputs": [
        {
          "data": {
            "text/html": [
              "<div>\n",
              "<style scoped>\n",
              "    .dataframe tbody tr th:only-of-type {\n",
              "        vertical-align: middle;\n",
              "    }\n",
              "\n",
              "    .dataframe tbody tr th {\n",
              "        vertical-align: top;\n",
              "    }\n",
              "\n",
              "    .dataframe thead th {\n",
              "        text-align: right;\n",
              "    }\n",
              "</style>\n",
              "<table border=\"1\" class=\"dataframe\">\n",
              "  <thead>\n",
              "    <tr style=\"text-align: right;\">\n",
              "      <th></th>\n",
              "      <th>History Note ID</th>\n",
              "      <th>Customer ID</th>\n",
              "      <th>Overdues</th>\n",
              "    </tr>\n",
              "  </thead>\n",
              "  <tbody>\n",
              "    <tr>\n",
              "      <th>0</th>\n",
              "      <td>0</td>\n",
              "      <td>499</td>\n",
              "      <td>0</td>\n",
              "    </tr>\n",
              "    <tr>\n",
              "      <th>1</th>\n",
              "      <td>1</td>\n",
              "      <td>461</td>\n",
              "      <td>0</td>\n",
              "    </tr>\n",
              "    <tr>\n",
              "      <th>2</th>\n",
              "      <td>2</td>\n",
              "      <td>516</td>\n",
              "      <td>0</td>\n",
              "    </tr>\n",
              "    <tr>\n",
              "      <th>3</th>\n",
              "      <td>3</td>\n",
              "      <td>138</td>\n",
              "      <td>0</td>\n",
              "    </tr>\n",
              "    <tr>\n",
              "      <th>4</th>\n",
              "      <td>4</td>\n",
              "      <td>1770</td>\n",
              "      <td>0</td>\n",
              "    </tr>\n",
              "    <tr>\n",
              "      <th>...</th>\n",
              "      <td>...</td>\n",
              "      <td>...</td>\n",
              "      <td>...</td>\n",
              "    </tr>\n",
              "    <tr>\n",
              "      <th>1495</th>\n",
              "      <td>1495</td>\n",
              "      <td>1287</td>\n",
              "      <td>0</td>\n",
              "    </tr>\n",
              "    <tr>\n",
              "      <th>1496</th>\n",
              "      <td>1496</td>\n",
              "      <td>194</td>\n",
              "      <td>86</td>\n",
              "    </tr>\n",
              "    <tr>\n",
              "      <th>1497</th>\n",
              "      <td>1497</td>\n",
              "      <td>48</td>\n",
              "      <td>0</td>\n",
              "    </tr>\n",
              "    <tr>\n",
              "      <th>1498</th>\n",
              "      <td>1498</td>\n",
              "      <td>686</td>\n",
              "      <td>0</td>\n",
              "    </tr>\n",
              "    <tr>\n",
              "      <th>1499</th>\n",
              "      <td>1499</td>\n",
              "      <td>510</td>\n",
              "      <td>0</td>\n",
              "    </tr>\n",
              "  </tbody>\n",
              "</table>\n",
              "<p>1500 rows × 3 columns</p>\n",
              "</div>"
            ],
            "text/plain": [
              "      History Note ID  Customer ID  Overdues\n",
              "0                   0          499         0\n",
              "1                   1          461         0\n",
              "2                   2          516         0\n",
              "3                   3          138         0\n",
              "4                   4         1770         0\n",
              "...               ...          ...       ...\n",
              "1495             1495         1287         0\n",
              "1496             1496          194        86\n",
              "1497             1497           48         0\n",
              "1498             1498          686         0\n",
              "1499             1499          510         0\n",
              "\n",
              "[1500 rows x 3 columns]"
            ]
          },
          "execution_count": 13,
          "metadata": {},
          "output_type": "execute_result"
        }
      ],
      "source": [
        "history_info"
      ]
    },
    {
      "cell_type": "code",
      "execution_count": 14,
      "metadata": {
        "colab": {
          "base_uri": "https://localhost:8080/",
          "height": 300
        },
        "id": "bY7qbAkQx9bY",
        "outputId": "5ea3b4aa-6381-4a0e-cd3e-296b5e97e9fd"
      },
      "outputs": [
        {
          "data": {
            "text/html": [
              "<div>\n",
              "<style scoped>\n",
              "    .dataframe tbody tr th:only-of-type {\n",
              "        vertical-align: middle;\n",
              "    }\n",
              "\n",
              "    .dataframe tbody tr th {\n",
              "        vertical-align: top;\n",
              "    }\n",
              "\n",
              "    .dataframe thead th {\n",
              "        text-align: right;\n",
              "    }\n",
              "</style>\n",
              "<table border=\"1\" class=\"dataframe\">\n",
              "  <thead>\n",
              "    <tr style=\"text-align: right;\">\n",
              "      <th></th>\n",
              "      <th>History Note ID</th>\n",
              "      <th>Customer ID</th>\n",
              "      <th>Overdues</th>\n",
              "    </tr>\n",
              "  </thead>\n",
              "  <tbody>\n",
              "    <tr>\n",
              "      <th>count</th>\n",
              "      <td>1500.000000</td>\n",
              "      <td>1500.000000</td>\n",
              "      <td>1500.000000</td>\n",
              "    </tr>\n",
              "    <tr>\n",
              "      <th>mean</th>\n",
              "      <td>749.500000</td>\n",
              "      <td>940.132667</td>\n",
              "      <td>11.480000</td>\n",
              "    </tr>\n",
              "    <tr>\n",
              "      <th>std</th>\n",
              "      <td>433.157015</td>\n",
              "      <td>586.060076</td>\n",
              "      <td>23.990386</td>\n",
              "    </tr>\n",
              "    <tr>\n",
              "      <th>min</th>\n",
              "      <td>0.000000</td>\n",
              "      <td>1.000000</td>\n",
              "      <td>0.000000</td>\n",
              "    </tr>\n",
              "    <tr>\n",
              "      <th>25%</th>\n",
              "      <td>374.750000</td>\n",
              "      <td>431.000000</td>\n",
              "      <td>0.000000</td>\n",
              "    </tr>\n",
              "    <tr>\n",
              "      <th>50%</th>\n",
              "      <td>749.500000</td>\n",
              "      <td>918.500000</td>\n",
              "      <td>0.000000</td>\n",
              "    </tr>\n",
              "    <tr>\n",
              "      <th>75%</th>\n",
              "      <td>1124.250000</td>\n",
              "      <td>1449.250000</td>\n",
              "      <td>0.000000</td>\n",
              "    </tr>\n",
              "    <tr>\n",
              "      <th>max</th>\n",
              "      <td>1499.000000</td>\n",
              "      <td>1997.000000</td>\n",
              "      <td>90.000000</td>\n",
              "    </tr>\n",
              "  </tbody>\n",
              "</table>\n",
              "</div>"
            ],
            "text/plain": [
              "       History Note ID  Customer ID     Overdues\n",
              "count      1500.000000  1500.000000  1500.000000\n",
              "mean        749.500000   940.132667    11.480000\n",
              "std         433.157015   586.060076    23.990386\n",
              "min           0.000000     1.000000     0.000000\n",
              "25%         374.750000   431.000000     0.000000\n",
              "50%         749.500000   918.500000     0.000000\n",
              "75%        1124.250000  1449.250000     0.000000\n",
              "max        1499.000000  1997.000000    90.000000"
            ]
          },
          "execution_count": 14,
          "metadata": {},
          "output_type": "execute_result"
        }
      ],
      "source": [
        "history_info.describe(include = 'all', datetime_is_numeric=True)"
      ]
    },
    {
      "cell_type": "code",
      "execution_count": 15,
      "metadata": {
        "colab": {
          "base_uri": "https://localhost:8080/",
          "height": 269
        },
        "id": "C6mRO95dn1AV",
        "outputId": "d5bd0680-708b-4d2e-9ccb-b7bb11fb5e78"
      },
      "outputs": [
        {
          "data": {
            "text/html": [
              "<div>\n",
              "<style scoped>\n",
              "    .dataframe tbody tr th:only-of-type {\n",
              "        vertical-align: middle;\n",
              "    }\n",
              "\n",
              "    .dataframe tbody tr th {\n",
              "        vertical-align: top;\n",
              "    }\n",
              "\n",
              "    .dataframe thead th {\n",
              "        text-align: right;\n",
              "    }\n",
              "</style>\n",
              "<table border=\"1\" class=\"dataframe\">\n",
              "  <thead>\n",
              "    <tr style=\"text-align: right;\">\n",
              "      <th></th>\n",
              "      <th>History Note ID</th>\n",
              "      <th>Customer ID</th>\n",
              "      <th>Overdues</th>\n",
              "    </tr>\n",
              "  </thead>\n",
              "  <tbody>\n",
              "    <tr>\n",
              "      <th>282</th>\n",
              "      <td>282</td>\n",
              "      <td>201</td>\n",
              "      <td>90</td>\n",
              "    </tr>\n",
              "    <tr>\n",
              "      <th>832</th>\n",
              "      <td>832</td>\n",
              "      <td>201</td>\n",
              "      <td>63</td>\n",
              "    </tr>\n",
              "    <tr>\n",
              "      <th>1178</th>\n",
              "      <td>1178</td>\n",
              "      <td>201</td>\n",
              "      <td>0</td>\n",
              "    </tr>\n",
              "    <tr>\n",
              "      <th>1211</th>\n",
              "      <td>1211</td>\n",
              "      <td>201</td>\n",
              "      <td>90</td>\n",
              "    </tr>\n",
              "    <tr>\n",
              "      <th>1229</th>\n",
              "      <td>1229</td>\n",
              "      <td>201</td>\n",
              "      <td>0</td>\n",
              "    </tr>\n",
              "    <tr>\n",
              "      <th>1426</th>\n",
              "      <td>1426</td>\n",
              "      <td>201</td>\n",
              "      <td>87</td>\n",
              "    </tr>\n",
              "    <tr>\n",
              "      <th>1436</th>\n",
              "      <td>1436</td>\n",
              "      <td>201</td>\n",
              "      <td>0</td>\n",
              "    </tr>\n",
              "  </tbody>\n",
              "</table>\n",
              "</div>"
            ],
            "text/plain": [
              "      History Note ID  Customer ID  Overdues\n",
              "282               282          201        90\n",
              "832               832          201        63\n",
              "1178             1178          201         0\n",
              "1211             1211          201        90\n",
              "1229             1229          201         0\n",
              "1426             1426          201        87\n",
              "1436             1436          201         0"
            ]
          },
          "execution_count": 15,
          "metadata": {},
          "output_type": "execute_result"
        }
      ],
      "source": [
        "history_info.query(\"`Customer ID` == 201\")"
      ]
    },
    {
      "cell_type": "code",
      "execution_count": 16,
      "metadata": {
        "colab": {
          "base_uri": "https://localhost:8080/",
          "height": 81
        },
        "id": "U9A4qnm24nFC",
        "outputId": "095b2cff-4709-4487-c1bc-46f2239367e8"
      },
      "outputs": [
        {
          "data": {
            "text/html": [
              "<div>\n",
              "<style scoped>\n",
              "    .dataframe tbody tr th:only-of-type {\n",
              "        vertical-align: middle;\n",
              "    }\n",
              "\n",
              "    .dataframe tbody tr th {\n",
              "        vertical-align: top;\n",
              "    }\n",
              "\n",
              "    .dataframe thead th {\n",
              "        text-align: right;\n",
              "    }\n",
              "</style>\n",
              "<table border=\"1\" class=\"dataframe\">\n",
              "  <thead>\n",
              "    <tr style=\"text-align: right;\">\n",
              "      <th></th>\n",
              "      <th>Credit ID</th>\n",
              "      <th>Customer ID</th>\n",
              "      <th>Loan Created Date</th>\n",
              "      <th>Type Credit</th>\n",
              "    </tr>\n",
              "  </thead>\n",
              "  <tbody>\n",
              "    <tr>\n",
              "      <th>975</th>\n",
              "      <td>531107</td>\n",
              "      <td>201</td>\n",
              "      <td>2021-03-14</td>\n",
              "      <td>Problem</td>\n",
              "    </tr>\n",
              "  </tbody>\n",
              "</table>\n",
              "</div>"
            ],
            "text/plain": [
              "     Credit ID  Customer ID Loan Created Date Type Credit\n",
              "975     531107          201        2021-03-14     Problem"
            ]
          },
          "execution_count": 16,
          "metadata": {},
          "output_type": "execute_result"
        }
      ],
      "source": [
        "credit_info.query(\"`Customer ID` == 201\")"
      ]
    },
    {
      "cell_type": "code",
      "execution_count": 17,
      "metadata": {
        "colab": {
          "base_uri": "https://localhost:8080/"
        },
        "id": "tifprLX5yFd2",
        "outputId": "143a6db3-ed84-413f-907d-01a0dead1348"
      },
      "outputs": [
        {
          "data": {
            "text/plain": [
              "0"
            ]
          },
          "execution_count": 17,
          "metadata": {},
          "output_type": "execute_result"
        }
      ],
      "source": [
        "history_info.duplicated().sum()"
      ]
    },
    {
      "cell_type": "markdown",
      "metadata": {
        "id": "JkeEDD7YjXi2"
      },
      "source": [
        "History Note ID\t - Это уникальный идентификатор записи в истории кредитования. Каждая запись представляет собой конкретный случай, когда клиент имел просрочку по оплате кредита.  \n",
        "  \n",
        "Customer ID\t-  Это уникальный идентификатор клиента. Этот идентификатор связывает запись просрочки с конкретным клиентом.  \n",
        "    \n",
        "Overdues - Этот признак представляет собой количество дней просрочек, которые были у данного клиента в данном случае. В контексте этого файла, одна запись соответствует  просрочке. "
      ]
    },
    {
      "cell_type": "markdown",
      "metadata": {
        "id": "LPwXw1lowkcy"
      },
      "source": [
        "Пропуски отсутствуют, дубликаты отсутствуют. "
      ]
    },
    {
      "cell_type": "markdown",
      "metadata": {
        "id": "5pS0f8-0siOj"
      },
      "source": [
        "## Объединение данных"
      ]
    },
    {
      "cell_type": "code",
      "execution_count": 18,
      "metadata": {
        "colab": {
          "base_uri": "https://localhost:8080/",
          "height": 206
        },
        "id": "EMhXDaf0IDG_",
        "outputId": "961765f3-69c3-489d-c5f0-009a45b12dda"
      },
      "outputs": [
        {
          "data": {
            "text/html": [
              "<div>\n",
              "<style scoped>\n",
              "    .dataframe tbody tr th:only-of-type {\n",
              "        vertical-align: middle;\n",
              "    }\n",
              "\n",
              "    .dataframe tbody tr th {\n",
              "        vertical-align: top;\n",
              "    }\n",
              "\n",
              "    .dataframe thead th {\n",
              "        text-align: right;\n",
              "    }\n",
              "</style>\n",
              "<table border=\"1\" class=\"dataframe\">\n",
              "  <thead>\n",
              "    <tr style=\"text-align: right;\">\n",
              "      <th></th>\n",
              "      <th>History Note ID</th>\n",
              "      <th>Customer ID</th>\n",
              "      <th>Overdues</th>\n",
              "    </tr>\n",
              "  </thead>\n",
              "  <tbody>\n",
              "    <tr>\n",
              "      <th>1495</th>\n",
              "      <td>1495</td>\n",
              "      <td>1287</td>\n",
              "      <td>0</td>\n",
              "    </tr>\n",
              "    <tr>\n",
              "      <th>1496</th>\n",
              "      <td>1496</td>\n",
              "      <td>194</td>\n",
              "      <td>86</td>\n",
              "    </tr>\n",
              "    <tr>\n",
              "      <th>1497</th>\n",
              "      <td>1497</td>\n",
              "      <td>48</td>\n",
              "      <td>0</td>\n",
              "    </tr>\n",
              "    <tr>\n",
              "      <th>1498</th>\n",
              "      <td>1498</td>\n",
              "      <td>686</td>\n",
              "      <td>0</td>\n",
              "    </tr>\n",
              "    <tr>\n",
              "      <th>1499</th>\n",
              "      <td>1499</td>\n",
              "      <td>510</td>\n",
              "      <td>0</td>\n",
              "    </tr>\n",
              "  </tbody>\n",
              "</table>\n",
              "</div>"
            ],
            "text/plain": [
              "      History Note ID  Customer ID  Overdues\n",
              "1495             1495         1287         0\n",
              "1496             1496          194        86\n",
              "1497             1497           48         0\n",
              "1498             1498          686         0\n",
              "1499             1499          510         0"
            ]
          },
          "execution_count": 18,
          "metadata": {},
          "output_type": "execute_result"
        }
      ],
      "source": [
        "history_info.tail()"
      ]
    },
    {
      "cell_type": "code",
      "execution_count": 19,
      "metadata": {
        "colab": {
          "base_uri": "https://localhost:8080/"
        },
        "id": "4rgzq_HrN4Op",
        "outputId": "86d2f57b-789d-4428-818e-9f6d376ae841"
      },
      "outputs": [
        {
          "name": "stdout",
          "output_type": "stream",
          "text": [
            "<class 'pandas.core.frame.DataFrame'>\n",
            "RangeIndex: 1500 entries, 0 to 1499\n",
            "Data columns (total 3 columns):\n",
            " #   Column           Non-Null Count  Dtype\n",
            "---  ------           --------------  -----\n",
            " 0   History Note ID  1500 non-null   int64\n",
            " 1   Customer ID      1500 non-null   int64\n",
            " 2   Overdues         1500 non-null   int64\n",
            "dtypes: int64(3)\n",
            "memory usage: 35.3 KB\n"
          ]
        }
      ],
      "source": [
        "history_info.info()"
      ]
    },
    {
      "cell_type": "code",
      "execution_count": 20,
      "metadata": {
        "id": "dUetTyltN8n_"
      },
      "outputs": [],
      "source": [
        "# Группировка данных истории по ID клиента, подсчет общего числа просрочек и количества записей о просрочках\n",
        "overdues_sum = history_info.groupby('Customer ID')['Overdues'].sum().reset_index().rename(columns={'Overdues': 'Overdues_Sum'})\n",
        "overdues_count = history_info.groupby('Customer ID').size().reset_index().rename(columns={0: 'Overdues_Count'})\n",
        "\n",
        "# Объединение информации о сумме и количестве просрочек\n",
        "overdues = pd.merge(overdues_sum, overdues_count, on=\"Customer ID\")\n",
        "\n",
        "# Объединение информации о клиентах с историей просрочек\n",
        "customer_info = pd.merge(customer_info, overdues, on=\"Customer ID\", how='left')\n",
        "\n",
        "# Объединение данных кредитов и информации о клиентах\n",
        "data = pd.merge(credit_info, customer_info, on=\"Customer ID\")\n",
        "\n",
        "\n"
      ]
    },
    {
      "cell_type": "code",
      "execution_count": 21,
      "metadata": {
        "colab": {
          "base_uri": "https://localhost:8080/",
          "height": 206
        },
        "id": "ESvozdMXOdT2",
        "outputId": "aa37e028-f011-4237-c67f-f59588215f65"
      },
      "outputs": [
        {
          "data": {
            "text/html": [
              "<div>\n",
              "<style scoped>\n",
              "    .dataframe tbody tr th:only-of-type {\n",
              "        vertical-align: middle;\n",
              "    }\n",
              "\n",
              "    .dataframe tbody tr th {\n",
              "        vertical-align: top;\n",
              "    }\n",
              "\n",
              "    .dataframe thead th {\n",
              "        text-align: right;\n",
              "    }\n",
              "</style>\n",
              "<table border=\"1\" class=\"dataframe\">\n",
              "  <thead>\n",
              "    <tr style=\"text-align: right;\">\n",
              "      <th></th>\n",
              "      <th>Credit ID</th>\n",
              "      <th>Customer ID</th>\n",
              "      <th>Loan Created Date</th>\n",
              "      <th>Type Credit</th>\n",
              "      <th>Sex</th>\n",
              "      <th>Birthday</th>\n",
              "      <th>Overdues_Sum</th>\n",
              "      <th>Overdues_Count</th>\n",
              "    </tr>\n",
              "  </thead>\n",
              "  <tbody>\n",
              "    <tr>\n",
              "      <th>0</th>\n",
              "      <td>857000</td>\n",
              "      <td>483</td>\n",
              "      <td>2020-09-05</td>\n",
              "      <td>Normal</td>\n",
              "      <td>Woman</td>\n",
              "      <td>1959-06-15</td>\n",
              "      <td>NaN</td>\n",
              "      <td>NaN</td>\n",
              "    </tr>\n",
              "    <tr>\n",
              "      <th>1</th>\n",
              "      <td>695553</td>\n",
              "      <td>843</td>\n",
              "      <td>2021-05-20</td>\n",
              "      <td>Normal</td>\n",
              "      <td>Man</td>\n",
              "      <td>1960-09-25</td>\n",
              "      <td>32.0</td>\n",
              "      <td>1.0</td>\n",
              "    </tr>\n",
              "    <tr>\n",
              "      <th>2</th>\n",
              "      <td>755310</td>\n",
              "      <td>843</td>\n",
              "      <td>2020-08-24</td>\n",
              "      <td>Normal</td>\n",
              "      <td>Man</td>\n",
              "      <td>1960-09-25</td>\n",
              "      <td>32.0</td>\n",
              "      <td>1.0</td>\n",
              "    </tr>\n",
              "    <tr>\n",
              "      <th>3</th>\n",
              "      <td>992484</td>\n",
              "      <td>1801</td>\n",
              "      <td>2021-07-02</td>\n",
              "      <td>Normal</td>\n",
              "      <td>Woman</td>\n",
              "      <td>1982-12-24</td>\n",
              "      <td>32.0</td>\n",
              "      <td>1.0</td>\n",
              "    </tr>\n",
              "    <tr>\n",
              "      <th>4</th>\n",
              "      <td>964325</td>\n",
              "      <td>296</td>\n",
              "      <td>2021-09-25</td>\n",
              "      <td>Normal</td>\n",
              "      <td>Man</td>\n",
              "      <td>1982-08-17</td>\n",
              "      <td>NaN</td>\n",
              "      <td>NaN</td>\n",
              "    </tr>\n",
              "  </tbody>\n",
              "</table>\n",
              "</div>"
            ],
            "text/plain": [
              "   Credit ID  Customer ID Loan Created Date Type Credit    Sex   Birthday  \\\n",
              "0     857000          483        2020-09-05      Normal  Woman 1959-06-15   \n",
              "1     695553          843        2021-05-20      Normal    Man 1960-09-25   \n",
              "2     755310          843        2020-08-24      Normal    Man 1960-09-25   \n",
              "3     992484         1801        2021-07-02      Normal  Woman 1982-12-24   \n",
              "4     964325          296        2021-09-25      Normal    Man 1982-08-17   \n",
              "\n",
              "   Overdues_Sum  Overdues_Count  \n",
              "0           NaN             NaN  \n",
              "1          32.0             1.0  \n",
              "2          32.0             1.0  \n",
              "3          32.0             1.0  \n",
              "4           NaN             NaN  "
            ]
          },
          "execution_count": 21,
          "metadata": {},
          "output_type": "execute_result"
        }
      ],
      "source": [
        "data.head()"
      ]
    },
    {
      "cell_type": "markdown",
      "metadata": {
        "id": "kJHI26TsXQzL"
      },
      "source": [
        "### Обобщение"
      ]
    },
    {
      "cell_type": "markdown",
      "metadata": {
        "id": "GXpiCdzwJeM7"
      },
      "source": [
        "\n",
        "Исходя из текущего описания данных, у нас нет прямого способа связать просрочки с конкретными кредитами. В нашей таблице history_info у нас есть информация о просрочках ('Overdues') и идентификаторе клиента ('Customer ID'), но нет уникального идентификатора кредита ('Credit ID') для связи с просрочками.  \n",
        "  \n",
        "Если бы у нас была такая информация, мы могли бы использовать ее для более точного объединения данных. Например, если бы у нас был столбец 'Credit ID' в таблице history_info, мы могли бы просто выполнить операцию объединения (merge) с использованием идентификатора кредита.  \n",
        "  \n",
        "Мы вынуждены предположить, что общая история просрочек клиента применима ко всем его кредитам.  "
      ]
    },
    {
      "cell_type": "markdown",
      "metadata": {
        "id": "NVfqgkfCPJk-"
      },
      "source": [
        "## Предобработка"
      ]
    },
    {
      "cell_type": "code",
      "execution_count": 22,
      "metadata": {
        "colab": {
          "base_uri": "https://localhost:8080/",
          "height": 206
        },
        "id": "BJ8LyF2CPejp",
        "outputId": "ea584f94-d4e9-427e-ac63-f638d6977b19"
      },
      "outputs": [
        {
          "data": {
            "text/html": [
              "<div>\n",
              "<style scoped>\n",
              "    .dataframe tbody tr th:only-of-type {\n",
              "        vertical-align: middle;\n",
              "    }\n",
              "\n",
              "    .dataframe tbody tr th {\n",
              "        vertical-align: top;\n",
              "    }\n",
              "\n",
              "    .dataframe thead th {\n",
              "        text-align: right;\n",
              "    }\n",
              "</style>\n",
              "<table border=\"1\" class=\"dataframe\">\n",
              "  <thead>\n",
              "    <tr style=\"text-align: right;\">\n",
              "      <th></th>\n",
              "      <th>Credit ID</th>\n",
              "      <th>Customer ID</th>\n",
              "      <th>Loan Created Date</th>\n",
              "      <th>Type Credit</th>\n",
              "      <th>Sex</th>\n",
              "      <th>Birthday</th>\n",
              "      <th>Overdues_Sum</th>\n",
              "      <th>Overdues_Count</th>\n",
              "    </tr>\n",
              "  </thead>\n",
              "  <tbody>\n",
              "    <tr>\n",
              "      <th>0</th>\n",
              "      <td>857000</td>\n",
              "      <td>483</td>\n",
              "      <td>2020-09-05</td>\n",
              "      <td>Normal</td>\n",
              "      <td>Woman</td>\n",
              "      <td>1959-06-15</td>\n",
              "      <td>NaN</td>\n",
              "      <td>NaN</td>\n",
              "    </tr>\n",
              "    <tr>\n",
              "      <th>1</th>\n",
              "      <td>695553</td>\n",
              "      <td>843</td>\n",
              "      <td>2021-05-20</td>\n",
              "      <td>Normal</td>\n",
              "      <td>Man</td>\n",
              "      <td>1960-09-25</td>\n",
              "      <td>32.0</td>\n",
              "      <td>1.0</td>\n",
              "    </tr>\n",
              "    <tr>\n",
              "      <th>2</th>\n",
              "      <td>755310</td>\n",
              "      <td>843</td>\n",
              "      <td>2020-08-24</td>\n",
              "      <td>Normal</td>\n",
              "      <td>Man</td>\n",
              "      <td>1960-09-25</td>\n",
              "      <td>32.0</td>\n",
              "      <td>1.0</td>\n",
              "    </tr>\n",
              "    <tr>\n",
              "      <th>3</th>\n",
              "      <td>992484</td>\n",
              "      <td>1801</td>\n",
              "      <td>2021-07-02</td>\n",
              "      <td>Normal</td>\n",
              "      <td>Woman</td>\n",
              "      <td>1982-12-24</td>\n",
              "      <td>32.0</td>\n",
              "      <td>1.0</td>\n",
              "    </tr>\n",
              "    <tr>\n",
              "      <th>4</th>\n",
              "      <td>964325</td>\n",
              "      <td>296</td>\n",
              "      <td>2021-09-25</td>\n",
              "      <td>Normal</td>\n",
              "      <td>Man</td>\n",
              "      <td>1982-08-17</td>\n",
              "      <td>NaN</td>\n",
              "      <td>NaN</td>\n",
              "    </tr>\n",
              "  </tbody>\n",
              "</table>\n",
              "</div>"
            ],
            "text/plain": [
              "   Credit ID  Customer ID Loan Created Date Type Credit    Sex   Birthday  \\\n",
              "0     857000          483        2020-09-05      Normal  Woman 1959-06-15   \n",
              "1     695553          843        2021-05-20      Normal    Man 1960-09-25   \n",
              "2     755310          843        2020-08-24      Normal    Man 1960-09-25   \n",
              "3     992484         1801        2021-07-02      Normal  Woman 1982-12-24   \n",
              "4     964325          296        2021-09-25      Normal    Man 1982-08-17   \n",
              "\n",
              "   Overdues_Sum  Overdues_Count  \n",
              "0           NaN             NaN  \n",
              "1          32.0             1.0  \n",
              "2          32.0             1.0  \n",
              "3          32.0             1.0  \n",
              "4           NaN             NaN  "
            ]
          },
          "execution_count": 22,
          "metadata": {},
          "output_type": "execute_result"
        }
      ],
      "source": [
        "data.head()"
      ]
    },
    {
      "cell_type": "code",
      "execution_count": 23,
      "metadata": {
        "colab": {
          "base_uri": "https://localhost:8080/"
        },
        "id": "Zoa3mTqYOe8i",
        "outputId": "854bcd48-37cb-475d-c739-eb15ecc0f0d9"
      },
      "outputs": [
        {
          "name": "stdout",
          "output_type": "stream",
          "text": [
            "<class 'pandas.core.frame.DataFrame'>\n",
            "Int64Index: 1000 entries, 0 to 999\n",
            "Data columns (total 8 columns):\n",
            " #   Column             Non-Null Count  Dtype         \n",
            "---  ------             --------------  -----         \n",
            " 0   Credit ID          1000 non-null   int64         \n",
            " 1   Customer ID        1000 non-null   int64         \n",
            " 2   Loan Created Date  1000 non-null   datetime64[ns]\n",
            " 3   Type Credit        1000 non-null   object        \n",
            " 4   Sex                1000 non-null   object        \n",
            " 5   Birthday           1000 non-null   datetime64[ns]\n",
            " 6   Overdues_Sum       1000 non-null   int64         \n",
            " 7   Overdues_Count     1000 non-null   int64         \n",
            "dtypes: datetime64[ns](2), int64(4), object(2)\n",
            "memory usage: 70.3+ KB\n"
          ]
        }
      ],
      "source": [
        "# Заполнение пропущенных значений в просрочках\n",
        "data['Overdues_Sum'] = data['Overdues_Sum'].fillna(0)\n",
        "data['Overdues_Count'] = data['Overdues_Count'].fillna(0)\n",
        "data['Overdues_Sum'] = data['Overdues_Sum'].astype(int)\n",
        "data['Overdues_Count'] = data['Overdues_Count'].astype(int)\n",
        "\n",
        "data.info()"
      ]
    },
    {
      "cell_type": "code",
      "execution_count": 24,
      "metadata": {
        "colab": {
          "base_uri": "https://localhost:8080/"
        },
        "id": "6GQfcL3XO5M2",
        "outputId": "0149c8f3-ad5b-419d-cb5b-b7a1e21735d9"
      },
      "outputs": [
        {
          "data": {
            "text/plain": [
              "0"
            ]
          },
          "execution_count": 24,
          "metadata": {},
          "output_type": "execute_result"
        }
      ],
      "source": [
        "data.drop_duplicates().duplicated().sum()"
      ]
    },
    {
      "cell_type": "code",
      "execution_count": 25,
      "metadata": {
        "colab": {
          "base_uri": "https://localhost:8080/"
        },
        "id": "wch8zavcTlI9",
        "outputId": "e8dc686b-b7e4-49b4-d36e-df053e8c7284"
      },
      "outputs": [
        {
          "data": {
            "text/plain": [
              "Index(['credit_id', 'customer_id', 'loan_created_date', 'type_credit', 'sex',\n",
              "       'birthday', 'overdues_sum', 'overdues_count'],\n",
              "      dtype='object')"
            ]
          },
          "execution_count": 25,
          "metadata": {},
          "output_type": "execute_result"
        }
      ],
      "source": [
        "#Приведем название столбцов к змеиному регистру\n",
        "data.columns = [re.sub(r\"\\b([A-Z])\", r\"_\\1\", col).lower() for col in data.columns]\n",
        "data.columns = [col.lstrip(\"_\") for col in data.columns]\n",
        "data.columns = [re.sub(r'\\s_', '_', i) for i in data.columns]\n",
        "\n",
        "data.columns"
      ]
    },
    {
      "cell_type": "code",
      "execution_count": 26,
      "metadata": {
        "colab": {
          "base_uri": "https://localhost:8080/",
          "height": 394
        },
        "id": "eqh7mvkgTljg",
        "outputId": "9d0ea589-3a42-4f17-a6b0-271d8fc2ebb2"
      },
      "outputs": [
        {
          "data": {
            "text/html": [
              "<div>\n",
              "<style scoped>\n",
              "    .dataframe tbody tr th:only-of-type {\n",
              "        vertical-align: middle;\n",
              "    }\n",
              "\n",
              "    .dataframe tbody tr th {\n",
              "        vertical-align: top;\n",
              "    }\n",
              "\n",
              "    .dataframe thead th {\n",
              "        text-align: right;\n",
              "    }\n",
              "</style>\n",
              "<table border=\"1\" class=\"dataframe\">\n",
              "  <thead>\n",
              "    <tr style=\"text-align: right;\">\n",
              "      <th></th>\n",
              "      <th>credit_id</th>\n",
              "      <th>customer_id</th>\n",
              "      <th>loan_created_date</th>\n",
              "      <th>type_credit</th>\n",
              "      <th>sex</th>\n",
              "      <th>birthday</th>\n",
              "      <th>overdues_sum</th>\n",
              "      <th>overdues_count</th>\n",
              "    </tr>\n",
              "  </thead>\n",
              "  <tbody>\n",
              "    <tr>\n",
              "      <th>count</th>\n",
              "      <td>1000.000000</td>\n",
              "      <td>1000.000000</td>\n",
              "      <td>1000</td>\n",
              "      <td>1000</td>\n",
              "      <td>1000</td>\n",
              "      <td>1000</td>\n",
              "      <td>1000.000000</td>\n",
              "      <td>1000.00000</td>\n",
              "    </tr>\n",
              "    <tr>\n",
              "      <th>unique</th>\n",
              "      <td>NaN</td>\n",
              "      <td>NaN</td>\n",
              "      <td>NaN</td>\n",
              "      <td>2</td>\n",
              "      <td>2</td>\n",
              "      <td>NaN</td>\n",
              "      <td>NaN</td>\n",
              "      <td>NaN</td>\n",
              "    </tr>\n",
              "    <tr>\n",
              "      <th>top</th>\n",
              "      <td>NaN</td>\n",
              "      <td>NaN</td>\n",
              "      <td>NaN</td>\n",
              "      <td>Normal</td>\n",
              "      <td>Man</td>\n",
              "      <td>NaN</td>\n",
              "      <td>NaN</td>\n",
              "      <td>NaN</td>\n",
              "    </tr>\n",
              "    <tr>\n",
              "      <th>freq</th>\n",
              "      <td>NaN</td>\n",
              "      <td>NaN</td>\n",
              "      <td>NaN</td>\n",
              "      <td>897</td>\n",
              "      <td>519</td>\n",
              "      <td>NaN</td>\n",
              "      <td>NaN</td>\n",
              "      <td>NaN</td>\n",
              "    </tr>\n",
              "    <tr>\n",
              "      <th>mean</th>\n",
              "      <td>503401.862000</td>\n",
              "      <td>979.259000</td>\n",
              "      <td>2021-06-29 05:03:50.400000</td>\n",
              "      <td>NaN</td>\n",
              "      <td>NaN</td>\n",
              "      <td>1971-11-03 09:50:24</td>\n",
              "      <td>21.246000</td>\n",
              "      <td>1.85900</td>\n",
              "    </tr>\n",
              "    <tr>\n",
              "      <th>min</th>\n",
              "      <td>4639.000000</td>\n",
              "      <td>1.000000</td>\n",
              "      <td>2020-01-01 00:00:00</td>\n",
              "      <td>NaN</td>\n",
              "      <td>NaN</td>\n",
              "      <td>1940-01-06 00:00:00</td>\n",
              "      <td>0.000000</td>\n",
              "      <td>0.00000</td>\n",
              "    </tr>\n",
              "    <tr>\n",
              "      <th>25%</th>\n",
              "      <td>255464.250000</td>\n",
              "      <td>476.000000</td>\n",
              "      <td>2020-09-26 18:00:00</td>\n",
              "      <td>NaN</td>\n",
              "      <td>NaN</td>\n",
              "      <td>1956-01-21 00:00:00</td>\n",
              "      <td>0.000000</td>\n",
              "      <td>1.00000</td>\n",
              "    </tr>\n",
              "    <tr>\n",
              "      <th>50%</th>\n",
              "      <td>498307.000000</td>\n",
              "      <td>974.500000</td>\n",
              "      <td>2021-07-10 12:00:00</td>\n",
              "      <td>NaN</td>\n",
              "      <td>NaN</td>\n",
              "      <td>1971-03-06 00:00:00</td>\n",
              "      <td>0.000000</td>\n",
              "      <td>2.00000</td>\n",
              "    </tr>\n",
              "    <tr>\n",
              "      <th>75%</th>\n",
              "      <td>748615.500000</td>\n",
              "      <td>1469.000000</td>\n",
              "      <td>2022-03-16 00:00:00</td>\n",
              "      <td>NaN</td>\n",
              "      <td>NaN</td>\n",
              "      <td>1987-08-20 00:00:00</td>\n",
              "      <td>34.000000</td>\n",
              "      <td>3.00000</td>\n",
              "    </tr>\n",
              "    <tr>\n",
              "      <th>max</th>\n",
              "      <td>999987.000000</td>\n",
              "      <td>1997.000000</td>\n",
              "      <td>2022-12-30 00:00:00</td>\n",
              "      <td>NaN</td>\n",
              "      <td>NaN</td>\n",
              "      <td>2005-12-16 00:00:00</td>\n",
              "      <td>330.000000</td>\n",
              "      <td>7.00000</td>\n",
              "    </tr>\n",
              "    <tr>\n",
              "      <th>std</th>\n",
              "      <td>287560.165729</td>\n",
              "      <td>579.172789</td>\n",
              "      <td>NaN</td>\n",
              "      <td>NaN</td>\n",
              "      <td>NaN</td>\n",
              "      <td>NaN</td>\n",
              "      <td>38.599967</td>\n",
              "      <td>1.38746</td>\n",
              "    </tr>\n",
              "  </tbody>\n",
              "</table>\n",
              "</div>"
            ],
            "text/plain": [
              "            credit_id  customer_id           loan_created_date type_credit  \\\n",
              "count     1000.000000  1000.000000                        1000        1000   \n",
              "unique            NaN          NaN                         NaN           2   \n",
              "top               NaN          NaN                         NaN      Normal   \n",
              "freq              NaN          NaN                         NaN         897   \n",
              "mean    503401.862000   979.259000  2021-06-29 05:03:50.400000         NaN   \n",
              "min       4639.000000     1.000000         2020-01-01 00:00:00         NaN   \n",
              "25%     255464.250000   476.000000         2020-09-26 18:00:00         NaN   \n",
              "50%     498307.000000   974.500000         2021-07-10 12:00:00         NaN   \n",
              "75%     748615.500000  1469.000000         2022-03-16 00:00:00         NaN   \n",
              "max     999987.000000  1997.000000         2022-12-30 00:00:00         NaN   \n",
              "std     287560.165729   579.172789                         NaN         NaN   \n",
              "\n",
              "         sex             birthday  overdues_sum  overdues_count  \n",
              "count   1000                 1000   1000.000000      1000.00000  \n",
              "unique     2                  NaN           NaN             NaN  \n",
              "top      Man                  NaN           NaN             NaN  \n",
              "freq     519                  NaN           NaN             NaN  \n",
              "mean     NaN  1971-11-03 09:50:24     21.246000         1.85900  \n",
              "min      NaN  1940-01-06 00:00:00      0.000000         0.00000  \n",
              "25%      NaN  1956-01-21 00:00:00      0.000000         1.00000  \n",
              "50%      NaN  1971-03-06 00:00:00      0.000000         2.00000  \n",
              "75%      NaN  1987-08-20 00:00:00     34.000000         3.00000  \n",
              "max      NaN  2005-12-16 00:00:00    330.000000         7.00000  \n",
              "std      NaN                  NaN     38.599967         1.38746  "
            ]
          },
          "execution_count": 26,
          "metadata": {},
          "output_type": "execute_result"
        }
      ],
      "source": [
        "data.describe(include='all', datetime_is_numeric=True)"
      ]
    },
    {
      "cell_type": "code",
      "execution_count": 27,
      "metadata": {
        "colab": {
          "base_uri": "https://localhost:8080/",
          "height": 206
        },
        "id": "Fw1VSk4yUs9X",
        "outputId": "3e8c32a2-0313-41d9-f7b9-5ce4f30a9048"
      },
      "outputs": [
        {
          "data": {
            "text/html": [
              "<div>\n",
              "<style scoped>\n",
              "    .dataframe tbody tr th:only-of-type {\n",
              "        vertical-align: middle;\n",
              "    }\n",
              "\n",
              "    .dataframe tbody tr th {\n",
              "        vertical-align: top;\n",
              "    }\n",
              "\n",
              "    .dataframe thead th {\n",
              "        text-align: right;\n",
              "    }\n",
              "</style>\n",
              "<table border=\"1\" class=\"dataframe\">\n",
              "  <thead>\n",
              "    <tr style=\"text-align: right;\">\n",
              "      <th></th>\n",
              "      <th>loan_created_date</th>\n",
              "      <th>type_credit</th>\n",
              "      <th>sex</th>\n",
              "      <th>birthday</th>\n",
              "      <th>overdues_sum</th>\n",
              "      <th>overdues_count</th>\n",
              "    </tr>\n",
              "  </thead>\n",
              "  <tbody>\n",
              "    <tr>\n",
              "      <th>0</th>\n",
              "      <td>2020-09-05</td>\n",
              "      <td>Normal</td>\n",
              "      <td>Woman</td>\n",
              "      <td>1959-06-15</td>\n",
              "      <td>0</td>\n",
              "      <td>0</td>\n",
              "    </tr>\n",
              "    <tr>\n",
              "      <th>1</th>\n",
              "      <td>2021-05-20</td>\n",
              "      <td>Normal</td>\n",
              "      <td>Man</td>\n",
              "      <td>1960-09-25</td>\n",
              "      <td>32</td>\n",
              "      <td>1</td>\n",
              "    </tr>\n",
              "    <tr>\n",
              "      <th>2</th>\n",
              "      <td>2020-08-24</td>\n",
              "      <td>Normal</td>\n",
              "      <td>Man</td>\n",
              "      <td>1960-09-25</td>\n",
              "      <td>32</td>\n",
              "      <td>1</td>\n",
              "    </tr>\n",
              "    <tr>\n",
              "      <th>3</th>\n",
              "      <td>2021-07-02</td>\n",
              "      <td>Normal</td>\n",
              "      <td>Woman</td>\n",
              "      <td>1982-12-24</td>\n",
              "      <td>32</td>\n",
              "      <td>1</td>\n",
              "    </tr>\n",
              "    <tr>\n",
              "      <th>4</th>\n",
              "      <td>2021-09-25</td>\n",
              "      <td>Normal</td>\n",
              "      <td>Man</td>\n",
              "      <td>1982-08-17</td>\n",
              "      <td>0</td>\n",
              "      <td>0</td>\n",
              "    </tr>\n",
              "  </tbody>\n",
              "</table>\n",
              "</div>"
            ],
            "text/plain": [
              "  loan_created_date type_credit    sex   birthday  overdues_sum  \\\n",
              "0        2020-09-05      Normal  Woman 1959-06-15             0   \n",
              "1        2021-05-20      Normal    Man 1960-09-25            32   \n",
              "2        2020-08-24      Normal    Man 1960-09-25            32   \n",
              "3        2021-07-02      Normal  Woman 1982-12-24            32   \n",
              "4        2021-09-25      Normal    Man 1982-08-17             0   \n",
              "\n",
              "   overdues_count  \n",
              "0               0  \n",
              "1               1  \n",
              "2               1  \n",
              "3               1  \n",
              "4               0  "
            ]
          },
          "execution_count": 27,
          "metadata": {},
          "output_type": "execute_result"
        }
      ],
      "source": [
        "#Удалим неинформативные столбцы, не нужные для модели credit_id, customer_id\n",
        "data = data.drop(['credit_id', 'customer_id'], axis=1).copy()\n",
        "data.head()\n",
        "\n"
      ]
    },
    {
      "cell_type": "markdown",
      "metadata": {
        "id": "dOom4fW0XJsA"
      },
      "source": [
        "### Обобщение"
      ]
    },
    {
      "cell_type": "markdown",
      "metadata": {
        "id": "w2UR9pvDXjUU"
      },
      "source": [
        "1. Обработали пропуски в overdues, замнили на 0\n",
        "2. Удалили неинформативные столбцы, не нужные для модели credit_id, customer_id\n",
        "3. Привели столбцы к змеиному регистру\n",
        "4. Дубликаты отсутствуют как и пропуски"
      ]
    },
    {
      "cell_type": "markdown",
      "metadata": {
        "id": "_rT-BNa0WJfk"
      },
      "source": [
        "## Анализ данных и добавление дополнительных призанков"
      ]
    },
    {
      "cell_type": "code",
      "execution_count": 28,
      "metadata": {
        "id": "8xmwhRS4t_9k"
      },
      "outputs": [],
      "source": [
        "#Некоторые тенденции могут быть циклическими на ежегодной или ежемесячной основе \n",
        "data['loan_created_month'] = data['loan_created_date'].dt.month\n",
        "data['loan_created_day'] = data['loan_created_date'].dt.day\n",
        "# Создание столбца \"Loan Season\" на основе месяца взятия кредита\n",
        "data['loan_season'] = data['loan_created_date'].dt.month.map({\n",
        "    1: 'Winter',\n",
        "    2: 'Winter',\n",
        "    3: 'Spring',\n",
        "    4: 'Spring',\n",
        "    5: 'Spring',\n",
        "    6: 'Summer',\n",
        "    7: 'Summer',\n",
        "    8: 'Summer',\n",
        "    9: 'Autumn',\n",
        "    10: 'Autumn',\n",
        "    11: 'Autumn',\n",
        "    12: 'Winter'\n",
        "})\n",
        "season_mapping = {\n",
        "    'Winter': 1,\n",
        "    'Spring': 2,\n",
        "    'Summer': 3,\n",
        "    'Autumn': 4\n",
        "}\n",
        "\n",
        "data['loan_season'] = data['loan_season'].map(season_mapping)\n"
      ]
    },
    {
      "cell_type": "code",
      "execution_count": 29,
      "metadata": {
        "colab": {
          "base_uri": "https://localhost:8080/"
        },
        "id": "C5maPHIyusns",
        "outputId": "055b1509-9a6c-41cc-d1c4-e8b0d9d86af2"
      },
      "outputs": [
        {
          "data": {
            "text/plain": [
              "array([61, 60, 59, 38, 39, 68, 26, 34, 40, 56, 55, 64, 43, 44, 42, 15, 46,\n",
              "       18, 69, 50, 62, 48, 75, 45, 25, 27, 49, 65, 63, 73, 77, 76, 37, 30,\n",
              "       17, 79, 51, 57, 16, 21, 58, 66, 71, 74, 72, 54, 52, 67, 19, 20, 70,\n",
              "       35, 36, 24, 23, 33, 53, 29, 41, 47, 28, 78, 80, 82, 81, 31, 14, 32,\n",
              "       22])"
            ]
          },
          "execution_count": 29,
          "metadata": {},
          "output_type": "execute_result"
        }
      ],
      "source": [
        "# Возраст клиента на момент создания кредит\n",
        "data['age_at_loan'] = (data['loan_created_date'] - data['birthday']).dt.days // 365\n",
        "data = data.drop(['birthday',], axis=1).copy()\n",
        "#Удалим неинформативные столбцы, не нужные для модели \n",
        "data = data.drop(['loan_created_date'], axis=1).copy()\n",
        "data.head()\n",
        "\n",
        "data['age_at_loan'].unique()"
      ]
    },
    {
      "cell_type": "code",
      "execution_count": 30,
      "metadata": {
        "id": "F2OVlN59w9pA"
      },
      "outputs": [],
      "source": [
        "#Удалим все данные младше 18 лет \n",
        "data = data.query('age_at_loan >= 18')"
      ]
    },
    {
      "cell_type": "code",
      "execution_count": 31,
      "metadata": {
        "colab": {
          "base_uri": "https://localhost:8080/"
        },
        "id": "6oRJRnsswU4A",
        "outputId": "e41f0f39-69ad-406d-dcb9-197ca1c075cd"
      },
      "outputs": [
        {
          "name": "stdout",
          "output_type": "stream",
          "text": [
            "<class 'pandas.core.frame.DataFrame'>\n",
            "Int64Index: 964 entries, 0 to 999\n",
            "Data columns (total 8 columns):\n",
            " #   Column              Non-Null Count  Dtype \n",
            "---  ------              --------------  ----- \n",
            " 0   type_credit         964 non-null    object\n",
            " 1   sex                 964 non-null    object\n",
            " 2   overdues_sum        964 non-null    int64 \n",
            " 3   overdues_count      964 non-null    int64 \n",
            " 4   loan_created_month  964 non-null    int64 \n",
            " 5   loan_created_day    964 non-null    int64 \n",
            " 6   loan_season         964 non-null    int64 \n",
            " 7   age_at_loan         964 non-null    int64 \n",
            "dtypes: int64(6), object(2)\n",
            "memory usage: 67.8+ KB\n"
          ]
        }
      ],
      "source": [
        "data.info()"
      ]
    },
    {
      "cell_type": "code",
      "execution_count": 32,
      "metadata": {
        "id": "NoSck57nYWpc"
      },
      "outputs": [],
      "source": [
        "# Среднее количество дней просрочки на одну просрочку\n",
        "data['average_overdue'] = data['overdues_sum'] / data['overdues_count']\n",
        "data['average_overdue'].fillna(0, inplace=True)\n"
      ]
    },
    {
      "cell_type": "code",
      "execution_count": 33,
      "metadata": {
        "colab": {
          "base_uri": "https://localhost:8080/",
          "height": 206
        },
        "id": "K_pxoavaYdeh",
        "outputId": "2bae9658-b9b6-494b-c7ad-531a973d9168"
      },
      "outputs": [
        {
          "data": {
            "text/html": [
              "<div>\n",
              "<style scoped>\n",
              "    .dataframe tbody tr th:only-of-type {\n",
              "        vertical-align: middle;\n",
              "    }\n",
              "\n",
              "    .dataframe tbody tr th {\n",
              "        vertical-align: top;\n",
              "    }\n",
              "\n",
              "    .dataframe thead th {\n",
              "        text-align: right;\n",
              "    }\n",
              "</style>\n",
              "<table border=\"1\" class=\"dataframe\">\n",
              "  <thead>\n",
              "    <tr style=\"text-align: right;\">\n",
              "      <th></th>\n",
              "      <th>type_credit</th>\n",
              "      <th>sex</th>\n",
              "      <th>overdues_sum</th>\n",
              "      <th>overdues_count</th>\n",
              "      <th>loan_created_month</th>\n",
              "      <th>loan_created_day</th>\n",
              "      <th>loan_season</th>\n",
              "      <th>age_at_loan</th>\n",
              "      <th>average_overdue</th>\n",
              "    </tr>\n",
              "  </thead>\n",
              "  <tbody>\n",
              "    <tr>\n",
              "      <th>0</th>\n",
              "      <td>Normal</td>\n",
              "      <td>0</td>\n",
              "      <td>0</td>\n",
              "      <td>0</td>\n",
              "      <td>9</td>\n",
              "      <td>5</td>\n",
              "      <td>4</td>\n",
              "      <td>61</td>\n",
              "      <td>0.0</td>\n",
              "    </tr>\n",
              "    <tr>\n",
              "      <th>1</th>\n",
              "      <td>Normal</td>\n",
              "      <td>1</td>\n",
              "      <td>32</td>\n",
              "      <td>1</td>\n",
              "      <td>5</td>\n",
              "      <td>20</td>\n",
              "      <td>2</td>\n",
              "      <td>60</td>\n",
              "      <td>32.0</td>\n",
              "    </tr>\n",
              "    <tr>\n",
              "      <th>2</th>\n",
              "      <td>Normal</td>\n",
              "      <td>1</td>\n",
              "      <td>32</td>\n",
              "      <td>1</td>\n",
              "      <td>8</td>\n",
              "      <td>24</td>\n",
              "      <td>3</td>\n",
              "      <td>59</td>\n",
              "      <td>32.0</td>\n",
              "    </tr>\n",
              "    <tr>\n",
              "      <th>3</th>\n",
              "      <td>Normal</td>\n",
              "      <td>0</td>\n",
              "      <td>32</td>\n",
              "      <td>1</td>\n",
              "      <td>7</td>\n",
              "      <td>2</td>\n",
              "      <td>3</td>\n",
              "      <td>38</td>\n",
              "      <td>32.0</td>\n",
              "    </tr>\n",
              "    <tr>\n",
              "      <th>4</th>\n",
              "      <td>Normal</td>\n",
              "      <td>1</td>\n",
              "      <td>0</td>\n",
              "      <td>0</td>\n",
              "      <td>9</td>\n",
              "      <td>25</td>\n",
              "      <td>4</td>\n",
              "      <td>39</td>\n",
              "      <td>0.0</td>\n",
              "    </tr>\n",
              "  </tbody>\n",
              "</table>\n",
              "</div>"
            ],
            "text/plain": [
              "  type_credit  sex  overdues_sum  overdues_count  loan_created_month  \\\n",
              "0      Normal    0             0               0                   9   \n",
              "1      Normal    1            32               1                   5   \n",
              "2      Normal    1            32               1                   8   \n",
              "3      Normal    0            32               1                   7   \n",
              "4      Normal    1             0               0                   9   \n",
              "\n",
              "   loan_created_day  loan_season  age_at_loan  average_overdue  \n",
              "0                 5            4           61              0.0  \n",
              "1                20            2           60             32.0  \n",
              "2                24            3           59             32.0  \n",
              "3                 2            3           38             32.0  \n",
              "4                25            4           39              0.0  "
            ]
          },
          "execution_count": 33,
          "metadata": {},
          "output_type": "execute_result"
        }
      ],
      "source": [
        "#кодирование категориального признака 'sex'\n",
        "data['sex'] = data['sex'].map({'Woman': 0, 'Man': 1})\n",
        "data.head()"
      ]
    },
    {
      "cell_type": "code",
      "execution_count": 34,
      "metadata": {
        "id": "cicYSUZAbS-Q"
      },
      "outputs": [],
      "source": [
        "# целевой признак 'type_credit' содержит категории \"Normal\" и \"Problem\", мы можете выполнить бинарное кодирование этого признака\n",
        "data['type_credit'] = data['type_credit'].replace({'Normal': 0, 'Problem': 1})\n"
      ]
    },
    {
      "cell_type": "code",
      "execution_count": 35,
      "metadata": {
        "colab": {
          "base_uri": "https://localhost:8080/",
          "height": 1000
        },
        "id": "cCL78C05Ym_n",
        "outputId": "280078ce-2617-4909-c907-82018ce7a2bc"
      },
      "outputs": [
        {
          "data": {
            "image/png": "[encoded data removed]",
            "text/plain": [
              "<Figure size 1000x400 with 2 Axes>"
            ]
          },
          "metadata": {},
          "output_type": "display_data"
        },
        {
          "data": {
            "image/png": "[encoded data removed]",
            "text/plain": [
              "<Figure size 1000x400 with 2 Axes>"
            ]
          },
          "metadata": {},
          "output_type": "display_data"
        },
        {
          "data": {
            "image/png": "[encoded data removed]",
            "text/plain": [
              "<Figure size 1000x400 with 2 Axes>"
            ]
          },
          "metadata": {},
          "output_type": "display_data"
        },
        {
          "data": {
            "image/png": "[encoded data removed]",
            "text/plain": [
              "<Figure size 1000x400 with 2 Axes>"
            ]
          },
          "metadata": {},
          "output_type": "display_data"
        },
        {
          "data": {
            "image/png": "[encoded data removed]",
            "text/plain": [
              "<Figure size 1000x400 with 2 Axes>"
            ]
          },
          "metadata": {},
          "output_type": "display_data"
        },
        {
          "data": {
            "image/png": "[encoded data removed]",
            "text/plain": [
              "<Figure size 1000x400 with 2 Axes>"
            ]
          },
          "metadata": {},
          "output_type": "display_data"
        },
        {
          "data": {
            "image/png": "[encoded data removed]",
            "text/plain": [
              "<Figure size 1000x400 with 2 Axes>"
            ]
          },
          "metadata": {},
          "output_type": "display_data"
        },
        {
          "data": {
            "image/png": "[encoded data removed]",
            "text/plain": [
              "<Figure size 1000x400 with 2 Axes>"
            ]
          },
          "metadata": {},
          "output_type": "display_data"
        }
      ],
      "source": [
        "# Список всех числовых столбцов, кроме целевой переменной\n",
        "features = [col for col in data.select_dtypes(include=[np.number]).columns if col != 'type_credit']\n",
        "\n",
        "# Построение графика для каждого признака\n",
        "for feature in features:\n",
        "    plt.figure(figsize=(10, 4))\n",
        "    \n",
        "    # Построение гистограммы\n",
        "    plt.subplot(1, 2, 1)\n",
        "    sns.histplot(data[feature], bins=30, kde=False)\n",
        "    plt.title(f'Distribution of {feature}')\n",
        "    \n",
        "    # Построение ящика с усами для оценки выбросов\n",
        "    plt.subplot(1, 2, 2)\n",
        "    sns.boxplot(x=data[feature])\n",
        "    plt.title(f'Boxplot of {feature}')\n",
        "    \n",
        "    plt.tight_layout()\n",
        "    plt.show() \n",
        "\n"
      ]
    },
    {
      "cell_type": "code",
      "execution_count": 36,
      "metadata": {
        "colab": {
          "base_uri": "https://localhost:8080/",
          "height": 810
        },
        "id": "cAr2ajXkYrXX",
        "outputId": "a071e13e-882e-448d-91a3-2a2cae47ebfe"
      },
      "outputs": [
        {
          "data": {
            "image/png": "[encoded data removed]",
            "text/plain": [
              "<Figure size 1000x800 with 2 Axes>"
            ]
          },
          "metadata": {},
          "output_type": "display_data"
        }
      ],
      "source": [
        "# Проверим корреляцию\n",
        "corr_matrix = data.corr(numeric_only=True)\n",
        "plt.figure(figsize=(10, 8))\n",
        "sns.heatmap(corr_matrix, annot=True, cmap='coolwarm')\n",
        "plt.show()\n"
      ]
    },
    {
      "cell_type": "code",
      "execution_count": 37,
      "metadata": {
        "colab": {
          "base_uri": "https://localhost:8080/"
        },
        "id": "bj3Erv5faf-i",
        "outputId": "f5be5800-0359-4fcf-a762-74b21d9d310d"
      },
      "outputs": [
        {
          "data": {
            "text/plain": [
              "sex\n",
              "0    463\n",
              "1    501\n",
              "Name: type_credit, dtype: int64"
            ]
          },
          "execution_count": 37,
          "metadata": {},
          "output_type": "execute_result"
        }
      ],
      "source": [
        "data.groupby('sex')['type_credit'].count()# рассмотрим целевой признак"
      ]
    },
    {
      "cell_type": "code",
      "execution_count": 38,
      "metadata": {
        "colab": {
          "base_uri": "https://localhost:8080/"
        },
        "id": "Yg-bvZrgbt6a",
        "outputId": "50b4b547-7ccd-446b-ae9e-fad63b94c68b"
      },
      "outputs": [
        {
          "data": {
            "text/plain": [
              "sex\n",
              "0    46\n",
              "1    53\n",
              "Name: type_credit, dtype: int64"
            ]
          },
          "execution_count": 38,
          "metadata": {},
          "output_type": "execute_result"
        }
      ],
      "source": [
        "data.groupby('sex')['type_credit'].sum()# количество проблемных кредитов"
      ]
    },
    {
      "cell_type": "code",
      "execution_count": 39,
      "metadata": {
        "colab": {
          "base_uri": "https://localhost:8080/",
          "height": 487
        },
        "id": "GcptTaSxazse",
        "outputId": "90f95757-2742-41a4-889a-790fd1423daf"
      },
      "outputs": [
        {
          "data": {
            "image/png": "[encoded data removed]",
            "text/plain": [
              "<Figure size 500x500 with 1 Axes>"
            ]
          },
          "metadata": {},
          "output_type": "display_data"
        }
      ],
      "source": [
        "problem_credits_per_age = data.groupby('age_at_loan')['type_credit'].sum()# количество проблемных кредитов по возрасту\n",
        "\n",
        "plt.figure(figsize=(5, 5))\n",
        "plt.bar(problem_credits_per_age.index, problem_credits_per_age.values)\n",
        "plt.xlabel('Age at Loan')\n",
        "plt.ylabel('Number of Problem Credits')\n",
        "plt.title('Number of Problem Credits by Age at Loan')\n",
        "plt.show()"
      ]
    },
    {
      "cell_type": "code",
      "execution_count": 40,
      "metadata": {
        "colab": {
          "base_uri": "https://localhost:8080/",
          "height": 487
        },
        "id": "SoHEjaZRa4lw",
        "outputId": "ad661ccf-fd6e-4d8a-fb5b-d7152ede9eb5"
      },
      "outputs": [
        {
          "data": {
            "image/png": "[encoded data removed]",
            "text/plain": [
              "<Figure size 500x500 with 1 Axes>"
            ]
          },
          "metadata": {},
          "output_type": "display_data"
        }
      ],
      "source": [
        "problem_credits_per_overdues = data.groupby('overdues_count')['type_credit'].count()\n",
        "\n",
        "plt.figure(figsize=(5, 5))\n",
        "plt.bar(problem_credits_per_overdues.index, problem_credits_per_overdues.values)\n",
        "plt.xlabel('Overdues Count')\n",
        "plt.ylabel('Number of Problem Credits')\n",
        "plt.title('Number of Problem Credits by Overdues Count')\n",
        "plt.show()\n"
      ]
    },
    {
      "cell_type": "code",
      "execution_count": 41,
      "metadata": {
        "colab": {
          "base_uri": "https://localhost:8080/",
          "height": 564
        },
        "id": "zYg3DjLadGb3",
        "outputId": "f74c98f5-2eb5-4897-c4ab-eb0da297a380"
      },
      "outputs": [
        {
          "data": {
            "image/png": "[encoded data removed]",
            "text/plain": [
              "<Figure size 1000x600 with 1 Axes>"
            ]
          },
          "metadata": {},
          "output_type": "display_data"
        }
      ],
      "source": [
        "problem_credits_per_overdues_sum = data.groupby('overdues_sum')['type_credit'].sum()\n",
        "\n",
        "plt.figure(figsize=(10, 6))\n",
        "plt.bar(problem_credits_per_overdues_sum.index, problem_credits_per_overdues_sum.values)\n",
        "plt.xlabel('Overdues Sum')\n",
        "plt.ylabel('Number of Problem Credits')\n",
        "plt.title('Number of Problem Credits by Overdues Sum')\n",
        "plt.show()\n"
      ]
    },
    {
      "cell_type": "markdown",
      "metadata": {
        "id": "cTlXxErsed2n"
      },
      "source": [
        "### Вывод "
      ]
    },
    {
      "attachments": {},
      "cell_type": "markdown",
      "metadata": {
        "id": "v8NN82VLe0rf"
      },
      "source": [
        "1. У большинства клиентов отсутствуют просрочки по платежам (то есть 'overdues_sum' равен 0). Это нормально и соответствует общей динамике кредитования: большинство клиентов погашают свои кредиты в срок, а проблемные кредиты — это относительно редкий случай.\n",
        "2. Больше всего проблемных кредитов у 50-летних\n",
        "3. Клиенты, которые допустили хотя бы одну просрочку, могут стать менее дисциплинированными в погашении кредита, что увеличивает вероятность проблем с кредитом.\n",
        "4. Присутствуют выбросы\n",
        "5. Удалили кредиты, где возраст заемщика меньше 18 лет"
      ]
    },
    {
      "cell_type": "markdown",
      "metadata": {
        "id": "zJ86WVdUgKKK"
      },
      "source": [
        "## Основная часть "
      ]
    },
    {
      "cell_type": "code",
      "execution_count": 42,
      "metadata": {
        "colab": {
          "base_uri": "https://localhost:8080/",
          "height": 424
        },
        "id": "d0YB2nCEg1tN",
        "outputId": "de1a4bcc-e0bf-4bce-e4b7-edfa37669f81"
      },
      "outputs": [
        {
          "data": {
            "text/html": [
              "<div>\n",
              "<style scoped>\n",
              "    .dataframe tbody tr th:only-of-type {\n",
              "        vertical-align: middle;\n",
              "    }\n",
              "\n",
              "    .dataframe tbody tr th {\n",
              "        vertical-align: top;\n",
              "    }\n",
              "\n",
              "    .dataframe thead th {\n",
              "        text-align: right;\n",
              "    }\n",
              "</style>\n",
              "<table border=\"1\" class=\"dataframe\">\n",
              "  <thead>\n",
              "    <tr style=\"text-align: right;\">\n",
              "      <th></th>\n",
              "      <th>type_credit</th>\n",
              "      <th>sex</th>\n",
              "      <th>overdues_sum</th>\n",
              "      <th>overdues_count</th>\n",
              "      <th>loan_created_month</th>\n",
              "      <th>loan_created_day</th>\n",
              "      <th>loan_season</th>\n",
              "      <th>age_at_loan</th>\n",
              "      <th>average_overdue</th>\n",
              "    </tr>\n",
              "  </thead>\n",
              "  <tbody>\n",
              "    <tr>\n",
              "      <th>0</th>\n",
              "      <td>0</td>\n",
              "      <td>0</td>\n",
              "      <td>0</td>\n",
              "      <td>0</td>\n",
              "      <td>9</td>\n",
              "      <td>5</td>\n",
              "      <td>4</td>\n",
              "      <td>61</td>\n",
              "      <td>0.000000</td>\n",
              "    </tr>\n",
              "    <tr>\n",
              "      <th>1</th>\n",
              "      <td>0</td>\n",
              "      <td>1</td>\n",
              "      <td>32</td>\n",
              "      <td>1</td>\n",
              "      <td>5</td>\n",
              "      <td>20</td>\n",
              "      <td>2</td>\n",
              "      <td>60</td>\n",
              "      <td>32.000000</td>\n",
              "    </tr>\n",
              "    <tr>\n",
              "      <th>2</th>\n",
              "      <td>0</td>\n",
              "      <td>1</td>\n",
              "      <td>32</td>\n",
              "      <td>1</td>\n",
              "      <td>8</td>\n",
              "      <td>24</td>\n",
              "      <td>3</td>\n",
              "      <td>59</td>\n",
              "      <td>32.000000</td>\n",
              "    </tr>\n",
              "    <tr>\n",
              "      <th>3</th>\n",
              "      <td>0</td>\n",
              "      <td>0</td>\n",
              "      <td>32</td>\n",
              "      <td>1</td>\n",
              "      <td>7</td>\n",
              "      <td>2</td>\n",
              "      <td>3</td>\n",
              "      <td>38</td>\n",
              "      <td>32.000000</td>\n",
              "    </tr>\n",
              "    <tr>\n",
              "      <th>4</th>\n",
              "      <td>0</td>\n",
              "      <td>1</td>\n",
              "      <td>0</td>\n",
              "      <td>0</td>\n",
              "      <td>9</td>\n",
              "      <td>25</td>\n",
              "      <td>4</td>\n",
              "      <td>39</td>\n",
              "      <td>0.000000</td>\n",
              "    </tr>\n",
              "    <tr>\n",
              "      <th>...</th>\n",
              "      <td>...</td>\n",
              "      <td>...</td>\n",
              "      <td>...</td>\n",
              "      <td>...</td>\n",
              "      <td>...</td>\n",
              "      <td>...</td>\n",
              "      <td>...</td>\n",
              "      <td>...</td>\n",
              "      <td>...</td>\n",
              "    </tr>\n",
              "    <tr>\n",
              "      <th>995</th>\n",
              "      <td>0</td>\n",
              "      <td>1</td>\n",
              "      <td>0</td>\n",
              "      <td>1</td>\n",
              "      <td>4</td>\n",
              "      <td>27</td>\n",
              "      <td>2</td>\n",
              "      <td>22</td>\n",
              "      <td>0.000000</td>\n",
              "    </tr>\n",
              "    <tr>\n",
              "      <th>996</th>\n",
              "      <td>0</td>\n",
              "      <td>1</td>\n",
              "      <td>79</td>\n",
              "      <td>6</td>\n",
              "      <td>10</td>\n",
              "      <td>15</td>\n",
              "      <td>4</td>\n",
              "      <td>28</td>\n",
              "      <td>13.166667</td>\n",
              "    </tr>\n",
              "    <tr>\n",
              "      <th>997</th>\n",
              "      <td>1</td>\n",
              "      <td>1</td>\n",
              "      <td>0</td>\n",
              "      <td>0</td>\n",
              "      <td>3</td>\n",
              "      <td>30</td>\n",
              "      <td>2</td>\n",
              "      <td>64</td>\n",
              "      <td>0.000000</td>\n",
              "    </tr>\n",
              "    <tr>\n",
              "      <th>998</th>\n",
              "      <td>0</td>\n",
              "      <td>0</td>\n",
              "      <td>0</td>\n",
              "      <td>1</td>\n",
              "      <td>10</td>\n",
              "      <td>29</td>\n",
              "      <td>4</td>\n",
              "      <td>31</td>\n",
              "      <td>0.000000</td>\n",
              "    </tr>\n",
              "    <tr>\n",
              "      <th>999</th>\n",
              "      <td>0</td>\n",
              "      <td>0</td>\n",
              "      <td>0</td>\n",
              "      <td>2</td>\n",
              "      <td>6</td>\n",
              "      <td>4</td>\n",
              "      <td>3</td>\n",
              "      <td>67</td>\n",
              "      <td>0.000000</td>\n",
              "    </tr>\n",
              "  </tbody>\n",
              "</table>\n",
              "<p>964 rows × 9 columns</p>\n",
              "</div>"
            ],
            "text/plain": [
              "     type_credit  sex  overdues_sum  overdues_count  loan_created_month  \\\n",
              "0              0    0             0               0                   9   \n",
              "1              0    1            32               1                   5   \n",
              "2              0    1            32               1                   8   \n",
              "3              0    0            32               1                   7   \n",
              "4              0    1             0               0                   9   \n",
              "..           ...  ...           ...             ...                 ...   \n",
              "995            0    1             0               1                   4   \n",
              "996            0    1            79               6                  10   \n",
              "997            1    1             0               0                   3   \n",
              "998            0    0             0               1                  10   \n",
              "999            0    0             0               2                   6   \n",
              "\n",
              "     loan_created_day  loan_season  age_at_loan  average_overdue  \n",
              "0                   5            4           61         0.000000  \n",
              "1                  20            2           60        32.000000  \n",
              "2                  24            3           59        32.000000  \n",
              "3                   2            3           38        32.000000  \n",
              "4                  25            4           39         0.000000  \n",
              "..                ...          ...          ...              ...  \n",
              "995                27            2           22         0.000000  \n",
              "996                15            4           28        13.166667  \n",
              "997                30            2           64         0.000000  \n",
              "998                29            4           31         0.000000  \n",
              "999                 4            3           67         0.000000  \n",
              "\n",
              "[964 rows x 9 columns]"
            ]
          },
          "execution_count": 42,
          "metadata": {},
          "output_type": "execute_result"
        }
      ],
      "source": [
        "data"
      ]
    },
    {
      "cell_type": "markdown",
      "metadata": {
        "id": "YXm1Y6xSgNsY"
      },
      "source": [
        " ### Разобьем данные на выборки"
      ]
    },
    {
      "cell_type": "code",
      "execution_count": 43,
      "metadata": {
        "id": "K4Pdx5z_yB2S"
      },
      "outputs": [],
      "source": [
        "# отделим 20% данных для тестовой выборки выборки (для проверки модели)\n",
        "target = data['type_credit']\n",
        "features = data.drop(['type_credit'] , axis=1)\n",
        "features_other, features_test, target_other, target_test = train_test_split(\n",
        "    features, target, test_size=0.2, random_state=453)"
      ]
    },
    {
      "cell_type": "code",
      "execution_count": 44,
      "metadata": {
        "id": "W08ZZ1NRyLR3"
      },
      "outputs": [],
      "source": [
        "# отделим 25% данных(от other) для разделения на обучающую и валидационную выборку\n",
        "features_train, features_valid, target_train, target_valid = train_test_split(\n",
        "    features_other, target_other, test_size=0.25, random_state=453)"
      ]
    },
    {
      "cell_type": "code",
      "execution_count": 45,
      "metadata": {
        "colab": {
          "base_uri": "https://localhost:8080/"
        },
        "id": "Qb4CPEy_gVmD",
        "outputId": "b24b42d2-26ba-460c-9bbd-3db43bc3b461"
      },
      "outputs": [
        {
          "name": "stdout",
          "output_type": "stream",
          "text": [
            "Размер обучающей выборки 578\n",
            "Размер валидационной выборки 193\n",
            "Размер тестовой выборки 193\n"
          ]
        }
      ],
      "source": [
        "print('Размер обучающей выборки', len(features_train))\n",
        "print('Размер валидационной выборки', len(features_valid))\n",
        "print('Размер тестовой выборки', len(features_test))"
      ]
    },
    {
      "cell_type": "code",
      "execution_count": 46,
      "metadata": {
        "colab": {
          "base_uri": "https://localhost:8080/"
        },
        "id": "myt4Jj7D_5LT",
        "outputId": "a228e523-eaab-4b69-b579-eec429638c5c"
      },
      "outputs": [
        {
          "name": "stdout",
          "output_type": "stream",
          "text": [
            "<class 'pandas.core.frame.DataFrame'>\n",
            "Int64Index: 964 entries, 0 to 999\n",
            "Data columns (total 9 columns):\n",
            " #   Column              Non-Null Count  Dtype  \n",
            "---  ------              --------------  -----  \n",
            " 0   type_credit         964 non-null    int64  \n",
            " 1   sex                 964 non-null    int64  \n",
            " 2   overdues_sum        964 non-null    int64  \n",
            " 3   overdues_count      964 non-null    int64  \n",
            " 4   loan_created_month  964 non-null    int64  \n",
            " 5   loan_created_day    964 non-null    int64  \n",
            " 6   loan_season         964 non-null    int64  \n",
            " 7   age_at_loan         964 non-null    int64  \n",
            " 8   average_overdue     964 non-null    float64\n",
            "dtypes: float64(1), int64(8)\n",
            "memory usage: 75.3 KB\n"
          ]
        }
      ],
      "source": [
        "data.info()"
      ]
    },
    {
      "cell_type": "markdown",
      "metadata": {
        "id": "fmkr3-ODl7f7"
      },
      "source": [
        "### Масштабирование"
      ]
    },
    {
      "cell_type": "code",
      "execution_count": 47,
      "metadata": {
        "colab": {
          "base_uri": "https://localhost:8080/"
        },
        "id": "i2ZkLIlgy9FY",
        "outputId": "92189b5e-a55c-4856-aa1b-a9c89af681ec"
      },
      "outputs": [
        {
          "data": {
            "text/plain": [
              "Index(['sex', 'overdues_sum', 'overdues_count', 'loan_created_month',\n",
              "       'loan_created_day', 'loan_season', 'age_at_loan', 'average_overdue'],\n",
              "      dtype='object')"
            ]
          },
          "execution_count": 47,
          "metadata": {},
          "output_type": "execute_result"
        }
      ],
      "source": [
        "features.columns"
      ]
    },
    {
      "cell_type": "code",
      "execution_count": 48,
      "metadata": {
        "id": "AeQlYi9DmE_0"
      },
      "outputs": [],
      "source": [
        "scaler = StandardScaler()\n",
        "scaler.fit(features_train)\n",
        "features_train = pd.DataFrame(scaler.transform(features_train), columns = features.columns)\n",
        "features_valid = pd.DataFrame(scaler.transform(features_valid), columns = features.columns)\n",
        "features_test = pd.DataFrame(scaler.transform(features_test), columns = features.columns)"
      ]
    },
    {
      "cell_type": "code",
      "execution_count": 49,
      "metadata": {
        "colab": {
          "base_uri": "https://localhost:8080/",
          "height": 424
        },
        "id": "6vSlKHszyqV1",
        "outputId": "ec9d52fb-8e36-4c53-8ee6-8677fb68fd7a"
      },
      "outputs": [
        {
          "data": {
            "text/html": [
              "<div>\n",
              "<style scoped>\n",
              "    .dataframe tbody tr th:only-of-type {\n",
              "        vertical-align: middle;\n",
              "    }\n",
              "\n",
              "    .dataframe tbody tr th {\n",
              "        vertical-align: top;\n",
              "    }\n",
              "\n",
              "    .dataframe thead th {\n",
              "        text-align: right;\n",
              "    }\n",
              "</style>\n",
              "<table border=\"1\" class=\"dataframe\">\n",
              "  <thead>\n",
              "    <tr style=\"text-align: right;\">\n",
              "      <th></th>\n",
              "      <th>sex</th>\n",
              "      <th>overdues_sum</th>\n",
              "      <th>overdues_count</th>\n",
              "      <th>loan_created_month</th>\n",
              "      <th>loan_created_day</th>\n",
              "      <th>loan_season</th>\n",
              "      <th>age_at_loan</th>\n",
              "      <th>average_overdue</th>\n",
              "    </tr>\n",
              "  </thead>\n",
              "  <tbody>\n",
              "    <tr>\n",
              "      <th>0</th>\n",
              "      <td>-1.038815</td>\n",
              "      <td>-0.575681</td>\n",
              "      <td>0.808658</td>\n",
              "      <td>0.745125</td>\n",
              "      <td>-1.536644</td>\n",
              "      <td>1.380922</td>\n",
              "      <td>-1.011531</td>\n",
              "      <td>-0.574793</td>\n",
              "    </tr>\n",
              "    <tr>\n",
              "      <th>1</th>\n",
              "      <td>0.962635</td>\n",
              "      <td>5.081891</td>\n",
              "      <td>3.013395</td>\n",
              "      <td>1.319368</td>\n",
              "      <td>1.248668</td>\n",
              "      <td>1.380922</td>\n",
              "      <td>-1.399534</td>\n",
              "      <td>1.431763</td>\n",
              "    </tr>\n",
              "    <tr>\n",
              "      <th>2</th>\n",
              "      <td>0.962635</td>\n",
              "      <td>-0.575681</td>\n",
              "      <td>-0.661167</td>\n",
              "      <td>0.745125</td>\n",
              "      <td>0.357368</td>\n",
              "      <td>1.380922</td>\n",
              "      <td>-1.344105</td>\n",
              "      <td>-0.574793</td>\n",
              "    </tr>\n",
              "    <tr>\n",
              "      <th>3</th>\n",
              "      <td>0.962635</td>\n",
              "      <td>-0.306273</td>\n",
              "      <td>0.073746</td>\n",
              "      <td>0.458003</td>\n",
              "      <td>1.360080</td>\n",
              "      <td>0.481065</td>\n",
              "      <td>1.371916</td>\n",
              "      <td>-0.288143</td>\n",
              "    </tr>\n",
              "    <tr>\n",
              "      <th>4</th>\n",
              "      <td>0.962635</td>\n",
              "      <td>-0.575681</td>\n",
              "      <td>0.073746</td>\n",
              "      <td>0.458003</td>\n",
              "      <td>-1.313819</td>\n",
              "      <td>0.481065</td>\n",
              "      <td>-0.568099</td>\n",
              "      <td>-0.574793</td>\n",
              "    </tr>\n",
              "    <tr>\n",
              "      <th>...</th>\n",
              "      <td>...</td>\n",
              "      <td>...</td>\n",
              "      <td>...</td>\n",
              "      <td>...</td>\n",
              "      <td>...</td>\n",
              "      <td>...</td>\n",
              "      <td>...</td>\n",
              "      <td>...</td>\n",
              "    </tr>\n",
              "    <tr>\n",
              "      <th>188</th>\n",
              "      <td>0.962635</td>\n",
              "      <td>0.159069</td>\n",
              "      <td>0.073746</td>\n",
              "      <td>0.458003</td>\n",
              "      <td>1.025843</td>\n",
              "      <td>0.481065</td>\n",
              "      <td>-1.288676</td>\n",
              "      <td>0.206982</td>\n",
              "    </tr>\n",
              "    <tr>\n",
              "      <th>189</th>\n",
              "      <td>0.962635</td>\n",
              "      <td>-0.575681</td>\n",
              "      <td>-1.396079</td>\n",
              "      <td>0.170882</td>\n",
              "      <td>-1.313819</td>\n",
              "      <td>0.481065</td>\n",
              "      <td>0.651339</td>\n",
              "      <td>-0.574793</td>\n",
              "    </tr>\n",
              "    <tr>\n",
              "      <th>190</th>\n",
              "      <td>0.962635</td>\n",
              "      <td>1.457126</td>\n",
              "      <td>-0.661167</td>\n",
              "      <td>0.170882</td>\n",
              "      <td>-0.088282</td>\n",
              "      <td>0.481065</td>\n",
              "      <td>-0.512670</td>\n",
              "      <td>3.751029</td>\n",
              "    </tr>\n",
              "    <tr>\n",
              "      <th>191</th>\n",
              "      <td>0.962635</td>\n",
              "      <td>-0.575681</td>\n",
              "      <td>0.808658</td>\n",
              "      <td>1.606489</td>\n",
              "      <td>-0.645344</td>\n",
              "      <td>-1.318648</td>\n",
              "      <td>0.374194</td>\n",
              "      <td>-0.574793</td>\n",
              "    </tr>\n",
              "    <tr>\n",
              "      <th>192</th>\n",
              "      <td>-1.038815</td>\n",
              "      <td>-0.036865</td>\n",
              "      <td>0.808658</td>\n",
              "      <td>0.745125</td>\n",
              "      <td>0.914430</td>\n",
              "      <td>1.380922</td>\n",
              "      <td>-1.399534</td>\n",
              "      <td>-0.192592</td>\n",
              "    </tr>\n",
              "  </tbody>\n",
              "</table>\n",
              "<p>193 rows × 8 columns</p>\n",
              "</div>"
            ],
            "text/plain": [
              "          sex  overdues_sum  overdues_count  loan_created_month  \\\n",
              "0   -1.038815     -0.575681        0.808658            0.745125   \n",
              "1    0.962635      5.081891        3.013395            1.319368   \n",
              "2    0.962635     -0.575681       -0.661167            0.745125   \n",
              "3    0.962635     -0.306273        0.073746            0.458003   \n",
              "4    0.962635     -0.575681        0.073746            0.458003   \n",
              "..        ...           ...             ...                 ...   \n",
              "188  0.962635      0.159069        0.073746            0.458003   \n",
              "189  0.962635     -0.575681       -1.396079            0.170882   \n",
              "190  0.962635      1.457126       -0.661167            0.170882   \n",
              "191  0.962635     -0.575681        0.808658            1.606489   \n",
              "192 -1.038815     -0.036865        0.808658            0.745125   \n",
              "\n",
              "     loan_created_day  loan_season  age_at_loan  average_overdue  \n",
              "0           -1.536644     1.380922    -1.011531        -0.574793  \n",
              "1            1.248668     1.380922    -1.399534         1.431763  \n",
              "2            0.357368     1.380922    -1.344105        -0.574793  \n",
              "3            1.360080     0.481065     1.371916        -0.288143  \n",
              "4           -1.313819     0.481065    -0.568099        -0.574793  \n",
              "..                ...          ...          ...              ...  \n",
              "188          1.025843     0.481065    -1.288676         0.206982  \n",
              "189         -1.313819     0.481065     0.651339        -0.574793  \n",
              "190         -0.088282     0.481065    -0.512670         3.751029  \n",
              "191         -0.645344    -1.318648     0.374194        -0.574793  \n",
              "192          0.914430     1.380922    -1.399534        -0.192592  \n",
              "\n",
              "[193 rows x 8 columns]"
            ]
          },
          "execution_count": 49,
          "metadata": {},
          "output_type": "execute_result"
        }
      ],
      "source": [
        "features_test"
      ]
    },
    {
      "cell_type": "markdown",
      "metadata": {
        "id": "V-6fPMjUtoec"
      },
      "source": [
        "### Дисбаланс классов"
      ]
    },
    {
      "cell_type": "code",
      "execution_count": 50,
      "metadata": {
        "colab": {
          "base_uri": "https://localhost:8080/"
        },
        "id": "Kz23HNPCrU_c",
        "outputId": "cad84aeb-c10a-4a42-b153-bbb93a120435"
      },
      "outputs": [
        {
          "data": {
            "text/plain": [
              "type_credit\n",
              "0    865\n",
              "1     99\n",
              "Name: type_credit, dtype: int64"
            ]
          },
          "execution_count": 50,
          "metadata": {},
          "output_type": "execute_result"
        }
      ],
      "source": [
        "data.groupby('type_credit')['type_credit'].count()# рассмотрим целевой признак. Каждый 9 кредит проблемный. Наблюдается дисбаланс классов"
      ]
    },
    {
      "cell_type": "markdown",
      "metadata": {
        "id": "fKvx3t6HsEIT"
      },
      "source": [
        "В большинстве моделей есть параметр для взвешивания классов во время обучения модели. Например, в случае логистической регрессии, мы можем установить параметр class_weight='balanced', и модель автоматически придаст больший вес миноритарному классу."
      ]
    },
    {
      "cell_type": "markdown",
      "metadata": {
        "id": "-VotZqEgmJMa"
      },
      "source": [
        "### Обучение и выбор моделей"
      ]
    },
    {
      "cell_type": "code",
      "execution_count": 51,
      "metadata": {
        "id": "hrS_QsLSqDku"
      },
      "outputs": [],
      "source": [
        "#для удобства вывода в дальнейшем - соберем показатели в списки\n",
        "\n",
        "tabl_model = []\n",
        "tabl_prec = []\n",
        "tabl_not = []\n",
        "tabl_roc_auc = []\n",
        "tabl_gini = []\n"
      ]
    },
    {
      "cell_type": "markdown",
      "metadata": {
        "id": "F-gsimAy1BIB"
      },
      "source": [
        "### class_weight='balanced'"
      ]
    },
    {
      "cell_type": "markdown",
      "metadata": {
        "id": "t8PKj9pL3h5n"
      },
      "source": [
        "#### CatBoostClassifier"
      ]
    },
    {
      "cell_type": "code",
      "execution_count": 52,
      "metadata": {
        "colab": {
          "base_uri": "https://localhost:8080/"
        },
        "id": "nN6MZ0Dj3ppb",
        "outputId": "55b63242-f270-49ff-c3b6-ce1cf13c8c49"
      },
      "outputs": [
        {
          "name": "stdout",
          "output_type": "stream",
          "text": [
            "F1: 0.16666666666666669\n",
            "AUC_ROC = 0.684\n",
            "\n",
            "Gini Index = 0.369\n",
            "\n"
          ]
        }
      ],
      "source": [
        "model = CatBoostClassifier(\n",
        "    iterations=1000, \n",
        "    depth=5, \n",
        "    learning_rate=0.1, \n",
        "    custom_loss=['AUC', 'Accuracy'],\n",
        "    random_seed=453,\n",
        "    verbose=False\n",
        ")\n",
        "\n",
        "model.fit(features_train, target_train)\n",
        "\n",
        "predicted_valid = model.predict(features_valid)\n",
        "print(\"F1:\", f1_score(target_valid, predicted_valid))\n",
        "\n",
        "probabilities_valid = model.predict_proba(features_valid)[:, 1]\n",
        "auc_roc = roc_auc_score(target_valid, probabilities_valid)\n",
        "print(\"AUC_ROC = {:.3f}\\n\".format(auc_roc))\n",
        "\n",
        "gini = 2 * auc_roc - 1\n",
        "print(\"Gini Index = {:.3f}\\n\".format(gini))\n",
        "tabl_gini.append(round(gini, 2))\n"
      ]
    },
    {
      "cell_type": "code",
      "execution_count": 53,
      "metadata": {
        "id": "_j1Cukg66UvX"
      },
      "outputs": [],
      "source": [
        "tabl_prec.append(round(f1_score(target_valid, predicted_valid), 2))\n",
        "tabl_roc_auc.append(round(auc_roc, 2))\n",
        "tabl_model.append('CatBoostClassifier')\n",
        "tabl_not.append('class_weight')\n"
      ]
    },
    {
      "cell_type": "markdown",
      "metadata": {
        "id": "pMW6Snog1PXK"
      },
      "source": [
        "#### LogisticRegression"
      ]
    },
    {
      "cell_type": "code",
      "execution_count": 54,
      "metadata": {
        "colab": {
          "base_uri": "https://localhost:8080/"
        },
        "id": "1T9BZoXNz0aO",
        "outputId": "1a5d53fe-7454-4dad-9e23-809c87231a14"
      },
      "outputs": [
        {
          "name": "stdout",
          "output_type": "stream",
          "text": [
            "F1: 0.28169014084507044\n",
            "AUC_ROC = 0.825\n",
            "\n",
            "Gini Index = 0.649\n",
            "\n"
          ]
        }
      ],
      "source": [
        "model = LogisticRegression(penalty='l1', solver='liblinear', random_state=453, class_weight='balanced')\n",
        "model.fit(features_train, target_train) \n",
        "predicted_valid = model.predict(features_valid)\n",
        "print(\"F1:\", f1_score(target_valid, predicted_valid))\n",
        "\n",
        "probabilities_valid = model.predict_proba(features_valid)[:, 1]\n",
        "auc_roc = roc_auc_score(target_valid, probabilities_valid)\n",
        "print(\"AUC_ROC = {:.3f}\\n\".format(auc_roc))\n",
        "\n",
        "gini = 2 * auc_roc - 1\n",
        "print(\"Gini Index = {:.3f}\\n\".format(gini))\n",
        "tabl_gini.append(round(gini, 2))"
      ]
    },
    {
      "cell_type": "code",
      "execution_count": 55,
      "metadata": {
        "id": "okd1MTJZz_to"
      },
      "outputs": [],
      "source": [
        "tabl_prec.append(round(f1_score(target_valid, predicted_valid), 2))\n",
        "tabl_roc_auc.append(round(auc_roc, 2))\n",
        "tabl_model.append('LogisticRegression')\n",
        "tabl_not.append('class_weight')"
      ]
    },
    {
      "cell_type": "markdown",
      "metadata": {
        "id": "Uib1dSTO1TrC"
      },
      "source": [
        "#### Модель Дерево решений "
      ]
    },
    {
      "cell_type": "code",
      "execution_count": 56,
      "metadata": {
        "colab": {
          "base_uri": "https://localhost:8080/"
        },
        "id": "qnJadDnJ0C5w",
        "outputId": "5db07064-328c-45cc-afec-a62a6c2b44ee"
      },
      "outputs": [
        {
          "name": "stdout",
          "output_type": "stream",
          "text": [
            "F1 лучшей модели: 0.2376237623762376\n",
            "max_depth лучшей модели: DecisionTreeClassifier(class_weight='balanced', max_depth=2, random_state=453)\n",
            "AUC_ROC = 0.709\n",
            "\n",
            "Gini Index = 0.418\n",
            "\n",
            "CPU times: user 95.3 ms, sys: 0 ns, total: 95.3 ms\n",
            "Wall time: 96.3 ms\n"
          ]
        }
      ],
      "source": [
        "%%time\n",
        "1 + 1\n",
        "best_model = None\n",
        "best_result = 0\n",
        "for depth in range(1, 15):\n",
        "\tmodel = DecisionTreeClassifier(max_depth=depth, random_state=453, class_weight='balanced') \n",
        "\tmodel.fit(features_train, target_train) \n",
        "\tpredicted_valid = model.predict(features_valid) \n",
        "\tresult = f1_score(target_valid, predicted_valid) \n",
        "\tif result > best_result:\n",
        "\t\tbest_model = model\n",
        "\t\tbest_result = result\n",
        "\n",
        "print(\"F1 лучшей модели:\", best_result)\n",
        "print(\"max_depth лучшей модели:\", best_model)\n",
        "\n",
        "probabilities_valid = best_model.predict_proba(features_valid)[:, 1]\n",
        "auc_roc = roc_auc_score(target_valid, probabilities_valid)\n",
        "print(\"AUC_ROC = {:.3f}\\n\".format(auc_roc))\n",
        "\n",
        "gini = 2 * auc_roc - 1\n",
        "print(\"Gini Index = {:.3f}\\n\".format(gini))\n",
        "tabl_gini.append(round(gini, 2))"
      ]
    },
    {
      "cell_type": "code",
      "execution_count": 57,
      "metadata": {
        "id": "kG3WSpJQ3aoa"
      },
      "outputs": [],
      "source": [
        "tabl_prec.append(round((best_result), 2))\n",
        "tabl_roc_auc.append(round(auc_roc,2))\n",
        "tabl_model.append('DecisionTreeClassifier')\n",
        "tabl_not.append('class_weight')"
      ]
    },
    {
      "cell_type": "markdown",
      "metadata": {
        "id": "7O9ITYiA1Vv0"
      },
      "source": [
        "#### Модель случайный лес"
      ]
    },
    {
      "cell_type": "code",
      "execution_count": 58,
      "metadata": {
        "colab": {
          "base_uri": "https://localhost:8080/"
        },
        "id": "1VEoZ90k3Rii",
        "outputId": "0d2e8299-6d14-4456-fa30-3277b5a862d8"
      },
      "outputs": [
        {
          "name": "stdout",
          "output_type": "stream",
          "text": [
            "F1: 0.25\n",
            "AUC_ROC = 0.709\n",
            "\n",
            "Gini Index = 0.418\n",
            "\n",
            "CPU times: user 71.5 ms, sys: 108 µs, total: 71.6 ms\n",
            "Wall time: 72.2 ms\n"
          ]
        }
      ],
      "source": [
        "%%time\n",
        "1 + 1\n",
        "\n",
        "model = RandomForestClassifier(class_weight='balanced', max_depth=17, min_samples_leaf=2, min_samples_split=12,\n",
        "                       n_estimators=30,random_state=453)\n",
        "\n",
        "model.fit(features_train, target_train)\n",
        "predicted_valid = model.predict(features_valid)\n",
        "print(\"F1:\", f1_score(target_valid, predicted_valid))\n",
        "\n",
        "probabilities_valid = best_model.predict_proba(features_valid)[:, 1]\n",
        "auc_roc = roc_auc_score(target_valid, probabilities_valid)\n",
        "print(\"AUC_ROC = {:.3f}\\n\".format(auc_roc))\n",
        "\n",
        "\n",
        "gini = 2 * auc_roc - 1\n",
        "print(\"Gini Index = {:.3f}\\n\".format(gini))\n",
        "tabl_gini.append(round(gini, 2))"
      ]
    },
    {
      "cell_type": "code",
      "execution_count": 59,
      "metadata": {
        "id": "OlDYZd1Y3UoU"
      },
      "outputs": [],
      "source": [
        "tabl_prec.append(round(f1_score(target_valid, predicted_valid), 2))\n",
        "tabl_roc_auc.append(round(auc_roc,2))\n",
        "tabl_model.append('RandomForestClassifier')\n",
        "tabl_not.append('class_weight')\n"
      ]
    },
    {
      "cell_type": "code",
      "execution_count": 60,
      "metadata": {
        "colab": {
          "base_uri": "https://localhost:8080/",
          "height": 175
        },
        "id": "lV_p4rd23YWq",
        "outputId": "f4b8513e-a040-47bb-f7ac-ee610097363f"
      },
      "outputs": [
        {
          "data": {
            "text/html": [
              "<div>\n",
              "<style scoped>\n",
              "    .dataframe tbody tr th:only-of-type {\n",
              "        vertical-align: middle;\n",
              "    }\n",
              "\n",
              "    .dataframe tbody tr th {\n",
              "        vertical-align: top;\n",
              "    }\n",
              "\n",
              "    .dataframe thead th {\n",
              "        text-align: right;\n",
              "    }\n",
              "</style>\n",
              "<table border=\"1\" class=\"dataframe\">\n",
              "  <thead>\n",
              "    <tr style=\"text-align: right;\">\n",
              "      <th></th>\n",
              "      <th>Model</th>\n",
              "      <th>F1 score</th>\n",
              "      <th>ROC-AUC</th>\n",
              "      <th>Gini Index</th>\n",
              "      <th>Notice</th>\n",
              "    </tr>\n",
              "  </thead>\n",
              "  <tbody>\n",
              "    <tr>\n",
              "      <th>0</th>\n",
              "      <td>LogisticRegression</td>\n",
              "      <td>0.28</td>\n",
              "      <td>0.82</td>\n",
              "      <td>0.65</td>\n",
              "      <td>class_weight</td>\n",
              "    </tr>\n",
              "    <tr>\n",
              "      <th>1</th>\n",
              "      <td>DecisionTreeClassifier</td>\n",
              "      <td>0.24</td>\n",
              "      <td>0.71</td>\n",
              "      <td>0.42</td>\n",
              "      <td>class_weight</td>\n",
              "    </tr>\n",
              "    <tr>\n",
              "      <th>2</th>\n",
              "      <td>RandomForestClassifier</td>\n",
              "      <td>0.25</td>\n",
              "      <td>0.71</td>\n",
              "      <td>0.42</td>\n",
              "      <td>class_weight</td>\n",
              "    </tr>\n",
              "    <tr>\n",
              "      <th>3</th>\n",
              "      <td>CatBoostClassifier</td>\n",
              "      <td>0.17</td>\n",
              "      <td>0.68</td>\n",
              "      <td>0.37</td>\n",
              "      <td>class_weight</td>\n",
              "    </tr>\n",
              "  </tbody>\n",
              "</table>\n",
              "</div>"
            ],
            "text/plain": [
              "                    Model  F1 score  ROC-AUC  Gini Index        Notice\n",
              "0      LogisticRegression      0.28     0.82        0.65  class_weight\n",
              "1  DecisionTreeClassifier      0.24     0.71        0.42  class_weight\n",
              "2  RandomForestClassifier      0.25     0.71        0.42  class_weight\n",
              "3      CatBoostClassifier      0.17     0.68        0.37  class_weight"
            ]
          },
          "execution_count": 60,
          "metadata": {},
          "output_type": "execute_result"
        }
      ],
      "source": [
        "table_models = (pd.DataFrame({'Model':tabl_model, 'F1 score':tabl_prec, 'ROC-AUC':tabl_roc_auc, 'Gini Index':tabl_gini, 'Notice': tabl_not}).sort_values(by='ROC-AUC', ascending=False).\n",
        "                  reset_index(drop=True))\n",
        "table_models"
      ]
    },
    {
      "cell_type": "markdown",
      "metadata": {
        "id": "8eE65UaS6-oT"
      },
      "source": [
        "### upsampling. Увеличение выборки"
      ]
    },
    {
      "cell_type": "code",
      "execution_count": 61,
      "metadata": {
        "colab": {
          "base_uri": "https://localhost:8080/"
        },
        "id": "0fPwBT9o7AVS",
        "outputId": "236eda93-772c-4443-d633-0689221604ac"
      },
      "outputs": [
        {
          "name": "stdout",
          "output_type": "stream",
          "text": [
            "Размер увеличенной валидационной выборки 1020\n"
          ]
        }
      ],
      "source": [
        "oversample = SMOTE(random_state=453)\n",
        "features_upsampled, target_upsampled = oversample.fit_resample(features_train, target_train)\n",
        "print('Размер увеличенной валидационной выборки', len(features_upsampled))"
      ]
    },
    {
      "cell_type": "markdown",
      "metadata": {
        "id": "JmTAqcdZ7DKm"
      },
      "source": [
        "#### Модель Логистическая регрессия"
      ]
    },
    {
      "cell_type": "code",
      "execution_count": 62,
      "metadata": {
        "colab": {
          "base_uri": "https://localhost:8080/"
        },
        "id": "z_RBv78u7bon",
        "outputId": "e6527356-d5e8-4620-ea80-ffc74e60eee1"
      },
      "outputs": [
        {
          "name": "stdout",
          "output_type": "stream",
          "text": [
            "F1: 0.3\n",
            "AUC_ROC = 0.836\n",
            "\n",
            "Gini Index = 0.673\n",
            "\n"
          ]
        }
      ],
      "source": [
        "model = LogisticRegression(penalty='l1', solver='liblinear', random_state=453, class_weight='balanced')\n",
        "model.fit(features_upsampled, target_upsampled)\n",
        "predicted_valid = model.predict(features_valid)\n",
        "print(\"F1:\", f1_score(target_valid, predicted_valid))\n",
        "\n",
        "probabilities_valid = model.predict_proba(features_valid)[:, 1]\n",
        "auc_roc = roc_auc_score(target_valid, probabilities_valid)\n",
        "print(\"AUC_ROC = {:.3f}\\n\".format(auc_roc))\n",
        "\n",
        "gini = 2 * auc_roc - 1\n",
        "print(\"Gini Index = {:.3f}\\n\".format(gini))\n",
        "tabl_gini.append(round(gini, 2))"
      ]
    },
    {
      "cell_type": "code",
      "execution_count": 63,
      "metadata": {
        "id": "3BLNsipE7dxG"
      },
      "outputs": [],
      "source": [
        "tabl_prec.append(round(f1_score(target_valid, predicted_valid), 2))\n",
        "tabl_roc_auc.append(round(auc_roc,2))\n",
        "tabl_model.append('LogisticRegression')\n",
        "tabl_not.append('upsampling')"
      ]
    },
    {
      "cell_type": "markdown",
      "metadata": {
        "id": "27xJsm3gd3sD",
        "tags": []
      },
      "source": [
        "#### Модель Дерево решений "
      ]
    },
    {
      "cell_type": "code",
      "execution_count": 64,
      "metadata": {
        "colab": {
          "base_uri": "https://localhost:8080/"
        },
        "id": "NZR__SGdd3sD",
        "outputId": "2e418460-1bc7-4f5e-d491-17b7db263cc4"
      },
      "outputs": [
        {
          "name": "stdout",
          "output_type": "stream",
          "text": [
            "F1 лучшей модели: 0.22988505747126434\n",
            "max_depth лучшей модели: DecisionTreeClassifier(max_depth=2)\n",
            "AUC_ROC = 0.675\n",
            "\n",
            "Gini Index = 0.351\n",
            "\n",
            "CPU times: user 107 ms, sys: 144 µs, total: 107 ms\n",
            "Wall time: 113 ms\n"
          ]
        }
      ],
      "source": [
        "%%time\n",
        "1 + 1\n",
        "best_model = None\n",
        "best_result = 0\n",
        "for depth in range(1, 15):\n",
        "\tmodel = DecisionTreeClassifier(max_depth=depth)\n",
        "\tmodel.fit(features_upsampled, target_upsampled)\n",
        "\tpredicted_valid = model.predict(features_valid) \n",
        "\tresult = f1_score(target_valid, predicted_valid) \n",
        "\tif result > best_result:\n",
        "\t\tbest_model = model\n",
        "\t\tbest_result = result\n",
        "\n",
        "print(\"F1 лучшей модели:\", best_result)\n",
        "print(\"max_depth лучшей модели:\", best_model)\n",
        "\n",
        "probabilities_valid = best_model.predict_proba(features_valid)[:, 1]\n",
        "auc_roc = roc_auc_score(target_valid, probabilities_valid)\n",
        "print(\"AUC_ROC = {:.3f}\\n\".format(auc_roc))\n",
        "\n",
        "gini = 2 * auc_roc - 1\n",
        "print(\"Gini Index = {:.3f}\\n\".format(gini))\n",
        "tabl_gini.append(round(gini, 2))"
      ]
    },
    {
      "cell_type": "code",
      "execution_count": 65,
      "metadata": {
        "id": "8XsmnHgDd3sD"
      },
      "outputs": [],
      "source": [
        "tabl_prec.append(round((best_result), 2))\n",
        "tabl_roc_auc.append(round(auc_roc,2))\n",
        "tabl_model.append('DecisionTreeClassifier')\n",
        "tabl_not.append('upsampling')"
      ]
    },
    {
      "cell_type": "markdown",
      "metadata": {
        "id": "q1hsAxTcd3sE",
        "tags": []
      },
      "source": [
        "#### Модель случайный лес. "
      ]
    },
    {
      "cell_type": "code",
      "execution_count": 66,
      "metadata": {
        "colab": {
          "base_uri": "https://localhost:8080/"
        },
        "id": "Y719hNtcd3sE",
        "outputId": "1d3d8a26-97df-4a12-c936-28dbbffc6deb"
      },
      "outputs": [
        {
          "name": "stdout",
          "output_type": "stream",
          "text": [
            "F1: 0.1\n",
            "AUC_ROC = 0.751\n",
            "\n",
            "Gini Index = 0.502\n",
            "\n",
            "CPU times: user 87.6 ms, sys: 0 ns, total: 87.6 ms\n",
            "Wall time: 87.7 ms\n"
          ]
        }
      ],
      "source": [
        "%%time\n",
        "1 + 1\n",
        "model = RandomForestClassifier(max_depth=17, min_samples_leaf=2, min_samples_split=12,\n",
        "                       n_estimators=30, random_state=453)\n",
        "\n",
        "model.fit(features_upsampled, target_upsampled)\n",
        "predicted_valid = model.predict(features_valid)\n",
        "print(\"F1:\", f1_score(target_valid, predicted_valid))\n",
        "\n",
        "probabilities_valid = model.predict_proba(features_valid)[:, 1]\n",
        "auc_roc = roc_auc_score(target_valid, probabilities_valid)\n",
        "print(\"AUC_ROC = {:.3f}\\n\".format(auc_roc))\n",
        "\n",
        "gini = 2 * auc_roc - 1\n",
        "print(\"Gini Index = {:.3f}\\n\".format(gini))\n",
        "tabl_gini.append(round(gini, 2))"
      ]
    },
    {
      "cell_type": "code",
      "execution_count": 67,
      "metadata": {
        "id": "iczGREL7d3sE"
      },
      "outputs": [],
      "source": [
        "tabl_prec.append(round(f1_score(target_valid, predicted_valid), 2))\n",
        "tabl_roc_auc.append(round(auc_roc,2))\n",
        "tabl_model.append('RandomForestClassifier')\n",
        "tabl_not.append('upsampling')"
      ]
    },
    {
      "cell_type": "markdown",
      "metadata": {
        "id": "Vei2bDnjd3sE",
        "tags": []
      },
      "source": [
        "#### CatBoostClassifier"
      ]
    },
    {
      "cell_type": "code",
      "execution_count": 68,
      "metadata": {
        "colab": {
          "base_uri": "https://localhost:8080/"
        },
        "id": "oacWx5y-d3sE",
        "outputId": "f35eecd8-751e-4a75-d0bf-91959a3f5698"
      },
      "outputs": [
        {
          "name": "stdout",
          "output_type": "stream",
          "text": [
            "F1: 0.0689655172413793\n",
            "ROC-AUC: 0.4968164794007491\n",
            "Gini Index = -0.006\n",
            "\n"
          ]
        }
      ],
      "source": [
        "model = CatBoostClassifier(\n",
        "    iterations=1000, \n",
        "    depth=5, \n",
        "    learning_rate=0.1, \n",
        "    custom_loss=['AUC', 'Accuracy'],\n",
        "    random_seed=453,\n",
        "    verbose=False\n",
        ")\n",
        "model.fit(features_upsampled, target_upsampled)\n",
        "predicted_valid = model.predict(features_valid)\n",
        "print(\"F1:\", f1_score(target_valid, predicted_valid))\n",
        "\n",
        "auc_roc = roc_auc_score(target_valid, predicted_valid)\n",
        "print('ROC-AUC:', auc_roc)\n",
        "\n",
        "gini = 2 * auc_roc - 1\n",
        "print(\"Gini Index = {:.3f}\\n\".format(gini))\n",
        "tabl_gini.append(round(gini, 2))"
      ]
    },
    {
      "cell_type": "code",
      "execution_count": 69,
      "metadata": {
        "id": "tcWv-3Cod3sE"
      },
      "outputs": [],
      "source": [
        "tabl_prec.append(round(f1_score(target_valid, predicted_valid), 2))\n",
        "tabl_roc_auc.append(round(auc_roc,2))\n",
        "tabl_model.append('CatBoostClassifier')\n",
        "tabl_not.append('upsampling')"
      ]
    },
    {
      "cell_type": "code",
      "execution_count": 70,
      "metadata": {
        "colab": {
          "base_uri": "https://localhost:8080/",
          "height": 300
        },
        "id": "vJ2ul9qJd3sF",
        "outputId": "637c53a2-e18d-49cb-e16e-69299eeb557d"
      },
      "outputs": [
        {
          "data": {
            "text/html": [
              "<div>\n",
              "<style scoped>\n",
              "    .dataframe tbody tr th:only-of-type {\n",
              "        vertical-align: middle;\n",
              "    }\n",
              "\n",
              "    .dataframe tbody tr th {\n",
              "        vertical-align: top;\n",
              "    }\n",
              "\n",
              "    .dataframe thead th {\n",
              "        text-align: right;\n",
              "    }\n",
              "</style>\n",
              "<table border=\"1\" class=\"dataframe\">\n",
              "  <thead>\n",
              "    <tr style=\"text-align: right;\">\n",
              "      <th></th>\n",
              "      <th>Model</th>\n",
              "      <th>F1 score</th>\n",
              "      <th>ROC-AUC</th>\n",
              "      <th>Gini Index</th>\n",
              "      <th>Notice</th>\n",
              "    </tr>\n",
              "  </thead>\n",
              "  <tbody>\n",
              "    <tr>\n",
              "      <th>0</th>\n",
              "      <td>LogisticRegression</td>\n",
              "      <td>0.30</td>\n",
              "      <td>0.84</td>\n",
              "      <td>0.67</td>\n",
              "      <td>upsampling</td>\n",
              "    </tr>\n",
              "    <tr>\n",
              "      <th>1</th>\n",
              "      <td>LogisticRegression</td>\n",
              "      <td>0.28</td>\n",
              "      <td>0.82</td>\n",
              "      <td>0.65</td>\n",
              "      <td>class_weight</td>\n",
              "    </tr>\n",
              "    <tr>\n",
              "      <th>2</th>\n",
              "      <td>RandomForestClassifier</td>\n",
              "      <td>0.10</td>\n",
              "      <td>0.75</td>\n",
              "      <td>0.50</td>\n",
              "      <td>upsampling</td>\n",
              "    </tr>\n",
              "    <tr>\n",
              "      <th>3</th>\n",
              "      <td>DecisionTreeClassifier</td>\n",
              "      <td>0.24</td>\n",
              "      <td>0.71</td>\n",
              "      <td>0.42</td>\n",
              "      <td>class_weight</td>\n",
              "    </tr>\n",
              "    <tr>\n",
              "      <th>4</th>\n",
              "      <td>RandomForestClassifier</td>\n",
              "      <td>0.25</td>\n",
              "      <td>0.71</td>\n",
              "      <td>0.42</td>\n",
              "      <td>class_weight</td>\n",
              "    </tr>\n",
              "    <tr>\n",
              "      <th>5</th>\n",
              "      <td>CatBoostClassifier</td>\n",
              "      <td>0.17</td>\n",
              "      <td>0.68</td>\n",
              "      <td>0.37</td>\n",
              "      <td>class_weight</td>\n",
              "    </tr>\n",
              "    <tr>\n",
              "      <th>6</th>\n",
              "      <td>DecisionTreeClassifier</td>\n",
              "      <td>0.23</td>\n",
              "      <td>0.68</td>\n",
              "      <td>0.35</td>\n",
              "      <td>upsampling</td>\n",
              "    </tr>\n",
              "    <tr>\n",
              "      <th>7</th>\n",
              "      <td>CatBoostClassifier</td>\n",
              "      <td>0.07</td>\n",
              "      <td>0.50</td>\n",
              "      <td>-0.01</td>\n",
              "      <td>upsampling</td>\n",
              "    </tr>\n",
              "  </tbody>\n",
              "</table>\n",
              "</div>"
            ],
            "text/plain": [
              "                    Model  F1 score  ROC-AUC  Gini Index        Notice\n",
              "0      LogisticRegression      0.30     0.84        0.67    upsampling\n",
              "1      LogisticRegression      0.28     0.82        0.65  class_weight\n",
              "2  RandomForestClassifier      0.10     0.75        0.50    upsampling\n",
              "3  DecisionTreeClassifier      0.24     0.71        0.42  class_weight\n",
              "4  RandomForestClassifier      0.25     0.71        0.42  class_weight\n",
              "5      CatBoostClassifier      0.17     0.68        0.37  class_weight\n",
              "6  DecisionTreeClassifier      0.23     0.68        0.35    upsampling\n",
              "7      CatBoostClassifier      0.07     0.50       -0.01    upsampling"
            ]
          },
          "execution_count": 70,
          "metadata": {},
          "output_type": "execute_result"
        }
      ],
      "source": [
        "table_models = (pd.DataFrame({'Model':tabl_model, 'F1 score':tabl_prec, 'ROC-AUC':tabl_roc_auc, 'Gini Index':tabl_gini, 'Notice': tabl_not}).sort_values(by='ROC-AUC', ascending=False).\n",
        "                  reset_index(drop=True))\n",
        "table_models"
      ]
    },
    {
      "cell_type": "markdown",
      "metadata": {
        "id": "BmV0KZl_d3sF"
      },
      "source": [
        "### downsampling. Уменьшение выборки"
      ]
    },
    {
      "cell_type": "code",
      "execution_count": 71,
      "metadata": {
        "id": "mfi8Tm8pd3sF"
      },
      "outputs": [],
      "source": [
        "downsample = RandomUnderSampler(random_state=12345)"
      ]
    },
    {
      "cell_type": "code",
      "execution_count": 72,
      "metadata": {
        "id": "_4yfYEXhd3sF"
      },
      "outputs": [],
      "source": [
        "features_downsampled, target_downsampled = downsample.fit_resample(features_train, target_train)"
      ]
    },
    {
      "cell_type": "code",
      "execution_count": 73,
      "metadata": {
        "colab": {
          "base_uri": "https://localhost:8080/"
        },
        "id": "peIAmQP6d3sG",
        "outputId": "f49b98d9-fc11-428f-aad5-51baa1d31d35"
      },
      "outputs": [
        {
          "name": "stdout",
          "output_type": "stream",
          "text": [
            "Размер уменьшенной валидационной выборки 136\n"
          ]
        }
      ],
      "source": [
        "print('Размер уменьшенной валидационной выборки', len(features_downsampled))"
      ]
    },
    {
      "cell_type": "markdown",
      "metadata": {
        "id": "i7o7GWzQd3sG",
        "tags": []
      },
      "source": [
        "#### Модель Логистическая регрессия"
      ]
    },
    {
      "cell_type": "code",
      "execution_count": 74,
      "metadata": {
        "colab": {
          "base_uri": "https://localhost:8080/"
        },
        "id": "qq1kRhsld3sG",
        "outputId": "51963c48-38d9-4772-c58d-861186409298"
      },
      "outputs": [
        {
          "name": "stdout",
          "output_type": "stream",
          "text": [
            "F1: 0.24390243902439024\n",
            "AUC_ROC = 0.793\n",
            "\n",
            "Gini Index = 0.585\n",
            "\n"
          ]
        }
      ],
      "source": [
        "model = LogisticRegression(penalty='l1', solver='liblinear', random_state=453, class_weight='balanced')\n",
        "model.fit(features_downsampled, target_downsampled)\n",
        "predicted_valid = model.predict(features_valid)\n",
        "print(\"F1:\", f1_score(target_valid, predicted_valid))\n",
        "\n",
        "probabilities_valid = model.predict_proba(features_valid)[:, 1]\n",
        "auc_roc = roc_auc_score(target_valid, probabilities_valid)\n",
        "print(\"AUC_ROC = {:.3f}\\n\".format(auc_roc))\n",
        "\n",
        "gini = 2 * auc_roc - 1\n",
        "print(\"Gini Index = {:.3f}\\n\".format(gini))\n",
        "tabl_gini.append(round(gini, 2))"
      ]
    },
    {
      "cell_type": "code",
      "execution_count": 75,
      "metadata": {
        "id": "k94UPPpgd3sG"
      },
      "outputs": [],
      "source": [
        "tabl_prec.append(round(f1_score(target_valid, predicted_valid), 2))\n",
        "tabl_roc_auc.append(round(auc_roc,2))\n",
        "tabl_model.append('LogisticRegression')\n",
        "tabl_not.append('downsampled')"
      ]
    },
    {
      "cell_type": "markdown",
      "metadata": {
        "id": "bOeI80Q-d3sG"
      },
      "source": [
        "#### Модель Дерево решений "
      ]
    },
    {
      "cell_type": "code",
      "execution_count": 76,
      "metadata": {
        "colab": {
          "base_uri": "https://localhost:8080/"
        },
        "id": "GiLbM_a1d3sG",
        "outputId": "16997cf4-c0c4-4000-cca2-fa915ff8bc52"
      },
      "outputs": [
        {
          "name": "stdout",
          "output_type": "stream",
          "text": [
            "F1 лучшей модели: 0.2682926829268293\n",
            "max_depth лучшей модели: DecisionTreeClassifier(max_depth=3)\n",
            "AUC_ROC = 0.720\n",
            "\n",
            "Gini Index = 0.440\n",
            "\n",
            "CPU times: user 71.4 ms, sys: 2 µs, total: 71.4 ms\n",
            "Wall time: 71.3 ms\n"
          ]
        }
      ],
      "source": [
        "%%time\n",
        "1 + 1\n",
        "best_model = None\n",
        "best_result = 0\n",
        "for depth in range(1, 15):\n",
        "\tmodel = DecisionTreeClassifier(max_depth=depth) \n",
        "\tmodel.fit(features_downsampled, target_downsampled) \n",
        "\tpredicted_valid = model.predict(features_valid) \n",
        "\tresult = f1_score(target_valid, predicted_valid) \n",
        "\tif result > best_result:\n",
        "\t\tbest_model = model\n",
        "\t\tbest_result = result\n",
        "\n",
        "print(\"F1 лучшей модели:\", best_result)\n",
        "print(\"max_depth лучшей модели:\", best_model)\n",
        "\n",
        "probabilities_valid = best_model.predict_proba(features_valid)[:, 1]\n",
        "auc_roc = roc_auc_score(target_valid, probabilities_valid)\n",
        "print(\"AUC_ROC = {:.3f}\\n\".format(auc_roc))\n",
        "\n",
        "gini = 2 * auc_roc - 1\n",
        "print(\"Gini Index = {:.3f}\\n\".format(gini))\n",
        "tabl_gini.append(round(gini, 2))"
      ]
    },
    {
      "cell_type": "code",
      "execution_count": 77,
      "metadata": {
        "id": "wBGbM4Ckd3sH"
      },
      "outputs": [],
      "source": [
        "tabl_prec.append(round((best_result), 2))\n",
        "tabl_roc_auc.append(round(auc_roc,2))\n",
        "tabl_model.append('DecisionTreeClassifier')\n",
        "tabl_not.append('downsampled')"
      ]
    },
    {
      "cell_type": "markdown",
      "metadata": {
        "id": "9V2xYvK2d3sH"
      },
      "source": [
        "#### Модель случайный лес"
      ]
    },
    {
      "cell_type": "code",
      "execution_count": 78,
      "metadata": {
        "colab": {
          "base_uri": "https://localhost:8080/"
        },
        "id": "PKynxcu1d3sH",
        "outputId": "2398da5e-cd34-4b5f-8576-5a50423ca48b"
      },
      "outputs": [
        {
          "name": "stdout",
          "output_type": "stream",
          "text": [
            "F1: 0.25\n",
            "AUC_ROC = 0.706\n",
            "\n",
            "Gini Index = 0.412\n",
            "\n",
            "CPU times: user 66.7 ms, sys: 735 µs, total: 67.4 ms\n",
            "Wall time: 65.5 ms\n"
          ]
        }
      ],
      "source": [
        "%%time\n",
        "1 + 1\n",
        "model = RandomForestClassifier(max_depth=17, min_samples_leaf=2, min_samples_split=12,\n",
        "                       n_estimators=30, random_state=12345)\n",
        "model.fit(features_downsampled, target_downsampled)\n",
        "predicted_valid = model.predict(features_valid)\n",
        "print(\"F1:\", f1_score(target_valid, predicted_valid))\n",
        "\n",
        "probabilities_valid = model.predict_proba(features_valid)[:, 1]\n",
        "auc_roc = roc_auc_score(target_valid, probabilities_valid)\n",
        "print(\"AUC_ROC = {:.3f}\\n\".format(auc_roc))\n",
        "\n",
        "gini = 2 * auc_roc - 1\n",
        "print(\"Gini Index = {:.3f}\\n\".format(gini))\n",
        "tabl_gini.append(round(gini, 2))"
      ]
    },
    {
      "cell_type": "code",
      "execution_count": 79,
      "metadata": {
        "id": "UZBSgrAod3sH"
      },
      "outputs": [],
      "source": [
        "tabl_prec.append(round(f1_score(target_valid, predicted_valid), 2))\n",
        "tabl_roc_auc.append(round(auc_roc,2))\n",
        "tabl_model.append('RandomForestClassifier')\n",
        "tabl_not.append('downsampled')"
      ]
    },
    {
      "cell_type": "markdown",
      "metadata": {
        "id": "6-VEzRpPd3sH"
      },
      "source": [
        "#### CatBoostClassifier"
      ]
    },
    {
      "cell_type": "code",
      "execution_count": 80,
      "metadata": {
        "colab": {
          "base_uri": "https://localhost:8080/"
        },
        "id": "TQVvTCeTd3sH",
        "outputId": "5942845b-edcd-4ee7-e084-5209295fb4ba"
      },
      "outputs": [
        {
          "name": "stdout",
          "output_type": "stream",
          "text": [
            "F1: 0.2150537634408602\n",
            "AUC_ROC = 0.629\n",
            "\n",
            "Gini Index = 0.258\n",
            "\n"
          ]
        }
      ],
      "source": [
        "model = CatBoostClassifier(\n",
        "    iterations=1000, \n",
        "    depth=5, \n",
        "    learning_rate=0.1, \n",
        "    custom_loss=['AUC', 'Accuracy'],\n",
        "    random_seed=453,\n",
        "    verbose=False\n",
        ")\n",
        "model.fit(features_downsampled, target_downsampled)\n",
        "predicted_valid = model.predict(features_valid)\n",
        "print(\"F1:\", f1_score(target_valid, predicted_valid))\n",
        "\n",
        "probabilities_valid = model.predict_proba(features_valid)[:, 1]\n",
        "auc_roc = roc_auc_score(target_valid, probabilities_valid)\n",
        "print(\"AUC_ROC = {:.3f}\\n\".format(auc_roc))\n",
        "\n",
        "gini = 2 * auc_roc - 1\n",
        "print(\"Gini Index = {:.3f}\\n\".format(gini))\n",
        "tabl_gini.append(round(gini, 2))"
      ]
    },
    {
      "cell_type": "code",
      "execution_count": 81,
      "metadata": {
        "id": "Je8Fe6HDd3sI"
      },
      "outputs": [],
      "source": [
        "tabl_prec.append(round(f1_score(target_valid, predicted_valid), 2))\n",
        "tabl_roc_auc.append(round(auc_roc,2))\n",
        "tabl_model.append('CatBoostClassifier')\n",
        "tabl_not.append('downsampled')"
      ]
    },
    {
      "cell_type": "code",
      "execution_count": 82,
      "metadata": {
        "colab": {
          "base_uri": "https://localhost:8080/",
          "height": 426
        },
        "id": "Ol1Q24F_d3sI",
        "outputId": "6fcd372f-a997-4bb1-e3b4-df6699c52f5f"
      },
      "outputs": [
        {
          "data": {
            "text/html": [
              "<div>\n",
              "<style scoped>\n",
              "    .dataframe tbody tr th:only-of-type {\n",
              "        vertical-align: middle;\n",
              "    }\n",
              "\n",
              "    .dataframe tbody tr th {\n",
              "        vertical-align: top;\n",
              "    }\n",
              "\n",
              "    .dataframe thead th {\n",
              "        text-align: right;\n",
              "    }\n",
              "</style>\n",
              "<table border=\"1\" class=\"dataframe\">\n",
              "  <thead>\n",
              "    <tr style=\"text-align: right;\">\n",
              "      <th></th>\n",
              "      <th>Model</th>\n",
              "      <th>F1 score</th>\n",
              "      <th>ROC-AUC</th>\n",
              "      <th>Gini Index</th>\n",
              "      <th>Notice</th>\n",
              "    </tr>\n",
              "  </thead>\n",
              "  <tbody>\n",
              "    <tr>\n",
              "      <th>0</th>\n",
              "      <td>LogisticRegression</td>\n",
              "      <td>0.30</td>\n",
              "      <td>0.84</td>\n",
              "      <td>0.67</td>\n",
              "      <td>upsampling</td>\n",
              "    </tr>\n",
              "    <tr>\n",
              "      <th>1</th>\n",
              "      <td>LogisticRegression</td>\n",
              "      <td>0.28</td>\n",
              "      <td>0.82</td>\n",
              "      <td>0.65</td>\n",
              "      <td>class_weight</td>\n",
              "    </tr>\n",
              "    <tr>\n",
              "      <th>2</th>\n",
              "      <td>LogisticRegression</td>\n",
              "      <td>0.24</td>\n",
              "      <td>0.79</td>\n",
              "      <td>0.59</td>\n",
              "      <td>downsampled</td>\n",
              "    </tr>\n",
              "    <tr>\n",
              "      <th>3</th>\n",
              "      <td>RandomForestClassifier</td>\n",
              "      <td>0.10</td>\n",
              "      <td>0.75</td>\n",
              "      <td>0.50</td>\n",
              "      <td>upsampling</td>\n",
              "    </tr>\n",
              "    <tr>\n",
              "      <th>4</th>\n",
              "      <td>DecisionTreeClassifier</td>\n",
              "      <td>0.27</td>\n",
              "      <td>0.72</td>\n",
              "      <td>0.44</td>\n",
              "      <td>downsampled</td>\n",
              "    </tr>\n",
              "    <tr>\n",
              "      <th>5</th>\n",
              "      <td>DecisionTreeClassifier</td>\n",
              "      <td>0.24</td>\n",
              "      <td>0.71</td>\n",
              "      <td>0.42</td>\n",
              "      <td>class_weight</td>\n",
              "    </tr>\n",
              "    <tr>\n",
              "      <th>6</th>\n",
              "      <td>RandomForestClassifier</td>\n",
              "      <td>0.25</td>\n",
              "      <td>0.71</td>\n",
              "      <td>0.42</td>\n",
              "      <td>class_weight</td>\n",
              "    </tr>\n",
              "    <tr>\n",
              "      <th>7</th>\n",
              "      <td>RandomForestClassifier</td>\n",
              "      <td>0.25</td>\n",
              "      <td>0.71</td>\n",
              "      <td>0.41</td>\n",
              "      <td>downsampled</td>\n",
              "    </tr>\n",
              "    <tr>\n",
              "      <th>8</th>\n",
              "      <td>CatBoostClassifier</td>\n",
              "      <td>0.17</td>\n",
              "      <td>0.68</td>\n",
              "      <td>0.37</td>\n",
              "      <td>class_weight</td>\n",
              "    </tr>\n",
              "    <tr>\n",
              "      <th>9</th>\n",
              "      <td>DecisionTreeClassifier</td>\n",
              "      <td>0.23</td>\n",
              "      <td>0.68</td>\n",
              "      <td>0.35</td>\n",
              "      <td>upsampling</td>\n",
              "    </tr>\n",
              "    <tr>\n",
              "      <th>10</th>\n",
              "      <td>CatBoostClassifier</td>\n",
              "      <td>0.22</td>\n",
              "      <td>0.63</td>\n",
              "      <td>0.26</td>\n",
              "      <td>downsampled</td>\n",
              "    </tr>\n",
              "    <tr>\n",
              "      <th>11</th>\n",
              "      <td>CatBoostClassifier</td>\n",
              "      <td>0.07</td>\n",
              "      <td>0.50</td>\n",
              "      <td>-0.01</td>\n",
              "      <td>upsampling</td>\n",
              "    </tr>\n",
              "  </tbody>\n",
              "</table>\n",
              "</div>"
            ],
            "text/plain": [
              "                     Model  F1 score  ROC-AUC  Gini Index        Notice\n",
              "0       LogisticRegression      0.30     0.84        0.67    upsampling\n",
              "1       LogisticRegression      0.28     0.82        0.65  class_weight\n",
              "2       LogisticRegression      0.24     0.79        0.59   downsampled\n",
              "3   RandomForestClassifier      0.10     0.75        0.50    upsampling\n",
              "4   DecisionTreeClassifier      0.27     0.72        0.44   downsampled\n",
              "5   DecisionTreeClassifier      0.24     0.71        0.42  class_weight\n",
              "6   RandomForestClassifier      0.25     0.71        0.42  class_weight\n",
              "7   RandomForestClassifier      0.25     0.71        0.41   downsampled\n",
              "8       CatBoostClassifier      0.17     0.68        0.37  class_weight\n",
              "9   DecisionTreeClassifier      0.23     0.68        0.35    upsampling\n",
              "10      CatBoostClassifier      0.22     0.63        0.26   downsampled\n",
              "11      CatBoostClassifier      0.07     0.50       -0.01    upsampling"
            ]
          },
          "execution_count": 82,
          "metadata": {},
          "output_type": "execute_result"
        }
      ],
      "source": [
        "table_models = (pd.DataFrame({'Model':tabl_model, 'F1 score':tabl_prec, 'ROC-AUC':tabl_roc_auc, 'Gini Index':tabl_gini, 'Notice': tabl_not}).sort_values(by='ROC-AUC', ascending=False).\n",
        "                  reset_index(drop=True))\n",
        "table_models"
      ]
    },
    {
      "cell_type": "markdown",
      "metadata": {
        "id": "0dt5EO9fd3sI"
      },
      "source": [
        "### Изменение порога клалификации"
      ]
    },
    {
      "cell_type": "markdown",
      "metadata": {
        "id": "RS3-PEqSd3sI"
      },
      "source": [
        "Граница, где заканчивается отрицательный класс и начинается положительный, называется порогом (threshold). По умолчанию он равен 0.5, но его можно поменять."
      ]
    },
    {
      "cell_type": "markdown",
      "metadata": {
        "id": "bf4n4_2Id3sJ"
      },
      "source": [
        "#### Модель Логистическая регрессия"
      ]
    },
    {
      "cell_type": "code",
      "execution_count": 83,
      "metadata": {
        "colab": {
          "base_uri": "https://localhost:8080/"
        },
        "id": "AZKY54sSd3sJ",
        "outputId": "bc74b451-169b-4cca-d1ff-2bc1277df213"
      },
      "outputs": [
        {
          "name": "stdout",
          "output_type": "stream",
          "text": [
            "Порог = 0.00 | Точность = 0.078, Полнота = 1.000, F1-мера = 0.144\n",
            "Порог = 0.05 | Точность = 0.078, Полнота = 1.000, F1-мера = 0.144\n",
            "Порог = 0.10 | Точность = 0.080, Полнота = 1.000, F1-мера = 0.149\n",
            "Порог = 0.15 | Точность = 0.084, Полнота = 1.000, F1-мера = 0.155\n",
            "Порог = 0.20 | Точность = 0.090, Полнота = 1.000, F1-мера = 0.165\n",
            "Порог = 0.25 | Точность = 0.098, Полнота = 1.000, F1-мера = 0.179\n",
            "Порог = 0.30 | Точность = 0.109, Полнота = 1.000, F1-мера = 0.197\n",
            "Порог = 0.35 | Точность = 0.122, Полнота = 1.000, F1-мера = 0.217\n",
            "Порог = 0.40 | Точность = 0.137, Полнота = 0.867, F1-мера = 0.236\n",
            "Порог = 0.45 | Точность = 0.156, Полнота = 0.800, F1-мера = 0.261\n",
            "Порог = 0.50 | Точность = 0.179, Полнота = 0.667, F1-мера = 0.282\n",
            "Порог = 0.55 | Точность = 0.222, Полнота = 0.667, F1-мера = 0.333\n",
            "Порог = 0.60 | Точность = 0.286, Полнота = 0.533, F1-мера = 0.372\n",
            "Порог = 0.65 | Точность = 0.333, Полнота = 0.467, F1-мера = 0.389\n",
            "Порог = 0.70 | Точность = 0.429, Полнота = 0.400, F1-мера = 0.414\n",
            "Порог = 0.75 | Точность = 0.500, Полнота = 0.267, F1-мера = 0.348\n",
            "Порог = 0.80 | Точность = 0.667, Полнота = 0.267, F1-мера = 0.381\n",
            "Порог = 0.85 | Точность = 0.500, Полнота = 0.133, F1-мера = 0.211\n",
            "Порог = 0.90 | Точность = 0.500, Полнота = 0.067, F1-мера = 0.118\n",
            "Порог = 0.95 | Точность = 1.000, Полнота = 0.067, F1-мера = 0.125\n",
            "ROC-AUC = 0.825\n",
            "F1-мера = 0.414\n",
            "Gini Index = 0.649\n",
            "\n"
          ]
        }
      ],
      "source": [
        "model = LogisticRegression(penalty='l1', solver='liblinear', random_state=453, class_weight='balanced')\n",
        "model.fit(features_train, target_train)\n",
        "probabilities_valid = model.predict_proba(features_valid)[:, 1]\n",
        "\n",
        "best_f1 = 0\n",
        "for threshold in np.arange(0, 1, 0.05):\n",
        "    predicted_valid = probabilities_valid > threshold \n",
        "    precision = precision_score(target_valid, predicted_valid)\n",
        "    recall = recall_score(target_valid, predicted_valid)\n",
        "    F1 = f1_score(target_valid, predicted_valid)\n",
        "    print(\"Порог = {:.2f} | Точность = {:.3f}, Полнота = {:.3f}, F1-мера = {:.3f}\".format(threshold, precision, recall, F1))\n",
        "    if F1>best_f1:\n",
        "        best_f1 = F1\n",
        "\n",
        "auc_roc = roc_auc_score(target_valid, probabilities_valid)\n",
        "print(\"ROC-AUC = {:.3f}\".format(auc_roc))     \n",
        "print(\"F1-мера = {:.3f}\".format(best_f1))\n",
        "\n",
        "gini = 2 * auc_roc - 1\n",
        "print(\"Gini Index = {:.3f}\\n\".format(gini))\n",
        "tabl_gini.append(round(gini, 2))"
      ]
    },
    {
      "cell_type": "markdown",
      "metadata": {
        "id": "9lBXC1Cqd3sJ"
      },
      "source": [
        "Для порога 0.7 самый высокий показатель F1 и ROC-AUC"
      ]
    },
    {
      "cell_type": "code",
      "execution_count": 84,
      "metadata": {
        "id": "w2KrUaTFd3sJ"
      },
      "outputs": [],
      "source": [
        "tabl_prec.append(round(best_f1, 2))\n",
        "tabl_roc_auc.append(round(auc_roc,2))\n",
        "tabl_model.append('LogisticRegression')\n",
        "tabl_not.append('threshold=0.7')"
      ]
    },
    {
      "cell_type": "code",
      "execution_count": 85,
      "metadata": {
        "colab": {
          "base_uri": "https://localhost:8080/",
          "height": 457
        },
        "id": "sFdvMdjMd3sJ",
        "outputId": "aa8869ec-abba-4904-d023-76a2e426a03d"
      },
      "outputs": [
        {
          "data": {
            "text/html": [
              "<div>\n",
              "<style scoped>\n",
              "    .dataframe tbody tr th:only-of-type {\n",
              "        vertical-align: middle;\n",
              "    }\n",
              "\n",
              "    .dataframe tbody tr th {\n",
              "        vertical-align: top;\n",
              "    }\n",
              "\n",
              "    .dataframe thead th {\n",
              "        text-align: right;\n",
              "    }\n",
              "</style>\n",
              "<table border=\"1\" class=\"dataframe\">\n",
              "  <thead>\n",
              "    <tr style=\"text-align: right;\">\n",
              "      <th></th>\n",
              "      <th>Model</th>\n",
              "      <th>F1 score</th>\n",
              "      <th>ROC-AUC</th>\n",
              "      <th>Gini Index</th>\n",
              "      <th>Notice</th>\n",
              "    </tr>\n",
              "  </thead>\n",
              "  <tbody>\n",
              "    <tr>\n",
              "      <th>0</th>\n",
              "      <td>LogisticRegression</td>\n",
              "      <td>0.30</td>\n",
              "      <td>0.84</td>\n",
              "      <td>0.67</td>\n",
              "      <td>upsampling</td>\n",
              "    </tr>\n",
              "    <tr>\n",
              "      <th>1</th>\n",
              "      <td>LogisticRegression</td>\n",
              "      <td>0.28</td>\n",
              "      <td>0.82</td>\n",
              "      <td>0.65</td>\n",
              "      <td>class_weight</td>\n",
              "    </tr>\n",
              "    <tr>\n",
              "      <th>2</th>\n",
              "      <td>LogisticRegression</td>\n",
              "      <td>0.41</td>\n",
              "      <td>0.82</td>\n",
              "      <td>0.65</td>\n",
              "      <td>threshold=0.7</td>\n",
              "    </tr>\n",
              "    <tr>\n",
              "      <th>3</th>\n",
              "      <td>LogisticRegression</td>\n",
              "      <td>0.24</td>\n",
              "      <td>0.79</td>\n",
              "      <td>0.59</td>\n",
              "      <td>downsampled</td>\n",
              "    </tr>\n",
              "    <tr>\n",
              "      <th>4</th>\n",
              "      <td>RandomForestClassifier</td>\n",
              "      <td>0.10</td>\n",
              "      <td>0.75</td>\n",
              "      <td>0.50</td>\n",
              "      <td>upsampling</td>\n",
              "    </tr>\n",
              "    <tr>\n",
              "      <th>5</th>\n",
              "      <td>DecisionTreeClassifier</td>\n",
              "      <td>0.27</td>\n",
              "      <td>0.72</td>\n",
              "      <td>0.44</td>\n",
              "      <td>downsampled</td>\n",
              "    </tr>\n",
              "    <tr>\n",
              "      <th>6</th>\n",
              "      <td>DecisionTreeClassifier</td>\n",
              "      <td>0.24</td>\n",
              "      <td>0.71</td>\n",
              "      <td>0.42</td>\n",
              "      <td>class_weight</td>\n",
              "    </tr>\n",
              "    <tr>\n",
              "      <th>7</th>\n",
              "      <td>RandomForestClassifier</td>\n",
              "      <td>0.25</td>\n",
              "      <td>0.71</td>\n",
              "      <td>0.42</td>\n",
              "      <td>class_weight</td>\n",
              "    </tr>\n",
              "    <tr>\n",
              "      <th>8</th>\n",
              "      <td>RandomForestClassifier</td>\n",
              "      <td>0.25</td>\n",
              "      <td>0.71</td>\n",
              "      <td>0.41</td>\n",
              "      <td>downsampled</td>\n",
              "    </tr>\n",
              "    <tr>\n",
              "      <th>9</th>\n",
              "      <td>CatBoostClassifier</td>\n",
              "      <td>0.17</td>\n",
              "      <td>0.68</td>\n",
              "      <td>0.37</td>\n",
              "      <td>class_weight</td>\n",
              "    </tr>\n",
              "    <tr>\n",
              "      <th>10</th>\n",
              "      <td>DecisionTreeClassifier</td>\n",
              "      <td>0.23</td>\n",
              "      <td>0.68</td>\n",
              "      <td>0.35</td>\n",
              "      <td>upsampling</td>\n",
              "    </tr>\n",
              "    <tr>\n",
              "      <th>11</th>\n",
              "      <td>CatBoostClassifier</td>\n",
              "      <td>0.22</td>\n",
              "      <td>0.63</td>\n",
              "      <td>0.26</td>\n",
              "      <td>downsampled</td>\n",
              "    </tr>\n",
              "    <tr>\n",
              "      <th>12</th>\n",
              "      <td>CatBoostClassifier</td>\n",
              "      <td>0.07</td>\n",
              "      <td>0.50</td>\n",
              "      <td>-0.01</td>\n",
              "      <td>upsampling</td>\n",
              "    </tr>\n",
              "  </tbody>\n",
              "</table>\n",
              "</div>"
            ],
            "text/plain": [
              "                     Model  F1 score  ROC-AUC  Gini Index         Notice\n",
              "0       LogisticRegression      0.30     0.84        0.67     upsampling\n",
              "1       LogisticRegression      0.28     0.82        0.65   class_weight\n",
              "2       LogisticRegression      0.41     0.82        0.65  threshold=0.7\n",
              "3       LogisticRegression      0.24     0.79        0.59    downsampled\n",
              "4   RandomForestClassifier      0.10     0.75        0.50     upsampling\n",
              "5   DecisionTreeClassifier      0.27     0.72        0.44    downsampled\n",
              "6   DecisionTreeClassifier      0.24     0.71        0.42   class_weight\n",
              "7   RandomForestClassifier      0.25     0.71        0.42   class_weight\n",
              "8   RandomForestClassifier      0.25     0.71        0.41    downsampled\n",
              "9       CatBoostClassifier      0.17     0.68        0.37   class_weight\n",
              "10  DecisionTreeClassifier      0.23     0.68        0.35     upsampling\n",
              "11      CatBoostClassifier      0.22     0.63        0.26    downsampled\n",
              "12      CatBoostClassifier      0.07     0.50       -0.01     upsampling"
            ]
          },
          "execution_count": 85,
          "metadata": {},
          "output_type": "execute_result"
        }
      ],
      "source": [
        "table_models = (pd.DataFrame({'Model':tabl_model, 'F1 score':tabl_prec, 'ROC-AUC':tabl_roc_auc, 'Gini Index':tabl_gini, 'Notice': tabl_not}).sort_values(by='ROC-AUC', ascending=False).\n",
        "                  reset_index(drop=True))\n",
        "table_models"
      ]
    },
    {
      "cell_type": "markdown",
      "metadata": {
        "id": "lhR8Lix9d3sK"
      },
      "source": [
        "#### Модель Дерево решений "
      ]
    },
    {
      "cell_type": "code",
      "execution_count": 86,
      "metadata": {
        "colab": {
          "base_uri": "https://localhost:8080/"
        },
        "id": "VNfjnIpGd3sK",
        "outputId": "05cbe3f6-7174-42b3-951a-00a3732c3b98"
      },
      "outputs": [
        {
          "name": "stdout",
          "output_type": "stream",
          "text": [
            "Порог = 0.00 | Точность = 0.064, Полнота = 0.800, F1-мера = 0.118\n",
            "Порог = 0.05 | Точность = 0.097, Полнота = 0.467, F1-мера = 0.161\n",
            "Порог = 0.10 | Точность = 0.136, Полнота = 0.400, F1-мера = 0.203\n",
            "Порог = 0.15 | Точность = 0.100, Полнота = 0.133, F1-мера = 0.114\n",
            "Порог = 0.20 | Точность = 0.067, Полнота = 0.067, F1-мера = 0.067\n",
            "Порог = 0.25 | Точность = 0.067, Полнота = 0.067, F1-мера = 0.067\n",
            "Порог = 0.30 | Точность = 0.100, Полнота = 0.067, F1-мера = 0.080\n",
            "Порог = 0.35 | Точность = 0.100, Полнота = 0.067, F1-мера = 0.080\n",
            "Порог = 0.40 | Точность = 0.100, Полнота = 0.067, F1-мера = 0.080\n",
            "Порог = 0.45 | Точность = 0.111, Полнота = 0.067, F1-мера = 0.083\n",
            "Порог = 0.50 | Точность = 0.000, Полнота = 0.000, F1-мера = 0.000\n",
            "Порог = 0.55 | Точность = 0.000, Полнота = 0.000, F1-мера = 0.000\n",
            "Порог = 0.60 | Точность = 0.000, Полнота = 0.000, F1-мера = 0.000\n",
            "Порог = 0.65 | Точность = 0.000, Полнота = 0.000, F1-мера = 0.000\n",
            "Порог = 0.70 | Точность = 0.000, Полнота = 0.000, F1-мера = 0.000\n",
            "Порог = 0.75 | Точность = 0.000, Полнота = 0.000, F1-мера = 0.000\n",
            "Порог = 0.80 | Точность = 0.000, Полнота = 0.000, F1-мера = 0.000\n",
            "Порог = 0.85 | Точность = 0.000, Полнота = 0.000, F1-мера = 0.000\n",
            "Порог = 0.90 | Точность = 0.000, Полнота = 0.000, F1-мера = 0.000\n",
            "Порог = 0.95 | Точность = 0.000, Полнота = 0.000, F1-мера = 0.000\n",
            "ROC-AUC = 0.496\n",
            "F1-мера = 0.203\n",
            "Gini Index = -0.008\n",
            "\n",
            "CPU times: user 94.3 ms, sys: 3.71 ms, total: 98 ms\n",
            "Wall time: 98.9 ms\n"
          ]
        }
      ],
      "source": [
        "%%time\n",
        "1 + 1\n",
        "model = DecisionTreeClassifier(max_depth=5)\n",
        "model.fit(features_train, target_train)\n",
        "probabilities_valid = model.predict_proba(features_valid)[:, 1]\n",
        "\n",
        "best_f1 = 0\n",
        "for threshold in np.arange(0, 1, 0.05):\n",
        "    predicted_valid = probabilities_valid > threshold \n",
        "    precision = precision_score(target_valid, predicted_valid)\n",
        "    recall = recall_score(target_valid, predicted_valid)\n",
        "    F1 = f1_score(target_valid, predicted_valid)\n",
        "    print(\"Порог = {:.2f} | Точность = {:.3f}, Полнота = {:.3f}, F1-мера = {:.3f}\".format(threshold, precision, recall, F1))\n",
        "    if F1>best_f1:\n",
        "        best_f1 = F1\n",
        "\n",
        "auc_roc = roc_auc_score(target_valid, probabilities_valid)\n",
        "print(\"ROC-AUC = {:.3f}\".format(auc_roc))     \n",
        "print(\"F1-мера = {:.3f}\".format(best_f1))\n",
        "\n",
        "gini = 2 * auc_roc - 1\n",
        "print(\"Gini Index = {:.3f}\\n\".format(gini))\n",
        "tabl_gini.append(round(gini, 2))"
      ]
    },
    {
      "cell_type": "markdown",
      "metadata": {
        "id": "WiMdARhxd3sK"
      },
      "source": [
        "Для порога 0.1 самый высокий показатель F1"
      ]
    },
    {
      "cell_type": "code",
      "execution_count": 87,
      "metadata": {
        "id": "OZti6s4Gd3sL"
      },
      "outputs": [],
      "source": [
        "tabl_prec.append(round(best_f1, 2))\n",
        "tabl_roc_auc.append(round(auc_roc,2))\n",
        "tabl_model.append('DecisionTreeClassifier')\n",
        "tabl_not.append('threshold=0.1')"
      ]
    },
    {
      "cell_type": "code",
      "execution_count": 88,
      "metadata": {
        "colab": {
          "base_uri": "https://localhost:8080/",
          "height": 488
        },
        "id": "47ny3Lf9d3sL",
        "outputId": "ed4973c8-a561-46c1-fae1-3a36fe2e3348"
      },
      "outputs": [
        {
          "data": {
            "text/html": [
              "<div>\n",
              "<style scoped>\n",
              "    .dataframe tbody tr th:only-of-type {\n",
              "        vertical-align: middle;\n",
              "    }\n",
              "\n",
              "    .dataframe tbody tr th {\n",
              "        vertical-align: top;\n",
              "    }\n",
              "\n",
              "    .dataframe thead th {\n",
              "        text-align: right;\n",
              "    }\n",
              "</style>\n",
              "<table border=\"1\" class=\"dataframe\">\n",
              "  <thead>\n",
              "    <tr style=\"text-align: right;\">\n",
              "      <th></th>\n",
              "      <th>Model</th>\n",
              "      <th>F1 score</th>\n",
              "      <th>ROC-AUC</th>\n",
              "      <th>Gini Index</th>\n",
              "      <th>Notice</th>\n",
              "    </tr>\n",
              "  </thead>\n",
              "  <tbody>\n",
              "    <tr>\n",
              "      <th>0</th>\n",
              "      <td>LogisticRegression</td>\n",
              "      <td>0.30</td>\n",
              "      <td>0.84</td>\n",
              "      <td>0.67</td>\n",
              "      <td>upsampling</td>\n",
              "    </tr>\n",
              "    <tr>\n",
              "      <th>1</th>\n",
              "      <td>LogisticRegression</td>\n",
              "      <td>0.28</td>\n",
              "      <td>0.82</td>\n",
              "      <td>0.65</td>\n",
              "      <td>class_weight</td>\n",
              "    </tr>\n",
              "    <tr>\n",
              "      <th>2</th>\n",
              "      <td>LogisticRegression</td>\n",
              "      <td>0.41</td>\n",
              "      <td>0.82</td>\n",
              "      <td>0.65</td>\n",
              "      <td>threshold=0.7</td>\n",
              "    </tr>\n",
              "    <tr>\n",
              "      <th>3</th>\n",
              "      <td>LogisticRegression</td>\n",
              "      <td>0.24</td>\n",
              "      <td>0.79</td>\n",
              "      <td>0.59</td>\n",
              "      <td>downsampled</td>\n",
              "    </tr>\n",
              "    <tr>\n",
              "      <th>4</th>\n",
              "      <td>RandomForestClassifier</td>\n",
              "      <td>0.10</td>\n",
              "      <td>0.75</td>\n",
              "      <td>0.50</td>\n",
              "      <td>upsampling</td>\n",
              "    </tr>\n",
              "    <tr>\n",
              "      <th>5</th>\n",
              "      <td>DecisionTreeClassifier</td>\n",
              "      <td>0.27</td>\n",
              "      <td>0.72</td>\n",
              "      <td>0.44</td>\n",
              "      <td>downsampled</td>\n",
              "    </tr>\n",
              "    <tr>\n",
              "      <th>6</th>\n",
              "      <td>DecisionTreeClassifier</td>\n",
              "      <td>0.24</td>\n",
              "      <td>0.71</td>\n",
              "      <td>0.42</td>\n",
              "      <td>class_weight</td>\n",
              "    </tr>\n",
              "    <tr>\n",
              "      <th>7</th>\n",
              "      <td>RandomForestClassifier</td>\n",
              "      <td>0.25</td>\n",
              "      <td>0.71</td>\n",
              "      <td>0.42</td>\n",
              "      <td>class_weight</td>\n",
              "    </tr>\n",
              "    <tr>\n",
              "      <th>8</th>\n",
              "      <td>RandomForestClassifier</td>\n",
              "      <td>0.25</td>\n",
              "      <td>0.71</td>\n",
              "      <td>0.41</td>\n",
              "      <td>downsampled</td>\n",
              "    </tr>\n",
              "    <tr>\n",
              "      <th>9</th>\n",
              "      <td>CatBoostClassifier</td>\n",
              "      <td>0.17</td>\n",
              "      <td>0.68</td>\n",
              "      <td>0.37</td>\n",
              "      <td>class_weight</td>\n",
              "    </tr>\n",
              "    <tr>\n",
              "      <th>10</th>\n",
              "      <td>DecisionTreeClassifier</td>\n",
              "      <td>0.23</td>\n",
              "      <td>0.68</td>\n",
              "      <td>0.35</td>\n",
              "      <td>upsampling</td>\n",
              "    </tr>\n",
              "    <tr>\n",
              "      <th>11</th>\n",
              "      <td>CatBoostClassifier</td>\n",
              "      <td>0.22</td>\n",
              "      <td>0.63</td>\n",
              "      <td>0.26</td>\n",
              "      <td>downsampled</td>\n",
              "    </tr>\n",
              "    <tr>\n",
              "      <th>12</th>\n",
              "      <td>CatBoostClassifier</td>\n",
              "      <td>0.07</td>\n",
              "      <td>0.50</td>\n",
              "      <td>-0.01</td>\n",
              "      <td>upsampling</td>\n",
              "    </tr>\n",
              "    <tr>\n",
              "      <th>13</th>\n",
              "      <td>DecisionTreeClassifier</td>\n",
              "      <td>0.20</td>\n",
              "      <td>0.50</td>\n",
              "      <td>-0.01</td>\n",
              "      <td>threshold=0.1</td>\n",
              "    </tr>\n",
              "  </tbody>\n",
              "</table>\n",
              "</div>"
            ],
            "text/plain": [
              "                     Model  F1 score  ROC-AUC  Gini Index         Notice\n",
              "0       LogisticRegression      0.30     0.84        0.67     upsampling\n",
              "1       LogisticRegression      0.28     0.82        0.65   class_weight\n",
              "2       LogisticRegression      0.41     0.82        0.65  threshold=0.7\n",
              "3       LogisticRegression      0.24     0.79        0.59    downsampled\n",
              "4   RandomForestClassifier      0.10     0.75        0.50     upsampling\n",
              "5   DecisionTreeClassifier      0.27     0.72        0.44    downsampled\n",
              "6   DecisionTreeClassifier      0.24     0.71        0.42   class_weight\n",
              "7   RandomForestClassifier      0.25     0.71        0.42   class_weight\n",
              "8   RandomForestClassifier      0.25     0.71        0.41    downsampled\n",
              "9       CatBoostClassifier      0.17     0.68        0.37   class_weight\n",
              "10  DecisionTreeClassifier      0.23     0.68        0.35     upsampling\n",
              "11      CatBoostClassifier      0.22     0.63        0.26    downsampled\n",
              "12      CatBoostClassifier      0.07     0.50       -0.01     upsampling\n",
              "13  DecisionTreeClassifier      0.20     0.50       -0.01  threshold=0.1"
            ]
          },
          "execution_count": 88,
          "metadata": {},
          "output_type": "execute_result"
        }
      ],
      "source": [
        "table_models = (pd.DataFrame({'Model':tabl_model, 'F1 score':tabl_prec, 'ROC-AUC':tabl_roc_auc, 'Gini Index':tabl_gini, 'Notice': tabl_not}).sort_values(by='ROC-AUC', ascending=False).\n",
        "                  reset_index(drop=True))\n",
        "table_models"
      ]
    },
    {
      "cell_type": "markdown",
      "metadata": {
        "id": "m657X25Id3sL"
      },
      "source": [
        "#### Модель случайный лес"
      ]
    },
    {
      "cell_type": "code",
      "execution_count": 89,
      "metadata": {
        "colab": {
          "base_uri": "https://localhost:8080/"
        },
        "id": "6XghQN7hd3sL",
        "outputId": "871dbc9f-5eea-4983-e359-77435edeaa42"
      },
      "outputs": [
        {
          "name": "stdout",
          "output_type": "stream",
          "text": [
            "Порог = 0.00 | Точность = 0.081, Полнота = 1.000, F1-мера = 0.149\n",
            "Порог = 0.05 | Точность = 0.110, Полнота = 0.933, F1-мера = 0.197\n",
            "Порог = 0.10 | Точность = 0.163, Полнота = 0.867, F1-мера = 0.274\n",
            "Порог = 0.15 | Точность = 0.184, Полнота = 0.600, F1-мера = 0.281\n",
            "Порог = 0.20 | Точность = 0.194, Полнота = 0.400, F1-мера = 0.261\n",
            "Порог = 0.25 | Точность = 0.294, Полнота = 0.333, F1-мера = 0.312\n",
            "Порог = 0.30 | Точность = 0.417, Полнота = 0.333, F1-мера = 0.370\n",
            "Порог = 0.35 | Точность = 0.444, Полнота = 0.267, F1-мера = 0.333\n",
            "Порог = 0.40 | Точность = 0.600, Полнота = 0.200, F1-мера = 0.300\n",
            "Порог = 0.45 | Точность = 0.000, Полнота = 0.000, F1-мера = 0.000\n",
            "Порог = 0.50 | Точность = 0.000, Полнота = 0.000, F1-мера = 0.000\n",
            "Порог = 0.55 | Точность = 0.000, Полнота = 0.000, F1-мера = 0.000\n",
            "Порог = 0.60 | Точность = 0.000, Полнота = 0.000, F1-мера = 0.000\n",
            "Порог = 0.65 | Точность = 0.000, Полнота = 0.000, F1-мера = 0.000\n",
            "Порог = 0.70 | Точность = 0.000, Полнота = 0.000, F1-мера = 0.000\n",
            "Порог = 0.75 | Точность = 0.000, Полнота = 0.000, F1-мера = 0.000\n",
            "Порог = 0.80 | Точность = 0.000, Полнота = 0.000, F1-мера = 0.000\n",
            "Порог = 0.85 | Точность = 0.000, Полнота = 0.000, F1-мера = 0.000\n",
            "Порог = 0.90 | Точность = 0.000, Полнота = 0.000, F1-мера = 0.000\n",
            "Порог = 0.95 | Точность = 0.000, Полнота = 0.000, F1-мера = 0.000\n",
            "ROC-AUC = 0.784\n",
            "F1-мера = 0.370\n",
            "Gini Index = 0.568\n",
            "\n",
            "CPU times: user 151 ms, sys: 77 µs, total: 152 ms\n",
            "Wall time: 151 ms\n"
          ]
        }
      ],
      "source": [
        "%%time\n",
        "1 + 1\n",
        "model = RandomForestClassifier(max_depth=17, min_samples_leaf=2, min_samples_split=12,\n",
        "                       n_estimators=30, random_state=12345)\n",
        "\n",
        "model.fit(features_train, target_train)\n",
        "probabilities_valid = model.predict_proba(features_valid)[:, 1]\n",
        "\n",
        "best_f1 = 0 \n",
        "\n",
        "for threshold in np.arange(0, 1, 0.05):\n",
        "    predicted_valid = probabilities_valid > threshold\n",
        "    precision = precision_score(target_valid, predicted_valid)\n",
        "    recall = recall_score(target_valid, predicted_valid)\n",
        "    F1 = f1_score(target_valid, predicted_valid)\n",
        "    print(\"Порог = {:.2f} | Точность = {:.3f}, Полнота = {:.3f}, F1-мера = {:.3f}\".format(threshold, precision, recall, F1))\n",
        "    if F1>best_f1:\n",
        "        best_f1 = F1\n",
        "\n",
        "auc_roc = roc_auc_score(target_valid, probabilities_valid)\n",
        "print(\"ROC-AUC = {:.3f}\".format(auc_roc))     \n",
        "print(\"F1-мера = {:.3f}\".format(best_f1)) \n",
        "\n",
        "gini = 2 * auc_roc - 1\n",
        "print(\"Gini Index = {:.3f}\\n\".format(gini))\n",
        "tabl_gini.append(round(gini, 2))"
      ]
    },
    {
      "cell_type": "markdown",
      "metadata": {
        "id": "zJdwl243d3sM"
      },
      "source": [
        "Для порога 0.3 самый высокий показатель F1"
      ]
    },
    {
      "cell_type": "code",
      "execution_count": 90,
      "metadata": {
        "id": "wIBk6-_qd3sM"
      },
      "outputs": [],
      "source": [
        "tabl_prec.append(round(best_f1, 2))\n",
        "tabl_roc_auc.append(round(auc_roc,2))\n",
        "tabl_model.append('RandomForestClassifier')\n",
        "tabl_not.append('threshold=0.3')"
      ]
    },
    {
      "cell_type": "code",
      "execution_count": 91,
      "metadata": {
        "colab": {
          "base_uri": "https://localhost:8080/"
        },
        "id": "XOJj8aQ9d3sM",
        "outputId": "91dab101-42ca-4cde-a522-88183b231b6d"
      },
      "outputs": [
        {
          "name": "stdout",
          "output_type": "stream",
          "text": [
            "Learning rate set to 0.008152\n",
            "0:\tlearn: 0.6860177\ttotal: 618us\tremaining: 618ms\n",
            "50:\tlearn: 0.4514805\ttotal: 29.1ms\tremaining: 541ms\n",
            "100:\tlearn: 0.3570510\ttotal: 60.4ms\tremaining: 537ms\n",
            "150:\tlearn: 0.3127330\ttotal: 90.6ms\tremaining: 510ms\n",
            "200:\tlearn: 0.2855856\ttotal: 121ms\tremaining: 481ms\n",
            "250:\tlearn: 0.2667041\ttotal: 157ms\tremaining: 470ms\n",
            "300:\tlearn: 0.2504551\ttotal: 193ms\tremaining: 448ms\n",
            "350:\tlearn: 0.2375136\ttotal: 230ms\tremaining: 425ms\n",
            "400:\tlearn: 0.2267663\ttotal: 268ms\tremaining: 400ms\n",
            "450:\tlearn: 0.2174430\ttotal: 297ms\tremaining: 362ms\n",
            "500:\tlearn: 0.2080312\ttotal: 328ms\tremaining: 327ms\n",
            "550:\tlearn: 0.1988707\ttotal: 359ms\tremaining: 292ms\n",
            "600:\tlearn: 0.1906214\ttotal: 389ms\tremaining: 258ms\n",
            "650:\tlearn: 0.1824246\ttotal: 418ms\tremaining: 224ms\n",
            "700:\tlearn: 0.1744606\ttotal: 451ms\tremaining: 193ms\n",
            "750:\tlearn: 0.1675062\ttotal: 492ms\tremaining: 163ms\n",
            "800:\tlearn: 0.1605875\ttotal: 525ms\tremaining: 130ms\n",
            "850:\tlearn: 0.1539830\ttotal: 560ms\tremaining: 98ms\n",
            "900:\tlearn: 0.1480037\ttotal: 593ms\tremaining: 65.2ms\n",
            "950:\tlearn: 0.1423317\ttotal: 628ms\tremaining: 32.4ms\n",
            "999:\tlearn: 0.1369443\ttotal: 661ms\tremaining: 0us\n",
            "Порог = 0.00 | Точность = 0.078, Полнота = 1.000, F1-мера = 0.144\n",
            "Порог = 0.01 | Точность = 0.084, Полнота = 1.000, F1-мера = 0.155\n",
            "Порог = 0.02 | Точность = 0.092, Полнота = 0.933, F1-мера = 0.167\n",
            "Порог = 0.03 | Точность = 0.101, Полнота = 0.867, F1-мера = 0.181\n",
            "Порог = 0.04 | Точность = 0.124, Полнота = 0.867, F1-мера = 0.217\n",
            "Порог = 0.05 | Точность = 0.143, Полнота = 0.867, F1-мера = 0.245\n",
            "Порог = 0.06 | Точность = 0.163, Полнота = 0.867, F1-мера = 0.274\n",
            "Порог = 0.07 | Точность = 0.174, Полнота = 0.800, F1-мера = 0.286\n",
            "Порог = 0.08 | Точность = 0.177, Полнота = 0.733, F1-мера = 0.286\n",
            "Порог = 0.09 | Точность = 0.175, Полнота = 0.667, F1-мера = 0.278\n",
            "Порог = 0.10 | Точность = 0.157, Полнота = 0.533, F1-мера = 0.242\n",
            "Порог = 0.11 | Точность = 0.146, Полнота = 0.467, F1-мера = 0.222\n",
            "Порог = 0.12 | Точность = 0.171, Полнота = 0.467, F1-мера = 0.250\n",
            "Порог = 0.13 | Точность = 0.194, Полнота = 0.467, F1-мера = 0.275\n",
            "Порог = 0.14 | Точность = 0.206, Полнота = 0.467, F1-мера = 0.286\n",
            "Порог = 0.15 | Точность = 0.212, Полнота = 0.467, F1-мера = 0.292\n",
            "Порог = 0.16 | Точность = 0.214, Полнота = 0.400, F1-мера = 0.279\n",
            "Порог = 0.17 | Точность = 0.214, Полнота = 0.400, F1-мера = 0.279\n",
            "Порог = 0.18 | Точность = 0.231, Полнота = 0.400, F1-мера = 0.293\n",
            "Порог = 0.19 | Точность = 0.240, Полнота = 0.400, F1-мера = 0.300\n",
            "Порог = 0.20 | Точность = 0.273, Полнота = 0.400, F1-мера = 0.324\n",
            "Порог = 0.21 | Точность = 0.273, Полнота = 0.400, F1-мера = 0.324\n",
            "Порог = 0.22 | Точность = 0.273, Полнота = 0.400, F1-мера = 0.324\n",
            "Порог = 0.23 | Точность = 0.273, Полнота = 0.400, F1-мера = 0.324\n",
            "Порог = 0.24 | Точность = 0.333, Полнота = 0.400, F1-мера = 0.364\n",
            "Порог = 0.25 | Точность = 0.333, Полнота = 0.400, F1-мера = 0.364\n",
            "Порог = 0.26 | Точность = 0.333, Полнота = 0.400, F1-мера = 0.364\n",
            "Порог = 0.27 | Точность = 0.353, Полнота = 0.400, F1-мера = 0.375\n",
            "Порог = 0.28 | Точность = 0.353, Полнота = 0.400, F1-мера = 0.375\n",
            "Порог = 0.29 | Точность = 0.286, Полнота = 0.267, F1-мера = 0.276\n",
            "Порог = 0.30 | Точность = 0.308, Полнота = 0.267, F1-мера = 0.286\n",
            "Порог = 0.31 | Точность = 0.333, Полнота = 0.267, F1-мера = 0.296\n",
            "Порог = 0.32 | Точность = 0.273, Полнота = 0.200, F1-мера = 0.231\n",
            "Порог = 0.33 | Точность = 0.222, Полнота = 0.133, F1-мера = 0.167\n",
            "Порог = 0.34 | Точность = 0.125, Полнота = 0.067, F1-мера = 0.087\n",
            "Порог = 0.35 | Точность = 0.125, Полнота = 0.067, F1-мера = 0.087\n",
            "Порог = 0.36 | Точность = 0.125, Полнота = 0.067, F1-мера = 0.087\n",
            "Порог = 0.37 | Точность = 0.000, Полнота = 0.000, F1-мера = 0.000\n",
            "Порог = 0.38 | Точность = 0.000, Полнота = 0.000, F1-мера = 0.000\n",
            "Порог = 0.39 | Точность = 0.000, Полнота = 0.000, F1-мера = 0.000\n",
            "ROC-AUC = 0.760\n",
            "F1-мера = 0.375\n",
            "Gini Index = 0.519\n",
            "\n",
            "CPU times: user 1.65 s, sys: 362 ms, total: 2.02 s\n",
            "Wall time: 1.38 s\n"
          ]
        }
      ],
      "source": [
        "%%time\n",
        "1 + 1\n",
        "model = CatBoostClassifier(verbose=50, random_state=12345)\n",
        "\n",
        "model.fit(features_train, target_train)\n",
        "probabilities_valid = model.predict_proba(features_valid)[:, 1]\n",
        "\n",
        "best_f1 = 0 \n",
        "\n",
        "for threshold in np.arange(0, 0.4, 0.01):\n",
        "    predicted_valid = probabilities_valid > threshold \n",
        "    precision = precision_score(target_valid, predicted_valid)\n",
        "    recall = recall_score(target_valid, predicted_valid)\n",
        "    F1 = f1_score(target_valid, predicted_valid)\n",
        "    print(\"Порог = {:.2f} | Точность = {:.3f}, Полнота = {:.3f}, F1-мера = {:.3f}\".format(threshold, precision, recall, F1))\n",
        "    if F1>best_f1:\n",
        "        best_f1 = F1\n",
        "\n",
        "auc_roc = roc_auc_score(target_valid, probabilities_valid)\n",
        "print(\"ROC-AUC = {:.3f}\".format(auc_roc))     \n",
        "print(\"F1-мера = {:.3f}\".format(best_f1)) \n",
        "\n",
        "gini = 2 * auc_roc - 1\n",
        "print(\"Gini Index = {:.3f}\\n\".format(gini))\n",
        "tabl_gini.append(round(gini, 2))"
      ]
    },
    {
      "cell_type": "code",
      "execution_count": 92,
      "metadata": {
        "id": "efO-igTTd3sN"
      },
      "outputs": [],
      "source": [
        "tabl_prec.append(round(best_f1, 2))\n",
        "tabl_roc_auc.append(round(auc_roc,2))\n",
        "tabl_model.append('CatBoostClassifier')\n",
        "tabl_not.append('threshold=0.28')"
      ]
    },
    {
      "cell_type": "code",
      "execution_count": 93,
      "metadata": {
        "colab": {
          "base_uri": "https://localhost:8080/",
          "height": 551
        },
        "id": "OQiSTZ55d3sN",
        "outputId": "99d60384-6761-44dc-ce00-12646211f1e5"
      },
      "outputs": [
        {
          "data": {
            "text/html": [
              "<div>\n",
              "<style scoped>\n",
              "    .dataframe tbody tr th:only-of-type {\n",
              "        vertical-align: middle;\n",
              "    }\n",
              "\n",
              "    .dataframe tbody tr th {\n",
              "        vertical-align: top;\n",
              "    }\n",
              "\n",
              "    .dataframe thead th {\n",
              "        text-align: right;\n",
              "    }\n",
              "</style>\n",
              "<table border=\"1\" class=\"dataframe\">\n",
              "  <thead>\n",
              "    <tr style=\"text-align: right;\">\n",
              "      <th></th>\n",
              "      <th>Model</th>\n",
              "      <th>F1 score</th>\n",
              "      <th>ROC-AUC</th>\n",
              "      <th>Gini Index</th>\n",
              "      <th>Notice</th>\n",
              "    </tr>\n",
              "  </thead>\n",
              "  <tbody>\n",
              "    <tr>\n",
              "      <th>0</th>\n",
              "      <td>LogisticRegression</td>\n",
              "      <td>0.30</td>\n",
              "      <td>0.84</td>\n",
              "      <td>0.67</td>\n",
              "      <td>upsampling</td>\n",
              "    </tr>\n",
              "    <tr>\n",
              "      <th>1</th>\n",
              "      <td>LogisticRegression</td>\n",
              "      <td>0.28</td>\n",
              "      <td>0.82</td>\n",
              "      <td>0.65</td>\n",
              "      <td>class_weight</td>\n",
              "    </tr>\n",
              "    <tr>\n",
              "      <th>2</th>\n",
              "      <td>LogisticRegression</td>\n",
              "      <td>0.41</td>\n",
              "      <td>0.82</td>\n",
              "      <td>0.65</td>\n",
              "      <td>threshold=0.7</td>\n",
              "    </tr>\n",
              "    <tr>\n",
              "      <th>3</th>\n",
              "      <td>LogisticRegression</td>\n",
              "      <td>0.24</td>\n",
              "      <td>0.79</td>\n",
              "      <td>0.59</td>\n",
              "      <td>downsampled</td>\n",
              "    </tr>\n",
              "    <tr>\n",
              "      <th>4</th>\n",
              "      <td>RandomForestClassifier</td>\n",
              "      <td>0.37</td>\n",
              "      <td>0.78</td>\n",
              "      <td>0.57</td>\n",
              "      <td>threshold=0.3</td>\n",
              "    </tr>\n",
              "    <tr>\n",
              "      <th>5</th>\n",
              "      <td>CatBoostClassifier</td>\n",
              "      <td>0.38</td>\n",
              "      <td>0.76</td>\n",
              "      <td>0.52</td>\n",
              "      <td>threshold=0.28</td>\n",
              "    </tr>\n",
              "    <tr>\n",
              "      <th>6</th>\n",
              "      <td>RandomForestClassifier</td>\n",
              "      <td>0.10</td>\n",
              "      <td>0.75</td>\n",
              "      <td>0.50</td>\n",
              "      <td>upsampling</td>\n",
              "    </tr>\n",
              "    <tr>\n",
              "      <th>7</th>\n",
              "      <td>DecisionTreeClassifier</td>\n",
              "      <td>0.27</td>\n",
              "      <td>0.72</td>\n",
              "      <td>0.44</td>\n",
              "      <td>downsampled</td>\n",
              "    </tr>\n",
              "    <tr>\n",
              "      <th>8</th>\n",
              "      <td>DecisionTreeClassifier</td>\n",
              "      <td>0.24</td>\n",
              "      <td>0.71</td>\n",
              "      <td>0.42</td>\n",
              "      <td>class_weight</td>\n",
              "    </tr>\n",
              "    <tr>\n",
              "      <th>9</th>\n",
              "      <td>RandomForestClassifier</td>\n",
              "      <td>0.25</td>\n",
              "      <td>0.71</td>\n",
              "      <td>0.42</td>\n",
              "      <td>class_weight</td>\n",
              "    </tr>\n",
              "    <tr>\n",
              "      <th>10</th>\n",
              "      <td>RandomForestClassifier</td>\n",
              "      <td>0.25</td>\n",
              "      <td>0.71</td>\n",
              "      <td>0.41</td>\n",
              "      <td>downsampled</td>\n",
              "    </tr>\n",
              "    <tr>\n",
              "      <th>11</th>\n",
              "      <td>CatBoostClassifier</td>\n",
              "      <td>0.17</td>\n",
              "      <td>0.68</td>\n",
              "      <td>0.37</td>\n",
              "      <td>class_weight</td>\n",
              "    </tr>\n",
              "    <tr>\n",
              "      <th>12</th>\n",
              "      <td>DecisionTreeClassifier</td>\n",
              "      <td>0.23</td>\n",
              "      <td>0.68</td>\n",
              "      <td>0.35</td>\n",
              "      <td>upsampling</td>\n",
              "    </tr>\n",
              "    <tr>\n",
              "      <th>13</th>\n",
              "      <td>CatBoostClassifier</td>\n",
              "      <td>0.22</td>\n",
              "      <td>0.63</td>\n",
              "      <td>0.26</td>\n",
              "      <td>downsampled</td>\n",
              "    </tr>\n",
              "    <tr>\n",
              "      <th>14</th>\n",
              "      <td>CatBoostClassifier</td>\n",
              "      <td>0.07</td>\n",
              "      <td>0.50</td>\n",
              "      <td>-0.01</td>\n",
              "      <td>upsampling</td>\n",
              "    </tr>\n",
              "    <tr>\n",
              "      <th>15</th>\n",
              "      <td>DecisionTreeClassifier</td>\n",
              "      <td>0.20</td>\n",
              "      <td>0.50</td>\n",
              "      <td>-0.01</td>\n",
              "      <td>threshold=0.1</td>\n",
              "    </tr>\n",
              "  </tbody>\n",
              "</table>\n",
              "</div>"
            ],
            "text/plain": [
              "                     Model  F1 score  ROC-AUC  Gini Index          Notice\n",
              "0       LogisticRegression      0.30     0.84        0.67      upsampling\n",
              "1       LogisticRegression      0.28     0.82        0.65    class_weight\n",
              "2       LogisticRegression      0.41     0.82        0.65   threshold=0.7\n",
              "3       LogisticRegression      0.24     0.79        0.59     downsampled\n",
              "4   RandomForestClassifier      0.37     0.78        0.57   threshold=0.3\n",
              "5       CatBoostClassifier      0.38     0.76        0.52  threshold=0.28\n",
              "6   RandomForestClassifier      0.10     0.75        0.50      upsampling\n",
              "7   DecisionTreeClassifier      0.27     0.72        0.44     downsampled\n",
              "8   DecisionTreeClassifier      0.24     0.71        0.42    class_weight\n",
              "9   RandomForestClassifier      0.25     0.71        0.42    class_weight\n",
              "10  RandomForestClassifier      0.25     0.71        0.41     downsampled\n",
              "11      CatBoostClassifier      0.17     0.68        0.37    class_weight\n",
              "12  DecisionTreeClassifier      0.23     0.68        0.35      upsampling\n",
              "13      CatBoostClassifier      0.22     0.63        0.26     downsampled\n",
              "14      CatBoostClassifier      0.07     0.50       -0.01      upsampling\n",
              "15  DecisionTreeClassifier      0.20     0.50       -0.01   threshold=0.1"
            ]
          },
          "execution_count": 93,
          "metadata": {},
          "output_type": "execute_result"
        }
      ],
      "source": [
        "table_models = (pd.DataFrame({'Model':tabl_model, 'F1 score':tabl_prec, 'ROC-AUC':tabl_roc_auc, 'Gini Index':tabl_gini, 'Notice': tabl_not}).sort_values(by='ROC-AUC', ascending=False).\n",
        "                  reset_index(drop=True))\n",
        "table_models"
      ]
    },
    {
      "cell_type": "markdown",
      "metadata": {
        "id": "Wmp3l4knd3sN"
      },
      "source": [
        "### Вывод"
      ]
    },
    {
      "cell_type": "markdown",
      "metadata": {
        "id": "LYr0uJWid3sN"
      },
      "source": [
        "<div class=\"alert alert-info\"> <b>\n",
        "У нас определилась самая удачная модели - LogisticRegression с лучшей F1-мерой и мерой ROC-AUC полученной с увеличенной выборкой. Попробуем подобрать для нее оптимальные гиперпараметры.\n",
        "\n",
        "    1. Кроме того, мы выявили что при наличии дисбаланса для нашей задачи, лучше всего подходит увеличение выборки для LogisticRegression.\n",
        "    2. class_weight показал себя тоже неплохо\n",
        "</div>\n"
      ]
    },
    {
      "cell_type": "markdown",
      "metadata": {
        "id": "riKdtn0lBmej"
      },
      "source": [
        "### Подбор гиперпараметров"
      ]
    },
    {
      "cell_type": "code",
      "execution_count": 94,
      "metadata": {
        "colab": {
          "base_uri": "https://localhost:8080/"
        },
        "id": "C1qw5UgB2Zcm",
        "outputId": "85da372f-0a1e-4575-9cf5-dd28382a8dce"
      },
      "outputs": [
        {
          "name": "stdout",
          "output_type": "stream",
          "text": [
            "Best parameters: {'C': 0.1, 'penalty': 'l1', 'solver': 'saga'}\n",
            "Best ROC-AUC score: 0.7338908112264513\n",
            "Gini Index = 0.468\n",
            "\n"
          ]
        }
      ],
      "source": [
        "# Определение гиперпараметров для перебора\n",
        "parameters = {'C': [0.001, 0.01, 0.1, 1, 10, 100],\n",
        "              'penalty': ['l1', 'l2'],\n",
        "              'solver': ['liblinear', 'saga']}\n",
        "\n",
        "# Создание экземпляра модели\n",
        "model = LogisticRegression(random_state=453, class_weight='balanced')\n",
        "\n",
        "# Инициализация GridSearchCV\n",
        "grid_search = GridSearchCV(estimator=model, param_grid=parameters, scoring='roc_auc', cv=5, n_jobs=-1)\n",
        "\n",
        "# Обучение модели с перебором гиперпараметров\n",
        "grid_search.fit(features_upsampled, target_upsampled)\n",
        "\n",
        "# Вывод лучших параметров и метрики качества\n",
        "print('Best parameters:', grid_search.best_params_)\n",
        "print('Best ROC-AUC score:', grid_search.best_score_)\n",
        "\n",
        "auc_roc = grid_search.best_score_\n",
        "gini = 2 * auc_roc - 1\n",
        "print(\"Gini Index = {:.3f}\\n\".format(gini))"
      ]
    },
    {
      "cell_type": "markdown",
      "metadata": {
        "id": "jpbI5vMUMhSB"
      },
      "source": [
        "## Проверяем модель на тестовой выборке"
      ]
    },
    {
      "cell_type": "code",
      "execution_count": 95,
      "metadata": {
        "id": "OBa07nAlk7Ka"
      },
      "outputs": [],
      "source": [
        "tabl_model = []\n",
        "tabl_prec = []\n",
        "tabl_not = []\n",
        "tabl_roc_auc = []\n",
        "tabl_gini = []\n",
        "tabl_params = []"
      ]
    },
    {
      "cell_type": "code",
      "execution_count": 96,
      "metadata": {
        "colab": {
          "base_uri": "https://localhost:8080/"
        },
        "id": "Act23t5UK51-",
        "outputId": "666f9432-5468-43a9-f733-a44564bf6a15"
      },
      "outputs": [
        {
          "name": "stdout",
          "output_type": "stream",
          "text": [
            "ROC-AUC: 0.719\n",
            "Gini Index: 0.439\n",
            "F1-score: 0.225\n"
          ]
        }
      ],
      "source": [
        "# Обучаем модель с лучшими параметрами\n",
        "model_best = LogisticRegression(**grid_search.best_params_, random_state=453, class_weight='balanced')\n",
        "model_best.fit(features_train, target_train)\n",
        "\n",
        "# Получаем предсказания модели\n",
        "predicted = model_best.predict(features_test)\n",
        "\n",
        "# Получаем предсказанные вероятности\n",
        "probabilities = model_best.predict_proba(features_test)[:, 1]\n",
        "\n",
        "# Получаем ROC-AUC и Gini Index для предсказаний с учетом порога\n",
        "roc_auc = roc_auc_score(target_test, probabilities)\n",
        "gini = 2 * roc_auc - 1\n",
        "print(\"ROC-AUC: {:.3f}\".format(roc_auc))\n",
        "print(\"Gini Index: {:.3f}\".format(gini))\n",
        "\n",
        "\n",
        "# Вычисляем и печатаем F1-score\n",
        "f1 = f1_score(target_test, predicted)\n",
        "print(\"F1-score: {:.3f}\".format(f1))"
      ]
    },
    {
      "cell_type": "code",
      "execution_count": 97,
      "metadata": {
        "id": "DPld655aaebY"
      },
      "outputs": [],
      "source": [
        "tabl_prec.append(round(f1, 2))\n",
        "tabl_roc_auc.append(round(roc_auc, 2))\n",
        "tabl_model.append('LogisticRegression')\n",
        "tabl_not.append('test')\n",
        "tabl_gini.append(round(gini, 2))\n",
        "tabl_params.append(grid_search.best_params_)\n"
      ]
    },
    {
      "cell_type": "code",
      "execution_count": 98,
      "metadata": {
        "colab": {
          "base_uri": "https://localhost:8080/",
          "height": 81
        },
        "id": "mr-iWueHaj9e",
        "outputId": "7846cf5e-cfea-49b2-8d51-7082bbbbb201"
      },
      "outputs": [
        {
          "data": {
            "text/html": [
              "<div>\n",
              "<style scoped>\n",
              "    .dataframe tbody tr th:only-of-type {\n",
              "        vertical-align: middle;\n",
              "    }\n",
              "\n",
              "    .dataframe tbody tr th {\n",
              "        vertical-align: top;\n",
              "    }\n",
              "\n",
              "    .dataframe thead th {\n",
              "        text-align: right;\n",
              "    }\n",
              "</style>\n",
              "<table border=\"1\" class=\"dataframe\">\n",
              "  <thead>\n",
              "    <tr style=\"text-align: right;\">\n",
              "      <th></th>\n",
              "      <th>Model</th>\n",
              "      <th>F1 score</th>\n",
              "      <th>ROC-AUC</th>\n",
              "      <th>Gini Index</th>\n",
              "      <th>Notice</th>\n",
              "      <th>params</th>\n",
              "    </tr>\n",
              "  </thead>\n",
              "  <tbody>\n",
              "    <tr>\n",
              "      <th>0</th>\n",
              "      <td>LogisticRegression</td>\n",
              "      <td>0.23</td>\n",
              "      <td>0.72</td>\n",
              "      <td>0.44</td>\n",
              "      <td>test</td>\n",
              "      <td>{'C': 0.1, 'penalty': 'l1', 'solver': 'saga'}</td>\n",
              "    </tr>\n",
              "  </tbody>\n",
              "</table>\n",
              "</div>"
            ],
            "text/plain": [
              "                Model  F1 score  ROC-AUC  Gini Index Notice  \\\n",
              "0  LogisticRegression      0.23     0.72        0.44   test   \n",
              "\n",
              "                                          params  \n",
              "0  {'C': 0.1, 'penalty': 'l1', 'solver': 'saga'}  "
            ]
          },
          "execution_count": 98,
          "metadata": {},
          "output_type": "execute_result"
        }
      ],
      "source": [
        "table_models = (pd.DataFrame({'Model':tabl_model, 'F1 score':tabl_prec, 'ROC-AUC':tabl_roc_auc, \n",
        "                              'Gini Index':tabl_gini, 'Notice': tabl_not, 'params':tabl_params}).sort_values(by='ROC-AUC', ascending=False).\n",
        "                  reset_index(drop=True))\n",
        "table_models"
      ]
    },
    {
      "cell_type": "code",
      "execution_count": 99,
      "metadata": {
        "colab": {
          "base_uri": "https://localhost:8080/",
          "height": 891
        },
        "id": "fzmTDuwJTgVM",
        "outputId": "378982ad-b1ba-49e1-c5b0-0bb4113da9d5"
      },
      "outputs": [
        {
          "data": {
            "image/png": "[encoded data removed]",
            "text/plain": [
              "<Figure size 1000x1000 with 1 Axes>"
            ]
          },
          "metadata": {},
          "output_type": "display_data"
        },
        {
          "name": "stdout",
          "output_type": "stream",
          "text": [
            "AUC: 0.7192796610169492\n"
          ]
        }
      ],
      "source": [
        "fpr, tpr, thresholds = roc_curve(target_test, probabilities) \n",
        "\n",
        "plt.figure(figsize=(10, 10))\n",
        "plt.plot(fpr, tpr, linestyle='-')\n",
        "plt.plot([0, 1], [0, 1], linestyle='--')\n",
        "plt.xlim([0.0, 1.0])\n",
        "plt.ylim([0.0, 1.0])\n",
        "plt.xlabel('False Positive Rate')\n",
        "plt.ylabel('True Positive Rate')\n",
        "plt.title('ROC-кривая')\n",
        "plt.show()\n",
        "\n",
        "auc_roc = roc_auc_score(target_test, probabilities)\n",
        "\n",
        "print(\"AUC:\", auc_roc)"
      ]
    },
    {
      "cell_type": "markdown",
      "metadata": {
        "id": "i_04x9OChWQT"
      },
      "source": [
        "Модель получше константной"
      ]
    },
    {
      "cell_type": "markdown",
      "metadata": {
        "id": "IJjwffjVZ_nu"
      },
      "source": [
        "## Важность признаков"
      ]
    },
    {
      "cell_type": "code",
      "execution_count": 100,
      "metadata": {
        "colab": {
          "base_uri": "https://localhost:8080/",
          "height": 564
        },
        "id": "0-kYJoPSZgvE",
        "outputId": "ff3c49ee-e640-4c5c-c5c5-910a470d8f7a"
      },
      "outputs": [
        {
          "data": {
            "image/png": "[encoded data removed]",
            "text/plain": [
              "<Figure size 1000x600 with 1 Axes>"
            ]
          },
          "metadata": {},
          "output_type": "display_data"
        }
      ],
      "source": [
        "# Получение коэффициентов модели\n",
        "coefficients = model_best.coef_[0]\n",
        "\n",
        "# Подсчет абсолютных значений коэффициентов\n",
        "absolute_coefficients = np.abs(coefficients)\n",
        "\n",
        "# Создание DataFrame с важностями признаков\n",
        "feature_importance_df = pd.DataFrame({'Feature': features_train.columns, 'Importance': absolute_coefficients})\n",
        "\n",
        "# Сортировка по убыванию важности\n",
        "feature_importance_df = feature_importance_df.sort_values(by='Importance', ascending=False)\n",
        "\n",
        "# Создание графика важности признаков\n",
        "plt.figure(figsize=(10, 6))\n",
        "plt.barh(feature_importance_df['Feature'], feature_importance_df['Importance'])\n",
        "plt.xlabel('Importance')\n",
        "plt.ylabel('Feature')\n",
        "plt.title('Feature Importance')\n",
        "plt.show()"
      ]
    },
    {
      "cell_type": "code",
      "execution_count": 101,
      "metadata": {
        "colab": {
          "base_uri": "https://localhost:8080/"
        },
        "id": "eArUw85pHPh2",
        "outputId": "bfbc62f4-3df7-4066-d1f4-aef14b00432a"
      },
      "outputs": [
        {
          "data": {
            "text/plain": [
              "[{'C': 0.1, 'penalty': 'l1', 'solver': 'saga'}]"
            ]
          },
          "execution_count": 101,
          "metadata": {},
          "output_type": "execute_result"
        }
      ],
      "source": [
        "tabl_params"
      ]
    },
    {
      "cell_type": "markdown",
      "metadata": {
        "id": "XAFP_ADsZzUp"
      },
      "source": [
        "# Вывод "
      ]
    },
    {
      "cell_type": "markdown",
      "metadata": {
        "id": "YWah4LkHcvN3"
      },
      "source": [
        "**Согласно анализу, самые важные признаки, на которые стоит обратить внимание, это:**  \n",
        "  \n",
        "1. *overdues_sum*: Общая сумма просроченных дней платежей клиента. Этот признак является сильным индикатором плохой кредитной истории и может быть полезным для прогнозирования типа кредита.  \n",
        "  \n",
        "2. *overdues_count*: Количество просроченных платежей клиента. Этот признак указывает на активность клиента в погашении кредитных обязательств и может быть полезным для предсказания типа кредита.  \n",
        "\n",
        "3. *loan_created_month* Месяц когда был взят кредит. Сезонность влияет на целевой признак.\n",
        "  \n",
        "**Для прогнозирования проблемных кредитов можно использовать модель**    \n",
        "*model_best = LogisticRegression(**grid_search.best_params_, random_state=453, class_weight='balanced')\n",
        "   \n",
        "Best parameters: [{'C': 0.1, 'penalty': 'l1', 'solver': 'saga'}]*  \n",
        " \n",
        "**С метриками**   \n",
        "\n",
        "*ROC-AUC: 0.719    \n",
        "Gini Index: 0.44   \n",
        "F1-score: 0.23*    \n",
        "\n",
        "Эти метрики позволяют оценить качество модели и ее способность предсказывать тип кредита.  \n",
        "\n",
        "***Проблемы построения модели:***  \n",
        "  \n",
        "1. Малое количество признаков: У нас ограниченный набор признаков, которые могут быть использованы для построения модели. Это может ограничить способность модели к полному и точному прогнозированию типа кредита. Возможно, добавление дополнительных информативных признаков может улучшить производительность модели.\n",
        "  \n",
        "2. Недостаток данных: Если у вас мало данных, особенно примеров положительного класса (в вашем случае - проблемных кредитов), это может затруднить обучение хорошей модели. Модели машинного обучения обычно работают лучше с большим количеством данных. \n",
        "   \n",
        "3. Отсутствие уникального идентификатора кредита: В данных отсутствует прямой способ связать просрочки с конкретными кредитами. Это ограничивает нашу способность более точно анализировать и предсказывать связь между просрочками и типом кредита. Вместо этого мы предполагаем, что общая история просрочек клиента применима ко всем его кредитам. Это может вносить некоторую неопределенность и потенциально снижать точность предсказания модели.  \n",
        "\n",
        "В целом, необходимо учитывать эти проблемы при построении модели и принимать соответствующие меры для минимизации их влияния на качество и интерпретируемость модели.  "
      ]
    },
    {
      "cell_type": "code",
      "execution_count": 102,
      "metadata": {
        "id": "gNEjgVKydgsV"
      },
      "outputs": [],
      "source": [
        "table_models.to_csv('результаты_тестирования.csv', index=False)\n"
      ]
    }
  ],
  "metadata": {
    "colab": {
      "provenance": [],
      "toc_visible": true
    },
    "kernelspec": {
      "display_name": "Python 3",
      "name": "python3"
    },
    "language_info": {
      "codemirror_mode": {
        "name": "ipython",
        "version": 3
      },
      "file_extension": ".py",
      "mimetype": "text/x-python",
      "name": "python",
      "nbconvert_exporter": "python",
      "pygments_lexer": "ipython3",
      "version": "3.10.10"
    }
  },
  "nbformat": 4,
  "nbformat_minor": 0
}
