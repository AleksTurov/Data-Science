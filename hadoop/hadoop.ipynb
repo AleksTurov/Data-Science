{
  "nbformat": 4,
  "nbformat_minor": 0,
  "metadata": {
    "colab": {
      "provenance": [],
      "toc_visible": true,
      "authorship_tag": "ABX9TyOSUlApyllPBctnnQMQvWCV",
      "include_colab_link": true
    },
    "kernelspec": {
      "name": "python3",
      "display_name": "Python 3"
    },
    "language_info": {
      "name": "python"
    }
  },
  "cells": [
    {
      "cell_type": "markdown",
      "metadata": {
        "id": "view-in-github",
        "colab_type": "text"
      },
      "source": [
        "<a href=\"https://colab.research.google.com/github/AleksTurov/Data-Science/blob/main/hadoop/Stepic_hadoop.ipynb\" target=\"_parent\"><img src=\"https://colab.research.google.com/assets/colab-badge.svg\" alt=\"Open In Colab\"/></a>"
      ]
    },
    {
      "cell_type": "markdown",
      "source": [
        "# Stepic hadoop\n",
        "\n"
      ],
      "metadata": {
        "id": "bI23b-P2fZfw"
      }
    },
    {
      "cell_type": "markdown",
      "source": [
        "## 3.5 Hadoop Streaming"
      ],
      "metadata": {
        "id": "sOjmw_OHYsJ8"
      }
    },
    {
      "cell_type": "markdown",
      "source": [
        "Напишите программу, которая реализует mapper для задачи WordCount в Hadoop Streaming.  \n",
        "  \n",
        "Sample Input:  \n",
        "  \n",
        "Vivere est cogitare  \n",
        "Vivere militate est  \n",
        "Scientia potentia est  \n",
        "Sample Output:  \n",
        "  \n",
        "Vivere\t1  \n",
        "est\t1  \n",
        "cogitare\t1  \n",
        "Vivere\t1  \n",
        "militate\t1  \n",
        "est\t1  \n",
        "Scientia\t1  \n",
        "potentia\t1  \n",
        "est\t1  \n",
        "Напишите программу. Тестируется через stdin → stdout  "
      ],
      "metadata": {
        "id": "lojmZa0bfej7"
      }
    },
    {
      "cell_type": "code",
      "source": [
        "#!/usr/bin/env python\n",
        "\n",
        "import sys\n",
        "import subprocess\n",
        "\n",
        "for line in sys.stdin:\n",
        "    # удаление начальных и конечных пробелов\n",
        "    line = line.strip()\n",
        "\n",
        "    # разделение строки на слова\n",
        "    words = line.split()\n",
        "\n",
        "    # итерация по словам в строке и вывод пары ключ-значение\n",
        "    for word in words:\n",
        "        # вывод ключа-слова и значения-единицы\n",
        "        print(word + \"\\t1\")\n",
        "\n"
      ],
      "metadata": {
        "id": "6qvUhGuofn39"
      },
      "execution_count": null,
      "outputs": []
    },
    {
      "cell_type": "markdown",
      "source": [
        "Напишите программу, которая реализует reducer для задачи WordCount в Hadoop Streaming.\n",
        "Sample Input:  \n",
        "  \n",
        "cogitare\t1  \n",
        "est\t1  \n",
        "est\t1  \n",
        "est\t1  \n",
        "militate\t1  \n",
        "potentia\t1  \n",
        "Scientia\t1  \n",
        "Vivere\t1  \n",
        "Vivere\t1  \n",
        "Sample Output:  \n",
        "  \n",
        "cogitare\t1  \n",
        "est\t3  \n",
        "militate\t1  \n",
        "potentia\t1  \n",
        "Scientia\t1  \n",
        "Vivere\t2  \n",
        "Напишите программу. Тестируется через stdin → stdout  "
      ],
      "metadata": {
        "id": "DA8ECmPsfqec"
      }
    },
    {
      "cell_type": "code",
      "source": [
        "# put your python code here\n",
        "#!/usr/bin/env python\n",
        "\n",
        "import sys\n",
        "\n",
        "current_word = None\n",
        "current_count = 0\n",
        "\n",
        "# проход по строкам, полученным из stdin\n",
        "for line in sys.stdin:\n",
        "    # разбиение строки на слово и его частоту\n",
        "    word, count = line.strip().split('\\t')\n",
        "    count = int(count)\n",
        "    \n",
        "    # обработка слова\n",
        "    if word == current_word:\n",
        "        current_count += count\n",
        "    else:\n",
        "        # вывод результата для предыдущего слова\n",
        "        if current_word:\n",
        "            print(f\"{current_word}\\t{current_count}\")\n",
        "        # обновление значения текущего слова\n",
        "        current_word = word\n",
        "        current_count = count\n",
        "\n",
        "# вывод результата для последнего слова\n",
        "if current_word:\n",
        "    print(f\"{current_word}\\t{current_count}\")\n",
        "\n",
        "\n",
        "\n",
        "\n"
      ],
      "metadata": {
        "id": "7pKIVGHhf-Ow"
      },
      "execution_count": null,
      "outputs": []
    },
    {
      "cell_type": "markdown",
      "source": [
        "## 4.1 Алгоритмы на MapReduce\n"
      ],
      "metadata": {
        "id": "rFurebZ7gCrH"
      }
    },
    {
      "cell_type": "markdown",
      "source": [
        "Напишите программу, которая реализует In-mapper combining v.1 для задачи WordCount в Hadoop Streaming.\n",
        "Sample Input:  \n",
        "  \n",
        "aut Caesar aut nihil  \n",
        "aut aut  \n",
        "de mortuis aut bene aut nihil  \n",
        "Sample Output:  \n",
        "  \n",
        "nihil\t1  \n",
        "aut\t2  \n",
        "Caesar\t1  \n",
        "aut\t2  \n",
        "nihil\t1  \n",
        "aut\t2  \n",
        "de\t1  \n",
        "bene\t1  \n",
        "mortuis\t1  \n",
        "Напишите программу. Тестируется через stdin → stdout  "
      ],
      "metadata": {
        "id": "PSjfKz-ojU8k"
      }
    },
    {
      "cell_type": "code",
      "source": [
        "import sys\n",
        "for line in sys.stdin:\n",
        "    d = {}\n",
        "    for i in line.split():\n",
        "        e = d.get(i)\n",
        "        if e == None:\n",
        "            t = 1\n",
        "        else:  \n",
        "            t += 1   \n",
        "        d.update({i:t})\n",
        "    for key, value in d.items():\n",
        "        print (f'{key}\\t{value}')"
      ],
      "metadata": {
        "id": "C4DfUH0zkDcx"
      },
      "execution_count": null,
      "outputs": []
    },
    {
      "cell_type": "markdown",
      "source": [
        "Напишите программу, которая реализует In-mapper combining v.2 для задачи WordCount в Hadoop Streaming.\n",
        "Sample Input:  \n",
        "  \n",
        "aut Caesar aut nihil  \n",
        "aut aut  \n",
        "de mortuis aut bene aut nihil  \n",
        "Sample Output:  \n",
        "  \n",
        "aut\t6  \n",
        "mortuis\t1  \n",
        "bene\t1  \n",
        "Caesar\t1  \n",
        "de\t1  \n",
        "nihil\t2  \n",
        "Напишите программу. Тестируется через stdin → stdout  "
      ],
      "metadata": {
        "id": "2Z12z6HTkJ4S"
      }
    },
    {
      "cell_type": "code",
      "source": [
        "# put your python code here\n",
        "\n",
        "#!/usr/bin/env python3\n",
        "\n",
        "import sys\n",
        "\n",
        "word_counts = {}\n",
        "\n",
        "for line in sys.stdin:\n",
        "    for word in line.strip().split():\n",
        "        if word in word_counts:\n",
        "            word_counts[word] += 1\n",
        "        else:\n",
        "            word_counts[word] = 1\n",
        "\n",
        "for word, count in word_counts.items():\n",
        "    print(f\"{word}\\t{count}\")\n",
        "\n",
        "\n",
        "\n"
      ],
      "metadata": {
        "id": "IHfsAIIqkVtP"
      },
      "execution_count": null,
      "outputs": []
    },
    {
      "cell_type": "markdown",
      "source": [
        "Реализуйте reducer в задаче подсчета среднего времени, проведенного пользователем на странице.  \n",
        "\n",
        "Mapper передает в reducer данные в виде key / value, где key - адрес страницы, value - число секунд, проведенных пользователем на данной странице.\n",
        "  \n",
        "Среднее время на выходе приведите к целому числу.  \n",
        "  \n",
        "Sample Input:  \n",
        "\n",
        "www.facebook.com\t100  \n",
        "www.google.com\t10  \n",
        "www.google.com\t5  \n",
        "www.google.com\t15  \n",
        "www.stepic.org\t60  \n",
        "www.stepic.org\t100  \n",
        "Sample Output:  \n",
        "  \n",
        "www.facebook.com\t100  \n",
        "www.google.com\t10  \n",
        "www.stepic.org\t80  \n",
        "Напишите программу. Тестируется через stdin → stdout  "
      ],
      "metadata": {
        "id": "hALNKNILkXfV"
      }
    },
    {
      "cell_type": "code",
      "source": [
        "# put your python code here\n",
        "import sys\n",
        "\n",
        "current_url = None\n",
        "total_time = 0\n",
        "count = 0\n",
        "\n",
        "for line in sys.stdin:\n",
        "    url, time = line.strip().split('\\t')\n",
        "    time = int(time)\n",
        "\n",
        "    if url != current_url:\n",
        "        if current_url:\n",
        "            avg_time = round(total_time / count)\n",
        "            print(f'{current_url}\\t{avg_time}')\n",
        "        current_url = url\n",
        "        total_time = 0\n",
        "        count = 0\n",
        "\n",
        "    total_time += time\n",
        "    count += 1\n",
        "\n",
        "if current_url:\n",
        "    avg_time = round(total_time / count)\n",
        "    print(f'{current_url}\\t{avg_time}')"
      ],
      "metadata": {
        "id": "spPTA6hlkg-l"
      },
      "execution_count": null,
      "outputs": []
    },
    {
      "cell_type": "markdown",
      "source": [
        "Реализуйте Combiner в задаче подсчета среднего времени, проведенного пользователем на странице.\n",
        "  \n",
        "Mapper пишет данные в виде key / value, где key - адрес страницы, value - пара чисел, разделенных \";\". Первое - число секунд, проведенных пользователем на данной странице, второе равно 1.\n",
        "  \n",
        "Sample Input:  \n",
        "  \n",
        "www.facebook.com\t100;1   \n",
        "www.google.com\t10;1  \n",
        "www.google.com\t5;1  \n",
        "www.google.com\t15;1  \n",
        "stepic.org\t60;1  \n",
        "stepic.org\t100;1  \n",
        "Sample Output:  \n",
        "  \n",
        "www.facebook.com\t100;1  \n",
        "www.google.com\t30;3  \n",
        "stepic.org\t160;2  \n",
        "Напишите программу. Тестируется через stdin → stdout  "
      ],
      "metadata": {
        "id": "zkzzgehGkkdk"
      }
    },
    {
      "cell_type": "code",
      "source": [
        "# put your python code here\n",
        "import sys\n",
        "\n",
        "current_key = None\n",
        "total_time = 0\n",
        "visits = 0\n",
        "\n",
        "for line in sys.stdin:\n",
        "    key, value = line.strip().split('\\t')\n",
        "    time, count = map(int, value.split(';'))\n",
        "    \n",
        "    if key != current_key:\n",
        "        if current_key:\n",
        "            print(current_key + '\\t' + str(total_time) + ';' + str(visits))\n",
        "        current_key = key\n",
        "        total_time = 0\n",
        "        visits = 0\n",
        "    \n",
        "    total_time += time\n",
        "    visits += count\n",
        "\n",
        "if current_key:\n",
        "    print(current_key + '\\t' + str(total_time) + ';' + str(visits))\n"
      ],
      "metadata": {
        "id": "UpmrqhKlktHO"
      },
      "execution_count": null,
      "outputs": []
    },
    {
      "cell_type": "markdown",
      "source": [
        "Реализуйте mapper из фазы 1 задачи Distinct Values v1. \n",
        "  \n",
        "Mapper принимает на вход строку, содержащую значение и через табуляцию список групп, разделенных запятой.\n",
        "  \n",
        "Sample Input:  \n",
        "  \n",
        "1\ta,b  \n",
        "2\ta,d,e  \n",
        "1\tb  \n",
        "3\ta,b  \n",
        "Sample Output:  \n",
        "  \n",
        "1,a\t1  \n",
        "1,b\t1  \n",
        "2,a\t1  \n",
        "2,d\t1  \n",
        "2,e\t1  \n",
        "1,b\t1  \n",
        "3,a\t1  \n",
        "3,b\t1  \n",
        "Напишите программу. Тестируется через stdin → stdout  "
      ],
      "metadata": {
        "id": "7_KmZZNskv_l"
      }
    },
    {
      "cell_type": "code",
      "source": [
        "import sys\n",
        "\n",
        "for line in sys.stdin:\n",
        "    value, groups = line.strip().split('\\t')\n",
        "    for group in groups.split(','):\n",
        "        print(f\"{value},{group}\\t1\")\n"
      ],
      "metadata": {
        "id": "tKxhuZO2pGne"
      },
      "execution_count": null,
      "outputs": []
    },
    {
      "cell_type": "markdown",
      "source": [
        "Реализуйте reducer из фазы 1 задачи Distinct Values v1.  \n",
        "  \n",
        "Reducer принимает на вход данные, созданные mapper из предыдущей шага.  \n",
        "  \n",
        "Sample Input:  \n",
        "  \n",
        "1,a\t1  \n",
        "1,b\t1  \n",
        "1,b\t1  \n",
        "2,a\t1  \n",
        "2,d\t1  \n",
        "2,e\t1  \n",
        "3,a\t1  \n",
        "3,b\t1  \n",
        "Sample Output:  \n",
        "  \n",
        "1,a  \n",
        "1,b  \n",
        "2,a  \n",
        "2,d  \n",
        "2,e  \n",
        "3,a  \n",
        "3,b  "
      ],
      "metadata": {
        "id": "uUO8p5nFpQog"
      }
    },
    {
      "cell_type": "code",
      "source": [
        "import sys\n",
        "\n",
        "last_word = None\n",
        "\n",
        "for line in sys.stdin:\n",
        "    word, _ = line.strip().split('\\t')\n",
        "    if word != last_word:\n",
        "        print(word)\n",
        "        last_word = word\n"
      ],
      "metadata": {
        "id": "-m1adDbFpcSR"
      },
      "execution_count": null,
      "outputs": []
    },
    {
      "cell_type": "markdown",
      "source": [
        "Реализуйте mapper из фазы 2 задачи Distinct Values v1.  \n",
        "  \n",
        "Mapper принимает на вход строку, содержащую значение и группу, разделенные запятой.  \n",
        "  \n",
        "Sample Input:  \n",
        "  \n",
        "1,a  \n",
        "2,a  \n",
        "3,a  \n",
        "1,b  \n",
        "3,b  \n",
        "2,d  \n",
        "2,e  \n",
        "Sample Output:  \n",
        "  \n",
        "a\t1  \n",
        "a\t1  \n",
        "a\t1  \n",
        "b\t1  \n",
        "b\t1  \n",
        "d\t1  \n",
        "e\t1  \n",
        "Напишите программу. Тестируется через stdin → stdout  "
      ],
      "metadata": {
        "id": "Eex6EyJkphWl"
      }
    },
    {
      "cell_type": "code",
      "source": [
        "# put your python code here\n",
        "import sys\n",
        "\n",
        "for line in sys.stdin:\n",
        "    value, group = line.strip().split(',')\n",
        "    print(f\"{group}\\t1\")"
      ],
      "metadata": {
        "id": "vSsy0EVvqKOQ"
      },
      "execution_count": null,
      "outputs": []
    },
    {
      "cell_type": "markdown",
      "source": [
        "Реализуйте reducer из задачи Distinct Values v2.  \n",
        "  \n",
        "Reducer принимает на вход строки, каждая из которых состоит из разделенных табуляцией значения и названия группы.  \n",
        "  \n",
        "Sample Input:  \n",
        "  \n",
        "1\ta  \n",
        "1\tb  \n",
        "1\tb  \n",
        "2\ta  \n",
        "2\td  \n",
        "2\te  \n",
        "3\ta  \n",
        "3\tb  \n",
        "Sample Output:  \n",
        "  \n",
        "a\t3  \n",
        "d\t1  \n",
        "b\t2  \n",
        "e\t1  \n",
        "Напишите программу. Тестируется через stdin → stdout  "
      ],
      "metadata": {
        "id": "_G6lXDILqLGr"
      }
    },
    {
      "cell_type": "code",
      "source": [
        "import sys\n",
        "from collections import defaultdict\n",
        "\n",
        "d = defaultdict(int)\n",
        "last = (None, None)\n",
        "\n",
        "for line in sys.stdin:\n",
        "    (val, key) = line.strip().split(\"\\t\")\n",
        "    if (val, key) != last:\n",
        "        d[key] += 1\n",
        "        last = (val, key)\n",
        "\n",
        "for key, val in d.items():\n",
        "    print(key, val, sep = \"\\t\")\n"
      ],
      "metadata": {
        "id": "z6I6dB-kySiL"
      },
      "execution_count": null,
      "outputs": []
    },
    {
      "cell_type": "markdown",
      "source": [
        "Реализуйте mapper для задачи Cross-Correlation, который для каждого кортежа создает все пары элементов, входящих в него.  \n",
        "  \n",
        "Mapper принимает на вход кортежи - строки, состоящие из объектов, разделенных пробелом.  \n",
        "  \n",
        "Mapper пишет данные в виде key / value, где key - пара объектов, разделенных запятой, value - единица.  \n",
        "   \n",
        "Sample Input:  \n",
        "  \n",
        "a b  \n",
        "a b a c  \n",
        "Sample Output:  \n",
        "  \n",
        "a,b\t1  \n",
        "b,a\t1  \n",
        "a,b\t1  \n",
        "a,c\t1  \n",
        "b,a\t1  \n",
        "b,a\t1  \n",
        "b,c\t1  \n",
        "a,b\t1  \n",
        "a,c\t1  \n",
        "c,a\t1  \n",
        "c,b\t1  \n",
        "c,a\t1  "
      ],
      "metadata": {
        "id": "bK4LuGe7zL9D"
      }
    },
    {
      "cell_type": "code",
      "source": [
        "import sys\n",
        "\n",
        "for line in sys.stdin:\n",
        "    words = line.strip().split()\n",
        "    for i in words:\n",
        "        for j in words:\n",
        "            if i != j:\n",
        "                print(i + ',' + j + '\\t' + '1')\n"
      ],
      "metadata": {
        "id": "FXuXhMWm1Uvv"
      },
      "execution_count": null,
      "outputs": []
    },
    {
      "cell_type": "markdown",
      "source": [
        "Реализуйте mapper для задачи Cross-Correlation, который для каждого объекта из кортежа создает stripe.  \n",
        "  \n",
        "Mapper принимает на вход кортежи - строки, состоящие из объектов, разделенных пробелом.  \n",
        "  \n",
        "Mapper пишет данные в виде key / value, где key - объект, value - соответствующий stripe (пример: a:1,b:2,c:3)  \n",
        "  \n",
        "Sample Input:  \n",
        "  \n",
        "a b   \n",
        "a b a c  \n",
        "Sample Output:  \n",
        "  \n",
        "a\tb:1  \n",
        "b\ta:1  \n",
        "a\tb:1,c:1  \n",
        "b\ta:2,c:1  \n",
        "a\tb:1,c:1  \n",
        "c\tb:1,a:2  "
      ],
      "metadata": {
        "id": "sjfeWuM41XrS"
      }
    },
    {
      "cell_type": "code",
      "source": [
        "import sys\n",
        "\n",
        "for line in sys.stdin:\n",
        "    words = line.strip().split(\" \")\n",
        "    for i in words:\n",
        "        stripe = {}\n",
        "        for j in words:\n",
        "            if i != j:\n",
        "                stripe[j] = stripe.get(j, 0) + 1\n",
        "        print(i, '\\t', ','.join([f'{key}:{val}' for key, val in stripe.items()]), sep='')\n"
      ],
      "metadata": {
        "id": "DEDqPw4a5LIN"
      },
      "execution_count": null,
      "outputs": []
    },
    {
      "cell_type": "markdown",
      "source": [
        "Дан файл с логами переходов пользователей. Каждая строка состоит из 3 полей: время перехода (unix timestamp), ID пользователя, URL, на который перешел пользователь.\n",
        "  \n",
        "Напишите mapper с помощью Hadoop Streaming, печатающий только те строки из файла, которые соответствуют пользователю user10.  \n",
        "  \n",
        "Sample Input:  \n",
        "  \n",
        "1448713968\tuser2\thttps://ru.wikipedia.org/  \n",
        "1448764519\tuser10\thttps://stepic.org/  \n",
        "1448713968\tuser5\thttp://google.com/  \n",
        "1448773411\tuser10\thttps://stepic.org/explore/courses  \n",
        "1448709864\tuser3\thttp://vk.com/  \n",
        "Sample Output:  \n",
        "  \n",
        "1448764519\tuser10\thttps://stepic.org/  \n",
        "1448773411\tuser10\thttps://stepic.org/explore/courses   "
      ],
      "metadata": {
        "id": "oiLVoo5G5Qyf"
      }
    },
    {
      "cell_type": "code",
      "source": [
        "# put your python code here\n",
        "#!/usr/bin/env python3\n",
        "\n",
        "import sys\n",
        "\n",
        "for line in sys.stdin:\n",
        "    fields = line.strip().split(\"\\t\")\n",
        "    if fields[1] == \"user10\":\n",
        "        print(line.strip())"
      ],
      "metadata": {
        "id": "t_ZDaia4_Hx3"
      },
      "execution_count": null,
      "outputs": []
    },
    {
      "cell_type": "markdown",
      "source": [
        "## 4.2 Реляционные функции"
      ],
      "metadata": {
        "id": "77byZbyT_KQd"
      }
    },
    {
      "cell_type": "markdown",
      "source": [
        "Дан файл с логами переходов пользователей. Каждая строка состоит из 3 полей: время перехода (unix timestamp), ID пользователя, URL, на который перешел пользователь.  \n",
        "  \n",
        "Напишите mapper с помощью Hadoop Streaming, печатающий только те строки из файла, которые соответствуют пользователю user10.  \n",
        "  \n",
        "Sample Input:  \n",
        "  \n",
        "1448713968\tuser2\thttps://ru.wikipedia.org/  \n",
        "1448764519\tuser10\thttps://stepic.org/  \n",
        "1448713968\tuser5\thttp://google.com/  \n",
        "1448773411\tuser10\thttps://stepic.org/explore/courses  \n",
        "1448709864\tuser3\thttp://vk.com/  \n"
      ],
      "metadata": {
        "id": "HqAauRhzVaZZ"
      }
    },
    {
      "cell_type": "code",
      "source": [
        "# put your python code here\n",
        "#!/usr/bin/env python3\n",
        "\n",
        "import sys\n",
        "\n",
        "for line in sys.stdin:\n",
        "    fields = line.strip().split(\"\\t\")\n",
        "    if fields[1] == \"user10\":\n",
        "        print(line.strip())\n"
      ],
      "metadata": {
        "id": "Cxz-SwKjVmEc"
      },
      "execution_count": null,
      "outputs": []
    },
    {
      "cell_type": "markdown",
      "source": [
        "Дан файл с логами переходов пользователей. Каждая строка состоит из 3 полей: время перехода (unix timestamp), ID пользователя, URL, на который перешел пользователь.  \n",
        "  \n",
        "Напишите mapper с помощью Hadoop Streaming, печатающий URL из каждой строки.  \n",
        "  \n",
        "Sample Input:  \n",
        "  \n",
        "1448713968\tuser2\thttps://ru.wikipedia.org/  \n",
        "1448764519\tuser10\thttps://stepic.org/  \n",
        "1448713968\tuser5\thttp://google.com/  \n",
        "1448773411\tuser10\thttps://stepic.org/explore/courses  \n",
        "1448709864\tuser3\thttp://vk.com/  "
      ],
      "metadata": {
        "id": "qkoGxKbhVoaH"
      }
    },
    {
      "cell_type": "code",
      "source": [
        "# put your python code here\n",
        "#!/usr/bin/env python3\n",
        "\n",
        "import sys\n",
        "\n",
        "for line in sys.stdin:\n",
        "    fields = line.strip().split(\"\\t\")\n",
        "    print(fields[2])"
      ],
      "metadata": {
        "id": "23ulz79TV1Mm"
      },
      "execution_count": null,
      "outputs": []
    },
    {
      "cell_type": "markdown",
      "source": [
        "Напишите reducer, который объединяет элементы из множества A и B. На вход в reducer приходят пары key / value, где key - элемент множества, value - маркер множества (A или B)  \n",
        "  \n",
        "Sample Input:  \n",
        "  \n",
        "1\tA  \n",
        "2\tA  \n",
        "2\tB  \n",
        "3\tB  \n",
        "Sample Output:  \n",
        "  \n",
        "1  \n",
        "2  \n",
        "3  "
      ],
      "metadata": {
        "id": "6DPKbh_4V5cq"
      }
    },
    {
      "cell_type": "code",
      "source": [
        "import sys\n",
        "a,b =set(),set()\n",
        "for line in sys.stdin:\n",
        "    id, key = line.strip().split(\"\\t\")\n",
        "    if key == \"A\":\n",
        "        a.add(id)\n",
        "    else:\n",
        "        b.add(id)  \n",
        "r = sorted(a|b)\n",
        "for i in r:\n",
        "    print (i)"
      ],
      "metadata": {
        "id": "OPUq8XH6WAvr"
      },
      "execution_count": null,
      "outputs": []
    },
    {
      "cell_type": "markdown",
      "source": [
        "Напишите reducer, который делает пересечение элементов из множества A и B. На вход в reducer приходят пары key / value, где key - элемент множества, value - маркер множества (A или B)  \n",
        "Sample Input:  \n",
        "  \n",
        "1\tA  \n",
        "2\tA  \n",
        "2\tB  \n",
        "3\tB  \n",
        "Sample Output:  \n",
        "  \n",
        "2  "
      ],
      "metadata": {
        "id": "YaNLJuSJWCv5"
      }
    },
    {
      "cell_type": "code",
      "source": [
        "import sys\n",
        "\n",
        "current_key = None\n",
        "current_set = set()\n",
        "\n",
        "for line in sys.stdin:\n",
        "    key, value = line.strip().split('\\t')\n",
        "    \n",
        "    if key == current_key:\n",
        "        current_set.add(value)\n",
        "    else:\n",
        "        if len(current_set) == 2:\n",
        "            print(current_key)\n",
        "        current_key = key\n",
        "        current_set = {value}\n",
        "\n",
        "if len(current_set) == 2:\n",
        "    print(current_key)\n"
      ],
      "metadata": {
        "id": "lABOwKNjWI5o"
      },
      "execution_count": null,
      "outputs": []
    },
    {
      "cell_type": "markdown",
      "source": [
        "Напишите reducer, который делает вычитание элементов множества B из множества A. На вход в reducer приходят пары key / value, где key - элемент множества, value - маркер множества (A или B)  \n",
        "Sample Input:  \n",
        "  \n",
        "1\tA  \n",
        "2\tA  \n",
        "2\tB  \n",
        "3\tB  \n",
        "Sample Output:  \n",
        "  \n",
        "1  "
      ],
      "metadata": {
        "id": "XSrtLVJpWSf1"
      }
    },
    {
      "cell_type": "code",
      "source": [
        "import sys\n",
        "\n",
        "def reducer():\n",
        "    input_data = sys.stdin.readlines()\n",
        "    set_a = set()\n",
        "    set_b = set()\n",
        "\n",
        "    for line in input_data:\n",
        "        key, value = line.strip().split('\\t')\n",
        "\n",
        "        if value == 'A':\n",
        "            set_a.add(int(key))\n",
        "        elif value == 'B':\n",
        "            set_b.add(int(key))\n",
        "\n",
        "    result = set_a - set_b\n",
        "\n",
        "    for item in sorted(result):\n",
        "        print(item)\n",
        "\n",
        "if __name__ == '__main__':\n",
        "    reducer()\n"
      ],
      "metadata": {
        "id": "fqgPm1D-Ws3P"
      },
      "execution_count": null,
      "outputs": []
    },
    {
      "cell_type": "markdown",
      "source": [
        "Напишите reducer, который реализует симметричную разность множеств A и B (т.е. оставляет только те элементы, которые есть только в одном из множеств).   \n",
        "На вход в reducer приходят пары key / value, где key - элемент множества, value - маркер множества (A или B)  \n",
        "Sample Input:  \n",
        "  \n",
        "1\tA  \n",
        "2\tA  \n",
        "2\tB  \n",
        "3\tB  \n",
        "Sample Output:  \n",
        "  \n",
        "1  \n",
        "3  "
      ],
      "metadata": {
        "id": "9pKKTS5jWuZg"
      }
    },
    {
      "cell_type": "code",
      "source": [
        "import sys\n",
        "\n",
        "def reducer():\n",
        "    input_data = sys.stdin.readlines()\n",
        "    set_a = set()\n",
        "    set_b = set()\n",
        "\n",
        "    for line in input_data:\n",
        "        key, value = line.strip().split('\\t')\n",
        "\n",
        "        if value == 'A':\n",
        "            set_a.add(key)\n",
        "        elif value == 'B':\n",
        "            set_b.add(key)\n",
        "\n",
        "    symmetric_difference = set_a.symmetric_difference(set_b)\n",
        "\n",
        "    for item in sorted(symmetric_difference, key=str.lower):\n",
        "        print(item)\n",
        "\n",
        "if __name__ == '__main__':\n",
        "    reducer()\n"
      ],
      "metadata": {
        "id": "DzW3gm0xXwbd"
      },
      "execution_count": null,
      "outputs": []
    },
    {
      "cell_type": "markdown",
      "source": [
        "Напишите reducer, реализующий объединение двух файлов (Join) по id  пользователя. Первый файл содержит 2 поля через табуляцию: id пользователя и запрос в поисковой системе. Второй файл содержит id пользователя и URL, на который перешел пользователь в поисковой системе.   \n",
        "  \n",
        "Mapper передает данные в reducer в виде key / value, где key - id пользователя, value состоит из 2 частей: маркер файла-источника (query или url) и запрос или URL.   \n",
        "  \n",
        "Каждая строка на выходе reducer должна содержать 3 поля, разделенных табуляцией: id пользователя, запрос, URL.  \n",
        "  \n",
        "Sample Input:  \n",
        "  \n",
        "user1\tquery:гугл  \n",
        "user1\turl:google.ru  \n",
        "user2\tquery:стэпик  \n",
        "user2\tquery:стэпик курсы  \n",
        "user2\turl:stepic.org  \n",
        "user2\turl:stepic.org/explore/courses  \n",
        "user3\tquery:вконтакте  \n",
        "Sample Output:  \n",
        "  \n",
        "user1\tгугл\tgoogle.ru  \n",
        "user2\tстэпик\tstepic.org  \n",
        "user2\tстэпик\tstepic.org/explore/courses    \n",
        "user2\tстэпик курсы\tstepic.org  \n",
        "user2\tстэпик курсы\tstepic.org/explore/courses  "
      ],
      "metadata": {
        "id": "u1QDfUXDXyHT"
      }
    },
    {
      "cell_type": "code",
      "source": [
        "# put your python code here\n",
        "import sys\n",
        "\n",
        "def reducer():\n",
        "    input_data = sys.stdin.readlines()\n",
        "    user_queries = {}\n",
        "    user_urls = {}\n",
        "\n",
        "    for line in input_data:\n",
        "        user_id, value = line.strip().split('\\t')\n",
        "        marker, content = value.split(':')\n",
        "\n",
        "        if marker == 'query':\n",
        "            if user_id in user_queries:\n",
        "                user_queries[user_id].append(content)\n",
        "            else:\n",
        "                user_queries[user_id] = [content]\n",
        "        elif marker == 'url':\n",
        "            if user_id in user_urls:\n",
        "                user_urls[user_id].append(content)\n",
        "            else:\n",
        "                user_urls[user_id] = [content]\n",
        "\n",
        "    for user_id in sorted(user_queries.keys()):\n",
        "        if user_id in user_urls:\n",
        "            for query in user_queries[user_id]:\n",
        "                for url in user_urls[user_id]:\n",
        "                    print(f\"{user_id}\\t{query}\\t{url}\")\n",
        "\n",
        "if __name__ == '__main__':\n",
        "    reducer()"
      ],
      "metadata": {
        "id": "1xdvz1kqYQ47"
      },
      "execution_count": null,
      "outputs": []
    },
    {
      "cell_type": "markdown",
      "source": [
        "## 4.3 Расчет TF-IDF\n"
      ],
      "metadata": {
        "id": "uWt6gsU6ebmn"
      }
    },
    {
      "cell_type": "markdown",
      "source": [
        "Реализуйте mapper первой mapreduce задачи для расчета TF-IDF с помощью Hadoop Streaming.  \n",
        "  \n",
        "Формат входных данных следующий: каждая строка содержит номер документа и строку из него, разделенные \":\". Ключ выходных данных является составным: он содержит слово документа и его номер, разделенные \"#\".   \n",
        "  \n",
        "Слово в документе - последовательность символов (букв или цифр), не содержащая пробельных символов и знаков пунктуации.  \n",
        "  \n",
        "Sample Input:  \n",
        "  \n",
        "1:aut Caesar aut nihil  \n",
        "1:aut aut  \n",
        "2:de mortuis aut bene aut nihil  "
      ],
      "metadata": {
        "id": "sJLhbnm1edfW"
      }
    },
    {
      "cell_type": "code",
      "source": [
        "# put your python code here\n",
        "import sys\n",
        "import re\n",
        "\n",
        "def mapper():\n",
        "    for line in sys.stdin:\n",
        "        doc_id, text = line.strip().split(':', 1)\n",
        "        words = re.findall(r'\\w+', text)\n",
        "\n",
        "        for word in words:\n",
        "            print(f\"{word}#{doc_id}\\t1\")\n",
        "\n",
        "if __name__ == '__main__':\n",
        "    mapper()"
      ],
      "metadata": {
        "id": "lkrMNXSFekMI"
      },
      "execution_count": null,
      "outputs": []
    },
    {
      "cell_type": "markdown",
      "source": [
        "Реализуйте reducer первой mapreduce задачи для расчета TF-IDF с помощью Hadoop Streaming.  \n",
        "   \n",
        "Ключ входных данных составной: он содержит слово и номер документа через \"#\".  \n",
        "  \n",
        "Ключом в выходных данных является слово, а значение состоит из двух элементов, разделенных табуляцией: номер документа и tf (сколько раз данное слово встретилось в данном документе).  \n",
        "  \n",
        "Sample Input:  \n",
        "  \n",
        "aut#1\t1  \n",
        "aut#1\t1  \n",
        "aut#1\t1  \n",
        "aut#1\t1  \n",
        "aut#2\t1  \n",
        "aut#2\t1  \n",
        "bene#2\t1  \n",
        "de#2\t1  \n",
        "mortuis#2\t1  \n",
        "nihil#1\t1  \n",
        "nihil#2\t1  \n",
        "Caesar#1\t1  "
      ],
      "metadata": {
        "id": "-JoAy4DKem3x"
      }
    },
    {
      "cell_type": "code",
      "source": [
        "import sys\n",
        "\n",
        "def reducer():\n",
        "    current_key = None\n",
        "    current_count = 0\n",
        "\n",
        "    for line in sys.stdin:\n",
        "        key, count = line.strip().split('\\t')\n",
        "        count = int(count)\n",
        "\n",
        "        if current_key and current_key != key:\n",
        "            word, doc_id = current_key.split('#')\n",
        "            print(f\"{word}\\t{doc_id}\\t{current_count}\")\n",
        "            current_count = 0\n",
        "\n",
        "        current_key = key\n",
        "        current_count += count\n",
        "\n",
        "    if current_key:\n",
        "        word, doc_id = current_key.split('#')\n",
        "        print(f\"{word}\\t{doc_id}\\t{current_count}\")\n",
        "\n",
        "if __name__ == '__main__':\n",
        "    reducer()\n"
      ],
      "metadata": {
        "id": "v4ZXtU3rev8g"
      },
      "execution_count": null,
      "outputs": []
    },
    {
      "cell_type": "markdown",
      "source": [
        "Реализуйте mapper ﻿второй mapreduce задачи для расчета TF-IDF с помощью Hadoop Streaming.  \n",
        "  \n",
        "Во входных данных ключом является слово, а значение состоит из номера документа и tf, разделенных табуляцией.  \n",
        "  \n",
        "Значение в выходных данных - это тройка: номер документа, tf и единица, разделенные \";\".  \n",
        "  \n",
        "Sample Input:  \n",
        "   \n",
        "aut\t1\t4  \n",
        "aut\t2\t2  \n",
        "bene\t2\t1  \n",
        "de\t2\t1  \n",
        "mortuis\t2\t1  \n",
        "nihil\t1\t1  \n",
        "nihil\t2\t1  \n",
        "Caesar\t1\t1  \n",
        "Sample Output:  \n",
        "  \n",
        "aut\t1;4;1  \n",
        "aut\t2;2;1  \n",
        "bene\t2;1;1  \n",
        "de\t2;1;1  \n",
        "mortuis\t2;1;1  \n",
        "nihil\t1;1;1  \n",
        "nihil\t2;1;1  \n",
        "Caesar\t1;1;1  "
      ],
      "metadata": {
        "id": "7fqohywVe9xP"
      }
    },
    {
      "cell_type": "code",
      "source": [
        "import sys\n",
        "\n",
        "def mapper():\n",
        "    for line in sys.stdin:\n",
        "        word, doc_id, tf = line.strip().split('\\t')\n",
        "        print(f\"{word}\\t{doc_id};{tf};1\")\n",
        "\n",
        "if __name__ == '__main__':\n",
        "    mapper()\n"
      ],
      "metadata": {
        "id": "uomuKc83fI_p"
      },
      "execution_count": null,
      "outputs": []
    },
    {
      "cell_type": "markdown",
      "source": [
        "Реализуйте reducer второй mapreduce задачи для расчета TF-IDF с помощью Hadoop Streaming.  \n",
        "  \n",
        "Входные данные: ключ - слово, значение - тройка: номер документа, tf слова в документе и 1 (разделены ';').  \n",
        "  \n",
        "Выходные данные: ключ - пара: слово, номер документа (разделены '#'), значение - пара: tf слова в документе, n - количество документов с данным словом (разделены табуляцией).  \n",
        "  \n",
        "Sample Input:  \n",
        "  \n",
        "aut\t1;4;1  \n",
        "aut\t2;2;1  \n",
        "bene\t2;1;1  \n",
        "de\t2;1;1  \n",
        "mortuis\t2;1;1  \n",
        "nihil\t1;1;1  \n",
        "nihil\t2;1;1  \n",
        "Caesar\t1;1;1  "
      ],
      "metadata": {
        "id": "1ECxf_OpfRoD"
      }
    },
    {
      "cell_type": "code",
      "source": [
        "import sys\n",
        "import re\n",
        "t,k = [],[]\n",
        "for line in sys.stdin:\n",
        "    text = re.compile('\\w+').findall(line)\n",
        "    k.append(text[:1])\n",
        "    t.append(text[:3])\n",
        "for i in range(len(t)):\n",
        "    print(t[i][0]+'#'+t[i][1] +'\\t'+ t[i][2]+'\\t' + str(k.count(k[i])))"
      ],
      "metadata": {
        "id": "rEY1MBV_fmES"
      },
      "execution_count": null,
      "outputs": []
    },
    {
      "cell_type": "markdown",
      "source": [
        "## 5.2 Поиск кратчайшего пути в графе\n"
      ],
      "metadata": {
        "id": "-h-SSHOigPTK"
      }
    },
    {
      "cell_type": "markdown",
      "source": [
        "Реализуйте алгоритм Дейкстры поиска кратчайшего пути в графе.  \n",
        "  \n",
        "Входные данные: В первой строке указаны два числа: число вершин и число ребер графа. Далее идут строки с описанием ребер. Их количество равно числу ребер. В каждой строке указаны 3 числа: исходящая вершина, входящая вершина, вес ребра. В последней строке указаны 2 номера вершины: начальная и конечная вершина, кратчайший путь между которыми нужно найти.  \n",
        "  \n",
        "Выходные данные: минимальное расстояние между заданными вершинами. Если пути нет, то нужно вернуть -1.  \n",
        "  \n",
        "Пример:  ![graph_q8.png](data:image/png;base64,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)\n",
        "  \n",
        "Sample Input:  \n",
        "  \n",
        "4 8  \n",
        "1 2 6  \n",
        "1 3 2  \n",
        "1 4 10  \n",
        "2 4 4  \n",
        "3 1 5  \n",
        "3 2 3  \n",
        "3 4 8  \n",
        "4 2 1  \n",
        "1 4 \n",
        "Sample Output:  \n",
        "  \n",
        "9  "
      ],
      "metadata": {
        "id": "uqwOFx9LevDS"
      }
    },
    {
      "cell_type": "code",
      "source": [
        "import heapq\n",
        "from collections import defaultdict\n",
        "\n",
        "def dijkstra(graph, start, end):\n",
        "    queue = [(0, start)]\n",
        "    distances = {start: 0}\n",
        "    visited = set()\n",
        "\n",
        "    while queue:\n",
        "        (dist, current) = heapq.heappop(queue)\n",
        "        if current in visited:\n",
        "            continue\n",
        "        visited.add(current)\n",
        "\n",
        "        if current == end:\n",
        "            return dist\n",
        "\n",
        "        for neighbor, weight in graph[current]:\n",
        "            old_distance = distances.get(neighbor, float('inf'))\n",
        "            new_distance = dist + weight\n",
        "            if new_distance < old_distance:\n",
        "                distances[neighbor] = new_distance\n",
        "                heapq.heappush(queue, (new_distance, neighbor))\n",
        "\n",
        "    return -1\n",
        "\n",
        "def main():\n",
        "    vertices, edges = map(int, input().split())\n",
        "    graph = defaultdict(list)\n",
        "\n",
        "    for _ in range(edges):\n",
        "        u, v, w = map(int, input().split())\n",
        "        graph[u].append((v, w))\n",
        "\n",
        "    start, end = map(int, input().split())\n",
        "\n",
        "    result = dijkstra(graph, start, end)\n",
        "    print(result)\n",
        "\n",
        "if __name__ == \"__main__\":\n",
        "    main()\n"
      ],
      "metadata": {
        "id": "Ptx3pGCU0ltd"
      },
      "execution_count": null,
      "outputs": []
    },
    {
      "cell_type": "markdown",
      "source": [
        "Реализуйте mapper в задаче поиска кратчайшего пути с помощью Hadoop Streaming.  \n",
        "  \n",
        "Входные и выходные данные: в качестве ключа идет номер вершины, значение состоит из двух полей, разделенных табуляцией:  \n",
        "  \n",
        "Минимальное расстояние до данной вершины (если его еще нет, то пишется INF)   \n",
        "Список исходящих вершин (через \",\" в фигурных скобках)   \n",
        "  \n",
        "Пример работы mapper на второй итерации обработки следующего графа:  \n",
        "![graph_q9.png](data:image/png;base64,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)\n",
        "\n",
        "Sample Input:  \n",
        "  \n",
        "1\t0\t{2,3,4}  \n",
        "2\t1\t{5,6}  \n",
        "3\t1\t{}  \n",
        "4\t1\t{7,8}  \n",
        "5\tINF\t{9,10}  \n",
        "6\tINF\t{}  \n",
        "7\tINF\t{}  \n",
        "8\tINF\t{}  \n",
        "9\tINF\t{}  \n",
        "10\tINF\t{}  \n",
        "Sample Output:  \n",
        "  \n",
        "1\t0\t{2,3,4}  \n",
        "2\t1\t{}  \n",
        "3\t1\t{}  \n",
        "4\t1\t{}  \n",
        "2\t1\t{5,6}  \n",
        "5\t2\t{}  \n",
        "6\t2\t{}  \n",
        "3\t1\t{}  \n",
        "4\t1\t{7,8}  \n",
        "7\t2\t{}  \n",
        "8\t2\t{}  \n",
        "5\tINF\t{9,10}  \n",
        "9\tINF\t{}  \n",
        "10\tINF\t{}  \n",
        "6\tINF\t{}  \n",
        "7\tINF\t{}  \n",
        "8\tINF\t{}  \n",
        "9\tINF\t{}  \n",
        "10\tINF\t{}  "
      ],
      "metadata": {
        "id": "Sam4LlJ702zq"
      }
    },
    {
      "cell_type": "code",
      "source": [
        "import sys\n",
        "\n",
        "def mapper():\n",
        "    for line in sys.stdin:\n",
        "        # Разделение входных данных на номер вершины, минимальное расстояние и список исходящих вершин\n",
        "        node, distance, edges = line.strip().split('\\t')\n",
        "\n",
        "        # Разделение списка исходящих вершин\n",
        "        edges = edges.strip('{}').split(',') if edges.strip('{}') else []\n",
        "\n",
        "        # Вывод текущей вершины и ее значения без изменений\n",
        "        print(f\"{node}\\t{distance}\\t{{{''.join([',' + edge for edge in edges]).strip(',')}}}\")\n",
        "\n",
        "        # Обновление минимального расстояния для каждой исходящей вершины и вывод их значений\n",
        "        for edge in edges:\n",
        "            new_distance = 'INF' if distance == 'INF' else str(int(distance) + 1)\n",
        "            print(f\"{edge}\\t{new_distance}\\t{{}}\")\n",
        "\n",
        "if __name__ == '__main__':\n",
        "    mapper()\n"
      ],
      "metadata": {
        "id": "B9Mb479K1Tt2"
      },
      "execution_count": null,
      "outputs": []
    },
    {
      "cell_type": "markdown",
      "source": [
        "Реализуйте reducer в задаче поиска кратчайшего пути с помощью Hadoop Streaming.  \n",
        "  \n",
        "Входные и выходные данные: в качестве ключа идет номер вершины, значение состоит из двух полей, разделенных табуляцией:  \n",
        "  \n",
        "Минимальное расстояние до данной вершины (если его еще нет, то пишется INF)  \n",
        "Список исходящих вершин (через \",\" в фигурных скобках).    \n",
        "Пример работы reducer на второй итерации обработки следующего графа:  \n",
        "![graph_q9 (1).png](data:image/png;base64,iVBORw0KGgoAAAANSUhEUgAAAkYAAAF7CAIAAAC4s9PVAAAAAXNSR0IArs4c6QAAAARnQU1BAACxjwv8YQUAAAAJcEhZcwAADsMAAA7DAcdvqGQAADuMSURBVHhe7Z39U1VXuufnz+o73DBlOWbuaGZMMteJ15S22BoyYlsabmkzFzpGfEmkPaId7CuSIlwZAV/gWhglogjqRURJohRqY3zpUKKWSqiIUWJ19XzhWSw367ztvc8+5+yX76eeHzgb9l6HtdZe3/Wsl2f9p78RQgghoYCSRgghJCRQ0gghhIQEShohhJCQQEkjhBASEihphBBCQgIljRBCSEigpBFCCAkJlDRCCCEhgZJGCCEkJFDSCCGEhARKGiGEkJBASSOEEBISKGmEEEJCAiWNEEJISKCkEUIICQmUNEIIISGBkkYIISQkUNIIIYSEBEoaIYSQkEBJI4QQEhIoaYQQQkICJY0QQkhIoKQRQggJCZQ0QgghIYGSRgghJCRQ0gghhIQEShohhJCQQEkjhBASEihphBBCQgIljZCocG/0aUN73/7WC9WNXau3NYtV1p7AFdjgrfvq7wgJLJQ0QkLOwPUfoGHvrN/3q6U7UtuCNTVQuJ4rw+pOQoIGJY2Q0AK3DH6YVqzClbuWbG9ZVdNeerC7/NglsbKjvbiytOrI3JIa/ZfLyr+EEKqnEBIcKGmEhJBnz1/CM9NKVhRrg3r9ceB2att8cgDyprVtY3Xb6ONx9URCggAljZCwMXzv0YI1SpYgZrHem4Z0pbWSug4I4ZQcrogdPzeonkuI76GkERIqTl28Dh2CGs0vrd16+jtDq+wbhHDxlibRxb0tPerphPgbShoh4aGhvU9ECGpU3T9sqJQL+3DfCXlgZe0JlQYhPoaSRkhIgH8m8rOqpt1Qpkys9GB3wfKdeCx9NeJ/KGmEhIHBW/dlvBF+laFJmVvZ0V4RS6imSo8QX0JJIyTwPBmfkG1ni7c0GWrklckIJFSTO7KJn6GkERJ4ZL3+Wxu+8GT+LJnJapFl5V+qVAnxH5Q0QoLN8L1HUBrY5pMDhgh5a9DLOcV7kBDDixDfQkkjJNhsrG6DzCza1GgokC0bGnuKR4w9NK8nsZK6DjpqxM9Q0ggJMPdGn0JjCpbv/PTsNUN+bNjI5RfTT7EtaXTUiM+hpBESYPa3XoDALNneYmiPDZvRM2Bb0mDiqME1VPcS4icoaYQEmJWfNE4JzKHzhvCks4ffqwdM40TS4A4ixcIVsclfXqnbCfENlDRCgsqT8QmoS8HynY4WOjY9mFT3a5xIGmx+aS3SvXj1jrqdEN9ASSMkqLSe+RbS8m5FgyE5yc0y2Pi3yctDjufSxFbVtCPd6sau6ZsJ8RGUNEKCikykldR1GJKT3AwNcylp5ccuIV1OpxEfQkkjJKhU1k5F9Cg92G1ITnIbuTw21mT96ErStp7+Dumu/KRx+mZCfAQljZCgsq7qMKTFztmeScylpMV6byLdBWtqpm8mxEdQ0ggJKsvKv4S0uNqRJuZS0mASm3/6ZkJ8BCWNkKDy3oa6fEmabLievpkQH0FJIySorN7WDF35+Hi/oTe2zb2kId15xbunbybER1DSCAkqsjzE+T5rbS4lTXZbw0ecvpkQH0FJIySo7G3pgbSsre80JMe2uZQ0WcQPH3H6ZkJ8BCWNkKDS0N4HaXEV4FHMpaRBRJEufMTpmwnxEZQ0QoKKnJQ2p3iPITm2zaWkLSyrR7rHzw1O30yIj6CkERJg3lm/D+ridoWIG0mL9d6UFfxPxiembybER1DSCAkwn9Wfgrqsqmk3hMeeuZG00oPdSJGhQ4g/oaQREmAuXr0DgZlTvMdRMP4ZcyNpEoa/ob1v+k5C/AUljZBgIzFEnAQv1uZY0jYeOo+0ClfEOOpI/AkljZBg03NleEpmVu7acX7IUKB05ljSxEVr7rg8fRshvoOSRkjgEUdtadURQ4G8NVm7v2BNDc+zJr6FkkZI4Bm4/kPhihj0Zv2BLkOHvLKPj/cXFE0tdOTafeJnKGmEhAE54bpg+c4MQj4mtR3nhyROMU+yJj6HkkZISPis/lTBb/74X9d9sfnkgKFJmVis96ZMoS2rbBv7SSbfCPEplDRCwsDEi1d1X/95/u87/+FfThSu2p1BLONZtvX0d3NLaqBnC//5AB7+/o6eK8NPVJKE+A9KGiGBp/vaA4gNJEdszm8PQIRcLeufZWVHewtX7sKjlpb/2z992q2fH2sbgoKqtAnxE5Q0QgLMyOOJigPfaLGB4eP2+jPQoSnXqqze3SAknLNFmxrlIeuqDj97/vLQubtvbz6jU6G7RvwJJY2QQDL56q/1nbeSyQx+kvCPsMVbmsqPXTJEK5lBAotibXLjvOLd+1svyAMB5PN39Vd0cjC6a8RvUNIICR6QLutII4QN8gaRU7+eZvKXVw3tfZAl0afClbuWbG8pPdgd77d9evZa2dHepVVHZNpMrLqxK2GIkM5v7i/adlYnTXeN+ApKGiFB4uGPP8ePNMJ/Ur+OA7K0t6VHe2xWe2vDFxJT32oL1tRU1p4YfTwutydk7Nmk8R3orhGfQEkjJBjACYuf0Oq+9kD9Oh33Rp/CaVu9rRkm+7Ln/PaAmFyEWzZ46776axvQXSM+hJJGSACAWnywp1frB6y+81aGjpF+lPrsHLprxG9Q0gjxNZCNzw4PWmXjo9r+2w9+Ur/OAP1A9dkt8e5a7/VH6neE5BZKGiH+5dC5u1a1wM/QD/W7jNGPVZ8zIN5dw0dcVL8mJFdQ0gjxIzdGxo2Rxs/bb3g7pqefrD5njOGueSvAhNiBkkaIv4BzE2sb0sIAW7O3Dwqnfu0d+vnqsxfED5PSXSO5hJJGiI/4qn/EcHTaev+ifuc1OhX12TuMbXN010jOoKQR4gvgh31U269lAAZ3J6v+jU5IffaUiRevDF+T7hrJAZQ0QvIMWv/ak1NB9LV9sKf32t0x9eusoZNTn7MA3TWSYyhphOQTNPHWRv/tzWcOnbtrhLbKEjpR9Tk70F0juYSSRkh+iI8CnOO2XqerPmcTumskN1DSCMk1cFzqO2/p9h1WFLuQ+2hSOnX1OcvQXSM5gJJGSE7pvf7IGGmMD6KfG/R3UJ9zguGuyUCr+h0hGUNJIyRHJDyuM0UQ/Wyjv4b6nCvindSPavvzmA8kTFDSCMk6cMIau24bQfTzHghRfxn1ObcY4VHorhFPoKQRkl2uDD8pil3QbTcs8yD6nqC/j/qcc6D0dNeIt1DSCMkWY88mK5uu+rbJ1t9Kfc4TdNeIh1DSCMkKaJeNkUa/LVvX3019zh9014hXUNII8Zhrd8eyHUTfE/TXU5/zDd01kjmUNEI8YyzRcZ3ZCKLvCfpLqs8+gO4ayRBKGiHe0Nb7l5wF0fcE/VXVZ99Ad424hpJGSKagCV6zt083wbBY25D/42Lob6s++wxjMtLP/i7xD5Q0Qtwz8eLV5+03dLMLg3uRgyD6nqC/s/rsP0YeT0DJ9PeE1ecp0goJCpQ0QlzS+c1960hj4MbH9DdXn/2K4a6h00B3jSSDkkaIY24/+MnwHiqbrgYuAq/+8uqzj6G7RmxCSSPEARNxx3XmJYi+J+h/QX32PXTXSFooaYTYpfvaAyOKfGPX7eD6CvofUZ+DAN01khpKGiHpQUsaf1znwx9/Vr8OJvp/UZ+DA901kgxKGiGpkM2/1gbUD0H0PUH/R+pzoEAnwziph+4aAZQ0QpJinFcZsnZT/1PqcwAxFp3SXSOUNEIS8PDHnw0n4Hf1V+AZqF+HAv2vqc/BZOzZZLy75sOImiQ3UNIImQWcMGOqxodB9D1B/4Pqc5Ax3DUUWUCXoZIMoaQR8hq0gx/MDqJfe/LPYe3y6/9RfQ448e5arG2I7lrUoKQRMgUaxPjjOsM9MaP/U/U5FNBdiziUNEKmFoVb20H8/FX/iPpdeNH/r/ocFuiuRRlKGok08MOMkcZABNH3BP0vq8/hgu5aNKGkkYgC3YJ66SYPFrUl4PofV59DR3wR010LPZQ0EkW+6h8xRhoPRe+QSf3vq88hxdhcSHct3FDSSLSAHxaCIPqeoHNAfQ4v8MzorkUEShqJCmjCjCD6H+zpjXKHXeeD+hx26K5FAUoa8QvPnr88fm5wf+sF2Lqqw6u3NYvJldYz344+dj/R1fnNfWtz9vb0cZ0RDwmoc0N9jgDx7pprH/3e6NOG9j7UzOrGLl1XK2tPSHUdvBXCvfmBgJJG8gyEqrnjMpqDXy3dkdaWlX+5t6UHrYm62Qbxx5FUBD+IvifoDFGfI4Phri3adtZ+dJiB6z9Aw95Zv8+omfG2YE0NFA6eoLqT5ARKGskbcMugT4UrYroVWFhWv6qmvaSuo/zYJW1r6ztxcdGmxoLlO/VfVtS0PxlPE3ERXfL6zlu65YJxrMmKzhb1OUrEu2vo6KR219CRsna8ClfuWrK9BTWz9GC3rqtlR3txZWnVkbklNfov0Q+DEKqnkCxDSSP5AZ4ZurF44QuKdi7e0oR2IdZ7848Dt1NYdf/wxkPn0V6gNZlqU1bE9rdegC6qJ86m9/ojY6QxTEH0PUFnjvocPWy6a6hj8MxEn1D3imJtUC+jcsbb5pMDkDetbRur2zIZOSc2oaSRXAPvCv1Wec/he3169prRFqQ1iB+aFXkCdNGYt4g/SSt8QfQ9QeeP+hxJ0MsxXHnDXRu+90j6XjDUurQdr3grqevQnbDj5wbVc0l2oKSRnKIbCPRe7XR1U9jW09+9teELaSlOXbyOh6N5auy6bQTR7772QJImBjqX1OcIYwSR0e4a6pUMjM8vrUV9M2qgfYMQLt7ShOfA9rb0SKIkG1DSSO7ouTIsDQSkaMf5IeO1d2HV/cO6pdjy5bmi2AXdKsFCHETfE3RGqc/RJt5dWxHr+s/Lp7wr1DHUNKPuubAP952QulpZe0KlSryGkkZyxOCt+6JnXjUQ2krqOv7u1zv/4V9O6Mboo9r+2w9+UgmTJOjsUp9JnLs296OpBSBGfcvESg92yyon+mpZgpJGcsHo43EZb4SeGS+5J7a2vrPww1q0Qe9UnolCEH1P0A23+kymgbu249C3yJb/Xt6x6k8njZqWuZUd7RVfTUbLibdQ0kjWmfzllawHeWvDF976Z1YrirXNWdPw5v/53NGutShDSUvIk/GJd9bv+/tVNf9r81GjjnllMgJZuCLGHdmeQ0kjWae54zJe4LklNZ7Mn6WwdysakNC6qsMqYZISSlpCZL1+VrtfMJkDRldPpUo8gpJGsgv6vDLkuPnkgPFWe26QTJmoYMgGO1DS4hm+9wj1JwfVFXo5p3gP66rnUNJIdpE+76JNjcYrnSWTIR12fu1ASYtnY/XUfsfcVNeSug7WVc+hpJEsMvp4vHBFDJ6TkyHHh9+ruzUTX5t/k9TY+bUPJc3g3uhT1BxUVxfb/2FND2SDtt3qyrqaDShpJIvsb72AN3bJ9hbjZU5mX4+pGxMw9tD442QmnV90t9WNJAmUNAOn1XWWDY3NrEpy0ANjXfUcShrJIis/aZx6Yw+dN97khDbTyU3K0wcjxi0JDV1sJArvcPIX7rNOBSXNwFF1nW0jl1+ohziSNNZVz6GkkWzxZHwCr2vB8p22Vo697uQaDpmbxmJ+aS2Svnj1jrqPJIKSZsVZdZ1ts0cXHEgajHXVWyhpJFu0nvkW7+q7FQ3GO5zQtIuWyBV7rWrf3zF+ldhW1bQj6erGLnUbSQQlzYqj6jrL7kxHxH4xdlkJmzNJY131FkoayRYyM1FS12G8wwltpp+bpDmQVsP22GP5sUtImlMUqaGkWXFUXS0mq5kmLw+lq8NJjHXVWyhpJFtU1k6tpy892G28w25sZljSppe29fR3SHrlJ43TN5HEUNKsuKquavxAqqU7SWNd9RZKGskW66oO413N8AQZZcpLm+oLm79KZLHem0h6wZqa6btIYihpVlxUVzVaPjP1607SWFe9hZJGsoXEdXS3xWe2zcyl2V7HD5MwItO3kcRQ0qw4rq5q5OC1gLmTNBjrqodQ0ki2eG9DnSeSNrNyxK6LJiabWKdvJImhpFlxWF1VQADrSLhrSWNd9RBKGskWq7c140X9+Hi/8QI7s5mFITZn0bQh6XnFu+VekhBKmhVH1VXUy1is5FrSWFc9hJJGsoXMt7vauDpjbvVMdrCi3y23k4RQ0qw4qK4zq/abZl93J2msq95CSSPZYm9LD97VtfWdxjts09yNN4rJwmj0u6efQBJDSbNit7qqKbQE1dKdpLGuegsljWSLhvY+vKvuIua5HsMRQ8OEpNHvlqeQhFDSrNisrmnDtr3G3mom1lVvoaSRbCFHT80p3mO8w+lsJhJ/3MCOfVtYVo+kj58blCeRhFDSrNisrp5LGuuqt1DSSBZ5Z/0+vK5OVojM6JmT9fqGxXpvyqroJ+NqKo4khJJmYKe6eitprKueQ0kjWeSz+lN4XVfVtBtvchLzQM9gpQe7kSjDMaSFkmbgsLqa5mK0nHXVcyhpJItcvHoHb+yc4j02opu72U+d0CS0eUN73/TjSFIoaQZOqmsCcyFprKueQ0kj2UXiDKWNBmtzPCdt2OKNh84juQVrajiSkxZKWjwSQ8R58OIpcyppUlcLV8RYVz2Ekkayi8y6FyzfueP8kPFKW8x6KFoqUksaOtfS7W3uuKxuIBbujT6FQ7C/9UJ1Y9fqbc1a0nAFNnjrvvq7CNNzZXhKZlbuSlldE5tTSWNdzQaUNJJ1ZIpi0aZG45V+bdbzP1OSWtI+3De1WxYuGs8ItjJw/QdomKx9sNqc3x4Q01eQdZW1J9CsqzsjiThqS6uOGLUrrTmSNFm7z7rqOZQ0knWejE/MK96NF/g3u48ZL7aHVna0V9rliLfIViBmKz9plGyBwflYsr1lVU176cHu8mOXxJBvuIIWfG5Jjf5L6N+pi9fVUyIGMq1wRQyZsP5Al1HHvLKPj/cXFE0tdOTafc+hpJFcIOM5MG+OT4uzrae/Q3uN5/N0YOHe6NON1W2S58iZolgb1MvItHjbfHIA8qa1Df7Kxat31BOjhJxwXbB8Z6YRShPZjvNDEqeYdTUbUNJIjmho7/u7X+9EMwG3wHjJMzTombTC66oOq8SiDToQ4hYjt+EZx3pvGjmW1krqOqTZhe1vvaCeGyVktBz1CjJvZE4mhrKQKbQPt7VwyDEbUNJIjuj85v7/2HTqjQ/+Fe+zuxVlCQ3Oh/hni8ubf73z/LW7akIjskCBkBuwdysaXKxx0IbGF3Ioj6qoaY9a+3tz5Me3ft/xRvE+1K6MQm9bTPe9Fv7zgX/c2oU3QiVGvIOSRnLBwx9/fnvzGVlfV/jhVC91adURd7t/rCbrQWDvb/53efgHe3onX/1VpRo9oD2SIa73CxtWerBbwlssK/8yUqq2Zm+f1ChZPpN5J6zsaK/0vd4rb5En443Ae6HSIx5BSSNZBxrzUW2/vMZFsQutXddk+n1O8R7XcfrRQMgADqy6sWvs2eSibWclicau2yrhiCH+GRTI2wnLzScHZBByY3WbSinstPX+ReoSVGd7/RmpZgvL6t0NQsI5W7RJLdJZV3X40dgE3gJ5Pt6LKPfAsgEljWSd2pN/lhcYdmNkHFcGrv8gS6Vhb679E5pg+/M9Gw+dl0ivsAVravTCvK/6RyQJNEMjjyO3d1UvwPFqlMxqaJTFV9vb0qPSCy/oHukRhUPn7uIK8lZvgVi8pcnOQhsxSGBRTC3SmVe8W89K4i2Q58PwdshF4gmUNJJdrt0d02+v4T8dPzcITZIXHvZuRUNJXQfai/gBSVxcf6ALXV1pWHUDYQyFaV/wd/VX1KVocG/0qTi+Xo03xpuEuoCFfo9EZdNVqUVr9vZpFwo1raG9TxbdwAqnt0OgKxbvt3169lrZ0V5jU0R1Y5cRIgTvgqQC4wSwh1DSSBZBh/f9HT3y3iaUGbQUrWe+te6d0janeA8cOOMi7L0NdRCzhDGEbj/4SfevIzX3Luv1U21m98Kgl0gl3LuDe68/kvoDkxEFK6h18FPjN63D3trwhe5vaZOt66OPzecIeCMkIbwjeFPUVZIZlDSSRey/tM+ev4TTVlHTvnpbM0TLaBdwcV3VYYhfstZBowc5o9NMyJAj2tNM1jfaMXjP0skIawwn+GS6B/Z5+w11NRESWgzVEib+sTa5CLcsbYCxtB0+4gJKGskWeo4dhs6vuppl7LdKoUFmJZ1EZpk5xEcxeXnI+IOkJsOP6GSEMtJufectqTk56w9ZnUK8L+oqyQBKGskKN0bG9RhgjifAU48dhQyn56HMxCGMw/YZ4mE9DyVfo9Z6XAGph7665gBKGvEeuEp6mbJ1jj1nJJzhDyWOTq1Mc4KPvZPqSkN6amW+1hahfuo9cHhrwl1dcwAljXhPrG1IXlF0PPOynn4sbh12WJElo/ZCEb4eb/z+juX6HV1AtkYg4Q7KOogwjT3mdwcIUtTVFe+OukpcQUkjHtP5zX15OWF5XHZo3S0b1hgNg7fuQ1rmFO8xVCexKelKpFszqpb2hFWxdysakG5oosijA5T3ffo+eWtCACWNeIk18NVnh/Pc5OnxnIoD36hL4aKhvQ/S4uJkrzibceDsjT3KWV+VtSfkpqCDiir1JL/R1PTXCHEnLAdQ0ohnoDmwBr6aeJHn3Uu3H/wkXwbWfe2Buhoiqhu7IC2ug4pZTEmaTS/t4+P9SHf1tubpm4LNleEnupLkd8sz3hcGysocShrxDB+u3fq8/YZ8pfd39ISvjZAgxR5EwEoxJpnIPj17Dem+t6Fu+q4AgyoBz0xqSN4HFUAe1wmHBkoa8QZr4Cv/rMhAz1dvUwtfGwE/CdKS4YFeelm/TRdNDOnOK96t7gwsOirVom1nfbIxH++OfCUYA2W5gJJGPMDPcRC6rz3QbcTtBz+pq6FAIjPBZzL0xo7NXtDvYLe1mMTmV3cHE+s6w6/6R9RVH8BAWZlASSMe4POXsOLAN/L11uwN1QZhiY259fR3ht7YsQR7ru2tDRGTdfzqxmCiK+1Htf3qkj/wcwfR/1DSSKZYh0quDD9RV/2EdR1mmMIOSbRi+2edJDW9Nc2equ04P4R04SOquwKIXjSPiuFD3926aIWBshxBSSMZEZQJba27+LahGcyR0CHrD3QZkuPGZlRt1i7sJLb55ADSDe6KR6sbVN95S131GQyU5Q5KGnFPgJYd47vpbWqVTVfV1YAjx1g7CVicwhxsTSs72ot0K2ra5Y7AoaPb+DkAFb6Yr7bEBAVKGnFP3gNfOcK6JjNnJwNkFTlWZn5prSE5rmzk8ovph9qQtCXbW5CuPqM5WMDjCUo1YKAsF1DSiEuCGMInEN1z+0z+8koO67Kz6HFmPcjE13G/mjYHXposdxy+F7xuQeCcdQbKcgoljbghoP3HQEyiOEJWiNgJIKJX7Sfcf5b6t1YrP3YJKQZ0bUgQp1SDNRaSdyhpxDHGKH+w3B2fL3VzyvFzgxAYe2OPSSLxz1rQn8yHe21FsSkRrW7sUncEh4AufMX7FZQZaz9ASSOOCfpaLN9uSHLBs+cv5XwZW2Gx9GL9JKRd7ihrHWFBHHUM7vZEBsqyDyWNOCMEO2Z8GzbCHc0dl8VRs3OwdYpTQO0s31+0aWpzdxDXOgY9iIw+LAnmz92fPoGSRhwQmrgGPgzu55rJX16Jo1ZS12EoUBKbWdyosbfDWgLwF66IBe7wz3CE+vR5jB6fQEkjDgjNS2Wdn/BDCPYMaT3zLcSmYPlOe8dbu7FPz16ThY5BnEXTQ+Wot8GdiwpNhzKrUNKIXUIWI9w/B2V5gkQSgeq4i2Kc2qr7h+eX1uL5Kz9phFOokgwIYTo2z5/nXfgKShqxRSgnqH1ynLEnQGnkrBloz47zQ4YmZWLQs3crGvDkd9bvC9yQIwjZ4eZBX5yVbShpJD1hPW937Nnkom1n5f9q7LqtrgaWZ89fynEz8NW8GoGEzyf+2bzi3UFc5ahXVUAAHv74s7oaZPD2MVBWCihpJD16sycEIBztguar/hH519DkhWAfK7woOXGmoGinnf3XqQ26KPNnUMog6hm6LHpoIUzDdHgHdVeMgbIMKGkkDaEPyaP7vOGYcp/85VVl7QnoEGxhWb07dw3O2eItTfIQaGQQxxtBZdNVKdk1e/tCM7QgMFBWMihpJBVRCJx6+8FP+n8MTevQ3HF5XvFu0aRFmxrtn6m2+eSAxAcR+6z+VODWgwi91x9JmcJCOefEQFkJoaSRpFhH7UOwgCIF1kXeoZmcePb8ZXVjl8Q1hhWu3LVke0vpwW6IliFj8MnKjvYurToyt2Rqf5vYxuq20cdBVQLUVb3ePaxdMfyPeCvlfwzTDHeGUNJIUqKztsraAn7efkNdDQWQJQibLBsx7K0NXxQs32lcXLCmprL2RBBnzqzUd96S0kSxhnhXMgNlxUNJI4mxjttE4aj40I9T3Rt92tDet3pbM0y7bmJyEco3eCsM466hHElOhjVQVjhOAcwQShpJgDVOQTh289ghxKsJIkXI1vukRYdjDrdLahNKGklANKPJhXXNd6QI2a4MO1g7oAyURUkjJjqkLywEkaIcEb6duZECjXuY9s7bxxooK1L/eDyUNDIL64RzNN+NkMVPihRhinDmFN0Txfsb7sVcqaGkkdeENfCVI6xRbjnfHiCscagjeKIY3lY9iRjlQFmUNPIa3ckNX+ArR3zefkPy4f0gn0USKVBMepNWCE4Lcoc1UFZkM4GSRhTWEDtBP4MjQ9DD1fPt3O4TCPSwG9r0KK/6sx7eHc1AWZQ0MkUUAl85Iujn+kcKa+39qn9EXY0qEQ+URUkjU4M2ek1EBOfVk6G3+yBz1CXiS/Sek49q+9WlCGMdg43gDktKGpkV+Ioeiebhjz/rvn8U4qcEFD1gztqrscZPidrIOSUt6kQt8JUjDp27KzmDBiLKMzS+xbrLuL7zlrpKIhwoi5IWaawtQmXTVXWVzGAdkmX++BA9b8S1qfHoAG/InOh0yChpkcYa+IonvifEGpchgrud/MyNkXFdNNxBGI914W50AmVR0qKLXvcMi1rgK0doV6AodoGugE+gA22HCAbKoqRFFAa+sg8nbHwIpzltErVAWZS0KGIEvlJXSXK4rM5XcDGqIyIVKIuSFkX0vHHEA185gpuf/AO3DDoiUoGyKGmRwxr4ipPq9mGICp/AwC4usO7VCXegLEpatGDgq0xgIMG8w/CbrolIoCxKWjC4N/q0ob1vf+uF6sau1duaxSprT+AKbPCWrW7XpCVSDgNfuQA5pucg03YInj1/efzcoBTQuqrDutTkSuuZb0cfR+hQK69yQ0e64bYTp7h4/YNYhylpvmbg+g/QsHfW7/vV0h2pbcGaGihcz5VhdWcirIGvIhjP1BOsh3Il3PmAl7y54zJee6OAEtqy8i/3tvSgv6JuDh3e5sZty1F2ET8swh3WQZoUPm6g6zAlzaegilirVOHKXUu2t6yqaS892F1+7JJY2dFeXFladWRuSY3+S9QwCKF6igXrYDqngjIh2dHJ6NLi3S5cEdNlsbCsHgVUUtehiwy2tr4TFxdtaixYvlP/ZUVN+5PxUHUyspEbeiMaDxx3Dd59yUNY/FR6COowJc13oFbBM5NaAiUrirWhDv1x4HZq23xyAJVMa9vG6jbrmMDYs0m95In7UjPEmpl6Sx96tXCUkfMFRTsXb2lCzyPWe9MoI8Oq+4c3HjqPHglKeaqsV8T2t15A6csDA002ckMHLYSfwWW6mWBd8GydEg5HHaak+Yvhe4+kVsEgZmmrVLyhP6Wr1/FzasGuXoAe5RPcPUR3ddG8Dt55DM9Yigz91k/PXjNKJK2hlFHW8gSUvs2ZUX+Cfno2cgMtrx4xO3TurqRF3GHdliqBsrJUanmBkuYjTl28Li7//NLarae/MyqNfUP1QidLqtfelh69Tg/GwFdeobevLvi/x5DP8I/tONMpDCX+1oYv8CjUAdQElUyg0B0yz3NDOxYRPAAsG1gDZe1pu5alUlOJ5RZKml9oaO9DVYBBjeDOG3XFhX247wSe9veranTdZeArD7n94Kf/uem0ZOyCsuYd54eM/HdhKHfdF9nfekGlFBB6rgxLhwyNmre58UbxPl2HoxDSKTdYe7poJTwvtXzVYUqaL0CPRirBqpp2o4pkYqUHuws/qPlvZcdRa6MTijs3DN66P++jJmTsWx93lB+/auR8JlZS1yGVobnjskrM9yA3RM+86pBpQ2688cFeqcPcSektv937H8hV5O2iysOel1q+6jAlLf/o5gB+lVEzMreyo72/WvaHuesOHum6ptIjGTP6eHxqrGbZH9795N+rL39v5Hnmtra+U1qEi1fvqCR9jMqNaT0z/hFPTHLjv5TUd15izGjPmCq1tfvQMry3pdnIcE8sX3WYkpZnnoxPyLazLDUHMBmBhGrmcc42TEz+8krm0t/a8IW3fVuryWT7vOLdPt+1xtwIIiEuNUpanpH1+lmtWDAZ3UYlVqmSDGjuuIzMnFtS48ncQwp7t6IBCa2rOqwS9iXMjSAS4lKjpOWT4XuPUN6wzScHjKrgrUEv5xTvQUKpw4uQtMCrlkG2bBcZDM2NbGX1bakxN4JIuEuNkpZPNlZPOeaLNjUa9SCB3Um1Lf/pgxHz7+NMJmzpqGWIeNW2ikzb0NjsYZfJy0Nxf5PEZNDYt6VmMze+trlzZOyhcaNhPs+NoOC8Do9cfqHuVaQrKavluNQoaXnj3uhTlDS6MHY2NjY9SBX33Y6k0VHLnNHH44UrYigy28M1cW2Bxl6j4OdSs58bXkka63DmOK7DyTvT39+J++NEluNSo6Tljf2tF1DMS7a3GDUgoaVuFOxIGkwcNbiG6jbiEEdFlkrPpgl6qdnPDa8kDcY6nCHO6rA5wGBgd7whl6VGScsbKz9pnCrmQ+eN4k9kM42jE38/3uAOIkX00SZ/YUwsNzgpMotj/WKsKeH1v018bbmezHxbao5yI7k9/F4eNzuXkhnrcIY4KjVLX8RaV2eKDNhrkXJZapS0/PBkfAJlDPcfXrlR/IlM1SGbnn4Km19ai3QDsdvJbzgsMu2iJdCtGVWz28n1Yak5zI2kNtNoOphfZB12jbtmJ1FvI1X1Tmg5KzVKWn5oPfMtCvjdigaj4BObGs528Nons1U17Ui3urFr+oHEAc6KbGbEJvNeCMyHpeYsN5LZzDyNzTFYMdZh1zgstRlJS+SKzfRF7EpazkqNkpYfZES7pK7DKPiENtOpt1t7Ulj5sUtIl1MRLshXkcF8WGqOciOJORty1MY67BqHpTbjiqXw0myXXc5KjZKWHyprpxa2lh7sNgo+oakO0XTtmT3T7rjF3Hr6O6S78pNG9QBiG9dF9vqjIgyl5ig3EtpMnjgee2Addo3TUksyH6xHHR241zkrNUpaflhXdRgFbO8oB90hmky4+sjRoE2s9ybSXbCmRt1MbOOmyMYeJlsDHfRSc5IbiUwvpXO+4ol12DUuSs2ymsnEn3WYkpYflk0HWLOzI23W+qIkOKpbBdOb+dWdxDZOiixNL0QIdKk5yY0E5tpFE2MddofLUkuwlN9NweWm1Chp+eG9DXV269br+hQ3YPXaA3AwliXbHtV9xDYOiswyMjPN7NIJRak5yY14S7XuwI6xDrvDeaml7k87G0LPTalR0vLD6m3NKN2Pj/cbpe7YZtpH+yvrkO684t1yF7GPkyKzSFqi+XM9mBPcUsukArv49w1jHXaHw1Kz6NnszseMkw0cqFpuSo2Slh9knjbjbaowZx1edNCQLjprchOxj5Miey1pSVrtwJdaBhVYj8raXSxnGOuwaxyVmu55JBwhT/3beMtZqVHS8sPelh4U8Nr6TqPgndtMA2GvcZSltOisTd9DHOCkyLSkJevDBr7U3FfgmYF0R1OJVmMddo2jUptxxdLVYXtdk5yVGiUtPzS096GAbUcLTGHOGkc5ahadtel7iAMcFVm65Q+BLzXXFXimd+8+bgDrsGuclFpaxXImaTkrNUpafpCT0uYU7zEKPt7S9ZXUEJbNPu/Csnqke/zc4PRNxAH2iwyWbroo8KXmKDespuqz21FHGOuwa5yU2oxieeSl5azUKGl54531+1DGaadqUzeOjvq8sd6bso72yXjizVIkNTaLbMpSrFNNL3izzLel5iA3XpuzScR4Yx3OEPulpmtp6rk0O0WZy1KjpOWNz+pPoYxX1bQbxR9nM61AXAv4ulbZ6yiVHuxGigy74BrbRTZlyVaFhabUHOWGsown0liHM8RBqVm3o82uq5a6basznctSo6TljYtX76CY5xTvSRsV+3UjmBi70xISDLuhvU/dRxxiv8im7XVfJCF2XDSYb0vNYW5Mm/M9J4axDmeIo1JL1/LY9bZzWWqUtHwim/ntRBFNXrfs6tnGQ+eRVuGKGEdsMkFCCtkO/JpU1Wy26VJqC9bU+LPUHOaGrsYu14b4PDeCgqNSS6Vq9vQsx6VGScsnPVeGUdiFK3fZOzTdbB8djd5IR6m547K6mbhCJtgL7J9zH98o2F4ZgX60z0vNaW7MZEWyFQepzP+5ERSc12G9VERjtwRzX2qUtDwjjtrSqiNGVfDWZAUtOko8CzhzZDZi0aZGI5M9tw/3TW2M9XmpMTeCSIhLjZKWZwau/1C4IoZSX3+gy6gNXtnHx/sLiqaWG3Hdsyc8GZ+YV7wb+fmb3ceMrPbQyo72IgkYXHmVsC9hbgSREJcaJS3/yFGzBct3OlwPbct2nB+aMx0tlKcAe4iMGMPsHz3lyLae/q5w5a6glBpzI4iEtdQoab7gs/pTf/frnXNLajafHDBqRiYW670pA9kfbmvhcI23SCAGdETQFTWyPUNDW4CagIevqzqsEvM9zI0gEspSo6T5gnODowt+//UbxfvQr7EZVDSt6Vq18J8P/OPWrs5v7qvEiEdIEFiY/SV/aa382CXp2y4r//LZ85cqpSDA3Agi4Ss1Slr+efjjz4u2nZ3/+05Y4YdTTlXm1QvdLqlV75W3yJPf3nxm5DGXPntMdWOXtAhLq4442J6VxGQuHbZ6W3MQW3DmRhAJWalR0vLM5Ku/flTbL6pTFLvwh39T1WthWb27QUg4Z4s2NcpD4PU/GpvAY+X5SAjJqYSJRxw/NygLfOYU71nr9mgFdEFkiBgW6Bkj5kYQCVOpUdLyTO3JP4vewIu6MTKOKz1XhiUOG2zxliZ48UbVSWaQwKJYm9w4r3j3/tYLkgQei4dLKkhOLhIPGbj+g2zGgL259k+lB7tjvTeN0klmGw+dl4iusAVrak5dvK4eGliYG0EkNKVGScsnvdcfidLA2nr/oq7CdfvlVUN7n6yyhRWu3LVkewsqWbzf9unZa+gcLa06ItNmYugiGRv1D527qxNCouoq8RR0dfE+61J4t6KhpK4DPZL4wRxcXH+gC850wXQsV5h0QcK0hIe5EURCUGqUtLxhnUKrbLqqrlqALO1t6dEem9Xe2vCFrknaUBcra0+MPp5y9eL5Xf0VSQuJjj1LHuSGZADe59Yz3678RA38Wm1O8R50fo2LsPc21KEhMLog4YC5EUSCXmqUtPxgTKFNvEjVtbk3+hRO2+ptzTAZ8tYmF+GWDd5Ks6ARMvb+jh5JEfKmrpLs8Oz5S3R4K2raUTp44a1Fhp4HLq6rOoyGI1n/I2QwN4JIQEuNkpYfrFNotx/8pK5mmWt3xyRRWGPXbXWVEELCAiUtD1in0HK8XQxKppOGwqmrhBASCihpucY6hRZrG1JXc4V1wPP9HT2pBzwJISRYUNJyChTlgz29oij4IS+7xNIuSyGEkIBCScspcMtES97OayyPZJsHCCEk0FDSckfnN/e1kOQ94uLn7Tfkm+gt3oQQEnQoaTkCPpkO4ZH7KbR4/DAESggh3kJJywX+1A+/qSwhhGQIJS0X+GQKLR5fjYUSQkiGUNKyjs9lw7dySwghTqGkZRf/D+5NvHilT59Zs7ePk2qEkOBCScsiQVmCwdNnCCHhgJKWRQI0ptfW+xf5qjCePkMICSiUtGwRuJUXlU1X5dsu2nb24Y8/q6uEEBIcKGlZIYjr43n6DCEk6FDSvCcoU2jx8PQZQkigoaR5T6CXxfP0GUJIcKGkeUzgptDi+V39Ffn+7+/oGXs2qa4SQojvoaR5SRCn0OLh6TOEkIBCSfOM4E6hxcPTZwghQYSS5hmBnkKLp/bkn/W/w9NnCCGBgJLmDSGYQjOAl/lRbb/8R0WxCxMvXqlfEEKIX6GkeYB1Cu3z9hvqavAJx9QgISQ6UNIyBe6LnkKDWxPoKbR4wud9EkJCDCUtU0IfRypkc4SEkBBDScuIKET7DdNKTkJIuKGkuSc6Z7LcfvBTRP5TQkigoaS5xHpyZvim0OLh6TOEEP9DSXNJBI9i4ekzhBCfQ0lzQzRdFsMxVVcJIcQ3UNIcE50ptHh4+gwhxM9Q0pwRtSm0eHj6DCHEt1DSnMH5JMDTZwgh/oSS5gCu+hMgYxAzyYeKA9+oq4QQkm8oaXaJ8hRaPFeGn0hWwHj6DCHEJ1DSbMEptHh4+gwhxG9Q0mzBKbR4oOtQd8kWnj5DCPEDlLT0cAotGVB3aLzkzGeHB9VVQgjJE5S0NHAKLTXd1x5I5sB4+gwhJL9Q0lLBKTQ78PQZQohPoKSlglNodoDS8/QZQogfoKQlhVNo9oFzpodnP2+/oa4SQkhuoaQlhlNoTvmqf0SyC8YeACEkL1DSEsApNHdwnJYQkl8oaQmoOPANm2YXsCtACMkvlDQTa6T5K8NP1FViD+uALU+fIYTkGEraLHgeWOYcOndX5yFPnyGE5BJK2musAeZ/V39FXSXO4ekzhJC8EAZJuzf6tKG9b3/rherGrtXbmsUqa0/gCmzwlt2QFmyIvcJF5+DZ85fHzw1Kka2rOqzLUa60nvl29DEjIxNC0hBgSRu4/gM07J31+361dEdqW7CmBgrXc2VY3ZkIHtbsLdYh3EPn7qqrcaA70txxGdJlFFlCW1b+5d6WnuF73CFACElMICUNYrbyk0bd0hWu3LVke8uqmvbSg93lxy6JlR3txZWlVUfmltTov4T+nbp4XT3FAqfQsoHuJbyd6PQZeF3oZ+iigS0sq0eRldR16EKEra3vxMVFmxoLlu/UfwkJpLARQuIJmKShU7+xuk3aNShZUawNrd4fB26nts0nB9Asam1DZ//i1TvqiZxCyxqTSU6feTI+AfdaygK2eEsT+iKx3ptGqRlW3T+88dB59FG0tqEmcDSSEGIlSJLWc2V4XvFutGVo1H6z+1jaRjDe4AHMKd4jDeL+1gvyWE6hZQ/r6TOVTVdxBd6VHiuG77X19HdGGaW1HeeH0JURYUN9gMsuaRFCSGAkDQok7eC7FQ1o1Ixmzr5BCCGH8qiKmvaG07ekwYVxCi0b9F5/pHN4Z9N/FK6IIefnl9bCdTaKxpF9evYaaoKUY3PHZZUYISTaBEPSoD3SeK2qaTeaNndWerAb3fw3PtirW1tOoWWPz9tvIIfnrP03KcTFW5qq+4eNEnFnqA/yTNSQyV94rDYhUScAkib+GRQIOmS0aJkYvIS5Jf/65oZ/R2vLKbSsMvnqr/97k/KMP9x3wiiIDG3jofOFK3fhyZ/Vn1LpEUKiit8lrefKsDSFaLmMtixz23r6OyjlnN8e2PX/elR6JAsM3rr/RtHUeKPneiZWfuxSQdHU1BpHIAmJOL6WtHujT2XqxavxxniDUopkpt61RlzzZHxiwZqptaaLtzQZme+hra3vlHLkahFCooyvJU3W6y/a1Gi0X96azMeg2eVkTDb4rP4UsvetDV94NX+WzIpiU7VlWfmXKmFCSPTwr6TJkGPB8p2ZrG+0Y2hq31z7J6TFYSvPGb73SArRxWJ9p4ZynF9ai+QS7qYnhEQB/0oauttonn6z+5jRciWxkcsv1I3C93eMP0hlMvwIR+3J+IS6n3iBBHmB/2Rk+Iw9/B5/NPYw7rqYUaYTX5t/YJouRzrchEQTn0raxat30DbNKd5jZ7Sq6UGy/dHpG0Ft0sFvaO9Tt5KMSVuIX8s+wISSNjT2dPqXBml7KrJZjQ43IdHEp5ImEzB2VoUk1zPBrqqVHuxGivAq1H0kY1IXotIzkEDSZvyzF2NNxpV0BcpyJCTK+FTSZI3cx8f7jQYrzqZHrhTWxu719acPRix/n9TgSRRMx1ji2KNXJC9Ea6klkrQ7UgSGeilVS12gLEdCoowfJW3w1n00SXOK9xitVby9dtFS9PRtO2oyZnX83KDcRjIhaSEquZouMvk5ruySDUiq4n7tuiU2liMhkcWPktbQ3ocmaWnVEaOpireZwavJy0Pmr6ZspvW0uVRE9jZV1p6Qu0gmJC3EqUKZKa/Ekqb6IglKTU2wpemjsBwJiSx+lDQ5eQQNk9FUxVn8jIthaoDL5tjjx8f7ke7qbc3TN5GMsFWIiSVNlVqijoj8KkkPZsZYjoREFj9KmgQpthEBy66kxQ9hJbRPz15Duu9tqJObSCbYKsRUkpZQt2xJGsuRkMjiR0mTY/vtHD4yM/CYZCRqZuDRpqTBkO684t3qLpIBtgoxO5IGYzkSEk38KGlyRCT62kY7FW96eUiioUW9PCT9ggJtckCouotkgK1CzJqksRwJiSZ+lDQJOWErhJJ1Q+4s3ZK2bwbbkibrv9VdJANsFWJiSUu+PMS2pLEcCYkmfpQ0iVZcfuyS0U4ltFRbrccepopPEWc7zg8hXbgX0/eQjLBViE4lzd6KR5YjIZHFj5ImUSfWH+gymqpk9joOhZUpz2xm7NGepG0+OYB0uVLOE2wVYmJJy3RfGsuRkMjiR0mTY6xtByyettkhAWem1tTwo81F/GVHe5FuRU379E0kI2wVYhJJU9ddRQ+BsRwJiSx+lDQ5VmZ+aa3RVDk21TLa3Wq9ZHsL0kVbLHeRTLBViMkk7fXSHq1q8VeSGsuRkMjiR0mb/OWVHGZtZ9FjCksTWyTOZJnc8L1HchvJBFuFmFTS3Efih7EcCYksfpQ0IIsL0gcQUX5YItGacdFsLncsP3YJKXJNgYekL8QUkjZl2jMT0vtnMJYjIVHGp5J2/NwgGqb0Y4+v+/KzVM26DNLmqKMc81/d2KVuIxkjhbiwrN7I6qza0qojLEdCIotPJe3Z85dyNEnasFiJlztqknoAs0zWyME4WuUhk7+8slmIXpmUY+GKGE+WISSa+FTSQHPHZTRPcNTSHWxtDE9ZsKdnsEWbpvYFc42c58gikTfX/snO6eSZm5QjXTRCIot/JU338UvqOoyWK4HpmTOFrXkXMQnczq59lpAwIs62ZLgyOc8adYblSEhk8a+kgdYz36KRKli+08bx1i7t07PXZIEcu/ZZYvjeI2QvDJJjZL6HtvX0d4UrdyEVOPcqYUJI9PC1pAEJQgHVyXBBf0Kr7h+eX1qL58OTgFOokiReI8eBomtiM8iZU9txfmhuyZRDv67qsEqSEBJJ/C5pUBo5pgTag5bLaMsyMeiZnOj/zvp9HKrKNpW1J5DVcKTSHDfj3FArpF+yrPzLZ89fqvQIIZHE75IG0E5BddBmwVfzagQSPp+0g/OKd3OVYw7QXRP4ah6OQKI+yLgxasjo43GVGCEkqgRA0gC8KFllUFC0M/3+63RmbQepZzkDqiZHXcOKYm1Gobgw1ATUBzwNdYN+NiEEBEPSABpEGbyCLSyrd+euwTlbvKVJHsJ2MC/I3gzY3JIa+4ctGFZ+7JI42bDP6k9xHpQQIgRG0gQ0iPOKd0tbtmhTo/3lBptPDkh8ELaDeefi1TsykgyDMpUe7I713jTKK5ltPHQeHRq5FzWh9cy36qGEEBI4SQPPnr+sbuySkLiwwpW7lmxvQbMYv+4APlnZ0d6lVUdkOZzYxuo2Trr4AfROZN+h2LsVDSV1HeijxG/KxkX4c+jByFnVMJT+/tYLXAxCCDEInqQJkCUIm+7sW+2tDV/otk8bWs/K2hOcOfMVcJThZsksqWFzive8ufZPxkXYexvqIGYcMSaEJCSokqa5N/q0ob1v9bZmmHbdxOQilG/w1n3118SXwN86fm6woqYd5QXRshYi+iK4uK7qMMSP7jUhJDWBlzRCCCFEoKQRQggJCZQ0QgghIYGSRgghJCRQ0gghhIQEShohhJCQQEkjhBASEihphBBCQgIljRBCSEigpBFCCAkJlDRCCCEhgZJGCCEkJFDSCCGEhARKGiGEkJBASSOEEBISKGmEEEJCAiWNEEJISKCkEUIICQmUNEIIISGBkkYIISQkUNIIIYSEBEoaIYSQkEBJI4QQEhIoaYQQQkICJY0QQkhIoKQRQggJCZQ0QgghIYGSRgghJCRQ0gghhIQEShohhJCQQEkjhBASEihphBBCQgIljRBCSEigpBFCCAkJlDRCCCEhgZJGCCEkJFDSCCGEhIK//e3/AzVJiY2u0jqgAAAAAElFTkSuQmCC)\n",
        "  \n",
        "Sample Input:   \n",
        "  \n",
        "1\t0\t{2,3,4}  \n",
        "10\tINF\t{}  \n",
        "10\tINF\t{}  \n",
        "2\t1\t{}  \n",
        "2\t1\t{5,6}  \n",
        "3\t1\t{}  \n",
        "3\t1\t{}  \n",
        "4\t1\t{}  \n",
        "4\t1\t{7,8}  \n",
        "5\t2\t{}  \n",
        "5\tINF\t{9,10}   \n",
        "6\t2\t{}  \n",
        "6\tINF\t{}  \n",
        "7\t2\t{}  \n",
        "7\tINF\t{}  \n",
        "8\t2\t{}  \n",
        "8\tINF\t{}  \n",
        "9\tINF\t{}  \n",
        "9\tINF\t{}  \n",
        "Sample Output:  \n",
        "  \n",
        "1\t0\t{2,3,4}  \n",
        "10\tINF\t{}  \n",
        "2\t1\t{5,6}  \n",
        "3\t1\t{}  \n",
        "4\t1\t{7,8}  \n",
        "5\t2\t{9,10}  \n",
        "6\t2\t{}  \n",
        "7\t2\t{}  \n",
        "8\t2\t{}  \n",
        "9\tINF\t{}  "
      ],
      "metadata": {
        "id": "zQYDA2r04tZ2"
      }
    },
    {
      "cell_type": "code",
      "source": [
        "import sys\n",
        "\n",
        "def reducer():\n",
        "    prev_node = None\n",
        "    min_distance = float('inf')\n",
        "    edges = ''\n",
        "\n",
        "    for line in sys.stdin:\n",
        "        # Разделение входных данных на номер вершины, минимальное расстояние и список исходящих вершин\n",
        "        node, distance, edge_list = line.strip().split('\\t')\n",
        "\n",
        "        # Если предыдущая вершина не равна текущей, выводим результат для предыдущей вершины\n",
        "        if prev_node and prev_node != node:\n",
        "            print(f\"{prev_node}\\t{int(min_distance) if min_distance != float('inf') else 'INF'}\\t{{{edges}}}\")\n",
        "            min_distance = float('inf')\n",
        "            edges = ''\n",
        "\n",
        "        # Обновление минимального расстояния\n",
        "        if distance != 'INF':\n",
        "            min_distance = min(min_distance, int(distance))\n",
        "\n",
        "        # Обновление списка исходящих вершин, если он не пуст\n",
        "        if edge_list.strip('{}'):\n",
        "            edges = edge_list.strip('{}')\n",
        "\n",
        "        prev_node = node\n",
        "\n",
        "    # Выводим результат для последней вершины\n",
        "    if prev_node:\n",
        "        print(f\"{prev_node}\\t{int(min_distance) if min_distance != float('inf') else 'INF'}\\t{{{edges}}}\")\n",
        "\n",
        "if __name__ == '__main__':\n",
        "    reducer()\n"
      ],
      "metadata": {
        "id": "oS9DGOTn5BIj"
      },
      "execution_count": null,
      "outputs": []
    },
    {
      "cell_type": "markdown",
      "source": [
        "## 5.3 PageRank\n"
      ],
      "metadata": {
        "id": "3DgjeHBO7qF_"
      }
    },
    {
      "cell_type": "markdown",
      "source": [
        "Реализуйте mapper для алгоритма расчета PageRank с помощью Hadoop Streaming.   \n",
        "  \n",
        "Входные и выходные данные: В качестве ключа идет номер вершины. Значение составное: через табуляцию записано значение PageRank (округленное до 3-го знака после запятой) и список смежных вершин (через \",\" в фигурных скобках).  \n",
        "  \n",
        "Пример работы mapper приведен для графа из лекции (при этом номера вершин приведены без n):   \n",
        "  ![graph_q14.png](data:image/png;base64,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)\n",
        "    \n",
        "Sample Input:  \n",
        "  \n",
        "1\t0.200\t{2,4}  \n",
        "2\t0.200\t{3,5}  \n",
        "3\t0.200\t{4}  \n",
        "4\t0.200\t{5}  \n",
        "5\t0.200\t{1,2,3}  \n",
        "Sample Output:  \n",
        "  \n",
        "1\t0.200\t{2,4}  \n",
        "2\t0.100\t{}  \n",
        "4\t0.100\t{}  \n",
        "2\t0.200\t{3,5}  \n",
        "3\t0.100\t{}  \n",
        "5\t0.100\t{}  \n",
        "3\t0.200\t{4}  \n",
        "4\t0.200\t{}  \n",
        "4\t0.200\t{5}  \n",
        "5\t0.200\t{}  \n",
        "5\t0.200\t{1,2,3}  \n",
        "1\t0.067\t{}  \n",
        "2\t0.067\t{}  \n",
        "3\t0.067\t{}  "
      ],
      "metadata": {
        "id": "aYBWU44YTNcj"
      }
    },
    {
      "cell_type": "code",
      "source": [
        "# put your python code here\n",
        "#!/usr/bin/env python\n",
        "\n",
        "import sys\n",
        "\n",
        "for line in sys.stdin:\n",
        "    line = line.strip()\n",
        "    node, pagerank, adj_list = line.split('\\t')\n",
        "    adj_list = adj_list.strip('{}').split(',')\n",
        "    num_adj = len(adj_list)\n",
        "    \n",
        "    # output the current node with its own pagerank and adjacency list\n",
        "    print(f\"{node}\\t{pagerank}\\t{{{','.join(adj_list)}}}\")\n",
        "    \n",
        "    # if the node has no outgoing links, then its pagerank is evenly distributed\n",
        "    if num_adj == 0:\n",
        "        continue\n",
        "    \n",
        "    # calculate the pagerank for each outgoing link\n",
        "    pagerank_per_adj = float(pagerank) / num_adj\n",
        "    \n",
        "    # output the pagerank for each outgoing link with an empty adjacency list\n",
        "    for adj_node in adj_list:\n",
        "        print(f\"{adj_node}\\t{pagerank_per_adj:.3f}\\t{{}}\")"
      ],
      "metadata": {
        "id": "RD-AUIpRYJnh"
      },
      "execution_count": null,
      "outputs": []
    },
    {
      "cell_type": "markdown",
      "source": [
        "Реализуйте reducer для алгоритма расчета PageRank с помощью Hadoop Streaming. Используйте упрощенный алгоритм (без случайных переходов).  \n",
        "  \n",
        "Входные и выходные данные: В качестве ключа идет номер вершины. Значение составное: через табуляцию записано значение PageRank (округленное до 3-го знака после запятой) и список смежных вершин (через \",\" в фигурных скобках).\n",
        "  \n",
        "Пример работы reducer приведен для графа из лекции (при этом номера вершин приведены без n):  \n",
        "  ![graph_q14 (1).png](data:image/png;base64,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)\n",
        "  \n",
        "Sample Input:  \n",
        "  \n",
        "1\t0.067\t{}  \n",
        "1\t0.200\t{2,4}  \n",
        "2\t0.067\t{}  \n",
        "2\t0.100\t{}  \n",
        "2\t0.200\t{3,5}  \n",
        "3\t0.067\t{}  \n",
        "3\t0.100\t{}  \n",
        "3\t0.200\t{4}  \n",
        "4\t0.100\t{}  \n",
        "4\t0.200\t{}  \n",
        "4\t0.200\t{5}  \n",
        "5\t0.100\t{}  \n",
        "5\t0.200\t{}  \n",
        "5\t0.200\t{1,2,3}  \n",
        "Sample Output:  \n",
        "  \n",
        "1\t0.067\t{2,4}  \n",
        "2\t0.167\t{3,5}  \n",
        "3\t0.167\t{4}  \n",
        "4\t0.300\t{5}  \n",
        "5\t0.300\t{1,2,3}  \n"
      ],
      "metadata": {
        "id": "EdQj-dSRYN_2"
      }
    },
    {
      "cell_type": "code",
      "source": [
        "import sys\n",
        "\n",
        "d = {}\n",
        "ag = {}\n",
        "\n",
        "for line in sys.stdin:\n",
        "    node, rank, ag_list = line.strip().split(\"\\t\")\n",
        "    rank = float(rank)\n",
        "    \n",
        "    if ag_list == '{}':\n",
        "        d[node] = f'{float(d.get(node, 0)) + rank:.3f}'\n",
        "    else: ag[node] = ag_list\n",
        "\n",
        "for node in ag.keys():\n",
        "    if not d.get(node): d[node] = f'{0:.3f}'\n",
        "\n",
        "for node in d.keys():\n",
        "    if not ag.get(node): ag[node] = '{}'\n",
        "\n",
        "d = dict(sorted(d.items()))\n",
        "\n",
        "for node in d.keys():   \n",
        "    print(node + '\\t' + str(d[node]) + '\\t' + ag[node])"
      ],
      "metadata": {
        "id": "uQSfzStyYmF-"
      },
      "execution_count": null,
      "outputs": []
    },
    {
      "cell_type": "markdown",
      "source": [
        "Модифицируйте reducer из предыдущего задания так, чтобы он расcчитывал PageRank с учетом случайного перехода, т.е. первого члена в формуле:  \n",
        "  \n",
        "  \n",
        "\n",
        "Для всех тестов считайте, что N = 5,  α = 0,1.  \n",
        "Входные и выходные данные: В качестве ключа идет номер вершины. Значение составное: через табуляцию записано значение PageRank (округленное до 3-го знака после запятой) и список смежных вершин (через \",\" в фигурных скобках).\n",
        "  \n",
        "Пример работы reducer приведен для графа из лекции (при этом номера вершин приведены без n):  \n",
        "\n",
        "  \n",
        "\n",
        "Sample Input:  \n",
        "   \n",
        "1\t0.067\t{}  \n",
        "1\t0.200\t{2,4}  \n",
        "2\t0.067\t{}  \n",
        "2\t0.100\t{}  \n",
        "2\t0.200\t{3,5}  \n",
        "3\t0.067\t{}  \n",
        "3\t0.100\t{}  \n",
        "3\t0.200\t{4}  \n",
        "4\t0.100\t{}  \n",
        "4\t0.200\t{}   \n",
        "4\t0.200\t{5}   \n",
        "5\t0.100\t{}   \n",
        "5\t0.200\t{}   \n",
        "5\t0.200\t{1,2,3}  \n",
        "Sample Output:  \n",
        "   \n",
        "1\t0.080\t{2,4}   \n",
        "2\t0.170\t{3,5}  \n",
        "3\t0.170\t{4}  \n",
        "4\t0.290\t{5}   \n",
        "5\t0.290\t{1,2,3}   \n"
      ],
      "metadata": {
        "id": "OexuTrWBZx8i"
      }
    },
    {
      "cell_type": "code",
      "source": [
        "import sys\n",
        "\n",
        "N = 5\n",
        "alpha = 0.1\n",
        "d = {}\n",
        "ag = {}\n",
        "\n",
        "for line in sys.stdin:\n",
        "    node, rank, ag_list = line.strip().split(\"\\t\")\n",
        "    rank = float(rank)\n",
        "    \n",
        "    if ag_list == '{}':\n",
        "        d[node] = float(d.get(node, 0)) + rank\n",
        "    else:\n",
        "        ag[node] = ag_list\n",
        "\n",
        "for node in ag.keys():\n",
        "    if not d.get(node):\n",
        "        d[node] = 0\n",
        "\n",
        "for node in d.keys():\n",
        "    if not ag.get(node):\n",
        "        ag[node] = '{}'\n",
        "\n",
        "d = dict(sorted(d.items()))\n",
        "\n",
        "for node in d.keys():\n",
        "    updated_rank = alpha / N + (1 - alpha) * d[node]\n",
        "    print(node + '\\t' + f'{updated_rank:.3f}' + '\\t' + ag[node])\n"
      ],
      "metadata": {
        "id": "QUftn7S_earm"
      },
      "execution_count": null,
      "outputs": []
    },
    {
      "cell_type": "code",
      "source": [],
      "metadata": {
        "id": "HelCGNzTecMF"
      },
      "execution_count": null,
      "outputs": []
    }
  ]
}