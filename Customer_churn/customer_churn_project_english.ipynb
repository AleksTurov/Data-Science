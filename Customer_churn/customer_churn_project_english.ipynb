{
 "cells": [
  {
   "cell_type": "markdown",
   "metadata": {
    "tags": []
   },
   "source": [
    "# customer_churn_project_english"
   ]
  },
  {
   "cell_type": "markdown",
   "metadata": {},
   "source": [
    "It is necessary to predict whether the client will leave the bank in the near future or not. We have been provided with historical data on customer behavior and termination of agreements with the bank.\n",
    "\n",
    "Let us construct a model with an extremely large *F1*-measure. To pass the project successfully, you need to bring the metric to 0.59. Check the *F1*-measure on the test set.\n",
    "\n",
    "Additionally, we measure *AUC-ROC*, compare its value with *F1*-measure.\n",
    "\n",
    "Data source: [https://www.kaggle.com/barelydedicated/bank-customer-churn-modeling](https://www.kaggle.com/barelydedicated/bank-customer-churn-modeling)"
   ]
  },
  {
   "cell_type": "markdown",
   "metadata": {
    "tags": []
   },
   "source": [
    "## Data preparation"
   ]
  },
  {
   "cell_type": "markdown",
   "metadata": {},
   "source": [
    "### Import libraries"
   ]
  },
  {
   "cell_type": "code",
   "execution_count": 1,
   "metadata": {},
   "outputs": [
    {
     "name": "stdout",
     "output_type": "stream",
     "text": [
      "Requirement already satisfied: catboost in /home/aleksey/anaconda3/lib/python3.9/site-packages (1.1.1)\n",
      "Requirement already satisfied: graphviz in /home/aleksey/anaconda3/lib/python3.9/site-packages (from catboost) (0.20.1)\n",
      "Requirement already satisfied: plotly in /home/aleksey/anaconda3/lib/python3.9/site-packages (from catboost) (5.12.0)\n",
      "Requirement already satisfied: numpy>=1.16.0 in /home/aleksey/anaconda3/lib/python3.9/site-packages (from catboost) (1.24.1)\n",
      "Requirement already satisfied: pandas>=0.24.0 in /home/aleksey/anaconda3/lib/python3.9/site-packages (from catboost) (1.5.2)\n",
      "Requirement already satisfied: scipy in /home/aleksey/anaconda3/lib/python3.9/site-packages (from catboost) (1.10.0)\n",
      "Requirement already satisfied: six in /home/aleksey/anaconda3/lib/python3.9/site-packages (from catboost) (1.16.0)\n",
      "Requirement already satisfied: matplotlib in /home/aleksey/anaconda3/lib/python3.9/site-packages (from catboost) (3.6.3)\n",
      "Requirement already satisfied: python-dateutil>=2.8.1 in /home/aleksey/anaconda3/lib/python3.9/site-packages (from pandas>=0.24.0->catboost) (2.8.2)\n",
      "Requirement already satisfied: pytz>=2020.1 in /home/aleksey/anaconda3/lib/python3.9/site-packages (from pandas>=0.24.0->catboost) (2022.7)\n",
      "Requirement already satisfied: kiwisolver>=1.0.1 in /home/aleksey/anaconda3/lib/python3.9/site-packages (from matplotlib->catboost) (1.4.4)\n",
      "Requirement already satisfied: pillow>=6.2.0 in /home/aleksey/anaconda3/lib/python3.9/site-packages (from matplotlib->catboost) (9.3.0)\n",
      "Requirement already satisfied: packaging>=20.0 in /home/aleksey/anaconda3/lib/python3.9/site-packages (from matplotlib->catboost) (22.0)\n",
      "Requirement already satisfied: fonttools>=4.22.0 in /home/aleksey/anaconda3/lib/python3.9/site-packages (from matplotlib->catboost) (4.38.0)\n",
      "Requirement already satisfied: pyparsing>=2.2.1 in /home/aleksey/anaconda3/lib/python3.9/site-packages (from matplotlib->catboost) (3.0.9)\n",
      "Requirement already satisfied: contourpy>=1.0.1 in /home/aleksey/anaconda3/lib/python3.9/site-packages (from matplotlib->catboost) (1.0.7)\n",
      "Requirement already satisfied: cycler>=0.10 in /home/aleksey/anaconda3/lib/python3.9/site-packages (from matplotlib->catboost) (0.11.0)\n",
      "Requirement already satisfied: tenacity>=6.2.0 in /home/aleksey/anaconda3/lib/python3.9/site-packages (from plotly->catboost) (8.1.0)\n",
      "Requirement already satisfied: imblearn in /home/aleksey/anaconda3/lib/python3.9/site-packages (0.0)\n",
      "Requirement already satisfied: imbalanced-learn in /home/aleksey/anaconda3/lib/python3.9/site-packages (from imblearn) (0.10.1)\n",
      "Requirement already satisfied: scikit-learn>=1.0.2 in /home/aleksey/anaconda3/lib/python3.9/site-packages (from imbalanced-learn->imblearn) (1.2.0)\n",
      "Requirement already satisfied: numpy>=1.17.3 in /home/aleksey/anaconda3/lib/python3.9/site-packages (from imbalanced-learn->imblearn) (1.24.1)\n",
      "Requirement already satisfied: scipy>=1.3.2 in /home/aleksey/anaconda3/lib/python3.9/site-packages (from imbalanced-learn->imblearn) (1.10.0)\n",
      "Requirement already satisfied: threadpoolctl>=2.0.0 in /home/aleksey/anaconda3/lib/python3.9/site-packages (from imbalanced-learn->imblearn) (3.1.0)\n",
      "Requirement already satisfied: joblib>=1.1.1 in /home/aleksey/anaconda3/lib/python3.9/site-packages (from imbalanced-learn->imblearn) (1.2.0)\n"
     ]
    }
   ],
   "source": [
    "!pip install catboost\n",
    "!pip install imblearn\n",
    "\n",
    "import pandas as pd\n",
    "import numpy as np\n",
    "import seaborn as sns\n",
    "import matplotlib.pyplot as plt\n",
    "import re as re\n",
    "\n",
    "from sklearn.model_selection import train_test_split, GridSearchCV, RandomizedSearchCV\n",
    "\n",
    "from sklearn.preprocessing import StandardScaler\n",
    "from sklearn.linear_model import LogisticRegression\n",
    "from sklearn.tree import DecisionTreeClassifier\n",
    "\n",
    "from sklearn.ensemble import RandomForestClassifier\n",
    "from sklearn.metrics import f1_score, roc_auc_score, roc_curve, precision_score, recall_score, precision_recall_curve, accuracy_score\n",
    "from sklearn.utils import shuffle\n",
    "\n",
    "from catboost import CatBoostClassifier\n",
    "from catboost import Pool, cv\n",
    "\n",
    "from imblearn.over_sampling import SMOTE\n",
    "from imblearn.under_sampling import RandomUnderSampler\n",
    "\n",
    "import warnings\n",
    "warnings.filterwarnings(\"ignore\")\n"
   ]
  },
  {
   "cell_type": "code",
   "execution_count": 2,
   "metadata": {},
   "outputs": [
    {
     "data": {
      "text/html": [
       "<div>\n",
       "<style scoped>\n",
       "    .dataframe tbody tr th:only-of-type {\n",
       "        vertical-align: middle;\n",
       "    }\n",
       "\n",
       "    .dataframe tbody tr th {\n",
       "        vertical-align: top;\n",
       "    }\n",
       "\n",
       "    .dataframe thead th {\n",
       "        text-align: right;\n",
       "    }\n",
       "</style>\n",
       "<table border=\"1\" class=\"dataframe\">\n",
       "  <thead>\n",
       "    <tr style=\"text-align: right;\">\n",
       "      <th></th>\n",
       "      <th>RowNumber</th>\n",
       "      <th>CustomerId</th>\n",
       "      <th>Surname</th>\n",
       "      <th>CreditScore</th>\n",
       "      <th>Geography</th>\n",
       "      <th>Gender</th>\n",
       "      <th>Age</th>\n",
       "      <th>Tenure</th>\n",
       "      <th>Balance</th>\n",
       "      <th>NumOfProducts</th>\n",
       "      <th>HasCrCard</th>\n",
       "      <th>IsActiveMember</th>\n",
       "      <th>EstimatedSalary</th>\n",
       "      <th>Exited</th>\n",
       "    </tr>\n",
       "  </thead>\n",
       "  <tbody>\n",
       "    <tr>\n",
       "      <th>0</th>\n",
       "      <td>1</td>\n",
       "      <td>15634602</td>\n",
       "      <td>Hargrave</td>\n",
       "      <td>619</td>\n",
       "      <td>France</td>\n",
       "      <td>Female</td>\n",
       "      <td>42</td>\n",
       "      <td>2</td>\n",
       "      <td>0.00</td>\n",
       "      <td>1</td>\n",
       "      <td>1</td>\n",
       "      <td>1</td>\n",
       "      <td>101348.88</td>\n",
       "      <td>1</td>\n",
       "    </tr>\n",
       "    <tr>\n",
       "      <th>1</th>\n",
       "      <td>2</td>\n",
       "      <td>15647311</td>\n",
       "      <td>Hill</td>\n",
       "      <td>608</td>\n",
       "      <td>Spain</td>\n",
       "      <td>Female</td>\n",
       "      <td>41</td>\n",
       "      <td>1</td>\n",
       "      <td>83807.86</td>\n",
       "      <td>1</td>\n",
       "      <td>0</td>\n",
       "      <td>1</td>\n",
       "      <td>112542.58</td>\n",
       "      <td>0</td>\n",
       "    </tr>\n",
       "    <tr>\n",
       "      <th>2</th>\n",
       "      <td>3</td>\n",
       "      <td>15619304</td>\n",
       "      <td>Onio</td>\n",
       "      <td>502</td>\n",
       "      <td>France</td>\n",
       "      <td>Female</td>\n",
       "      <td>42</td>\n",
       "      <td>8</td>\n",
       "      <td>159660.80</td>\n",
       "      <td>3</td>\n",
       "      <td>1</td>\n",
       "      <td>0</td>\n",
       "      <td>113931.57</td>\n",
       "      <td>1</td>\n",
       "    </tr>\n",
       "    <tr>\n",
       "      <th>3</th>\n",
       "      <td>4</td>\n",
       "      <td>15701354</td>\n",
       "      <td>Boni</td>\n",
       "      <td>699</td>\n",
       "      <td>France</td>\n",
       "      <td>Female</td>\n",
       "      <td>39</td>\n",
       "      <td>1</td>\n",
       "      <td>0.00</td>\n",
       "      <td>2</td>\n",
       "      <td>0</td>\n",
       "      <td>0</td>\n",
       "      <td>93826.63</td>\n",
       "      <td>0</td>\n",
       "    </tr>\n",
       "    <tr>\n",
       "      <th>4</th>\n",
       "      <td>5</td>\n",
       "      <td>15737888</td>\n",
       "      <td>Mitchell</td>\n",
       "      <td>850</td>\n",
       "      <td>Spain</td>\n",
       "      <td>Female</td>\n",
       "      <td>43</td>\n",
       "      <td>2</td>\n",
       "      <td>125510.82</td>\n",
       "      <td>1</td>\n",
       "      <td>1</td>\n",
       "      <td>1</td>\n",
       "      <td>79084.10</td>\n",
       "      <td>0</td>\n",
       "    </tr>\n",
       "    <tr>\n",
       "      <th>5</th>\n",
       "      <td>6</td>\n",
       "      <td>15574012</td>\n",
       "      <td>Chu</td>\n",
       "      <td>645</td>\n",
       "      <td>Spain</td>\n",
       "      <td>Male</td>\n",
       "      <td>44</td>\n",
       "      <td>8</td>\n",
       "      <td>113755.78</td>\n",
       "      <td>2</td>\n",
       "      <td>1</td>\n",
       "      <td>0</td>\n",
       "      <td>149756.71</td>\n",
       "      <td>1</td>\n",
       "    </tr>\n",
       "    <tr>\n",
       "      <th>6</th>\n",
       "      <td>7</td>\n",
       "      <td>15592531</td>\n",
       "      <td>Bartlett</td>\n",
       "      <td>822</td>\n",
       "      <td>France</td>\n",
       "      <td>Male</td>\n",
       "      <td>50</td>\n",
       "      <td>7</td>\n",
       "      <td>0.00</td>\n",
       "      <td>2</td>\n",
       "      <td>1</td>\n",
       "      <td>1</td>\n",
       "      <td>10062.80</td>\n",
       "      <td>0</td>\n",
       "    </tr>\n",
       "    <tr>\n",
       "      <th>7</th>\n",
       "      <td>8</td>\n",
       "      <td>15656148</td>\n",
       "      <td>Obinna</td>\n",
       "      <td>376</td>\n",
       "      <td>Germany</td>\n",
       "      <td>Female</td>\n",
       "      <td>29</td>\n",
       "      <td>4</td>\n",
       "      <td>115046.74</td>\n",
       "      <td>4</td>\n",
       "      <td>1</td>\n",
       "      <td>0</td>\n",
       "      <td>119346.88</td>\n",
       "      <td>1</td>\n",
       "    </tr>\n",
       "    <tr>\n",
       "      <th>8</th>\n",
       "      <td>9</td>\n",
       "      <td>15792365</td>\n",
       "      <td>He</td>\n",
       "      <td>501</td>\n",
       "      <td>France</td>\n",
       "      <td>Male</td>\n",
       "      <td>44</td>\n",
       "      <td>4</td>\n",
       "      <td>142051.07</td>\n",
       "      <td>2</td>\n",
       "      <td>0</td>\n",
       "      <td>1</td>\n",
       "      <td>74940.50</td>\n",
       "      <td>0</td>\n",
       "    </tr>\n",
       "    <tr>\n",
       "      <th>9</th>\n",
       "      <td>10</td>\n",
       "      <td>15592389</td>\n",
       "      <td>H?</td>\n",
       "      <td>684</td>\n",
       "      <td>France</td>\n",
       "      <td>Male</td>\n",
       "      <td>27</td>\n",
       "      <td>2</td>\n",
       "      <td>134603.88</td>\n",
       "      <td>1</td>\n",
       "      <td>1</td>\n",
       "      <td>1</td>\n",
       "      <td>71725.73</td>\n",
       "      <td>0</td>\n",
       "    </tr>\n",
       "  </tbody>\n",
       "</table>\n",
       "</div>"
      ],
      "text/plain": [
       "   RowNumber  CustomerId   Surname  CreditScore Geography  Gender  Age  \\\n",
       "0          1    15634602  Hargrave          619    France  Female   42   \n",
       "1          2    15647311      Hill          608     Spain  Female   41   \n",
       "2          3    15619304      Onio          502    France  Female   42   \n",
       "3          4    15701354      Boni          699    France  Female   39   \n",
       "4          5    15737888  Mitchell          850     Spain  Female   43   \n",
       "5          6    15574012       Chu          645     Spain    Male   44   \n",
       "6          7    15592531  Bartlett          822    France    Male   50   \n",
       "7          8    15656148    Obinna          376   Germany  Female   29   \n",
       "8          9    15792365        He          501    France    Male   44   \n",
       "9         10    15592389        H?          684    France    Male   27   \n",
       "\n",
       "   Tenure    Balance  NumOfProducts  HasCrCard  IsActiveMember  \\\n",
       "0       2       0.00              1          1               1   \n",
       "1       1   83807.86              1          0               1   \n",
       "2       8  159660.80              3          1               0   \n",
       "3       1       0.00              2          0               0   \n",
       "4       2  125510.82              1          1               1   \n",
       "5       8  113755.78              2          1               0   \n",
       "6       7       0.00              2          1               1   \n",
       "7       4  115046.74              4          1               0   \n",
       "8       4  142051.07              2          0               1   \n",
       "9       2  134603.88              1          1               1   \n",
       "\n",
       "   EstimatedSalary  Exited  \n",
       "0        101348.88       1  \n",
       "1        112542.58       0  \n",
       "2        113931.57       1  \n",
       "3         93826.63       0  \n",
       "4         79084.10       0  \n",
       "5        149756.71       1  \n",
       "6         10062.80       0  \n",
       "7        119346.88       1  \n",
       "8         74940.50       0  \n",
       "9         71725.73       0  "
      ]
     },
     "execution_count": 2,
     "metadata": {},
     "output_type": "execute_result"
    }
   ],
   "source": [
    "data = pd.read_csv('/media/aleksey/A6B828A60EB3956D/Data science/Специалист Data scinties/Обучение с учителем/Churn_Modelling.csv')\n",
    "data.head(10)"
   ]
  },
  {
   "cell_type": "code",
   "execution_count": 3,
   "metadata": {},
   "outputs": [
    {
     "name": "stdout",
     "output_type": "stream",
     "text": [
      "<class 'pandas.core.frame.DataFrame'>\n",
      "RangeIndex: 10000 entries, 0 to 9999\n",
      "Data columns (total 14 columns):\n",
      " #   Column           Non-Null Count  Dtype  \n",
      "---  ------           --------------  -----  \n",
      " 0   RowNumber        10000 non-null  int64  \n",
      " 1   CustomerId       10000 non-null  int64  \n",
      " 2   Surname          10000 non-null  object \n",
      " 3   CreditScore      10000 non-null  int64  \n",
      " 4   Geography        10000 non-null  object \n",
      " 5   Gender           10000 non-null  object \n",
      " 6   Age              10000 non-null  int64  \n",
      " 7   Tenure           10000 non-null  int64  \n",
      " 8   Balance          10000 non-null  float64\n",
      " 9   NumOfProducts    10000 non-null  int64  \n",
      " 10  HasCrCard        10000 non-null  int64  \n",
      " 11  IsActiveMember   10000 non-null  int64  \n",
      " 12  EstimatedSalary  10000 non-null  float64\n",
      " 13  Exited           10000 non-null  int64  \n",
      "dtypes: float64(2), int64(9), object(3)\n",
      "memory usage: 1.1+ MB\n"
     ]
    }
   ],
   "source": [
    "data.info()"
   ]
  },
  {
   "cell_type": "markdown",
   "metadata": {},
   "source": [
    "### Data exploration Churn_Modelling.csv"
   ]
  },
  {
   "cell_type": "code",
   "execution_count": 4,
   "metadata": {},
   "outputs": [
    {
     "data": {
      "text/html": [
       "<div>\n",
       "<style scoped>\n",
       "    .dataframe tbody tr th:only-of-type {\n",
       "        vertical-align: middle;\n",
       "    }\n",
       "\n",
       "    .dataframe tbody tr th {\n",
       "        vertical-align: top;\n",
       "    }\n",
       "\n",
       "    .dataframe thead th {\n",
       "        text-align: right;\n",
       "    }\n",
       "</style>\n",
       "<table border=\"1\" class=\"dataframe\">\n",
       "  <thead>\n",
       "    <tr style=\"text-align: right;\">\n",
       "      <th></th>\n",
       "      <th>RowNumber</th>\n",
       "      <th>CustomerId</th>\n",
       "      <th>Surname</th>\n",
       "      <th>CreditScore</th>\n",
       "      <th>Geography</th>\n",
       "      <th>Gender</th>\n",
       "      <th>Age</th>\n",
       "      <th>Tenure</th>\n",
       "      <th>Balance</th>\n",
       "      <th>NumOfProducts</th>\n",
       "      <th>HasCrCard</th>\n",
       "      <th>IsActiveMember</th>\n",
       "      <th>EstimatedSalary</th>\n",
       "      <th>Exited</th>\n",
       "    </tr>\n",
       "  </thead>\n",
       "  <tbody>\n",
       "    <tr>\n",
       "      <th>0</th>\n",
       "      <td>1</td>\n",
       "      <td>15634602</td>\n",
       "      <td>Hargrave</td>\n",
       "      <td>619</td>\n",
       "      <td>France</td>\n",
       "      <td>Female</td>\n",
       "      <td>42</td>\n",
       "      <td>2</td>\n",
       "      <td>0.00</td>\n",
       "      <td>1</td>\n",
       "      <td>1</td>\n",
       "      <td>1</td>\n",
       "      <td>101348.88</td>\n",
       "      <td>1</td>\n",
       "    </tr>\n",
       "    <tr>\n",
       "      <th>1</th>\n",
       "      <td>2</td>\n",
       "      <td>15647311</td>\n",
       "      <td>Hill</td>\n",
       "      <td>608</td>\n",
       "      <td>Spain</td>\n",
       "      <td>Female</td>\n",
       "      <td>41</td>\n",
       "      <td>1</td>\n",
       "      <td>83807.86</td>\n",
       "      <td>1</td>\n",
       "      <td>0</td>\n",
       "      <td>1</td>\n",
       "      <td>112542.58</td>\n",
       "      <td>0</td>\n",
       "    </tr>\n",
       "    <tr>\n",
       "      <th>2</th>\n",
       "      <td>3</td>\n",
       "      <td>15619304</td>\n",
       "      <td>Onio</td>\n",
       "      <td>502</td>\n",
       "      <td>France</td>\n",
       "      <td>Female</td>\n",
       "      <td>42</td>\n",
       "      <td>8</td>\n",
       "      <td>159660.80</td>\n",
       "      <td>3</td>\n",
       "      <td>1</td>\n",
       "      <td>0</td>\n",
       "      <td>113931.57</td>\n",
       "      <td>1</td>\n",
       "    </tr>\n",
       "    <tr>\n",
       "      <th>3</th>\n",
       "      <td>4</td>\n",
       "      <td>15701354</td>\n",
       "      <td>Boni</td>\n",
       "      <td>699</td>\n",
       "      <td>France</td>\n",
       "      <td>Female</td>\n",
       "      <td>39</td>\n",
       "      <td>1</td>\n",
       "      <td>0.00</td>\n",
       "      <td>2</td>\n",
       "      <td>0</td>\n",
       "      <td>0</td>\n",
       "      <td>93826.63</td>\n",
       "      <td>0</td>\n",
       "    </tr>\n",
       "    <tr>\n",
       "      <th>4</th>\n",
       "      <td>5</td>\n",
       "      <td>15737888</td>\n",
       "      <td>Mitchell</td>\n",
       "      <td>850</td>\n",
       "      <td>Spain</td>\n",
       "      <td>Female</td>\n",
       "      <td>43</td>\n",
       "      <td>2</td>\n",
       "      <td>125510.82</td>\n",
       "      <td>1</td>\n",
       "      <td>1</td>\n",
       "      <td>1</td>\n",
       "      <td>79084.10</td>\n",
       "      <td>0</td>\n",
       "    </tr>\n",
       "  </tbody>\n",
       "</table>\n",
       "</div>"
      ],
      "text/plain": [
       "   RowNumber  CustomerId   Surname  CreditScore Geography  Gender  Age  \\\n",
       "0          1    15634602  Hargrave          619    France  Female   42   \n",
       "1          2    15647311      Hill          608     Spain  Female   41   \n",
       "2          3    15619304      Onio          502    France  Female   42   \n",
       "3          4    15701354      Boni          699    France  Female   39   \n",
       "4          5    15737888  Mitchell          850     Spain  Female   43   \n",
       "\n",
       "   Tenure    Balance  NumOfProducts  HasCrCard  IsActiveMember  \\\n",
       "0       2       0.00              1          1               1   \n",
       "1       1   83807.86              1          0               1   \n",
       "2       8  159660.80              3          1               0   \n",
       "3       1       0.00              2          0               0   \n",
       "4       2  125510.82              1          1               1   \n",
       "\n",
       "   EstimatedSalary  Exited  \n",
       "0        101348.88       1  \n",
       "1        112542.58       0  \n",
       "2        113931.57       1  \n",
       "3         93826.63       0  \n",
       "4         79084.10       0  "
      ]
     },
     "execution_count": 4,
     "metadata": {},
     "output_type": "execute_result"
    }
   ],
   "source": [
    "data.head()"
   ]
  },
  {
   "cell_type": "markdown",
   "metadata": {},
   "source": [
    "**Features:**\n",
    "\n",
    "RowNumber - the index of the row in the data  \n",
    "CustomerId - unique customer identifier  \n",
    "Surname - surname  \n",
    "CreditScore - credit rating  \n",
    "Geography - country of residence  \n",
    "Gender - gender  \n",
    "Age - age  \n",
    "Tenure - how many years a person has been a client of the bank  \n",
    "Balance - account balance  \n",
    "NumOfProducts - the number of bank products used by the client   \n",
    "HasCrCard - availability of a credit card  \n",
    "IsActiveMember - client activity  \n",
    "EstimatedSalary - estimated salary  \n",
    "Target column:  \n",
    "\n",
    "Exited - the fact of the client's departure  \n"
   ]
  },
  {
   "cell_type": "code",
   "execution_count": 5,
   "metadata": {},
   "outputs": [
    {
     "data": {
      "text/plain": [
       "Index(['row_number', 'customer_id', 'surname', 'credit_score', 'geography',\n",
       "       'gender', 'age', 'tenure', 'balance', 'num_of_products', 'has_cr_card',\n",
       "       'is_active_member', 'estimated_salary', 'exited'],\n",
       "      dtype='object')"
      ]
     },
     "execution_count": 5,
     "metadata": {},
     "output_type": "execute_result"
    }
   ],
   "source": [
    "data.columns = [re.sub(r'(?<!^)(?=[A-Z])', '_', i).lower() for i in data.columns]#Let's convert the names of the columns to the snake register\n",
    "data.columns"
   ]
  },
  {
   "cell_type": "code",
   "execution_count": 6,
   "metadata": {},
   "outputs": [
    {
     "data": {
      "text/plain": [
       "Index(['row_number', 'customer_id', 'surname', 'credit_score', 'geography',\n",
       "       'gender', 'age', 'tenure', 'balance', 'num_of_products', 'has_cr_card',\n",
       "       'is_active_member', 'estimated_salary', 'exited'],\n",
       "      dtype='object')"
      ]
     },
     "execution_count": 6,
     "metadata": {},
     "output_type": "execute_result"
    }
   ],
   "source": [
    "data.columns = ['row_number', 'customer_id', 'surname', 'credit_score', 'geography',\n",
    "       'gender', 'age', 'tenure', 'balance', 'num_of_products', 'has_cr_card',\n",
    "       'is_active_member', 'estimated_salary', 'exited']#Let's convert the names of the columns to the snake register\n",
    "data.columns"
   ]
  },
  {
   "cell_type": "code",
   "execution_count": 7,
   "metadata": {},
   "outputs": [
    {
     "name": "stdout",
     "output_type": "stream",
     "text": [
      "<class 'pandas.core.frame.DataFrame'>\n",
      "RangeIndex: 10000 entries, 0 to 9999\n",
      "Data columns (total 14 columns):\n",
      " #   Column            Non-Null Count  Dtype  \n",
      "---  ------            --------------  -----  \n",
      " 0   row_number        10000 non-null  int64  \n",
      " 1   customer_id       10000 non-null  int64  \n",
      " 2   surname           10000 non-null  object \n",
      " 3   credit_score      10000 non-null  int64  \n",
      " 4   geography         10000 non-null  object \n",
      " 5   gender            10000 non-null  object \n",
      " 6   age               10000 non-null  int64  \n",
      " 7   tenure            10000 non-null  int64  \n",
      " 8   balance           10000 non-null  float64\n",
      " 9   num_of_products   10000 non-null  int64  \n",
      " 10  has_cr_card       10000 non-null  int64  \n",
      " 11  is_active_member  10000 non-null  int64  \n",
      " 12  estimated_salary  10000 non-null  float64\n",
      " 13  exited            10000 non-null  int64  \n",
      "dtypes: float64(2), int64(9), object(3)\n",
      "memory usage: 1.1+ MB\n"
     ]
    }
   ],
   "source": [
    "data.info()"
   ]
  },
  {
   "cell_type": "markdown",
   "metadata": {},
   "source": [
    "### Consider the presence of rare and outliers by analyzing through the method .describe()"
   ]
  },
  {
   "cell_type": "code",
   "execution_count": 8,
   "metadata": {},
   "outputs": [
    {
     "data": {
      "text/html": [
       "<div>\n",
       "<style scoped>\n",
       "    .dataframe tbody tr th:only-of-type {\n",
       "        vertical-align: middle;\n",
       "    }\n",
       "\n",
       "    .dataframe tbody tr th {\n",
       "        vertical-align: top;\n",
       "    }\n",
       "\n",
       "    .dataframe thead th {\n",
       "        text-align: right;\n",
       "    }\n",
       "</style>\n",
       "<table border=\"1\" class=\"dataframe\">\n",
       "  <thead>\n",
       "    <tr style=\"text-align: right;\">\n",
       "      <th></th>\n",
       "      <th>row_number</th>\n",
       "      <th>customer_id</th>\n",
       "      <th>surname</th>\n",
       "      <th>credit_score</th>\n",
       "      <th>geography</th>\n",
       "      <th>gender</th>\n",
       "      <th>age</th>\n",
       "      <th>tenure</th>\n",
       "      <th>balance</th>\n",
       "      <th>num_of_products</th>\n",
       "      <th>has_cr_card</th>\n",
       "      <th>is_active_member</th>\n",
       "      <th>estimated_salary</th>\n",
       "      <th>exited</th>\n",
       "    </tr>\n",
       "  </thead>\n",
       "  <tbody>\n",
       "    <tr>\n",
       "      <th>count</th>\n",
       "      <td>10000.00000</td>\n",
       "      <td>1.000000e+04</td>\n",
       "      <td>10000</td>\n",
       "      <td>10000.000000</td>\n",
       "      <td>10000</td>\n",
       "      <td>10000</td>\n",
       "      <td>10000.000000</td>\n",
       "      <td>10000.000000</td>\n",
       "      <td>10000.000000</td>\n",
       "      <td>10000.000000</td>\n",
       "      <td>10000.00000</td>\n",
       "      <td>10000.000000</td>\n",
       "      <td>10000.000000</td>\n",
       "      <td>10000.000000</td>\n",
       "    </tr>\n",
       "    <tr>\n",
       "      <th>unique</th>\n",
       "      <td>NaN</td>\n",
       "      <td>NaN</td>\n",
       "      <td>2932</td>\n",
       "      <td>NaN</td>\n",
       "      <td>3</td>\n",
       "      <td>2</td>\n",
       "      <td>NaN</td>\n",
       "      <td>NaN</td>\n",
       "      <td>NaN</td>\n",
       "      <td>NaN</td>\n",
       "      <td>NaN</td>\n",
       "      <td>NaN</td>\n",
       "      <td>NaN</td>\n",
       "      <td>NaN</td>\n",
       "    </tr>\n",
       "    <tr>\n",
       "      <th>top</th>\n",
       "      <td>NaN</td>\n",
       "      <td>NaN</td>\n",
       "      <td>Smith</td>\n",
       "      <td>NaN</td>\n",
       "      <td>France</td>\n",
       "      <td>Male</td>\n",
       "      <td>NaN</td>\n",
       "      <td>NaN</td>\n",
       "      <td>NaN</td>\n",
       "      <td>NaN</td>\n",
       "      <td>NaN</td>\n",
       "      <td>NaN</td>\n",
       "      <td>NaN</td>\n",
       "      <td>NaN</td>\n",
       "    </tr>\n",
       "    <tr>\n",
       "      <th>freq</th>\n",
       "      <td>NaN</td>\n",
       "      <td>NaN</td>\n",
       "      <td>32</td>\n",
       "      <td>NaN</td>\n",
       "      <td>5014</td>\n",
       "      <td>5457</td>\n",
       "      <td>NaN</td>\n",
       "      <td>NaN</td>\n",
       "      <td>NaN</td>\n",
       "      <td>NaN</td>\n",
       "      <td>NaN</td>\n",
       "      <td>NaN</td>\n",
       "      <td>NaN</td>\n",
       "      <td>NaN</td>\n",
       "    </tr>\n",
       "    <tr>\n",
       "      <th>mean</th>\n",
       "      <td>5000.50000</td>\n",
       "      <td>1.569094e+07</td>\n",
       "      <td>NaN</td>\n",
       "      <td>650.528800</td>\n",
       "      <td>NaN</td>\n",
       "      <td>NaN</td>\n",
       "      <td>38.921800</td>\n",
       "      <td>5.012800</td>\n",
       "      <td>76485.889288</td>\n",
       "      <td>1.530200</td>\n",
       "      <td>0.70550</td>\n",
       "      <td>0.515100</td>\n",
       "      <td>100090.239881</td>\n",
       "      <td>0.203700</td>\n",
       "    </tr>\n",
       "    <tr>\n",
       "      <th>std</th>\n",
       "      <td>2886.89568</td>\n",
       "      <td>7.193619e+04</td>\n",
       "      <td>NaN</td>\n",
       "      <td>96.653299</td>\n",
       "      <td>NaN</td>\n",
       "      <td>NaN</td>\n",
       "      <td>10.487806</td>\n",
       "      <td>2.892174</td>\n",
       "      <td>62397.405202</td>\n",
       "      <td>0.581654</td>\n",
       "      <td>0.45584</td>\n",
       "      <td>0.499797</td>\n",
       "      <td>57510.492818</td>\n",
       "      <td>0.402769</td>\n",
       "    </tr>\n",
       "    <tr>\n",
       "      <th>min</th>\n",
       "      <td>1.00000</td>\n",
       "      <td>1.556570e+07</td>\n",
       "      <td>NaN</td>\n",
       "      <td>350.000000</td>\n",
       "      <td>NaN</td>\n",
       "      <td>NaN</td>\n",
       "      <td>18.000000</td>\n",
       "      <td>0.000000</td>\n",
       "      <td>0.000000</td>\n",
       "      <td>1.000000</td>\n",
       "      <td>0.00000</td>\n",
       "      <td>0.000000</td>\n",
       "      <td>11.580000</td>\n",
       "      <td>0.000000</td>\n",
       "    </tr>\n",
       "    <tr>\n",
       "      <th>25%</th>\n",
       "      <td>2500.75000</td>\n",
       "      <td>1.562853e+07</td>\n",
       "      <td>NaN</td>\n",
       "      <td>584.000000</td>\n",
       "      <td>NaN</td>\n",
       "      <td>NaN</td>\n",
       "      <td>32.000000</td>\n",
       "      <td>3.000000</td>\n",
       "      <td>0.000000</td>\n",
       "      <td>1.000000</td>\n",
       "      <td>0.00000</td>\n",
       "      <td>0.000000</td>\n",
       "      <td>51002.110000</td>\n",
       "      <td>0.000000</td>\n",
       "    </tr>\n",
       "    <tr>\n",
       "      <th>50%</th>\n",
       "      <td>5000.50000</td>\n",
       "      <td>1.569074e+07</td>\n",
       "      <td>NaN</td>\n",
       "      <td>652.000000</td>\n",
       "      <td>NaN</td>\n",
       "      <td>NaN</td>\n",
       "      <td>37.000000</td>\n",
       "      <td>5.000000</td>\n",
       "      <td>97198.540000</td>\n",
       "      <td>1.000000</td>\n",
       "      <td>1.00000</td>\n",
       "      <td>1.000000</td>\n",
       "      <td>100193.915000</td>\n",
       "      <td>0.000000</td>\n",
       "    </tr>\n",
       "    <tr>\n",
       "      <th>75%</th>\n",
       "      <td>7500.25000</td>\n",
       "      <td>1.575323e+07</td>\n",
       "      <td>NaN</td>\n",
       "      <td>718.000000</td>\n",
       "      <td>NaN</td>\n",
       "      <td>NaN</td>\n",
       "      <td>44.000000</td>\n",
       "      <td>7.000000</td>\n",
       "      <td>127644.240000</td>\n",
       "      <td>2.000000</td>\n",
       "      <td>1.00000</td>\n",
       "      <td>1.000000</td>\n",
       "      <td>149388.247500</td>\n",
       "      <td>0.000000</td>\n",
       "    </tr>\n",
       "    <tr>\n",
       "      <th>max</th>\n",
       "      <td>10000.00000</td>\n",
       "      <td>1.581569e+07</td>\n",
       "      <td>NaN</td>\n",
       "      <td>850.000000</td>\n",
       "      <td>NaN</td>\n",
       "      <td>NaN</td>\n",
       "      <td>92.000000</td>\n",
       "      <td>10.000000</td>\n",
       "      <td>250898.090000</td>\n",
       "      <td>4.000000</td>\n",
       "      <td>1.00000</td>\n",
       "      <td>1.000000</td>\n",
       "      <td>199992.480000</td>\n",
       "      <td>1.000000</td>\n",
       "    </tr>\n",
       "  </tbody>\n",
       "</table>\n",
       "</div>"
      ],
      "text/plain": [
       "         row_number   customer_id surname  credit_score geography gender  \\\n",
       "count   10000.00000  1.000000e+04   10000  10000.000000     10000  10000   \n",
       "unique          NaN           NaN    2932           NaN         3      2   \n",
       "top             NaN           NaN   Smith           NaN    France   Male   \n",
       "freq            NaN           NaN      32           NaN      5014   5457   \n",
       "mean     5000.50000  1.569094e+07     NaN    650.528800       NaN    NaN   \n",
       "std      2886.89568  7.193619e+04     NaN     96.653299       NaN    NaN   \n",
       "min         1.00000  1.556570e+07     NaN    350.000000       NaN    NaN   \n",
       "25%      2500.75000  1.562853e+07     NaN    584.000000       NaN    NaN   \n",
       "50%      5000.50000  1.569074e+07     NaN    652.000000       NaN    NaN   \n",
       "75%      7500.25000  1.575323e+07     NaN    718.000000       NaN    NaN   \n",
       "max     10000.00000  1.581569e+07     NaN    850.000000       NaN    NaN   \n",
       "\n",
       "                 age        tenure        balance  num_of_products  \\\n",
       "count   10000.000000  10000.000000   10000.000000     10000.000000   \n",
       "unique           NaN           NaN            NaN              NaN   \n",
       "top              NaN           NaN            NaN              NaN   \n",
       "freq             NaN           NaN            NaN              NaN   \n",
       "mean       38.921800      5.012800   76485.889288         1.530200   \n",
       "std        10.487806      2.892174   62397.405202         0.581654   \n",
       "min        18.000000      0.000000       0.000000         1.000000   \n",
       "25%        32.000000      3.000000       0.000000         1.000000   \n",
       "50%        37.000000      5.000000   97198.540000         1.000000   \n",
       "75%        44.000000      7.000000  127644.240000         2.000000   \n",
       "max        92.000000     10.000000  250898.090000         4.000000   \n",
       "\n",
       "        has_cr_card  is_active_member  estimated_salary        exited  \n",
       "count   10000.00000      10000.000000      10000.000000  10000.000000  \n",
       "unique          NaN               NaN               NaN           NaN  \n",
       "top             NaN               NaN               NaN           NaN  \n",
       "freq            NaN               NaN               NaN           NaN  \n",
       "mean        0.70550          0.515100     100090.239881      0.203700  \n",
       "std         0.45584          0.499797      57510.492818      0.402769  \n",
       "min         0.00000          0.000000         11.580000      0.000000  \n",
       "25%         0.00000          0.000000      51002.110000      0.000000  \n",
       "50%         1.00000          1.000000     100193.915000      0.000000  \n",
       "75%         1.00000          1.000000     149388.247500      0.000000  \n",
       "max         1.00000          1.000000     199992.480000      1.000000  "
      ]
     },
     "execution_count": 8,
     "metadata": {},
     "output_type": "execute_result"
    }
   ],
   "source": [
    "data.describe(include='all')"
   ]
  },
  {
   "cell_type": "markdown",
   "metadata": {},
   "source": [
    "* No anomalies"
   ]
  },
  {
   "cell_type": "code",
   "execution_count": 9,
   "metadata": {},
   "outputs": [
    {
     "data": {
      "text/plain": [
       "exited\n",
       "0    7963\n",
       "1    2037\n",
       "Name: customer_id, dtype: int64"
      ]
     },
     "execution_count": 9,
     "metadata": {},
     "output_type": "execute_result"
    }
   ],
   "source": [
    "data.groupby('exited')['customer_id'].count()# consider the target feature. One in four leaves the bank"
   ]
  },
  {
   "cell_type": "code",
   "execution_count": 10,
   "metadata": {},
   "outputs": [
    {
     "data": {
      "text/plain": [
       "exited\n",
       "0    3117\n",
       "1     500\n",
       "Name: customer_id, dtype: int64"
      ]
     },
     "execution_count": 10,
     "metadata": {},
     "output_type": "execute_result"
    }
   ],
   "source": [
    "data[data['balance']==0].groupby('exited')['customer_id'].count()# Every sixth client with a zero balance leaves the bank"
   ]
  },
  {
   "cell_type": "markdown",
   "metadata": {},
   "source": [
    "### Check for duplicates"
   ]
  },
  {
   "cell_type": "code",
   "execution_count": 11,
   "metadata": {},
   "outputs": [
    {
     "data": {
      "text/plain": [
       "0"
      ]
     },
     "execution_count": 11,
     "metadata": {},
     "output_type": "execute_result"
    }
   ],
   "source": [
    "data.duplicated().sum()"
   ]
  },
  {
   "cell_type": "markdown",
   "metadata": {},
   "source": [
    "### Remove non-informative columns not needed for the model row_number, customer_id, surname"
   ]
  },
  {
   "cell_type": "code",
   "execution_count": 12,
   "metadata": {},
   "outputs": [
    {
     "data": {
      "text/html": [
       "<div>\n",
       "<style scoped>\n",
       "    .dataframe tbody tr th:only-of-type {\n",
       "        vertical-align: middle;\n",
       "    }\n",
       "\n",
       "    .dataframe tbody tr th {\n",
       "        vertical-align: top;\n",
       "    }\n",
       "\n",
       "    .dataframe thead th {\n",
       "        text-align: right;\n",
       "    }\n",
       "</style>\n",
       "<table border=\"1\" class=\"dataframe\">\n",
       "  <thead>\n",
       "    <tr style=\"text-align: right;\">\n",
       "      <th></th>\n",
       "      <th>credit_score</th>\n",
       "      <th>geography</th>\n",
       "      <th>gender</th>\n",
       "      <th>age</th>\n",
       "      <th>tenure</th>\n",
       "      <th>balance</th>\n",
       "      <th>num_of_products</th>\n",
       "      <th>has_cr_card</th>\n",
       "      <th>is_active_member</th>\n",
       "      <th>estimated_salary</th>\n",
       "      <th>exited</th>\n",
       "    </tr>\n",
       "  </thead>\n",
       "  <tbody>\n",
       "    <tr>\n",
       "      <th>0</th>\n",
       "      <td>619</td>\n",
       "      <td>France</td>\n",
       "      <td>Female</td>\n",
       "      <td>42</td>\n",
       "      <td>2</td>\n",
       "      <td>0.00</td>\n",
       "      <td>1</td>\n",
       "      <td>1</td>\n",
       "      <td>1</td>\n",
       "      <td>101348.88</td>\n",
       "      <td>1</td>\n",
       "    </tr>\n",
       "    <tr>\n",
       "      <th>1</th>\n",
       "      <td>608</td>\n",
       "      <td>Spain</td>\n",
       "      <td>Female</td>\n",
       "      <td>41</td>\n",
       "      <td>1</td>\n",
       "      <td>83807.86</td>\n",
       "      <td>1</td>\n",
       "      <td>0</td>\n",
       "      <td>1</td>\n",
       "      <td>112542.58</td>\n",
       "      <td>0</td>\n",
       "    </tr>\n",
       "    <tr>\n",
       "      <th>2</th>\n",
       "      <td>502</td>\n",
       "      <td>France</td>\n",
       "      <td>Female</td>\n",
       "      <td>42</td>\n",
       "      <td>8</td>\n",
       "      <td>159660.80</td>\n",
       "      <td>3</td>\n",
       "      <td>1</td>\n",
       "      <td>0</td>\n",
       "      <td>113931.57</td>\n",
       "      <td>1</td>\n",
       "    </tr>\n",
       "    <tr>\n",
       "      <th>3</th>\n",
       "      <td>699</td>\n",
       "      <td>France</td>\n",
       "      <td>Female</td>\n",
       "      <td>39</td>\n",
       "      <td>1</td>\n",
       "      <td>0.00</td>\n",
       "      <td>2</td>\n",
       "      <td>0</td>\n",
       "      <td>0</td>\n",
       "      <td>93826.63</td>\n",
       "      <td>0</td>\n",
       "    </tr>\n",
       "    <tr>\n",
       "      <th>4</th>\n",
       "      <td>850</td>\n",
       "      <td>Spain</td>\n",
       "      <td>Female</td>\n",
       "      <td>43</td>\n",
       "      <td>2</td>\n",
       "      <td>125510.82</td>\n",
       "      <td>1</td>\n",
       "      <td>1</td>\n",
       "      <td>1</td>\n",
       "      <td>79084.10</td>\n",
       "      <td>0</td>\n",
       "    </tr>\n",
       "  </tbody>\n",
       "</table>\n",
       "</div>"
      ],
      "text/plain": [
       "   credit_score geography  gender  age  tenure    balance  num_of_products  \\\n",
       "0           619    France  Female   42       2       0.00                1   \n",
       "1           608     Spain  Female   41       1   83807.86                1   \n",
       "2           502    France  Female   42       8  159660.80                3   \n",
       "3           699    France  Female   39       1       0.00                2   \n",
       "4           850     Spain  Female   43       2  125510.82                1   \n",
       "\n",
       "   has_cr_card  is_active_member  estimated_salary  exited  \n",
       "0            1                 1         101348.88       1  \n",
       "1            0                 1         112542.58       0  \n",
       "2            1                 0         113931.57       1  \n",
       "3            0                 0          93826.63       0  \n",
       "4            1                 1          79084.10       0  "
      ]
     },
     "execution_count": 12,
     "metadata": {},
     "output_type": "execute_result"
    }
   ],
   "source": [
    "data = data.drop(['row_number', 'customer_id', 'surname'], axis=1).copy()\n",
    "data.head()"
   ]
  },
  {
   "cell_type": "code",
   "execution_count": 13,
   "metadata": {},
   "outputs": [
    {
     "data": {
      "image/png": "[encoded data removed]",
      "text/plain": [
       "<Figure size 1500x2000 with 9 Axes>"
      ]
     },
     "metadata": {},
     "output_type": "display_data"
    }
   ],
   "source": [
    "data.hist(bins=50, figsize=(15, 20))#built a common histogram for all numeric columns\n",
    "plt.show()"
   ]
  },
  {
   "cell_type": "markdown",
   "metadata": {},
   "source": [
    "### Findings"
   ]
  },
  {
   "cell_type": "markdown",
   "metadata": {},
   "source": [
    "1. Out of 10,000 customers, 2,037 customers left the bank.\n",
    "2. Column names are changed to snake and lowercase\n",
    "3. Anomalies were not detected\n",
    "4. There is an imbalance of classes. The number of customer exits is approximately four times less than the remaining\n",
    "5. People with zero balances are more likely to leave the bank"
   ]
  },
  {
   "cell_type": "markdown",
   "metadata": {
    "tags": []
   },
   "source": [
    "## Problem research"
   ]
  },
  {
   "cell_type": "markdown",
   "metadata": {},
   "source": [
    "Clients started leaving the bank. A little, but noticeable. Banking marketers figured it was cheaper to keep current customers than to attract new ones.\n",
    "It is necessary to predict whether the client will leave the bank in the near future or not.\n",
    "1. Let us construct a model with an extremely large value of the F1-measure. Let's check the F1-measure on the test sample.\n",
    "2. Additionally, we measure the AUC-ROC, compare its value with the F1-measure.\n",
    "3. We have an imbalance of classes, correctness (accuracy) does not suit us.\n",
    "To solve this problem, I propose to use the algorithms of Logistic Regression, Random Forest and Decision Tree, Catboost"
   ]
  },
  {
   "cell_type": "markdown",
   "metadata": {},
   "source": [
    "### One-hot Encoding"
   ]
  },
  {
   "cell_type": "code",
   "execution_count": 14,
   "metadata": {},
   "outputs": [
    {
     "name": "stdout",
     "output_type": "stream",
     "text": [
      "geography:['France' 'Spain' 'Germany']:3\n",
      "gender:['Female' 'Male']:2\n"
     ]
    }
   ],
   "source": [
    "def unique_values(data):\n",
    "    for column in data : \n",
    "        if data[column].dtypes == 'object':\n",
    "            print(f'{column}:{data[column].unique()}:{len(data[column].unique())}')\n",
    "unique_values(data)"
   ]
  },
  {
   "cell_type": "markdown",
   "metadata": {},
   "source": [
    "Converting categorical features to numerical will help the direct coding technique, or One-Hot Encoding display.\n",
    "The OHE technique converts categorical features into numerical features in two stages:\n",
    "1. A new column is created for each characteristic value;\n",
    "2. If the category is suitable for the object, 1 is assigned, if not, 0.\n",
    "The new features are called dummy variables, or dummy features.\n",
    "For direct encoding, the pandas library has the pd.get_dummies() function.\n",
    "Let's convert the categorical features of the gender and geography columns with the One-hot Encoding method into numerical ones."
   ]
  },
  {
   "cell_type": "code",
   "execution_count": 15,
   "metadata": {},
   "outputs": [
    {
     "data": {
      "text/plain": [
       "gender\n",
       "Female    4543\n",
       "Male      5457\n",
       "Name: estimated_salary, dtype: int64"
      ]
     },
     "execution_count": 15,
     "metadata": {},
     "output_type": "execute_result"
    }
   ],
   "source": [
    "data.groupby('gender')['estimated_salary'].count()# consider the target feature"
   ]
  },
  {
   "cell_type": "code",
   "execution_count": 16,
   "metadata": {},
   "outputs": [
    {
     "data": {
      "text/plain": [
       "geography\n",
       "France     5014\n",
       "Germany    2509\n",
       "Spain      2477\n",
       "Name: estimated_salary, dtype: int64"
      ]
     },
     "execution_count": 16,
     "metadata": {},
     "output_type": "execute_result"
    }
   ],
   "source": [
    "data.groupby('geography')['estimated_salary'].count()#consider the target feature"
   ]
  },
  {
   "cell_type": "code",
   "execution_count": 17,
   "metadata": {},
   "outputs": [],
   "source": [
    "data['gender'] = pd.get_dummies(data[\"gender\"], drop_first=True)"
   ]
  },
  {
   "cell_type": "code",
   "execution_count": 18,
   "metadata": {},
   "outputs": [
    {
     "data": {
      "text/html": [
       "<div>\n",
       "<style scoped>\n",
       "    .dataframe tbody tr th:only-of-type {\n",
       "        vertical-align: middle;\n",
       "    }\n",
       "\n",
       "    .dataframe tbody tr th {\n",
       "        vertical-align: top;\n",
       "    }\n",
       "\n",
       "    .dataframe thead th {\n",
       "        text-align: right;\n",
       "    }\n",
       "</style>\n",
       "<table border=\"1\" class=\"dataframe\">\n",
       "  <thead>\n",
       "    <tr style=\"text-align: right;\">\n",
       "      <th></th>\n",
       "      <th>Germany</th>\n",
       "      <th>Spain</th>\n",
       "    </tr>\n",
       "  </thead>\n",
       "  <tbody>\n",
       "    <tr>\n",
       "      <th>0</th>\n",
       "      <td>0</td>\n",
       "      <td>0</td>\n",
       "    </tr>\n",
       "    <tr>\n",
       "      <th>1</th>\n",
       "      <td>0</td>\n",
       "      <td>1</td>\n",
       "    </tr>\n",
       "    <tr>\n",
       "      <th>2</th>\n",
       "      <td>0</td>\n",
       "      <td>0</td>\n",
       "    </tr>\n",
       "    <tr>\n",
       "      <th>3</th>\n",
       "      <td>0</td>\n",
       "      <td>0</td>\n",
       "    </tr>\n",
       "    <tr>\n",
       "      <th>4</th>\n",
       "      <td>0</td>\n",
       "      <td>1</td>\n",
       "    </tr>\n",
       "    <tr>\n",
       "      <th>...</th>\n",
       "      <td>...</td>\n",
       "      <td>...</td>\n",
       "    </tr>\n",
       "    <tr>\n",
       "      <th>9995</th>\n",
       "      <td>0</td>\n",
       "      <td>0</td>\n",
       "    </tr>\n",
       "    <tr>\n",
       "      <th>9996</th>\n",
       "      <td>0</td>\n",
       "      <td>0</td>\n",
       "    </tr>\n",
       "    <tr>\n",
       "      <th>9997</th>\n",
       "      <td>0</td>\n",
       "      <td>0</td>\n",
       "    </tr>\n",
       "    <tr>\n",
       "      <th>9998</th>\n",
       "      <td>1</td>\n",
       "      <td>0</td>\n",
       "    </tr>\n",
       "    <tr>\n",
       "      <th>9999</th>\n",
       "      <td>0</td>\n",
       "      <td>0</td>\n",
       "    </tr>\n",
       "  </tbody>\n",
       "</table>\n",
       "<p>10000 rows × 2 columns</p>\n",
       "</div>"
      ],
      "text/plain": [
       "      Germany  Spain\n",
       "0           0      0\n",
       "1           0      1\n",
       "2           0      0\n",
       "3           0      0\n",
       "4           0      1\n",
       "...       ...    ...\n",
       "9995        0      0\n",
       "9996        0      0\n",
       "9997        0      0\n",
       "9998        1      0\n",
       "9999        0      0\n",
       "\n",
       "[10000 rows x 2 columns]"
      ]
     },
     "execution_count": 18,
     "metadata": {},
     "output_type": "execute_result"
    }
   ],
   "source": [
    "pd.get_dummies(data[\"geography\"], drop_first=True)"
   ]
  },
  {
   "cell_type": "code",
   "execution_count": 19,
   "metadata": {},
   "outputs": [],
   "source": [
    "data_ohe = pd.get_dummies(data[\"geography\"], drop_first=True)"
   ]
  },
  {
   "cell_type": "code",
   "execution_count": 20,
   "metadata": {},
   "outputs": [
    {
     "data": {
      "text/html": [
       "<div>\n",
       "<style scoped>\n",
       "    .dataframe tbody tr th:only-of-type {\n",
       "        vertical-align: middle;\n",
       "    }\n",
       "\n",
       "    .dataframe tbody tr th {\n",
       "        vertical-align: top;\n",
       "    }\n",
       "\n",
       "    .dataframe thead th {\n",
       "        text-align: right;\n",
       "    }\n",
       "</style>\n",
       "<table border=\"1\" class=\"dataframe\">\n",
       "  <thead>\n",
       "    <tr style=\"text-align: right;\">\n",
       "      <th></th>\n",
       "      <th>credit_score</th>\n",
       "      <th>geography</th>\n",
       "      <th>gender</th>\n",
       "      <th>age</th>\n",
       "      <th>tenure</th>\n",
       "      <th>balance</th>\n",
       "      <th>num_of_products</th>\n",
       "      <th>has_cr_card</th>\n",
       "      <th>is_active_member</th>\n",
       "      <th>estimated_salary</th>\n",
       "      <th>exited</th>\n",
       "      <th>Germany</th>\n",
       "      <th>Spain</th>\n",
       "    </tr>\n",
       "  </thead>\n",
       "  <tbody>\n",
       "    <tr>\n",
       "      <th>0</th>\n",
       "      <td>619</td>\n",
       "      <td>France</td>\n",
       "      <td>0</td>\n",
       "      <td>42</td>\n",
       "      <td>2</td>\n",
       "      <td>0.00</td>\n",
       "      <td>1</td>\n",
       "      <td>1</td>\n",
       "      <td>1</td>\n",
       "      <td>101348.88</td>\n",
       "      <td>1</td>\n",
       "      <td>0</td>\n",
       "      <td>0</td>\n",
       "    </tr>\n",
       "    <tr>\n",
       "      <th>1</th>\n",
       "      <td>608</td>\n",
       "      <td>Spain</td>\n",
       "      <td>0</td>\n",
       "      <td>41</td>\n",
       "      <td>1</td>\n",
       "      <td>83807.86</td>\n",
       "      <td>1</td>\n",
       "      <td>0</td>\n",
       "      <td>1</td>\n",
       "      <td>112542.58</td>\n",
       "      <td>0</td>\n",
       "      <td>0</td>\n",
       "      <td>1</td>\n",
       "    </tr>\n",
       "    <tr>\n",
       "      <th>2</th>\n",
       "      <td>502</td>\n",
       "      <td>France</td>\n",
       "      <td>0</td>\n",
       "      <td>42</td>\n",
       "      <td>8</td>\n",
       "      <td>159660.80</td>\n",
       "      <td>3</td>\n",
       "      <td>1</td>\n",
       "      <td>0</td>\n",
       "      <td>113931.57</td>\n",
       "      <td>1</td>\n",
       "      <td>0</td>\n",
       "      <td>0</td>\n",
       "    </tr>\n",
       "    <tr>\n",
       "      <th>3</th>\n",
       "      <td>699</td>\n",
       "      <td>France</td>\n",
       "      <td>0</td>\n",
       "      <td>39</td>\n",
       "      <td>1</td>\n",
       "      <td>0.00</td>\n",
       "      <td>2</td>\n",
       "      <td>0</td>\n",
       "      <td>0</td>\n",
       "      <td>93826.63</td>\n",
       "      <td>0</td>\n",
       "      <td>0</td>\n",
       "      <td>0</td>\n",
       "    </tr>\n",
       "    <tr>\n",
       "      <th>4</th>\n",
       "      <td>850</td>\n",
       "      <td>Spain</td>\n",
       "      <td>0</td>\n",
       "      <td>43</td>\n",
       "      <td>2</td>\n",
       "      <td>125510.82</td>\n",
       "      <td>1</td>\n",
       "      <td>1</td>\n",
       "      <td>1</td>\n",
       "      <td>79084.10</td>\n",
       "      <td>0</td>\n",
       "      <td>0</td>\n",
       "      <td>1</td>\n",
       "    </tr>\n",
       "  </tbody>\n",
       "</table>\n",
       "</div>"
      ],
      "text/plain": [
       "   credit_score geography  gender  age  tenure    balance  num_of_products  \\\n",
       "0           619    France       0   42       2       0.00                1   \n",
       "1           608     Spain       0   41       1   83807.86                1   \n",
       "2           502    France       0   42       8  159660.80                3   \n",
       "3           699    France       0   39       1       0.00                2   \n",
       "4           850     Spain       0   43       2  125510.82                1   \n",
       "\n",
       "   has_cr_card  is_active_member  estimated_salary  exited  Germany  Spain  \n",
       "0            1                 1         101348.88       1        0      0  \n",
       "1            0                 1         112542.58       0        0      1  \n",
       "2            1                 0         113931.57       1        0      0  \n",
       "3            0                 0          93826.63       0        0      0  \n",
       "4            1                 1          79084.10       0        0      1  "
      ]
     },
     "execution_count": 20,
     "metadata": {},
     "output_type": "execute_result"
    }
   ],
   "source": [
    "data = pd.concat([data, data_ohe], axis=1)#add new columns from geography\n",
    "\n",
    "data.head()"
   ]
  },
  {
   "cell_type": "code",
   "execution_count": 21,
   "metadata": {},
   "outputs": [
    {
     "data": {
      "text/html": [
       "<div>\n",
       "<style scoped>\n",
       "    .dataframe tbody tr th:only-of-type {\n",
       "        vertical-align: middle;\n",
       "    }\n",
       "\n",
       "    .dataframe tbody tr th {\n",
       "        vertical-align: top;\n",
       "    }\n",
       "\n",
       "    .dataframe thead th {\n",
       "        text-align: right;\n",
       "    }\n",
       "</style>\n",
       "<table border=\"1\" class=\"dataframe\">\n",
       "  <thead>\n",
       "    <tr style=\"text-align: right;\">\n",
       "      <th></th>\n",
       "      <th>credit_score</th>\n",
       "      <th>gender</th>\n",
       "      <th>age</th>\n",
       "      <th>tenure</th>\n",
       "      <th>balance</th>\n",
       "      <th>num_of_products</th>\n",
       "      <th>has_cr_card</th>\n",
       "      <th>is_active_member</th>\n",
       "      <th>estimated_salary</th>\n",
       "      <th>exited</th>\n",
       "      <th>Germany</th>\n",
       "      <th>Spain</th>\n",
       "    </tr>\n",
       "  </thead>\n",
       "  <tbody>\n",
       "    <tr>\n",
       "      <th>0</th>\n",
       "      <td>619</td>\n",
       "      <td>0</td>\n",
       "      <td>42</td>\n",
       "      <td>2</td>\n",
       "      <td>0.00</td>\n",
       "      <td>1</td>\n",
       "      <td>1</td>\n",
       "      <td>1</td>\n",
       "      <td>101348.88</td>\n",
       "      <td>1</td>\n",
       "      <td>0</td>\n",
       "      <td>0</td>\n",
       "    </tr>\n",
       "    <tr>\n",
       "      <th>1</th>\n",
       "      <td>608</td>\n",
       "      <td>0</td>\n",
       "      <td>41</td>\n",
       "      <td>1</td>\n",
       "      <td>83807.86</td>\n",
       "      <td>1</td>\n",
       "      <td>0</td>\n",
       "      <td>1</td>\n",
       "      <td>112542.58</td>\n",
       "      <td>0</td>\n",
       "      <td>0</td>\n",
       "      <td>1</td>\n",
       "    </tr>\n",
       "    <tr>\n",
       "      <th>2</th>\n",
       "      <td>502</td>\n",
       "      <td>0</td>\n",
       "      <td>42</td>\n",
       "      <td>8</td>\n",
       "      <td>159660.80</td>\n",
       "      <td>3</td>\n",
       "      <td>1</td>\n",
       "      <td>0</td>\n",
       "      <td>113931.57</td>\n",
       "      <td>1</td>\n",
       "      <td>0</td>\n",
       "      <td>0</td>\n",
       "    </tr>\n",
       "    <tr>\n",
       "      <th>3</th>\n",
       "      <td>699</td>\n",
       "      <td>0</td>\n",
       "      <td>39</td>\n",
       "      <td>1</td>\n",
       "      <td>0.00</td>\n",
       "      <td>2</td>\n",
       "      <td>0</td>\n",
       "      <td>0</td>\n",
       "      <td>93826.63</td>\n",
       "      <td>0</td>\n",
       "      <td>0</td>\n",
       "      <td>0</td>\n",
       "    </tr>\n",
       "    <tr>\n",
       "      <th>4</th>\n",
       "      <td>850</td>\n",
       "      <td>0</td>\n",
       "      <td>43</td>\n",
       "      <td>2</td>\n",
       "      <td>125510.82</td>\n",
       "      <td>1</td>\n",
       "      <td>1</td>\n",
       "      <td>1</td>\n",
       "      <td>79084.10</td>\n",
       "      <td>0</td>\n",
       "      <td>0</td>\n",
       "      <td>1</td>\n",
       "    </tr>\n",
       "  </tbody>\n",
       "</table>\n",
       "</div>"
      ],
      "text/plain": [
       "   credit_score  gender  age  tenure    balance  num_of_products  has_cr_card  \\\n",
       "0           619       0   42       2       0.00                1            1   \n",
       "1           608       0   41       1   83807.86                1            0   \n",
       "2           502       0   42       8  159660.80                3            1   \n",
       "3           699       0   39       1       0.00                2            0   \n",
       "4           850       0   43       2  125510.82                1            1   \n",
       "\n",
       "   is_active_member  estimated_salary  exited  Germany  Spain  \n",
       "0                 1         101348.88       1        0      0  \n",
       "1                 1         112542.58       0        0      1  \n",
       "2                 0         113931.57       1        0      0  \n",
       "3                 0          93826.63       0        0      0  \n",
       "4                 1          79084.10       0        0      1  "
      ]
     },
     "execution_count": 21,
     "metadata": {},
     "output_type": "execute_result"
    }
   ],
   "source": [
    "data = data.drop(['geography'], axis=1).copy()#remove the geography column\n",
    "data.head()"
   ]
  },
  {
   "cell_type": "markdown",
   "metadata": {},
   "source": [
    "### Divide the data into samples"
   ]
  },
  {
   "cell_type": "code",
   "execution_count": 22,
   "metadata": {},
   "outputs": [],
   "source": [
    "# separate 20% of the data for the test sample of the sample (for model validation)"
   ]
  },
  {
   "cell_type": "code",
   "execution_count": 23,
   "metadata": {},
   "outputs": [],
   "source": [
    "target = data['exited']\n",
    "features = data.drop(['exited'] , axis=1)\n",
    "features_other, features_test, target_other, target_test = train_test_split(\n",
    "    features, target, test_size=0.2, random_state=12345)"
   ]
  },
  {
   "cell_type": "code",
   "execution_count": 24,
   "metadata": {},
   "outputs": [],
   "source": [
    "# separate 25% of the data (from other) to split into training and validation sets"
   ]
  },
  {
   "cell_type": "code",
   "execution_count": 25,
   "metadata": {},
   "outputs": [],
   "source": [
    "features_train, features_valid, target_train, target_valid = train_test_split(\n",
    "    features_other, target_other, test_size=0.25, random_state=12345)"
   ]
  },
  {
   "cell_type": "code",
   "execution_count": 26,
   "metadata": {},
   "outputs": [
    {
     "name": "stdout",
     "output_type": "stream",
     "text": [
      "Training sample size 6000\n",
      "Validation sample size 2000\n",
      "Test sample size 2000\n"
     ]
    }
   ],
   "source": [
    "print('Training sample size', len(features_train))\n",
    "print('Validation sample size', len(features_valid))\n",
    "print('Test sample size', len(features_test))"
   ]
  },
  {
   "cell_type": "markdown",
   "metadata": {},
   "source": [
    "### Feature scaling"
   ]
  },
  {
   "cell_type": "markdown",
   "metadata": {},
   "source": [
    "If the data contains quantitative features with different ranges of values, then the algorithm may decide that features with large values and ranges are more important.   To avoid this\n",
    "traps, signs are scaled - brought to the same scale."
   ]
  },
  {
   "cell_type": "code",
   "execution_count": 27,
   "metadata": {},
   "outputs": [
    {
     "data": {
      "text/html": [
       "<div>\n",
       "<style scoped>\n",
       "    .dataframe tbody tr th:only-of-type {\n",
       "        vertical-align: middle;\n",
       "    }\n",
       "\n",
       "    .dataframe tbody tr th {\n",
       "        vertical-align: top;\n",
       "    }\n",
       "\n",
       "    .dataframe thead th {\n",
       "        text-align: right;\n",
       "    }\n",
       "</style>\n",
       "<table border=\"1\" class=\"dataframe\">\n",
       "  <thead>\n",
       "    <tr style=\"text-align: right;\">\n",
       "      <th></th>\n",
       "      <th>credit_score</th>\n",
       "      <th>gender</th>\n",
       "      <th>age</th>\n",
       "      <th>tenure</th>\n",
       "      <th>balance</th>\n",
       "      <th>num_of_products</th>\n",
       "      <th>has_cr_card</th>\n",
       "      <th>is_active_member</th>\n",
       "      <th>estimated_salary</th>\n",
       "      <th>Germany</th>\n",
       "      <th>Spain</th>\n",
       "    </tr>\n",
       "  </thead>\n",
       "  <tbody>\n",
       "    <tr>\n",
       "      <th>492</th>\n",
       "      <td>-0.134048</td>\n",
       "      <td>0</td>\n",
       "      <td>-0.078068</td>\n",
       "      <td>-0.357205</td>\n",
       "      <td>0.076163</td>\n",
       "      <td>0.816929</td>\n",
       "      <td>0</td>\n",
       "      <td>1</td>\n",
       "      <td>0.331571</td>\n",
       "      <td>0</td>\n",
       "      <td>0</td>\n",
       "    </tr>\n",
       "    <tr>\n",
       "      <th>6655</th>\n",
       "      <td>-1.010798</td>\n",
       "      <td>1</td>\n",
       "      <td>0.494555</td>\n",
       "      <td>0.676673</td>\n",
       "      <td>0.136391</td>\n",
       "      <td>-0.896909</td>\n",
       "      <td>1</td>\n",
       "      <td>1</td>\n",
       "      <td>-0.727858</td>\n",
       "      <td>0</td>\n",
       "      <td>0</td>\n",
       "    </tr>\n",
       "    <tr>\n",
       "      <th>4287</th>\n",
       "      <td>0.639554</td>\n",
       "      <td>1</td>\n",
       "      <td>1.353490</td>\n",
       "      <td>-1.391083</td>\n",
       "      <td>0.358435</td>\n",
       "      <td>-0.896909</td>\n",
       "      <td>1</td>\n",
       "      <td>1</td>\n",
       "      <td>-0.477006</td>\n",
       "      <td>1</td>\n",
       "      <td>0</td>\n",
       "    </tr>\n",
       "    <tr>\n",
       "      <th>42</th>\n",
       "      <td>-0.990168</td>\n",
       "      <td>0</td>\n",
       "      <td>2.116987</td>\n",
       "      <td>-1.046457</td>\n",
       "      <td>0.651725</td>\n",
       "      <td>-0.896909</td>\n",
       "      <td>1</td>\n",
       "      <td>1</td>\n",
       "      <td>-0.100232</td>\n",
       "      <td>0</td>\n",
       "      <td>0</td>\n",
       "    </tr>\n",
       "    <tr>\n",
       "      <th>8178</th>\n",
       "      <td>0.567351</td>\n",
       "      <td>0</td>\n",
       "      <td>0.685430</td>\n",
       "      <td>0.676673</td>\n",
       "      <td>0.813110</td>\n",
       "      <td>0.816929</td>\n",
       "      <td>1</td>\n",
       "      <td>1</td>\n",
       "      <td>0.801922</td>\n",
       "      <td>0</td>\n",
       "      <td>0</td>\n",
       "    </tr>\n",
       "  </tbody>\n",
       "</table>\n",
       "</div>"
      ],
      "text/plain": [
       "      credit_score  gender       age    tenure   balance  num_of_products  \\\n",
       "492      -0.134048       0 -0.078068 -0.357205  0.076163         0.816929   \n",
       "6655     -1.010798       1  0.494555  0.676673  0.136391        -0.896909   \n",
       "4287      0.639554       1  1.353490 -1.391083  0.358435        -0.896909   \n",
       "42       -0.990168       0  2.116987 -1.046457  0.651725        -0.896909   \n",
       "8178      0.567351       0  0.685430  0.676673  0.813110         0.816929   \n",
       "\n",
       "      has_cr_card  is_active_member  estimated_salary  Germany  Spain  \n",
       "492             0                 1          0.331571        0      0  \n",
       "6655            1                 1         -0.727858        0      0  \n",
       "4287            1                 1         -0.477006        1      0  \n",
       "42              1                 1         -0.100232        0      0  \n",
       "8178            1                 1          0.801922        0      0  "
      ]
     },
     "execution_count": 27,
     "metadata": {},
     "output_type": "execute_result"
    }
   ],
   "source": [
    "numeric = ['credit_score', 'age', 'tenure', 'balance', 'num_of_products', 'estimated_salary']\n",
    "\n",
    "scaler = StandardScaler()\n",
    "scaler.fit(features_train[numeric])\n",
    "\n",
    "features_train[numeric] = scaler.transform(features_train[numeric])\n",
    "features_train.head()"
   ]
  },
  {
   "cell_type": "code",
   "execution_count": 28,
   "metadata": {},
   "outputs": [
    {
     "data": {
      "text/html": [
       "<div>\n",
       "<style scoped>\n",
       "    .dataframe tbody tr th:only-of-type {\n",
       "        vertical-align: middle;\n",
       "    }\n",
       "\n",
       "    .dataframe tbody tr th {\n",
       "        vertical-align: top;\n",
       "    }\n",
       "\n",
       "    .dataframe thead th {\n",
       "        text-align: right;\n",
       "    }\n",
       "</style>\n",
       "<table border=\"1\" class=\"dataframe\">\n",
       "  <thead>\n",
       "    <tr style=\"text-align: right;\">\n",
       "      <th></th>\n",
       "      <th>credit_score</th>\n",
       "      <th>gender</th>\n",
       "      <th>age</th>\n",
       "      <th>tenure</th>\n",
       "      <th>balance</th>\n",
       "      <th>num_of_products</th>\n",
       "      <th>has_cr_card</th>\n",
       "      <th>is_active_member</th>\n",
       "      <th>estimated_salary</th>\n",
       "      <th>Germany</th>\n",
       "      <th>Spain</th>\n",
       "    </tr>\n",
       "  </thead>\n",
       "  <tbody>\n",
       "    <tr>\n",
       "      <th>2358</th>\n",
       "      <td>0.175393</td>\n",
       "      <td>1</td>\n",
       "      <td>0.399118</td>\n",
       "      <td>-1.391083</td>\n",
       "      <td>1.385698</td>\n",
       "      <td>-0.896909</td>\n",
       "      <td>0</td>\n",
       "      <td>1</td>\n",
       "      <td>-1.466761</td>\n",
       "      <td>0</td>\n",
       "      <td>0</td>\n",
       "    </tr>\n",
       "    <tr>\n",
       "      <th>8463</th>\n",
       "      <td>-1.299609</td>\n",
       "      <td>1</td>\n",
       "      <td>0.971741</td>\n",
       "      <td>-1.046457</td>\n",
       "      <td>-1.232442</td>\n",
       "      <td>-0.896909</td>\n",
       "      <td>1</td>\n",
       "      <td>0</td>\n",
       "      <td>0.254415</td>\n",
       "      <td>0</td>\n",
       "      <td>1</td>\n",
       "    </tr>\n",
       "    <tr>\n",
       "      <th>163</th>\n",
       "      <td>0.711757</td>\n",
       "      <td>0</td>\n",
       "      <td>-0.268942</td>\n",
       "      <td>-1.046457</td>\n",
       "      <td>-1.232442</td>\n",
       "      <td>0.816929</td>\n",
       "      <td>1</td>\n",
       "      <td>1</td>\n",
       "      <td>0.122863</td>\n",
       "      <td>0</td>\n",
       "      <td>1</td>\n",
       "    </tr>\n",
       "    <tr>\n",
       "      <th>3074</th>\n",
       "      <td>-0.391916</td>\n",
       "      <td>0</td>\n",
       "      <td>0.494555</td>\n",
       "      <td>0.332047</td>\n",
       "      <td>0.672529</td>\n",
       "      <td>-0.896909</td>\n",
       "      <td>1</td>\n",
       "      <td>0</td>\n",
       "      <td>0.585847</td>\n",
       "      <td>1</td>\n",
       "      <td>0</td>\n",
       "    </tr>\n",
       "    <tr>\n",
       "      <th>5989</th>\n",
       "      <td>0.165078</td>\n",
       "      <td>0</td>\n",
       "      <td>1.353490</td>\n",
       "      <td>1.710552</td>\n",
       "      <td>0.536522</td>\n",
       "      <td>-0.896909</td>\n",
       "      <td>0</td>\n",
       "      <td>0</td>\n",
       "      <td>1.462457</td>\n",
       "      <td>0</td>\n",
       "      <td>0</td>\n",
       "    </tr>\n",
       "  </tbody>\n",
       "</table>\n",
       "</div>"
      ],
      "text/plain": [
       "      credit_score  gender       age    tenure   balance  num_of_products  \\\n",
       "2358      0.175393       1  0.399118 -1.391083  1.385698        -0.896909   \n",
       "8463     -1.299609       1  0.971741 -1.046457 -1.232442        -0.896909   \n",
       "163       0.711757       0 -0.268942 -1.046457 -1.232442         0.816929   \n",
       "3074     -0.391916       0  0.494555  0.332047  0.672529        -0.896909   \n",
       "5989      0.165078       0  1.353490  1.710552  0.536522        -0.896909   \n",
       "\n",
       "      has_cr_card  is_active_member  estimated_salary  Germany  Spain  \n",
       "2358            0                 1         -1.466761        0      0  \n",
       "8463            1                 0          0.254415        0      1  \n",
       "163             1                 1          0.122863        0      1  \n",
       "3074            1                 0          0.585847        1      0  \n",
       "5989            0                 0          1.462457        0      0  "
      ]
     },
     "execution_count": 28,
     "metadata": {},
     "output_type": "execute_result"
    }
   ],
   "source": [
    "features_valid[numeric] = scaler.transform(features_valid[numeric])\n",
    "features_valid.head()"
   ]
  },
  {
   "cell_type": "code",
   "execution_count": 29,
   "metadata": {},
   "outputs": [
    {
     "data": {
      "text/html": [
       "<div>\n",
       "<style scoped>\n",
       "    .dataframe tbody tr th:only-of-type {\n",
       "        vertical-align: middle;\n",
       "    }\n",
       "\n",
       "    .dataframe tbody tr th {\n",
       "        vertical-align: top;\n",
       "    }\n",
       "\n",
       "    .dataframe thead th {\n",
       "        text-align: right;\n",
       "    }\n",
       "</style>\n",
       "<table border=\"1\" class=\"dataframe\">\n",
       "  <thead>\n",
       "    <tr style=\"text-align: right;\">\n",
       "      <th></th>\n",
       "      <th>credit_score</th>\n",
       "      <th>gender</th>\n",
       "      <th>age</th>\n",
       "      <th>tenure</th>\n",
       "      <th>balance</th>\n",
       "      <th>num_of_products</th>\n",
       "      <th>has_cr_card</th>\n",
       "      <th>is_active_member</th>\n",
       "      <th>estimated_salary</th>\n",
       "      <th>Germany</th>\n",
       "      <th>Spain</th>\n",
       "    </tr>\n",
       "  </thead>\n",
       "  <tbody>\n",
       "    <tr>\n",
       "      <th>7867</th>\n",
       "      <td>-0.123733</td>\n",
       "      <td>0</td>\n",
       "      <td>0.685430</td>\n",
       "      <td>-0.701831</td>\n",
       "      <td>-1.232442</td>\n",
       "      <td>-0.896909</td>\n",
       "      <td>1</td>\n",
       "      <td>1</td>\n",
       "      <td>0.980212</td>\n",
       "      <td>0</td>\n",
       "      <td>1</td>\n",
       "    </tr>\n",
       "    <tr>\n",
       "      <th>1402</th>\n",
       "      <td>1.083087</td>\n",
       "      <td>1</td>\n",
       "      <td>-0.937002</td>\n",
       "      <td>1.021300</td>\n",
       "      <td>0.858518</td>\n",
       "      <td>-0.896909</td>\n",
       "      <td>1</td>\n",
       "      <td>0</td>\n",
       "      <td>-0.390486</td>\n",
       "      <td>0</td>\n",
       "      <td>0</td>\n",
       "    </tr>\n",
       "    <tr>\n",
       "      <th>8606</th>\n",
       "      <td>1.598822</td>\n",
       "      <td>1</td>\n",
       "      <td>0.303681</td>\n",
       "      <td>-0.012579</td>\n",
       "      <td>-1.232442</td>\n",
       "      <td>0.816929</td>\n",
       "      <td>1</td>\n",
       "      <td>1</td>\n",
       "      <td>-0.435169</td>\n",
       "      <td>0</td>\n",
       "      <td>1</td>\n",
       "    </tr>\n",
       "    <tr>\n",
       "      <th>8885</th>\n",
       "      <td>0.165078</td>\n",
       "      <td>1</td>\n",
       "      <td>0.589993</td>\n",
       "      <td>-0.357205</td>\n",
       "      <td>0.412100</td>\n",
       "      <td>0.816929</td>\n",
       "      <td>1</td>\n",
       "      <td>1</td>\n",
       "      <td>1.017079</td>\n",
       "      <td>0</td>\n",
       "      <td>1</td>\n",
       "    </tr>\n",
       "    <tr>\n",
       "      <th>6494</th>\n",
       "      <td>0.484834</td>\n",
       "      <td>1</td>\n",
       "      <td>-1.032439</td>\n",
       "      <td>0.676673</td>\n",
       "      <td>-1.232442</td>\n",
       "      <td>0.816929</td>\n",
       "      <td>1</td>\n",
       "      <td>1</td>\n",
       "      <td>-1.343558</td>\n",
       "      <td>0</td>\n",
       "      <td>0</td>\n",
       "    </tr>\n",
       "  </tbody>\n",
       "</table>\n",
       "</div>"
      ],
      "text/plain": [
       "      credit_score  gender       age    tenure   balance  num_of_products  \\\n",
       "7867     -0.123733       0  0.685430 -0.701831 -1.232442        -0.896909   \n",
       "1402      1.083087       1 -0.937002  1.021300  0.858518        -0.896909   \n",
       "8606      1.598822       1  0.303681 -0.012579 -1.232442         0.816929   \n",
       "8885      0.165078       1  0.589993 -0.357205  0.412100         0.816929   \n",
       "6494      0.484834       1 -1.032439  0.676673 -1.232442         0.816929   \n",
       "\n",
       "      has_cr_card  is_active_member  estimated_salary  Germany  Spain  \n",
       "7867            1                 1          0.980212        0      1  \n",
       "1402            1                 0         -0.390486        0      0  \n",
       "8606            1                 1         -0.435169        0      1  \n",
       "8885            1                 1          1.017079        0      1  \n",
       "6494            1                 1         -1.343558        0      0  "
      ]
     },
     "execution_count": 29,
     "metadata": {},
     "output_type": "execute_result"
    }
   ],
   "source": [
    "features_test[numeric] = scaler.transform(features_test[numeric])\n",
    "features_test.head()"
   ]
  },
  {
   "cell_type": "markdown",
   "metadata": {},
   "source": [
    "### Examining models without imbalance"
   ]
  },
  {
   "cell_type": "code",
   "execution_count": 30,
   "metadata": {},
   "outputs": [],
   "source": [
    "#for the convenience of output in the future - we will collect the indicators in lists\n",
    "tabl_model = []\n",
    "tabl_prec = []\n",
    "tabl_not = []\n",
    "tabl_roc_auc = []"
   ]
  },
  {
   "cell_type": "markdown",
   "metadata": {},
   "source": [
    "#### Logistic Regression Model"
   ]
  },
  {
   "cell_type": "code",
   "execution_count": 31,
   "metadata": {},
   "outputs": [
    {
     "name": "stdout",
     "output_type": "stream",
     "text": [
      "F1: 0.30393996247654786\n",
      "AUC_ROC = 0.770\n",
      "\n"
     ]
    }
   ],
   "source": [
    "model = LogisticRegression(solver = 'liblinear', penalty = 'l2', multi_class ='auto', fit_intercept=True, dual=False, C=10,\n",
    "                           random_state=12345, max_iter=1000) \n",
    "model.fit(features_train, target_train) # train the model on the training data\n",
    "predicted_valid = model.predict(features_valid)\n",
    "print(\"F1:\", f1_score(target_valid, predicted_valid))# calculate the quality of the model on the validation set\n",
    "\n",
    "probabilities_valid = model.predict_proba(features_valid)[:, 1]\n",
    "auc_roc = roc_auc_score(target_valid, probabilities_valid)\n",
    "print(\"AUC_ROC = {:.3f}\\n\".format(auc_roc))\n"
   ]
  },
  {
   "cell_type": "code",
   "execution_count": 32,
   "metadata": {},
   "outputs": [],
   "source": [
    "tabl_prec.append(round(f1_score(target_valid, predicted_valid), 2))\n",
    "tabl_roc_auc.append(round(auc_roc, 2))\n",
    "tabl_model.append('LogisticRegression')\n",
    "tabl_not.append('without_imbalance')\n"
   ]
  },
  {
   "cell_type": "markdown",
   "metadata": {},
   "source": [
    "Small value F1. We will select parameters and disassemble with an imbalance later"
   ]
  },
  {
   "cell_type": "markdown",
   "metadata": {},
   "source": [
    "#### Decision tree model"
   ]
  },
  {
   "cell_type": "code",
   "execution_count": 33,
   "metadata": {},
   "outputs": [
    {
     "name": "stdout",
     "output_type": "stream",
     "text": [
      "F1 best model: 0.5520504731861199\n",
      "max_depth best model: DecisionTreeClassifier(max_depth=7)\n",
      "AUC_ROC = 0.820\n",
      "\n",
      "CPU times: user 436 ms, sys: 72 ms, total: 508 ms\n",
      "Wall time: 359 ms\n"
     ]
    }
   ],
   "source": [
    "%%time\n",
    "1 + 1\n",
    "best_model = None\n",
    "best_result = 0\n",
    "for depth in range(1, 15):\n",
    "\tmodel = DecisionTreeClassifier(max_depth=depth) # train the model with a given tree depth\n",
    "\tmodel.fit(features_train, target_train) \n",
    "\tpredicted_valid = model.predict(features_valid)\n",
    "\tresult = f1_score(target_valid, predicted_valid) \n",
    "\tif result > best_result:\n",
    "\t\tbest_model = model\n",
    "\t\tbest_result = result\n",
    "\n",
    "print(\"F1 best model:\", best_result)\n",
    "print(\"max_depth best model:\", best_model)\n",
    "\n",
    "probabilities_valid = best_model.predict_proba(features_valid)[:, 1]\n",
    "auc_roc = roc_auc_score(target_valid, probabilities_valid)\n",
    "print(\"AUC_ROC = {:.3f}\\n\".format(auc_roc))"
   ]
  },
  {
   "cell_type": "code",
   "execution_count": 34,
   "metadata": {},
   "outputs": [],
   "source": [
    "tabl_prec.append(round((best_result), 2))\n",
    "tabl_roc_auc.append(round(auc_roc, 2))\n",
    "tabl_model.append('DecisionTreeClassifier')\n",
    "tabl_not.append('without_imbalance')\n",
    "\n"
   ]
  },
  {
   "cell_type": "markdown",
   "metadata": {},
   "source": [
    "Much better, but consider other models"
   ]
  },
  {
   "cell_type": "markdown",
   "metadata": {},
   "source": [
    "#### Random forest model"
   ]
  },
  {
   "cell_type": "code",
   "execution_count": 35,
   "metadata": {},
   "outputs": [
    {
     "ename": "KeyboardInterrupt",
     "evalue": "",
     "output_type": "error",
     "traceback": [
      "\u001b[0;31m---------------------------------------------------------------------------\u001b[0m",
      "\u001b[0;31mKeyboardInterrupt\u001b[0m                         Traceback (most recent call last)",
      "File \u001b[0;32m<timed exec>:8\u001b[0m\n",
      "File \u001b[0;32m~/anaconda3/lib/python3.9/site-packages/sklearn/ensemble/_forest.py:463\u001b[0m, in \u001b[0;36mBaseForest.fit\u001b[0;34m(self, X, y, sample_weight)\u001b[0m\n\u001b[1;32m    458\u001b[0m \u001b[38;5;28;01mif\u001b[39;00m \u001b[38;5;28mself\u001b[39m\u001b[38;5;241m.\u001b[39mwarm_start \u001b[38;5;129;01mand\u001b[39;00m \u001b[38;5;28mlen\u001b[39m(\u001b[38;5;28mself\u001b[39m\u001b[38;5;241m.\u001b[39mestimators_) \u001b[38;5;241m>\u001b[39m \u001b[38;5;241m0\u001b[39m:\n\u001b[1;32m    459\u001b[0m     \u001b[38;5;66;03m# We draw from the random state to get the random state we\u001b[39;00m\n\u001b[1;32m    460\u001b[0m     \u001b[38;5;66;03m# would have got if we hadn't used a warm_start.\u001b[39;00m\n\u001b[1;32m    461\u001b[0m     random_state\u001b[38;5;241m.\u001b[39mrandint(MAX_INT, size\u001b[38;5;241m=\u001b[39m\u001b[38;5;28mlen\u001b[39m(\u001b[38;5;28mself\u001b[39m\u001b[38;5;241m.\u001b[39mestimators_))\n\u001b[0;32m--> 463\u001b[0m trees \u001b[38;5;241m=\u001b[39m [\n\u001b[1;32m    464\u001b[0m     \u001b[38;5;28mself\u001b[39m\u001b[38;5;241m.\u001b[39m_make_estimator(append\u001b[38;5;241m=\u001b[39m\u001b[38;5;28;01mFalse\u001b[39;00m, random_state\u001b[38;5;241m=\u001b[39mrandom_state)\n\u001b[1;32m    465\u001b[0m     \u001b[38;5;28;01mfor\u001b[39;00m i \u001b[38;5;129;01min\u001b[39;00m \u001b[38;5;28mrange\u001b[39m(n_more_estimators)\n\u001b[1;32m    466\u001b[0m ]\n\u001b[1;32m    468\u001b[0m \u001b[38;5;66;03m# Parallel loop: we prefer the threading backend as the Cython code\u001b[39;00m\n\u001b[1;32m    469\u001b[0m \u001b[38;5;66;03m# for fitting the trees is internally releasing the Python GIL\u001b[39;00m\n\u001b[1;32m    470\u001b[0m \u001b[38;5;66;03m# making threading more efficient than multiprocessing in\u001b[39;00m\n\u001b[1;32m    471\u001b[0m \u001b[38;5;66;03m# that case. However, for joblib 0.12+ we respect any\u001b[39;00m\n\u001b[1;32m    472\u001b[0m \u001b[38;5;66;03m# parallel_backend contexts set at a higher level,\u001b[39;00m\n\u001b[1;32m    473\u001b[0m \u001b[38;5;66;03m# since correctness does not rely on using threads.\u001b[39;00m\n\u001b[1;32m    474\u001b[0m trees \u001b[38;5;241m=\u001b[39m Parallel(\n\u001b[1;32m    475\u001b[0m     n_jobs\u001b[38;5;241m=\u001b[39m\u001b[38;5;28mself\u001b[39m\u001b[38;5;241m.\u001b[39mn_jobs,\n\u001b[1;32m    476\u001b[0m     verbose\u001b[38;5;241m=\u001b[39m\u001b[38;5;28mself\u001b[39m\u001b[38;5;241m.\u001b[39mverbose,\n\u001b[0;32m   (...)\u001b[0m\n\u001b[1;32m    491\u001b[0m     \u001b[38;5;28;01mfor\u001b[39;00m i, t \u001b[38;5;129;01min\u001b[39;00m \u001b[38;5;28menumerate\u001b[39m(trees)\n\u001b[1;32m    492\u001b[0m )\n",
      "File \u001b[0;32m~/anaconda3/lib/python3.9/site-packages/sklearn/ensemble/_forest.py:464\u001b[0m, in \u001b[0;36m<listcomp>\u001b[0;34m(.0)\u001b[0m\n\u001b[1;32m    458\u001b[0m \u001b[38;5;28;01mif\u001b[39;00m \u001b[38;5;28mself\u001b[39m\u001b[38;5;241m.\u001b[39mwarm_start \u001b[38;5;129;01mand\u001b[39;00m \u001b[38;5;28mlen\u001b[39m(\u001b[38;5;28mself\u001b[39m\u001b[38;5;241m.\u001b[39mestimators_) \u001b[38;5;241m>\u001b[39m \u001b[38;5;241m0\u001b[39m:\n\u001b[1;32m    459\u001b[0m     \u001b[38;5;66;03m# We draw from the random state to get the random state we\u001b[39;00m\n\u001b[1;32m    460\u001b[0m     \u001b[38;5;66;03m# would have got if we hadn't used a warm_start.\u001b[39;00m\n\u001b[1;32m    461\u001b[0m     random_state\u001b[38;5;241m.\u001b[39mrandint(MAX_INT, size\u001b[38;5;241m=\u001b[39m\u001b[38;5;28mlen\u001b[39m(\u001b[38;5;28mself\u001b[39m\u001b[38;5;241m.\u001b[39mestimators_))\n\u001b[1;32m    463\u001b[0m trees \u001b[38;5;241m=\u001b[39m [\n\u001b[0;32m--> 464\u001b[0m     \u001b[38;5;28;43mself\u001b[39;49m\u001b[38;5;241;43m.\u001b[39;49m\u001b[43m_make_estimator\u001b[49m\u001b[43m(\u001b[49m\u001b[43mappend\u001b[49m\u001b[38;5;241;43m=\u001b[39;49m\u001b[38;5;28;43;01mFalse\u001b[39;49;00m\u001b[43m,\u001b[49m\u001b[43m \u001b[49m\u001b[43mrandom_state\u001b[49m\u001b[38;5;241;43m=\u001b[39;49m\u001b[43mrandom_state\u001b[49m\u001b[43m)\u001b[49m\n\u001b[1;32m    465\u001b[0m     \u001b[38;5;28;01mfor\u001b[39;00m i \u001b[38;5;129;01min\u001b[39;00m \u001b[38;5;28mrange\u001b[39m(n_more_estimators)\n\u001b[1;32m    466\u001b[0m ]\n\u001b[1;32m    468\u001b[0m \u001b[38;5;66;03m# Parallel loop: we prefer the threading backend as the Cython code\u001b[39;00m\n\u001b[1;32m    469\u001b[0m \u001b[38;5;66;03m# for fitting the trees is internally releasing the Python GIL\u001b[39;00m\n\u001b[1;32m    470\u001b[0m \u001b[38;5;66;03m# making threading more efficient than multiprocessing in\u001b[39;00m\n\u001b[1;32m    471\u001b[0m \u001b[38;5;66;03m# that case. However, for joblib 0.12+ we respect any\u001b[39;00m\n\u001b[1;32m    472\u001b[0m \u001b[38;5;66;03m# parallel_backend contexts set at a higher level,\u001b[39;00m\n\u001b[1;32m    473\u001b[0m \u001b[38;5;66;03m# since correctness does not rely on using threads.\u001b[39;00m\n\u001b[1;32m    474\u001b[0m trees \u001b[38;5;241m=\u001b[39m Parallel(\n\u001b[1;32m    475\u001b[0m     n_jobs\u001b[38;5;241m=\u001b[39m\u001b[38;5;28mself\u001b[39m\u001b[38;5;241m.\u001b[39mn_jobs,\n\u001b[1;32m    476\u001b[0m     verbose\u001b[38;5;241m=\u001b[39m\u001b[38;5;28mself\u001b[39m\u001b[38;5;241m.\u001b[39mverbose,\n\u001b[0;32m   (...)\u001b[0m\n\u001b[1;32m    491\u001b[0m     \u001b[38;5;28;01mfor\u001b[39;00m i, t \u001b[38;5;129;01min\u001b[39;00m \u001b[38;5;28menumerate\u001b[39m(trees)\n\u001b[1;32m    492\u001b[0m )\n",
      "File \u001b[0;32m~/anaconda3/lib/python3.9/site-packages/sklearn/ensemble/_base.py:212\u001b[0m, in \u001b[0;36mBaseEnsemble._make_estimator\u001b[0;34m(self, append, random_state)\u001b[0m\n\u001b[1;32m    209\u001b[0m             estimator\u001b[38;5;241m.\u001b[39mset_params(max_features\u001b[38;5;241m=\u001b[39m\u001b[38;5;241m1.0\u001b[39m)\n\u001b[1;32m    211\u001b[0m \u001b[38;5;28;01mif\u001b[39;00m random_state \u001b[38;5;129;01mis\u001b[39;00m \u001b[38;5;129;01mnot\u001b[39;00m \u001b[38;5;28;01mNone\u001b[39;00m:\n\u001b[0;32m--> 212\u001b[0m     \u001b[43m_set_random_states\u001b[49m\u001b[43m(\u001b[49m\u001b[43mestimator\u001b[49m\u001b[43m,\u001b[49m\u001b[43m \u001b[49m\u001b[43mrandom_state\u001b[49m\u001b[43m)\u001b[49m\n\u001b[1;32m    214\u001b[0m \u001b[38;5;28;01mif\u001b[39;00m append:\n\u001b[1;32m    215\u001b[0m     \u001b[38;5;28mself\u001b[39m\u001b[38;5;241m.\u001b[39mestimators_\u001b[38;5;241m.\u001b[39mappend(estimator)\n",
      "File \u001b[0;32m~/anaconda3/lib/python3.9/site-packages/sklearn/ensemble/_base.py:82\u001b[0m, in \u001b[0;36m_set_random_states\u001b[0;34m(estimator, random_state)\u001b[0m\n\u001b[1;32m     80\u001b[0m \u001b[38;5;28;01mfor\u001b[39;00m key \u001b[38;5;129;01min\u001b[39;00m \u001b[38;5;28msorted\u001b[39m(estimator\u001b[38;5;241m.\u001b[39mget_params(deep\u001b[38;5;241m=\u001b[39m\u001b[38;5;28;01mTrue\u001b[39;00m)):\n\u001b[1;32m     81\u001b[0m     \u001b[38;5;28;01mif\u001b[39;00m key \u001b[38;5;241m==\u001b[39m \u001b[38;5;124m\"\u001b[39m\u001b[38;5;124mrandom_state\u001b[39m\u001b[38;5;124m\"\u001b[39m \u001b[38;5;129;01mor\u001b[39;00m key\u001b[38;5;241m.\u001b[39mendswith(\u001b[38;5;124m\"\u001b[39m\u001b[38;5;124m__random_state\u001b[39m\u001b[38;5;124m\"\u001b[39m):\n\u001b[0;32m---> 82\u001b[0m         to_set[key] \u001b[38;5;241m=\u001b[39m \u001b[43mrandom_state\u001b[49m\u001b[38;5;241;43m.\u001b[39;49m\u001b[43mrandint\u001b[49m\u001b[43m(\u001b[49m\u001b[43mnp\u001b[49m\u001b[38;5;241;43m.\u001b[39;49m\u001b[43miinfo\u001b[49m\u001b[43m(\u001b[49m\u001b[43mnp\u001b[49m\u001b[38;5;241;43m.\u001b[39;49m\u001b[43mint32\u001b[49m\u001b[43m)\u001b[49m\u001b[38;5;241;43m.\u001b[39;49m\u001b[43mmax\u001b[49m\u001b[43m)\u001b[49m\n\u001b[1;32m     84\u001b[0m \u001b[38;5;28;01mif\u001b[39;00m to_set:\n\u001b[1;32m     85\u001b[0m     estimator\u001b[38;5;241m.\u001b[39mset_params(\u001b[38;5;241m*\u001b[39m\u001b[38;5;241m*\u001b[39mto_set)\n",
      "\u001b[0;31mKeyboardInterrupt\u001b[0m: "
     ]
    }
   ],
   "source": [
    "%%time\n",
    "1 + 1\n",
    "\n",
    "best_result = 0\n",
    "for est in range(10, 101, 10):     \n",
    "    for depth in range(1, 30):\n",
    "        for samples_split in range(2, 51, 10):\n",
    "            model = RandomForestClassifier(max_depth=depth, min_samples_split=samples_split, n_estimators=est, random_state=12345)\n",
    "            model.fit(features_train, target_train) \n",
    "            predicted_valid = model.predict(features_valid) \n",
    "            result = f1_score(target_valid, predicted_valid)\n",
    "            if result > best_result:\n",
    "                best_model = model\n",
    "                best_result = result"
   ]
  },
  {
   "cell_type": "code",
   "execution_count": 36,
   "metadata": {},
   "outputs": [
    {
     "data": {
      "text/html": [
       "<style>#sk-container-id-1 {color: black;background-color: white;}#sk-container-id-1 pre{padding: 0;}#sk-container-id-1 div.sk-toggleable {background-color: white;}#sk-container-id-1 label.sk-toggleable__label {cursor: pointer;display: block;width: 100%;margin-bottom: 0;padding: 0.3em;box-sizing: border-box;text-align: center;}#sk-container-id-1 label.sk-toggleable__label-arrow:before {content: \"▸\";float: left;margin-right: 0.25em;color: #696969;}#sk-container-id-1 label.sk-toggleable__label-arrow:hover:before {color: black;}#sk-container-id-1 div.sk-estimator:hover label.sk-toggleable__label-arrow:before {color: black;}#sk-container-id-1 div.sk-toggleable__content {max-height: 0;max-width: 0;overflow: hidden;text-align: left;background-color: #f0f8ff;}#sk-container-id-1 div.sk-toggleable__content pre {margin: 0.2em;color: black;border-radius: 0.25em;background-color: #f0f8ff;}#sk-container-id-1 input.sk-toggleable__control:checked~div.sk-toggleable__content {max-height: 200px;max-width: 100%;overflow: auto;}#sk-container-id-1 input.sk-toggleable__control:checked~label.sk-toggleable__label-arrow:before {content: \"▾\";}#sk-container-id-1 div.sk-estimator input.sk-toggleable__control:checked~label.sk-toggleable__label {background-color: #d4ebff;}#sk-container-id-1 div.sk-label input.sk-toggleable__control:checked~label.sk-toggleable__label {background-color: #d4ebff;}#sk-container-id-1 input.sk-hidden--visually {border: 0;clip: rect(1px 1px 1px 1px);clip: rect(1px, 1px, 1px, 1px);height: 1px;margin: -1px;overflow: hidden;padding: 0;position: absolute;width: 1px;}#sk-container-id-1 div.sk-estimator {font-family: monospace;background-color: #f0f8ff;border: 1px dotted black;border-radius: 0.25em;box-sizing: border-box;margin-bottom: 0.5em;}#sk-container-id-1 div.sk-estimator:hover {background-color: #d4ebff;}#sk-container-id-1 div.sk-parallel-item::after {content: \"\";width: 100%;border-bottom: 1px solid gray;flex-grow: 1;}#sk-container-id-1 div.sk-label:hover label.sk-toggleable__label {background-color: #d4ebff;}#sk-container-id-1 div.sk-serial::before {content: \"\";position: absolute;border-left: 1px solid gray;box-sizing: border-box;top: 0;bottom: 0;left: 50%;z-index: 0;}#sk-container-id-1 div.sk-serial {display: flex;flex-direction: column;align-items: center;background-color: white;padding-right: 0.2em;padding-left: 0.2em;position: relative;}#sk-container-id-1 div.sk-item {position: relative;z-index: 1;}#sk-container-id-1 div.sk-parallel {display: flex;align-items: stretch;justify-content: center;background-color: white;position: relative;}#sk-container-id-1 div.sk-item::before, #sk-container-id-1 div.sk-parallel-item::before {content: \"\";position: absolute;border-left: 1px solid gray;box-sizing: border-box;top: 0;bottom: 0;left: 50%;z-index: -1;}#sk-container-id-1 div.sk-parallel-item {display: flex;flex-direction: column;z-index: 1;position: relative;background-color: white;}#sk-container-id-1 div.sk-parallel-item:first-child::after {align-self: flex-end;width: 50%;}#sk-container-id-1 div.sk-parallel-item:last-child::after {align-self: flex-start;width: 50%;}#sk-container-id-1 div.sk-parallel-item:only-child::after {width: 0;}#sk-container-id-1 div.sk-dashed-wrapped {border: 1px dashed gray;margin: 0 0.4em 0.5em 0.4em;box-sizing: border-box;padding-bottom: 0.4em;background-color: white;}#sk-container-id-1 div.sk-label label {font-family: monospace;font-weight: bold;display: inline-block;line-height: 1.2em;}#sk-container-id-1 div.sk-label-container {text-align: center;}#sk-container-id-1 div.sk-container {/* jupyter's `normalize.less` sets `[hidden] { display: none; }` but bootstrap.min.css set `[hidden] { display: none !important; }` so we also need the `!important` here to be able to override the default hidden behavior on the sphinx rendered scikit-learn.org. See: https://github.com/scikit-learn/scikit-learn/issues/21755 */display: inline-block !important;position: relative;}#sk-container-id-1 div.sk-text-repr-fallback {display: none;}</style><div id=\"sk-container-id-1\" class=\"sk-top-container\"><div class=\"sk-text-repr-fallback\"><pre>RandomForestClassifier(max_depth=17, min_samples_split=12, n_estimators=30,\n",
       "                       random_state=12345)</pre><b>In a Jupyter environment, please rerun this cell to show the HTML representation or trust the notebook. <br />On GitHub, the HTML representation is unable to render, please try loading this page with nbviewer.org.</b></div><div class=\"sk-container\" hidden><div class=\"sk-item\"><div class=\"sk-estimator sk-toggleable\"><input class=\"sk-toggleable__control sk-hidden--visually\" id=\"sk-estimator-id-1\" type=\"checkbox\" checked><label for=\"sk-estimator-id-1\" class=\"sk-toggleable__label sk-toggleable__label-arrow\">RandomForestClassifier</label><div class=\"sk-toggleable__content\"><pre>RandomForestClassifier(max_depth=17, min_samples_split=12, n_estimators=30,\n",
       "                       random_state=12345)</pre></div></div></div></div></div>"
      ],
      "text/plain": [
       "RandomForestClassifier(max_depth=17, min_samples_split=12, n_estimators=30,\n",
       "                       random_state=12345)"
      ]
     },
     "execution_count": 36,
     "metadata": {},
     "output_type": "execute_result"
    }
   ],
   "source": [
    "best_model"
   ]
  },
  {
   "cell_type": "code",
   "execution_count": 37,
   "metadata": {},
   "outputs": [
    {
     "data": {
      "text/plain": [
       "0.5819935691318328"
      ]
     },
     "execution_count": 37,
     "metadata": {},
     "output_type": "execute_result"
    }
   ],
   "source": [
    "best_result"
   ]
  },
  {
   "cell_type": "code",
   "execution_count": 38,
   "metadata": {},
   "outputs": [
    {
     "name": "stdout",
     "output_type": "stream",
     "text": [
      "F1: 0.5819935691318328\n",
      "AUC_ROC = 0.843\n",
      "\n"
     ]
    }
   ],
   "source": [
    "print(\"F1:\", best_result)\n",
    "tabl_prec.append(round(best_result, 2))\n",
    "\n",
    "probabilities_valid = best_model.predict_proba(features_valid)[:, 1]\n",
    "auc_roc = roc_auc_score(target_valid, probabilities_valid)\n",
    "print(\"AUC_ROC = {:.3f}\\n\".format(auc_roc))\n",
    "\n",
    "tabl_roc_auc.append(round(auc_roc, 2))\n",
    "tabl_model.append('RandomForestClassifier')\n",
    "tabl_not.append('without_imbalance')"
   ]
  },
  {
   "cell_type": "markdown",
   "metadata": {},
   "source": [
    "This RandomForestClassifier model has the best result so far"
   ]
  },
  {
   "cell_type": "markdown",
   "metadata": {},
   "source": [
    "#### CatBoostClassifier"
   ]
  },
  {
   "cell_type": "code",
   "execution_count": 39,
   "metadata": {},
   "outputs": [
    {
     "name": "stdout",
     "output_type": "stream",
     "text": [
      "Learning rate set to 0.022141\n",
      "0:\tlearn: 0.6754999\ttotal: 57.5ms\tremaining: 57.4s\n",
      "100:\tlearn: 0.3343972\ttotal: 304ms\tremaining: 2.71s\n",
      "200:\tlearn: 0.3110064\ttotal: 498ms\tremaining: 1.98s\n",
      "300:\tlearn: 0.2963858\ttotal: 682ms\tremaining: 1.58s\n",
      "400:\tlearn: 0.2844886\ttotal: 860ms\tremaining: 1.28s\n",
      "500:\tlearn: 0.2741070\ttotal: 1.06s\tremaining: 1.05s\n",
      "600:\tlearn: 0.2646223\ttotal: 1.25s\tremaining: 830ms\n",
      "700:\tlearn: 0.2550124\ttotal: 1.47s\tremaining: 628ms\n",
      "800:\tlearn: 0.2456157\ttotal: 1.67s\tremaining: 414ms\n",
      "900:\tlearn: 0.2361567\ttotal: 1.85s\tremaining: 203ms\n",
      "999:\tlearn: 0.2277176\ttotal: 2.04s\tremaining: 0us\n",
      "F1: 0.596875\n",
      "AUC_ROC = 0.864\n",
      "\n"
     ]
    }
   ],
   "source": [
    "model = CatBoostClassifier(verbose=100, random_state=12345)\n",
    "model.fit(features_train, target_train)\n",
    "\n",
    "predicted_valid = model.predict(features_valid)\n",
    "print(\"F1:\", f1_score(target_valid, predicted_valid))\n",
    "\n",
    "probabilities_valid = model.predict_proba(features_valid)[:, 1]\n",
    "auc_roc = roc_auc_score(target_valid, probabilities_valid)\n",
    "print(\"AUC_ROC = {:.3f}\\n\".format(auc_roc))"
   ]
  },
  {
   "cell_type": "code",
   "execution_count": 40,
   "metadata": {},
   "outputs": [],
   "source": [
    "tabl_prec.append(round(f1_score(target_valid, predicted_valid), 2))\n",
    "tabl_roc_auc.append(round(auc_roc, 2))\n",
    "tabl_model.append('CatBoostClassifier')\n",
    "tabl_not.append('without_imbalance')"
   ]
  },
  {
   "cell_type": "markdown",
   "metadata": {},
   "source": [
    "F1 measure is larger than in all other models"
   ]
  },
  {
   "cell_type": "code",
   "execution_count": 41,
   "metadata": {},
   "outputs": [
    {
     "data": {
      "text/html": [
       "<div>\n",
       "<style scoped>\n",
       "    .dataframe tbody tr th:only-of-type {\n",
       "        vertical-align: middle;\n",
       "    }\n",
       "\n",
       "    .dataframe tbody tr th {\n",
       "        vertical-align: top;\n",
       "    }\n",
       "\n",
       "    .dataframe thead th {\n",
       "        text-align: right;\n",
       "    }\n",
       "</style>\n",
       "<table border=\"1\" class=\"dataframe\">\n",
       "  <thead>\n",
       "    <tr style=\"text-align: right;\">\n",
       "      <th></th>\n",
       "      <th>Model</th>\n",
       "      <th>F1 score</th>\n",
       "      <th>ROC-AUC</th>\n",
       "      <th>Notice</th>\n",
       "    </tr>\n",
       "  </thead>\n",
       "  <tbody>\n",
       "    <tr>\n",
       "      <th>0</th>\n",
       "      <td>CatBoostClassifier</td>\n",
       "      <td>0.60</td>\n",
       "      <td>0.86</td>\n",
       "      <td>without_imbalance</td>\n",
       "    </tr>\n",
       "    <tr>\n",
       "      <th>1</th>\n",
       "      <td>RandomForestClassifier</td>\n",
       "      <td>0.58</td>\n",
       "      <td>0.84</td>\n",
       "      <td>without_imbalance</td>\n",
       "    </tr>\n",
       "    <tr>\n",
       "      <th>2</th>\n",
       "      <td>DecisionTreeClassifier</td>\n",
       "      <td>0.55</td>\n",
       "      <td>0.82</td>\n",
       "      <td>without_imbalance</td>\n",
       "    </tr>\n",
       "    <tr>\n",
       "      <th>3</th>\n",
       "      <td>LogisticRegression</td>\n",
       "      <td>0.30</td>\n",
       "      <td>0.77</td>\n",
       "      <td>without_imbalance</td>\n",
       "    </tr>\n",
       "  </tbody>\n",
       "</table>\n",
       "</div>"
      ],
      "text/plain": [
       "                    Model  F1 score  ROC-AUC             Notice\n",
       "0      CatBoostClassifier      0.60     0.86  without_imbalance\n",
       "1  RandomForestClassifier      0.58     0.84  without_imbalance\n",
       "2  DecisionTreeClassifier      0.55     0.82  without_imbalance\n",
       "3      LogisticRegression      0.30     0.77  without_imbalance"
      ]
     },
     "execution_count": 41,
     "metadata": {},
     "output_type": "execute_result"
    }
   ],
   "source": [
    "table_models = (pd.DataFrame({'Model':tabl_model, 'F1 score':tabl_prec, 'ROC-AUC':tabl_roc_auc, 'Notice': tabl_not}).sort_values(by='F1 score', ascending=False).\n",
    "                  reset_index(drop=True))\n",
    "table_models"
   ]
  },
  {
   "cell_type": "markdown",
   "metadata": {},
   "source": [
    "### Findings"
   ]
  },
  {
   "cell_type": "markdown",
   "metadata": {},
   "source": [
    "1. Transformed categorical features into numerical ones using direct coding technique, or One-Hot Encoding mapping.\n",
    "2. Divided the data into samples in the ratio 60-20-20\n",
    "3. Brought signs to a single scale to avoid the trap\n",
    "4. We studied the models without taking into account the imbalance. The models CatBoostClassifier, RandomForestClassifier performed best\n",
    "5. Compared parameters f1 and ROC-AUC models"
   ]
  },
  {
   "cell_type": "markdown",
   "metadata": {},
   "source": [
    "## Struggling with imbalance"
   ]
  },
  {
   "cell_type": "code",
   "execution_count": 42,
   "metadata": {},
   "outputs": [
    {
     "data": {
      "text/plain": [
       "exited\n",
       "0    7963\n",
       "1    2037\n",
       "Name: exited, dtype: int64"
      ]
     },
     "execution_count": 42,
     "metadata": {},
     "output_type": "execute_result"
    }
   ],
   "source": [
    "data.groupby('exited')['exited'].count()# Let's look at the target. One in four leaves the bank. There is a class imbalance"
   ]
  },
  {
   "cell_type": "markdown",
   "metadata": {},
   "source": [
    "### class_weight='balanced'"
   ]
  },
  {
   "cell_type": "markdown",
   "metadata": {},
   "source": [
    "#### Logistic Regression Model"
   ]
  },
  {
   "cell_type": "code",
   "execution_count": 43,
   "metadata": {},
   "outputs": [
    {
     "name": "stdout",
     "output_type": "stream",
     "text": [
      "F1: 0.4821428571428571\n",
      "AUC_ROC = 0.772\n",
      "\n"
     ]
    }
   ],
   "source": [
    "model = LogisticRegression(solver = 'liblinear', penalty = 'l2', multi_class ='auto', fit_intercept=True, dual=False, C=10,\n",
    "                           random_state=12345, max_iter=1000, class_weight='balanced') \n",
    "model.fit(features_train, target_train)\n",
    "predicted_valid = model.predict(features_valid)\n",
    "print(\"F1:\", f1_score(target_valid, predicted_valid))\n",
    "\n",
    "probabilities_valid = model.predict_proba(features_valid)[:, 1]\n",
    "auc_roc = roc_auc_score(target_valid, probabilities_valid)\n",
    "print(\"AUC_ROC = {:.3f}\\n\".format(auc_roc))"
   ]
  },
  {
   "cell_type": "code",
   "execution_count": 44,
   "metadata": {},
   "outputs": [],
   "source": [
    "tabl_prec.append(round(f1_score(target_valid, predicted_valid), 2))\n",
    "tabl_roc_auc.append(round(auc_roc, 2))\n",
    "tabl_model.append('LogisticRegression')\n",
    "tabl_not.append('class_weight')"
   ]
  },
  {
   "cell_type": "markdown",
   "metadata": {},
   "source": [
    "#### Decision tree model"
   ]
  },
  {
   "cell_type": "code",
   "execution_count": 45,
   "metadata": {},
   "outputs": [
    {
     "ename": "SyntaxError",
     "evalue": "EOL while scanning string literal (<unknown>, line 14)",
     "output_type": "error",
     "traceback": [
      "Traceback \u001b[0;36m(most recent call last)\u001b[0m:\n",
      "\u001b[0m  File \u001b[1;32m~/anaconda3/lib/python3.9/site-packages/IPython/core/interactiveshell.py:3433\u001b[0m in \u001b[1;35mrun_code\u001b[0m\n    exec(code_obj, self.user_global_ns, self.user_ns)\u001b[0m\n",
      "\u001b[0m  Cell \u001b[1;32mIn[45], line 1\u001b[0m\n    get_ipython().run_cell_magic('time', '', '1 + 1\\nbest_model = None\\nbest_result = 0\\nfor depth in range(1, 15):\\n\\tmodel = DecisionTreeClassifier(max_depth=depth, random_state=12345, class_weight=\\'balanced\\') \\n\\tmodel.fit(features_train, target_train)\\n\\tpredicted_valid = model.predict(features_valid)\\n\\tresult = f1_score(target_valid, predicted_valid) \\n\\tif result > best_result:\\n\\t\\tbest_model = model\\n\\t\\tbest_result = result\\n\\nprint(\"F1 best model:\", best_result)\\nprint(\"max_depth best model best_model)\\n\\nprobabilities_valid = best_model.predict_proba(features_valid)[:, 1]\\nauc_roc = roc_auc_score(target_valid, probabilities_valid)\\nprint(\"AUC_ROC = {:.3f}\\\\n\".format(auc_roc))\\n')\u001b[0m\n",
      "\u001b[0m  File \u001b[1;32m~/anaconda3/lib/python3.9/site-packages/IPython/core/interactiveshell.py:2417\u001b[0m in \u001b[1;35mrun_cell_magic\u001b[0m\n    result = fn(*args, **kwargs)\u001b[0m\n",
      "\u001b[0m  File \u001b[1;32m~/anaconda3/lib/python3.9/site-packages/IPython/core/magics/execution.py:1272\u001b[0m in \u001b[1;35mtime\u001b[0m\n    expr_ast = self.shell.compile.ast_parse(expr)\u001b[0m\n",
      "\u001b[0;36m  File \u001b[0;32m~/anaconda3/lib/python3.9/site-packages/IPython/core/compilerop.py:86\u001b[0;36m in \u001b[0;35mast_parse\u001b[0;36m\n\u001b[0;31m    return compile(source, filename, symbol, self.flags | PyCF_ONLY_AST, 1)\u001b[0;36m\n",
      "\u001b[0;36m  File \u001b[0;32m<unknown>:14\u001b[0;36m\u001b[0m\n\u001b[0;31m    print(\"max_depth best model best_model)\u001b[0m\n\u001b[0m                                           ^\u001b[0m\n\u001b[0;31mSyntaxError\u001b[0m\u001b[0;31m:\u001b[0m EOL while scanning string literal\n"
     ]
    }
   ],
   "source": [
    "%%time\n",
    "1 + 1\n",
    "best_model = None\n",
    "best_result = 0\n",
    "for depth in range(1, 15):\n",
    "\tmodel = DecisionTreeClassifier(max_depth=depth, random_state=12345, class_weight='balanced') \n",
    "\tmodel.fit(features_train, target_train)\n",
    "\tpredicted_valid = model.predict(features_valid)\n",
    "\tresult = f1_score(target_valid, predicted_valid) \n",
    "\tif result > best_result:\n",
    "\t\tbest_model = model\n",
    "\t\tbest_result = result\n",
    "\n",
    "print(\"F1 best model:\", best_result)\n",
    "print(\"max_depth best model best_model)\n",
    "\n",
    "probabilities_valid = best_model.predict_proba(features_valid)[:, 1]\n",
    "auc_roc = roc_auc_score(target_valid, probabilities_valid)\n",
    "print(\"AUC_ROC = {:.3f}\\n\".format(auc_roc))"
   ]
  },
  {
   "cell_type": "code",
   "execution_count": null,
   "metadata": {},
   "outputs": [],
   "source": [
    "tabl_prec.append(round((best_result), 2))\n",
    "tabl_roc_auc.append(round(auc_roc,2))\n",
    "tabl_model.append('DecisionTreeClassifier')\n",
    "tabl_not.append('class_weight')"
   ]
  },
  {
   "cell_type": "markdown",
   "metadata": {},
   "source": [
    "#### Random forest model"
   ]
  },
  {
   "cell_type": "code",
   "execution_count": null,
   "metadata": {},
   "outputs": [],
   "source": [
    "%%time\n",
    "1 + 1\n",
    "\n",
    "model = RandomForestClassifier(class_weight='balanced', max_depth=17, min_samples_leaf=2, min_samples_split=12,\n",
    "                       n_estimators=30,random_state=12345)\n",
    "\n",
    "model.fit(features_train, target_train)\n",
    "predicted_valid = model.predict(features_valid)\n",
    "print(\"F1:\", f1_score(target_valid, predicted_valid))\n",
    "\n",
    "probabilities_valid = best_model.predict_proba(features_valid)[:, 1]\n",
    "auc_roc = roc_auc_score(target_valid, probabilities_valid)\n",
    "print(\"AUC_ROC = {:.3f}\\n\".format(auc_roc))"
   ]
  },
  {
   "cell_type": "code",
   "execution_count": null,
   "metadata": {},
   "outputs": [],
   "source": [
    "tabl_prec.append(round(f1_score(target_valid, predicted_valid), 2))\n",
    "tabl_roc_auc.append(round(auc_roc,2))\n",
    "tabl_model.append('RandomForestClassifier')\n",
    "tabl_not.append('class_weight')"
   ]
  },
  {
   "cell_type": "markdown",
   "metadata": {},
   "source": [
    "By adding the class_weight='balanced' parameter, a rare class will have more weight."
   ]
  },
  {
   "cell_type": "code",
   "execution_count": null,
   "metadata": {},
   "outputs": [],
   "source": [
    "table_models = (pd.DataFrame({'Model':tabl_model, 'F1 score':tabl_prec, 'ROC-AUC':tabl_roc_auc, 'Notice': tabl_not}).sort_values(by='F1 score', ascending=False).\n",
    "                  reset_index(drop=True))\n",
    "table_models"
   ]
  },
  {
   "cell_type": "markdown",
   "metadata": {},
   "source": [
    "#### Comparison:"
   ]
  },
  {
   "cell_type": "markdown",
   "metadata": {},
   "source": [
    "Two models (DecisionTreeClassifier, LogisticRegression) increased the F1 measure and the ROC-AUC indicator using the class_weight='balanced' parameter"
   ]
  },
  {
   "cell_type": "markdown",
   "metadata": {},
   "source": [
    "### upsampling."
   ]
  },
  {
   "cell_type": "code",
   "execution_count": null,
   "metadata": {},
   "outputs": [],
   "source": [
    "oversample = SMOTE(random_state=12345)"
   ]
  },
  {
   "cell_type": "code",
   "execution_count": null,
   "metadata": {},
   "outputs": [],
   "source": [
    "features_upsampled, target_upsampled = oversample.fit_resample(features_train, target_train)"
   ]
  },
  {
   "cell_type": "code",
   "execution_count": null,
   "metadata": {},
   "outputs": [],
   "source": [
    "print('Upsampled validation sample size', len(features_upsampled))"
   ]
  },
  {
   "cell_type": "markdown",
   "metadata": {
    "tags": []
   },
   "source": [
    "#### Logistic Regression Model"
   ]
  },
  {
   "cell_type": "code",
   "execution_count": null,
   "metadata": {},
   "outputs": [],
   "source": [
    "model = LogisticRegression(solver='liblinear', random_state=12345)\n",
    "model.fit(features_upsampled, target_upsampled)\n",
    "predicted_valid = model.predict(features_valid)\n",
    "print(\"F1:\", f1_score(target_valid, predicted_valid))\n",
    "\n",
    "probabilities_valid = model.predict_proba(features_valid)[:, 1]\n",
    "auc_roc = roc_auc_score(target_valid, probabilities_valid)\n",
    "print(\"AUC_ROC = {:.3f}\\n\".format(auc_roc))"
   ]
  },
  {
   "cell_type": "code",
   "execution_count": null,
   "metadata": {},
   "outputs": [],
   "source": [
    "tabl_prec.append(round(f1_score(target_valid, predicted_valid), 2))\n",
    "tabl_roc_auc.append(round(auc_roc,2))\n",
    "tabl_model.append('LogisticRegression')\n",
    "tabl_not.append('upsampling')"
   ]
  },
  {
   "cell_type": "markdown",
   "metadata": {
    "tags": []
   },
   "source": [
    "#### Decision tree model"
   ]
  },
  {
   "cell_type": "code",
   "execution_count": null,
   "metadata": {},
   "outputs": [],
   "source": [
    "%%time\n",
    "1 + 1\n",
    "best_model = None\n",
    "best_result = 0\n",
    "for depth in range(1, 15):\n",
    "\tmodel = DecisionTreeClassifier(max_depth=depth)\n",
    "\tmodel.fit(features_upsampled, target_upsampled) \n",
    "\tpredicted_valid = model.predict(features_valid) \n",
    "\tresult = f1_score(target_valid, predicted_valid) \n",
    "\tif result > best_result:\n",
    "\t\tbest_model = model\n",
    "\t\tbest_result = result\n",
    "\n",
    "print(\"F1 best model:\", best_result)\n",
    "print(\"max_depth лучшей модели:\", best_model)\n",
    "\n",
    "probabilities_valid = best_model.predict_proba(features_valid)[:, 1]\n",
    "auc_roc = roc_auc_score(target_valid, probabilities_valid)\n",
    "print(\"AUC_ROC = {:.3f}\\n\".format(auc_roc))\n"
   ]
  },
  {
   "cell_type": "code",
   "execution_count": null,
   "metadata": {},
   "outputs": [],
   "source": [
    "tabl_prec.append(round((best_result), 2))\n",
    "tabl_roc_auc.append(round(auc_roc,2))\n",
    "tabl_model.append('DecisionTreeClassifier')\n",
    "tabl_not.append('upsampling')"
   ]
  },
  {
   "cell_type": "markdown",
   "metadata": {
    "tags": []
   },
   "source": [
    "#### Random forest model."
   ]
  },
  {
   "cell_type": "code",
   "execution_count": null,
   "metadata": {},
   "outputs": [],
   "source": [
    "%%time\n",
    "1 + 1\n",
    "model = RandomForestClassifier(max_depth=17, min_samples_leaf=2, min_samples_split=12,\n",
    "                       n_estimators=30, random_state=12345)\n",
    "\n",
    "model.fit(features_upsampled, target_upsampled)\n",
    "predicted_valid = model.predict(features_valid)\n",
    "print(\"F1:\", f1_score(target_valid, predicted_valid))\n",
    "\n",
    "probabilities_valid = model.predict_proba(features_valid)[:, 1]\n",
    "auc_roc = roc_auc_score(target_valid, probabilities_valid)\n",
    "print(\"AUC_ROC = {:.3f}\\n\".format(auc_roc))"
   ]
  },
  {
   "cell_type": "code",
   "execution_count": null,
   "metadata": {},
   "outputs": [],
   "source": [
    "tabl_prec.append(round(f1_score(target_valid, predicted_valid), 2))\n",
    "tabl_roc_auc.append(round(auc_roc,2))\n",
    "tabl_model.append('RandomForestClassifier')\n",
    "tabl_not.append('upsampling')"
   ]
  },
  {
   "cell_type": "markdown",
   "metadata": {
    "tags": []
   },
   "source": [
    "#### CatBoostClassifier"
   ]
  },
  {
   "cell_type": "code",
   "execution_count": null,
   "metadata": {},
   "outputs": [],
   "source": [
    "model = CatBoostClassifier(verbose=100, random_state=12345)\n",
    "model.fit(features_upsampled, target_upsampled)\n",
    "predicted_valid = model.predict(features_valid)\n",
    "print(\"F1:\", f1_score(target_valid, predicted_valid))\n",
    "\n",
    "auc_roc = roc_auc_score(target_valid, predicted_valid)\n",
    "print('ROC-AUC:', auc_roc)"
   ]
  },
  {
   "cell_type": "code",
   "execution_count": null,
   "metadata": {},
   "outputs": [],
   "source": [
    "tabl_prec.append(round(f1_score(target_valid, predicted_valid), 2))\n",
    "tabl_roc_auc.append(round(auc_roc,2))\n",
    "tabl_model.append('CatBoostClassifier')\n",
    "tabl_not.append('upsampling')"
   ]
  },
  {
   "cell_type": "code",
   "execution_count": null,
   "metadata": {},
   "outputs": [],
   "source": [
    "table_models = (pd.DataFrame({'Model':tabl_model, 'F1 score':tabl_prec, 'ROC-AUC':tabl_roc_auc, 'Notice': tabl_not}).sort_values(by='F1 score', ascending=False).\n",
    "                  reset_index(drop=True))\n",
    "table_models"
   ]
  },
  {
   "cell_type": "markdown",
   "metadata": {},
   "source": [
    "#### Comparison:"
   ]
  },
  {
   "cell_type": "markdown",
   "metadata": {},
   "source": [
    "By increasing the sample, we improved the LogisticRegression, DecisionTreeClassifier model. For CatBoostClassifier and RandomForestClassifier models, values are worse than before debalancing"
   ]
  },
  {
   "cell_type": "markdown",
   "metadata": {},
   "source": [
    "### downsampling. Sample reduction"
   ]
  },
  {
   "cell_type": "code",
   "execution_count": null,
   "metadata": {},
   "outputs": [],
   "source": [
    "downsample = RandomUnderSampler(random_state=12345)"
   ]
  },
  {
   "cell_type": "code",
   "execution_count": null,
   "metadata": {},
   "outputs": [],
   "source": [
    "features_downsampled, target_downsampled = downsample.fit_resample(features_train, target_train)"
   ]
  },
  {
   "cell_type": "code",
   "execution_count": null,
   "metadata": {},
   "outputs": [],
   "source": [
    "print('Size of the downsampled validation sample', len(features_downsampled))"
   ]
  },
  {
   "cell_type": "markdown",
   "metadata": {
    "tags": []
   },
   "source": [
    "#### Logistic Regression Model"
   ]
  },
  {
   "cell_type": "code",
   "execution_count": null,
   "metadata": {},
   "outputs": [],
   "source": [
    "model = LogisticRegression(solver='liblinear', random_state=12345)\n",
    "model.fit(features_downsampled, target_downsampled)\n",
    "predicted_valid = model.predict(features_valid)\n",
    "print(\"F1:\", f1_score(target_valid, predicted_valid))\n",
    "\n",
    "probabilities_valid = model.predict_proba(features_valid)[:, 1]\n",
    "auc_roc = roc_auc_score(target_valid, probabilities_valid)\n",
    "print(\"AUC_ROC = {:.3f}\\n\".format(auc_roc))"
   ]
  },
  {
   "cell_type": "code",
   "execution_count": null,
   "metadata": {},
   "outputs": [],
   "source": [
    "tabl_prec.append(round(f1_score(target_valid, predicted_valid), 2))\n",
    "tabl_roc_auc.append(round(auc_roc,2))\n",
    "tabl_model.append('LogisticRegression')\n",
    "tabl_not.append('downsampled')"
   ]
  },
  {
   "cell_type": "markdown",
   "metadata": {},
   "source": [
    "#### Decision tree model"
   ]
  },
  {
   "cell_type": "code",
   "execution_count": null,
   "metadata": {},
   "outputs": [],
   "source": [
    "%%time\n",
    "1 + 1\n",
    "best_model = None\n",
    "best_result = 0\n",
    "for depth in range(1, 15):\n",
    "\tmodel = DecisionTreeClassifier(max_depth=depth) \n",
    "\tmodel.fit(features_downsampled, target_downsampled) \n",
    "\tpredicted_valid = model.predict(features_valid) \n",
    "\tresult = f1_score(target_valid, predicted_valid) \n",
    "\tif result > best_result:\n",
    "\t\tbest_model = model\n",
    "\t\tbest_result = result\n",
    "\n",
    "print(\"F1 best model:\", best_result)\n",
    "print(\"max_depth best model:\", best_model)\n",
    "\n",
    "probabilities_valid = best_model.predict_proba(features_valid)[:, 1]\n",
    "auc_roc = roc_auc_score(target_valid, probabilities_valid)\n",
    "print(\"AUC_ROC = {:.3f}\\n\".format(auc_roc))\n"
   ]
  },
  {
   "cell_type": "code",
   "execution_count": null,
   "metadata": {},
   "outputs": [],
   "source": [
    "tabl_prec.append(round((best_result), 2))\n",
    "tabl_roc_auc.append(round(auc_roc,2))\n",
    "tabl_model.append('DecisionTreeClassifier')\n",
    "tabl_not.append('downsampled')"
   ]
  },
  {
   "cell_type": "markdown",
   "metadata": {},
   "source": [
    "#### Random forest model"
   ]
  },
  {
   "cell_type": "code",
   "execution_count": null,
   "metadata": {},
   "outputs": [],
   "source": [
    "%%time\n",
    "1 + 1\n",
    "model = RandomForestClassifier(max_depth=17, min_samples_leaf=2, min_samples_split=12,\n",
    "                       n_estimators=30, random_state=12345)\n",
    "model.fit(features_downsampled, target_downsampled)\n",
    "predicted_valid = model.predict(features_valid)\n",
    "print(\"F1:\", f1_score(target_valid, predicted_valid))\n",
    "\n",
    "probabilities_valid = model.predict_proba(features_valid)[:, 1]\n",
    "auc_roc = roc_auc_score(target_valid, probabilities_valid)\n",
    "print(\"AUC_ROC = {:.3f}\\n\".format(auc_roc))"
   ]
  },
  {
   "cell_type": "code",
   "execution_count": null,
   "metadata": {},
   "outputs": [],
   "source": [
    "tabl_prec.append(round(f1_score(target_valid, predicted_valid), 2))\n",
    "tabl_roc_auc.append(round(auc_roc,2))\n",
    "tabl_model.append('RandomForestClassifier')\n",
    "tabl_not.append('downsampled')"
   ]
  },
  {
   "cell_type": "markdown",
   "metadata": {},
   "source": [
    "#### CatBoostClassifier"
   ]
  },
  {
   "cell_type": "code",
   "execution_count": null,
   "metadata": {},
   "outputs": [],
   "source": [
    "model = CatBoostClassifier(verbose=100, random_state=12345)\n",
    "model.fit(features_downsampled, target_downsampled)\n",
    "predicted_valid = model.predict(features_valid)\n",
    "print(\"F1:\", f1_score(target_valid, predicted_valid))\n",
    "\n",
    "probabilities_valid = model.predict_proba(features_valid)[:, 1]\n",
    "auc_roc = roc_auc_score(target_valid, probabilities_valid)\n",
    "print(\"AUC_ROC = {:.3f}\\n\".format(auc_roc))"
   ]
  },
  {
   "cell_type": "code",
   "execution_count": null,
   "metadata": {},
   "outputs": [],
   "source": [
    "tabl_prec.append(round(f1_score(target_valid, predicted_valid), 2))\n",
    "tabl_roc_auc.append(round(auc_roc,2))\n",
    "tabl_model.append('CatBoostClassifier')\n",
    "tabl_not.append('downsampled')"
   ]
  },
  {
   "cell_type": "code",
   "execution_count": null,
   "metadata": {},
   "outputs": [],
   "source": [
    "table_models = (pd.DataFrame({'Model':tabl_model, 'F1 score':tabl_prec, 'ROC-AUC':tabl_roc_auc, 'Notice': tabl_not}).sort_values(by='F1 score', ascending=False).\n",
    "                  reset_index(drop=True))\n",
    "table_models"
   ]
  },
  {
   "cell_type": "markdown",
   "metadata": {},
   "source": [
    "#### Comparison:"
   ]
  },
  {
   "cell_type": "markdown",
   "metadata": {},
   "source": [
    "Significantly worse performance for all models except LogisticRegression."
   ]
  },
  {
   "cell_type": "markdown",
   "metadata": {},
   "source": [
    "### Changing the qualification threshold"
   ]
  },
  {
   "cell_type": "markdown",
   "metadata": {},
   "source": [
    "The boundary where the negative class ends and the positive class begins is called the threshold. By default it is 0.5, but you can change it."
   ]
  },
  {
   "cell_type": "markdown",
   "metadata": {},
   "source": [
    "#### Logistic Regression Model"
   ]
  },
  {
   "cell_type": "code",
   "execution_count": null,
   "metadata": {},
   "outputs": [],
   "source": [
    "model = LogisticRegression(random_state=12345, solver='liblinear')\n",
    "model.fit(features_train, target_train)\n",
    "probabilities_valid = model.predict_proba(features_valid)[:, 1]\n",
    "\n",
    "best_f1 = 0\n",
    "for threshold in np.arange(0, 0.95, 0.05):\n",
    "    predicted_valid = probabilities_valid > threshold \n",
    "    precision = precision_score(target_valid, predicted_valid)\n",
    "    recall = recall_score(target_valid, predicted_valid)\n",
    "    F1 = f1_score(target_valid, predicted_valid)\n",
    "    print(\"threshold = {:.2f} | precision = {:.3f}, recall = {:.3f}, F1 = {:.3f}\".format(threshold, precision, recall, F1))\n",
    "    if F1>best_f1:\n",
    "        best_f1 = F1\n",
    "\n",
    "auc_roc = roc_auc_score(target_valid, probabilities_valid)\n",
    "print(\"ROC-AUC = {:.3f}\".format(auc_roc))     \n",
    "print(\"F1-мера = {:.3f}\".format(best_f1))"
   ]
  },
  {
   "cell_type": "code",
   "execution_count": null,
   "metadata": {},
   "outputs": [],
   "source": [
    "probabilities_valid = model.predict_proba(features_valid)\n",
    "precision, recall, thresholds = precision_recall_curve(target_valid, probabilities_valid[:, 1])\n",
    "\n",
    "plt.figure(figsize=(6, 6))\n",
    "plt.step(recall, precision, where='post')\n",
    "plt.xlabel('Recall')\n",
    "plt.ylabel('Precision')\n",
    "plt.ylim([0.0, 1.05])\n",
    "plt.xlim([0.0, 1.0])\n",
    "plt.title('Curve Precision-Recall')\n",
    "\n",
    "plt.show()"
   ]
  },
  {
   "cell_type": "markdown",
   "metadata": {},
   "source": [
    "For a threshold of 0.30, the highest F1 and ROC-AUC"
   ]
  },
  {
   "cell_type": "code",
   "execution_count": null,
   "metadata": {},
   "outputs": [],
   "source": [
    "tabl_prec.append(round(best_f1, 2))\n",
    "tabl_roc_auc.append(round(auc_roc,2))\n",
    "tabl_model.append('LogisticRegression')\n",
    "tabl_not.append('threshold=0.3')"
   ]
  },
  {
   "cell_type": "code",
   "execution_count": null,
   "metadata": {},
   "outputs": [],
   "source": [
    "table_models = (pd.DataFrame({'Model':tabl_model, 'F1 score':tabl_prec, 'ROC-AUC':tabl_roc_auc, 'Notice': tabl_not}).sort_values(by='F1 score', ascending=False).\n",
    "                  reset_index(drop=True))\n",
    "table_models"
   ]
  },
  {
   "cell_type": "markdown",
   "metadata": {},
   "source": [
    "#### Decision tree model"
   ]
  },
  {
   "cell_type": "code",
   "execution_count": null,
   "metadata": {},
   "outputs": [],
   "source": [
    "%%time\n",
    "1 + 1\n",
    "model = DecisionTreeClassifier(max_depth=5) \n",
    "model.fit(features_train, target_train)\n",
    "probabilities_valid = model.predict_proba(features_valid)[:, 1]\n",
    "\n",
    "best_f1 = 0\n",
    "for threshold in np.arange(0, 0.95, 0.05):\n",
    "    predicted_valid = probabilities_valid > threshold \n",
    "    precision = precision_score(target_valid, predicted_valid)\n",
    "    recall = recall_score(target_valid, predicted_valid)\n",
    "    F1 = f1_score(target_valid, predicted_valid)\n",
    "    print(\"threshold = {:.2f} | precision = {:.3f}, recall = {:.3f}, F1 = {:.3f}\".format(threshold, precision, recall, F1))\n",
    "    if F1>best_f1:\n",
    "        best_f1 = F1\n",
    "\n",
    "auc_roc = roc_auc_score(target_valid, probabilities_valid)\n",
    "print(\"ROC-AUC = {:.3f}\".format(auc_roc))     \n",
    "print(\"F1-мера = {:.3f}\".format(best_f1))"
   ]
  },
  {
   "cell_type": "code",
   "execution_count": null,
   "metadata": {},
   "outputs": [],
   "source": [
    "probabilities_valid = model.predict_proba(features_valid)\n",
    "precision, recall, thresholds = precision_recall_curve(target_valid, probabilities_valid[:, 1])\n",
    "\n",
    "plt.figure(figsize=(6, 6))\n",
    "plt.step(recall, precision, where='post')\n",
    "plt.xlabel('Recall')\n",
    "plt.ylabel('Precision')\n",
    "plt.ylim([0.0, 1.05])\n",
    "plt.xlim([0.0, 1.0])\n",
    "plt.title('Curve Precision-Recall')\n",
    "plt.show()"
   ]
  },
  {
   "cell_type": "markdown",
   "metadata": {},
   "source": [
    "For a threshold of 0.4, the highest F1"
   ]
  },
  {
   "cell_type": "code",
   "execution_count": null,
   "metadata": {},
   "outputs": [],
   "source": [
    "tabl_prec.append(round(best_f1, 2))\n",
    "tabl_roc_auc.append(round(auc_roc,2))\n",
    "tabl_model.append('DecisionTreeClassifier')\n",
    "tabl_not.append('threshold=0.4')"
   ]
  },
  {
   "cell_type": "code",
   "execution_count": null,
   "metadata": {},
   "outputs": [],
   "source": [
    "table_models = (pd.DataFrame({'Model':tabl_model, 'F1 score':tabl_prec, 'ROC-AUC':tabl_roc_auc, 'Notice': tabl_not}).sort_values(by='F1 score', ascending=False).\n",
    "                  reset_index(drop=True))\n",
    "table_models"
   ]
  },
  {
   "cell_type": "markdown",
   "metadata": {},
   "source": [
    "#### Random forest model"
   ]
  },
  {
   "cell_type": "code",
   "execution_count": null,
   "metadata": {},
   "outputs": [],
   "source": [
    "%%time\n",
    "1 + 1\n",
    "model = RandomForestClassifier(max_depth=17, min_samples_leaf=2, min_samples_split=12,\n",
    "                       n_estimators=30, random_state=12345)\n",
    "\n",
    "model.fit(features_train, target_train)\n",
    "probabilities_valid = model.predict_proba(features_valid)[:, 1]\n",
    "\n",
    "best_f1 = 0 \n",
    "\n",
    "for threshold in np.arange(0, 0.95, 0.05):\n",
    "    predicted_valid = probabilities_valid > threshold \n",
    "    precision = precision_score(target_valid, predicted_valid)\n",
    "    recall = recall_score(target_valid, predicted_valid)\n",
    "    F1 = f1_score(target_valid, predicted_valid)\n",
    "    print(\"threshold = {:.2f} | precision = {:.3f}, recall = {:.3f}, F1 = {:.3f}\".format(threshold, precision, recall, F1))\n",
    "    if F1>best_f1:\n",
    "        best_f1 = F1\n",
    "\n",
    "auc_roc = roc_auc_score(target_valid, probabilities_valid)\n",
    "print(\"ROC-AUC = {:.3f}\".format(auc_roc))     \n",
    "print(\"F1-мера = {:.3f}\".format(best_f1)) "
   ]
  },
  {
   "cell_type": "code",
   "execution_count": null,
   "metadata": {},
   "outputs": [],
   "source": [
    "probabilities_valid = model.predict_proba(features_valid)\n",
    "precision, recall, thresholds = precision_recall_curve(target_valid, probabilities_valid[:, 1])\n",
    "\n",
    "plt.figure(figsize=(6, 6))\n",
    "plt.step(recall, precision, where='post')\n",
    "plt.xlabel('Recall')\n",
    "plt.ylabel('Precision')\n",
    "plt.ylim([0.0, 1.05])\n",
    "plt.xlim([0.0, 1.0])\n",
    "plt.title('Curve Precision-Recall')\n",
    "plt.show()"
   ]
  },
  {
   "cell_type": "markdown",
   "metadata": {},
   "source": [
    "For a threshold of 0.35, the highest F1"
   ]
  },
  {
   "cell_type": "code",
   "execution_count": null,
   "metadata": {},
   "outputs": [],
   "source": [
    "tabl_prec.append(round(best_f1, 2))\n",
    "tabl_roc_auc.append(round(auc_roc,2))\n",
    "tabl_model.append('RandomForestClassifier')\n",
    "tabl_not.append('threshold=0.35')"
   ]
  },
  {
   "cell_type": "code",
   "execution_count": null,
   "metadata": {},
   "outputs": [],
   "source": [
    "%%time\n",
    "1 + 1\n",
    "model = CatBoostClassifier(verbose=100, random_state=12345)\n",
    "\n",
    "model.fit(features_train, target_train)\n",
    "probabilities_valid = model.predict_proba(features_valid)[:, 1]\n",
    "\n",
    "best_f1 = 0 \n",
    "\n",
    "for threshold in np.arange(0, 0.95, 0.05):\n",
    "    predicted_valid = probabilities_valid > threshold \n",
    "    precision = precision_score(target_valid, predicted_valid)\n",
    "    recall = recall_score(target_valid, predicted_valid)\n",
    "    F1 = f1_score(target_valid, predicted_valid)\n",
    "    print(\"threshold = {:.2f} | precision = {:.3f}, recall = {:.3f}, F1 = {:.3f}\".format(threshold, precision, recall, F1))\n",
    "    if F1>best_f1:\n",
    "        best_f1 = F1\n",
    "\n",
    "auc_roc = roc_auc_score(target_valid, probabilities_valid)\n",
    "print(\"ROC-AUC = {:.3f}\".format(auc_roc))     \n",
    "print(\"F1-мера = {:.3f}\".format(best_f1)) "
   ]
  },
  {
   "cell_type": "code",
   "execution_count": null,
   "metadata": {},
   "outputs": [],
   "source": [
    "probabilities_valid = model.predict_proba(features_valid)\n",
    "precision, recall, thresholds = precision_recall_curve(target_valid, probabilities_valid[:, 1])\n",
    "\n",
    "plt.figure(figsize=(6, 6))\n",
    "plt.step(recall, precision, where='post')\n",
    "plt.xlabel('Recall')\n",
    "plt.ylabel('Precision')\n",
    "plt.ylim([0.0, 1.05])\n",
    "plt.xlim([0.0, 1.0])\n",
    "plt.title('Curve Precision-Recall')\n",
    "plt.show()"
   ]
  },
  {
   "cell_type": "markdown",
   "metadata": {},
   "source": [
    "The highest score with a threshold of 0.25"
   ]
  },
  {
   "cell_type": "code",
   "execution_count": null,
   "metadata": {},
   "outputs": [],
   "source": [
    "tabl_prec.append(round(best_f1, 2))\n",
    "tabl_roc_auc.append(round(auc_roc,2))\n",
    "tabl_model.append('CatBoostClassifier')\n",
    "tabl_not.append('threshold=0.25')"
   ]
  },
  {
   "cell_type": "code",
   "execution_count": null,
   "metadata": {},
   "outputs": [],
   "source": [
    "table_models = (pd.DataFrame({'Model':tabl_model, 'F1 score':tabl_prec, 'ROC-AUC':tabl_roc_auc, 'Notice': tabl_not}).sort_values(by='F1 score', ascending=False).\n",
    "                  reset_index(drop=True))\n",
    "table_models"
   ]
  },
  {
   "cell_type": "markdown",
   "metadata": {},
   "source": [
    "#### Comparison:"
   ]
  },
  {
   "cell_type": "markdown",
   "metadata": {},
   "source": [
    "Changing the qualification threshold was able to significantly improve the models."
   ]
  },
  {
   "cell_type": "markdown",
   "metadata": {},
   "source": [
    "## Conclusion"
   ]
  },
  {
   "cell_type": "markdown",
   "metadata": {},
   "source": [
    "<div class=\"alert alert-info\"> <b>\n",
    "We have determined the two most successful models - CatBoostClassifier with the best F1-measure and ROC-AUC measure obtained with threshold=0.25 and RandomForestClassifier with threshold 0.3. Let's try to find the optimal hyperparameters for it.\n",
    "\n",
    "     1. In addition, we found that if there is an imbalance for our task, the best option is to change the threshold for RandomForestClassifier and a little for CatBoostClassifier.\n",
    "     2. The increase in the sample proved to be better than its decrease. But not suitable for CatBoostClassifier and RandomForestClassifier\n",
    "</div>"
   ]
  },
  {
   "cell_type": "markdown",
   "metadata": {},
   "source": [
    "## Hyperparameter optimization for random forest model"
   ]
  },
  {
   "cell_type": "markdown",
   "metadata": {},
   "source": [
    "### Stage 1. RandomizedSearchCV"
   ]
  },
  {
   "cell_type": "markdown",
   "metadata": {},
   "source": [
    "You can start with the RandomizedSearchCV algorithm, which allows you to pretty roughly explore wide ranges of values. We will check on the sample (other), with the class_weight = {1:3.5} parameter using cross-validation. We get the base model, we will check it by the F1-measure."
   ]
  },
  {
   "cell_type": "code",
   "execution_count": null,
   "metadata": {},
   "outputs": [],
   "source": [
    "%%time\n",
    "1 + 1\n",
    "n_estimators = [int(x) for x in np.linspace(start = 2, stop = 100, num = 25)]\n",
    "max_features = ['log2', 'sqrt']\n",
    "max_depth = [int(x) for x in np.linspace(start = 1, stop = 20, num = 20)]\n",
    "min_samples_split = [int(x) for x in np.linspace(start = 2, stop = 50, num = 25)]\n",
    "min_samples_leaf = [int(x) for x in np.linspace(start = 2, stop = 50, num = 25)]\n",
    "bootstrap = [True, False]\n",
    "class_weight = [{1:3.5}, {1:3.6}, {1:3.4},]\n",
    "#As we work, we generate a param_dist entity containing, for each hyperparameter, the range of values to be tested\n",
    "param_dist = {'n_estimators': n_estimators,\n",
    "               'max_features': max_features,\n",
    "               'max_depth': max_depth,\n",
    "               'min_samples_split': min_samples_split,\n",
    "               'min_samples_leaf': min_samples_leaf,\n",
    "               'bootstrap': bootstrap,\n",
    "             'class_weight': class_weight}\n",
    "model = RandomizedSearchCV(RandomForestClassifier(), \n",
    "                        param_dist, \n",
    "                        n_iter = 100, \n",
    "                        cv = 5, \n",
    "                        verbose = 1, \n",
    "                        n_jobs=-1, \n",
    "                        random_state=12345,\n",
    "                        scoring = 'f1')\n",
    "model.fit(features_other, target_other)"
   ]
  },
  {
   "cell_type": "markdown",
   "metadata": {},
   "source": [
    "* With parameter values n_iter = 100 and cv = 5, we created 500 RF models by randomly selecting combinations of the above hyperparameters\n",
    "* In order to find out in what range of values it is worth continuing the search, we can easily get a dataframe containing the results of the RandomizedSearchCV algorithm."
   ]
  },
  {
   "cell_type": "code",
   "execution_count": null,
   "metadata": {},
   "outputs": [],
   "source": [
    "rs_df = pd.DataFrame(model.cv_results_).sort_values('rank_test_score').reset_index(drop=True)\n",
    "rs_df = rs_df.drop([\n",
    "            'mean_fit_time', \n",
    "            'std_fit_time', \n",
    "            'mean_score_time',\n",
    "            'std_score_time', \n",
    "            'params', \n",
    "            'split0_test_score', \n",
    "            'split1_test_score', \n",
    "            'split2_test_score', \n",
    "            'std_test_score'],\n",
    "            axis=1)\n",
    "rs_df"
   ]
  },
  {
   "cell_type": "markdown",
   "metadata": {},
   "source": [
    "Now let's create bar graphs, on which, along the x-axis, the values of hyperparameters are located, and along the y-axis, the average values shown by the models. This will allow you to understand which hyperparameter values, on average, perform best."
   ]
  },
  {
   "cell_type": "code",
   "execution_count": null,
   "metadata": {},
   "outputs": [],
   "source": [
    "fig, axs = plt.subplots(ncols=3, nrows=2)\n",
    "sns.set(style=\"whitegrid\", color_codes=True, font_scale = 2)\n",
    "fig.set_size_inches(40,20)\n",
    "sns.barplot(x='param_n_estimators', y='mean_test_score', data=rs_df, ax=axs[0,0], color='lightgrey')\n",
    "axs[0,0].set_ylim([.5,.62])\n",
    "axs[0,0].set_title('n_estimators')\n",
    "\n",
    "sns.barplot(x='param_min_samples_split', y='mean_test_score', data=rs_df, ax=axs[0,1], color='coral')\n",
    "axs[0,1].set_ylim([.59,.62])\n",
    "axs[0,1].set_title('min_samples_split')\n",
    "\n",
    "sns.barplot(x='param_min_samples_leaf', y='mean_test_score', data=rs_df, ax=axs[0,2], color='lightgreen')\n",
    "axs[0,2].set_ylim([.59,.62])\n",
    "axs[0,2].set_title('min_samples_leaf')\n",
    "\n",
    "sns.barplot(x='param_max_features', y='mean_test_score', data=rs_df, ax=axs[1,0], color='wheat')\n",
    "axs[1,0].set_ylim([.57,.62])\n",
    "axs[1,0].set_title('max_features')\n",
    "\n",
    "sns.barplot(x='param_max_depth', y='mean_test_score', data=rs_df, ax=axs[1,1], color='lightpink')\n",
    "axs[1,1].set_ylim([.57,.62])\n",
    "axs[1,1].set_title('max_depth')\n",
    "\n",
    "sns.barplot(x='param_bootstrap',y='mean_test_score', data=rs_df, ax=axs[1,2], color='skyblue')\n",
    "axs[1,2].set_ylim([.57,.62])\n",
    "axs[1,2].set_title('bootstrap')\n",
    "\n",
    "plt.show()"
   ]
  },
  {
   "cell_type": "markdown",
   "metadata": {},
   "source": [
    "Analyzing the graphs, you can see some patterns:\n",
    "1. n_estimators - choose the best parameters 55, 67, 83\n",
    "2. min_samples_split - choose the best parameters 12, 16, 36\n",
    "3. min_samples_leaf - choose the best parameters 4, 8, 12.\n",
    "4. max_features - variant of log2 and sqrt\n",
    "5. max_depth - choose the best parameters 10, 15, 18\n",
    "6. bootstrap - True and False option"
   ]
  },
  {
   "cell_type": "markdown",
   "metadata": {},
   "source": [
    "### Stage 2. Hyperparameter optimization. GridSearchCV"
   ]
  },
  {
   "cell_type": "code",
   "execution_count": null,
   "metadata": {},
   "outputs": [],
   "source": [
    "%%time\n",
    "1 + 1\n",
    "n_estimators = [55, 67, 83]\n",
    "max_features = ['log2', 'sqrt']\n",
    "max_depth = [10, 15, 18]\n",
    "min_samples_split = [12, 16, 36]\n",
    "min_samples_leaf = [4, 8, 12]\n",
    "bootstrap = [True, False]\n",
    "class_weight = [{1:3.5}, {1:3.6}, {1:3.4},]\n",
    "param_dist = {'n_estimators': n_estimators,\n",
    "               'max_features': max_features,\n",
    "               'max_depth': max_depth,\n",
    "               'min_samples_split': min_samples_split,\n",
    "               'min_samples_leaf': min_samples_leaf,\n",
    "               'bootstrap': bootstrap,\n",
    "             'class_weight': class_weight}\n",
    "model = GridSearchCV(RandomForestClassifier(), \n",
    "                     param_dist, \n",
    "                     cv = 3, \n",
    "                     verbose = 1, \n",
    "                     n_jobs=-1)\n",
    "model.fit(features_other, target_other)"
   ]
  },
  {
   "cell_type": "markdown",
   "metadata": {},
   "source": [
    "The best model is stored in the best_estimator_ attribute\n",
    "\n",
    "gsearch.best_estimator_\n",
    "The score of the best model obtained through cross-validation is stored in the best_score_ attribute\n",
    "\n",
    "gsearch.best_score_\n",
    "The parameters of the best model are stored in the attribute best_params_\n",
    "\n",
    "gsearch.best_params_\n",
    "Thus, having once trained the GridSearchCV object, we immediately get both the best model and the best hyperparameters and the model score obtained using cross-validation. And there is no need for additional training of the model and determination of metrics for the selected validation set."
   ]
  },
  {
   "cell_type": "code",
   "execution_count": null,
   "metadata": {},
   "outputs": [],
   "source": [
    "model.best_estimator_"
   ]
  },
  {
   "cell_type": "code",
   "execution_count": null,
   "metadata": {},
   "outputs": [],
   "source": [
    "model.best_score_"
   ]
  },
  {
   "cell_type": "markdown",
   "metadata": {},
   "source": [
    "Above the threshold of 0.59 on the validation set and the test set. Let's try on a test sample and see how the model behaves on unfamiliar data"
   ]
  },
  {
   "cell_type": "markdown",
   "metadata": {},
   "source": [
    "## Hyperparameter optimization for the CatBoostClassifier model"
   ]
  },
  {
   "cell_type": "markdown",
   "metadata": {},
   "source": [
    "Let's try to set up Catboost using cross-validation. We get the base model, we will check it by the F1-measure. Taking into account the imbalance of classes class_weights = [1, 0.25]"
   ]
  },
  {
   "cell_type": "code",
   "execution_count": null,
   "metadata": {},
   "outputs": [],
   "source": [
    "model_cat = CatBoostClassifier(custom_loss=['F1'], random_seed=12345, logging_level='Silent', class_weights = [1, 0.25])"
   ]
  },
  {
   "cell_type": "code",
   "execution_count": null,
   "metadata": {},
   "outputs": [],
   "source": [
    "model_cat.fit(features_train, target_train, eval_set=(features_valid, target_valid))"
   ]
  },
  {
   "cell_type": "markdown",
   "metadata": {},
   "source": [
    "Let's cross-validate using the built-in Pool function"
   ]
  },
  {
   "cell_type": "code",
   "execution_count": null,
   "metadata": {},
   "outputs": [],
   "source": [
    "cv_params = model_cat.get_params()\n",
    "cv_params.update({'loss_function': 'Logloss'})\n",
    "cv_data = cv(Pool(features_train, target_train),cv_params)"
   ]
  },
  {
   "cell_type": "code",
   "execution_count": null,
   "metadata": {},
   "outputs": [],
   "source": [
    "cv_params"
   ]
  },
  {
   "cell_type": "code",
   "execution_count": null,
   "metadata": {},
   "outputs": [],
   "source": [
    "print('F1-мера: {}'.format(np.max(cv_data['test-F1-mean'])))"
   ]
  },
  {
   "cell_type": "code",
   "execution_count": null,
   "metadata": {},
   "outputs": [],
   "source": [
    "probabilities_valid = model_cat.predict_proba(features_valid)[:, 1]\n",
    "\n",
    "auc_roc = roc_auc_score (target_valid, probabilities_valid)\n",
    "\n",
    "print(\"AUC:\", auc_roc)"
   ]
  },
  {
   "cell_type": "markdown",
   "metadata": {},
   "source": [
    "Above the threshold of 0.59 on the validation set and the test set. Good readings of the ROC-AUC metric Let's try it on a test set and see how the model behaves on unfamiliar data"
   ]
  },
  {
   "cell_type": "markdown",
   "metadata": {},
   "source": [
    "### Conclusion"
   ]
  },
  {
   "cell_type": "markdown",
   "metadata": {},
   "source": [
    "We selected optimal hyperparameters with the best F1-measure for RandomForestClassifier(class_weight='balanced', max_depth=19, min_samples_leaf=2, min_samples_split=10,n_estimators=30, random_state=12345)"
   ]
  },
  {
   "cell_type": "markdown",
   "metadata": {},
   "source": [
    "## Model testing"
   ]
  },
  {
   "cell_type": "markdown",
   "metadata": {},
   "source": [
    "### RandomForestClassifier"
   ]
  },
  {
   "cell_type": "code",
   "execution_count": null,
   "metadata": {},
   "outputs": [],
   "source": [
    "model = RandomForestClassifier(class_weight={1: 3.4}, max_depth=18, min_samples_leaf=4,\n",
    "                       min_samples_split=12, n_estimators=83,\n",
    "                       random_state=12345)\n",
    "\n",
    "model_rfc1 = model.fit(features_train, target_train)\n",
    "predicted_test = model_rfc1.predict(features_test)\n",
    "print(\"F1= {:.3f}\\n\".format(f1_score(target_test, predicted_test)))\n",
    "\n",
    "probabilities_test = model.predict_proba(features_test)[:, 1]\n",
    "auc_roc = roc_auc_score(target_test, probabilities_test)\n",
    "print(\"AUC_ROC = {:.3f}\\n\".format(auc_roc))\n",
    "\n",
    "print(\"Accuracy = {:.3f}\\n\".format(accuracy_score(target_test, predicted_test)))\n",
    "\n",
    "print(\"Recall = {:.3f}\\n\".format(recall_score(target_test, predicted_test)))\n",
    "\n",
    "print(\"Precision= {:.3f}\\n\".format(precision_score(target_test, predicted_test)))\n"
   ]
  },
  {
   "cell_type": "markdown",
   "metadata": {},
   "source": [
    "To find out how much our model differs from the random one, let's calculate the area under the ROC curve - AUCZROC (Area Under Curve ROC).\n",
    "This is a new quality metric that ranges from 0 to 1. The AUCZROC of a random model is 0.5."
   ]
  },
  {
   "cell_type": "code",
   "execution_count": null,
   "metadata": {},
   "outputs": [],
   "source": [
    "fpr, tpr, thresholds = roc_curve(target_test, probabilities_test) \n",
    "\n",
    "plt.figure(figsize=(10, 10))\n",
    "plt.plot(fpr, tpr, linestyle='-')\n",
    "plt.plot([0, 1], [0, 1], linestyle='--')\n",
    "plt.xlim([0.0, 1.0])\n",
    "plt.ylim([0.0, 1.0])\n",
    "plt.xlabel('False Positive Rate')\n",
    "plt.ylabel('True Positive Rate')\n",
    "plt.title('ROC-кривая')\n",
    "plt.show()\n",
    "\n",
    "auc_roc = roc_auc_score(target_test, probabilities_test)\n",
    "\n",
    "print(\"AUC:\", auc_roc)"
   ]
  },
  {
   "cell_type": "code",
   "execution_count": null,
   "metadata": {},
   "outputs": [],
   "source": [
    "tabl_prec.append(round(f1_score(target_test, predicted_test), 2))\n",
    "tabl_roc_auc.append(round(auc_roc,2))\n",
    "tabl_model.append('RandomForestClassifier')\n",
    "tabl_not.append('test')"
   ]
  },
  {
   "cell_type": "markdown",
   "metadata": {},
   "source": [
    "### CatBoostClassifier"
   ]
  },
  {
   "cell_type": "code",
   "execution_count": null,
   "metadata": {},
   "outputs": [],
   "source": [
    "model_cat = CatBoostClassifier(random_seed=42,logging_level= 'Silent',custom_loss= ['F1'], loss_function= 'Logloss')\n",
    "model_cat = model_cat.fit(features_train, target_train)\n",
    "predicted_test = model_cat.predict(features_test)\n",
    "print(\"F1= {:.3f}\\n\".format(f1_score(target_test, predicted_test)))\n",
    "\n",
    "probabilities_test = model_cat.predict_proba(features_test)[:, 1]\n",
    "auc_roc = roc_auc_score(target_test, probabilities_test)\n",
    "print(\"AUC_ROC = {:.3f}\\n\".format(auc_roc))\n",
    "\n",
    "print(\"Accuracy = {:.3f}\\n\".format(accuracy_score(target_test, predicted_test)))\n",
    "\n",
    "print(\"Recall = {:.3f}\\n\".format(recall_score(target_test, predicted_test)))\n",
    "\n",
    "print(\"Precision= {:.3f}\\n\".format(precision_score(target_test, predicted_test)))"
   ]
  },
  {
   "cell_type": "code",
   "execution_count": null,
   "metadata": {},
   "outputs": [],
   "source": [
    "fpr, tpr, thresholds = roc_curve(target_test, probabilities_test) \n",
    "\n",
    "plt.figure(figsize=(10, 10))\n",
    "plt.plot(fpr, tpr, linestyle='-')\n",
    "plt.plot([0, 1], [0, 1], linestyle='--')\n",
    "plt.xlim([0.0, 1.0])\n",
    "plt.ylim([0.0, 1.0])\n",
    "plt.xlabel('False Positive Rate')\n",
    "plt.ylabel('True Positive Rate')\n",
    "plt.title('ROC-curve')\n",
    "plt.show()\n",
    "\n",
    "auc_roc = roc_auc_score(target_test, probabilities_test)\n",
    "\n",
    "print(\"AUC:\", auc_roc)"
   ]
  },
  {
   "cell_type": "code",
   "execution_count": null,
   "metadata": {},
   "outputs": [],
   "source": [
    "tabl_prec.append(round(f1_score(target_test, predicted_test), 2))\n",
    "tabl_roc_auc.append(round(auc_roc,2))\n",
    "tabl_model.append('CatBoostClassifier')\n",
    "tabl_not.append('test')"
   ]
  },
  {
   "cell_type": "code",
   "execution_count": null,
   "metadata": {},
   "outputs": [],
   "source": [
    "table_models = (pd.DataFrame({'Model':tabl_model, 'F1 score':tabl_prec, 'ROC-AUC':tabl_roc_auc, 'Notice': tabl_not}).sort_values(by='F1 score', ascending=False).\n",
    "                  reset_index(drop=True))\n",
    "table_models"
   ]
  },
  {
   "cell_type": "code",
   "execution_count": null,
   "metadata": {},
   "outputs": [],
   "source": [
    "model_cat.feature_importances_"
   ]
  },
  {
   "cell_type": "code",
   "execution_count": null,
   "metadata": {},
   "outputs": [],
   "source": [
    "model_rfc1.feature_importances_"
   ]
  },
  {
   "cell_type": "code",
   "execution_count": null,
   "metadata": {},
   "outputs": [],
   "source": [
    "features_test.columns"
   ]
  },
  {
   "cell_type": "code",
   "execution_count": null,
   "metadata": {},
   "outputs": [],
   "source": [
    "f1_table = pd.DataFrame({'name':features_test.columns,'f1_table':model_rfc1.feature_importances_,'f2_table':model_cat.feature_importances_})\n",
    "f1_table.sort_values('f1_table',ascending=False)"
   ]
  },
  {
   "cell_type": "markdown",
   "metadata": {},
   "source": [
    "# Conclusion"
   ]
  },
  {
   "cell_type": "markdown",
   "metadata": {},
   "source": [
    "The most important signs that bank marketers should pay attention to:\n",
    "\n",
    "1. customer age\n",
    "2. the number of bank products used by the client\n",
    "3. account balance\n",
    "4. estimated salary\n",
    "5. credit score\n",
    "\n",
    "To predict churn, you can use a model based on the Random Forest algorithm with the parameters RandomForestClassifier(class_weight={1: 3.4}, max_depth=18, min_samples_leaf=4,min_samples_split=12, n_estimators=83) and the CatBoostClassifier model(random_seed=42,logging_level= 'Silent',custom_loss= ['F1'], loss_function= 'Logloss')"
   ]
  }
 ],
 "metadata": {
  "ExecuteTimeLog": [
   {
    "duration": 2619,
    "start_time": "2023-01-15T13:45:10.839Z"
   },
   {
    "duration": 130,
    "start_time": "2023-01-15T13:45:13.460Z"
   },
   {
    "duration": 0,
    "start_time": "2023-01-15T13:45:13.595Z"
   },
   {
    "duration": 0,
    "start_time": "2023-01-15T13:45:13.596Z"
   },
   {
    "duration": 0,
    "start_time": "2023-01-15T13:45:13.598Z"
   },
   {
    "duration": 0,
    "start_time": "2023-01-15T13:45:13.612Z"
   },
   {
    "duration": 0,
    "start_time": "2023-01-15T13:45:13.613Z"
   },
   {
    "duration": 0,
    "start_time": "2023-01-15T13:45:13.615Z"
   },
   {
    "duration": 0,
    "start_time": "2023-01-15T13:45:13.616Z"
   },
   {
    "duration": 0,
    "start_time": "2023-01-15T13:45:13.617Z"
   },
   {
    "duration": 0,
    "start_time": "2023-01-15T13:45:13.619Z"
   },
   {
    "duration": 0,
    "start_time": "2023-01-15T13:45:13.619Z"
   },
   {
    "duration": 0,
    "start_time": "2023-01-15T13:45:13.620Z"
   },
   {
    "duration": 0,
    "start_time": "2023-01-15T13:45:13.621Z"
   },
   {
    "duration": 0,
    "start_time": "2023-01-15T13:45:13.623Z"
   },
   {
    "duration": 0,
    "start_time": "2023-01-15T13:45:13.624Z"
   },
   {
    "duration": 0,
    "start_time": "2023-01-15T13:45:13.625Z"
   },
   {
    "duration": 0,
    "start_time": "2023-01-15T13:45:13.626Z"
   },
   {
    "duration": 0,
    "start_time": "2023-01-15T13:45:13.628Z"
   },
   {
    "duration": 0,
    "start_time": "2023-01-15T13:45:13.629Z"
   },
   {
    "duration": 0,
    "start_time": "2023-01-15T13:45:13.630Z"
   },
   {
    "duration": 0,
    "start_time": "2023-01-15T13:45:13.632Z"
   },
   {
    "duration": 0,
    "start_time": "2023-01-15T13:45:13.633Z"
   },
   {
    "duration": 0,
    "start_time": "2023-01-15T13:45:13.635Z"
   },
   {
    "duration": 0,
    "start_time": "2023-01-15T13:45:13.636Z"
   },
   {
    "duration": 0,
    "start_time": "2023-01-15T13:45:13.638Z"
   },
   {
    "duration": 0,
    "start_time": "2023-01-15T13:45:13.640Z"
   },
   {
    "duration": 0,
    "start_time": "2023-01-15T13:45:13.641Z"
   },
   {
    "duration": 0,
    "start_time": "2023-01-15T13:45:13.642Z"
   },
   {
    "duration": 0,
    "start_time": "2023-01-15T13:45:13.644Z"
   },
   {
    "duration": 0,
    "start_time": "2023-01-15T13:45:13.645Z"
   },
   {
    "duration": 0,
    "start_time": "2023-01-15T13:45:13.647Z"
   },
   {
    "duration": 0,
    "start_time": "2023-01-15T13:45:13.649Z"
   },
   {
    "duration": 0,
    "start_time": "2023-01-15T13:45:13.650Z"
   },
   {
    "duration": 0,
    "start_time": "2023-01-15T13:45:13.712Z"
   },
   {
    "duration": 0,
    "start_time": "2023-01-15T13:45:13.714Z"
   },
   {
    "duration": 0,
    "start_time": "2023-01-15T13:45:13.715Z"
   },
   {
    "duration": 0,
    "start_time": "2023-01-15T13:45:13.716Z"
   },
   {
    "duration": 0,
    "start_time": "2023-01-15T13:45:13.718Z"
   },
   {
    "duration": 0,
    "start_time": "2023-01-15T13:45:13.719Z"
   },
   {
    "duration": 0,
    "start_time": "2023-01-15T13:45:13.721Z"
   },
   {
    "duration": 0,
    "start_time": "2023-01-15T13:45:13.722Z"
   },
   {
    "duration": 0,
    "start_time": "2023-01-15T13:45:13.724Z"
   },
   {
    "duration": 0,
    "start_time": "2023-01-15T13:45:13.725Z"
   },
   {
    "duration": 0,
    "start_time": "2023-01-15T13:45:13.727Z"
   },
   {
    "duration": 0,
    "start_time": "2023-01-15T13:45:13.728Z"
   },
   {
    "duration": 0,
    "start_time": "2023-01-15T13:45:13.730Z"
   },
   {
    "duration": 0,
    "start_time": "2023-01-15T13:45:13.731Z"
   },
   {
    "duration": 0,
    "start_time": "2023-01-15T13:45:13.733Z"
   },
   {
    "duration": 0,
    "start_time": "2023-01-15T13:45:13.734Z"
   },
   {
    "duration": 0,
    "start_time": "2023-01-15T13:45:13.735Z"
   },
   {
    "duration": 0,
    "start_time": "2023-01-15T13:45:13.736Z"
   },
   {
    "duration": 0,
    "start_time": "2023-01-15T13:45:13.737Z"
   },
   {
    "duration": 0,
    "start_time": "2023-01-15T13:45:13.738Z"
   },
   {
    "duration": 0,
    "start_time": "2023-01-15T13:45:13.739Z"
   },
   {
    "duration": 0,
    "start_time": "2023-01-15T13:45:13.740Z"
   },
   {
    "duration": 0,
    "start_time": "2023-01-15T13:45:13.742Z"
   },
   {
    "duration": 0,
    "start_time": "2023-01-15T13:45:13.743Z"
   },
   {
    "duration": 0,
    "start_time": "2023-01-15T13:45:13.744Z"
   },
   {
    "duration": 0,
    "start_time": "2023-01-15T13:45:13.745Z"
   },
   {
    "duration": 0,
    "start_time": "2023-01-15T13:45:13.746Z"
   },
   {
    "duration": 0,
    "start_time": "2023-01-15T13:45:13.747Z"
   },
   {
    "duration": 0,
    "start_time": "2023-01-15T13:45:13.748Z"
   },
   {
    "duration": 0,
    "start_time": "2023-01-15T13:45:13.750Z"
   },
   {
    "duration": 0,
    "start_time": "2023-01-15T13:45:13.813Z"
   },
   {
    "duration": 0,
    "start_time": "2023-01-15T13:45:13.814Z"
   },
   {
    "duration": 0,
    "start_time": "2023-01-15T13:45:13.819Z"
   },
   {
    "duration": 0,
    "start_time": "2023-01-15T13:45:13.821Z"
   },
   {
    "duration": 0,
    "start_time": "2023-01-15T13:45:13.822Z"
   },
   {
    "duration": 0,
    "start_time": "2023-01-15T13:45:13.823Z"
   },
   {
    "duration": 0,
    "start_time": "2023-01-15T13:45:13.824Z"
   },
   {
    "duration": 0,
    "start_time": "2023-01-15T13:45:13.825Z"
   },
   {
    "duration": 0,
    "start_time": "2023-01-15T13:45:13.827Z"
   },
   {
    "duration": 0,
    "start_time": "2023-01-15T13:45:13.828Z"
   },
   {
    "duration": 0,
    "start_time": "2023-01-15T13:45:13.829Z"
   },
   {
    "duration": 0,
    "start_time": "2023-01-15T13:45:13.830Z"
   },
   {
    "duration": 0,
    "start_time": "2023-01-15T13:45:13.831Z"
   },
   {
    "duration": 0,
    "start_time": "2023-01-15T13:45:13.832Z"
   },
   {
    "duration": 0,
    "start_time": "2023-01-15T13:45:13.834Z"
   },
   {
    "duration": 0,
    "start_time": "2023-01-15T13:45:13.835Z"
   },
   {
    "duration": 0,
    "start_time": "2023-01-15T13:45:13.836Z"
   },
   {
    "duration": 0,
    "start_time": "2023-01-15T13:45:13.837Z"
   },
   {
    "duration": 0,
    "start_time": "2023-01-15T13:45:13.839Z"
   },
   {
    "duration": 0,
    "start_time": "2023-01-15T13:45:13.840Z"
   },
   {
    "duration": 0,
    "start_time": "2023-01-15T13:45:13.841Z"
   },
   {
    "duration": 0,
    "start_time": "2023-01-15T13:45:13.843Z"
   },
   {
    "duration": 0,
    "start_time": "2023-01-15T13:45:13.844Z"
   },
   {
    "duration": 0,
    "start_time": "2023-01-15T13:45:13.845Z"
   },
   {
    "duration": 0,
    "start_time": "2023-01-15T13:45:13.847Z"
   },
   {
    "duration": 0,
    "start_time": "2023-01-15T13:45:13.848Z"
   },
   {
    "duration": 0,
    "start_time": "2023-01-15T13:45:13.850Z"
   },
   {
    "duration": 0,
    "start_time": "2023-01-15T13:45:13.851Z"
   },
   {
    "duration": 0,
    "start_time": "2023-01-15T13:45:13.852Z"
   },
   {
    "duration": 0,
    "start_time": "2023-01-15T13:45:13.853Z"
   },
   {
    "duration": 0,
    "start_time": "2023-01-15T13:45:13.853Z"
   },
   {
    "duration": 0,
    "start_time": "2023-01-15T13:45:13.913Z"
   },
   {
    "duration": 0,
    "start_time": "2023-01-15T13:45:13.914Z"
   },
   {
    "duration": 0,
    "start_time": "2023-01-15T13:45:13.916Z"
   },
   {
    "duration": 0,
    "start_time": "2023-01-15T13:45:13.917Z"
   },
   {
    "duration": 0,
    "start_time": "2023-01-15T13:45:13.919Z"
   },
   {
    "duration": 0,
    "start_time": "2023-01-15T13:45:13.921Z"
   }
  ],
  "kernelspec": {
   "display_name": "Python 3",
   "language": "python",
   "name": "python3"
  },
  "language_info": {
   "codemirror_mode": {
    "name": "ipython",
    "version": 3
   },
   "file_extension": ".py",
   "mimetype": "text/x-python",
   "name": "python",
   "nbconvert_exporter": "python",
   "pygments_lexer": "ipython3",
   "version": "3.9.12"
  },
  "toc": {
   "base_numbering": 1,
   "nav_menu": {},
   "number_sections": true,
   "sideBar": true,
   "skip_h1_title": true,
   "title_cell": "Содержание",
   "title_sidebar": "Contents",
   "toc_cell": true,
   "toc_position": {},
   "toc_section_display": true,
   "toc_window_display": false
  },
  "toc-autonumbering": true,
  "toc-showcode": false,
  "toc-showmarkdowntxt": false,
  "toc-showtags": false
 },
 "nbformat": 4,
 "nbformat_minor": 4
}
