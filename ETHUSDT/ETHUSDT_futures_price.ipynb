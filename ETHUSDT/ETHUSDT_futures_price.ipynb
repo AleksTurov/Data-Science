{
  "cells": [
    {
      "cell_type": "markdown",
      "metadata": {
        "colab_type": "text",
        "id": "view-in-github"
      },
      "source": [
        "<a href=\"https://colab.research.google.com/github/AleksTurov/Data-Science/blob/main/ETHUSDT/ETHUSDT_futures_price.ipynb\" target=\"_parent\"><img src=\"https://colab.research.google.com/assets/colab-badge.svg\" alt=\"Open In Colab\"/></a>"
      ]
    },
    {
      "cell_type": "markdown",
      "metadata": {
        "id": "Zj9SYeBJIFcP"
      },
      "source": [
        "# Определение собственные движения цены фьючерса ETHUSDT  \n"
      ]
    },
    {
      "cell_type": "markdown",
      "metadata": {
        "id": "HYgP2IXAJ5A8"
      },
      "source": [
        "1. Нам нужно определить собственные движения цены фьючерса ETHUSDT, исключив из них движения вызванные влиянием цены BTCUSDT. Опишите, какую методику вы выбрали, какие параметры подобрали, и почему.  \n",
        "\n",
        "2. Напишите программу на Python, которая в реальном времени (с минимальной задержкой) следит за ценой фьючерса ETHUSDT и используя выбранный вами метод, определяет собственные движение цены ETH. При изменении цены на 1% за последние 60 минут, программа выводит сообщение в консоль. При этом программа должна продолжать работать дальше, постоянно считывая актуальную цену.  \n"
      ]
    },
    {
      "cell_type": "markdown",
      "metadata": {
        "id": "6SyGfgOUIFfU"
      },
      "source": [
        "## 1. Методика\n"
      ]
    },
    {
      "cell_type": "markdown",
      "metadata": {
        "id": "fyMeelHoIv7v"
      },
      "source": [
        "Для определения собственных движений цены ETH, исключив из них движения вызванные влиянием цены BTC, можно использовать методику, основанную на корреляции между ценами ETHUSDT и BTCUSDT.  \n",
        "\n",
        "Одной из возможных методик является вычисление корреляции между ценами ETHUSDT и BTCUSDT на некотором временном интервале (например, за последние 60 минут) и отфильтровывание движений цены ETHUSDT, которые можно объяснить корреляцией с ценой BTCUSDT. Для этого можно использовать формулу корреляции Пирсона:  "
      ]
    },
    {
      "cell_type": "markdown",
      "metadata": {
        "id": "SLza4PhaKMRO"
      },
      "source": [
        "## Код"
      ]
    },
    {
      "cell_type": "markdown",
      "metadata": {
        "id": "LP3G6_kgJeTs"
      },
      "source": [
        "Вот пример кода, который использует описанную методику для определения собственных движений цены ETHUSDT и выводит сообщение в консоль, если цена изменилась на 1% за последние 60 минут:  "
      ]
    },
    {
      "cell_type": "code",
      "execution_count": 5,
      "metadata": {
        "id": "HMSKnPwSHqWC"
      },
      "outputs": [
        {
          "name": "stdout",
          "output_type": "stream",
          "text": [
            "Requirement already satisfied: python-binance in /usr/local/python/3.10.4/lib/python3.10/site-packages (1.0.17)\n",
            "Requirement already satisfied: ujson in /usr/local/python/3.10.4/lib/python3.10/site-packages (from python-binance) (5.7.0)\n",
            "Requirement already satisfied: dateparser in /usr/local/python/3.10.4/lib/python3.10/site-packages (from python-binance) (1.1.7)\n",
            "Requirement already satisfied: aiohttp in /usr/local/python/3.10.4/lib/python3.10/site-packages (from python-binance) (3.8.4)\n",
            "Requirement already satisfied: requests in /home/codespace/.local/lib/python3.10/site-packages (from python-binance) (2.28.1)\n",
            "Requirement already satisfied: websockets in /usr/local/python/3.10.4/lib/python3.10/site-packages (from python-binance) (10.4)\n",
            "Requirement already satisfied: pycryptodome in /usr/local/python/3.10.4/lib/python3.10/site-packages (from python-binance) (3.17)\n",
            "Requirement already satisfied: six in /home/codespace/.local/lib/python3.10/site-packages (from python-binance) (1.16.0)\n",
            "Requirement already satisfied: async-timeout<5.0,>=4.0.0a3 in /usr/local/python/3.10.4/lib/python3.10/site-packages (from aiohttp->python-binance) (4.0.2)\n",
            "Requirement already satisfied: charset-normalizer<4.0,>=2.0 in /home/codespace/.local/lib/python3.10/site-packages (from aiohttp->python-binance) (2.1.1)\n",
            "Requirement already satisfied: yarl<2.0,>=1.0 in /usr/local/python/3.10.4/lib/python3.10/site-packages (from aiohttp->python-binance) (1.8.2)\n",
            "Requirement already satisfied: aiosignal>=1.1.2 in /usr/local/python/3.10.4/lib/python3.10/site-packages (from aiohttp->python-binance) (1.3.1)\n",
            "Requirement already satisfied: multidict<7.0,>=4.5 in /usr/local/python/3.10.4/lib/python3.10/site-packages (from aiohttp->python-binance) (6.0.4)\n",
            "Requirement already satisfied: attrs>=17.3.0 in /home/codespace/.local/lib/python3.10/site-packages (from aiohttp->python-binance) (22.1.0)\n",
            "Requirement already satisfied: frozenlist>=1.1.1 in /usr/local/python/3.10.4/lib/python3.10/site-packages (from aiohttp->python-binance) (1.3.3)\n",
            "Requirement already satisfied: python-dateutil in /home/codespace/.local/lib/python3.10/site-packages (from dateparser->python-binance) (2.8.2)\n",
            "Requirement already satisfied: regex!=2019.02.19,!=2021.8.27 in /usr/local/python/3.10.4/lib/python3.10/site-packages (from dateparser->python-binance) (2022.10.31)\n",
            "Requirement already satisfied: pytz in /home/codespace/.local/lib/python3.10/site-packages (from dateparser->python-binance) (2022.7)\n",
            "Requirement already satisfied: tzlocal in /usr/local/python/3.10.4/lib/python3.10/site-packages (from dateparser->python-binance) (4.2)\n",
            "Requirement already satisfied: urllib3<1.27,>=1.21.1 in /home/codespace/.local/lib/python3.10/site-packages (from requests->python-binance) (1.26.13)\n",
            "Requirement already satisfied: idna<4,>=2.5 in /home/codespace/.local/lib/python3.10/site-packages (from requests->python-binance) (3.4)\n",
            "Requirement already satisfied: certifi>=2017.4.17 in /home/codespace/.local/lib/python3.10/site-packages (from requests->python-binance) (2022.12.7)\n",
            "Requirement already satisfied: pytz-deprecation-shim in /usr/local/python/3.10.4/lib/python3.10/site-packages (from tzlocal->dateparser->python-binance) (0.1.0.post0)\n",
            "Requirement already satisfied: tzdata in /usr/local/python/3.10.4/lib/python3.10/site-packages (from pytz-deprecation-shim->tzlocal->dateparser->python-binance) (2022.7)\n",
            "\n",
            "\u001b[1m[\u001b[0m\u001b[34;49mnotice\u001b[0m\u001b[1;39;49m]\u001b[0m\u001b[39;49m A new release of pip available: \u001b[0m\u001b[31;49m22.3.1\u001b[0m\u001b[39;49m -> \u001b[0m\u001b[32;49m23.0.1\u001b[0m\n",
            "\u001b[1m[\u001b[0m\u001b[34;49mnotice\u001b[0m\u001b[1;39;49m]\u001b[0m\u001b[39;49m To update, run: \u001b[0m\u001b[32;49mpython -m pip install --upgrade pip\u001b[0m\n"
          ]
        }
      ],
      "source": [
        "!pip install python-binance\n",
        "import numpy as np\n",
        "from binance.client import Client\n",
        "import time"
      ]
    },
    {
      "cell_type": "code",
      "execution_count": 6,
      "metadata": {
        "id": "wiRTrJmKcwyN"
      },
      "outputs": [
        {
          "name": "stdout",
          "output_type": "stream",
          "text": [
            "Your Computer Name is:codespaces-e8d1ee\n",
            "Your Computer IP Address is:127.0.0.1\n"
          ]
        }
      ],
      "source": [
        "import socket   \n",
        "hostname=socket.gethostname()   \n",
        "IPAddr=socket.gethostbyname(hostname)   \n",
        "print(\"Your Computer Name is:\"+hostname)   \n",
        "print(\"Your Computer IP Address is:\"+IPAddr)   "
      ]
    },
    {
      "cell_type": "code",
      "execution_count": 7,
      "metadata": {},
      "outputs": [],
      "source": [
        "# задаем параметры подключения к API Binance\n",
        "api_key = 'your_api_key'\n",
        "api_secret = 'your_api_secret'\n",
        "\n",
        "\n",
        "client = Client(api_key, api_secret)"
      ]
    },
    {
      "attachments": {},
      "cell_type": "markdown",
      "metadata": {},
      "source": [
        "Установите ваши api key and your_api_secret"
      ]
    },
    {
      "cell_type": "code",
      "execution_count": 8,
      "metadata": {},
      "outputs": [
        {
          "name": "stdout",
          "output_type": "stream",
          "text": [
            "Price changed by -107.95% in the last hour: 1626.22 -> 1626.22\n",
            "Price changed by -107.95% in the last hour: 1626.22 -> 1626.22\n",
            "Price changed by -107.95% in the last hour: 1626.22 -> 1626.15\n",
            "Price changed by -107.93% in the last hour: 1626.15 -> 1626.14\n",
            "Price changed by -107.93% in the last hour: 1626.14 -> 1626.06\n",
            "Price changed by -107.93% in the last hour: 1626.06 -> 1625.46\n",
            "Price changed by -107.93% in the last hour: 1625.46 -> 1625.68\n",
            "Price changed by -107.93% in the last hour: 1625.68 -> 1625.99\n",
            "Price changed by -107.94% in the last hour: 1625.99 -> 1625.33\n",
            "Price changed by -107.92% in the last hour: 1625.33 -> 1625.34\n",
            "Price changed by -107.93% in the last hour: 1625.34 -> 1625.47\n",
            "Price changed by -107.93% in the last hour: 1625.47 -> 1625.42\n",
            "Price changed by -107.93% in the last hour: 1625.42 -> 1625.42\n",
            "Price changed by -107.93% in the last hour: 1625.42 -> 1625.18\n",
            "Price changed by -107.93% in the last hour: 1625.18 -> 1625.34\n",
            "Price changed by -107.93% in the last hour: 1625.34 -> 1625.40\n",
            "Price changed by -107.93% in the last hour: 1625.40 -> 1625.39\n"
          ]
        },
        {
          "ename": "KeyboardInterrupt",
          "evalue": "",
          "output_type": "error",
          "traceback": [
            "\u001b[0;31m---------------------------------------------------------------------------\u001b[0m",
            "\u001b[0;31mKeyboardInterrupt\u001b[0m                         Traceback (most recent call last)",
            "Cell \u001b[0;32mIn[8], line 39\u001b[0m\n\u001b[1;32m     36\u001b[0m prev_price \u001b[39m=\u001b[39m curr_price\n\u001b[1;32m     38\u001b[0m \u001b[39m# задержка перед следующим запросом\u001b[39;00m\n\u001b[0;32m---> 39\u001b[0m time\u001b[39m.\u001b[39;49msleep(delay)\n",
            "\u001b[0;31mKeyboardInterrupt\u001b[0m: "
          ]
        }
      ],
      "source": [
        "# методика определения собственных движений цены ETHUSDT\n",
        "def own_price_movements():\n",
        "    # получение исторических данных цен ETHUSDT и BTCUSDT\n",
        "    eth_prices = np.array(client.futures_historical_klines('ETHUSDT', Client.KLINE_INTERVAL_1MINUTE, '60 min ago UTC'))\n",
        "    btc_prices = np.array(client.futures_historical_klines('BTCUSDT', Client.KLINE_INTERVAL_1MINUTE, '60 min ago UTC'))\n",
        "\n",
        "    # вычисление корреляции между ценами ETHUSDT и BTCUSDT\n",
        "    corr_coef = np.corrcoef(eth_prices[:, 4].astype(float), btc_prices[:, 4].astype(float))[0, 1]\n",
        "\n",
        "    # фильтрация движений цены ETHUSDT, которые можно объяснить корреляцией с ценой BTCUSDT\n",
        "    own_eth_prices = eth_prices[:, 4].astype(float) - corr_coef * btc_prices[:, 4].astype(float)\n",
        "\n",
        "    return own_eth_prices\n",
        "\n",
        "# задержка между запросами в секундах\n",
        "delay = 1\n",
        "\n",
        "# начальная цена фьючерса ETHUSDT\n",
        "prev_price = float(client.futures_ticker(symbol='ETHUSDT')['lastPrice'])\n",
        "\n",
        "# главный цикл программы\n",
        "while True:\n",
        "    # текущая цена фьючерса ETHUSDT\n",
        "    curr_price = float(client.futures_ticker(symbol='ETHUSDT')['lastPrice'])\n",
        "\n",
        "    # вычисление процентного изменения цены за последние 60 минут\n",
        "    own_prices = own_price_movements()\n",
        "    own_prices_last_hour = own_prices[-60:]\n",
        "    own_price_change = (curr_price - own_prices_last_hour[0]) / own_prices_last_hour[0] * 100\n",
        "\n",
        "    # проверка условия изменения цены на 1% за последние 60 минут\n",
        "    if abs(own_price_change) >= 1:\n",
        "        print(f\"Price changed by {own_price_change:.2f}% in the last hour: {prev_price:.2f} -> {curr_price:.2f}\")\n",
        "\n",
        "    # сохранение текущей цены фьючерса ETHUSDT как предыдущей\n",
        "    prev_price = curr_price\n",
        "\n",
        "    # задержка перед следующим запросом\n",
        "    time.sleep(delay)\n"
      ]
    },
    {
      "attachments": {},
      "cell_type": "markdown",
      "metadata": {},
      "source": [
        "**Обязательно замените your_api_keyи your_api_secretна фактические значения вашего ключа и секрета API.**"
      ]
    },
    {
      "attachments": {},
      "cell_type": "markdown",
      "metadata": {},
      "source": [
        "В этом примере мы используем метод futures_historical_klines из библиотеки python-binance, чтобы получить исторические данные цен ETHUSDT и BTCUSDT за последние 60 минут с интервалом свечи в 1 минуту. Затем мы вычисляем корреляцию между ценами ETHUSDT и BTCUSDT с помощью функции np.corrcoef из библиотеки NumPy. Наконец, мы вычитаем из цен ETHUSDT произведение коэффициента корреляции и цен BTCUSDT, чтобы получить собственные движения цены ETHUSDT.  \n",
        "\n",
        "Это только пример методики, и ее можно дополнить или улучшить в зависимости от вашей задачи и данных.   "
      ]
    }
  ],
  "metadata": {
    "colab": {
      "authorship_tag": "ABX9TyN6KjN7VU7Ks6TKXpcmJN74",
      "include_colab_link": true,
      "provenance": [],
      "toc_visible": true
    },
    "gpuClass": "standard",
    "kernelspec": {
      "display_name": "Python 3",
      "language": "python",
      "name": "python3"
    },
    "language_info": {
      "codemirror_mode": {
        "name": "ipython",
        "version": 3
      },
      "file_extension": ".py",
      "mimetype": "text/x-python",
      "name": "python",
      "nbconvert_exporter": "python",
      "pygments_lexer": "ipython3",
      "version": "3.10.4"
    },
    "vscode": {
      "interpreter": {
        "hash": "3ad933181bd8a04b432d3370b9dc3b0662ad032c4dfaa4e4f1596c548f763858"
      }
    }
  },
  "nbformat": 4,
  "nbformat_minor": 0
}
