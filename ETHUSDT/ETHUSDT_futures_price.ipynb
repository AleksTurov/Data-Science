{
  "nbformat": 4,
  "nbformat_minor": 0,
  "metadata": {
    "colab": {
      "provenance": [],
      "authorship_tag": "ABX9TyOsEG9AyGhY+Nl2WJk6w7uW",
      "include_colab_link": true
    },
    "kernelspec": {
      "name": "python3",
      "display_name": "Python 3"
    },
    "language_info": {
      "name": "python"
    },
    "gpuClass": "standard"
  },
  "cells": [
    {
      "cell_type": "markdown",
      "metadata": {
        "id": "view-in-github",
        "colab_type": "text"
      },
      "source": [
        "<a href=\"https://colab.research.google.com/github/AleksTurov/Data-Science/blob/main/ETHUSDT/ETHUSDT_futures_price.ipynb\" target=\"_parent\"><img src=\"https://colab.research.google.com/assets/colab-badge.svg\" alt=\"Open In Colab\"/></a>"
      ]
    },
    {
      "cell_type": "markdown",
      "source": [
        "# Определение собственные движения цены фьючерса ETHUSDT  \n"
      ],
      "metadata": {
        "id": "Zj9SYeBJIFcP"
      }
    },
    {
      "cell_type": "markdown",
      "source": [
        "1. Нам нужно определить собственные движения цены фьючерса ETHUSDT, исключив из них движения вызванные влиянием цены BTCUSDT. Опишите, какую методику вы выбрали, какие параметры подобрали, и почему.  \n",
        "\n",
        "2. Напишите программу на Python, которая в реальном времени (с минимальной задержкой) следит за ценой фьючерса ETHUSDT и используя выбранный вами метод, определяет собственные движение цены ETH. При изменении цены на 1% за последние 60 минут, программа выводит сообщение в консоль. При этом программа должна продолжать работать дальше, постоянно считывая актуальную цену.  \n"
      ],
      "metadata": {
        "id": "HYgP2IXAJ5A8"
      }
    },
    {
      "cell_type": "markdown",
      "source": [
        "## 1. Методика\n"
      ],
      "metadata": {
        "id": "6SyGfgOUIFfU"
      }
    },
    {
      "cell_type": "markdown",
      "source": [
        "Для определения собственных движений цены ETH, исключив из них движения вызванные влиянием цены BTC, можно использовать методику, основанную на корреляции между ценами ETHUSDT и BTCUSDT.  \n",
        "\n",
        "Одной из возможных методик является вычисление корреляции между ценами ETHUSDT и BTCUSDT на некотором временном интервале (например, за последние 60 минут) и отфильтровывание движений цены ETHUSDT, которые можно объяснить корреляцией с ценой BTCUSDT. Для этого можно использовать формулу корреляции Пирсона:  "
      ],
      "metadata": {
        "id": "fyMeelHoIv7v"
      }
    },
    {
      "cell_type": "markdown",
      "source": [
        "## Код"
      ],
      "metadata": {
        "id": "SLza4PhaKMRO"
      }
    },
    {
      "cell_type": "markdown",
      "source": [
        "Вот пример кода, который использует описанную методику для определения собственных движений цены ETHUSDT и выводит сообщение в консоль, если цена изменилась на 1% за последние 60 минут:  "
      ],
      "metadata": {
        "id": "LP3G6_kgJeTs"
      }
    },
    {
      "cell_type": "code",
      "source": [
        "!pip install python-binance\n",
        "import numpy as np\n",
        "from binance.client import Client\n",
        "import time\n",
        "\n",
        "\n"
      ],
      "metadata": {
        "id": "HMSKnPwSHqWC"
      },
      "execution_count": null,
      "outputs": []
    },
    {
      "cell_type": "code",
      "source": [
        "import socket   \n",
        "hostname=socket.gethostname()   \n",
        "IPAddr=socket.gethostbyname(hostname)   \n",
        "print(\"Your Computer Name is:\"+hostname)   \n",
        "print(\"Your Computer IP Address is:\"+IPAddr)   "
      ],
      "metadata": {
        "id": "wiRTrJmKcwyN"
      },
      "execution_count": null,
      "outputs": []
    },
    {
      "cell_type": "code",
      "source": [
        "\n",
        "# задаем параметры подключения к API Binance\n",
        "api_key = 'db2C0okfEyn9r84qPIx2SaUBkbEfWwUICBP3LH1csWo7Rcuv3mZIDv8SFjfFK4Ks'\n",
        "api_secret = '1Ly4iicNrWvqgFwQJYBGwGbKjRk3FMTDs2RVsotO8Yj1KNfUIMtCNrduXev92SkZ'\n",
        "\n",
        "client = Client(api_key, api_secret)\n",
        "\n",
        "# методика определения собственных движений цены ETHUSDT\n",
        "def own_price_movements():\n",
        "    # получение курсовых данных за последний месяц для пары ETHUSDT\n",
        "    klines_eth = client.get_historical_klines('ETHUSDT', Client.KLINE_INTERVAL_1HOUR, '1 month ago UTC')\n",
        "\n",
        "    # получение курсовых данных за последний месяц для пары BTCUSDT\n",
        "    klines_btc = client.get_historical_klines('BTCUSDT', Client.KLINE_INTERVAL_1HOUR, '1 month ago UTC')\n",
        "\n",
        "    # преобразование курсовых данных в массивы NumPy\n",
        "    eth_prices = np.array(klines_eth)\n",
        "    btc_prices = np.array(klines_btc)\n",
        "\n",
        "    # удаляем последнюю строку из eth_prices для выравнивания размерностей\n",
        "    eth_prices = np.delete(eth_prices, -1, axis=0)\n",
        "\n",
        "    # вычисление корреляции между ценами ETHUSDT и BTCUSDT\n",
        "    corr_coef = np.corrcoef(eth_prices[:, 4].astype(float), btc_prices[:, 4].astype(float))[0, 1]\n",
        "\n",
        "    # фильтрация движений цены ETHUSDT, которые можно объяснить корреляцией с ценой BTCUSDT\n",
        "    eth_prices_filtered = eth_prices[(eth_prices[:, 4].astype(float) - corr_coef * btc_prices[:, 4].astype(float)) >= 0]\n",
        "\n",
        "    # вычисление процента изменения цены ETHUSDT за последний час\n",
        "    eth_price_change = (float(eth_prices_filtered[-1, 4]) - float(eth_prices_filtered[-2, 4])) / float(eth_prices_filtered[-2, 4]) * 100\n",
        "\n",
        "    print(f\"Price changed by {eth_price_change:.2f}% in the last hour: {eth_prices_filtered[-2, 4]} -> {eth_prices_filtered[-1, 4]}\")\n",
        "\n",
        "delay = 1\n",
        "\n",
        "# начальная цена фьючерса ETHUSDT\n",
        "prev_price = float(client.futures_ticker(symbol='ETHUSDT')['lastPrice'])\n",
        "\n",
        "# главный цикл программы\n",
        "while True:\n",
        "    # текущая цена фьючерса ETHUSDT\n",
        "    curr_price = float(client.futures_ticker(symbol='ETHUSDT')['lastPrice'])\n",
        "\n",
        "    # вычисление процентного изменения цены за последние 60 минут\n",
        "    own_prices = own_price_movements()\n",
        "    own_prices_last_hour = own_prices[-60:]\n",
        "    own_price_change = (curr_price - own_prices_last_hour[0]) / own_prices_last_hour[0] * 100\n",
        "\n",
        "    # проверка условия изменения цены на 1% за последние 60 минут\n",
        "    if abs(own_price_change) >= 1:\n",
        "        print(f\"Price changed by {own_price_change:.2f}% in the last hour: {prev_price:.2f} -> {curr_price:.2f}\")\n",
        "\n",
        "    # сохранение текущей цены фьючерса ETHUSDT как предыдущей\n",
        "    prev_price = curr_price\n",
        "\n",
        "    # задержка перед следующим запросом\n",
        "    time.sleep(delay)\n"
      ],
      "metadata": {
        "id": "vFb8V_ARTS_Y"
      },
      "execution_count": null,
      "outputs": []
    },
    {
      "cell_type": "markdown",
      "source": [
        "Обязательно замените your_api_keyи your_api_secretна фактические значения вашего ключа и секрета API."
      ],
      "metadata": {
        "id": "y9Y7S3NmOo3g"
      }
    },
    {
      "cell_type": "markdown",
      "source": [
        "В этом примере мы используем метод futures_historical_klines из библиотеки python-binance, чтобы получить исторические данные цен ETHUSDT и BTCUSDT за последние 60 минут с интервалом свечи в 1 минуту. Затем мы вычисляем корреляцию между ценами ETHUSDT и BTCUSDT с помощью функции np.corrcoef из библиотеки NumPy. Наконец, мы вычитаем из цен ETHUSDT произведение коэффициента корреляции и цен BTCUSDT, чтобы получить собственные движения цены ETHUSDT.  \n",
        "\n",
        "Это только пример методики, и ее можно дополнить или улучшить в зависимости от вашей задачи и данных.   "
      ],
      "metadata": {
        "id": "v1W6NVPsJBds"
      }
    },
    {
      "cell_type": "code",
      "source": [],
      "metadata": {
        "id": "_M_m708DTn0G"
      },
      "execution_count": null,
      "outputs": []
    }
  ]
}