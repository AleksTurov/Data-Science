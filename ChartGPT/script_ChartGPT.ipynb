{
  "cells": [
    {
      "attachments": {},
      "cell_type": "markdown",
      "metadata": {},
      "source": [
        "Нам нужно написать скрипт с помощью СhatGPT, который умеет анализировать и ранжировать отзывы пользователей. Эта задача поможет автоматизировать рутину и высвободить время саппорта."
      ]
    },
    {
      "cell_type": "code",
      "execution_count": null,
      "metadata": {},
      "outputs": [],
      "source": [
        "!pip install openai"
      ]
    },
    {
      "cell_type": "code",
      "execution_count": 2,
      "metadata": {
        "id": "TSSbMAAhYrC6"
      },
      "outputs": [],
      "source": [
        "import openai\n",
        "import pandas as pd\n",
        "\n",
        "openai.api_key = \"your_api-key\"\n"
      ]
    },
    {
      "attachments": {},
      "cell_type": "markdown",
      "metadata": {},
      "source": [
        "Необходимо подставить ваш api key"
      ]
    },
    {
      "cell_type": "markdown",
      "metadata": {
        "id": "uBugPsZuaUlN"
      },
      "source": [
        "https://drive.google.com/file/d/1vpA6i0Wam8iAhZPGgpMJfkoDQwRns6ti/view?usp=share_link"
      ]
    },
    {
      "cell_type": "code",
      "execution_count": 3,
      "metadata": {
        "colab": {
          "base_uri": "https://localhost:8080/"
        },
        "id": "sOxaYm_OaHzf",
        "outputId": "562efcb2-b430-4763-8329-0926bce35e68"
      },
      "outputs": [
        {
          "name": "stdout",
          "output_type": "stream",
          "text": [
            "Downloading...\n",
            "From: https://drive.google.com/uc?id=1vpA6i0Wam8iAhZPGgpMJfkoDQwRns6ti\n",
            "To: /content/Welltory Test_Python Developer_App Reviews.xlsx\n",
            "\r  0% 0.00/18.4k [00:00<?, ?B/s]\r100% 18.4k/18.4k [00:00<00:00, 28.4MB/s]\n"
          ]
        }
      ],
      "source": [
        "! gdown 1vpA6i0Wam8iAhZPGgpMJfkoDQwRns6ti"
      ]
    },
    {
      "cell_type": "code",
      "execution_count": 4,
      "metadata": {
        "colab": {
          "base_uri": "https://localhost:8080/"
        },
        "id": "ZxKWEQ-aSY8U",
        "outputId": "79f2cd10-0336-4f43-8b39-cba5c0504f4b"
      },
      "outputs": [
        {
          "name": "stdout",
          "output_type": "stream",
          "text": [
            "Mounted at /content/drive\n"
          ]
        }
      ],
      "source": [
        "from google.colab import drive\n",
        "drive.mount('/content/drive')\n"
      ]
    },
    {
      "cell_type": "code",
      "execution_count": 5,
      "metadata": {
        "id": "ZFMTvQhhTkfM"
      },
      "outputs": [],
      "source": [
        "file_path = '/content/drive/MyDrive/ChartGPT/Welltory Test_Python Developer_App Reviews.xlsx'\n"
      ]
    },
    {
      "cell_type": "code",
      "execution_count": 6,
      "metadata": {
        "id": "UWtzqdzDRkH_"
      },
      "outputs": [],
      "source": [
        "sheet1_name = 'Task'\n",
        "sheet2_name = 'Data'\n",
        "\n",
        "df_sheet1 = pd.read_excel(file_path, sheet_name=sheet1_name)\n",
        "df_sheet2 = pd.read_excel(file_path, sheet_name=sheet2_name)\n",
        "\n"
      ]
    },
    {
      "cell_type": "code",
      "execution_count": 7,
      "metadata": {
        "colab": {
          "base_uri": "https://localhost:8080/"
        },
        "id": "_-5aAkDSTy53",
        "outputId": "b310dee8-d016-4bcb-fe8a-b7f0de0c4e92"
      },
      "outputs": [
        {
          "name": "stdout",
          "output_type": "stream",
          "text": [
            "<class 'pandas.core.frame.DataFrame'>\n",
            "RangeIndex: 10 entries, 0 to 9\n",
            "Data columns (total 4 columns):\n",
            " #   Column       Non-Null Count  Dtype         \n",
            "---  ------       --------------  -----         \n",
            " 0   email        10 non-null     object        \n",
            " 1   review text  10 non-null     object        \n",
            " 2   date         10 non-null     datetime64[ns]\n",
            " 3   rate         0 non-null      float64       \n",
            "dtypes: datetime64[ns](1), float64(1), object(2)\n",
            "memory usage: 448.0+ bytes\n"
          ]
        }
      ],
      "source": [
        "df_sheet2.info()"
      ]
    },
    {
      "cell_type": "code",
      "execution_count": 8,
      "metadata": {
        "id": "GiIFBQxaT8Km"
      },
      "outputs": [],
      "source": [
        "def analyze_review(review):\n",
        "    prompt = (f\"Please rate the following review on a scale of 1 to 10, with 10 being the most positive and 1 being the most negative:\\n\\n{review}\\n\\nRating:\")\n",
        "    response = openai.Completion.create(\n",
        "        engine=\"text-davinci-002\",\n",
        "        prompt=prompt,\n",
        "        max_tokens=1,\n",
        "        n=1,\n",
        "        stop=None,\n",
        "        temperature=0.5,\n",
        "    )\n",
        "\n",
        "    rating = int(response.choices[0].text)\n",
        "    return rating\n"
      ]
    },
    {
      "cell_type": "code",
      "execution_count": 9,
      "metadata": {
        "id": "OgaOF7W0UP-1"
      },
      "outputs": [],
      "source": [
        "df_sheet2[\"rate\"] = df_sheet2[\"review text\"].apply(analyze_review)\n"
      ]
    },
    {
      "cell_type": "code",
      "execution_count": 10,
      "metadata": {
        "id": "WEWSe-wiUsA7"
      },
      "outputs": [],
      "source": [
        "df_sorted = df_sheet2.sort_values(\"rate\", ascending=False)\n"
      ]
    },
    {
      "cell_type": "code",
      "execution_count": 11,
      "metadata": {
        "id": "_lrni61JUzeh"
      },
      "outputs": [],
      "source": [
        "filename = \"%filename%_analyzed.csv\"\n",
        "df_sorted.to_csv(filename, index=False)"
      ]
    }
  ],
  "metadata": {
    "colab": {
      "provenance": []
    },
    "kernelspec": {
      "display_name": "Python 3",
      "name": "python3"
    },
    "language_info": {
      "name": "python"
    }
  },
  "nbformat": 4,
  "nbformat_minor": 0
}
