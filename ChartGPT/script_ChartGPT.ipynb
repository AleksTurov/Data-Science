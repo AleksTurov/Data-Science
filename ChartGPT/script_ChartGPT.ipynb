{
  "cells": [
    {
      "attachments": {},
      "cell_type": "markdown",
      "metadata": {},
      "source": [
        "Нам нужно написать скрипт с помощью СhatGPT, который умеет анализировать и ранжировать отзывы пользователей. Эта задача поможет автоматизировать рутину и высвободить время саппорта."
      ]
    },
    {
      "cell_type": "code",
      "execution_count": 1,
      "metadata": {},
      "outputs": [
        {
          "name": "stdout",
          "output_type": "stream",
          "text": [
            "Collecting openai\n",
            "\u001b[33m  WARNING: Retrying (Retry(total=4, connect=None, read=None, redirect=None, status=None)) after connection broken by 'NewConnectionError('<pip._vendor.urllib3.connection.HTTPSConnection object at 0x7f5b5aaf6c80>: Failed to establish a new connection: [Errno -3] Временный сбой в разрешении имен')': /packages/35/c3/de7124146c3edbe8fd8163028d9ac998f2fd5dcda9225655f1d4ed684bbc/openai-0.27.7-py3-none-any.whl\u001b[0m\u001b[33m\n",
            "\u001b[0m  Downloading openai-0.27.7-py3-none-any.whl (71 kB)\n",
            "\u001b[2K     \u001b[90m━━━━━━━━━━━━━━━━━━━━━━━━━━━━━━━━━━━━━━━\u001b[0m \u001b[32m72.0/72.0 kB\u001b[0m \u001b[31m323.9 kB/s\u001b[0m eta \u001b[36m0:00:00\u001b[0ma \u001b[36m0:00:01\u001b[0m\n",
            "\u001b[?25hRequirement already satisfied: tqdm in /home/aleksey/anaconda3/lib/python3.10/site-packages (from openai) (4.65.0)\n",
            "Collecting aiohttp\n",
            "  Downloading aiohttp-3.8.4-cp310-cp310-manylinux_2_17_x86_64.manylinux2014_x86_64.whl (1.0 MB)\n",
            "\u001b[2K     \u001b[90m━━━━━━━━━━━━━━━━━━━━━━━━━━━━━━━━━━━━━━━━\u001b[0m \u001b[32m1.0/1.0 MB\u001b[0m \u001b[31m634.2 kB/s\u001b[0m eta \u001b[36m0:00:00\u001b[0ma \u001b[36m0:00:01\u001b[0m\n",
            "\u001b[?25hRequirement already satisfied: requests>=2.20 in /home/aleksey/anaconda3/lib/python3.10/site-packages (from openai) (2.28.1)\n",
            "Requirement already satisfied: charset-normalizer<3,>=2 in /home/aleksey/anaconda3/lib/python3.10/site-packages (from requests>=2.20->openai) (2.0.4)\n",
            "Requirement already satisfied: idna<4,>=2.5 in /home/aleksey/anaconda3/lib/python3.10/site-packages (from requests>=2.20->openai) (3.4)\n",
            "Requirement already satisfied: urllib3<1.27,>=1.21.1 in /home/aleksey/anaconda3/lib/python3.10/site-packages (from requests>=2.20->openai) (1.26.14)\n",
            "Requirement already satisfied: certifi>=2017.4.17 in /home/aleksey/anaconda3/lib/python3.10/site-packages (from requests>=2.20->openai) (2022.12.7)\n",
            "Collecting async-timeout<5.0,>=4.0.0a3\n",
            "  Downloading async_timeout-4.0.2-py3-none-any.whl (5.8 kB)\n",
            "Collecting multidict<7.0,>=4.5\n",
            "  Downloading multidict-6.0.4-cp310-cp310-manylinux_2_17_x86_64.manylinux2014_x86_64.whl (114 kB)\n",
            "\u001b[2K     \u001b[90m━━━━━━━━━━━━━━━━━━━━━━━━━━━━━━━━━━━━━━━\u001b[0m \u001b[32m114.5/114.5 kB\u001b[0m \u001b[31m1.1 MB/s\u001b[0m eta \u001b[36m0:00:00\u001b[0ma \u001b[36m0:00:01\u001b[0m\n",
            "\u001b[?25hRequirement already satisfied: aiosignal>=1.1.2 in /home/aleksey/anaconda3/lib/python3.10/site-packages (from aiohttp->openai) (1.3.1)\n",
            "Collecting yarl<2.0,>=1.0\n",
            "  Downloading yarl-1.9.2-cp310-cp310-manylinux_2_17_x86_64.manylinux2014_x86_64.whl (268 kB)\n",
            "\u001b[2K     \u001b[90m━━━━━━━━━━━━━━━━━━━━━━━━━━━━━━━━━━━━━━━\u001b[0m \u001b[32m268.8/268.8 kB\u001b[0m \u001b[31m1.1 MB/s\u001b[0m eta \u001b[36m0:00:00\u001b[0ma \u001b[36m0:00:01\u001b[0m\n",
            "\u001b[?25hRequirement already satisfied: attrs>=17.3.0 in /home/aleksey/anaconda3/lib/python3.10/site-packages (from aiohttp->openai) (22.1.0)\n",
            "Requirement already satisfied: frozenlist>=1.1.1 in /home/aleksey/anaconda3/lib/python3.10/site-packages (from aiohttp->openai) (1.3.3)\n",
            "Installing collected packages: multidict, async-timeout, yarl, aiohttp, openai\n",
            "Successfully installed aiohttp-3.8.4 async-timeout-4.0.2 multidict-6.0.4 openai-0.27.7 yarl-1.9.2\n"
          ]
        }
      ],
      "source": [
        "!pip install openai"
      ]
    },
    {
      "cell_type": "code",
      "execution_count": 2,
      "metadata": {
        "id": "TSSbMAAhYrC6"
      },
      "outputs": [],
      "source": [
        "import openai\n",
        "import pandas as pd\n",
        "\n",
        "openai.api_key = \"your_api-key\"\n"
      ]
    },
    {
      "attachments": {},
      "cell_type": "markdown",
      "metadata": {},
      "source": [
        "Необходимо подставить ваш api key"
      ]
    },
    {
      "cell_type": "markdown",
      "metadata": {
        "id": "uBugPsZuaUlN"
      },
      "source": [
        "https://drive.google.com/file/d/1vpA6i0Wam8iAhZPGgpMJfkoDQwRns6ti/view?usp=share_link"
      ]
    },
    {
      "cell_type": "code",
      "execution_count": 3,
      "metadata": {
        "colab": {
          "base_uri": "https://localhost:8080/"
        },
        "id": "sOxaYm_OaHzf",
        "outputId": "562efcb2-b430-4763-8329-0926bce35e68"
      },
      "outputs": [
        {
          "name": "stdout",
          "output_type": "stream",
          "text": [
            "Downloading...\n",
            "From: https://drive.google.com/uc?id=1vpA6i0Wam8iAhZPGgpMJfkoDQwRns6ti\n",
            "To: /content/Welltory Test_Python Developer_App Reviews.xlsx\n",
            "\r  0% 0.00/18.4k [00:00<?, ?B/s]\r100% 18.4k/18.4k [00:00<00:00, 28.4MB/s]\n"
          ]
        }
      ],
      "source": [
        "! gdown 1vpA6i0Wam8iAhZPGgpMJfkoDQwRns6ti"
      ]
    },
    {
      "cell_type": "code",
      "execution_count": 4,
      "metadata": {
        "colab": {
          "base_uri": "https://localhost:8080/"
        },
        "id": "ZxKWEQ-aSY8U",
        "outputId": "79f2cd10-0336-4f43-8b39-cba5c0504f4b"
      },
      "outputs": [
        {
          "name": "stdout",
          "output_type": "stream",
          "text": [
            "Mounted at /content/drive\n"
          ]
        }
      ],
      "source": [
        "from google.colab import drive\n",
        "drive.mount('/content/drive')\n"
      ]
    },
    {
      "cell_type": "code",
      "execution_count": 5,
      "metadata": {
        "id": "ZFMTvQhhTkfM"
      },
      "outputs": [],
      "source": [
        "file_path = '/content/drive/MyDrive/ChartGPT/Welltory Test_Python Developer_App Reviews.xlsx'\n"
      ]
    },
    {
      "cell_type": "code",
      "execution_count": 6,
      "metadata": {
        "id": "UWtzqdzDRkH_"
      },
      "outputs": [],
      "source": [
        "sheet1_name = 'Task'\n",
        "sheet2_name = 'Data'\n",
        "\n",
        "df_sheet1 = pd.read_excel(file_path, sheet_name=sheet1_name)\n",
        "df_sheet2 = pd.read_excel(file_path, sheet_name=sheet2_name)\n",
        "\n"
      ]
    },
    {
      "cell_type": "code",
      "execution_count": 7,
      "metadata": {
        "colab": {
          "base_uri": "https://localhost:8080/"
        },
        "id": "_-5aAkDSTy53",
        "outputId": "b310dee8-d016-4bcb-fe8a-b7f0de0c4e92"
      },
      "outputs": [
        {
          "name": "stdout",
          "output_type": "stream",
          "text": [
            "<class 'pandas.core.frame.DataFrame'>\n",
            "RangeIndex: 10 entries, 0 to 9\n",
            "Data columns (total 4 columns):\n",
            " #   Column       Non-Null Count  Dtype         \n",
            "---  ------       --------------  -----         \n",
            " 0   email        10 non-null     object        \n",
            " 1   review text  10 non-null     object        \n",
            " 2   date         10 non-null     datetime64[ns]\n",
            " 3   rate         0 non-null      float64       \n",
            "dtypes: datetime64[ns](1), float64(1), object(2)\n",
            "memory usage: 448.0+ bytes\n"
          ]
        }
      ],
      "source": [
        "df_sheet2.info()"
      ]
    },
    {
      "cell_type": "code",
      "execution_count": 8,
      "metadata": {
        "id": "GiIFBQxaT8Km"
      },
      "outputs": [],
      "source": [
        "def analyze_review(review):\n",
        "    prompt = (f\"Please rate the following review on a scale of 1 to 10, with 10 being the most positive and 1 being the most negative:\\n\\n{review}\\n\\nRating:\")\n",
        "    response = openai.Completion.create(\n",
        "        engine=\"text-davinci-002\",\n",
        "        prompt=prompt,\n",
        "        max_tokens=1,\n",
        "        n=1,\n",
        "        stop=None,\n",
        "        temperature=0.5,\n",
        "    )\n",
        "\n",
        "    rating = int(response.choices[0].text)\n",
        "    return rating\n"
      ]
    },
    {
      "cell_type": "code",
      "execution_count": 9,
      "metadata": {
        "id": "OgaOF7W0UP-1"
      },
      "outputs": [],
      "source": [
        "df_sheet2[\"rate\"] = df_sheet2[\"review text\"].apply(analyze_review)\n"
      ]
    },
    {
      "cell_type": "code",
      "execution_count": 10,
      "metadata": {
        "id": "WEWSe-wiUsA7"
      },
      "outputs": [],
      "source": [
        "df_sorted = df_sheet2.sort_values(\"rate\", ascending=False)\n"
      ]
    },
    {
      "cell_type": "code",
      "execution_count": 11,
      "metadata": {
        "id": "_lrni61JUzeh"
      },
      "outputs": [],
      "source": [
        "filename = \"%filename%_analyzed.csv\"\n",
        "df_sorted.to_csv(filename, index=False)"
      ]
    }
  ],
  "metadata": {
    "colab": {
      "provenance": []
    },
    "kernelspec": {
      "display_name": "Python 3",
      "name": "python3"
    },
    "language_info": {
      "codemirror_mode": {
        "name": "ipython",
        "version": 3
      },
      "file_extension": ".py",
      "mimetype": "text/x-python",
      "name": "python",
      "nbconvert_exporter": "python",
      "pygments_lexer": "ipython3",
      "version": "3.10.10"
    }
  },
  "nbformat": 4,
  "nbformat_minor": 0
}
