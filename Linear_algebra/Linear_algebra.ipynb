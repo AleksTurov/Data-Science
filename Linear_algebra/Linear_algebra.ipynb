{
  "cells": [
    {
      "cell_type": "markdown",
      "metadata": {
        "colab_type": "text",
        "id": "view-in-github"
      },
      "source": [
        "<a href=\"https://colab.research.google.com/github/AleksTurov/Data-Science/blob/main/Linear_algebra/Linear_algebra.ipynb\" target=\"_parent\"><img src=\"https://colab.research.google.com/assets/colab-badge.svg\" alt=\"Open In Colab\"/></a>"
      ]
    },
    {
      "cell_type": "markdown",
      "metadata": {
        "colab_type": "toc",
        "id": "WD7jUZ-HURYf"
      },
      "source": [
        ">[Линейна алгебра](#scrollTo=fQvl5ZzBUMKI)\n",
        "\n",
        ">>[Векторы и векторные операции](#scrollTo=vMWGtD6adZaX)\n",
        "\n",
        ">>>[Сложение и вычитание векторов](#scrollTo=VDdAufwqiWYS)\n",
        "\n",
        ">>>[Умножение вектора на число](#scrollTo=5qX5j1VekRGC)\n",
        "\n",
        ">>>[Среднее значение векторов](#scrollTo=TR0zxlSelmvb)\n",
        "\n",
        ">>>[Векторизованные функции](#scrollTo=5ZNITke1qRoh)\n",
        "\n",
        ">>>[Векторизация метрик](#scrollTo=TvnaOEhSswaK)\n",
        "\n",
        ">>[Растояние между векторами](#scrollTo=uaV5SwHhzQad)\n",
        "\n",
        ">>>[Скалярное произведение](#scrollTo=14pwKrr7zXRr)\n",
        "\n",
        ">>>[Расстояние на плоскости](#scrollTo=KucN5cN50s30)\n",
        "\n",
        ">>>[Манхэттенское расстояние](#scrollTo=EecKp_v0U3z4)\n",
        "\n",
        ">>>[Расстояния в многомерном пространстве](#scrollTo=3DZNaNgcbUNU)\n",
        "\n",
        ">>>[Метод ближайших соседей](#scrollTo=w4NfPgruk2Dg)\n",
        "\n",
        ">>>[Создание класса модели](#scrollTo=TgAWakogqWe0)\n",
        "\n",
        ">>[Матрицы и матричные операции](#scrollTo=K_W0TS9xNWDS)\n",
        "\n"
      ]
    },
    {
      "cell_type": "markdown",
      "metadata": {
        "id": "fQvl5ZzBUMKI"
      },
      "source": [
        "# Линейна алгебра"
      ]
    },
    {
      "cell_type": "markdown",
      "metadata": {
        "id": "vMWGtD6adZaX"
      },
      "source": [
        "## Векторы и векторные операции"
      ]
    },
    {
      "cell_type": "code",
      "execution_count": 1,
      "metadata": {
        "id": "TukLtbrreDX7"
      },
      "outputs": [
        {
          "name": "stdout",
          "output_type": "stream",
          "text": [
            "Оценки пришедших с первого агрегатора: [array([68, 18]), array([81, 19]), array([81, 22]), array([75, 15]), array([76,  6]), array([84, 15]), array([73, 16]), array([88, 25]), array([78, 23]), array([77, 35])]\n",
            "Оценки пришедших со второго агрегатора: [array([15, 75]), array([17, 72]), array([24, 75]), array([21, 91]), array([12, 74]), array([18, 83]), array([20, 62]), array([21, 82]), array([21, 79]), array([32, 81])]\n"
          ]
        }
      ],
      "source": [
        "import numpy as np\n",
        "import pandas as pd\n",
        "\n",
        "reviews_values = [\n",
        "    [68,18], [81,19], [81,22], [15,75], [75,15], [17,72], \n",
        "    [24,75], [21,91], [76, 6], [12,74], [18,83], [20,62], \n",
        "    [21,82], [21,79], [84,15], [73,16], [88,25], [78,23], \n",
        "    [32, 81], [77, 35]]\n",
        "reviews = pd.DataFrame(reviews_values, columns=['Цена', 'Качество'])\n",
        "\n",
        "clients_1 = []\n",
        "clients_2 = []\n",
        "price = reviews['Цена'].values\n",
        "quality = reviews['Качество'].values\n",
        "for client in list(reviews.values):\n",
        "  if client[0] > 60 and client[1] < 40:\n",
        "    clients_1.append(client)\n",
        "  else:\n",
        "    clients_2.append(client)\n",
        "\n",
        "print(\"Оценки пришедших с первого агрегатора:\", clients_1)\n",
        "print(\"Оценки пришедших со второго агрегатора:\", clients_2)"
      ]
    },
    {
      "cell_type": "markdown",
      "metadata": {
        "id": "VDdAufwqiWYS"
      },
      "source": [
        "### Сложение и вычитание векторов"
      ]
    },
    {
      "cell_type": "markdown",
      "metadata": {
        "id": "wSjzKMCwiZq4"
      },
      "source": [
        "1.Выберите из каждой таблицы столбец с количеством и преобразуйте в вектор. Напечатайте результат на экране (уже в прекоде).\n",
        "\n",
        "\n",
        "\n"
      ]
    },
    {
      "cell_type": "code",
      "execution_count": 2,
      "metadata": {
        "id": "mdxGlSB9igrr"
      },
      "outputs": [
        {
          "name": "stdout",
          "output_type": "stream",
          "text": [
            "Запасы первого магазина: [25 63 80 91 81 55 14 76 33 71] \n",
            "Запасы второго магазина: [82 24 92 48 32 45  4 34 12  1]\n"
          ]
        }
      ],
      "source": [
        "import numpy as np\n",
        "import pandas as pd\n",
        "\n",
        "quantity_1 = [25, 63, 80, 91, 81, 55, 14, 76, 33, 71]\n",
        "models = ['Чехол силиконовый для iPhone 8',\n",
        "          'Чехол кожаный для iPhone 8',\n",
        "          'Чехол силиконовый для iPhone XS',\n",
        "          'Чехол кожаный для iPhone XS',\n",
        "          'Чехол силиконовый для iPhone XS Max',\n",
        "          'Чехол кожаный для iPhone XS Max',\n",
        "          'Чехол силиконовый для iPhone 11',\n",
        "          'Чехол кожаный для iPhone 11',\n",
        "          'Чехол силиконовый для iPhone 11 Pro',\n",
        "          'Чехол кожаный для iPhone 11 Pro',\n",
        "         ]\n",
        "stocks_1 = pd.DataFrame({'Количество' : quantity_1}, index=models)\n",
        "quantity_2 = [82, 24, 92, 48, 32, 45, 4, 34, 12, 1]\n",
        "stocks_2 = pd.DataFrame({'Количество' : quantity_2}, index=models)\n",
        "\n",
        "vector_of_quantity_1 = stocks_1['Количество'].values\n",
        "vector_of_quantity_2 =  stocks_2['Количество'].values\n",
        "print(\"Запасы первого магазина:\", vector_of_quantity_1,\n",
        "      \"\\nЗапасы второго магазина:\",vector_of_quantity_2)"
      ]
    },
    {
      "cell_type": "markdown",
      "metadata": {
        "id": "FNj38Rv7j2Go"
      },
      "source": [
        "2.\n",
        "Вычислите вектор со складским запасом объединённого интернет-магазина «АйДаЧехлоФон».\n",
        "Напечатайте результат на экране (уже в прекоде)."
      ]
    },
    {
      "cell_type": "code",
      "execution_count": 3,
      "metadata": {
        "id": "675KfhTNj0kA"
      },
      "outputs": [
        {
          "name": "stdout",
          "output_type": "stream",
          "text": [
            "[107  87 172 139 113 100  18 110  45  72]\n"
          ]
        }
      ],
      "source": [
        "import numpy as np\n",
        "import pandas as pd\n",
        "\n",
        "quantity_1 = [25, 63, 80, 91, 81, 55, 14, 76, 33, 71]\n",
        "models = ['Чехол силиконовый для iPhone 8',\n",
        "          'Чехол кожаный для iPhone 8',\n",
        "          'Чехол силиконовый для iPhone XS',\n",
        "          'Чехол кожаный для iPhone XS',\n",
        "          'Чехол силиконовый для iPhone XS Max',\n",
        "          'Чехол кожаный для iPhone XS Max',\n",
        "          'Чехол силиконовый для iPhone 11',\n",
        "          'Чехол кожаный для iPhone 11',\n",
        "          'Чехол силиконовый для iPhone 11 Pro',\n",
        "          'Чехол кожаный для iPhone 11 Pro',\n",
        "         ]\n",
        "stocks_1 = pd.DataFrame({'Количество' : quantity_1}, index=models)\n",
        "quantity_2 = [82, 24, 92, 48, 32, 45, 4, 34, 12, 1]\n",
        "stocks_2 = pd.DataFrame({'Количество' : quantity_2}, index=models)\n",
        "\n",
        "vector_of_quantity_1 = stocks_1['Количество'].values\n",
        "vector_of_quantity_2 = stocks_2['Количество'].values\n",
        "\n",
        "vector_of_quantity_united = vector_of_quantity_1 + vector_of_quantity_2\n",
        "print(vector_of_quantity_united)"
      ]
    },
    {
      "cell_type": "markdown",
      "metadata": {
        "id": "leqqgDa3j4S-"
      },
      "source": [
        "3. Постройте  таблицу с ассортиментом объединённого магазина. Напечатайте результат на экране (уже в прекоде)."
      ]
    },
    {
      "cell_type": "code",
      "execution_count": 4,
      "metadata": {
        "id": "LbYRD259j9sw"
      },
      "outputs": [
        {
          "name": "stdout",
          "output_type": "stream",
          "text": [
            "                                     Количество\n",
            "Чехол силиконовый для iPhone 8              107\n",
            "Чехол кожаный для iPhone 8                   87\n",
            "Чехол силиконовый для iPhone XS             172\n",
            "Чехол кожаный для iPhone XS                 139\n",
            "Чехол силиконовый для iPhone XS Max         113\n",
            "Чехол кожаный для iPhone XS Max             100\n",
            "Чехол силиконовый для iPhone 11              18\n",
            "Чехол кожаный для iPhone 11                 110\n",
            "Чехол силиконовый для iPhone 11 Pro          45\n",
            "Чехол кожаный для iPhone 11 Pro              72\n"
          ]
        }
      ],
      "source": [
        "import numpy as np\n",
        "import pandas as pd\n",
        "\n",
        "quantity_1 = [25, 63, 80, 91, 81, 55, 14, 76, 33, 71]\n",
        "models = ['Чехол силиконовый для iPhone 8',\n",
        "          'Чехол кожаный для iPhone 8',\n",
        "          'Чехол силиконовый для iPhone XS',\n",
        "          'Чехол кожаный для iPhone XS',\n",
        "          'Чехол силиконовый для iPhone XS Max',\n",
        "          'Чехол кожаный для iPhone XS Max',\n",
        "          'Чехол силиконовый для iPhone 11',\n",
        "          'Чехол кожаный для iPhone 11',\n",
        "          'Чехол силиконовый для iPhone 11 Pro',\n",
        "          'Чехол кожаный для iPhone 11 Pro',\n",
        "         ]\n",
        "stocks_1 = pd.DataFrame({'Количество' : quantity_1}, index=models)\n",
        "quantity_2 = [82, 24, 92, 48, 32, 45, 4, 34, 12, 1]\n",
        "stocks_2 = pd.DataFrame({'Количество' : quantity_2}, index=models)\n",
        "\n",
        "vector_of_quantity_1 = stocks_1['Количество'].values\n",
        "vector_of_quantity_2 = stocks_2['Количество'].values\n",
        "vector_of_quantity_united = vector_of_quantity_1 + vector_of_quantity_2\n",
        "\n",
        "stocks_united = pd.DataFrame( {'Количество' : vector_of_quantity_united}, \n",
        "                             index=models)\n",
        "print(stocks_united)"
      ]
    },
    {
      "cell_type": "markdown",
      "metadata": {
        "id": "5qX5j1VekRGC"
      },
      "source": [
        "### Умножение вектора на число"
      ]
    },
    {
      "cell_type": "markdown",
      "metadata": {
        "id": "QT-JjDOYkgD6"
      },
      "source": [
        "\n",
        "1.\n",
        "Выберите из таблицы столбец с ценой и преобразуйте его в числовой вектор. Напечатайте результат на экране (уже в прекоде)."
      ]
    },
    {
      "cell_type": "code",
      "execution_count": 5,
      "metadata": {
        "id": "MB--5ovSkX5Y"
      },
      "outputs": [
        {
          "name": "stdout",
          "output_type": "stream",
          "text": [
            "[3000 2100 3200 2200 1800 1700 3800 1200 2300 2900]\n"
          ]
        }
      ],
      "source": [
        "import numpy as np\n",
        "import pandas as pd\n",
        "\n",
        "quantity_1 = [25, 63, 80, 91, 81, 55, 14, 76, 33, 71]\n",
        "models = ['Чехол силиконовый для iPhone 8',\n",
        "          'Чехол кожаный для iPhone 8',\n",
        "          'Чехол силиконовый для iPhone XS',\n",
        "          'Чехол кожаный для iPhone XS',\n",
        "          'Чехол силиконовый для iPhone XS Max',\n",
        "          'Чехол кожаный для iPhone XS Max',\n",
        "          'Чехол силиконовый для iPhone 11',\n",
        "          'Чехол кожаный для iPhone 11',\n",
        "          'Чехол силиконовый для iPhone 11 Pro',\n",
        "          'Чехол кожаный для iPhone 11 Pro',\n",
        "         ]\n",
        "stocks_1 = pd.DataFrame({'Количество' : quantity_1}, index=models)\n",
        "quantity_2 = [82, 24, 92, 48, 32, 45, 4, 34, 12, 1]\n",
        "stocks_2 = pd.DataFrame({'Количество' : quantity_2}, index=models)\n",
        "\n",
        "vector_of_quantity_1 = stocks_1['Количество'].values\n",
        "vector_of_quantity_2 = stocks_2['Количество'].values\n",
        "vector_of_quantity_united = vector_of_quantity_1 + vector_of_quantity_2\n",
        "\n",
        "stocks_united = pd.DataFrame({'Количество' : vector_of_quantity_united}, index=models\n",
        "                            )\n",
        "stocks_united['Цена'] = [3000, 2100, 3200, 2200, 1800, 1700, 3800, 1200, 2300, 2900]\n",
        "\n",
        "price_united = stocks_united['Цена'].values\n",
        "print(price_united)"
      ]
    },
    {
      "cell_type": "markdown",
      "metadata": {
        "id": "qex2j8kUkw5-"
      },
      "source": [
        "\n",
        "2.\n",
        "«АйДаЧехлоФон» объявил о 10%-й скидке на весь объединённый ассортимент. С учётом этой акции вычислите вектор с ценами. Напечатайте результат на экране (уже в прекоде)."
      ]
    },
    {
      "cell_type": "code",
      "execution_count": 6,
      "metadata": {
        "id": "Morizpn2kyAq"
      },
      "outputs": [
        {
          "name": "stdout",
          "output_type": "stream",
          "text": [
            "                                     Количество  Цена  Цена со скидкой 10%\n",
            "Чехол силиконовый для iPhone 8              107  3000                 2700\n",
            "Чехол кожаный для iPhone 8                   87  2100                 1890\n",
            "Чехол силиконовый для iPhone XS             172  3200                 2880\n",
            "Чехол кожаный для iPhone XS                 139  2200                 1980\n",
            "Чехол силиконовый для iPhone XS Max         113  1800                 1620\n",
            "Чехол кожаный для iPhone XS Max             100  1700                 1530\n",
            "Чехол силиконовый для iPhone 11              18  3800                 3420\n",
            "Чехол кожаный для iPhone 11                 110  1200                 1080\n",
            "Чехол силиконовый для iPhone 11 Pro          45  2300                 2070\n",
            "Чехол кожаный для iPhone 11 Pro              72  2900                 2610\n"
          ]
        }
      ],
      "source": [
        "import numpy as np\n",
        "import pandas as pd\n",
        "\n",
        "quantity_1 = [25, 63, 80, 91, 81, 55, 14, 76, 33, 71]\n",
        "models = ['Чехол силиконовый для iPhone 8',\n",
        "          'Чехол кожаный для iPhone 8',\n",
        "          'Чехол силиконовый для iPhone XS',\n",
        "          'Чехол кожаный для iPhone XS',\n",
        "          'Чехол силиконовый для iPhone XS Max',\n",
        "          'Чехол кожаный для iPhone XS Max',\n",
        "          'Чехол силиконовый для iPhone 11',\n",
        "          'Чехол кожаный для iPhone 11',\n",
        "          'Чехол силиконовый для iPhone 11 Pro',\n",
        "          'Чехол кожаный для iPhone 11 Pro',\n",
        "         ]\n",
        "stocks_1 = pd.DataFrame({'Количество' : quantity_1}, index=models)\n",
        "quantity_2 = [82, 24, 92, 48, 32, 45, 4, 34, 12, 1]\n",
        "stocks_2 = pd.DataFrame({'Количество' : quantity_2}, index=models)\n",
        "\n",
        "vector_of_quantity_1 = stocks_1['Количество'].values\n",
        "vector_of_quantity_2 = stocks_2['Количество'].values\n",
        "vector_of_quantity_united = vector_of_quantity_1 + vector_of_quantity_2\n",
        "\n",
        "stocks_united = pd.DataFrame({'Количество' : vector_of_quantity_united}, index=models\n",
        "                            )\n",
        "stocks_united['Цена'] = [3000, 2100, 3200, 2200, 1800, 1700, 3800, 1200, 2300, 2900]\n",
        "\n",
        "price_united = stocks_united['Цена'].values\n",
        "\n",
        "price_discount_10 =  price_united*0.9\n",
        "stocks_united['Цена со скидкой 10%'] = price_discount_10.astype(int)\n",
        "print(stocks_united)"
      ]
    },
    {
      "cell_type": "markdown",
      "metadata": {
        "id": "dFd5AzAglRQ5"
      },
      "source": [
        "3.\n",
        "После месяца скидок «АйДаЧехлоФон» поднял цены на 10%. Создайте прайс-лист с учётом повышения. Напечатайте результат на экране (уже в прекоде)."
      ]
    },
    {
      "cell_type": "code",
      "execution_count": 7,
      "metadata": {
        "id": "o-IgAM7SlUf0"
      },
      "outputs": [
        {
          "name": "stdout",
          "output_type": "stream",
          "text": [
            "                                     Количество  Цена  Цена со скидкой 10%  \\\n",
            "Чехол силиконовый для iPhone 8              107  3000                 2700   \n",
            "Чехол кожаный для iPhone 8                   87  2100                 1890   \n",
            "Чехол силиконовый для iPhone XS             172  3200                 2880   \n",
            "Чехол кожаный для iPhone XS                 139  2200                 1980   \n",
            "Чехол силиконовый для iPhone XS Max         113  1800                 1620   \n",
            "Чехол кожаный для iPhone XS Max             100  1700                 1530   \n",
            "Чехол силиконовый для iPhone 11              18  3800                 3420   \n",
            "Чехол кожаный для iPhone 11                 110  1200                 1080   \n",
            "Чехол силиконовый для iPhone 11 Pro          45  2300                 2070   \n",
            "Чехол кожаный для iPhone 11 Pro              72  2900                 2610   \n",
            "\n",
            "                                     Повышенная на 10% цена  \n",
            "Чехол силиконовый для iPhone 8                         2970  \n",
            "Чехол кожаный для iPhone 8                             2079  \n",
            "Чехол силиконовый для iPhone XS                        3168  \n",
            "Чехол кожаный для iPhone XS                            2178  \n",
            "Чехол силиконовый для iPhone XS Max                    1782  \n",
            "Чехол кожаный для iPhone XS Max                        1683  \n",
            "Чехол силиконовый для iPhone 11                        3762  \n",
            "Чехол кожаный для iPhone 11                            1188  \n",
            "Чехол силиконовый для iPhone 11 Pro                    2277  \n",
            "Чехол кожаный для iPhone 11 Pro                        2871  \n"
          ]
        }
      ],
      "source": [
        "import numpy as np\n",
        "import pandas as pd\n",
        "\n",
        "quantity_1 = [25, 63, 80, 91, 81, 55, 14, 76, 33, 71]\n",
        "models = ['Чехол силиконовый для iPhone 8',\n",
        "          'Чехол кожаный для iPhone 8',\n",
        "          'Чехол силиконовый для iPhone XS',\n",
        "          'Чехол кожаный для iPhone XS',\n",
        "          'Чехол силиконовый для iPhone XS Max',\n",
        "          'Чехол кожаный для iPhone XS Max',\n",
        "          'Чехол силиконовый для iPhone 11',\n",
        "          'Чехол кожаный для iPhone 11',\n",
        "          'Чехол силиконовый для iPhone 11 Pro',\n",
        "          'Чехол кожаный для iPhone 11 Pro',\n",
        "         ]\n",
        "stocks_1 = pd.DataFrame({'Количество' : quantity_1}, index=models)\n",
        "quantity_2 = [82, 24, 92, 48, 32, 45, 4, 34, 12, 1]\n",
        "stocks_2 = pd.DataFrame({'Количество' : quantity_2}, index=models)\n",
        "\n",
        "vector_of_quantity_1 = stocks_1['Количество'].values\n",
        "vector_of_quantity_2 = stocks_2['Количество'].values\n",
        "vector_of_quantity_united = vector_of_quantity_1 + vector_of_quantity_2\n",
        "\n",
        "stocks_united = pd.DataFrame({'Количество' : vector_of_quantity_united}, index=models\n",
        "                            )\n",
        "stocks_united['Цена'] = [3000, 2100, 3200, 2200, 1800, 1700, 3800, 1200, 2300, 2900]\n",
        "\n",
        "price_united = stocks_united['Цена'].values\n",
        "price_discount_10 = price_united * 0.9\n",
        "stocks_united['Цена со скидкой 10%'] = price_discount_10.astype(int)\n",
        "\n",
        "price_no_discount =  price_discount_10.astype(int) *1.1\n",
        "stocks_united['Повышенная на 10% цена'] = price_no_discount.astype(int)\n",
        "print(stocks_united)"
      ]
    },
    {
      "cell_type": "markdown",
      "metadata": {
        "id": "TR0zxlSelmvb"
      },
      "source": [
        "### Среднее значение векторов"
      ]
    },
    {
      "cell_type": "markdown",
      "metadata": {
        "id": "SI5Sg8lcmqmP"
      },
      "source": [
        "\n",
        "1.\n",
        "Вычислите среднее значение оценки удовлетворённости качеством. А функция print(average_quality_rev) напечатает результат на экране."
      ]
    },
    {
      "cell_type": "code",
      "execution_count": 8,
      "metadata": {
        "id": "Jp1WBOf0mtpp"
      },
      "outputs": [
        {
          "name": "stdout",
          "output_type": "stream",
          "text": [
            "48.4\n"
          ]
        }
      ],
      "source": [
        "import numpy as np\n",
        "import pandas as pd\n",
        "\n",
        "reviews_values = [\n",
        "    [68,18], [81,19], [81,22], [15,75], [75,15], [17,72], \n",
        "    [24,75], [21,91], [76, 6], [12,74], [18,83], [20,62], \n",
        "    [21,82], [21,79], [84,15], [73,16], [88,25], [78,23], \n",
        "    [32, 81], [77, 35]]\n",
        "reviews = pd.DataFrame(reviews_values, columns=['Цена', 'Качество'])\n",
        "\n",
        "quality = reviews['Качество'].values  # массив NumPy со всеми оценками качество\n",
        "sum_quality = sum(quality)  # сумма всех оценок качество\n",
        "average_quality_rev= sum_quality/len(quality)  # среднее значение оценки качество\n",
        "print(average_quality_rev)"
      ]
    },
    {
      "cell_type": "markdown",
      "metadata": {
        "id": "WWttFcVunxFn"
      },
      "source": [
        "2.\n",
        "Мы добавили в код расчёт средней цены и сохранили её в переменной average_price_rev.\n",
        "Теперь сохраните в массив average_rev:\n",
        "среднюю оценку цены,\n",
        "среднюю оценку качества.\n",
        "Функция print() выведет массив на экран."
      ]
    },
    {
      "cell_type": "code",
      "execution_count": 9,
      "metadata": {
        "id": "X4rIH0rHn9f7"
      },
      "outputs": [
        {
          "name": "stdout",
          "output_type": "stream",
          "text": [
            "[49.1 48.4]\n"
          ]
        }
      ],
      "source": [
        "import numpy as np\n",
        "import pandas as pd\n",
        "\n",
        "reviews_values = [\n",
        "    [68,18], [81,19], [81,22], [15,75], [75,15], [17,72], \n",
        "    [24,75], [21,91], [76, 6], [12,74], [18,83], [20,62], \n",
        "    [21,82], [21,79], [84,15], [73,16], [88,25], [78,23], \n",
        "    [32, 81], [77, 35]]\n",
        "reviews = pd.DataFrame(reviews_values, columns=['Цена', 'Качество'])\n",
        "\n",
        "price = reviews['Цена'].values\n",
        "sum_prices = sum(price)\n",
        "average_price_rev = sum_prices / len(price)\n",
        "\n",
        "quality = reviews['Качество'].values\n",
        "average_quality_rev = sum(quality) / len(quality)\n",
        "\n",
        "average_rev = np.array([average_price_rev, average_quality_rev])# < напишите код здесь >\n",
        "print(average_rev)"
      ]
    },
    {
      "cell_type": "markdown",
      "metadata": {
        "id": "DaGVBm1soljX"
      },
      "source": [
        "\n",
        "3.\n",
        "Обозначьте на координатной плоскости найденное среднее значение. Можно ли считать получившийся вектор оценками типичного покупателя? Напечатайте результат на экране."
      ]
    },
    {
      "cell_type": "code",
      "execution_count": 10,
      "metadata": {
        "id": "H1SHX3cTotKD"
      },
      "outputs": [
        {
          "data": {
            "image/png": "[encoded data removed]",
            "text/plain": [
              "<Figure size 700x700 with 1 Axes>"
            ]
          },
          "metadata": {},
          "output_type": "display_data"
        }
      ],
      "source": [
        "import numpy as np\n",
        "import pandas as pd\n",
        "import matplotlib.pyplot as plt\n",
        "\n",
        "reviews_values = [\n",
        "    [68,18], [81,19], [81,22], [15,75], [75,15], [17,72], \n",
        "    [24,75], [21,91], [76, 6], [12,74], [18,83], [20,62], \n",
        "    [21,82], [21,79], [84,15], [73,16], [88,25], [78,23], \n",
        "    [32, 81], [77, 35]]\n",
        "reviews = pd.DataFrame(reviews_values, columns=['Цена', 'Качество'])\n",
        "\n",
        "price = reviews['Цена'].values\n",
        "sum_prices = sum(price)\n",
        "average_price_rev = sum_prices / len(price)\n",
        "\n",
        "quality = reviews['Качество'].values\n",
        "average_quality_rev = sum(quality) / len(quality)\n",
        "average_rev = np.array([average_price_rev, average_quality_rev])\n",
        "\n",
        "plt.figure(figsize=(7, 7))\n",
        "plt.axis([0, 100, 0, 100])\n",
        "plt.plot(average_rev[0],average_rev[1], 'mo', markersize=15)\n",
        "plt.plot(price, quality, 'ro')\n",
        "plt.xlabel('Цена')\n",
        "plt.ylabel('Качество')\n",
        "plt.grid(True)\n",
        "plt.title(\"Распределение оценок и среднее значение по всей выборке\")\n",
        "plt.show()"
      ]
    },
    {
      "cell_type": "markdown",
      "metadata": {
        "id": "lKQkpWv9o03-"
      },
      "source": [
        "4.\n",
        "Вычислите средние оценки отдельно для клиентов, которые пришли с первого сайта-агрегатора (масс-маркет) и со второго (люкс). Результат должен появиться на экране."
      ]
    },
    {
      "cell_type": "code",
      "execution_count": 11,
      "metadata": {
        "id": "fyzC7TBdpUvx"
      },
      "outputs": [
        {
          "name": "stdout",
          "output_type": "stream",
          "text": [
            "Средняя оценка пришедших с первого агрегатора:  [78.1 19.4]\n",
            "Средняя оценка пришедших со второго агрегатора:  [20.1 77.4]\n"
          ]
        }
      ],
      "source": [
        "import numpy as np\n",
        "import pandas as pd\n",
        "\n",
        "reviews_values = [\n",
        "    [68,18], [81,19], [81,22], [15,75], [75,15], [17,72], \n",
        "    [24,75], [21,91], [76, 6], [12,74], [18,83], [20,62], \n",
        "    [21,82], [21,79], [84,15], [73,16], [88,25], [78,23], \n",
        "    [32, 81], [77, 35]]\n",
        "reviews = pd.DataFrame(reviews_values, columns=['Цена', 'Качество'])\n",
        "\n",
        "clients_1 = []\n",
        "clients_2 = []\n",
        "for client in list(reviews.values):\n",
        "    if client[0] < 40 and client[1] > 60:\n",
        "        clients_2.append(client)\n",
        "    else:\n",
        "        clients_1.append(client)\n",
        "\n",
        "average_client_1 = sum(clients_1) / len(clients_1)\n",
        "print('Средняя оценка пришедших с первого агрегатора: ', average_client_1)\n",
        "\n",
        "average_client_2 = sum(clients_2) / len(clients_2)\n",
        "print('Средняя оценка пришедших со второго агрегатора: ', average_client_2)"
      ]
    },
    {
      "cell_type": "markdown",
      "metadata": {
        "id": "SB7DaWitpjvW"
      },
      "source": [
        "\n",
        "5.\n",
        "Изобразите найденные значения средних на диаграмме с оценками отдельных клиентов. Можно ли считать каждое найденное среднее оценкой типичного клиента этой группы? Выведите результат на экран."
      ]
    },
    {
      "cell_type": "code",
      "execution_count": 12,
      "metadata": {
        "id": "J4vz9s0nprbQ"
      },
      "outputs": [
        {
          "data": {
            "image/png": "[encoded data removed]",
            "text/plain": [
              "<Figure size 700x700 with 1 Axes>"
            ]
          },
          "metadata": {},
          "output_type": "display_data"
        }
      ],
      "source": [
        "import numpy as np\n",
        "import pandas as pd\n",
        "import matplotlib.pyplot as plt\n",
        "\n",
        "reviews_values = [\n",
        "    [68,18], [81,19], [81,22], [15,75], [75,15], [17,72], \n",
        "    [24,75], [21,91], [76, 6], [12,74], [18,83], [20,62], \n",
        "    [21,82], [21,79], [84,15], [73,16], [88,25], [78,23], \n",
        "    [32, 81], [77, 35]]\n",
        "reviews = pd.DataFrame(reviews_values, columns=['Цена', 'Качество'])\n",
        "price = reviews['Цена'].values\n",
        "quality = reviews['Качество'].values\n",
        "\n",
        "clients_1 = []\n",
        "clients_2 = []\n",
        "for client in list(reviews.values):\n",
        "    if client[0] < 40 and client[1] > 60:\n",
        "        clients_2.append(client)\n",
        "    else:\n",
        "        clients_1.append(client)\n",
        "\n",
        "average_client_1 = sum(clients_1)/len(clients_1)\n",
        "\n",
        "average_client_2 = sum(clients_2)/len(clients_2)\n",
        "\n",
        "plt.figure(figsize=(7, 7))\n",
        "plt.axis([0, 100, 0, 100])\n",
        "\n",
        "plt.plot(average_client_1[0],average_client_1[1], 'b')# изображаем среднее для группы 1\n",
        "# 'b' — синий цвет (англ. blue)\n",
        "plt.plot(average_client_1[0], average_client_1[1], \n",
        "         'bo', markersize=15)\n",
        "\n",
        "plt.plot(average_client_2[0],average_client_2[1], 'g')# изображаем среднее для группы 2\n",
        "# 'g' — зелёный цвет (англ. green)\n",
        "plt.plot(average_client_2[0], average_client_2[1],\n",
        "         'go', markersize=15)\n",
        "plt.plot(price, quality, 'ro')\n",
        "plt.xlabel('Цена')\n",
        "plt.ylabel('Качество')\n",
        "plt.grid(True)\n",
        "plt.title(\"Распределение оценок и среднее значение для каждой группы\")\n",
        "plt.show()"
      ]
    },
    {
      "cell_type": "markdown",
      "metadata": {
        "id": "5ZNITke1qRoh"
      },
      "source": [
        "### Векторизованные функции"
      ]
    },
    {
      "cell_type": "markdown",
      "metadata": {
        "id": "T1bkV5rrr3oT"
      },
      "source": [
        "Напишите функцию logistic_transform(), выполняющую логистическое преобразование. Примените её ко всем элементам массива. Напечатайте результат на экране (уже в прекоде)."
      ]
    },
    {
      "cell_type": "code",
      "execution_count": 13,
      "metadata": {
        "id": "5mbbk065sgr-"
      },
      "outputs": [
        {
          "name": "stdout",
          "output_type": "stream",
          "text": [
            "[2.06115362e-09 5.00000000e-01 6.22459331e-01 1.00000000e+00\n",
            " 2.68941421e-01]\n"
          ]
        }
      ],
      "source": [
        "import numpy as np\n",
        "\n",
        "def logistic_transform(values):\n",
        "    return 1/(1+np.exp(-1*(values)))\n",
        "\n",
        "our_values = np.array([-20, 0, 0.5, 80, -1])\n",
        "print(logistic_transform(our_values))"
      ]
    },
    {
      "cell_type": "markdown",
      "metadata": {
        "id": "TvnaOEhSswaK"
      },
      "source": [
        "### Векторизация метрик\n"
      ]
    },
    {
      "cell_type": "markdown",
      "metadata": {
        "id": "p6ioZcYfuC95"
      },
      "source": [
        "Например, средний квадрат отклонения (MSE) вычисляется по формуле:\n",
        "![Image (1).png](data:image/png;base64,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)"
      ]
    },
    {
      "cell_type": "code",
      "execution_count": 14,
      "metadata": {
        "id": "rIVS0fm3uIxx"
      },
      "outputs": [
        {
          "name": "stdout",
          "output_type": "stream",
          "text": [
            "0.0049999999999999975\n"
          ]
        }
      ],
      "source": [
        "import numpy as np\n",
        "def mse2(target, predictions):\n",
        "    return((target - predictions)**2).mean() \n",
        "\n",
        "target = np.array([0.9, 1.2, 1.4, 1.5, 1.9, 2.0])\n",
        "predictions = np.array([1.0, 1.2, 1.4, 1.6, 1.8, 2.0])\n",
        "print(mse2(target, predictions))"
      ]
    },
    {
      "cell_type": "markdown",
      "metadata": {
        "id": "JysMKEIDtV2r"
      },
      "source": [
        "\n",
        "1.\n",
        "Напишите функцию для вычисления MAE с применением метода mean(). Посчитайте MAE и напечатайте результат на экране (уже в прекоде).\n",
        "![Image (2).png](data:image/png;base64,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)"
      ]
    },
    {
      "cell_type": "code",
      "execution_count": 15,
      "metadata": {
        "id": "EZuMZCNstamg"
      },
      "outputs": [
        {
          "name": "stdout",
          "output_type": "stream",
          "text": [
            "0.04999999999999999\n"
          ]
        }
      ],
      "source": [
        "import numpy as np\n",
        "\n",
        "def mae(target, predictions):\n",
        "    return(abs(target - predictions)).mean() \n",
        "target = np.array([0.9, 1.2, 1.4, 1.5, 1.9, 2.0])\n",
        "predictions = np.array([1.0, 1.2, 1.4, 1.6, 1.8, 2.0])\n",
        "print(mae(target, predictions))"
      ]
    },
    {
      "cell_type": "markdown",
      "metadata": {
        "id": "yDggDLw3uWQu"
      },
      "source": [
        "2.Рассчитайте RMSE по этой формуле:![Image.png](data:image/png;base64,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)"
      ]
    },
    {
      "cell_type": "code",
      "execution_count": 16,
      "metadata": {
        "id": "Mg5FH2GnutP2"
      },
      "outputs": [
        {
          "name": "stdout",
          "output_type": "stream",
          "text": [
            "0.07071067811865474\n"
          ]
        }
      ],
      "source": [
        "import numpy as np\n",
        "def mse2(target, predictions):\n",
        "    return((target - predictions)**2).mean() \n",
        "def rmse(target, predictions):\n",
        "    return mse2(target, predictions)**0.5# < напишите код здесь >\n",
        "\n",
        "target = np.array([0.9, 1.2, 1.4, 1.5, 1.9, 2.0])\n",
        "predictions = np.array([1.0, 1.2, 1.4, 1.6, 1.8, 2.0])\n",
        "print(rmse(target, predictions))"
      ]
    },
    {
      "cell_type": "markdown",
      "metadata": {
        "id": "uaV5SwHhzQad"
      },
      "source": [
        "## Растояние между векторами"
      ]
    },
    {
      "cell_type": "markdown",
      "metadata": {
        "id": "14pwKrr7zXRr"
      },
      "source": [
        "### Скалярное произведение"
      ]
    },
    {
      "cell_type": "markdown",
      "metadata": {
        "id": "ptAt_QfHzss9"
      },
      "source": [
        "![Image (3).png](data:image/png;base64,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)"
      ]
    },
    {
      "cell_type": "code",
      "execution_count": 17,
      "metadata": {
        "id": "bEJhQ3Xxzz61"
      },
      "outputs": [
        {
          "name": "stdout",
          "output_type": "stream",
          "text": [
            "0.05000000000000001\n"
          ]
        }
      ],
      "source": [
        "import numpy as np\n",
        "\n",
        "volume = np.array([0.1, 0.3, 0.1])\n",
        "content = np.array([0.4, 0.0, 0.1])\n",
        "\n",
        "print(np.dot(volume, content)) "
      ]
    },
    {
      "cell_type": "code",
      "execution_count": 18,
      "metadata": {
        "id": "9S1kACNbz6VC"
      },
      "outputs": [
        {
          "name": "stdout",
          "output_type": "stream",
          "text": [
            "0.05000000000000001\n"
          ]
        }
      ],
      "source": [
        "import numpy as np\n",
        "\n",
        "volume = np.array([0.1, 0.3, 0.1])\n",
        "content = np.array([0.4, 0.0, 0.1])\n",
        "\n",
        "print(volume @ content) "
      ]
    },
    {
      "cell_type": "markdown",
      "metadata": {
        "id": "Dm6Bur490D0M"
      },
      "source": [
        "Другая операция — поэлементное умножение оператором. Его результатом, в отличие от скалярного произведения, будет вектор: "
      ]
    },
    {
      "cell_type": "code",
      "execution_count": 19,
      "metadata": {
        "id": "UWW8x7HZz9NL"
      },
      "outputs": [
        {
          "name": "stdout",
          "output_type": "stream",
          "text": [
            "[0.04 0.   0.01]\n"
          ]
        }
      ],
      "source": [
        "import numpy as np\n",
        "\n",
        "volume = np.array([0.1, 0.3, 0.1])\n",
        "content = np.array([0.4, 0.0, 0.1])\n",
        "\n",
        "print(volume * content) "
      ]
    },
    {
      "cell_type": "markdown",
      "metadata": {
        "id": "oG8f-a0n0Q-d"
      },
      "source": [
        "Найдите стоимость всех товаров в первом и втором магазинах сети «Я вас услышал». Сохраните их в переменных stocks1_cost (англ. «стоимость запасов на складе») и stocks2_cost. \n",
        "Найдите суммарную стоимость товаров двух магазинов сети и сохраните её в переменной total_cost (англ. «общая стоимость»). Напечатайте результат на экране (уже в прекоде)."
      ]
    },
    {
      "cell_type": "code",
      "execution_count": 20,
      "metadata": {
        "id": "sLe9Ze3k0C2B"
      },
      "outputs": [
        {
          "name": "stdout",
          "output_type": "stream",
          "text": [
            "Общая стоимость всех товаров в сети: 1950276 руб.\n"
          ]
        }
      ],
      "source": [
        "import numpy as np\n",
        "import pandas as pd\n",
        "\n",
        "shop1_price = [20990, 11990 , 5390, 3190, 1990, 10990, 5999, 2290, 8111 , 3290]\n",
        "shop1_quantity = [19, 11, 8, 15, 23, 7, 14, 9, 10, 4]\n",
        "\n",
        "shop2_price = [20990, 12490, 4290, 2790, 2390, 10990, 4990, 2490, 8990, 3290]\n",
        "shop2_quantity = [10, 16, 20, 9, 18, 12, 10, 11, 18, 22]\n",
        "\n",
        "models = ['Apple AirPods Pro',\n",
        "          'Apple AirPods MV7N2RU/A',\n",
        "          'JBL Tune 120TWS', \n",
        "          'JBL TUNE 500BT',\n",
        "          'JBL JR300BT', \n",
        "          'Huawei Freebuds 3',\n",
        "          'Philips TWS SHB2505',\n",
        "          'Sony WH-CH500',\n",
        "          'Sony WF-SP700N',\n",
        "          'Sony WI-XB400',\n",
        "         ]\n",
        "stocks1 = pd.DataFrame({'Цена':shop1_price, \n",
        "                        'Количество':shop1_quantity}, index=models)\n",
        "stocks2 = pd.DataFrame({'Цена':shop2_price, \n",
        "                        'Количество':shop2_quantity}, index=models)\n",
        "\n",
        "stocks1_price = stocks1['Цена'].values \n",
        "stocks1_quantity = stocks1['Количество'].values \n",
        "\n",
        "stocks2_price = stocks2['Цена'].values \n",
        "stocks2_quantity = stocks2['Количество'].values \n",
        "\n",
        "# общая стоимость товаров в магазине 1\n",
        "stocks1_cost = np.dot(stocks1_price, stocks1_quantity)\n",
        "\n",
        "# общая стоимость товаров в магазине 2\n",
        "stocks2_cost = np.dot(stocks2_price, stocks2_quantity)\n",
        "\n",
        "total_cost = stocks1_cost + stocks2_cost\n",
        "\n",
        "print('Общая стоимость всех товаров в сети:', total_cost, 'руб.')"
      ]
    },
    {
      "cell_type": "markdown",
      "metadata": {
        "id": "KucN5cN50s30"
      },
      "source": [
        "### Расстояние на плоскости"
      ]
    },
    {
      "cell_type": "markdown",
      "metadata": {
        "id": "X_lWB2li09Ut"
      },
      "source": [
        "![Image (4).png](data:image/png;base64,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)"
      ]
    },
    {
      "cell_type": "code",
      "execution_count": 21,
      "metadata": {
        "id": "tGhmx4FQ1KGa"
      },
      "outputs": [
        {
          "name": "stdout",
          "output_type": "stream",
          "text": [
            "Расстояние между векторами a и b равно 5.0\n"
          ]
        }
      ],
      "source": [
        "import numpy as np\n",
        "\n",
        "a = np.array([5, 6])\n",
        "b = np.array([1, 3])\n",
        "d = np.dot(a-b, a-b)**0.5\n",
        "print('Расстояние между векторами a и b равно', d) "
      ]
    },
    {
      "cell_type": "code",
      "execution_count": 22,
      "metadata": {
        "id": "NSGfFlCg1WfK"
      },
      "outputs": [
        {
          "name": "stdout",
          "output_type": "stream",
          "text": [
            "Расстояние между точками a и b равно 5.0\n"
          ]
        }
      ],
      "source": [
        "import numpy as np\n",
        "from scipy.spatial import distance\n",
        "\n",
        "a = np.array([5, 6])\n",
        "b = np.array([1, 3])\n",
        "d = distance.euclidean(a, b)\n",
        "print('Расстояние между точками a и b равно', d) "
      ]
    },
    {
      "cell_type": "markdown",
      "metadata": {
        "id": "77zhzLt_URvQ"
      },
      "source": [
        "1.\n",
        "Постройте таблицу расстояний между населёнными пунктами и сохраните её в переменной distances. Представьте данные как список списков. Каждая строка — это расстояние от одного населённого пункта до остальных.\n",
        "Добавьте в таблицу distances названия всех сёл и деревень. Обратите внимание, что здесь колонки называются не по правилам Python — кириллицей и с заглавной буквы. Названия деревень на латинице выглядят нечитабельно, а код должен понимать не только автор, но и другие разработчики. Функция print() выведет результат на экран."
      ]
    },
    {
      "cell_type": "code",
      "execution_count": 23,
      "metadata": {
        "id": "EdhVC6UX1eo-"
      },
      "outputs": [
        {
          "name": "stdout",
          "output_type": "stream",
          "text": [
            "                  Тетерье    Журавец    Корсунь  Берёзовка  Протасово  \\\n",
            "Тетерье          0.000000   7.032826  13.003049  17.097151   6.962431   \n",
            "Журавец          7.032826   0.000000   9.367403  18.253103   4.897694   \n",
            "Корсунь         13.003049   9.367403   0.000000  11.807753   6.066670   \n",
            "Берёзовка       17.097151  18.253103  11.807753   0.000000  13.355848   \n",
            "Протасово        6.962431   4.897694   6.066670  13.355848   0.000000   \n",
            "Трудки          11.575822  13.331114   9.229704   5.521333   8.518887   \n",
            "Нижний Туровец  11.782578  11.752414   6.118404   6.560071   6.876194   \n",
            "Вышний Туровец  15.587520  14.548226   6.466869   5.750786   9.938258   \n",
            "\n",
            "                   Трудки  Нижний Туровец  Вышний Туровец  \n",
            "Тетерье         11.575822       11.782578       15.587520  \n",
            "Журавец         13.331114       11.752414       14.548226  \n",
            "Корсунь          9.229704        6.118404        6.466869  \n",
            "Берёзовка        5.521333        6.560071        5.750786  \n",
            "Протасово        8.518887        6.876194        9.938258  \n",
            "Трудки           0.000000        3.176805        6.082853  \n",
            "Нижний Туровец   3.176805        0.000000        3.920660  \n",
            "Вышний Туровец   6.082853        3.920660        0.000000  \n"
          ]
        }
      ],
      "source": [
        "import numpy as np\n",
        "import pandas as pd\n",
        "from scipy.spatial import distance\n",
        "\n",
        "\n",
        "x_axis = np.array([0.0, 0.18078584, 9.32526599, 17.09628721,\n",
        "                      4.69820241, 11.57529305, 11.31769349, 14.63378951])\n",
        "\n",
        "y_axis  = np.array([0.0, 7.03050245, 9.06193657, 0.1718145,\n",
        "                      5.1383203, 0.11069032, 3.27703365, 5.36870287])\n",
        "\n",
        "shipments = np.array([5, 7, 4, 3, 5, 2, 1, 1])\n",
        "\n",
        "village = ['Тетерье',  \n",
        "           'Журавец', \n",
        "           'Корсунь', \n",
        "           'Берёзовка', \n",
        "           'Протасово',  \n",
        "           'Трудки',  \n",
        "           'Нижний Туровец',  \n",
        "           'Вышний Туровец']\n",
        "\n",
        "data = pd.DataFrame({'x_coordinates_km': x_axis,\n",
        "                     'y_coordinates_km': y_axis, \n",
        "                     'deliveries': shipments}, index=village)\n",
        "\n",
        "vectors = data[['x_coordinates_km', 'y_coordinates_km']].values\n",
        "\n",
        "distances = []\n",
        "import numpy as np\n",
        "import pandas as pd\n",
        "from scipy.spatial import distance\n",
        "\n",
        "\n",
        "x_axis = np.array([0.0, 0.18078584, 9.32526599, 17.09628721,\n",
        "                      4.69820241, 11.57529305, 11.31769349, 14.63378951])\n",
        "\n",
        "y_axis  = np.array([0.0, 7.03050245, 9.06193657, 0.1718145,\n",
        "                      5.1383203, 0.11069032, 3.27703365, 5.36870287])\n",
        "\n",
        "shipments = np.array([5, 7, 4, 3, 5, 2, 1, 1])\n",
        "\n",
        "village = ['Тетерье',  \n",
        "           'Журавец', \n",
        "           'Корсунь', \n",
        "           'Берёзовка', \n",
        "           'Протасово',  \n",
        "           'Трудки',  \n",
        "           'Нижний Туровец',  \n",
        "           'Вышний Туровец']\n",
        "\n",
        "data = pd.DataFrame({'x_coordinates_km': x_axis,\n",
        "                     'y_coordinates_km': y_axis, \n",
        "                     'deliveries': shipments}, index=village)\n",
        "\n",
        "vectors = data[['x_coordinates_km', 'y_coordinates_km']].values\n",
        "\n",
        "distances = []\n",
        "for village_from in range(len(village)):\n",
        "    row = []\n",
        "    for village_to in range(len(village)):\n",
        "        value = distance.euclidean(vectors[village_from], vectors[village_to])\n",
        "        row.append(value)\n",
        "    distances.append(row) # < напишите код здесь >\n",
        "    \n",
        "distances_df = pd.DataFrame(distances, index=village, columns=village)\n",
        "print(distances_df)# < напишите код здесь >\n",
        "    \n"
      ]
    },
    {
      "cell_type": "markdown",
      "metadata": {
        "id": "21h9RWlZQYQh"
      },
      "source": [
        "\n",
        "2.\n",
        "Вы знаете, сколько заказов за неделю доставляют в каждую точку. Выберите оптимальный для склада компании «Дрон Горыныч» населённый пункт. Для этого найдите расстояние между пунктами, удвойте его (полёты туда и обратно) и умножьте на еженедельное количество доставок. Сохраните результат в списке shipping_in_week. \n",
        "Выберите населенный пункт с наименьшей суммарной дистанцией до соседей. Выведите результат на экран."
      ]
    },
    {
      "cell_type": "code",
      "execution_count": 24,
      "metadata": {
        "id": "ujxTN23pUYwc"
      },
      "outputs": [
        {
          "name": "stdout",
          "output_type": "stream",
          "text": [
            "                  distance\n",
            "Тетерье         475.734656\n",
            "Журавец         409.688787\n",
            "Корсунь         454.776713\n",
            "Берёзовка       701.242510\n",
            "Протасово       334.564924\n",
            "Трудки          513.067627\n",
            "Нижний Туровец  459.977717\n",
            "Вышний Туровец  577.345345\n",
            "\n",
            "Населённый пункт для склада: Протасово\n"
          ]
        }
      ],
      "source": [
        "import numpy as np\n",
        "import pandas as pd\n",
        "from scipy.spatial import distance\n",
        "\n",
        "x_axis = np.array([0.0, 7.03050245, 9.06193657, 0.1718145,\n",
        "                      5.1383203, 0.11069032, 3.27703365, 5.36870287])\n",
        "y_axis = np.array([0., 0.18078584, 9.32526599, 17.09628721,\n",
        "                      4.69820241, 11.57529305, 11.31769349, 14.63378951])\n",
        "shipments = np.array([5, 7, 4, 3, 5, 2, 1, 1])\n",
        "\n",
        "village = ['Тетерье',  \n",
        "           'Журавец', \n",
        "           'Корсунь', \n",
        "           'Берёзовка', \n",
        "           'Протасово',  \n",
        "           'Трудки',  \n",
        "           'Нижний Туровец',  \n",
        "           'Вышний Туровец']\n",
        "\n",
        "data = pd.DataFrame({'x_coordinates_km': x_axis,\n",
        "                     'y_coordinates_km': y_axis, \n",
        "                     'deliveries': shipments}, index=village)\n",
        "\n",
        "vectors = data[['x_coordinates_km', 'y_coordinates_km']].values\n",
        "\n",
        "distances = []\n",
        "for village_from in range(len(village)):\n",
        "    row = []\n",
        "    for village_to in range(len(village)):\n",
        "        value = distance.euclidean(vectors[village_from], vectors[village_to])\n",
        "        row.append(value)\n",
        "    distances.append(row)\n",
        "\n",
        "shipping_in_week = []\n",
        "shipping_in_week = [2 * np.dot(np.array(distances[i]), shipments) \n",
        "                    for i in range(len(village))]\n",
        "shipping_in_week_df = pd.DataFrame({'distance': shipping_in_week}, index=village)\n",
        "\n",
        "min_index = shipping_in_week_df['distance'].idxmin()\n",
        "shipping_in_week_df = pd.DataFrame({'distance': shipping_in_week}, index=village)\n",
        "\n",
        "\n",
        "\n",
        "\n",
        "print(shipping_in_week_df)\n",
        "\n",
        "print()\n",
        "print('Населённый пункт для склада:', min_index)"
      ]
    },
    {
      "cell_type": "markdown",
      "metadata": {
        "id": "EecKp_v0U3z4"
      },
      "source": [
        "### Манхэттенское расстояние"
      ]
    },
    {
      "cell_type": "markdown",
      "metadata": {
        "id": "EtCZWy9YXSmq"
      },
      "source": [
        "![Image (5).png](data:image/png;base64,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)"
      ]
    },
    {
      "cell_type": "markdown",
      "metadata": {
        "id": "x56TVE76Z72p"
      },
      "source": [
        "1.\n",
        "Напишите функцию для вычисления манхэттенского расстояния — manhattan_distance(). На вход она принимает два вектора, а возвращает расстояние. Решите задачу, создав векторизованную функцию. К циклам обращаться нельзя."
      ]
    },
    {
      "cell_type": "code",
      "execution_count": 25,
      "metadata": {
        "id": "4g-zZFjiXf9V"
      },
      "outputs": [
        {
          "name": "stdout",
          "output_type": "stream",
          "text": [
            "7\n"
          ]
        }
      ],
      "source": [
        "import numpy as np\n",
        "\n",
        "def manhattan_distance(first, second):\n",
        "    d = np.sum(np.abs(first - second))\n",
        "    return d\n",
        "\n",
        "first = np.array([3, 11])\n",
        "second = np.array([1, 6])\n",
        "\n",
        "print(manhattan_distance(first, second))"
      ]
    },
    {
      "cell_type": "markdown",
      "metadata": {
        "id": "fsVaMeOCYFk5"
      },
      "source": [
        "2.Из трёх свободных такси найдите ближайшее в нужном районе Манхэттена.   \n",
        "Заданы такие переменные:  \n",
        "avenues_df, в которой сохранён список авеню и их координат;  \n",
        "streets_df — список улиц и координат;  \n",
        "address — перекрёсток, на котором клиент вызывает такси;  \n",
        "taxies — места парковки такси.  \n",
        "Найдите список расстояний всех машин до нужного адреса и сохраните результат в переменной taxies_distances. Самостоятельно найдите в документации нужную функцию в библиотеке SciPy и импортируйте её.  \n",
        "Определите порядковый номер ближайшего такси. Напечатайте на экране название перекрёстка, где оно стоит (уже в прекоде).  "
      ]
    },
    {
      "cell_type": "code",
      "execution_count": 26,
      "metadata": {
        "id": "wxDm0tCiaF2w"
      },
      "outputs": [
        {
          "ename": "ValueError",
          "evalue": "Input vector should be 1-D.",
          "output_type": "error",
          "traceback": [
            "\u001b[0;31m---------------------------------------------------------------------------\u001b[0m",
            "\u001b[0;31mValueError\u001b[0m                                Traceback (most recent call last)",
            "Cell \u001b[0;32mIn[26], line 19\u001b[0m\n\u001b[1;32m     17\u001b[0m \u001b[39mfor\u001b[39;00m taxi \u001b[39min\u001b[39;00m taxies:\n\u001b[1;32m     18\u001b[0m     taxi_vector \u001b[39m=\u001b[39m np\u001b[39m.\u001b[39marray([avenues_df\u001b[39m.\u001b[39mloc[taxi[\u001b[39m0\u001b[39m]], streets_df\u001b[39m.\u001b[39mloc[taxi[\u001b[39m1\u001b[39m]]])\n\u001b[0;32m---> 19\u001b[0m     taxi_distance \u001b[39m=\u001b[39m distance\u001b[39m.\u001b[39;49mcityblock(address_vector, taxi_vector)\n\u001b[1;32m     20\u001b[0m     taxi_distances\u001b[39m.\u001b[39mappend(taxi_distance)\n\u001b[1;32m     22\u001b[0m index \u001b[39m=\u001b[39m np\u001b[39m.\u001b[39margmin(taxi_distances)\n",
            "File \u001b[0;32m~/.local/lib/python3.10/site-packages/scipy/spatial/distance.py:1009\u001b[0m, in \u001b[0;36mcityblock\u001b[0;34m(u, v, w)\u001b[0m\n\u001b[1;32m    972\u001b[0m \u001b[39mdef\u001b[39;00m \u001b[39mcityblock\u001b[39m(u, v, w\u001b[39m=\u001b[39m\u001b[39mNone\u001b[39;00m):\n\u001b[1;32m    973\u001b[0m     \u001b[39m\"\"\"\u001b[39;00m\n\u001b[1;32m    974\u001b[0m \u001b[39m    Compute the City Block (Manhattan) distance.\u001b[39;00m\n\u001b[1;32m    975\u001b[0m \n\u001b[0;32m   (...)\u001b[0m\n\u001b[1;32m   1007\u001b[0m \n\u001b[1;32m   1008\u001b[0m \u001b[39m    \"\"\"\u001b[39;00m\n\u001b[0;32m-> 1009\u001b[0m     u \u001b[39m=\u001b[39m _validate_vector(u)\n\u001b[1;32m   1010\u001b[0m     v \u001b[39m=\u001b[39m _validate_vector(v)\n\u001b[1;32m   1011\u001b[0m     l1_diff \u001b[39m=\u001b[39m \u001b[39mabs\u001b[39m(u \u001b[39m-\u001b[39m v)\n",
            "File \u001b[0;32m~/.local/lib/python3.10/site-packages/scipy/spatial/distance.py:301\u001b[0m, in \u001b[0;36m_validate_vector\u001b[0;34m(u, dtype)\u001b[0m\n\u001b[1;32m    299\u001b[0m \u001b[39mif\u001b[39;00m u\u001b[39m.\u001b[39mndim \u001b[39m==\u001b[39m \u001b[39m1\u001b[39m:\n\u001b[1;32m    300\u001b[0m     \u001b[39mreturn\u001b[39;00m u\n\u001b[0;32m--> 301\u001b[0m \u001b[39mraise\u001b[39;00m \u001b[39mValueError\u001b[39;00m(\u001b[39m\"\u001b[39m\u001b[39mInput vector should be 1-D.\u001b[39m\u001b[39m\"\u001b[39m)\n",
            "\u001b[0;31mValueError\u001b[0m: Input vector should be 1-D."
          ]
        }
      ],
      "source": [
        "import numpy as np\n",
        "import pandas as pd\n",
        "from scipy.spatial import distance\n",
        "\n",
        "avenues_df = pd.DataFrame([0, 153, 307, 524], index=['Park', 'Lexington', '3rd', '2nd'])\n",
        "streets_df = pd.DataFrame([0, 81, 159, 240, 324], index=['76', '75', '74', '73', '72'])\n",
        "\n",
        "address = ['Lexington', '74']\n",
        "taxies = [\n",
        "    ['Park', '72'],\n",
        "    ['2nd', '75'],\n",
        "    ['3rd', '76'],\n",
        "]\n",
        "\n",
        "address_vector = np.array([avenues_df.loc[address[0]], streets_df.loc[address[1]]])\n",
        "taxi_distances = []\n",
        "for taxi in taxies:\n",
        "    taxi_vector = np.array([avenues_df.loc[taxi[0]], streets_df.loc[taxi[1]]])\n",
        "    taxi_distance = distance.cityblock(address_vector, taxi_vector)\n",
        "    taxi_distances.append(taxi_distance)\n",
        "\n",
        "index = np.argmin(taxi_distances)\n",
        "\n",
        "print(taxies[index])"
      ]
    },
    {
      "cell_type": "markdown",
      "metadata": {
        "id": "3DZNaNgcbUNU"
      },
      "source": [
        "### Расстояния в многомерном пространстве"
      ]
    },
    {
      "cell_type": "markdown",
      "metadata": {
        "id": "wdg36yMnblDc"
      },
      "source": [
        "\n",
        "1.\n",
        "Сохраните векторы квартир с индексами 3 и 11 в переменных vector_first («первый вектор») и vector_second («второй вектор»). Вычислите между ними евклидово и манхэттенское расстояния. Напечатайте их значения на экране (уже в прекоде)."
      ]
    },
    {
      "cell_type": "code",
      "execution_count": null,
      "metadata": {
        "id": "4ZwoDfC2b67i"
      },
      "outputs": [],
      "source": [
        "import pandas as pd\n",
        "from scipy.spatial import distance\n",
        "\n",
        "columns = ['комнаты', 'пл. общая', 'кухня', 'пл. жилая', 'этаж', 'всего этажей']\n",
        "realty = [\n",
        "    [1, 38.5, 6.9, 18.9, 3, 5],\n",
        "    [1, 38.0, 8.5, 19.2, 9, 17],\n",
        "    [1, 34.7, 10.3, 19.8, 1, 9],\n",
        "    [1, 45.9, 11.1, 17.5, 11, 23],\n",
        "    [1, 42.4, 10.0, 19.9, 6, 14],\n",
        "    [1, 46.0, 10.2, 20.5, 3, 12],\n",
        "    [2, 77.7, 13.2, 39.3, 3, 17],\n",
        "    [2, 69.8, 11.1, 31.4, 12, 23],\n",
        "    [2, 78.2, 19.4, 33.2, 4, 9],\n",
        "    [2, 55.5, 7.8, 29.6, 1, 25],\n",
        "    [2, 74.3, 16.0, 34.2, 14, 17],\n",
        "    [2, 78.3, 12.3, 42.6, 23, 23],\n",
        "    [2, 74.0, 18.1, 49.0, 8, 9],\n",
        "    [2, 91.4, 20.1, 60.4, 2, 10],\n",
        "    [3, 85.0, 17.8, 56.1, 14, 14],\n",
        "    [3, 79.8, 9.8, 44.8, 9, 10],\n",
        "    [3, 72.0, 10.2, 37.3, 7, 9],\n",
        "    [3, 95.3, 11.0, 51.5, 15, 23],\n",
        "    [3, 69.3, 8.5, 39.3, 4, 9],\n",
        "    [3, 89.8, 11.2, 58.2, 24, 25],\n",
        "]\n",
        "\n",
        "df_realty = pd.DataFrame(realty, columns=columns)\n",
        "\n",
        "vector_first = df_realty.loc[3].values # < напишите код здесь >\n",
        "vector_second = df_realty.loc[11].values # < напишите код здесь >\n",
        "\n",
        "print(\"Евклидово расстояние:\", distance.euclidean(vector_first, vector_second))\n",
        "print(\"Манхэттенское расстояние:\", distance.cityblock(vector_first, vector_second))"
      ]
    },
    {
      "cell_type": "markdown",
      "metadata": {
        "id": "eZ0leNVGerFN"
      },
      "source": [
        "2.\n",
        "Клиенту понравилась квартира с индексом 12. Найдите к ней ближайшую по евклидовому расстоянию.\n",
        "Создайте список с расстояниями всех векторов до вектора с номером 12. Вычислите индекс наиболее похожего объекта и сохраните в переменной best_index. Напечатайте результат на экране (уже в прекоде)."
      ]
    },
    {
      "cell_type": "code",
      "execution_count": null,
      "metadata": {
        "id": "8AFFP8ADesp1"
      },
      "outputs": [],
      "source": [
        "import numpy as np\n",
        "import pandas as pd\n",
        "from scipy.spatial import distance\n",
        "\n",
        "columns = ['комнаты', 'пл. общая', 'кухня', 'пл. жилая', 'этаж', 'всего этажей']\n",
        "realty = [\n",
        "    [1, 38.5, 6.9, 18.9, 3, 5],\n",
        "    [1, 38.0, 8.5, 19.2, 9, 17],\n",
        "    [1, 34.7, 10.3, 19.8, 1, 9],\n",
        "    [1, 45.9, 11.1, 17.5, 11, 23],\n",
        "    [1, 42.4, 10.0, 19.9, 6, 14],\n",
        "    [1, 46.0, 10.2, 20.5, 3, 12],\n",
        "    [2, 77.7, 13.2, 39.3, 3, 17],\n",
        "    [2, 69.8, 11.1, 31.4, 12, 23],\n",
        "    [2, 78.2, 19.4, 33.2, 4, 9],\n",
        "    [2, 55.5, 7.8, 29.6, 1, 25],\n",
        "    [2, 74.3, 16.0, 34.2, 14, 17],\n",
        "    [2, 78.3, 12.3, 42.6, 23, 23],\n",
        "    [2, 74.0, 18.1, 49.0, 8, 9],\n",
        "    [2, 91.4, 20.1, 60.4, 2, 10],\n",
        "    [3, 85.0, 17.8, 56.1, 14, 14],\n",
        "    [3, 79.8, 9.8, 44.8, 9, 10],\n",
        "    [3, 72.0, 10.2, 37.3, 7, 9],\n",
        "    [3, 95.3, 11.0, 51.5, 15, 23],\n",
        "    [3, 69.3, 8.5, 39.3, 4, 9],\n",
        "    [3, 89.8, 11.2, 58.2, 24, 25],\n",
        "]\n",
        "\n",
        "df_realty = pd.DataFrame(realty, columns=columns)\n",
        "\n",
        "# англ. индекс понравившегося объекта\n",
        "preference_index = 12\n",
        "preference_vector = df_realty.loc[preference_index].values\n",
        "\n",
        "distances = []\n",
        "for i, row in df_realty.iterrows():\n",
        "    dist = distance.euclidean(preference_vector, row.values)\n",
        "    distances.append(dist)\n",
        "\n",
        "index = np.argsort(distances)# argsort() возвращает индексы в порядке\n",
        "# увеличения значений в массиве\n",
        "best_index  = np.array(distances).argsort()[1] \n",
        "\n",
        "best_index = np.array(distances).argsort()[1]\n",
        "\n",
        "\n",
        "\n",
        "print(\"Индекс наиболее похожей квартиры:\", best_index)"
      ]
    },
    {
      "cell_type": "markdown",
      "metadata": {
        "id": "w4NfPgruk2Dg"
      },
      "source": [
        "### Метод ближайших соседей"
      ]
    },
    {
      "cell_type": "markdown",
      "metadata": {
        "id": "o5e0TPIgnnwr"
      },
      "source": [
        "Напишите функцию nearest_neighbor_predict() (англ. «предсказать методом ближайшего соседа»). На вход она принимает три параметра: \n",
        "признаки обучающей выборки (train_features),\n",
        "целевой признак обучающей выборки (train_target),\n",
        "признаки нового объекта (new_features).\n",
        "Функция возвращает предсказание целевого признака для нового объекта (new_features) методом ближайшего соседа. \n",
        "Запустите метод на новом объекте new_apartment — предскажите, нужен ли там кондиционер. Напечатайте результат на экране (уже в прекоде)."
      ]
    },
    {
      "cell_type": "code",
      "execution_count": null,
      "metadata": {
        "id": "7XCFSYZanprd"
      },
      "outputs": [],
      "source": [
        "import numpy as np\n",
        "import pandas as pd\n",
        "from scipy.spatial import distance\n",
        "from sklearn.neighbors import NearestNeighbors\n",
        "columns = ['комнаты', 'площадь', 'кухня', 'пл. жилая', 'этаж', 'всего этажей', 'кондиционер']\n",
        "\n",
        "df_train = pd.DataFrame([\n",
        "    [1, 38.5, 6.9, 18.9, 3, 5, 1],\n",
        "    [1, 38.0, 8.5, 19.2, 9, 17, 0],\n",
        "    [1, 34.7, 10.3, 19.8, 1, 9, 0],\n",
        "    [1, 45.9, 11.1, 17.5, 11, 23, 1],\n",
        "    [1, 42.4, 10.0, 19.9, 6, 14, 0],\n",
        "    [1, 46.0, 10.2, 20.5, 3, 12, 1],\n",
        "    [2, 77.7, 13.2, 39.3, 3, 17, 1],\n",
        "    [2, 69.8, 11.1, 31.4, 12, 23, 0],\n",
        "    [2, 78.2, 19.4, 33.2, 4, 9, 0],\n",
        "    [2, 55.5, 7.8, 29.6, 1, 25, 1],\n",
        "    [2, 74.3, 16.0, 34.2, 14, 17, 1],\n",
        "    [2, 78.3, 12.3, 42.6, 23, 23, 0],\n",
        "    [2, 74.0, 18.1, 49.0, 8, 9, 0],\n",
        "    [2, 91.4, 20.1, 60.4, 2, 10, 0],\n",
        "    [3, 85.0, 17.8, 56.1, 14, 14, 1],\n",
        "    [3, 79.8, 9.8, 44.8, 9, 10, 0],\n",
        "    [3, 72.0, 10.2, 37.3, 7, 9, 1],\n",
        "    [3, 95.3, 11.0, 51.5, 15, 23, 1],\n",
        "    [3, 69.3, 8.5, 39.3, 4, 9, 0],\n",
        "    [3, 89.8, 11.2, 58.2, 24, 25, 0],\n",
        "], columns=columns)\n",
        "\n",
        "\n",
        "def nearest_neighbor_predict(train_features, train_target, new_features):\n",
        "    distances = []\n",
        "    for i in range(train_features.shape[0]):\n",
        "        dist = distance.euclidean(train_features.iloc[i], new_features)\n",
        "        distances.append(dist)\n",
        "    # найдите индекс объекта с минимальным расстоянием\n",
        "    best_index = np.array(distances).argsort()[0] # < напишите код здесь >\n",
        "\n",
        "    # найдите значение целевого признака для этого объекта\n",
        "    answer = df_train['кондиционер'][best_index]# < напишите код здесь >\n",
        "    return answer \n",
        "    \n",
        "\n",
        "train_features = df_train.drop('кондиционер', axis=1)\n",
        "train_target = df_train['кондиционер']\n",
        "new_apartment = np.array([2, 51.0, 8.2, 35.9, 5, 5])\n",
        "prediction = nearest_neighbor_predict(train_features, train_target, new_apartment)\n",
        "print(prediction)\n"
      ]
    },
    {
      "cell_type": "markdown",
      "metadata": {
        "id": "TgAWakogqWe0"
      },
      "source": [
        "### Создание класса модели\n"
      ]
    },
    {
      "cell_type": "markdown",
      "metadata": {
        "id": "sPZC8HBs41Qy"
      },
      "source": [
        "1.\n",
        "Создайте класс NearestNeighborClassificator для модели классификации методом ближайших соседей. В этом задании будет только обучение, а в следующем — предсказание.\n",
        "Добавьте в класс метод fit(). Для метода ближайшего соседа обучение модели — это запоминание всей обучающей выборки. В ней predict() будет искать ближайший объект. \n",
        "Сохраните:\n",
        "признаки обучающей выборки в атрибуте self.features_train;\n",
        "целевой признак — self.target_train.\n",
        "Ничего страшного, если атрибуты называются так же, как параметры.\n",
        "Обучите модель, напечатайте на экране её атрибуты (уже в прекоде)."
      ]
    },
    {
      "cell_type": "code",
      "execution_count": null,
      "metadata": {
        "id": "34i5sy3C1twM"
      },
      "outputs": [],
      "source": [
        "import pandas as pd\n",
        "from scipy.spatial import distance\n",
        "\n",
        "columns = ['комнаты', 'площадь', 'кухня', 'пл. жилая', 'этаж', 'всего этажей', 'кондиционер']\n",
        "\n",
        "df_train = pd.DataFrame([\n",
        "    [1, 38.5, 6.9, 18.9, 3, 5, 1],\n",
        "    [1, 38.0, 8.5, 19.2, 9, 17, 0],\n",
        "    [1, 34.7, 10.3, 19.8, 1, 9, 0],\n",
        "    [1, 45.9, 11.1, 17.5, 11, 23, 1],\n",
        "    [1, 42.4, 10.0, 19.9, 6, 14, 0],\n",
        "    [1, 46.0, 10.2, 20.5, 3, 12, 1],\n",
        "    [2, 77.7, 13.2, 39.3, 3, 17, 1],\n",
        "    [2, 69.8, 11.1, 31.4, 12, 23, 0],\n",
        "    [2, 78.2, 19.4, 33.2, 4, 9, 0],\n",
        "    [2, 55.5, 7.8, 29.6, 1, 25, 1],\n",
        "    [2, 74.3, 16.0, 34.2, 14, 17, 1],\n",
        "    [2, 78.3, 12.3, 42.6, 23, 23, 0],\n",
        "    [2, 74.0, 18.1, 49.0, 8, 9, 0],\n",
        "    [2, 91.4, 20.1, 60.4, 2, 10, 0],\n",
        "    [3, 85.0, 17.8, 56.1, 14, 14, 1],\n",
        "    [3, 79.8, 9.8, 44.8, 9, 10, 0],\n",
        "    [3, 72.0, 10.2, 37.3, 7, 9, 1],\n",
        "    [3, 95.3, 11.0, 51.5, 15, 23, 1],\n",
        "    [3, 69.3, 8.5, 39.3, 4, 9, 0],\n",
        "    [3, 89.8, 11.2, 58.2, 24, 25, 0],\n",
        "], columns=columns)\n",
        "    \n",
        "\n",
        "train_features = df_train.drop('кондиционер', axis=1)\n",
        "train_target = df_train['кондиционер']\n",
        "\n",
        "df_test = pd.DataFrame([\n",
        "    [1, 36.5, 5.9, 17.9, 2, 7, 0],\n",
        "    [2, 71.7, 12.2, 34.3, 5, 21, 1],\n",
        "    [3, 88.0, 18.1, 58.2, 17, 17, 1],\n",
        "], columns=columns)\n",
        "\n",
        "test_features = df_test.drop('кондиционер', axis=1)\n",
        "\n",
        "class NearestNeighborClassificator:\n",
        "    def fit(self, features_train, target_train):\n",
        "        self.features_train = features_train\n",
        "        self.target_train = target_train\n",
        "\n",
        "\n",
        "model = NearestNeighborClassificator()\n",
        "model.fit(train_features, train_target)\n",
        "\n",
        "\n",
        "print(model.features_train.head())\n",
        "print(model.target_train.head())"
      ]
    },
    {
      "cell_type": "markdown",
      "metadata": {
        "id": "AstjsUCG40SL"
      },
      "source": [
        "2.\n",
        "К классу NearestNeighborClassificator добавьте метод predict(). Возьмите за основу уже написанную функцию nearest_neighbor_predict() — метод должен вернуть предсказание в виде Series.\n",
        "Получите предсказания, есть кондиционеры или нет. Напечатайте результат на экране (уже в прекоде)."
      ]
    },
    {
      "cell_type": "code",
      "execution_count": null,
      "metadata": {
        "id": "hNexaC2q9ITe"
      },
      "outputs": [],
      "source": [
        "import numpy as np\n",
        "import pandas as pd\n",
        "from scipy.spatial import distance\n",
        "\n",
        "columns = ['комнаты', 'площадь', 'кухня', 'пл. жилая', 'этаж', 'всего этажей', 'кондиционер']\n",
        "\n",
        "df_train = pd.DataFrame([\n",
        "    [1, 38.5, 6.9, 18.9, 3, 5, 1],\n",
        "    [1, 38.0, 8.5, 19.2, 9, 17, 0],\n",
        "    [1, 34.7, 10.3, 19.8, 1, 9, 0],\n",
        "    [1, 45.9, 11.1, 17.5, 11, 23, 1],\n",
        "    [1, 42.4, 10.0, 19.9, 6, 14, 0],\n",
        "    [1, 46.0, 10.2, 20.5, 3, 12, 1],\n",
        "    [2, 77.7, 13.2, 39.3, 3, 17, 1],\n",
        "    [2, 69.8, 11.1, 31.4, 12, 23, 0],\n",
        "    [2, 78.2, 19.4, 33.2, 4, 9, 0],\n",
        "    [2, 55.5, 7.8, 29.6, 1, 25, 1],\n",
        "    [2, 74.3, 16.0, 34.2, 14, 17, 1],\n",
        "    [2, 78.3, 12.3, 42.6, 23, 23, 0],\n",
        "    [2, 74.0, 18.1, 49.0, 8, 9, 0],\n",
        "    [2, 91.4, 20.1, 60.4, 2, 10, 0],\n",
        "    [3, 85.0, 17.8, 56.1, 14, 14, 1],\n",
        "    [3, 79.8, 9.8, 44.8, 9, 10, 0],\n",
        "    [3, 72.0, 10.2, 37.3, 7, 9, 1],\n",
        "    [3, 95.3, 11.0, 51.5, 15, 23, 1],\n",
        "    [3, 69.3, 8.5, 39.3, 4, 9, 0],\n",
        "    [3, 89.8, 11.2, 58.2, 24, 25, 0],\n",
        "], columns=columns)\n",
        "    \n",
        "\n",
        "train_features = df_train.drop('кондиционер', axis=1)\n",
        "train_target = df_train['кондиционер']\n",
        "\n",
        "df_test = pd.DataFrame([\n",
        "    [1, 36.5, 5.9, 17.9, 2, 7, 0],\n",
        "    [2, 71.7, 12.2, 34.3, 5, 21, 1],\n",
        "    [3, 88.0, 18.1, 58.2, 17, 17, 1],\n",
        "], columns=columns)\n",
        "\n",
        "test_features = df_test.drop('кондиционер', axis=1)\n",
        "\n",
        "def nearest_neighbor_predict(train_features, train_target, new_features):\n",
        "    distances = []\n",
        "    for i in range(train_features.shape[0]):\n",
        "        vector = train_features.loc[i].values\n",
        "        distances.append(distance.euclidean(new_features, vector))\n",
        "    best_index = np.array(distances).argmin()\n",
        "    return train_target.loc[best_index]\n",
        "\n",
        "class NearestNeighborClassificator:\n",
        "    def fit(self, features_train, target_train):\n",
        "        self.features_train = features_train\n",
        "        self.target_train = target_train\n",
        "\n",
        "    def predict(self, test_features):\n",
        "        predictions = []\n",
        "        for i in range(test_features.shape[0]):\n",
        "            distances = []\n",
        "            for j in range(self.features_train.shape[0]):\n",
        "                vector = self.features_train.loc[j].values\n",
        "                distances.append(distance.euclidean(test_features.loc[i].values, vector))\n",
        "            best_index = np.array(distances).argmin()\n",
        "            predictions.append(self.target_train.loc[best_index])\n",
        "        return pd.Series(predictions, index=test_features.index)\n",
        "        \n",
        "    # < напишите код здесь >\n",
        "    \n",
        "model = NearestNeighborClassificator()\n",
        "model.fit(train_features, train_target)\n",
        "new_predictions = model.predict(test_features)\n",
        "print(new_predictions)"
      ]
    },
    {
      "cell_type": "markdown",
      "metadata": {
        "id": "K_W0TS9xNWDS"
      },
      "source": [
        "## Матрицы и матричные операции"
      ]
    }
  ],
  "metadata": {
    "accelerator": "TPU",
    "colab": {
      "include_colab_link": true,
      "private_outputs": true,
      "provenance": [],
      "toc_visible": true
    },
    "gpuClass": "standard",
    "kernelspec": {
      "display_name": "Python 3",
      "language": "python",
      "name": "python3"
    },
    "language_info": {
      "codemirror_mode": {
        "name": "ipython",
        "version": 3
      },
      "file_extension": ".py",
      "mimetype": "text/x-python",
      "name": "python",
      "nbconvert_exporter": "python",
      "pygments_lexer": "ipython3",
      "version": "3.10.4"
    },
    "vscode": {
      "interpreter": {
        "hash": "3ad933181bd8a04b432d3370b9dc3b0662ad032c4dfaa4e4f1596c548f763858"
      }
    }
  },
  "nbformat": 4,
  "nbformat_minor": 0
}
