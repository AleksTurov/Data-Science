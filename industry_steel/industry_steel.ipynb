{
  "cells": [
    {
      "attachments": {},
      "cell_type": "markdown",
      "metadata": {
        "id": "f_IqEwIJR2D2"
      },
      "source": [
        "# Промышленность Оптимизация производственных расходов металлургического комбината "
      ]
    },
    {
      "attachments": {},
      "cell_type": "markdown",
      "metadata": {
        "id": "1RXVXnUpR2D7"
      },
      "source": [
        "Чтобы оптимизировать производственные расходы, металлургический комбинат ООО «Так закаляем сталь» решил уменьшить потребление электроэнергии на этапе обработки стали. Нам предстоит построить модель, которая предскажет температуру стали."
      ]
    },
    {
      "attachments": {},
      "cell_type": "markdown",
      "metadata": {
        "id": "HTjp7f3wR2D7"
      },
      "source": [
        "## План работы(содержание):"
      ]
    },
    {
      "attachments": {},
      "cell_type": "markdown",
      "metadata": {
        "colab_type": "toc",
        "id": "VFcY1QCISD7x"
      },
      "source": [
        ">[Промышленность Оптимизация производственных расходов металлургического комбината](#scrollTo=f_IqEwIJR2D2)\n",
        "\n",
        ">>[План работы(содержание):](#scrollTo=HTjp7f3wR2D7)\n",
        "\n",
        ">>[Цель проекта](#scrollTo=tqvIK4-qR2D7)\n",
        "\n",
        ">>[Описание этапа обработки](#scrollTo=EvRj_5UHR2D8)\n",
        "\n",
        ">>[Исходные данные](#scrollTo=mOnsWYBpR2D8)\n",
        "\n",
        ">>>[Импорт библитек](#scrollTo=0yh2bAa4R2D9)\n",
        "\n",
        ">>>[Откроем файл с данными и изучем общую информацию](#scrollTo=nwVXO-CiR2D-)\n",
        "\n",
        ">>>[Описание данных](#scrollTo=YSyP7kAlR2EA)\n",
        "\n",
        ">>>[Промежуточные выводы](#scrollTo=Q95hHSTgR2EA)\n",
        "\n",
        ">>[Исследовательский анализ данных и предобраотка](#scrollTo=A8TFakrbR2EA)\n",
        "\n",
        ">>>[Данные об электродах](#scrollTo=6jvkOVwBR2EB)\n",
        "\n",
        ">>>>[Обобщение по arc](#scrollTo=1KhKsTksR2EE)\n",
        "\n",
        ">>>[Данные об объеме сыпучих и проволочных материалов, а также о времени их подачи](#scrollTo=EbLMVPs1R2EE)\n",
        "\n",
        ">>>>[Сыпучие материалы](#scrollTo=_2HibmnfR2EE)\n",
        "\n",
        ">>>>[Обобщение по bulk](#scrollTo=baGovKyvR2EY)\n",
        "\n",
        ">>>>[Проволочные материалы](#scrollTo=qVUkDERbR2EZ)\n",
        "\n",
        ">>>>[Обобщение по Wire](#scrollTo=ON8d2YDfR2Eb)\n",
        "\n",
        ">>>[Данные о температуре и продувке газом](#scrollTo=hQGauL4bR2Eb)\n",
        "\n",
        ">>>>[Вывод по gas and temp](#scrollTo=H4hMDIYQR2Ef)\n",
        "\n",
        ">>>[Промежуточные выводы по исследовательскому анализу данных](#scrollTo=wXa8j_23R2Ef)\n",
        "\n",
        ">>[Формирование единой таблицы](#scrollTo=mTejDEUuR2Eg)\n",
        "\n",
        ">>[Основная часть](#scrollTo=OPy-mv_1R2Ej)\n",
        "\n",
        ">>>[Разделение на выборки](#scrollTo=SC-xBs1QTB6n)\n",
        "\n",
        ">>>[Масштабирование](#scrollTo=0OJ21UVTT1b9)\n",
        "\n",
        ">>>[Обучение и выбор моделей](#scrollTo=p1CA8YqbTuxU)\n",
        "\n",
        ">>>>[Линейная регрессия с регуляризацией](#scrollTo=y1hITE0TTwYA)\n",
        "\n",
        ">>>>[Catboost](#scrollTo=qikCRRY4UKax)\n",
        "\n",
        ">>>>[Случайный лес](#scrollTo=8osDgkaRUS4S)\n",
        "\n",
        ">>>>[Промежуточные выводы](#scrollTo=iB0jrLMaUWwM)\n",
        "\n",
        ">>>[Тестирование лучшей модели](#scrollTo=PPqHfRfeR2Ek)\n",
        "\n",
        ">>>>[Промежуточные выводы](#scrollTo=9zWclyOGR2Ek)\n",
        "\n",
        ">>>[Анализ важности признаков](#scrollTo=TV8AS10RUb7I)\n",
        "\n",
        ">>>>[Промежуточные выводы](#scrollTo=S9ZPdjJRUhDS)\n",
        "\n",
        ">>>[Итоговый вывод](#scrollTo=VSTSvkrXR2Ek)\n",
        "\n",
        ">>[Отчет](#scrollTo=D2CvuUuCR2Ek)\n",
        "\n",
        ">>[Вопросы](#scrollTo=qx4F1wzPUmwv)\n",
        "\n"
      ]
    },
    {
      "attachments": {},
      "cell_type": "markdown",
      "metadata": {
        "id": "tqvIK4-qR2D7"
      },
      "source": [
        "## Цель проекта"
      ]
    },
    {
      "attachments": {},
      "cell_type": "markdown",
      "metadata": {
        "id": "sY9lwRTYR2D8"
      },
      "source": [
        "Предсказать конечную температуру полного цикла с ошибкой MAE меньше 6.8 на тексте. Расчитать метрику R квадрат. Разрешается брать только начальную темпрературу. Обучение модели с кросс-валидацией. Подбор для одной модели гиперпараметров. Использовать как признак можно только первую температуру."
      ]
    },
    {
      "attachments": {},
      "cell_type": "markdown",
      "metadata": {
        "id": "EvRj_5UHR2D8"
      },
      "source": [
        "## Описание этапа обработки"
      ]
    },
    {
      "attachments": {},
      "cell_type": "markdown",
      "metadata": {
        "id": "5GtW5Ic_R2D8"
      },
      "source": [
        "Сталь обрабатывают в металлическом ковше вместимостью около 100 тонн. Чтобы ковш выдерживал высокие температуры, изнутри его облицовывают огнеупорным кирпичом. Расплавленную сталь заливают в ковш и подогревают до нужной температуры графитовыми электродами. Они установлены в крышке ковша. \n",
        "\n",
        "Из сплава выводится сера (десульфурация), добавлением примесей корректируется химический состав и отбираются пробы. Сталь легируют — изменяют её состав — подавая куски сплава из бункера для сыпучих материалов или проволоку через специальный трайб-аппарат (англ. tribe, «масса»).\n",
        "\n",
        "Перед тем как первый раз ввести легирующие добавки, измеряют температуру стали и производят её химический анализ. Потом температуру на несколько минут повышают, добавляют легирующие материалы и продувают сплав инертным газом. Затем его перемешивают и снова проводят измерения. Такой цикл повторяется до достижения целевого химического состава и оптимальной температуры плавки.\n",
        "\n",
        "Тогда расплавленная сталь отправляется на доводку металла или поступает в машину непрерывной разливки. Оттуда готовый продукт выходит в виде заготовок-слябов (англ. *slab*, «плита»)."
      ]
    },
    {
      "attachments": {},
      "cell_type": "markdown",
      "metadata": {
        "id": "mOnsWYBpR2D8"
      },
      "source": [
        "## Исходные данные"
      ]
    },
    {
      "attachments": {},
      "cell_type": "markdown",
      "metadata": {
        "id": "0yh2bAa4R2D9"
      },
      "source": [
        "### Импорт библитек"
      ]
    },
    {
      "cell_type": "code",
      "execution_count": 1,
      "metadata": {
        "id": "LlSRhl6lR2D9"
      },
      "outputs": [],
      "source": [
        "import pandas as pd\n",
        "import matplotlib.pyplot as plt\n",
        "import seaborn as sns\n",
        "import numpy as np\n",
        "import warnings\n",
        "warnings.filterwarnings('ignore') \n",
        "\n",
        "from sklearn.ensemble import RandomForestRegressor\n",
        "from sklearn.linear_model import LinearRegression\n",
        "from sklearn.model_selection import train_test_split, GridSearchCV\n",
        "from sklearn.metrics import mean_absolute_error, r2_score\n",
        "from catboost import CatBoostRegressor\n",
        "from sklearn.preprocessing import StandardScaler\n",
        "from sklearn.model_selection import cross_val_score\n",
        "from sklearn.dummy import DummyRegressor\n",
        "\n"
      ]
    },
    {
      "cell_type": "code",
      "execution_count": 2,
      "metadata": {
        "id": "Xk1C-u_1R2D-"
      },
      "outputs": [],
      "source": [
        "RANDOM_STATE = 22052023"
      ]
    },
    {
      "attachments": {},
      "cell_type": "markdown",
      "metadata": {
        "id": "nwVXO-CiR2D-"
      },
      "source": [
        "### Откроем файл с данными и изучем общую информацию"
      ]
    },
    {
      "cell_type": "code",
      "execution_count": 3,
      "metadata": {
        "id": "fCz0o7z7R2D-"
      },
      "outputs": [],
      "source": [
        "# Загрузка данных\n",
        "try:\n",
        "    arc = pd.read_csv(\"/datasets/data_arc_new.csv\")\n",
        "    bulk = pd.read_csv(\"/datasets/data_bulk_new.csv\")\n",
        "    bulk_time = pd.read_csv(\"/datasets/data_bulk_time_new.csv\")\n",
        "    gas = pd.read_csv(\"/datasets/data_gas_new.csv\")\n",
        "    temp = pd.read_csv(\"/datasets/data_temp_new.csv\")\n",
        "    wire = pd.read_csv(\"/datasets/data_wire_new.csv\")\n",
        "    wire_time = pd.read_csv(\"/datasets/data_wire_time_new.csv\")\n",
        "except:\n",
        "    arc = pd.read_csv(\"https://code.s3.yandex.net/datasets/data_arc_new.csv\")\n",
        "    bulk = pd.read_csv(\"https://code.s3.yandex.net/datasets/data_bulk_new.csv\")\n",
        "    bulk_time = pd.read_csv(\n",
        "        \"https://code.s3.yandex.net/datasets/data_bulk_time_new.csv\"\n",
        "    )\n",
        "    gas = pd.read_csv(\"https://code.s3.yandex.net/datasets/data_gas_new.csv\")\n",
        "    temp = pd.read_csv(\"https://code.s3.yandex.net/datasets/data_temp_new.csv\")\n",
        "    wire = pd.read_csv(\"https://code.s3.yandex.net/datasets/data_wire_new.csv\")\n",
        "    wire_time = pd.read_csv(\n",
        "        \"https://code.s3.yandex.net/datasets/data_wire_time_new.csv\"\n",
        "    )"
      ]
    },
    {
      "cell_type": "code",
      "execution_count": 4,
      "metadata": {
        "colab": {
          "base_uri": "https://localhost:8080/"
        },
        "id": "Pa0PKlNPR2D_",
        "outputId": "fe0428c4-cdc2-4d90-b411-19c0bac09b00"
      },
      "outputs": [
        {
          "name": "stdout",
          "output_type": "stream",
          "text": [
            "--- arc ---\n",
            "   key Начало нагрева дугой  Конец нагрева дугой  Активная мощность  \\\n",
            "0    1  2019-05-03 11:02:14  2019-05-03 11:06:02           0.305130   \n",
            "1    1  2019-05-03 11:07:28  2019-05-03 11:10:33           0.765658   \n",
            "2    1  2019-05-03 11:11:44  2019-05-03 11:14:36           0.580313   \n",
            "3    1  2019-05-03 11:18:14  2019-05-03 11:24:19           0.518496   \n",
            "4    1  2019-05-03 11:26:09  2019-05-03 11:28:37           0.867133   \n",
            "\n",
            "   Реактивная мощность  \n",
            "0             0.211253  \n",
            "1             0.477438  \n",
            "2             0.430460  \n",
            "3             0.379979  \n",
            "4             0.643691  \n",
            "<class 'pandas.core.frame.DataFrame'>\n",
            "RangeIndex: 14876 entries, 0 to 14875\n",
            "Data columns (total 5 columns):\n",
            " #   Column                Non-Null Count  Dtype  \n",
            "---  ------                --------------  -----  \n",
            " 0   key                   14876 non-null  int64  \n",
            " 1   Начало нагрева дугой  14876 non-null  object \n",
            " 2   Конец нагрева дугой   14876 non-null  object \n",
            " 3   Активная мощность     14876 non-null  float64\n",
            " 4   Реактивная мощность   14876 non-null  float64\n",
            "dtypes: float64(2), int64(1), object(2)\n",
            "memory usage: 581.2+ KB\n",
            "None\n",
            "key                     0\n",
            "Начало нагрева дугой    0\n",
            "Конец нагрева дугой     0\n",
            "Активная мощность       0\n",
            "Реактивная мощность     0\n",
            "dtype: int64\n",
            "\n",
            "--- bulk ---\n",
            "   key  Bulk 1  Bulk 2  Bulk 3  Bulk 4  Bulk 5  Bulk 6  Bulk 7  Bulk 8  \\\n",
            "0    1     NaN     NaN     NaN    43.0     NaN     NaN     NaN     NaN   \n",
            "1    2     NaN     NaN     NaN    73.0     NaN     NaN     NaN     NaN   \n",
            "2    3     NaN     NaN     NaN    34.0     NaN     NaN     NaN     NaN   \n",
            "3    4     NaN     NaN     NaN    81.0     NaN     NaN     NaN     NaN   \n",
            "4    5     NaN     NaN     NaN    78.0     NaN     NaN     NaN     NaN   \n",
            "\n",
            "   Bulk 9  Bulk 10  Bulk 11  Bulk 12  Bulk 13  Bulk 14  Bulk 15  \n",
            "0     NaN      NaN      NaN    206.0      NaN    150.0    154.0  \n",
            "1     NaN      NaN      NaN    206.0      NaN    149.0    154.0  \n",
            "2     NaN      NaN      NaN    205.0      NaN    152.0    153.0  \n",
            "3     NaN      NaN      NaN    207.0      NaN    153.0    154.0  \n",
            "4     NaN      NaN      NaN    203.0      NaN    151.0    152.0  \n",
            "<class 'pandas.core.frame.DataFrame'>\n",
            "RangeIndex: 3129 entries, 0 to 3128\n",
            "Data columns (total 16 columns):\n",
            " #   Column   Non-Null Count  Dtype  \n",
            "---  ------   --------------  -----  \n",
            " 0   key      3129 non-null   int64  \n",
            " 1   Bulk 1   252 non-null    float64\n",
            " 2   Bulk 2   22 non-null     float64\n",
            " 3   Bulk 3   1298 non-null   float64\n",
            " 4   Bulk 4   1014 non-null   float64\n",
            " 5   Bulk 5   77 non-null     float64\n",
            " 6   Bulk 6   576 non-null    float64\n",
            " 7   Bulk 7   25 non-null     float64\n",
            " 8   Bulk 8   1 non-null      float64\n",
            " 9   Bulk 9   19 non-null     float64\n",
            " 10  Bulk 10  176 non-null    float64\n",
            " 11  Bulk 11  177 non-null    float64\n",
            " 12  Bulk 12  2450 non-null   float64\n",
            " 13  Bulk 13  18 non-null     float64\n",
            " 14  Bulk 14  2806 non-null   float64\n",
            " 15  Bulk 15  2248 non-null   float64\n",
            "dtypes: float64(15), int64(1)\n",
            "memory usage: 391.2 KB\n",
            "None\n",
            "key           0\n",
            "Bulk 1     2877\n",
            "Bulk 2     3107\n",
            "Bulk 3     1831\n",
            "Bulk 4     2115\n",
            "Bulk 5     3052\n",
            "Bulk 6     2553\n",
            "Bulk 7     3104\n",
            "Bulk 8     3128\n",
            "Bulk 9     3110\n",
            "Bulk 10    2953\n",
            "Bulk 11    2952\n",
            "Bulk 12     679\n",
            "Bulk 13    3111\n",
            "Bulk 14     323\n",
            "Bulk 15     881\n",
            "dtype: int64\n",
            "\n",
            "--- bulk_time ---\n",
            "   key Bulk 1 Bulk 2 Bulk 3               Bulk 4 Bulk 5 Bulk 6 Bulk 7 Bulk 8  \\\n",
            "0    1    NaN    NaN    NaN  2019-05-03 11:28:48    NaN    NaN    NaN    NaN   \n",
            "1    2    NaN    NaN    NaN  2019-05-03 11:36:50    NaN    NaN    NaN    NaN   \n",
            "2    3    NaN    NaN    NaN  2019-05-03 12:32:39    NaN    NaN    NaN    NaN   \n",
            "3    4    NaN    NaN    NaN  2019-05-03 12:43:22    NaN    NaN    NaN    NaN   \n",
            "4    5    NaN    NaN    NaN  2019-05-03 13:30:47    NaN    NaN    NaN    NaN   \n",
            "\n",
            "  Bulk 9 Bulk 10 Bulk 11              Bulk 12 Bulk 13              Bulk 14  \\\n",
            "0    NaN     NaN     NaN  2019-05-03 11:24:31     NaN  2019-05-03 11:14:50   \n",
            "1    NaN     NaN     NaN  2019-05-03 11:53:30     NaN  2019-05-03 11:48:37   \n",
            "2    NaN     NaN     NaN  2019-05-03 12:27:13     NaN  2019-05-03 12:21:01   \n",
            "3    NaN     NaN     NaN  2019-05-03 12:58:00     NaN  2019-05-03 12:51:11   \n",
            "4    NaN     NaN     NaN  2019-05-03 13:30:47     NaN  2019-05-03 13:34:12   \n",
            "\n",
            "               Bulk 15  \n",
            "0  2019-05-03 11:10:43  \n",
            "1  2019-05-03 11:44:39  \n",
            "2  2019-05-03 12:16:16  \n",
            "3  2019-05-03 12:46:36  \n",
            "4  2019-05-03 13:30:47  \n",
            "<class 'pandas.core.frame.DataFrame'>\n",
            "RangeIndex: 3129 entries, 0 to 3128\n",
            "Data columns (total 16 columns):\n",
            " #   Column   Non-Null Count  Dtype \n",
            "---  ------   --------------  ----- \n",
            " 0   key      3129 non-null   int64 \n",
            " 1   Bulk 1   252 non-null    object\n",
            " 2   Bulk 2   22 non-null     object\n",
            " 3   Bulk 3   1298 non-null   object\n",
            " 4   Bulk 4   1014 non-null   object\n",
            " 5   Bulk 5   77 non-null     object\n",
            " 6   Bulk 6   576 non-null    object\n",
            " 7   Bulk 7   25 non-null     object\n",
            " 8   Bulk 8   1 non-null      object\n",
            " 9   Bulk 9   19 non-null     object\n",
            " 10  Bulk 10  176 non-null    object\n",
            " 11  Bulk 11  177 non-null    object\n",
            " 12  Bulk 12  2450 non-null   object\n",
            " 13  Bulk 13  18 non-null     object\n",
            " 14  Bulk 14  2806 non-null   object\n",
            " 15  Bulk 15  2248 non-null   object\n",
            "dtypes: int64(1), object(15)\n",
            "memory usage: 391.2+ KB\n",
            "None\n",
            "key           0\n",
            "Bulk 1     2877\n",
            "Bulk 2     3107\n",
            "Bulk 3     1831\n",
            "Bulk 4     2115\n",
            "Bulk 5     3052\n",
            "Bulk 6     2553\n",
            "Bulk 7     3104\n",
            "Bulk 8     3128\n",
            "Bulk 9     3110\n",
            "Bulk 10    2953\n",
            "Bulk 11    2952\n",
            "Bulk 12     679\n",
            "Bulk 13    3111\n",
            "Bulk 14     323\n",
            "Bulk 15     881\n",
            "dtype: int64\n",
            "\n",
            "--- gas ---\n",
            "   key      Газ 1\n",
            "0    1  29.749986\n",
            "1    2  12.555561\n",
            "2    3  28.554793\n",
            "3    4  18.841219\n",
            "4    5   5.413692\n",
            "<class 'pandas.core.frame.DataFrame'>\n",
            "RangeIndex: 3239 entries, 0 to 3238\n",
            "Data columns (total 2 columns):\n",
            " #   Column  Non-Null Count  Dtype  \n",
            "---  ------  --------------  -----  \n",
            " 0   key     3239 non-null   int64  \n",
            " 1   Газ 1   3239 non-null   float64\n",
            "dtypes: float64(1), int64(1)\n",
            "memory usage: 50.7 KB\n",
            "None\n",
            "key      0\n",
            "Газ 1    0\n",
            "dtype: int64\n",
            "\n",
            "--- temp ---\n",
            "   key         Время замера  Температура\n",
            "0    1  2019-05-03 11:02:04       1571.0\n",
            "1    1  2019-05-03 11:07:18       1604.0\n",
            "2    1  2019-05-03 11:11:34       1618.0\n",
            "3    1  2019-05-03 11:18:04       1601.0\n",
            "4    1  2019-05-03 11:25:59       1606.0\n",
            "<class 'pandas.core.frame.DataFrame'>\n",
            "RangeIndex: 18092 entries, 0 to 18091\n",
            "Data columns (total 3 columns):\n",
            " #   Column        Non-Null Count  Dtype  \n",
            "---  ------        --------------  -----  \n",
            " 0   key           18092 non-null  int64  \n",
            " 1   Время замера  18092 non-null  object \n",
            " 2   Температура   14665 non-null  float64\n",
            "dtypes: float64(1), int64(1), object(1)\n",
            "memory usage: 424.2+ KB\n",
            "None\n",
            "key                0\n",
            "Время замера       0\n",
            "Температура     3427\n",
            "dtype: int64\n",
            "\n",
            "--- wire ---\n",
            "   key     Wire 1   Wire 2  Wire 3  Wire 4  Wire 5  Wire 6  Wire 7  Wire 8  \\\n",
            "0    1  60.059998      NaN     NaN     NaN     NaN     NaN     NaN     NaN   \n",
            "1    2  96.052315      NaN     NaN     NaN     NaN     NaN     NaN     NaN   \n",
            "2    3  91.160157      NaN     NaN     NaN     NaN     NaN     NaN     NaN   \n",
            "3    4  89.063515      NaN     NaN     NaN     NaN     NaN     NaN     NaN   \n",
            "4    5  89.238236  9.11456     NaN     NaN     NaN     NaN     NaN     NaN   \n",
            "\n",
            "   Wire 9  \n",
            "0     NaN  \n",
            "1     NaN  \n",
            "2     NaN  \n",
            "3     NaN  \n",
            "4     NaN  \n",
            "<class 'pandas.core.frame.DataFrame'>\n",
            "RangeIndex: 3081 entries, 0 to 3080\n",
            "Data columns (total 10 columns):\n",
            " #   Column  Non-Null Count  Dtype  \n",
            "---  ------  --------------  -----  \n",
            " 0   key     3081 non-null   int64  \n",
            " 1   Wire 1  3055 non-null   float64\n",
            " 2   Wire 2  1079 non-null   float64\n",
            " 3   Wire 3  63 non-null     float64\n",
            " 4   Wire 4  14 non-null     float64\n",
            " 5   Wire 5  1 non-null      float64\n",
            " 6   Wire 6  73 non-null     float64\n",
            " 7   Wire 7  11 non-null     float64\n",
            " 8   Wire 8  19 non-null     float64\n",
            " 9   Wire 9  29 non-null     float64\n",
            "dtypes: float64(9), int64(1)\n",
            "memory usage: 240.8 KB\n",
            "None\n",
            "key          0\n",
            "Wire 1      26\n",
            "Wire 2    2002\n",
            "Wire 3    3018\n",
            "Wire 4    3067\n",
            "Wire 5    3080\n",
            "Wire 6    3008\n",
            "Wire 7    3070\n",
            "Wire 8    3062\n",
            "Wire 9    3052\n",
            "dtype: int64\n",
            "\n",
            "--- wire_time ---\n",
            "   key               Wire 1               Wire 2 Wire 3 Wire 4 Wire 5 Wire 6  \\\n",
            "0    1  2019-05-03 11:06:19                  NaN    NaN    NaN    NaN    NaN   \n",
            "1    2  2019-05-03 11:36:50                  NaN    NaN    NaN    NaN    NaN   \n",
            "2    3  2019-05-03 12:11:46                  NaN    NaN    NaN    NaN    NaN   \n",
            "3    4  2019-05-03 12:43:22                  NaN    NaN    NaN    NaN    NaN   \n",
            "4    5  2019-05-03 13:20:44  2019-05-03 13:15:34    NaN    NaN    NaN    NaN   \n",
            "\n",
            "  Wire 7 Wire 8 Wire 9  \n",
            "0    NaN    NaN    NaN  \n",
            "1    NaN    NaN    NaN  \n",
            "2    NaN    NaN    NaN  \n",
            "3    NaN    NaN    NaN  \n",
            "4    NaN    NaN    NaN  \n",
            "<class 'pandas.core.frame.DataFrame'>\n",
            "RangeIndex: 3081 entries, 0 to 3080\n",
            "Data columns (total 10 columns):\n",
            " #   Column  Non-Null Count  Dtype \n",
            "---  ------  --------------  ----- \n",
            " 0   key     3081 non-null   int64 \n",
            " 1   Wire 1  3055 non-null   object\n",
            " 2   Wire 2  1079 non-null   object\n",
            " 3   Wire 3  63 non-null     object\n",
            " 4   Wire 4  14 non-null     object\n",
            " 5   Wire 5  1 non-null      object\n",
            " 6   Wire 6  73 non-null     object\n",
            " 7   Wire 7  11 non-null     object\n",
            " 8   Wire 8  19 non-null     object\n",
            " 9   Wire 9  29 non-null     object\n",
            "dtypes: int64(1), object(9)\n",
            "memory usage: 240.8+ KB\n",
            "None\n",
            "key          0\n",
            "Wire 1      26\n",
            "Wire 2    2002\n",
            "Wire 3    3018\n",
            "Wire 4    3067\n",
            "Wire 5    3080\n",
            "Wire 6    3008\n",
            "Wire 7    3070\n",
            "Wire 8    3062\n",
            "Wire 9    3052\n",
            "dtype: int64\n",
            "\n"
          ]
        }
      ],
      "source": [
        "# Проверка данных\n",
        "dataframes = [arc, bulk, bulk_time, gas, temp, wire, wire_time]\n",
        "names = [\"arc\", \"bulk\", \"bulk_time\", \"gas\", \"temp\", \"wire\", \"wire_time\"]\n",
        "\n",
        "for df, name in zip(dataframes, names):\n",
        "    print(f\"--- {name} ---\")\n",
        "    print(df.head())\n",
        "    print(df.info())\n",
        "    print(df.isna().sum())\n",
        "    print()"
      ]
    },
    {
      "attachments": {},
      "cell_type": "markdown",
      "metadata": {
        "id": "YSyP7kAlR2EA"
      },
      "source": [
        "### Описание данных"
      ]
    },
    {
      "attachments": {},
      "cell_type": "markdown",
      "metadata": {
        "id": "U-b8uuRCR2EA"
      },
      "source": [
        "Данные состоят из файлов, полученных из разных источников:\n",
        "\n",
        "- `data_arc_new.csv` — данные об электродах;\n",
        "- `data_bulk_new.csv` — данные о подаче сыпучих материалов (объём);\n",
        "- `data_bulk_time_new.csv` *—* данные о подаче сыпучих материалов (время);\n",
        "- `data_gas_new.csv` — данные о продувке сплава газом;\n",
        "- `data_temp_new.csv` — результаты измерения температуры;\n",
        "- `data_wire_new.csv` — данные о проволочных материалах (объём);\n",
        "- `data_wire_time_new.csv` — данные о проволочных материалах (время).\n",
        "\n",
        "Во всех файлах столбец `key` содержит номер партии. В файлах может быть несколько строк с одинаковым значением `key`: они соответствуют разным итерациям обработки."
      ]
    },
    {
      "attachments": {},
      "cell_type": "markdown",
      "metadata": {
        "id": "Q95hHSTgR2EA"
      },
      "source": [
        "### Промежуточные выводы"
      ]
    },
    {
      "attachments": {},
      "cell_type": "markdown",
      "metadata": {
        "id": "ItvspOpsR2EA"
      },
      "source": [
        "Мы загрузили семь файлов с данными. Количество строк в файлах различается. Вос всех файлах есть пропуски данных. Каждый файл содержит столбец key, возможно его можно будет использовать для объединения таблиц."
      ]
    },
    {
      "attachments": {},
      "cell_type": "markdown",
      "metadata": {
        "id": "A8TFakrbR2EA"
      },
      "source": [
        "## Исследовательский анализ данных и предобраотка"
      ]
    },
    {
      "attachments": {},
      "cell_type": "markdown",
      "metadata": {
        "id": "6jvkOVwBR2EB"
      },
      "source": [
        "### Данные об электродах"
      ]
    },
    {
      "cell_type": "code",
      "execution_count": 5,
      "metadata": {
        "colab": {
          "base_uri": "https://localhost:8080/",
          "height": 363
        },
        "id": "XbylLV44R2EB",
        "outputId": "e9795dbc-9829-4a4f-8ff4-1af8506b4616"
      },
      "outputs": [
        {
          "data": {
            "text/html": [
              "<div>\n",
              "<style scoped>\n",
              "    .dataframe tbody tr th:only-of-type {\n",
              "        vertical-align: middle;\n",
              "    }\n",
              "\n",
              "    .dataframe tbody tr th {\n",
              "        vertical-align: top;\n",
              "    }\n",
              "\n",
              "    .dataframe thead th {\n",
              "        text-align: right;\n",
              "    }\n",
              "</style>\n",
              "<table border=\"1\" class=\"dataframe\">\n",
              "  <thead>\n",
              "    <tr style=\"text-align: right;\">\n",
              "      <th></th>\n",
              "      <th>key</th>\n",
              "      <th>Начало нагрева дугой</th>\n",
              "      <th>Конец нагрева дугой</th>\n",
              "      <th>Активная мощность</th>\n",
              "      <th>Реактивная мощность</th>\n",
              "    </tr>\n",
              "  </thead>\n",
              "  <tbody>\n",
              "    <tr>\n",
              "      <th>0</th>\n",
              "      <td>1</td>\n",
              "      <td>2019-05-03 11:02:14</td>\n",
              "      <td>2019-05-03 11:06:02</td>\n",
              "      <td>0.305130</td>\n",
              "      <td>0.211253</td>\n",
              "    </tr>\n",
              "    <tr>\n",
              "      <th>1</th>\n",
              "      <td>1</td>\n",
              "      <td>2019-05-03 11:07:28</td>\n",
              "      <td>2019-05-03 11:10:33</td>\n",
              "      <td>0.765658</td>\n",
              "      <td>0.477438</td>\n",
              "    </tr>\n",
              "    <tr>\n",
              "      <th>2</th>\n",
              "      <td>1</td>\n",
              "      <td>2019-05-03 11:11:44</td>\n",
              "      <td>2019-05-03 11:14:36</td>\n",
              "      <td>0.580313</td>\n",
              "      <td>0.430460</td>\n",
              "    </tr>\n",
              "    <tr>\n",
              "      <th>3</th>\n",
              "      <td>1</td>\n",
              "      <td>2019-05-03 11:18:14</td>\n",
              "      <td>2019-05-03 11:24:19</td>\n",
              "      <td>0.518496</td>\n",
              "      <td>0.379979</td>\n",
              "    </tr>\n",
              "    <tr>\n",
              "      <th>4</th>\n",
              "      <td>1</td>\n",
              "      <td>2019-05-03 11:26:09</td>\n",
              "      <td>2019-05-03 11:28:37</td>\n",
              "      <td>0.867133</td>\n",
              "      <td>0.643691</td>\n",
              "    </tr>\n",
              "    <tr>\n",
              "      <th>5</th>\n",
              "      <td>2</td>\n",
              "      <td>2019-05-03 11:34:14</td>\n",
              "      <td>2019-05-03 11:36:31</td>\n",
              "      <td>0.381124</td>\n",
              "      <td>0.220351</td>\n",
              "    </tr>\n",
              "    <tr>\n",
              "      <th>6</th>\n",
              "      <td>2</td>\n",
              "      <td>2019-05-03 11:38:50</td>\n",
              "      <td>2019-05-03 11:44:28</td>\n",
              "      <td>0.261665</td>\n",
              "      <td>0.205527</td>\n",
              "    </tr>\n",
              "    <tr>\n",
              "      <th>7</th>\n",
              "      <td>2</td>\n",
              "      <td>2019-05-03 11:46:19</td>\n",
              "      <td>2019-05-03 11:48:25</td>\n",
              "      <td>0.710297</td>\n",
              "      <td>0.484962</td>\n",
              "    </tr>\n",
              "    <tr>\n",
              "      <th>8</th>\n",
              "      <td>2</td>\n",
              "      <td>2019-05-03 11:49:48</td>\n",
              "      <td>2019-05-03 11:53:18</td>\n",
              "      <td>0.786322</td>\n",
              "      <td>0.542517</td>\n",
              "    </tr>\n",
              "    <tr>\n",
              "      <th>9</th>\n",
              "      <td>3</td>\n",
              "      <td>2019-05-03 12:06:54</td>\n",
              "      <td>2019-05-03 12:11:34</td>\n",
              "      <td>1.101678</td>\n",
              "      <td>0.820856</td>\n",
              "    </tr>\n",
              "  </tbody>\n",
              "</table>\n",
              "</div>"
            ],
            "text/plain": [
              "   key Начало нагрева дугой  Конец нагрева дугой  Активная мощность  \\\n",
              "0    1  2019-05-03 11:02:14  2019-05-03 11:06:02           0.305130   \n",
              "1    1  2019-05-03 11:07:28  2019-05-03 11:10:33           0.765658   \n",
              "2    1  2019-05-03 11:11:44  2019-05-03 11:14:36           0.580313   \n",
              "3    1  2019-05-03 11:18:14  2019-05-03 11:24:19           0.518496   \n",
              "4    1  2019-05-03 11:26:09  2019-05-03 11:28:37           0.867133   \n",
              "5    2  2019-05-03 11:34:14  2019-05-03 11:36:31           0.381124   \n",
              "6    2  2019-05-03 11:38:50  2019-05-03 11:44:28           0.261665   \n",
              "7    2  2019-05-03 11:46:19  2019-05-03 11:48:25           0.710297   \n",
              "8    2  2019-05-03 11:49:48  2019-05-03 11:53:18           0.786322   \n",
              "9    3  2019-05-03 12:06:54  2019-05-03 12:11:34           1.101678   \n",
              "\n",
              "   Реактивная мощность  \n",
              "0             0.211253  \n",
              "1             0.477438  \n",
              "2             0.430460  \n",
              "3             0.379979  \n",
              "4             0.643691  \n",
              "5             0.220351  \n",
              "6             0.205527  \n",
              "7             0.484962  \n",
              "8             0.542517  \n",
              "9             0.820856  "
            ]
          },
          "execution_count": 5,
          "metadata": {},
          "output_type": "execute_result"
        }
      ],
      "source": [
        "arc.head(10)"
      ]
    },
    {
      "cell_type": "code",
      "execution_count": 6,
      "metadata": {
        "colab": {
          "base_uri": "https://localhost:8080/"
        },
        "id": "TviR898UR2EB",
        "outputId": "856030eb-3102-4730-be18-4659f12e55ee"
      },
      "outputs": [
        {
          "data": {
            "text/plain": [
              "0"
            ]
          },
          "execution_count": 6,
          "metadata": {},
          "output_type": "execute_result"
        }
      ],
      "source": [
        "# Проверим данные на дубликаты:\n",
        "arc.duplicated().sum()"
      ]
    },
    {
      "attachments": {},
      "cell_type": "markdown",
      "metadata": {
        "id": "jTINiR2QR2EB"
      },
      "source": [
        "Активная мощность и реактивная мощность отличается в партиях. Будемм рассчитывать полную мощность"
      ]
    },
    {
      "cell_type": "code",
      "execution_count": 7,
      "metadata": {
        "colab": {
          "base_uri": "https://localhost:8080/"
        },
        "id": "4egN725YR2EB",
        "outputId": "2457d7a4-680d-4b64-e931-9079f31a6ad4"
      },
      "outputs": [
        {
          "name": "stdout",
          "output_type": "stream",
          "text": [
            "<class 'pandas.core.frame.DataFrame'>\n",
            "RangeIndex: 14876 entries, 0 to 14875\n",
            "Data columns (total 5 columns):\n",
            " #   Column                Non-Null Count  Dtype  \n",
            "---  ------                --------------  -----  \n",
            " 0   key                   14876 non-null  int64  \n",
            " 1   Начало нагрева дугой  14876 non-null  object \n",
            " 2   Конец нагрева дугой   14876 non-null  object \n",
            " 3   Активная мощность     14876 non-null  float64\n",
            " 4   Реактивная мощность   14876 non-null  float64\n",
            "dtypes: float64(2), int64(1), object(2)\n",
            "memory usage: 581.2+ KB\n"
          ]
        }
      ],
      "source": [
        "arc.info()"
      ]
    },
    {
      "cell_type": "code",
      "execution_count": 8,
      "metadata": {
        "id": "6mhc1wYqR2EC"
      },
      "outputs": [],
      "source": [
        "# Пропусков в этом файле нет. Приведем даты к формату Datetime:\n",
        "arc[\"Начало нагрева дугой\"] = pd.to_datetime(arc[\"Начало нагрева дугой\"])\n",
        "arc[\"Конец нагрева дугой\"] = pd.to_datetime(arc[\"Конец нагрева дугой\"])"
      ]
    },
    {
      "cell_type": "code",
      "execution_count": 9,
      "metadata": {
        "colab": {
          "base_uri": "https://localhost:8080/",
          "height": 300
        },
        "id": "VXImwu5qR2EC",
        "outputId": "4a1e14d0-cd73-4453-9677-4c2bb6c73f34"
      },
      "outputs": [
        {
          "data": {
            "text/html": [
              "<div>\n",
              "<style scoped>\n",
              "    .dataframe tbody tr th:only-of-type {\n",
              "        vertical-align: middle;\n",
              "    }\n",
              "\n",
              "    .dataframe tbody tr th {\n",
              "        vertical-align: top;\n",
              "    }\n",
              "\n",
              "    .dataframe thead th {\n",
              "        text-align: right;\n",
              "    }\n",
              "</style>\n",
              "<table border=\"1\" class=\"dataframe\">\n",
              "  <thead>\n",
              "    <tr style=\"text-align: right;\">\n",
              "      <th></th>\n",
              "      <th>key</th>\n",
              "      <th>Активная мощность</th>\n",
              "      <th>Реактивная мощность</th>\n",
              "    </tr>\n",
              "  </thead>\n",
              "  <tbody>\n",
              "    <tr>\n",
              "      <th>count</th>\n",
              "      <td>14876.000000</td>\n",
              "      <td>14876.000000</td>\n",
              "      <td>14876.000000</td>\n",
              "    </tr>\n",
              "    <tr>\n",
              "      <th>mean</th>\n",
              "      <td>1615.220422</td>\n",
              "      <td>0.662752</td>\n",
              "      <td>0.438986</td>\n",
              "    </tr>\n",
              "    <tr>\n",
              "      <th>std</th>\n",
              "      <td>934.571502</td>\n",
              "      <td>0.258885</td>\n",
              "      <td>5.873485</td>\n",
              "    </tr>\n",
              "    <tr>\n",
              "      <th>min</th>\n",
              "      <td>1.000000</td>\n",
              "      <td>0.223120</td>\n",
              "      <td>-715.479924</td>\n",
              "    </tr>\n",
              "    <tr>\n",
              "      <th>25%</th>\n",
              "      <td>806.000000</td>\n",
              "      <td>0.467115</td>\n",
              "      <td>0.337175</td>\n",
              "    </tr>\n",
              "    <tr>\n",
              "      <th>50%</th>\n",
              "      <td>1617.000000</td>\n",
              "      <td>0.599587</td>\n",
              "      <td>0.441639</td>\n",
              "    </tr>\n",
              "    <tr>\n",
              "      <th>75%</th>\n",
              "      <td>2429.000000</td>\n",
              "      <td>0.830070</td>\n",
              "      <td>0.608201</td>\n",
              "    </tr>\n",
              "    <tr>\n",
              "      <th>max</th>\n",
              "      <td>3241.000000</td>\n",
              "      <td>1.463773</td>\n",
              "      <td>1.270284</td>\n",
              "    </tr>\n",
              "  </tbody>\n",
              "</table>\n",
              "</div>"
            ],
            "text/plain": [
              "                key  Активная мощность  Реактивная мощность\n",
              "count  14876.000000       14876.000000         14876.000000\n",
              "mean    1615.220422           0.662752             0.438986\n",
              "std      934.571502           0.258885             5.873485\n",
              "min        1.000000           0.223120          -715.479924\n",
              "25%      806.000000           0.467115             0.337175\n",
              "50%     1617.000000           0.599587             0.441639\n",
              "75%     2429.000000           0.830070             0.608201\n",
              "max     3241.000000           1.463773             1.270284"
            ]
          },
          "execution_count": 9,
          "metadata": {},
          "output_type": "execute_result"
        }
      ],
      "source": [
        "arc.describe()"
      ]
    },
    {
      "cell_type": "code",
      "execution_count": 10,
      "metadata": {
        "colab": {
          "base_uri": "https://localhost:8080/"
        },
        "id": "hsen0ZqjR2EC",
        "outputId": "f735e98a-8ddf-412e-c73e-06e8e6517715"
      },
      "outputs": [
        {
          "name": "stdout",
          "output_type": "stream",
          "text": [
            "9780    2116\n",
            "Name: key, dtype: int64\n"
          ]
        }
      ],
      "source": [
        "# есть отрицательное значение в реактивной мощности – нужно удалить этот ключ целиком(требование заказчика)\n",
        "negative_power_keys = arc[arc[\"Реактивная мощность\"] < 0][\"key\"]\n",
        "print(negative_power_keys)\n",
        "# Удалить строки с отрицательной реактивной мощностью\n",
        "arc = arc[~arc[\"key\"].isin(negative_power_keys)]"
      ]
    },
    {
      "cell_type": "code",
      "execution_count": 11,
      "metadata": {
        "colab": {
          "base_uri": "https://localhost:8080/"
        },
        "id": "QRylLG4LR2EC",
        "outputId": "05737474-65ee-4498-c370-2203b91f066b"
      },
      "outputs": [
        {
          "name": "stdout",
          "output_type": "stream",
          "text": [
            "Int64Index([1268, 2841,  343, 3112,  614, 1535, 1988, 2738,  943, 1281, 2112,\n",
            "             732, 1974,  246,   49,  556, 1449, 1914, 3026,  269, 2795, 1169,\n",
            "             661, 1911, 2582,  530,  977,  247,  248, 2194, 1766, 1369, 2179,\n",
            "            1568,  112, 2472, 2025, 3059, 1615],\n",
            "           dtype='int64')\n"
          ]
        }
      ],
      "source": [
        "# Найти ключи с одним замером\n",
        "one_measurement_keys = arc[\"key\"].value_counts()[arc[\"key\"].value_counts() == 1].index\n",
        "print(one_measurement_keys)\n",
        "# Удалить строки с одним замером\n",
        "arc = arc[~arc[\"key\"].isin(one_measurement_keys)]"
      ]
    },
    {
      "cell_type": "code",
      "execution_count": 12,
      "metadata": {
        "colab": {
          "base_uri": "https://localhost:8080/",
          "height": 424
        },
        "id": "KY522sosR2ED",
        "outputId": "6878076c-213f-433d-9354-6fd1a6ed83c4"
      },
      "outputs": [
        {
          "data": {
            "text/html": [
              "<div>\n",
              "<style scoped>\n",
              "    .dataframe tbody tr th:only-of-type {\n",
              "        vertical-align: middle;\n",
              "    }\n",
              "\n",
              "    .dataframe tbody tr th {\n",
              "        vertical-align: top;\n",
              "    }\n",
              "\n",
              "    .dataframe thead th {\n",
              "        text-align: right;\n",
              "    }\n",
              "</style>\n",
              "<table border=\"1\" class=\"dataframe\">\n",
              "  <thead>\n",
              "    <tr style=\"text-align: right;\">\n",
              "      <th></th>\n",
              "      <th>key</th>\n",
              "      <th>Начало нагрева дугой</th>\n",
              "      <th>Конец нагрева дугой</th>\n",
              "      <th>Активная мощность</th>\n",
              "      <th>Реактивная мощность</th>\n",
              "      <th>time</th>\n",
              "    </tr>\n",
              "  </thead>\n",
              "  <tbody>\n",
              "    <tr>\n",
              "      <th>0</th>\n",
              "      <td>1</td>\n",
              "      <td>2019-05-03 11:02:14</td>\n",
              "      <td>2019-05-03 11:06:02</td>\n",
              "      <td>0.305130</td>\n",
              "      <td>0.211253</td>\n",
              "      <td>228.0</td>\n",
              "    </tr>\n",
              "    <tr>\n",
              "      <th>1</th>\n",
              "      <td>1</td>\n",
              "      <td>2019-05-03 11:07:28</td>\n",
              "      <td>2019-05-03 11:10:33</td>\n",
              "      <td>0.765658</td>\n",
              "      <td>0.477438</td>\n",
              "      <td>185.0</td>\n",
              "    </tr>\n",
              "    <tr>\n",
              "      <th>2</th>\n",
              "      <td>1</td>\n",
              "      <td>2019-05-03 11:11:44</td>\n",
              "      <td>2019-05-03 11:14:36</td>\n",
              "      <td>0.580313</td>\n",
              "      <td>0.430460</td>\n",
              "      <td>172.0</td>\n",
              "    </tr>\n",
              "    <tr>\n",
              "      <th>3</th>\n",
              "      <td>1</td>\n",
              "      <td>2019-05-03 11:18:14</td>\n",
              "      <td>2019-05-03 11:24:19</td>\n",
              "      <td>0.518496</td>\n",
              "      <td>0.379979</td>\n",
              "      <td>365.0</td>\n",
              "    </tr>\n",
              "    <tr>\n",
              "      <th>4</th>\n",
              "      <td>1</td>\n",
              "      <td>2019-05-03 11:26:09</td>\n",
              "      <td>2019-05-03 11:28:37</td>\n",
              "      <td>0.867133</td>\n",
              "      <td>0.643691</td>\n",
              "      <td>148.0</td>\n",
              "    </tr>\n",
              "    <tr>\n",
              "      <th>...</th>\n",
              "      <td>...</td>\n",
              "      <td>...</td>\n",
              "      <td>...</td>\n",
              "      <td>...</td>\n",
              "      <td>...</td>\n",
              "      <td>...</td>\n",
              "    </tr>\n",
              "    <tr>\n",
              "      <th>14871</th>\n",
              "      <td>3241</td>\n",
              "      <td>2019-09-06 16:49:05</td>\n",
              "      <td>2019-09-06 16:51:42</td>\n",
              "      <td>0.439735</td>\n",
              "      <td>0.299579</td>\n",
              "      <td>157.0</td>\n",
              "    </tr>\n",
              "    <tr>\n",
              "      <th>14872</th>\n",
              "      <td>3241</td>\n",
              "      <td>2019-09-06 16:55:11</td>\n",
              "      <td>2019-09-06 16:58:11</td>\n",
              "      <td>0.646498</td>\n",
              "      <td>0.458240</td>\n",
              "      <td>180.0</td>\n",
              "    </tr>\n",
              "    <tr>\n",
              "      <th>14873</th>\n",
              "      <td>3241</td>\n",
              "      <td>2019-09-06 17:06:48</td>\n",
              "      <td>2019-09-06 17:09:52</td>\n",
              "      <td>1.039726</td>\n",
              "      <td>0.769302</td>\n",
              "      <td>184.0</td>\n",
              "    </tr>\n",
              "    <tr>\n",
              "      <th>14874</th>\n",
              "      <td>3241</td>\n",
              "      <td>2019-09-06 17:21:58</td>\n",
              "      <td>2019-09-06 17:22:55</td>\n",
              "      <td>0.530267</td>\n",
              "      <td>0.361543</td>\n",
              "      <td>57.0</td>\n",
              "    </tr>\n",
              "    <tr>\n",
              "      <th>14875</th>\n",
              "      <td>3241</td>\n",
              "      <td>2019-09-06 17:24:54</td>\n",
              "      <td>2019-09-06 17:26:15</td>\n",
              "      <td>0.389057</td>\n",
              "      <td>0.251347</td>\n",
              "      <td>81.0</td>\n",
              "    </tr>\n",
              "  </tbody>\n",
              "</table>\n",
              "<p>14833 rows × 6 columns</p>\n",
              "</div>"
            ],
            "text/plain": [
              "        key Начало нагрева дугой Конец нагрева дугой  Активная мощность  \\\n",
              "0         1  2019-05-03 11:02:14 2019-05-03 11:06:02           0.305130   \n",
              "1         1  2019-05-03 11:07:28 2019-05-03 11:10:33           0.765658   \n",
              "2         1  2019-05-03 11:11:44 2019-05-03 11:14:36           0.580313   \n",
              "3         1  2019-05-03 11:18:14 2019-05-03 11:24:19           0.518496   \n",
              "4         1  2019-05-03 11:26:09 2019-05-03 11:28:37           0.867133   \n",
              "...     ...                  ...                 ...                ...   \n",
              "14871  3241  2019-09-06 16:49:05 2019-09-06 16:51:42           0.439735   \n",
              "14872  3241  2019-09-06 16:55:11 2019-09-06 16:58:11           0.646498   \n",
              "14873  3241  2019-09-06 17:06:48 2019-09-06 17:09:52           1.039726   \n",
              "14874  3241  2019-09-06 17:21:58 2019-09-06 17:22:55           0.530267   \n",
              "14875  3241  2019-09-06 17:24:54 2019-09-06 17:26:15           0.389057   \n",
              "\n",
              "       Реактивная мощность   time  \n",
              "0                 0.211253  228.0  \n",
              "1                 0.477438  185.0  \n",
              "2                 0.430460  172.0  \n",
              "3                 0.379979  365.0  \n",
              "4                 0.643691  148.0  \n",
              "...                    ...    ...  \n",
              "14871             0.299579  157.0  \n",
              "14872             0.458240  180.0  \n",
              "14873             0.769302  184.0  \n",
              "14874             0.361543   57.0  \n",
              "14875             0.251347   81.0  \n",
              "\n",
              "[14833 rows x 6 columns]"
            ]
          },
          "execution_count": 12,
          "metadata": {},
          "output_type": "execute_result"
        }
      ],
      "source": [
        "# Высчитаем время нагрева и полную мощность.\n",
        "arc[\"time\"] = (arc[\"Конец нагрева дугой\"] - arc[\"Начало нагрева дугой\"]).dt.total_seconds()\n",
        "arc"
      ]
    },
    {
      "cell_type": "code",
      "execution_count": 13,
      "metadata": {
        "colab": {
          "base_uri": "https://localhost:8080/",
          "height": 424
        },
        "id": "flEgKgoXR2ED",
        "outputId": "ec7696b7-7119-4ffe-b82b-05bafd96da78"
      },
      "outputs": [
        {
          "data": {
            "text/html": [
              "<div>\n",
              "<style scoped>\n",
              "    .dataframe tbody tr th:only-of-type {\n",
              "        vertical-align: middle;\n",
              "    }\n",
              "\n",
              "    .dataframe tbody tr th {\n",
              "        vertical-align: top;\n",
              "    }\n",
              "\n",
              "    .dataframe thead th {\n",
              "        text-align: right;\n",
              "    }\n",
              "</style>\n",
              "<table border=\"1\" class=\"dataframe\">\n",
              "  <thead>\n",
              "    <tr style=\"text-align: right;\">\n",
              "      <th></th>\n",
              "      <th>key</th>\n",
              "      <th>Начало нагрева дугой</th>\n",
              "      <th>Конец нагрева дугой</th>\n",
              "      <th>Активная мощность</th>\n",
              "      <th>Реактивная мощность</th>\n",
              "      <th>time</th>\n",
              "      <th>capacity</th>\n",
              "      <th>power</th>\n",
              "      <th>act_power</th>\n",
              "    </tr>\n",
              "  </thead>\n",
              "  <tbody>\n",
              "    <tr>\n",
              "      <th>0</th>\n",
              "      <td>1</td>\n",
              "      <td>2019-05-03 11:02:14</td>\n",
              "      <td>2019-05-03 11:06:02</td>\n",
              "      <td>0.305130</td>\n",
              "      <td>0.211253</td>\n",
              "      <td>228.0</td>\n",
              "      <td>0.371123</td>\n",
              "      <td>84.616003</td>\n",
              "      <td>69.569640</td>\n",
              "    </tr>\n",
              "    <tr>\n",
              "      <th>1</th>\n",
              "      <td>1</td>\n",
              "      <td>2019-05-03 11:07:28</td>\n",
              "      <td>2019-05-03 11:10:33</td>\n",
              "      <td>0.765658</td>\n",
              "      <td>0.477438</td>\n",
              "      <td>185.0</td>\n",
              "      <td>0.902319</td>\n",
              "      <td>166.928978</td>\n",
              "      <td>141.646730</td>\n",
              "    </tr>\n",
              "    <tr>\n",
              "      <th>2</th>\n",
              "      <td>1</td>\n",
              "      <td>2019-05-03 11:11:44</td>\n",
              "      <td>2019-05-03 11:14:36</td>\n",
              "      <td>0.580313</td>\n",
              "      <td>0.430460</td>\n",
              "      <td>172.0</td>\n",
              "      <td>0.722536</td>\n",
              "      <td>124.276277</td>\n",
              "      <td>99.813836</td>\n",
              "    </tr>\n",
              "    <tr>\n",
              "      <th>3</th>\n",
              "      <td>1</td>\n",
              "      <td>2019-05-03 11:18:14</td>\n",
              "      <td>2019-05-03 11:24:19</td>\n",
              "      <td>0.518496</td>\n",
              "      <td>0.379979</td>\n",
              "      <td>365.0</td>\n",
              "      <td>0.642824</td>\n",
              "      <td>234.630603</td>\n",
              "      <td>189.251040</td>\n",
              "    </tr>\n",
              "    <tr>\n",
              "      <th>4</th>\n",
              "      <td>1</td>\n",
              "      <td>2019-05-03 11:26:09</td>\n",
              "      <td>2019-05-03 11:28:37</td>\n",
              "      <td>0.867133</td>\n",
              "      <td>0.643691</td>\n",
              "      <td>148.0</td>\n",
              "      <td>1.079934</td>\n",
              "      <td>159.830252</td>\n",
              "      <td>128.335684</td>\n",
              "    </tr>\n",
              "    <tr>\n",
              "      <th>...</th>\n",
              "      <td>...</td>\n",
              "      <td>...</td>\n",
              "      <td>...</td>\n",
              "      <td>...</td>\n",
              "      <td>...</td>\n",
              "      <td>...</td>\n",
              "      <td>...</td>\n",
              "      <td>...</td>\n",
              "      <td>...</td>\n",
              "    </tr>\n",
              "    <tr>\n",
              "      <th>14871</th>\n",
              "      <td>3241</td>\n",
              "      <td>2019-09-06 16:49:05</td>\n",
              "      <td>2019-09-06 16:51:42</td>\n",
              "      <td>0.439735</td>\n",
              "      <td>0.299579</td>\n",
              "      <td>157.0</td>\n",
              "      <td>0.532085</td>\n",
              "      <td>83.537345</td>\n",
              "      <td>69.038395</td>\n",
              "    </tr>\n",
              "    <tr>\n",
              "      <th>14872</th>\n",
              "      <td>3241</td>\n",
              "      <td>2019-09-06 16:55:11</td>\n",
              "      <td>2019-09-06 16:58:11</td>\n",
              "      <td>0.646498</td>\n",
              "      <td>0.458240</td>\n",
              "      <td>180.0</td>\n",
              "      <td>0.792429</td>\n",
              "      <td>142.637202</td>\n",
              "      <td>116.369640</td>\n",
              "    </tr>\n",
              "    <tr>\n",
              "      <th>14873</th>\n",
              "      <td>3241</td>\n",
              "      <td>2019-09-06 17:06:48</td>\n",
              "      <td>2019-09-06 17:09:52</td>\n",
              "      <td>1.039726</td>\n",
              "      <td>0.769302</td>\n",
              "      <td>184.0</td>\n",
              "      <td>1.293389</td>\n",
              "      <td>237.983620</td>\n",
              "      <td>191.309584</td>\n",
              "    </tr>\n",
              "    <tr>\n",
              "      <th>14874</th>\n",
              "      <td>3241</td>\n",
              "      <td>2019-09-06 17:21:58</td>\n",
              "      <td>2019-09-06 17:22:55</td>\n",
              "      <td>0.530267</td>\n",
              "      <td>0.361543</td>\n",
              "      <td>57.0</td>\n",
              "      <td>0.641792</td>\n",
              "      <td>36.582120</td>\n",
              "      <td>30.225219</td>\n",
              "    </tr>\n",
              "    <tr>\n",
              "      <th>14875</th>\n",
              "      <td>3241</td>\n",
              "      <td>2019-09-06 17:24:54</td>\n",
              "      <td>2019-09-06 17:26:15</td>\n",
              "      <td>0.389057</td>\n",
              "      <td>0.251347</td>\n",
              "      <td>81.0</td>\n",
              "      <td>0.463185</td>\n",
              "      <td>37.518013</td>\n",
              "      <td>31.513617</td>\n",
              "    </tr>\n",
              "  </tbody>\n",
              "</table>\n",
              "<p>14833 rows × 9 columns</p>\n",
              "</div>"
            ],
            "text/plain": [
              "        key Начало нагрева дугой Конец нагрева дугой  Активная мощность  \\\n",
              "0         1  2019-05-03 11:02:14 2019-05-03 11:06:02           0.305130   \n",
              "1         1  2019-05-03 11:07:28 2019-05-03 11:10:33           0.765658   \n",
              "2         1  2019-05-03 11:11:44 2019-05-03 11:14:36           0.580313   \n",
              "3         1  2019-05-03 11:18:14 2019-05-03 11:24:19           0.518496   \n",
              "4         1  2019-05-03 11:26:09 2019-05-03 11:28:37           0.867133   \n",
              "...     ...                  ...                 ...                ...   \n",
              "14871  3241  2019-09-06 16:49:05 2019-09-06 16:51:42           0.439735   \n",
              "14872  3241  2019-09-06 16:55:11 2019-09-06 16:58:11           0.646498   \n",
              "14873  3241  2019-09-06 17:06:48 2019-09-06 17:09:52           1.039726   \n",
              "14874  3241  2019-09-06 17:21:58 2019-09-06 17:22:55           0.530267   \n",
              "14875  3241  2019-09-06 17:24:54 2019-09-06 17:26:15           0.389057   \n",
              "\n",
              "       Реактивная мощность   time  capacity       power   act_power  \n",
              "0                 0.211253  228.0  0.371123   84.616003   69.569640  \n",
              "1                 0.477438  185.0  0.902319  166.928978  141.646730  \n",
              "2                 0.430460  172.0  0.722536  124.276277   99.813836  \n",
              "3                 0.379979  365.0  0.642824  234.630603  189.251040  \n",
              "4                 0.643691  148.0  1.079934  159.830252  128.335684  \n",
              "...                    ...    ...       ...         ...         ...  \n",
              "14871             0.299579  157.0  0.532085   83.537345   69.038395  \n",
              "14872             0.458240  180.0  0.792429  142.637202  116.369640  \n",
              "14873             0.769302  184.0  1.293389  237.983620  191.309584  \n",
              "14874             0.361543   57.0  0.641792   36.582120   30.225219  \n",
              "14875             0.251347   81.0  0.463185   37.518013   31.513617  \n",
              "\n",
              "[14833 rows x 9 columns]"
            ]
          },
          "execution_count": 13,
          "metadata": {},
          "output_type": "execute_result"
        }
      ],
      "source": [
        "# Полная мощность рассчитывается как квадратный корень из суммы квадратов активной и реактивной мощностей.\n",
        "arc[\"capacity\"] = (\n",
        "    arc[\"Активная мощность\"] ** 2 + arc[\"Реактивная мощность\"] ** 2\n",
        ") ** 0.5\n",
        "arc[\"power\"] = arc[\"capacity\"] * arc[\"time\"]\n",
        "arc[\"act_power\"] = arc[\"Активная мощность\"] * arc[\"time\"]\n",
        "arc"
      ]
    },
    {
      "cell_type": "code",
      "execution_count": 14,
      "metadata": {
        "colab": {
          "base_uri": "https://localhost:8080/",
          "height": 455
        },
        "id": "G7I6vC5IR2ED",
        "outputId": "05a07e57-5dd9-455f-9ce4-68680c7502f5"
      },
      "outputs": [
        {
          "data": {
            "text/html": [
              "<div>\n",
              "<style scoped>\n",
              "    .dataframe tbody tr th:only-of-type {\n",
              "        vertical-align: middle;\n",
              "    }\n",
              "\n",
              "    .dataframe tbody tr th {\n",
              "        vertical-align: top;\n",
              "    }\n",
              "\n",
              "    .dataframe thead th {\n",
              "        text-align: right;\n",
              "    }\n",
              "</style>\n",
              "<table border=\"1\" class=\"dataframe\">\n",
              "  <thead>\n",
              "    <tr style=\"text-align: right;\">\n",
              "      <th></th>\n",
              "      <th>time</th>\n",
              "      <th>power</th>\n",
              "      <th>act_power</th>\n",
              "    </tr>\n",
              "    <tr>\n",
              "      <th>key</th>\n",
              "      <th></th>\n",
              "      <th></th>\n",
              "      <th></th>\n",
              "    </tr>\n",
              "  </thead>\n",
              "  <tbody>\n",
              "    <tr>\n",
              "      <th>1</th>\n",
              "      <td>1098.0</td>\n",
              "      <td>770.282114</td>\n",
              "      <td>628.616930</td>\n",
              "    </tr>\n",
              "    <tr>\n",
              "      <th>2</th>\n",
              "      <td>811.0</td>\n",
              "      <td>481.760005</td>\n",
              "      <td>395.281800</td>\n",
              "    </tr>\n",
              "    <tr>\n",
              "      <th>3</th>\n",
              "      <td>655.0</td>\n",
              "      <td>722.837668</td>\n",
              "      <td>581.774624</td>\n",
              "    </tr>\n",
              "    <tr>\n",
              "      <th>4</th>\n",
              "      <td>741.0</td>\n",
              "      <td>683.455597</td>\n",
              "      <td>543.710274</td>\n",
              "    </tr>\n",
              "    <tr>\n",
              "      <th>5</th>\n",
              "      <td>869.0</td>\n",
              "      <td>512.169934</td>\n",
              "      <td>412.180480</td>\n",
              "    </tr>\n",
              "    <tr>\n",
              "      <th>...</th>\n",
              "      <td>...</td>\n",
              "      <td>...</td>\n",
              "      <td>...</td>\n",
              "    </tr>\n",
              "    <tr>\n",
              "      <th>3237</th>\n",
              "      <td>909.0</td>\n",
              "      <td>630.503534</td>\n",
              "      <td>493.152191</td>\n",
              "    </tr>\n",
              "    <tr>\n",
              "      <th>3238</th>\n",
              "      <td>546.0</td>\n",
              "      <td>286.052252</td>\n",
              "      <td>229.390861</td>\n",
              "    </tr>\n",
              "    <tr>\n",
              "      <th>3239</th>\n",
              "      <td>1216.0</td>\n",
              "      <td>941.538764</td>\n",
              "      <td>751.674870</td>\n",
              "    </tr>\n",
              "    <tr>\n",
              "      <th>3240</th>\n",
              "      <td>839.0</td>\n",
              "      <td>657.439848</td>\n",
              "      <td>530.736187</td>\n",
              "    </tr>\n",
              "    <tr>\n",
              "      <th>3241</th>\n",
              "      <td>659.0</td>\n",
              "      <td>538.258300</td>\n",
              "      <td>438.456455</td>\n",
              "    </tr>\n",
              "  </tbody>\n",
              "</table>\n",
              "<p>3174 rows × 3 columns</p>\n",
              "</div>"
            ],
            "text/plain": [
              "        time       power   act_power\n",
              "key                                 \n",
              "1     1098.0  770.282114  628.616930\n",
              "2      811.0  481.760005  395.281800\n",
              "3      655.0  722.837668  581.774624\n",
              "4      741.0  683.455597  543.710274\n",
              "5      869.0  512.169934  412.180480\n",
              "...      ...         ...         ...\n",
              "3237   909.0  630.503534  493.152191\n",
              "3238   546.0  286.052252  229.390861\n",
              "3239  1216.0  941.538764  751.674870\n",
              "3240   839.0  657.439848  530.736187\n",
              "3241   659.0  538.258300  438.456455\n",
              "\n",
              "[3174 rows x 3 columns]"
            ]
          },
          "execution_count": 14,
          "metadata": {},
          "output_type": "execute_result"
        }
      ],
      "source": [
        "# Сгруппируем данные по партиям и для каждой партии высчитаем суммарное потребление энергии на основе полной мощности (power) и активной мощности (act_power):\n",
        "arc = (arc.groupby(\"key\").agg({\"time\": sum, \"power\": sum, \"act_power\": sum}).reset_index())\n",
        "arc.set_index(\"key\", inplace=True)\n",
        "arc"
      ]
    },
    {
      "cell_type": "code",
      "execution_count": 15,
      "metadata": {
        "colab": {
          "base_uri": "https://localhost:8080/",
          "height": 619
        },
        "id": "sUfN6crSR2ED",
        "outputId": "2ff69360-8e63-4dd5-a849-78e9563c8975"
      },
      "outputs": [
        {
          "data": {
            "image/png": "[encoded data removed]",
            "text/plain": [
              "<Figure size 1400x700 with 1 Axes>"
            ]
          },
          "metadata": {},
          "output_type": "display_data"
        }
      ],
      "source": [
        "# График зависимости времени от мощности и полной мощности\n",
        "\n",
        "plt.figure(figsize=(14, 7))\n",
        "\n",
        "plt.scatter(arc[\"time\"], arc[\"power\"], alpha=0.5, label=\"Полная мощность\")\n",
        "plt.scatter(arc[\"time\"], arc[\"act_power\"], alpha=0.5, label=\"Активная мощность\")\n",
        "plt.xlabel(\"Время нагрева (секунды)\")\n",
        "plt.ylabel(\"Мощность\")\n",
        "plt.legend()\n",
        "\n",
        "plt.show()"
      ]
    },
    {
      "attachments": {},
      "cell_type": "markdown",
      "metadata": {
        "id": "1KhKsTksR2EE"
      },
      "source": [
        "#### Обобщение по arc"
      ]
    },
    {
      "attachments": {},
      "cell_type": "markdown",
      "metadata": {
        "id": "a73C8brKR2EE"
      },
      "source": [
        "1. Привели колонки  временем к формату datatime\n",
        "2. Есть отрицательное значение мощности - ключ удалили целиком(требование заказчика)\n",
        "3. Нашли ключи с одним замером и удалили их(требование заказчика)\n",
        "4. Высчитаем время нагрева и полную мощность.\n",
        "5. Сгруппировали данные по партиям и для каждой партии высчитаем суммарное потребление энергии на основе полной мощности (power) и активной мощности\n",
        "6. Построили график зависимости мощности от времени. Чем больше время нагрева тем больше мощность\n",
        "7. Пропуски и дубликаты отсутствуют\n"
      ]
    },
    {
      "attachments": {},
      "cell_type": "markdown",
      "metadata": {
        "id": "EbLMVPs1R2EE"
      },
      "source": [
        "### Данные об объеме сыпучих и проволочных материалов, а также о времени их подачи\n"
      ]
    },
    {
      "attachments": {},
      "cell_type": "markdown",
      "metadata": {
        "id": "_2HibmnfR2EE"
      },
      "source": [
        "#### Сыпучие материалы"
      ]
    },
    {
      "cell_type": "code",
      "execution_count": 16,
      "metadata": {
        "colab": {
          "base_uri": "https://localhost:8080/",
          "height": 206
        },
        "id": "nAeL_FnxR2EE",
        "outputId": "d78f2e55-fa31-4f4b-80e0-b8f9571dd265"
      },
      "outputs": [
        {
          "data": {
            "text/html": [
              "<div>\n",
              "<style scoped>\n",
              "    .dataframe tbody tr th:only-of-type {\n",
              "        vertical-align: middle;\n",
              "    }\n",
              "\n",
              "    .dataframe tbody tr th {\n",
              "        vertical-align: top;\n",
              "    }\n",
              "\n",
              "    .dataframe thead th {\n",
              "        text-align: right;\n",
              "    }\n",
              "</style>\n",
              "<table border=\"1\" class=\"dataframe\">\n",
              "  <thead>\n",
              "    <tr style=\"text-align: right;\">\n",
              "      <th></th>\n",
              "      <th>key</th>\n",
              "      <th>Bulk 1</th>\n",
              "      <th>Bulk 2</th>\n",
              "      <th>Bulk 3</th>\n",
              "      <th>Bulk 4</th>\n",
              "      <th>Bulk 5</th>\n",
              "      <th>Bulk 6</th>\n",
              "      <th>Bulk 7</th>\n",
              "      <th>Bulk 8</th>\n",
              "      <th>Bulk 9</th>\n",
              "      <th>Bulk 10</th>\n",
              "      <th>Bulk 11</th>\n",
              "      <th>Bulk 12</th>\n",
              "      <th>Bulk 13</th>\n",
              "      <th>Bulk 14</th>\n",
              "      <th>Bulk 15</th>\n",
              "    </tr>\n",
              "  </thead>\n",
              "  <tbody>\n",
              "    <tr>\n",
              "      <th>0</th>\n",
              "      <td>1</td>\n",
              "      <td>NaN</td>\n",
              "      <td>NaN</td>\n",
              "      <td>NaN</td>\n",
              "      <td>43.0</td>\n",
              "      <td>NaN</td>\n",
              "      <td>NaN</td>\n",
              "      <td>NaN</td>\n",
              "      <td>NaN</td>\n",
              "      <td>NaN</td>\n",
              "      <td>NaN</td>\n",
              "      <td>NaN</td>\n",
              "      <td>206.0</td>\n",
              "      <td>NaN</td>\n",
              "      <td>150.0</td>\n",
              "      <td>154.0</td>\n",
              "    </tr>\n",
              "    <tr>\n",
              "      <th>1</th>\n",
              "      <td>2</td>\n",
              "      <td>NaN</td>\n",
              "      <td>NaN</td>\n",
              "      <td>NaN</td>\n",
              "      <td>73.0</td>\n",
              "      <td>NaN</td>\n",
              "      <td>NaN</td>\n",
              "      <td>NaN</td>\n",
              "      <td>NaN</td>\n",
              "      <td>NaN</td>\n",
              "      <td>NaN</td>\n",
              "      <td>NaN</td>\n",
              "      <td>206.0</td>\n",
              "      <td>NaN</td>\n",
              "      <td>149.0</td>\n",
              "      <td>154.0</td>\n",
              "    </tr>\n",
              "    <tr>\n",
              "      <th>2</th>\n",
              "      <td>3</td>\n",
              "      <td>NaN</td>\n",
              "      <td>NaN</td>\n",
              "      <td>NaN</td>\n",
              "      <td>34.0</td>\n",
              "      <td>NaN</td>\n",
              "      <td>NaN</td>\n",
              "      <td>NaN</td>\n",
              "      <td>NaN</td>\n",
              "      <td>NaN</td>\n",
              "      <td>NaN</td>\n",
              "      <td>NaN</td>\n",
              "      <td>205.0</td>\n",
              "      <td>NaN</td>\n",
              "      <td>152.0</td>\n",
              "      <td>153.0</td>\n",
              "    </tr>\n",
              "    <tr>\n",
              "      <th>3</th>\n",
              "      <td>4</td>\n",
              "      <td>NaN</td>\n",
              "      <td>NaN</td>\n",
              "      <td>NaN</td>\n",
              "      <td>81.0</td>\n",
              "      <td>NaN</td>\n",
              "      <td>NaN</td>\n",
              "      <td>NaN</td>\n",
              "      <td>NaN</td>\n",
              "      <td>NaN</td>\n",
              "      <td>NaN</td>\n",
              "      <td>NaN</td>\n",
              "      <td>207.0</td>\n",
              "      <td>NaN</td>\n",
              "      <td>153.0</td>\n",
              "      <td>154.0</td>\n",
              "    </tr>\n",
              "    <tr>\n",
              "      <th>4</th>\n",
              "      <td>5</td>\n",
              "      <td>NaN</td>\n",
              "      <td>NaN</td>\n",
              "      <td>NaN</td>\n",
              "      <td>78.0</td>\n",
              "      <td>NaN</td>\n",
              "      <td>NaN</td>\n",
              "      <td>NaN</td>\n",
              "      <td>NaN</td>\n",
              "      <td>NaN</td>\n",
              "      <td>NaN</td>\n",
              "      <td>NaN</td>\n",
              "      <td>203.0</td>\n",
              "      <td>NaN</td>\n",
              "      <td>151.0</td>\n",
              "      <td>152.0</td>\n",
              "    </tr>\n",
              "  </tbody>\n",
              "</table>\n",
              "</div>"
            ],
            "text/plain": [
              "   key  Bulk 1  Bulk 2  Bulk 3  Bulk 4  Bulk 5  Bulk 6  Bulk 7  Bulk 8  \\\n",
              "0    1     NaN     NaN     NaN    43.0     NaN     NaN     NaN     NaN   \n",
              "1    2     NaN     NaN     NaN    73.0     NaN     NaN     NaN     NaN   \n",
              "2    3     NaN     NaN     NaN    34.0     NaN     NaN     NaN     NaN   \n",
              "3    4     NaN     NaN     NaN    81.0     NaN     NaN     NaN     NaN   \n",
              "4    5     NaN     NaN     NaN    78.0     NaN     NaN     NaN     NaN   \n",
              "\n",
              "   Bulk 9  Bulk 10  Bulk 11  Bulk 12  Bulk 13  Bulk 14  Bulk 15  \n",
              "0     NaN      NaN      NaN    206.0      NaN    150.0    154.0  \n",
              "1     NaN      NaN      NaN    206.0      NaN    149.0    154.0  \n",
              "2     NaN      NaN      NaN    205.0      NaN    152.0    153.0  \n",
              "3     NaN      NaN      NaN    207.0      NaN    153.0    154.0  \n",
              "4     NaN      NaN      NaN    203.0      NaN    151.0    152.0  "
            ]
          },
          "execution_count": 16,
          "metadata": {},
          "output_type": "execute_result"
        }
      ],
      "source": [
        "bulk.head()"
      ]
    },
    {
      "cell_type": "code",
      "execution_count": 17,
      "metadata": {
        "colab": {
          "base_uri": "https://localhost:8080/",
          "height": 206
        },
        "id": "VsCTkn3HR2EE",
        "outputId": "46dd1926-f0de-4a8f-e683-63a31df14e29"
      },
      "outputs": [
        {
          "data": {
            "text/html": [
              "<div>\n",
              "<style scoped>\n",
              "    .dataframe tbody tr th:only-of-type {\n",
              "        vertical-align: middle;\n",
              "    }\n",
              "\n",
              "    .dataframe tbody tr th {\n",
              "        vertical-align: top;\n",
              "    }\n",
              "\n",
              "    .dataframe thead th {\n",
              "        text-align: right;\n",
              "    }\n",
              "</style>\n",
              "<table border=\"1\" class=\"dataframe\">\n",
              "  <thead>\n",
              "    <tr style=\"text-align: right;\">\n",
              "      <th></th>\n",
              "      <th>key</th>\n",
              "      <th>Bulk 1</th>\n",
              "      <th>Bulk 2</th>\n",
              "      <th>Bulk 3</th>\n",
              "      <th>Bulk 4</th>\n",
              "      <th>Bulk 5</th>\n",
              "      <th>Bulk 6</th>\n",
              "      <th>Bulk 7</th>\n",
              "      <th>Bulk 8</th>\n",
              "      <th>Bulk 9</th>\n",
              "      <th>Bulk 10</th>\n",
              "      <th>Bulk 11</th>\n",
              "      <th>Bulk 12</th>\n",
              "      <th>Bulk 13</th>\n",
              "      <th>Bulk 14</th>\n",
              "      <th>Bulk 15</th>\n",
              "    </tr>\n",
              "  </thead>\n",
              "  <tbody>\n",
              "    <tr>\n",
              "      <th>0</th>\n",
              "      <td>1</td>\n",
              "      <td>NaN</td>\n",
              "      <td>NaN</td>\n",
              "      <td>NaN</td>\n",
              "      <td>2019-05-03 11:28:48</td>\n",
              "      <td>NaN</td>\n",
              "      <td>NaN</td>\n",
              "      <td>NaN</td>\n",
              "      <td>NaN</td>\n",
              "      <td>NaN</td>\n",
              "      <td>NaN</td>\n",
              "      <td>NaN</td>\n",
              "      <td>2019-05-03 11:24:31</td>\n",
              "      <td>NaN</td>\n",
              "      <td>2019-05-03 11:14:50</td>\n",
              "      <td>2019-05-03 11:10:43</td>\n",
              "    </tr>\n",
              "    <tr>\n",
              "      <th>1</th>\n",
              "      <td>2</td>\n",
              "      <td>NaN</td>\n",
              "      <td>NaN</td>\n",
              "      <td>NaN</td>\n",
              "      <td>2019-05-03 11:36:50</td>\n",
              "      <td>NaN</td>\n",
              "      <td>NaN</td>\n",
              "      <td>NaN</td>\n",
              "      <td>NaN</td>\n",
              "      <td>NaN</td>\n",
              "      <td>NaN</td>\n",
              "      <td>NaN</td>\n",
              "      <td>2019-05-03 11:53:30</td>\n",
              "      <td>NaN</td>\n",
              "      <td>2019-05-03 11:48:37</td>\n",
              "      <td>2019-05-03 11:44:39</td>\n",
              "    </tr>\n",
              "    <tr>\n",
              "      <th>2</th>\n",
              "      <td>3</td>\n",
              "      <td>NaN</td>\n",
              "      <td>NaN</td>\n",
              "      <td>NaN</td>\n",
              "      <td>2019-05-03 12:32:39</td>\n",
              "      <td>NaN</td>\n",
              "      <td>NaN</td>\n",
              "      <td>NaN</td>\n",
              "      <td>NaN</td>\n",
              "      <td>NaN</td>\n",
              "      <td>NaN</td>\n",
              "      <td>NaN</td>\n",
              "      <td>2019-05-03 12:27:13</td>\n",
              "      <td>NaN</td>\n",
              "      <td>2019-05-03 12:21:01</td>\n",
              "      <td>2019-05-03 12:16:16</td>\n",
              "    </tr>\n",
              "    <tr>\n",
              "      <th>3</th>\n",
              "      <td>4</td>\n",
              "      <td>NaN</td>\n",
              "      <td>NaN</td>\n",
              "      <td>NaN</td>\n",
              "      <td>2019-05-03 12:43:22</td>\n",
              "      <td>NaN</td>\n",
              "      <td>NaN</td>\n",
              "      <td>NaN</td>\n",
              "      <td>NaN</td>\n",
              "      <td>NaN</td>\n",
              "      <td>NaN</td>\n",
              "      <td>NaN</td>\n",
              "      <td>2019-05-03 12:58:00</td>\n",
              "      <td>NaN</td>\n",
              "      <td>2019-05-03 12:51:11</td>\n",
              "      <td>2019-05-03 12:46:36</td>\n",
              "    </tr>\n",
              "    <tr>\n",
              "      <th>4</th>\n",
              "      <td>5</td>\n",
              "      <td>NaN</td>\n",
              "      <td>NaN</td>\n",
              "      <td>NaN</td>\n",
              "      <td>2019-05-03 13:30:47</td>\n",
              "      <td>NaN</td>\n",
              "      <td>NaN</td>\n",
              "      <td>NaN</td>\n",
              "      <td>NaN</td>\n",
              "      <td>NaN</td>\n",
              "      <td>NaN</td>\n",
              "      <td>NaN</td>\n",
              "      <td>2019-05-03 13:30:47</td>\n",
              "      <td>NaN</td>\n",
              "      <td>2019-05-03 13:34:12</td>\n",
              "      <td>2019-05-03 13:30:47</td>\n",
              "    </tr>\n",
              "  </tbody>\n",
              "</table>\n",
              "</div>"
            ],
            "text/plain": [
              "   key Bulk 1 Bulk 2 Bulk 3               Bulk 4 Bulk 5 Bulk 6 Bulk 7 Bulk 8  \\\n",
              "0    1    NaN    NaN    NaN  2019-05-03 11:28:48    NaN    NaN    NaN    NaN   \n",
              "1    2    NaN    NaN    NaN  2019-05-03 11:36:50    NaN    NaN    NaN    NaN   \n",
              "2    3    NaN    NaN    NaN  2019-05-03 12:32:39    NaN    NaN    NaN    NaN   \n",
              "3    4    NaN    NaN    NaN  2019-05-03 12:43:22    NaN    NaN    NaN    NaN   \n",
              "4    5    NaN    NaN    NaN  2019-05-03 13:30:47    NaN    NaN    NaN    NaN   \n",
              "\n",
              "  Bulk 9 Bulk 10 Bulk 11              Bulk 12 Bulk 13              Bulk 14  \\\n",
              "0    NaN     NaN     NaN  2019-05-03 11:24:31     NaN  2019-05-03 11:14:50   \n",
              "1    NaN     NaN     NaN  2019-05-03 11:53:30     NaN  2019-05-03 11:48:37   \n",
              "2    NaN     NaN     NaN  2019-05-03 12:27:13     NaN  2019-05-03 12:21:01   \n",
              "3    NaN     NaN     NaN  2019-05-03 12:58:00     NaN  2019-05-03 12:51:11   \n",
              "4    NaN     NaN     NaN  2019-05-03 13:30:47     NaN  2019-05-03 13:34:12   \n",
              "\n",
              "               Bulk 15  \n",
              "0  2019-05-03 11:10:43  \n",
              "1  2019-05-03 11:44:39  \n",
              "2  2019-05-03 12:16:16  \n",
              "3  2019-05-03 12:46:36  \n",
              "4  2019-05-03 13:30:47  "
            ]
          },
          "execution_count": 17,
          "metadata": {},
          "output_type": "execute_result"
        }
      ],
      "source": [
        "bulk_time.head()"
      ]
    },
    {
      "cell_type": "code",
      "execution_count": 18,
      "metadata": {
        "colab": {
          "base_uri": "https://localhost:8080/"
        },
        "id": "UQIyw4qkR2EF",
        "outputId": "d2a2d366-836b-4029-86c2-8b9720d9d601"
      },
      "outputs": [
        {
          "name": "stdout",
          "output_type": "stream",
          "text": [
            "<class 'pandas.core.frame.DataFrame'>\n",
            "RangeIndex: 3129 entries, 0 to 3128\n",
            "Data columns (total 16 columns):\n",
            " #   Column   Non-Null Count  Dtype  \n",
            "---  ------   --------------  -----  \n",
            " 0   key      3129 non-null   int64  \n",
            " 1   Bulk 1   252 non-null    float64\n",
            " 2   Bulk 2   22 non-null     float64\n",
            " 3   Bulk 3   1298 non-null   float64\n",
            " 4   Bulk 4   1014 non-null   float64\n",
            " 5   Bulk 5   77 non-null     float64\n",
            " 6   Bulk 6   576 non-null    float64\n",
            " 7   Bulk 7   25 non-null     float64\n",
            " 8   Bulk 8   1 non-null      float64\n",
            " 9   Bulk 9   19 non-null     float64\n",
            " 10  Bulk 10  176 non-null    float64\n",
            " 11  Bulk 11  177 non-null    float64\n",
            " 12  Bulk 12  2450 non-null   float64\n",
            " 13  Bulk 13  18 non-null     float64\n",
            " 14  Bulk 14  2806 non-null   float64\n",
            " 15  Bulk 15  2248 non-null   float64\n",
            "dtypes: float64(15), int64(1)\n",
            "memory usage: 391.2 KB\n"
          ]
        }
      ],
      "source": [
        "bulk.info()"
      ]
    },
    {
      "cell_type": "code",
      "execution_count": 19,
      "metadata": {
        "colab": {
          "base_uri": "https://localhost:8080/"
        },
        "id": "aYvgbY0DR2EX",
        "outputId": "2eb982ff-c165-4f62-fc6c-50ace1d101a7"
      },
      "outputs": [
        {
          "name": "stdout",
          "output_type": "stream",
          "text": [
            "<class 'pandas.core.frame.DataFrame'>\n",
            "RangeIndex: 3129 entries, 0 to 3128\n",
            "Data columns (total 16 columns):\n",
            " #   Column   Non-Null Count  Dtype \n",
            "---  ------   --------------  ----- \n",
            " 0   key      3129 non-null   int64 \n",
            " 1   Bulk 1   252 non-null    object\n",
            " 2   Bulk 2   22 non-null     object\n",
            " 3   Bulk 3   1298 non-null   object\n",
            " 4   Bulk 4   1014 non-null   object\n",
            " 5   Bulk 5   77 non-null     object\n",
            " 6   Bulk 6   576 non-null    object\n",
            " 7   Bulk 7   25 non-null     object\n",
            " 8   Bulk 8   1 non-null      object\n",
            " 9   Bulk 9   19 non-null     object\n",
            " 10  Bulk 10  176 non-null    object\n",
            " 11  Bulk 11  177 non-null    object\n",
            " 12  Bulk 12  2450 non-null   object\n",
            " 13  Bulk 13  18 non-null     object\n",
            " 14  Bulk 14  2806 non-null   object\n",
            " 15  Bulk 15  2248 non-null   object\n",
            "dtypes: int64(1), object(15)\n",
            "memory usage: 391.2+ KB\n"
          ]
        }
      ],
      "source": [
        "bulk_time.info()"
      ]
    },
    {
      "cell_type": "code",
      "execution_count": 20,
      "metadata": {
        "colab": {
          "base_uri": "https://localhost:8080/",
          "height": 300
        },
        "id": "r_NtDPz_R2EX",
        "outputId": "1ec98f6a-e7dc-45b5-9afe-159c650cf52b"
      },
      "outputs": [
        {
          "data": {
            "text/html": [
              "<div>\n",
              "<style scoped>\n",
              "    .dataframe tbody tr th:only-of-type {\n",
              "        vertical-align: middle;\n",
              "    }\n",
              "\n",
              "    .dataframe tbody tr th {\n",
              "        vertical-align: top;\n",
              "    }\n",
              "\n",
              "    .dataframe thead th {\n",
              "        text-align: right;\n",
              "    }\n",
              "</style>\n",
              "<table border=\"1\" class=\"dataframe\">\n",
              "  <thead>\n",
              "    <tr style=\"text-align: right;\">\n",
              "      <th></th>\n",
              "      <th>key</th>\n",
              "      <th>Bulk 1</th>\n",
              "      <th>Bulk 2</th>\n",
              "      <th>Bulk 3</th>\n",
              "      <th>Bulk 4</th>\n",
              "      <th>Bulk 5</th>\n",
              "      <th>Bulk 6</th>\n",
              "      <th>Bulk 7</th>\n",
              "      <th>Bulk 8</th>\n",
              "      <th>Bulk 9</th>\n",
              "      <th>Bulk 10</th>\n",
              "      <th>Bulk 11</th>\n",
              "      <th>Bulk 12</th>\n",
              "      <th>Bulk 13</th>\n",
              "      <th>Bulk 14</th>\n",
              "      <th>Bulk 15</th>\n",
              "    </tr>\n",
              "  </thead>\n",
              "  <tbody>\n",
              "    <tr>\n",
              "      <th>count</th>\n",
              "      <td>3129.000000</td>\n",
              "      <td>252.000000</td>\n",
              "      <td>22.000000</td>\n",
              "      <td>1298.000000</td>\n",
              "      <td>1014.000000</td>\n",
              "      <td>77.000000</td>\n",
              "      <td>576.000000</td>\n",
              "      <td>25.000000</td>\n",
              "      <td>1.0</td>\n",
              "      <td>19.000000</td>\n",
              "      <td>176.000000</td>\n",
              "      <td>177.000000</td>\n",
              "      <td>2450.000000</td>\n",
              "      <td>18.000000</td>\n",
              "      <td>2806.000000</td>\n",
              "      <td>2248.000000</td>\n",
              "    </tr>\n",
              "    <tr>\n",
              "      <th>mean</th>\n",
              "      <td>1624.383509</td>\n",
              "      <td>39.242063</td>\n",
              "      <td>253.045455</td>\n",
              "      <td>113.879045</td>\n",
              "      <td>104.394477</td>\n",
              "      <td>107.025974</td>\n",
              "      <td>118.925347</td>\n",
              "      <td>305.600000</td>\n",
              "      <td>49.0</td>\n",
              "      <td>76.315789</td>\n",
              "      <td>83.284091</td>\n",
              "      <td>76.819209</td>\n",
              "      <td>260.471020</td>\n",
              "      <td>181.111111</td>\n",
              "      <td>170.284747</td>\n",
              "      <td>160.513345</td>\n",
              "    </tr>\n",
              "    <tr>\n",
              "      <th>std</th>\n",
              "      <td>933.337642</td>\n",
              "      <td>18.277654</td>\n",
              "      <td>21.180578</td>\n",
              "      <td>75.483494</td>\n",
              "      <td>48.184126</td>\n",
              "      <td>81.790646</td>\n",
              "      <td>72.057776</td>\n",
              "      <td>191.022904</td>\n",
              "      <td>NaN</td>\n",
              "      <td>21.720581</td>\n",
              "      <td>26.060347</td>\n",
              "      <td>59.655365</td>\n",
              "      <td>120.649269</td>\n",
              "      <td>46.088009</td>\n",
              "      <td>65.868652</td>\n",
              "      <td>51.765319</td>\n",
              "    </tr>\n",
              "    <tr>\n",
              "      <th>min</th>\n",
              "      <td>1.000000</td>\n",
              "      <td>10.000000</td>\n",
              "      <td>228.000000</td>\n",
              "      <td>6.000000</td>\n",
              "      <td>12.000000</td>\n",
              "      <td>11.000000</td>\n",
              "      <td>17.000000</td>\n",
              "      <td>47.000000</td>\n",
              "      <td>49.0</td>\n",
              "      <td>63.000000</td>\n",
              "      <td>24.000000</td>\n",
              "      <td>8.000000</td>\n",
              "      <td>53.000000</td>\n",
              "      <td>151.000000</td>\n",
              "      <td>16.000000</td>\n",
              "      <td>1.000000</td>\n",
              "    </tr>\n",
              "    <tr>\n",
              "      <th>25%</th>\n",
              "      <td>816.000000</td>\n",
              "      <td>27.000000</td>\n",
              "      <td>242.000000</td>\n",
              "      <td>58.000000</td>\n",
              "      <td>72.000000</td>\n",
              "      <td>70.000000</td>\n",
              "      <td>69.750000</td>\n",
              "      <td>155.000000</td>\n",
              "      <td>49.0</td>\n",
              "      <td>66.000000</td>\n",
              "      <td>64.000000</td>\n",
              "      <td>25.000000</td>\n",
              "      <td>204.000000</td>\n",
              "      <td>153.250000</td>\n",
              "      <td>119.000000</td>\n",
              "      <td>105.000000</td>\n",
              "    </tr>\n",
              "    <tr>\n",
              "      <th>50%</th>\n",
              "      <td>1622.000000</td>\n",
              "      <td>31.000000</td>\n",
              "      <td>251.500000</td>\n",
              "      <td>97.500000</td>\n",
              "      <td>102.000000</td>\n",
              "      <td>86.000000</td>\n",
              "      <td>100.000000</td>\n",
              "      <td>298.000000</td>\n",
              "      <td>49.0</td>\n",
              "      <td>68.000000</td>\n",
              "      <td>86.500000</td>\n",
              "      <td>64.000000</td>\n",
              "      <td>208.000000</td>\n",
              "      <td>155.500000</td>\n",
              "      <td>151.000000</td>\n",
              "      <td>160.000000</td>\n",
              "    </tr>\n",
              "    <tr>\n",
              "      <th>75%</th>\n",
              "      <td>2431.000000</td>\n",
              "      <td>46.000000</td>\n",
              "      <td>257.750000</td>\n",
              "      <td>152.000000</td>\n",
              "      <td>133.000000</td>\n",
              "      <td>132.000000</td>\n",
              "      <td>157.000000</td>\n",
              "      <td>406.000000</td>\n",
              "      <td>49.0</td>\n",
              "      <td>70.500000</td>\n",
              "      <td>102.000000</td>\n",
              "      <td>106.000000</td>\n",
              "      <td>316.000000</td>\n",
              "      <td>203.500000</td>\n",
              "      <td>205.750000</td>\n",
              "      <td>205.000000</td>\n",
              "    </tr>\n",
              "    <tr>\n",
              "      <th>max</th>\n",
              "      <td>3241.000000</td>\n",
              "      <td>185.000000</td>\n",
              "      <td>325.000000</td>\n",
              "      <td>454.000000</td>\n",
              "      <td>281.000000</td>\n",
              "      <td>603.000000</td>\n",
              "      <td>503.000000</td>\n",
              "      <td>772.000000</td>\n",
              "      <td>49.0</td>\n",
              "      <td>147.000000</td>\n",
              "      <td>159.000000</td>\n",
              "      <td>313.000000</td>\n",
              "      <td>1849.000000</td>\n",
              "      <td>305.000000</td>\n",
              "      <td>636.000000</td>\n",
              "      <td>405.000000</td>\n",
              "    </tr>\n",
              "  </tbody>\n",
              "</table>\n",
              "</div>"
            ],
            "text/plain": [
              "               key      Bulk 1      Bulk 2       Bulk 3       Bulk 4  \\\n",
              "count  3129.000000  252.000000   22.000000  1298.000000  1014.000000   \n",
              "mean   1624.383509   39.242063  253.045455   113.879045   104.394477   \n",
              "std     933.337642   18.277654   21.180578    75.483494    48.184126   \n",
              "min       1.000000   10.000000  228.000000     6.000000    12.000000   \n",
              "25%     816.000000   27.000000  242.000000    58.000000    72.000000   \n",
              "50%    1622.000000   31.000000  251.500000    97.500000   102.000000   \n",
              "75%    2431.000000   46.000000  257.750000   152.000000   133.000000   \n",
              "max    3241.000000  185.000000  325.000000   454.000000   281.000000   \n",
              "\n",
              "           Bulk 5      Bulk 6      Bulk 7  Bulk 8      Bulk 9     Bulk 10  \\\n",
              "count   77.000000  576.000000   25.000000     1.0   19.000000  176.000000   \n",
              "mean   107.025974  118.925347  305.600000    49.0   76.315789   83.284091   \n",
              "std     81.790646   72.057776  191.022904     NaN   21.720581   26.060347   \n",
              "min     11.000000   17.000000   47.000000    49.0   63.000000   24.000000   \n",
              "25%     70.000000   69.750000  155.000000    49.0   66.000000   64.000000   \n",
              "50%     86.000000  100.000000  298.000000    49.0   68.000000   86.500000   \n",
              "75%    132.000000  157.000000  406.000000    49.0   70.500000  102.000000   \n",
              "max    603.000000  503.000000  772.000000    49.0  147.000000  159.000000   \n",
              "\n",
              "          Bulk 11      Bulk 12     Bulk 13      Bulk 14      Bulk 15  \n",
              "count  177.000000  2450.000000   18.000000  2806.000000  2248.000000  \n",
              "mean    76.819209   260.471020  181.111111   170.284747   160.513345  \n",
              "std     59.655365   120.649269   46.088009    65.868652    51.765319  \n",
              "min      8.000000    53.000000  151.000000    16.000000     1.000000  \n",
              "25%     25.000000   204.000000  153.250000   119.000000   105.000000  \n",
              "50%     64.000000   208.000000  155.500000   151.000000   160.000000  \n",
              "75%    106.000000   316.000000  203.500000   205.750000   205.000000  \n",
              "max    313.000000  1849.000000  305.000000   636.000000   405.000000  "
            ]
          },
          "execution_count": 20,
          "metadata": {},
          "output_type": "execute_result"
        }
      ],
      "source": [
        "bulk.describe()"
      ]
    },
    {
      "cell_type": "code",
      "execution_count": 21,
      "metadata": {
        "colab": {
          "base_uri": "https://localhost:8080/",
          "height": 300
        },
        "id": "z8QYqAlRR2EX",
        "outputId": "ad46f940-e7f8-419f-d616-a5f7beed974b"
      },
      "outputs": [
        {
          "data": {
            "text/html": [
              "<div>\n",
              "<style scoped>\n",
              "    .dataframe tbody tr th:only-of-type {\n",
              "        vertical-align: middle;\n",
              "    }\n",
              "\n",
              "    .dataframe tbody tr th {\n",
              "        vertical-align: top;\n",
              "    }\n",
              "\n",
              "    .dataframe thead th {\n",
              "        text-align: right;\n",
              "    }\n",
              "</style>\n",
              "<table border=\"1\" class=\"dataframe\">\n",
              "  <thead>\n",
              "    <tr style=\"text-align: right;\">\n",
              "      <th></th>\n",
              "      <th>key</th>\n",
              "    </tr>\n",
              "  </thead>\n",
              "  <tbody>\n",
              "    <tr>\n",
              "      <th>count</th>\n",
              "      <td>3129.000000</td>\n",
              "    </tr>\n",
              "    <tr>\n",
              "      <th>mean</th>\n",
              "      <td>1624.383509</td>\n",
              "    </tr>\n",
              "    <tr>\n",
              "      <th>std</th>\n",
              "      <td>933.337642</td>\n",
              "    </tr>\n",
              "    <tr>\n",
              "      <th>min</th>\n",
              "      <td>1.000000</td>\n",
              "    </tr>\n",
              "    <tr>\n",
              "      <th>25%</th>\n",
              "      <td>816.000000</td>\n",
              "    </tr>\n",
              "    <tr>\n",
              "      <th>50%</th>\n",
              "      <td>1622.000000</td>\n",
              "    </tr>\n",
              "    <tr>\n",
              "      <th>75%</th>\n",
              "      <td>2431.000000</td>\n",
              "    </tr>\n",
              "    <tr>\n",
              "      <th>max</th>\n",
              "      <td>3241.000000</td>\n",
              "    </tr>\n",
              "  </tbody>\n",
              "</table>\n",
              "</div>"
            ],
            "text/plain": [
              "               key\n",
              "count  3129.000000\n",
              "mean   1624.383509\n",
              "std     933.337642\n",
              "min       1.000000\n",
              "25%     816.000000\n",
              "50%    1622.000000\n",
              "75%    2431.000000\n",
              "max    3241.000000"
            ]
          },
          "execution_count": 21,
          "metadata": {},
          "output_type": "execute_result"
        }
      ],
      "source": [
        "bulk_time.describe()"
      ]
    },
    {
      "cell_type": "code",
      "execution_count": 22,
      "metadata": {
        "colab": {
          "base_uri": "https://localhost:8080/"
        },
        "id": "ZzkAyA4pR2EX",
        "outputId": "ff3c2d54-7a81-45a3-9703-7fc53c374675"
      },
      "outputs": [
        {
          "data": {
            "text/plain": [
              "0"
            ]
          },
          "execution_count": 22,
          "metadata": {},
          "output_type": "execute_result"
        }
      ],
      "source": [
        "# Проверим данные на дубликаты:\n",
        "bulk.duplicated().sum()"
      ]
    },
    {
      "cell_type": "code",
      "execution_count": 23,
      "metadata": {
        "colab": {
          "base_uri": "https://localhost:8080/"
        },
        "id": "wGS3fd4TR2EX",
        "outputId": "65554cfc-5815-4cce-ad2c-a885a64b8ea4"
      },
      "outputs": [
        {
          "data": {
            "text/plain": [
              "0"
            ]
          },
          "execution_count": 23,
          "metadata": {},
          "output_type": "execute_result"
        }
      ],
      "source": [
        "# Проверим данные на дубликаты:\n",
        "bulk_time.duplicated().sum()"
      ]
    },
    {
      "cell_type": "code",
      "execution_count": 24,
      "metadata": {
        "colab": {
          "base_uri": "https://localhost:8080/",
          "height": 424
        },
        "id": "7a4Sa1FDR2EY",
        "outputId": "95873aeb-8e90-45f8-f937-0314bff9247a"
      },
      "outputs": [
        {
          "data": {
            "text/html": [
              "<div>\n",
              "<style scoped>\n",
              "    .dataframe tbody tr th:only-of-type {\n",
              "        vertical-align: middle;\n",
              "    }\n",
              "\n",
              "    .dataframe tbody tr th {\n",
              "        vertical-align: top;\n",
              "    }\n",
              "\n",
              "    .dataframe thead th {\n",
              "        text-align: right;\n",
              "    }\n",
              "</style>\n",
              "<table border=\"1\" class=\"dataframe\">\n",
              "  <thead>\n",
              "    <tr style=\"text-align: right;\">\n",
              "      <th></th>\n",
              "      <th>key</th>\n",
              "      <th>Bulk 1</th>\n",
              "      <th>Bulk 2</th>\n",
              "      <th>Bulk 3</th>\n",
              "      <th>Bulk 4</th>\n",
              "      <th>Bulk 5</th>\n",
              "      <th>Bulk 6</th>\n",
              "      <th>Bulk 7</th>\n",
              "      <th>Bulk 8</th>\n",
              "      <th>Bulk 9</th>\n",
              "      <th>Bulk 10</th>\n",
              "      <th>Bulk 11</th>\n",
              "      <th>Bulk 12</th>\n",
              "      <th>Bulk 13</th>\n",
              "      <th>Bulk 14</th>\n",
              "      <th>Bulk 15</th>\n",
              "    </tr>\n",
              "  </thead>\n",
              "  <tbody>\n",
              "    <tr>\n",
              "      <th>0</th>\n",
              "      <td>1</td>\n",
              "      <td>0.0</td>\n",
              "      <td>0.0</td>\n",
              "      <td>0.0</td>\n",
              "      <td>43.0</td>\n",
              "      <td>0.0</td>\n",
              "      <td>0.0</td>\n",
              "      <td>0.0</td>\n",
              "      <td>0.0</td>\n",
              "      <td>0.0</td>\n",
              "      <td>0.0</td>\n",
              "      <td>0.0</td>\n",
              "      <td>206.0</td>\n",
              "      <td>0.0</td>\n",
              "      <td>150.0</td>\n",
              "      <td>154.0</td>\n",
              "    </tr>\n",
              "    <tr>\n",
              "      <th>1</th>\n",
              "      <td>2</td>\n",
              "      <td>0.0</td>\n",
              "      <td>0.0</td>\n",
              "      <td>0.0</td>\n",
              "      <td>73.0</td>\n",
              "      <td>0.0</td>\n",
              "      <td>0.0</td>\n",
              "      <td>0.0</td>\n",
              "      <td>0.0</td>\n",
              "      <td>0.0</td>\n",
              "      <td>0.0</td>\n",
              "      <td>0.0</td>\n",
              "      <td>206.0</td>\n",
              "      <td>0.0</td>\n",
              "      <td>149.0</td>\n",
              "      <td>154.0</td>\n",
              "    </tr>\n",
              "    <tr>\n",
              "      <th>2</th>\n",
              "      <td>3</td>\n",
              "      <td>0.0</td>\n",
              "      <td>0.0</td>\n",
              "      <td>0.0</td>\n",
              "      <td>34.0</td>\n",
              "      <td>0.0</td>\n",
              "      <td>0.0</td>\n",
              "      <td>0.0</td>\n",
              "      <td>0.0</td>\n",
              "      <td>0.0</td>\n",
              "      <td>0.0</td>\n",
              "      <td>0.0</td>\n",
              "      <td>205.0</td>\n",
              "      <td>0.0</td>\n",
              "      <td>152.0</td>\n",
              "      <td>153.0</td>\n",
              "    </tr>\n",
              "    <tr>\n",
              "      <th>3</th>\n",
              "      <td>4</td>\n",
              "      <td>0.0</td>\n",
              "      <td>0.0</td>\n",
              "      <td>0.0</td>\n",
              "      <td>81.0</td>\n",
              "      <td>0.0</td>\n",
              "      <td>0.0</td>\n",
              "      <td>0.0</td>\n",
              "      <td>0.0</td>\n",
              "      <td>0.0</td>\n",
              "      <td>0.0</td>\n",
              "      <td>0.0</td>\n",
              "      <td>207.0</td>\n",
              "      <td>0.0</td>\n",
              "      <td>153.0</td>\n",
              "      <td>154.0</td>\n",
              "    </tr>\n",
              "    <tr>\n",
              "      <th>4</th>\n",
              "      <td>5</td>\n",
              "      <td>0.0</td>\n",
              "      <td>0.0</td>\n",
              "      <td>0.0</td>\n",
              "      <td>78.0</td>\n",
              "      <td>0.0</td>\n",
              "      <td>0.0</td>\n",
              "      <td>0.0</td>\n",
              "      <td>0.0</td>\n",
              "      <td>0.0</td>\n",
              "      <td>0.0</td>\n",
              "      <td>0.0</td>\n",
              "      <td>203.0</td>\n",
              "      <td>0.0</td>\n",
              "      <td>151.0</td>\n",
              "      <td>152.0</td>\n",
              "    </tr>\n",
              "    <tr>\n",
              "      <th>...</th>\n",
              "      <td>...</td>\n",
              "      <td>...</td>\n",
              "      <td>...</td>\n",
              "      <td>...</td>\n",
              "      <td>...</td>\n",
              "      <td>...</td>\n",
              "      <td>...</td>\n",
              "      <td>...</td>\n",
              "      <td>...</td>\n",
              "      <td>...</td>\n",
              "      <td>...</td>\n",
              "      <td>...</td>\n",
              "      <td>...</td>\n",
              "      <td>...</td>\n",
              "      <td>...</td>\n",
              "      <td>...</td>\n",
              "    </tr>\n",
              "    <tr>\n",
              "      <th>3124</th>\n",
              "      <td>3237</td>\n",
              "      <td>0.0</td>\n",
              "      <td>0.0</td>\n",
              "      <td>170.0</td>\n",
              "      <td>0.0</td>\n",
              "      <td>0.0</td>\n",
              "      <td>0.0</td>\n",
              "      <td>0.0</td>\n",
              "      <td>0.0</td>\n",
              "      <td>0.0</td>\n",
              "      <td>0.0</td>\n",
              "      <td>0.0</td>\n",
              "      <td>252.0</td>\n",
              "      <td>0.0</td>\n",
              "      <td>130.0</td>\n",
              "      <td>206.0</td>\n",
              "    </tr>\n",
              "    <tr>\n",
              "      <th>3125</th>\n",
              "      <td>3238</td>\n",
              "      <td>0.0</td>\n",
              "      <td>0.0</td>\n",
              "      <td>126.0</td>\n",
              "      <td>0.0</td>\n",
              "      <td>0.0</td>\n",
              "      <td>0.0</td>\n",
              "      <td>0.0</td>\n",
              "      <td>0.0</td>\n",
              "      <td>0.0</td>\n",
              "      <td>0.0</td>\n",
              "      <td>0.0</td>\n",
              "      <td>254.0</td>\n",
              "      <td>0.0</td>\n",
              "      <td>108.0</td>\n",
              "      <td>106.0</td>\n",
              "    </tr>\n",
              "    <tr>\n",
              "      <th>3126</th>\n",
              "      <td>3239</td>\n",
              "      <td>0.0</td>\n",
              "      <td>0.0</td>\n",
              "      <td>0.0</td>\n",
              "      <td>0.0</td>\n",
              "      <td>0.0</td>\n",
              "      <td>114.0</td>\n",
              "      <td>0.0</td>\n",
              "      <td>0.0</td>\n",
              "      <td>0.0</td>\n",
              "      <td>0.0</td>\n",
              "      <td>0.0</td>\n",
              "      <td>158.0</td>\n",
              "      <td>0.0</td>\n",
              "      <td>270.0</td>\n",
              "      <td>88.0</td>\n",
              "    </tr>\n",
              "    <tr>\n",
              "      <th>3127</th>\n",
              "      <td>3240</td>\n",
              "      <td>0.0</td>\n",
              "      <td>0.0</td>\n",
              "      <td>0.0</td>\n",
              "      <td>0.0</td>\n",
              "      <td>0.0</td>\n",
              "      <td>26.0</td>\n",
              "      <td>0.0</td>\n",
              "      <td>0.0</td>\n",
              "      <td>0.0</td>\n",
              "      <td>0.0</td>\n",
              "      <td>0.0</td>\n",
              "      <td>0.0</td>\n",
              "      <td>0.0</td>\n",
              "      <td>192.0</td>\n",
              "      <td>54.0</td>\n",
              "    </tr>\n",
              "    <tr>\n",
              "      <th>3128</th>\n",
              "      <td>3241</td>\n",
              "      <td>0.0</td>\n",
              "      <td>0.0</td>\n",
              "      <td>0.0</td>\n",
              "      <td>0.0</td>\n",
              "      <td>0.0</td>\n",
              "      <td>0.0</td>\n",
              "      <td>0.0</td>\n",
              "      <td>0.0</td>\n",
              "      <td>0.0</td>\n",
              "      <td>0.0</td>\n",
              "      <td>0.0</td>\n",
              "      <td>0.0</td>\n",
              "      <td>0.0</td>\n",
              "      <td>180.0</td>\n",
              "      <td>52.0</td>\n",
              "    </tr>\n",
              "  </tbody>\n",
              "</table>\n",
              "<p>3129 rows × 16 columns</p>\n",
              "</div>"
            ],
            "text/plain": [
              "       key  Bulk 1  Bulk 2  Bulk 3  Bulk 4  Bulk 5  Bulk 6  Bulk 7  Bulk 8  \\\n",
              "0        1     0.0     0.0     0.0    43.0     0.0     0.0     0.0     0.0   \n",
              "1        2     0.0     0.0     0.0    73.0     0.0     0.0     0.0     0.0   \n",
              "2        3     0.0     0.0     0.0    34.0     0.0     0.0     0.0     0.0   \n",
              "3        4     0.0     0.0     0.0    81.0     0.0     0.0     0.0     0.0   \n",
              "4        5     0.0     0.0     0.0    78.0     0.0     0.0     0.0     0.0   \n",
              "...    ...     ...     ...     ...     ...     ...     ...     ...     ...   \n",
              "3124  3237     0.0     0.0   170.0     0.0     0.0     0.0     0.0     0.0   \n",
              "3125  3238     0.0     0.0   126.0     0.0     0.0     0.0     0.0     0.0   \n",
              "3126  3239     0.0     0.0     0.0     0.0     0.0   114.0     0.0     0.0   \n",
              "3127  3240     0.0     0.0     0.0     0.0     0.0    26.0     0.0     0.0   \n",
              "3128  3241     0.0     0.0     0.0     0.0     0.0     0.0     0.0     0.0   \n",
              "\n",
              "      Bulk 9  Bulk 10  Bulk 11  Bulk 12  Bulk 13  Bulk 14  Bulk 15  \n",
              "0        0.0      0.0      0.0    206.0      0.0    150.0    154.0  \n",
              "1        0.0      0.0      0.0    206.0      0.0    149.0    154.0  \n",
              "2        0.0      0.0      0.0    205.0      0.0    152.0    153.0  \n",
              "3        0.0      0.0      0.0    207.0      0.0    153.0    154.0  \n",
              "4        0.0      0.0      0.0    203.0      0.0    151.0    152.0  \n",
              "...      ...      ...      ...      ...      ...      ...      ...  \n",
              "3124     0.0      0.0      0.0    252.0      0.0    130.0    206.0  \n",
              "3125     0.0      0.0      0.0    254.0      0.0    108.0    106.0  \n",
              "3126     0.0      0.0      0.0    158.0      0.0    270.0     88.0  \n",
              "3127     0.0      0.0      0.0      0.0      0.0    192.0     54.0  \n",
              "3128     0.0      0.0      0.0      0.0      0.0    180.0     52.0  \n",
              "\n",
              "[3129 rows x 16 columns]"
            ]
          },
          "execution_count": 24,
          "metadata": {},
          "output_type": "execute_result"
        }
      ],
      "source": [
        "# Пропуски заменим нулями:\n",
        "bulk = bulk.fillna(0)\n",
        "bulk"
      ]
    },
    {
      "cell_type": "code",
      "execution_count": 25,
      "metadata": {
        "colab": {
          "base_uri": "https://localhost:8080/",
          "height": 238
        },
        "id": "oJt_Ika1R2EY",
        "outputId": "69cc29c7-5a3f-415b-a388-3e8f946517ea"
      },
      "outputs": [
        {
          "data": {
            "text/html": [
              "<div>\n",
              "<style scoped>\n",
              "    .dataframe tbody tr th:only-of-type {\n",
              "        vertical-align: middle;\n",
              "    }\n",
              "\n",
              "    .dataframe tbody tr th {\n",
              "        vertical-align: top;\n",
              "    }\n",
              "\n",
              "    .dataframe thead th {\n",
              "        text-align: right;\n",
              "    }\n",
              "</style>\n",
              "<table border=\"1\" class=\"dataframe\">\n",
              "  <thead>\n",
              "    <tr style=\"text-align: right;\">\n",
              "      <th></th>\n",
              "      <th>Bulk 1</th>\n",
              "      <th>Bulk 2</th>\n",
              "      <th>Bulk 3</th>\n",
              "      <th>Bulk 4</th>\n",
              "      <th>Bulk 5</th>\n",
              "      <th>Bulk 6</th>\n",
              "      <th>Bulk 7</th>\n",
              "      <th>Bulk 8</th>\n",
              "      <th>Bulk 9</th>\n",
              "      <th>Bulk 10</th>\n",
              "      <th>Bulk 11</th>\n",
              "      <th>Bulk 12</th>\n",
              "      <th>Bulk 13</th>\n",
              "      <th>Bulk 14</th>\n",
              "      <th>Bulk 15</th>\n",
              "    </tr>\n",
              "    <tr>\n",
              "      <th>key</th>\n",
              "      <th></th>\n",
              "      <th></th>\n",
              "      <th></th>\n",
              "      <th></th>\n",
              "      <th></th>\n",
              "      <th></th>\n",
              "      <th></th>\n",
              "      <th></th>\n",
              "      <th></th>\n",
              "      <th></th>\n",
              "      <th></th>\n",
              "      <th></th>\n",
              "      <th></th>\n",
              "      <th></th>\n",
              "      <th></th>\n",
              "    </tr>\n",
              "  </thead>\n",
              "  <tbody>\n",
              "    <tr>\n",
              "      <th>1</th>\n",
              "      <td>0.0</td>\n",
              "      <td>0.0</td>\n",
              "      <td>0.0</td>\n",
              "      <td>43.0</td>\n",
              "      <td>0.0</td>\n",
              "      <td>0.0</td>\n",
              "      <td>0.0</td>\n",
              "      <td>0.0</td>\n",
              "      <td>0.0</td>\n",
              "      <td>0.0</td>\n",
              "      <td>0.0</td>\n",
              "      <td>206.0</td>\n",
              "      <td>0.0</td>\n",
              "      <td>150.0</td>\n",
              "      <td>154.0</td>\n",
              "    </tr>\n",
              "    <tr>\n",
              "      <th>2</th>\n",
              "      <td>0.0</td>\n",
              "      <td>0.0</td>\n",
              "      <td>0.0</td>\n",
              "      <td>73.0</td>\n",
              "      <td>0.0</td>\n",
              "      <td>0.0</td>\n",
              "      <td>0.0</td>\n",
              "      <td>0.0</td>\n",
              "      <td>0.0</td>\n",
              "      <td>0.0</td>\n",
              "      <td>0.0</td>\n",
              "      <td>206.0</td>\n",
              "      <td>0.0</td>\n",
              "      <td>149.0</td>\n",
              "      <td>154.0</td>\n",
              "    </tr>\n",
              "    <tr>\n",
              "      <th>3</th>\n",
              "      <td>0.0</td>\n",
              "      <td>0.0</td>\n",
              "      <td>0.0</td>\n",
              "      <td>34.0</td>\n",
              "      <td>0.0</td>\n",
              "      <td>0.0</td>\n",
              "      <td>0.0</td>\n",
              "      <td>0.0</td>\n",
              "      <td>0.0</td>\n",
              "      <td>0.0</td>\n",
              "      <td>0.0</td>\n",
              "      <td>205.0</td>\n",
              "      <td>0.0</td>\n",
              "      <td>152.0</td>\n",
              "      <td>153.0</td>\n",
              "    </tr>\n",
              "    <tr>\n",
              "      <th>4</th>\n",
              "      <td>0.0</td>\n",
              "      <td>0.0</td>\n",
              "      <td>0.0</td>\n",
              "      <td>81.0</td>\n",
              "      <td>0.0</td>\n",
              "      <td>0.0</td>\n",
              "      <td>0.0</td>\n",
              "      <td>0.0</td>\n",
              "      <td>0.0</td>\n",
              "      <td>0.0</td>\n",
              "      <td>0.0</td>\n",
              "      <td>207.0</td>\n",
              "      <td>0.0</td>\n",
              "      <td>153.0</td>\n",
              "      <td>154.0</td>\n",
              "    </tr>\n",
              "    <tr>\n",
              "      <th>5</th>\n",
              "      <td>0.0</td>\n",
              "      <td>0.0</td>\n",
              "      <td>0.0</td>\n",
              "      <td>78.0</td>\n",
              "      <td>0.0</td>\n",
              "      <td>0.0</td>\n",
              "      <td>0.0</td>\n",
              "      <td>0.0</td>\n",
              "      <td>0.0</td>\n",
              "      <td>0.0</td>\n",
              "      <td>0.0</td>\n",
              "      <td>203.0</td>\n",
              "      <td>0.0</td>\n",
              "      <td>151.0</td>\n",
              "      <td>152.0</td>\n",
              "    </tr>\n",
              "  </tbody>\n",
              "</table>\n",
              "</div>"
            ],
            "text/plain": [
              "     Bulk 1  Bulk 2  Bulk 3  Bulk 4  Bulk 5  Bulk 6  Bulk 7  Bulk 8  Bulk 9  \\\n",
              "key                                                                           \n",
              "1       0.0     0.0     0.0    43.0     0.0     0.0     0.0     0.0     0.0   \n",
              "2       0.0     0.0     0.0    73.0     0.0     0.0     0.0     0.0     0.0   \n",
              "3       0.0     0.0     0.0    34.0     0.0     0.0     0.0     0.0     0.0   \n",
              "4       0.0     0.0     0.0    81.0     0.0     0.0     0.0     0.0     0.0   \n",
              "5       0.0     0.0     0.0    78.0     0.0     0.0     0.0     0.0     0.0   \n",
              "\n",
              "     Bulk 10  Bulk 11  Bulk 12  Bulk 13  Bulk 14  Bulk 15  \n",
              "key                                                        \n",
              "1        0.0      0.0    206.0      0.0    150.0    154.0  \n",
              "2        0.0      0.0    206.0      0.0    149.0    154.0  \n",
              "3        0.0      0.0    205.0      0.0    152.0    153.0  \n",
              "4        0.0      0.0    207.0      0.0    153.0    154.0  \n",
              "5        0.0      0.0    203.0      0.0    151.0    152.0  "
            ]
          },
          "execution_count": 25,
          "metadata": {},
          "output_type": "execute_result"
        }
      ],
      "source": [
        "# Проиндексируем по номерам партий:\n",
        "bulk.set_index('key', inplace = True)\n",
        "bulk.head()\n"
      ]
    },
    {
      "cell_type": "code",
      "execution_count": 26,
      "metadata": {
        "colab": {
          "base_uri": "https://localhost:8080/",
          "height": 238
        },
        "id": "NVEvfv6MR2EY",
        "outputId": "0289e2f7-5a12-4124-bc32-d6ff960819e4"
      },
      "outputs": [
        {
          "data": {
            "text/html": [
              "<div>\n",
              "<style scoped>\n",
              "    .dataframe tbody tr th:only-of-type {\n",
              "        vertical-align: middle;\n",
              "    }\n",
              "\n",
              "    .dataframe tbody tr th {\n",
              "        vertical-align: top;\n",
              "    }\n",
              "\n",
              "    .dataframe thead th {\n",
              "        text-align: right;\n",
              "    }\n",
              "</style>\n",
              "<table border=\"1\" class=\"dataframe\">\n",
              "  <thead>\n",
              "    <tr style=\"text-align: right;\">\n",
              "      <th></th>\n",
              "      <th>Bulk 1</th>\n",
              "      <th>Bulk 2</th>\n",
              "      <th>Bulk 3</th>\n",
              "      <th>Bulk 4</th>\n",
              "      <th>Bulk 5</th>\n",
              "      <th>Bulk 6</th>\n",
              "      <th>Bulk 7</th>\n",
              "      <th>Bulk 8</th>\n",
              "      <th>Bulk 9</th>\n",
              "      <th>Bulk 10</th>\n",
              "      <th>Bulk 11</th>\n",
              "      <th>Bulk 12</th>\n",
              "      <th>Bulk 13</th>\n",
              "      <th>Bulk 14</th>\n",
              "      <th>Bulk 15</th>\n",
              "    </tr>\n",
              "    <tr>\n",
              "      <th>key</th>\n",
              "      <th></th>\n",
              "      <th></th>\n",
              "      <th></th>\n",
              "      <th></th>\n",
              "      <th></th>\n",
              "      <th></th>\n",
              "      <th></th>\n",
              "      <th></th>\n",
              "      <th></th>\n",
              "      <th></th>\n",
              "      <th></th>\n",
              "      <th></th>\n",
              "      <th></th>\n",
              "      <th></th>\n",
              "      <th></th>\n",
              "    </tr>\n",
              "  </thead>\n",
              "  <tbody>\n",
              "    <tr>\n",
              "      <th>1</th>\n",
              "      <td>NaT</td>\n",
              "      <td>NaT</td>\n",
              "      <td>NaT</td>\n",
              "      <td>2019-05-03 11:28:48</td>\n",
              "      <td>NaT</td>\n",
              "      <td>NaT</td>\n",
              "      <td>NaT</td>\n",
              "      <td>NaT</td>\n",
              "      <td>NaT</td>\n",
              "      <td>NaT</td>\n",
              "      <td>NaT</td>\n",
              "      <td>2019-05-03 11:24:31</td>\n",
              "      <td>NaT</td>\n",
              "      <td>2019-05-03 11:14:50</td>\n",
              "      <td>2019-05-03 11:10:43</td>\n",
              "    </tr>\n",
              "    <tr>\n",
              "      <th>2</th>\n",
              "      <td>NaT</td>\n",
              "      <td>NaT</td>\n",
              "      <td>NaT</td>\n",
              "      <td>2019-05-03 11:36:50</td>\n",
              "      <td>NaT</td>\n",
              "      <td>NaT</td>\n",
              "      <td>NaT</td>\n",
              "      <td>NaT</td>\n",
              "      <td>NaT</td>\n",
              "      <td>NaT</td>\n",
              "      <td>NaT</td>\n",
              "      <td>2019-05-03 11:53:30</td>\n",
              "      <td>NaT</td>\n",
              "      <td>2019-05-03 11:48:37</td>\n",
              "      <td>2019-05-03 11:44:39</td>\n",
              "    </tr>\n",
              "    <tr>\n",
              "      <th>3</th>\n",
              "      <td>NaT</td>\n",
              "      <td>NaT</td>\n",
              "      <td>NaT</td>\n",
              "      <td>2019-05-03 12:32:39</td>\n",
              "      <td>NaT</td>\n",
              "      <td>NaT</td>\n",
              "      <td>NaT</td>\n",
              "      <td>NaT</td>\n",
              "      <td>NaT</td>\n",
              "      <td>NaT</td>\n",
              "      <td>NaT</td>\n",
              "      <td>2019-05-03 12:27:13</td>\n",
              "      <td>NaT</td>\n",
              "      <td>2019-05-03 12:21:01</td>\n",
              "      <td>2019-05-03 12:16:16</td>\n",
              "    </tr>\n",
              "    <tr>\n",
              "      <th>4</th>\n",
              "      <td>NaT</td>\n",
              "      <td>NaT</td>\n",
              "      <td>NaT</td>\n",
              "      <td>2019-05-03 12:43:22</td>\n",
              "      <td>NaT</td>\n",
              "      <td>NaT</td>\n",
              "      <td>NaT</td>\n",
              "      <td>NaT</td>\n",
              "      <td>NaT</td>\n",
              "      <td>NaT</td>\n",
              "      <td>NaT</td>\n",
              "      <td>2019-05-03 12:58:00</td>\n",
              "      <td>NaT</td>\n",
              "      <td>2019-05-03 12:51:11</td>\n",
              "      <td>2019-05-03 12:46:36</td>\n",
              "    </tr>\n",
              "    <tr>\n",
              "      <th>5</th>\n",
              "      <td>NaT</td>\n",
              "      <td>NaT</td>\n",
              "      <td>NaT</td>\n",
              "      <td>2019-05-03 13:30:47</td>\n",
              "      <td>NaT</td>\n",
              "      <td>NaT</td>\n",
              "      <td>NaT</td>\n",
              "      <td>NaT</td>\n",
              "      <td>NaT</td>\n",
              "      <td>NaT</td>\n",
              "      <td>NaT</td>\n",
              "      <td>2019-05-03 13:30:47</td>\n",
              "      <td>NaT</td>\n",
              "      <td>2019-05-03 13:34:12</td>\n",
              "      <td>2019-05-03 13:30:47</td>\n",
              "    </tr>\n",
              "  </tbody>\n",
              "</table>\n",
              "</div>"
            ],
            "text/plain": [
              "    Bulk 1 Bulk 2 Bulk 3              Bulk 4 Bulk 5 Bulk 6 Bulk 7 Bulk 8  \\\n",
              "key                                                                        \n",
              "1      NaT    NaT    NaT 2019-05-03 11:28:48    NaT    NaT    NaT    NaT   \n",
              "2      NaT    NaT    NaT 2019-05-03 11:36:50    NaT    NaT    NaT    NaT   \n",
              "3      NaT    NaT    NaT 2019-05-03 12:32:39    NaT    NaT    NaT    NaT   \n",
              "4      NaT    NaT    NaT 2019-05-03 12:43:22    NaT    NaT    NaT    NaT   \n",
              "5      NaT    NaT    NaT 2019-05-03 13:30:47    NaT    NaT    NaT    NaT   \n",
              "\n",
              "    Bulk 9 Bulk 10 Bulk 11             Bulk 12 Bulk 13             Bulk 14  \\\n",
              "key                                                                          \n",
              "1      NaT     NaT     NaT 2019-05-03 11:24:31     NaT 2019-05-03 11:14:50   \n",
              "2      NaT     NaT     NaT 2019-05-03 11:53:30     NaT 2019-05-03 11:48:37   \n",
              "3      NaT     NaT     NaT 2019-05-03 12:27:13     NaT 2019-05-03 12:21:01   \n",
              "4      NaT     NaT     NaT 2019-05-03 12:58:00     NaT 2019-05-03 12:51:11   \n",
              "5      NaT     NaT     NaT 2019-05-03 13:30:47     NaT 2019-05-03 13:34:12   \n",
              "\n",
              "                Bulk 15  \n",
              "key                      \n",
              "1   2019-05-03 11:10:43  \n",
              "2   2019-05-03 11:44:39  \n",
              "3   2019-05-03 12:16:16  \n",
              "4   2019-05-03 12:46:36  \n",
              "5   2019-05-03 13:30:47  "
            ]
          },
          "execution_count": 26,
          "metadata": {},
          "output_type": "execute_result"
        }
      ],
      "source": [
        "# Проиндексируем по номерам партий:\n",
        "bulk_time.set_index('key', inplace = True)\n",
        "# Изменим формат времени на datime\n",
        "bulk_columns = ['Bulk 1', 'Bulk 2', 'Bulk 3', 'Bulk 4', 'Bulk 5', 'Bulk 6', 'Bulk 7', 'Bulk 8', 'Bulk 9', 'Bulk 10', 'Bulk 11', 'Bulk 12', 'Bulk 13', 'Bulk 14', 'Bulk 15']\n",
        "\n",
        "for col in bulk_columns:\n",
        "    bulk_time[col] = pd.to_datetime(bulk_time[col])\n",
        "\n",
        "bulk_time.head()"
      ]
    },
    {
      "attachments": {},
      "cell_type": "markdown",
      "metadata": {
        "id": "baGovKyvR2EY"
      },
      "source": [
        "#### Обобщение по bulk"
      ]
    },
    {
      "attachments": {},
      "cell_type": "markdown",
      "metadata": {
        "id": "JxKuQyACR2EZ"
      },
      "source": [
        "1. Множество пропусков. Обусловлено спецификой технологического процесса. Пропуски заменили нулями(от заказчика)\n",
        "2. Отсутствуют дубликаты\n",
        "3. Проиндексировали по номеру ключа\n",
        "4. Привели формат времени к datetime"
      ]
    },
    {
      "attachments": {},
      "cell_type": "markdown",
      "metadata": {
        "id": "qVUkDERbR2EZ"
      },
      "source": [
        "#### Проволочные материалы"
      ]
    },
    {
      "cell_type": "code",
      "execution_count": 27,
      "metadata": {
        "colab": {
          "base_uri": "https://localhost:8080/"
        },
        "id": "Y19ddge4R2EZ",
        "outputId": "b539e0df-e0d4-44ee-8dee-1b0fd7b81ace"
      },
      "outputs": [
        {
          "name": "stdout",
          "output_type": "stream",
          "text": [
            "<class 'pandas.core.frame.DataFrame'>\n",
            "RangeIndex: 3081 entries, 0 to 3080\n",
            "Data columns (total 10 columns):\n",
            " #   Column  Non-Null Count  Dtype  \n",
            "---  ------  --------------  -----  \n",
            " 0   key     3081 non-null   int64  \n",
            " 1   Wire 1  3055 non-null   float64\n",
            " 2   Wire 2  1079 non-null   float64\n",
            " 3   Wire 3  63 non-null     float64\n",
            " 4   Wire 4  14 non-null     float64\n",
            " 5   Wire 5  1 non-null      float64\n",
            " 6   Wire 6  73 non-null     float64\n",
            " 7   Wire 7  11 non-null     float64\n",
            " 8   Wire 8  19 non-null     float64\n",
            " 9   Wire 9  29 non-null     float64\n",
            "dtypes: float64(9), int64(1)\n",
            "memory usage: 240.8 KB\n"
          ]
        }
      ],
      "source": [
        "wire.info()"
      ]
    },
    {
      "cell_type": "code",
      "execution_count": 28,
      "metadata": {
        "colab": {
          "base_uri": "https://localhost:8080/"
        },
        "id": "PAnNIyodR2EZ",
        "outputId": "580d1850-be9d-4494-d8af-94957830675e"
      },
      "outputs": [
        {
          "name": "stdout",
          "output_type": "stream",
          "text": [
            "<class 'pandas.core.frame.DataFrame'>\n",
            "RangeIndex: 3081 entries, 0 to 3080\n",
            "Data columns (total 10 columns):\n",
            " #   Column  Non-Null Count  Dtype \n",
            "---  ------  --------------  ----- \n",
            " 0   key     3081 non-null   int64 \n",
            " 1   Wire 1  3055 non-null   object\n",
            " 2   Wire 2  1079 non-null   object\n",
            " 3   Wire 3  63 non-null     object\n",
            " 4   Wire 4  14 non-null     object\n",
            " 5   Wire 5  1 non-null      object\n",
            " 6   Wire 6  73 non-null     object\n",
            " 7   Wire 7  11 non-null     object\n",
            " 8   Wire 8  19 non-null     object\n",
            " 9   Wire 9  29 non-null     object\n",
            "dtypes: int64(1), object(9)\n",
            "memory usage: 240.8+ KB\n"
          ]
        }
      ],
      "source": [
        "wire_time.info()"
      ]
    },
    {
      "cell_type": "code",
      "execution_count": 29,
      "metadata": {
        "colab": {
          "base_uri": "https://localhost:8080/",
          "height": 300
        },
        "id": "UD7va4N3R2EZ",
        "outputId": "0f72ec44-2720-446b-d50f-de44d411c247"
      },
      "outputs": [
        {
          "data": {
            "text/html": [
              "<div>\n",
              "<style scoped>\n",
              "    .dataframe tbody tr th:only-of-type {\n",
              "        vertical-align: middle;\n",
              "    }\n",
              "\n",
              "    .dataframe tbody tr th {\n",
              "        vertical-align: top;\n",
              "    }\n",
              "\n",
              "    .dataframe thead th {\n",
              "        text-align: right;\n",
              "    }\n",
              "</style>\n",
              "<table border=\"1\" class=\"dataframe\">\n",
              "  <thead>\n",
              "    <tr style=\"text-align: right;\">\n",
              "      <th></th>\n",
              "      <th>key</th>\n",
              "      <th>Wire 1</th>\n",
              "      <th>Wire 2</th>\n",
              "      <th>Wire 3</th>\n",
              "      <th>Wire 4</th>\n",
              "      <th>Wire 5</th>\n",
              "      <th>Wire 6</th>\n",
              "      <th>Wire 7</th>\n",
              "      <th>Wire 8</th>\n",
              "      <th>Wire 9</th>\n",
              "    </tr>\n",
              "  </thead>\n",
              "  <tbody>\n",
              "    <tr>\n",
              "      <th>count</th>\n",
              "      <td>3081.000000</td>\n",
              "      <td>3055.000000</td>\n",
              "      <td>1079.000000</td>\n",
              "      <td>63.000000</td>\n",
              "      <td>14.000000</td>\n",
              "      <td>1.000</td>\n",
              "      <td>73.000000</td>\n",
              "      <td>11.000000</td>\n",
              "      <td>19.000000</td>\n",
              "      <td>29.000000</td>\n",
              "    </tr>\n",
              "    <tr>\n",
              "      <th>mean</th>\n",
              "      <td>1623.426485</td>\n",
              "      <td>100.895853</td>\n",
              "      <td>50.577323</td>\n",
              "      <td>189.482681</td>\n",
              "      <td>57.442841</td>\n",
              "      <td>15.132</td>\n",
              "      <td>48.016974</td>\n",
              "      <td>10.039007</td>\n",
              "      <td>53.625193</td>\n",
              "      <td>34.155752</td>\n",
              "    </tr>\n",
              "    <tr>\n",
              "      <th>std</th>\n",
              "      <td>932.996726</td>\n",
              "      <td>42.012518</td>\n",
              "      <td>39.320216</td>\n",
              "      <td>99.513444</td>\n",
              "      <td>28.824667</td>\n",
              "      <td>NaN</td>\n",
              "      <td>33.919845</td>\n",
              "      <td>8.610584</td>\n",
              "      <td>16.881728</td>\n",
              "      <td>19.931616</td>\n",
              "    </tr>\n",
              "    <tr>\n",
              "      <th>min</th>\n",
              "      <td>1.000000</td>\n",
              "      <td>1.918800</td>\n",
              "      <td>0.030160</td>\n",
              "      <td>0.144144</td>\n",
              "      <td>24.148801</td>\n",
              "      <td>15.132</td>\n",
              "      <td>0.034320</td>\n",
              "      <td>0.234208</td>\n",
              "      <td>45.076721</td>\n",
              "      <td>4.622800</td>\n",
              "    </tr>\n",
              "    <tr>\n",
              "      <th>25%</th>\n",
              "      <td>823.000000</td>\n",
              "      <td>72.115684</td>\n",
              "      <td>20.193680</td>\n",
              "      <td>95.135044</td>\n",
              "      <td>40.807002</td>\n",
              "      <td>15.132</td>\n",
              "      <td>25.053600</td>\n",
              "      <td>6.762756</td>\n",
              "      <td>46.094879</td>\n",
              "      <td>22.058401</td>\n",
              "    </tr>\n",
              "    <tr>\n",
              "      <th>50%</th>\n",
              "      <td>1619.000000</td>\n",
              "      <td>100.158234</td>\n",
              "      <td>40.142956</td>\n",
              "      <td>235.194977</td>\n",
              "      <td>45.234282</td>\n",
              "      <td>15.132</td>\n",
              "      <td>42.076324</td>\n",
              "      <td>9.017009</td>\n",
              "      <td>46.279999</td>\n",
              "      <td>30.066399</td>\n",
              "    </tr>\n",
              "    <tr>\n",
              "      <th>75%</th>\n",
              "      <td>2434.000000</td>\n",
              "      <td>126.060483</td>\n",
              "      <td>70.227558</td>\n",
              "      <td>276.252014</td>\n",
              "      <td>76.124619</td>\n",
              "      <td>15.132</td>\n",
              "      <td>64.212723</td>\n",
              "      <td>11.886057</td>\n",
              "      <td>48.089603</td>\n",
              "      <td>43.862003</td>\n",
              "    </tr>\n",
              "    <tr>\n",
              "      <th>max</th>\n",
              "      <td>3241.000000</td>\n",
              "      <td>330.314424</td>\n",
              "      <td>282.780152</td>\n",
              "      <td>385.008668</td>\n",
              "      <td>113.231044</td>\n",
              "      <td>15.132</td>\n",
              "      <td>180.454575</td>\n",
              "      <td>32.847674</td>\n",
              "      <td>102.762401</td>\n",
              "      <td>90.053604</td>\n",
              "    </tr>\n",
              "  </tbody>\n",
              "</table>\n",
              "</div>"
            ],
            "text/plain": [
              "               key       Wire 1       Wire 2      Wire 3      Wire 4  Wire 5  \\\n",
              "count  3081.000000  3055.000000  1079.000000   63.000000   14.000000   1.000   \n",
              "mean   1623.426485   100.895853    50.577323  189.482681   57.442841  15.132   \n",
              "std     932.996726    42.012518    39.320216   99.513444   28.824667     NaN   \n",
              "min       1.000000     1.918800     0.030160    0.144144   24.148801  15.132   \n",
              "25%     823.000000    72.115684    20.193680   95.135044   40.807002  15.132   \n",
              "50%    1619.000000   100.158234    40.142956  235.194977   45.234282  15.132   \n",
              "75%    2434.000000   126.060483    70.227558  276.252014   76.124619  15.132   \n",
              "max    3241.000000   330.314424   282.780152  385.008668  113.231044  15.132   \n",
              "\n",
              "           Wire 6     Wire 7      Wire 8     Wire 9  \n",
              "count   73.000000  11.000000   19.000000  29.000000  \n",
              "mean    48.016974  10.039007   53.625193  34.155752  \n",
              "std     33.919845   8.610584   16.881728  19.931616  \n",
              "min      0.034320   0.234208   45.076721   4.622800  \n",
              "25%     25.053600   6.762756   46.094879  22.058401  \n",
              "50%     42.076324   9.017009   46.279999  30.066399  \n",
              "75%     64.212723  11.886057   48.089603  43.862003  \n",
              "max    180.454575  32.847674  102.762401  90.053604  "
            ]
          },
          "execution_count": 29,
          "metadata": {},
          "output_type": "execute_result"
        }
      ],
      "source": [
        "wire.describe()"
      ]
    },
    {
      "cell_type": "code",
      "execution_count": 30,
      "metadata": {
        "colab": {
          "base_uri": "https://localhost:8080/",
          "height": 300
        },
        "id": "A7tiZXXBR2Ea",
        "outputId": "37c7a7c2-87b1-45b8-c750-fb32ea3a0daf"
      },
      "outputs": [
        {
          "data": {
            "text/html": [
              "<div>\n",
              "<style scoped>\n",
              "    .dataframe tbody tr th:only-of-type {\n",
              "        vertical-align: middle;\n",
              "    }\n",
              "\n",
              "    .dataframe tbody tr th {\n",
              "        vertical-align: top;\n",
              "    }\n",
              "\n",
              "    .dataframe thead th {\n",
              "        text-align: right;\n",
              "    }\n",
              "</style>\n",
              "<table border=\"1\" class=\"dataframe\">\n",
              "  <thead>\n",
              "    <tr style=\"text-align: right;\">\n",
              "      <th></th>\n",
              "      <th>key</th>\n",
              "    </tr>\n",
              "  </thead>\n",
              "  <tbody>\n",
              "    <tr>\n",
              "      <th>count</th>\n",
              "      <td>3081.000000</td>\n",
              "    </tr>\n",
              "    <tr>\n",
              "      <th>mean</th>\n",
              "      <td>1623.426485</td>\n",
              "    </tr>\n",
              "    <tr>\n",
              "      <th>std</th>\n",
              "      <td>932.996726</td>\n",
              "    </tr>\n",
              "    <tr>\n",
              "      <th>min</th>\n",
              "      <td>1.000000</td>\n",
              "    </tr>\n",
              "    <tr>\n",
              "      <th>25%</th>\n",
              "      <td>823.000000</td>\n",
              "    </tr>\n",
              "    <tr>\n",
              "      <th>50%</th>\n",
              "      <td>1619.000000</td>\n",
              "    </tr>\n",
              "    <tr>\n",
              "      <th>75%</th>\n",
              "      <td>2434.000000</td>\n",
              "    </tr>\n",
              "    <tr>\n",
              "      <th>max</th>\n",
              "      <td>3241.000000</td>\n",
              "    </tr>\n",
              "  </tbody>\n",
              "</table>\n",
              "</div>"
            ],
            "text/plain": [
              "               key\n",
              "count  3081.000000\n",
              "mean   1623.426485\n",
              "std     932.996726\n",
              "min       1.000000\n",
              "25%     823.000000\n",
              "50%    1619.000000\n",
              "75%    2434.000000\n",
              "max    3241.000000"
            ]
          },
          "execution_count": 30,
          "metadata": {},
          "output_type": "execute_result"
        }
      ],
      "source": [
        "wire_time.describe()"
      ]
    },
    {
      "cell_type": "code",
      "execution_count": 31,
      "metadata": {
        "colab": {
          "base_uri": "https://localhost:8080/"
        },
        "id": "9rUVJrd6R2Ea",
        "outputId": "d4a91245-30ae-4ef3-eb0e-3b6ec7fa54ec"
      },
      "outputs": [
        {
          "data": {
            "text/plain": [
              "0"
            ]
          },
          "execution_count": 31,
          "metadata": {},
          "output_type": "execute_result"
        }
      ],
      "source": [
        "# Проверим данные на дубликаты:\n",
        "wire.duplicated().sum()"
      ]
    },
    {
      "cell_type": "code",
      "execution_count": 32,
      "metadata": {
        "colab": {
          "base_uri": "https://localhost:8080/"
        },
        "id": "0KFvHBnjR2Ea",
        "outputId": "533dcf05-f43f-4732-e90f-d0a04cf280cf"
      },
      "outputs": [
        {
          "data": {
            "text/plain": [
              "0"
            ]
          },
          "execution_count": 32,
          "metadata": {},
          "output_type": "execute_result"
        }
      ],
      "source": [
        "# Проверим данные на дубликаты:\n",
        "wire_time.duplicated().sum()"
      ]
    },
    {
      "cell_type": "code",
      "execution_count": 33,
      "metadata": {
        "colab": {
          "base_uri": "https://localhost:8080/",
          "height": 424
        },
        "id": "t4NwNd9lR2Ea",
        "outputId": "a1616f7d-e027-447e-d62d-dd591ac50426"
      },
      "outputs": [
        {
          "data": {
            "text/html": [
              "<div>\n",
              "<style scoped>\n",
              "    .dataframe tbody tr th:only-of-type {\n",
              "        vertical-align: middle;\n",
              "    }\n",
              "\n",
              "    .dataframe tbody tr th {\n",
              "        vertical-align: top;\n",
              "    }\n",
              "\n",
              "    .dataframe thead th {\n",
              "        text-align: right;\n",
              "    }\n",
              "</style>\n",
              "<table border=\"1\" class=\"dataframe\">\n",
              "  <thead>\n",
              "    <tr style=\"text-align: right;\">\n",
              "      <th></th>\n",
              "      <th>key</th>\n",
              "      <th>Wire 1</th>\n",
              "      <th>Wire 2</th>\n",
              "      <th>Wire 3</th>\n",
              "      <th>Wire 4</th>\n",
              "      <th>Wire 5</th>\n",
              "      <th>Wire 6</th>\n",
              "      <th>Wire 7</th>\n",
              "      <th>Wire 8</th>\n",
              "      <th>Wire 9</th>\n",
              "    </tr>\n",
              "  </thead>\n",
              "  <tbody>\n",
              "    <tr>\n",
              "      <th>0</th>\n",
              "      <td>1</td>\n",
              "      <td>60.059998</td>\n",
              "      <td>0.00000</td>\n",
              "      <td>0.0</td>\n",
              "      <td>0.0</td>\n",
              "      <td>0.0</td>\n",
              "      <td>0.0</td>\n",
              "      <td>0.0</td>\n",
              "      <td>0.0</td>\n",
              "      <td>0.0</td>\n",
              "    </tr>\n",
              "    <tr>\n",
              "      <th>1</th>\n",
              "      <td>2</td>\n",
              "      <td>96.052315</td>\n",
              "      <td>0.00000</td>\n",
              "      <td>0.0</td>\n",
              "      <td>0.0</td>\n",
              "      <td>0.0</td>\n",
              "      <td>0.0</td>\n",
              "      <td>0.0</td>\n",
              "      <td>0.0</td>\n",
              "      <td>0.0</td>\n",
              "    </tr>\n",
              "    <tr>\n",
              "      <th>2</th>\n",
              "      <td>3</td>\n",
              "      <td>91.160157</td>\n",
              "      <td>0.00000</td>\n",
              "      <td>0.0</td>\n",
              "      <td>0.0</td>\n",
              "      <td>0.0</td>\n",
              "      <td>0.0</td>\n",
              "      <td>0.0</td>\n",
              "      <td>0.0</td>\n",
              "      <td>0.0</td>\n",
              "    </tr>\n",
              "    <tr>\n",
              "      <th>3</th>\n",
              "      <td>4</td>\n",
              "      <td>89.063515</td>\n",
              "      <td>0.00000</td>\n",
              "      <td>0.0</td>\n",
              "      <td>0.0</td>\n",
              "      <td>0.0</td>\n",
              "      <td>0.0</td>\n",
              "      <td>0.0</td>\n",
              "      <td>0.0</td>\n",
              "      <td>0.0</td>\n",
              "    </tr>\n",
              "    <tr>\n",
              "      <th>4</th>\n",
              "      <td>5</td>\n",
              "      <td>89.238236</td>\n",
              "      <td>9.11456</td>\n",
              "      <td>0.0</td>\n",
              "      <td>0.0</td>\n",
              "      <td>0.0</td>\n",
              "      <td>0.0</td>\n",
              "      <td>0.0</td>\n",
              "      <td>0.0</td>\n",
              "      <td>0.0</td>\n",
              "    </tr>\n",
              "    <tr>\n",
              "      <th>...</th>\n",
              "      <td>...</td>\n",
              "      <td>...</td>\n",
              "      <td>...</td>\n",
              "      <td>...</td>\n",
              "      <td>...</td>\n",
              "      <td>...</td>\n",
              "      <td>...</td>\n",
              "      <td>...</td>\n",
              "      <td>...</td>\n",
              "      <td>...</td>\n",
              "    </tr>\n",
              "    <tr>\n",
              "      <th>3076</th>\n",
              "      <td>3237</td>\n",
              "      <td>38.088959</td>\n",
              "      <td>0.00000</td>\n",
              "      <td>0.0</td>\n",
              "      <td>0.0</td>\n",
              "      <td>0.0</td>\n",
              "      <td>0.0</td>\n",
              "      <td>0.0</td>\n",
              "      <td>0.0</td>\n",
              "      <td>0.0</td>\n",
              "    </tr>\n",
              "    <tr>\n",
              "      <th>3077</th>\n",
              "      <td>3238</td>\n",
              "      <td>56.128799</td>\n",
              "      <td>0.00000</td>\n",
              "      <td>0.0</td>\n",
              "      <td>0.0</td>\n",
              "      <td>0.0</td>\n",
              "      <td>0.0</td>\n",
              "      <td>0.0</td>\n",
              "      <td>0.0</td>\n",
              "      <td>0.0</td>\n",
              "    </tr>\n",
              "    <tr>\n",
              "      <th>3078</th>\n",
              "      <td>3239</td>\n",
              "      <td>143.357761</td>\n",
              "      <td>0.00000</td>\n",
              "      <td>0.0</td>\n",
              "      <td>0.0</td>\n",
              "      <td>0.0</td>\n",
              "      <td>0.0</td>\n",
              "      <td>0.0</td>\n",
              "      <td>0.0</td>\n",
              "      <td>0.0</td>\n",
              "    </tr>\n",
              "    <tr>\n",
              "      <th>3079</th>\n",
              "      <td>3240</td>\n",
              "      <td>34.070400</td>\n",
              "      <td>0.00000</td>\n",
              "      <td>0.0</td>\n",
              "      <td>0.0</td>\n",
              "      <td>0.0</td>\n",
              "      <td>0.0</td>\n",
              "      <td>0.0</td>\n",
              "      <td>0.0</td>\n",
              "      <td>0.0</td>\n",
              "    </tr>\n",
              "    <tr>\n",
              "      <th>3080</th>\n",
              "      <td>3241</td>\n",
              "      <td>63.117595</td>\n",
              "      <td>0.00000</td>\n",
              "      <td>0.0</td>\n",
              "      <td>0.0</td>\n",
              "      <td>0.0</td>\n",
              "      <td>0.0</td>\n",
              "      <td>0.0</td>\n",
              "      <td>0.0</td>\n",
              "      <td>0.0</td>\n",
              "    </tr>\n",
              "  </tbody>\n",
              "</table>\n",
              "<p>3081 rows × 10 columns</p>\n",
              "</div>"
            ],
            "text/plain": [
              "       key      Wire 1   Wire 2  Wire 3  Wire 4  Wire 5  Wire 6  Wire 7  \\\n",
              "0        1   60.059998  0.00000     0.0     0.0     0.0     0.0     0.0   \n",
              "1        2   96.052315  0.00000     0.0     0.0     0.0     0.0     0.0   \n",
              "2        3   91.160157  0.00000     0.0     0.0     0.0     0.0     0.0   \n",
              "3        4   89.063515  0.00000     0.0     0.0     0.0     0.0     0.0   \n",
              "4        5   89.238236  9.11456     0.0     0.0     0.0     0.0     0.0   \n",
              "...    ...         ...      ...     ...     ...     ...     ...     ...   \n",
              "3076  3237   38.088959  0.00000     0.0     0.0     0.0     0.0     0.0   \n",
              "3077  3238   56.128799  0.00000     0.0     0.0     0.0     0.0     0.0   \n",
              "3078  3239  143.357761  0.00000     0.0     0.0     0.0     0.0     0.0   \n",
              "3079  3240   34.070400  0.00000     0.0     0.0     0.0     0.0     0.0   \n",
              "3080  3241   63.117595  0.00000     0.0     0.0     0.0     0.0     0.0   \n",
              "\n",
              "      Wire 8  Wire 9  \n",
              "0        0.0     0.0  \n",
              "1        0.0     0.0  \n",
              "2        0.0     0.0  \n",
              "3        0.0     0.0  \n",
              "4        0.0     0.0  \n",
              "...      ...     ...  \n",
              "3076     0.0     0.0  \n",
              "3077     0.0     0.0  \n",
              "3078     0.0     0.0  \n",
              "3079     0.0     0.0  \n",
              "3080     0.0     0.0  \n",
              "\n",
              "[3081 rows x 10 columns]"
            ]
          },
          "execution_count": 33,
          "metadata": {},
          "output_type": "execute_result"
        }
      ],
      "source": [
        "# Пропуски заменим нулями:\n",
        "wire = wire.fillna(0)\n",
        "wire"
      ]
    },
    {
      "cell_type": "code",
      "execution_count": 34,
      "metadata": {
        "colab": {
          "base_uri": "https://localhost:8080/",
          "height": 238
        },
        "id": "oO9Rc7_uR2Ea",
        "outputId": "087b27fd-db98-4c4e-be43-a3e90a793ceb"
      },
      "outputs": [
        {
          "data": {
            "text/html": [
              "<div>\n",
              "<style scoped>\n",
              "    .dataframe tbody tr th:only-of-type {\n",
              "        vertical-align: middle;\n",
              "    }\n",
              "\n",
              "    .dataframe tbody tr th {\n",
              "        vertical-align: top;\n",
              "    }\n",
              "\n",
              "    .dataframe thead th {\n",
              "        text-align: right;\n",
              "    }\n",
              "</style>\n",
              "<table border=\"1\" class=\"dataframe\">\n",
              "  <thead>\n",
              "    <tr style=\"text-align: right;\">\n",
              "      <th></th>\n",
              "      <th>Wire 1</th>\n",
              "      <th>Wire 2</th>\n",
              "      <th>Wire 3</th>\n",
              "      <th>Wire 4</th>\n",
              "      <th>Wire 5</th>\n",
              "      <th>Wire 6</th>\n",
              "      <th>Wire 7</th>\n",
              "      <th>Wire 8</th>\n",
              "      <th>Wire 9</th>\n",
              "    </tr>\n",
              "    <tr>\n",
              "      <th>key</th>\n",
              "      <th></th>\n",
              "      <th></th>\n",
              "      <th></th>\n",
              "      <th></th>\n",
              "      <th></th>\n",
              "      <th></th>\n",
              "      <th></th>\n",
              "      <th></th>\n",
              "      <th></th>\n",
              "    </tr>\n",
              "  </thead>\n",
              "  <tbody>\n",
              "    <tr>\n",
              "      <th>1</th>\n",
              "      <td>60.059998</td>\n",
              "      <td>0.00000</td>\n",
              "      <td>0.0</td>\n",
              "      <td>0.0</td>\n",
              "      <td>0.0</td>\n",
              "      <td>0.0</td>\n",
              "      <td>0.0</td>\n",
              "      <td>0.0</td>\n",
              "      <td>0.0</td>\n",
              "    </tr>\n",
              "    <tr>\n",
              "      <th>2</th>\n",
              "      <td>96.052315</td>\n",
              "      <td>0.00000</td>\n",
              "      <td>0.0</td>\n",
              "      <td>0.0</td>\n",
              "      <td>0.0</td>\n",
              "      <td>0.0</td>\n",
              "      <td>0.0</td>\n",
              "      <td>0.0</td>\n",
              "      <td>0.0</td>\n",
              "    </tr>\n",
              "    <tr>\n",
              "      <th>3</th>\n",
              "      <td>91.160157</td>\n",
              "      <td>0.00000</td>\n",
              "      <td>0.0</td>\n",
              "      <td>0.0</td>\n",
              "      <td>0.0</td>\n",
              "      <td>0.0</td>\n",
              "      <td>0.0</td>\n",
              "      <td>0.0</td>\n",
              "      <td>0.0</td>\n",
              "    </tr>\n",
              "    <tr>\n",
              "      <th>4</th>\n",
              "      <td>89.063515</td>\n",
              "      <td>0.00000</td>\n",
              "      <td>0.0</td>\n",
              "      <td>0.0</td>\n",
              "      <td>0.0</td>\n",
              "      <td>0.0</td>\n",
              "      <td>0.0</td>\n",
              "      <td>0.0</td>\n",
              "      <td>0.0</td>\n",
              "    </tr>\n",
              "    <tr>\n",
              "      <th>5</th>\n",
              "      <td>89.238236</td>\n",
              "      <td>9.11456</td>\n",
              "      <td>0.0</td>\n",
              "      <td>0.0</td>\n",
              "      <td>0.0</td>\n",
              "      <td>0.0</td>\n",
              "      <td>0.0</td>\n",
              "      <td>0.0</td>\n",
              "      <td>0.0</td>\n",
              "    </tr>\n",
              "  </tbody>\n",
              "</table>\n",
              "</div>"
            ],
            "text/plain": [
              "        Wire 1   Wire 2  Wire 3  Wire 4  Wire 5  Wire 6  Wire 7  Wire 8  \\\n",
              "key                                                                       \n",
              "1    60.059998  0.00000     0.0     0.0     0.0     0.0     0.0     0.0   \n",
              "2    96.052315  0.00000     0.0     0.0     0.0     0.0     0.0     0.0   \n",
              "3    91.160157  0.00000     0.0     0.0     0.0     0.0     0.0     0.0   \n",
              "4    89.063515  0.00000     0.0     0.0     0.0     0.0     0.0     0.0   \n",
              "5    89.238236  9.11456     0.0     0.0     0.0     0.0     0.0     0.0   \n",
              "\n",
              "     Wire 9  \n",
              "key          \n",
              "1       0.0  \n",
              "2       0.0  \n",
              "3       0.0  \n",
              "4       0.0  \n",
              "5       0.0  "
            ]
          },
          "execution_count": 34,
          "metadata": {},
          "output_type": "execute_result"
        }
      ],
      "source": [
        "# Проиндексируем по номерам партий:\n",
        "wire.set_index('key', inplace = True)\n",
        "wire.head()"
      ]
    },
    {
      "cell_type": "code",
      "execution_count": 35,
      "metadata": {
        "colab": {
          "base_uri": "https://localhost:8080/",
          "height": 238
        },
        "id": "HVhPDaupR2Eb",
        "outputId": "d5fe43d6-00f8-4c99-fc7f-e6d96715c444"
      },
      "outputs": [
        {
          "data": {
            "text/html": [
              "<div>\n",
              "<style scoped>\n",
              "    .dataframe tbody tr th:only-of-type {\n",
              "        vertical-align: middle;\n",
              "    }\n",
              "\n",
              "    .dataframe tbody tr th {\n",
              "        vertical-align: top;\n",
              "    }\n",
              "\n",
              "    .dataframe thead th {\n",
              "        text-align: right;\n",
              "    }\n",
              "</style>\n",
              "<table border=\"1\" class=\"dataframe\">\n",
              "  <thead>\n",
              "    <tr style=\"text-align: right;\">\n",
              "      <th></th>\n",
              "      <th>Wire 1</th>\n",
              "      <th>Wire 2</th>\n",
              "      <th>Wire 3</th>\n",
              "      <th>Wire 4</th>\n",
              "      <th>Wire 5</th>\n",
              "      <th>Wire 6</th>\n",
              "      <th>Wire 7</th>\n",
              "      <th>Wire 8</th>\n",
              "      <th>Wire 9</th>\n",
              "    </tr>\n",
              "    <tr>\n",
              "      <th>key</th>\n",
              "      <th></th>\n",
              "      <th></th>\n",
              "      <th></th>\n",
              "      <th></th>\n",
              "      <th></th>\n",
              "      <th></th>\n",
              "      <th></th>\n",
              "      <th></th>\n",
              "      <th></th>\n",
              "    </tr>\n",
              "  </thead>\n",
              "  <tbody>\n",
              "    <tr>\n",
              "      <th>1</th>\n",
              "      <td>2019-05-03 11:06:19</td>\n",
              "      <td>NaT</td>\n",
              "      <td>NaT</td>\n",
              "      <td>NaT</td>\n",
              "      <td>NaT</td>\n",
              "      <td>NaT</td>\n",
              "      <td>NaT</td>\n",
              "      <td>NaT</td>\n",
              "      <td>NaT</td>\n",
              "    </tr>\n",
              "    <tr>\n",
              "      <th>2</th>\n",
              "      <td>2019-05-03 11:36:50</td>\n",
              "      <td>NaT</td>\n",
              "      <td>NaT</td>\n",
              "      <td>NaT</td>\n",
              "      <td>NaT</td>\n",
              "      <td>NaT</td>\n",
              "      <td>NaT</td>\n",
              "      <td>NaT</td>\n",
              "      <td>NaT</td>\n",
              "    </tr>\n",
              "    <tr>\n",
              "      <th>3</th>\n",
              "      <td>2019-05-03 12:11:46</td>\n",
              "      <td>NaT</td>\n",
              "      <td>NaT</td>\n",
              "      <td>NaT</td>\n",
              "      <td>NaT</td>\n",
              "      <td>NaT</td>\n",
              "      <td>NaT</td>\n",
              "      <td>NaT</td>\n",
              "      <td>NaT</td>\n",
              "    </tr>\n",
              "    <tr>\n",
              "      <th>4</th>\n",
              "      <td>2019-05-03 12:43:22</td>\n",
              "      <td>NaT</td>\n",
              "      <td>NaT</td>\n",
              "      <td>NaT</td>\n",
              "      <td>NaT</td>\n",
              "      <td>NaT</td>\n",
              "      <td>NaT</td>\n",
              "      <td>NaT</td>\n",
              "      <td>NaT</td>\n",
              "    </tr>\n",
              "    <tr>\n",
              "      <th>5</th>\n",
              "      <td>2019-05-03 13:20:44</td>\n",
              "      <td>2019-05-03 13:15:34</td>\n",
              "      <td>NaT</td>\n",
              "      <td>NaT</td>\n",
              "      <td>NaT</td>\n",
              "      <td>NaT</td>\n",
              "      <td>NaT</td>\n",
              "      <td>NaT</td>\n",
              "      <td>NaT</td>\n",
              "    </tr>\n",
              "  </tbody>\n",
              "</table>\n",
              "</div>"
            ],
            "text/plain": [
              "                 Wire 1              Wire 2 Wire 3 Wire 4 Wire 5 Wire 6  \\\n",
              "key                                                                       \n",
              "1   2019-05-03 11:06:19                 NaT    NaT    NaT    NaT    NaT   \n",
              "2   2019-05-03 11:36:50                 NaT    NaT    NaT    NaT    NaT   \n",
              "3   2019-05-03 12:11:46                 NaT    NaT    NaT    NaT    NaT   \n",
              "4   2019-05-03 12:43:22                 NaT    NaT    NaT    NaT    NaT   \n",
              "5   2019-05-03 13:20:44 2019-05-03 13:15:34    NaT    NaT    NaT    NaT   \n",
              "\n",
              "    Wire 7 Wire 8 Wire 9  \n",
              "key                       \n",
              "1      NaT    NaT    NaT  \n",
              "2      NaT    NaT    NaT  \n",
              "3      NaT    NaT    NaT  \n",
              "4      NaT    NaT    NaT  \n",
              "5      NaT    NaT    NaT  "
            ]
          },
          "execution_count": 35,
          "metadata": {},
          "output_type": "execute_result"
        }
      ],
      "source": [
        "# Проиндексируем по номерам партий:\n",
        "wire_time.set_index('key', inplace = True)\n",
        "\n",
        "# Изменим формат времени на datime\n",
        "wire_columns = ['Wire 1', 'Wire 2', 'Wire 3', 'Wire 4', 'Wire 5', 'Wire 6', 'Wire 7', 'Wire 8', 'Wire 9']\n",
        "\n",
        "for col in wire_columns:\n",
        "    wire_time[col] = pd.to_datetime(wire_time[col])\n",
        "\n",
        "wire_time.head()\n"
      ]
    },
    {
      "attachments": {},
      "cell_type": "markdown",
      "metadata": {
        "id": "ON8d2YDfR2Eb"
      },
      "source": [
        "#### Обобщение по Wire\n"
      ]
    },
    {
      "attachments": {},
      "cell_type": "markdown",
      "metadata": {
        "id": "NhfvCDk4R2Eb"
      },
      "source": [
        "1. Множество пропусков. Обусловлено спецификой технологического процесса. Пропуски заменили нулями(от заказчика)\n",
        "2. Отсутствуют дубликаты\n",
        "3. Проиндексировали по номеру ключа\n",
        "4. Привели формат времени к datetime"
      ]
    },
    {
      "attachments": {},
      "cell_type": "markdown",
      "metadata": {
        "id": "hQGauL4bR2Eb"
      },
      "source": [
        "### Данные о температуре и продувке газом \n"
      ]
    },
    {
      "cell_type": "code",
      "execution_count": 36,
      "metadata": {
        "colab": {
          "base_uri": "https://localhost:8080/",
          "height": 206
        },
        "id": "6ZwWNf_8R2Eb",
        "outputId": "1a6ce07f-c195-4bb8-f12c-9321b7c65c61"
      },
      "outputs": [
        {
          "data": {
            "text/html": [
              "<div>\n",
              "<style scoped>\n",
              "    .dataframe tbody tr th:only-of-type {\n",
              "        vertical-align: middle;\n",
              "    }\n",
              "\n",
              "    .dataframe tbody tr th {\n",
              "        vertical-align: top;\n",
              "    }\n",
              "\n",
              "    .dataframe thead th {\n",
              "        text-align: right;\n",
              "    }\n",
              "</style>\n",
              "<table border=\"1\" class=\"dataframe\">\n",
              "  <thead>\n",
              "    <tr style=\"text-align: right;\">\n",
              "      <th></th>\n",
              "      <th>key</th>\n",
              "      <th>Газ 1</th>\n",
              "    </tr>\n",
              "  </thead>\n",
              "  <tbody>\n",
              "    <tr>\n",
              "      <th>0</th>\n",
              "      <td>1</td>\n",
              "      <td>29.749986</td>\n",
              "    </tr>\n",
              "    <tr>\n",
              "      <th>1</th>\n",
              "      <td>2</td>\n",
              "      <td>12.555561</td>\n",
              "    </tr>\n",
              "    <tr>\n",
              "      <th>2</th>\n",
              "      <td>3</td>\n",
              "      <td>28.554793</td>\n",
              "    </tr>\n",
              "    <tr>\n",
              "      <th>3</th>\n",
              "      <td>4</td>\n",
              "      <td>18.841219</td>\n",
              "    </tr>\n",
              "    <tr>\n",
              "      <th>4</th>\n",
              "      <td>5</td>\n",
              "      <td>5.413692</td>\n",
              "    </tr>\n",
              "  </tbody>\n",
              "</table>\n",
              "</div>"
            ],
            "text/plain": [
              "   key      Газ 1\n",
              "0    1  29.749986\n",
              "1    2  12.555561\n",
              "2    3  28.554793\n",
              "3    4  18.841219\n",
              "4    5   5.413692"
            ]
          },
          "execution_count": 36,
          "metadata": {},
          "output_type": "execute_result"
        }
      ],
      "source": [
        "gas.head()"
      ]
    },
    {
      "cell_type": "code",
      "execution_count": 37,
      "metadata": {
        "colab": {
          "base_uri": "https://localhost:8080/",
          "height": 206
        },
        "id": "DGhzN3vzR2Eb",
        "outputId": "88104c04-3210-45fd-e57b-b16070915324"
      },
      "outputs": [
        {
          "data": {
            "text/html": [
              "<div>\n",
              "<style scoped>\n",
              "    .dataframe tbody tr th:only-of-type {\n",
              "        vertical-align: middle;\n",
              "    }\n",
              "\n",
              "    .dataframe tbody tr th {\n",
              "        vertical-align: top;\n",
              "    }\n",
              "\n",
              "    .dataframe thead th {\n",
              "        text-align: right;\n",
              "    }\n",
              "</style>\n",
              "<table border=\"1\" class=\"dataframe\">\n",
              "  <thead>\n",
              "    <tr style=\"text-align: right;\">\n",
              "      <th></th>\n",
              "      <th>key</th>\n",
              "      <th>Время замера</th>\n",
              "      <th>Температура</th>\n",
              "    </tr>\n",
              "  </thead>\n",
              "  <tbody>\n",
              "    <tr>\n",
              "      <th>0</th>\n",
              "      <td>1</td>\n",
              "      <td>2019-05-03 11:02:04</td>\n",
              "      <td>1571.0</td>\n",
              "    </tr>\n",
              "    <tr>\n",
              "      <th>1</th>\n",
              "      <td>1</td>\n",
              "      <td>2019-05-03 11:07:18</td>\n",
              "      <td>1604.0</td>\n",
              "    </tr>\n",
              "    <tr>\n",
              "      <th>2</th>\n",
              "      <td>1</td>\n",
              "      <td>2019-05-03 11:11:34</td>\n",
              "      <td>1618.0</td>\n",
              "    </tr>\n",
              "    <tr>\n",
              "      <th>3</th>\n",
              "      <td>1</td>\n",
              "      <td>2019-05-03 11:18:04</td>\n",
              "      <td>1601.0</td>\n",
              "    </tr>\n",
              "    <tr>\n",
              "      <th>4</th>\n",
              "      <td>1</td>\n",
              "      <td>2019-05-03 11:25:59</td>\n",
              "      <td>1606.0</td>\n",
              "    </tr>\n",
              "  </tbody>\n",
              "</table>\n",
              "</div>"
            ],
            "text/plain": [
              "   key         Время замера  Температура\n",
              "0    1  2019-05-03 11:02:04       1571.0\n",
              "1    1  2019-05-03 11:07:18       1604.0\n",
              "2    1  2019-05-03 11:11:34       1618.0\n",
              "3    1  2019-05-03 11:18:04       1601.0\n",
              "4    1  2019-05-03 11:25:59       1606.0"
            ]
          },
          "execution_count": 37,
          "metadata": {},
          "output_type": "execute_result"
        }
      ],
      "source": [
        "temp.head()"
      ]
    },
    {
      "cell_type": "code",
      "execution_count": 38,
      "metadata": {
        "colab": {
          "base_uri": "https://localhost:8080/"
        },
        "id": "rd_PIjv1R2Ec",
        "outputId": "b522f598-4ffe-45eb-da12-23ab856db64f"
      },
      "outputs": [
        {
          "name": "stdout",
          "output_type": "stream",
          "text": [
            "<class 'pandas.core.frame.DataFrame'>\n",
            "RangeIndex: 3239 entries, 0 to 3238\n",
            "Data columns (total 2 columns):\n",
            " #   Column  Non-Null Count  Dtype  \n",
            "---  ------  --------------  -----  \n",
            " 0   key     3239 non-null   int64  \n",
            " 1   Газ 1   3239 non-null   float64\n",
            "dtypes: float64(1), int64(1)\n",
            "memory usage: 50.7 KB\n"
          ]
        }
      ],
      "source": [
        "gas.info()"
      ]
    },
    {
      "cell_type": "code",
      "execution_count": 39,
      "metadata": {
        "colab": {
          "base_uri": "https://localhost:8080/"
        },
        "id": "W6NFmtH8R2Ec",
        "outputId": "a859ab79-e109-4e9e-8589-ae3c971413c1"
      },
      "outputs": [
        {
          "name": "stdout",
          "output_type": "stream",
          "text": [
            "<class 'pandas.core.frame.DataFrame'>\n",
            "RangeIndex: 18092 entries, 0 to 18091\n",
            "Data columns (total 3 columns):\n",
            " #   Column        Non-Null Count  Dtype  \n",
            "---  ------        --------------  -----  \n",
            " 0   key           18092 non-null  int64  \n",
            " 1   Время замера  18092 non-null  object \n",
            " 2   Температура   14665 non-null  float64\n",
            "dtypes: float64(1), int64(1), object(1)\n",
            "memory usage: 424.2+ KB\n"
          ]
        }
      ],
      "source": [
        "temp.info()"
      ]
    },
    {
      "cell_type": "code",
      "execution_count": 40,
      "metadata": {
        "colab": {
          "base_uri": "https://localhost:8080/",
          "height": 144
        },
        "id": "ISBqguHZR2Ec",
        "outputId": "f3439625-66c0-4f2b-f860-c6ab4c10037d"
      },
      "outputs": [
        {
          "data": {
            "text/html": [
              "<div>\n",
              "<style scoped>\n",
              "    .dataframe tbody tr th:only-of-type {\n",
              "        vertical-align: middle;\n",
              "    }\n",
              "\n",
              "    .dataframe tbody tr th {\n",
              "        vertical-align: top;\n",
              "    }\n",
              "\n",
              "    .dataframe thead th {\n",
              "        text-align: right;\n",
              "    }\n",
              "</style>\n",
              "<table border=\"1\" class=\"dataframe\">\n",
              "  <thead>\n",
              "    <tr style=\"text-align: right;\">\n",
              "      <th></th>\n",
              "      <th>0</th>\n",
              "    </tr>\n",
              "  </thead>\n",
              "  <tbody>\n",
              "    <tr>\n",
              "      <th>key</th>\n",
              "      <td>0</td>\n",
              "    </tr>\n",
              "    <tr>\n",
              "      <th>Время замера</th>\n",
              "      <td>0</td>\n",
              "    </tr>\n",
              "    <tr>\n",
              "      <th>Температура</th>\n",
              "      <td>3427</td>\n",
              "    </tr>\n",
              "  </tbody>\n",
              "</table>\n",
              "</div>"
            ],
            "text/plain": [
              "                 0\n",
              "key              0\n",
              "Время замера     0\n",
              "Температура   3427"
            ]
          },
          "execution_count": 40,
          "metadata": {},
          "output_type": "execute_result"
        }
      ],
      "source": [
        "temp.isna().sum().to_frame()\n"
      ]
    },
    {
      "attachments": {},
      "cell_type": "markdown",
      "metadata": {
        "id": "QL3QEhfxR2Ec"
      },
      "source": [
        "В столбце в температурой много пропусков но заменить нечем. Мы имеем дело с промышленными данными, можно предположить, что пропуски возникли при отказах измерительного оборудования.\n"
      ]
    },
    {
      "cell_type": "code",
      "execution_count": 41,
      "metadata": {
        "colab": {
          "base_uri": "https://localhost:8080/"
        },
        "id": "sk9Wh0GfR2Ec",
        "outputId": "cf3dd08f-d7e2-4da1-cf92-b7b6f73e5956"
      },
      "outputs": [
        {
          "name": "stdout",
          "output_type": "stream",
          "text": [
            "<class 'pandas.core.frame.DataFrame'>\n",
            "RangeIndex: 18092 entries, 0 to 18091\n",
            "Data columns (total 3 columns):\n",
            " #   Column        Non-Null Count  Dtype         \n",
            "---  ------        --------------  -----         \n",
            " 0   key           18092 non-null  int64         \n",
            " 1   Время замера  18092 non-null  datetime64[ns]\n",
            " 2   Температура   14665 non-null  float64       \n",
            "dtypes: datetime64[ns](1), float64(1), int64(1)\n",
            "memory usage: 424.2 KB\n"
          ]
        }
      ],
      "source": [
        "# Приведем время к формату datatime\n",
        "temp['Время замера'] = pd.to_datetime(temp['Время замера'])\n",
        "temp.info()"
      ]
    },
    {
      "cell_type": "code",
      "execution_count": 42,
      "metadata": {
        "colab": {
          "base_uri": "https://localhost:8080/"
        },
        "id": "KE1Mb2OlR2Ec",
        "outputId": "51c43445-bad1-41a8-fac7-e80307620c7f"
      },
      "outputs": [
        {
          "name": "stdout",
          "output_type": "stream",
          "text": [
            "0\n",
            "0\n"
          ]
        }
      ],
      "source": [
        "# Проверим дубликаты:\n",
        "print(gas.duplicated().sum())\n",
        "print(temp.duplicated().sum())"
      ]
    },
    {
      "cell_type": "code",
      "execution_count": 43,
      "metadata": {
        "colab": {
          "base_uri": "https://localhost:8080/",
          "height": 468
        },
        "id": "z-hg8ecNR2Ed",
        "outputId": "cf7d7579-6094-4e8b-8de0-e903096bbdb9"
      },
      "outputs": [
        {
          "data": {
            "text/plain": [
              "Text(0.5, 1.0, 'Boxplot')"
            ]
          },
          "execution_count": 43,
          "metadata": {},
          "output_type": "execute_result"
        },
        {
          "data": {
            "image/png": "[encoded data removed]",
            "text/plain": [
              "<Figure size 500x500 with 1 Axes>"
            ]
          },
          "metadata": {},
          "output_type": "display_data"
        }
      ],
      "source": [
        "plt.figure(figsize=(5,5))\n",
        "sns.boxplot(data=temp, y='Температура')\n",
        "plt.title('Boxplot', fontsize=13, fontweight='bold')"
      ]
    },
    {
      "cell_type": "code",
      "execution_count": 44,
      "metadata": {
        "colab": {
          "base_uri": "https://localhost:8080/",
          "height": 487
        },
        "id": "GSK_mMEjR2Ed",
        "outputId": "0aca0923-ef61-4f96-d014-5bfc638475da"
      },
      "outputs": [
        {
          "data": {
            "image/png": "[encoded data removed]",
            "text/plain": [
              "<Figure size 1000x500 with 1 Axes>"
            ]
          },
          "metadata": {},
          "output_type": "display_data"
        }
      ],
      "source": [
        "# Анализ распределения температуры\n",
        "plt.figure(figsize=(10,5))\n",
        "sns.histplot(temp['Температура'], bins=100, kde=True)\n",
        "plt.title('Распределение температуры')\n",
        "plt.show()"
      ]
    },
    {
      "cell_type": "code",
      "execution_count": 45,
      "metadata": {
        "colab": {
          "base_uri": "https://localhost:8080/"
        },
        "id": "Y2PofhL8R2Ed",
        "outputId": "d60bebed-6d98-4124-fa78-2d2486c0e786"
      },
      "outputs": [
        {
          "name": "stdout",
          "output_type": "stream",
          "text": [
            "Int64Index([2993, 2992, 2991, 2990, 2995, 2989, 2988, 2987, 2994, 2999,\n",
            "            ...\n",
            "            2742, 2743, 2744, 2745, 2746, 2747, 2748, 2749, 2750, 3241],\n",
            "           dtype='int64', length=740)\n",
            "   key        Время замера  Температура\n",
            "0    1 2019-05-03 11:02:04       1571.0\n",
            "1    1 2019-05-03 11:07:18       1604.0\n",
            "2    1 2019-05-03 11:11:34       1618.0\n",
            "3    1 2019-05-03 11:18:04       1601.0\n",
            "4    1 2019-05-03 11:25:59       1606.0\n",
            "5    1 2019-05-03 11:30:38       1613.0\n"
          ]
        }
      ],
      "source": [
        "# есть низкие температуры  < 1500 – нужно удалить из объединенной выборки(требование заказчика)\n",
        "temp = temp[temp['Температура'] >= 1500]\n",
        "# Затем для удаления партий с одним замером, мы сначала найдем такие партии, а затем удалим их:\n",
        "# Находим партии с одним замером\n",
        "one_measurement_keys = temp['key'].value_counts()\n",
        "one_measurement_keys = one_measurement_keys[one_measurement_keys == 1].index\n",
        "print(one_measurement_keys)\n",
        "# Удаляем эти партии из temp\n",
        "temp = temp[~temp['key'].isin(one_measurement_keys)]\n",
        "print(temp.head(6))"
      ]
    },
    {
      "cell_type": "code",
      "execution_count": 46,
      "metadata": {
        "colab": {
          "base_uri": "https://localhost:8080/",
          "height": 548
        },
        "id": "zcxBAGfoR2Ed",
        "outputId": "b9b841e3-ab8a-4fdf-c468-9d5aa32d2392"
      },
      "outputs": [
        {
          "data": {
            "text/html": [
              "<div>\n",
              "<style scoped>\n",
              "    .dataframe tbody tr th:only-of-type {\n",
              "        vertical-align: middle;\n",
              "    }\n",
              "\n",
              "    .dataframe tbody tr th {\n",
              "        vertical-align: top;\n",
              "    }\n",
              "\n",
              "    .dataframe thead th {\n",
              "        text-align: right;\n",
              "    }\n",
              "</style>\n",
              "<table border=\"1\" class=\"dataframe\">\n",
              "  <thead>\n",
              "    <tr style=\"text-align: right;\">\n",
              "      <th></th>\n",
              "      <th>first_temp</th>\n",
              "      <th>last_temp</th>\n",
              "    </tr>\n",
              "    <tr>\n",
              "      <th>key</th>\n",
              "      <th></th>\n",
              "      <th></th>\n",
              "    </tr>\n",
              "  </thead>\n",
              "  <tbody>\n",
              "    <tr>\n",
              "      <th>1</th>\n",
              "      <td>1571.0</td>\n",
              "      <td>1613.0</td>\n",
              "    </tr>\n",
              "    <tr>\n",
              "      <th>2</th>\n",
              "      <td>1581.0</td>\n",
              "      <td>1602.0</td>\n",
              "    </tr>\n",
              "    <tr>\n",
              "      <th>3</th>\n",
              "      <td>1596.0</td>\n",
              "      <td>1599.0</td>\n",
              "    </tr>\n",
              "    <tr>\n",
              "      <th>4</th>\n",
              "      <td>1601.0</td>\n",
              "      <td>1625.0</td>\n",
              "    </tr>\n",
              "    <tr>\n",
              "      <th>5</th>\n",
              "      <td>1576.0</td>\n",
              "      <td>1602.0</td>\n",
              "    </tr>\n",
              "    <tr>\n",
              "      <th>...</th>\n",
              "      <td>...</td>\n",
              "      <td>...</td>\n",
              "    </tr>\n",
              "    <tr>\n",
              "      <th>2495</th>\n",
              "      <td>1570.0</td>\n",
              "      <td>1591.0</td>\n",
              "    </tr>\n",
              "    <tr>\n",
              "      <th>2496</th>\n",
              "      <td>1554.0</td>\n",
              "      <td>1591.0</td>\n",
              "    </tr>\n",
              "    <tr>\n",
              "      <th>2497</th>\n",
              "      <td>1571.0</td>\n",
              "      <td>1589.0</td>\n",
              "    </tr>\n",
              "    <tr>\n",
              "      <th>2498</th>\n",
              "      <td>1591.0</td>\n",
              "      <td>1594.0</td>\n",
              "    </tr>\n",
              "    <tr>\n",
              "      <th>2499</th>\n",
              "      <td>1569.0</td>\n",
              "      <td>1603.0</td>\n",
              "    </tr>\n",
              "  </tbody>\n",
              "</table>\n",
              "<p>2475 rows × 2 columns</p>\n",
              "</div>"
            ],
            "text/plain": [
              "      first_temp  last_temp\n",
              "key                        \n",
              "1         1571.0     1613.0\n",
              "2         1581.0     1602.0\n",
              "3         1596.0     1599.0\n",
              "4         1601.0     1625.0\n",
              "5         1576.0     1602.0\n",
              "...          ...        ...\n",
              "2495      1570.0     1591.0\n",
              "2496      1554.0     1591.0\n",
              "2497      1571.0     1589.0\n",
              "2498      1591.0     1594.0\n",
              "2499      1569.0     1603.0\n",
              "\n",
              "[2475 rows x 2 columns]"
            ]
          },
          "execution_count": 46,
          "metadata": {},
          "output_type": "execute_result"
        }
      ],
      "source": [
        "# Для агрегирования данных по первой и последней температуре для каждого ключа (или партии), мы можете использовать следующий подход:\n",
        "# Сначала сортируем данные по времени замера\n",
        "temp.sort_values(by=['key', 'Время замера'], inplace=True)\n",
        "\n",
        "# Затем группируем данные по ключу и выбираем первую и последнюю температуру для каждого ключа\n",
        "first_temp = temp.groupby('key')['Температура'].first()\n",
        "last_temp = temp.groupby('key')['Температура'].last()\n",
        "\n",
        "# Создаем новый DataFrame с двумя столбцами: первой и последней температурой\n",
        "aggregated_temp = pd.DataFrame({'first_temp': first_temp, 'last_temp': last_temp})\n",
        "aggregated_temp\n"
      ]
    },
    {
      "cell_type": "code",
      "execution_count": 47,
      "metadata": {
        "colab": {
          "base_uri": "https://localhost:8080/"
        },
        "id": "3FWvfSf2R2Ee",
        "outputId": "ff0b0f6f-7319-466c-e255-2e77b984e28f"
      },
      "outputs": [],
      "source": [
        "# Сначала сортируем данные по времени замера\n",
        "temp.sort_values(by=['key', 'Время замера'], inplace=True)\n",
        "\n",
        "# Затем группируем данные по ключу и выбираем первое и последнее время замера для каждого ключа\n",
        "first_time = temp.groupby('key')['Время замера'].first()\n",
        "last_time = temp.groupby('key')['Время замера'].last()\n",
        "\n",
        "# Добавляем новый столбец в DataFrame, который представляет собой разницу во времени между первым и последним замером\n",
        "aggregated_temp['time_diff'] = last_time - first_time"
      ]
    },
    {
      "cell_type": "code",
      "execution_count": 48,
      "metadata": {
        "colab": {
          "base_uri": "https://localhost:8080/",
          "height": 564
        },
        "id": "EFNQXX15R2Ee",
        "outputId": "e6e5c293-4e80-43f3-9e7f-8578941c8ee6"
      },
      "outputs": [
        {
          "data": {
            "image/png": "[encoded data removed]",
            "text/plain": [
              "<Figure size 1000x600 with 1 Axes>"
            ]
          },
          "metadata": {},
          "output_type": "display_data"
        }
      ],
      "source": [
        "import matplotlib.pyplot as plt\n",
        "\n",
        "# Переводим разницу времени в секунды для более простого отображения\n",
        "aggregated_temp['time_diff_sec'] = aggregated_temp['time_diff'].dt.total_seconds()\n",
        "\n",
        "# Подсчет разницы температур\n",
        "aggregated_temp['temp_diff'] = aggregated_temp['last_temp'] - aggregated_temp['first_temp']\n",
        "\n",
        "plt.figure(figsize=(10, 6))\n",
        "plt.scatter(aggregated_temp['time_diff_sec'], aggregated_temp['temp_diff'])\n",
        "plt.title('Зависимость разницы в температуре от разницы во времени')\n",
        "plt.xlabel('Разница во времени (секунды)')\n",
        "plt.ylabel('Разница в температуре')\n",
        "plt.show()\n"
      ]
    },
    {
      "attachments": {},
      "cell_type": "markdown",
      "metadata": {
        "id": "Uyq6KpT6R2Ee"
      },
      "source": [
        "Есть выбросы но по требованию заказчика с ними ничего не делаем\n"
      ]
    },
    {
      "cell_type": "code",
      "execution_count": 49,
      "metadata": {
        "colab": {
          "base_uri": "https://localhost:8080/",
          "height": 455
        },
        "id": "WHeE3N4fR2Ee",
        "outputId": "d8f86455-dfa5-43bc-b5da-752c6e4c6442"
      },
      "outputs": [
        {
          "data": {
            "text/html": [
              "<div>\n",
              "<style scoped>\n",
              "    .dataframe tbody tr th:only-of-type {\n",
              "        vertical-align: middle;\n",
              "    }\n",
              "\n",
              "    .dataframe tbody tr th {\n",
              "        vertical-align: top;\n",
              "    }\n",
              "\n",
              "    .dataframe thead th {\n",
              "        text-align: right;\n",
              "    }\n",
              "</style>\n",
              "<table border=\"1\" class=\"dataframe\">\n",
              "  <thead>\n",
              "    <tr style=\"text-align: right;\">\n",
              "      <th></th>\n",
              "      <th>first_temp</th>\n",
              "      <th>last_temp</th>\n",
              "      <th>time_diff</th>\n",
              "      <th>time_diff_sec</th>\n",
              "      <th>temp_diff</th>\n",
              "    </tr>\n",
              "    <tr>\n",
              "      <th>key</th>\n",
              "      <th></th>\n",
              "      <th></th>\n",
              "      <th></th>\n",
              "      <th></th>\n",
              "      <th></th>\n",
              "    </tr>\n",
              "  </thead>\n",
              "  <tbody>\n",
              "    <tr>\n",
              "      <th>1</th>\n",
              "      <td>1571.0</td>\n",
              "      <td>1613.0</td>\n",
              "      <td>0 days 00:28:34</td>\n",
              "      <td>1714.0</td>\n",
              "      <td>42.0</td>\n",
              "    </tr>\n",
              "    <tr>\n",
              "      <th>2</th>\n",
              "      <td>1581.0</td>\n",
              "      <td>1602.0</td>\n",
              "      <td>0 days 00:21:05</td>\n",
              "      <td>1265.0</td>\n",
              "      <td>21.0</td>\n",
              "    </tr>\n",
              "    <tr>\n",
              "      <th>3</th>\n",
              "      <td>1596.0</td>\n",
              "      <td>1599.0</td>\n",
              "      <td>0 days 00:29:13</td>\n",
              "      <td>1753.0</td>\n",
              "      <td>3.0</td>\n",
              "    </tr>\n",
              "    <tr>\n",
              "      <th>4</th>\n",
              "      <td>1601.0</td>\n",
              "      <td>1625.0</td>\n",
              "      <td>0 days 00:20:20</td>\n",
              "      <td>1220.0</td>\n",
              "      <td>24.0</td>\n",
              "    </tr>\n",
              "    <tr>\n",
              "      <th>5</th>\n",
              "      <td>1576.0</td>\n",
              "      <td>1602.0</td>\n",
              "      <td>0 days 00:25:36</td>\n",
              "      <td>1536.0</td>\n",
              "      <td>26.0</td>\n",
              "    </tr>\n",
              "    <tr>\n",
              "      <th>...</th>\n",
              "      <td>...</td>\n",
              "      <td>...</td>\n",
              "      <td>...</td>\n",
              "      <td>...</td>\n",
              "      <td>...</td>\n",
              "    </tr>\n",
              "    <tr>\n",
              "      <th>2495</th>\n",
              "      <td>1570.0</td>\n",
              "      <td>1591.0</td>\n",
              "      <td>0 days 00:23:00</td>\n",
              "      <td>1380.0</td>\n",
              "      <td>21.0</td>\n",
              "    </tr>\n",
              "    <tr>\n",
              "      <th>2496</th>\n",
              "      <td>1554.0</td>\n",
              "      <td>1591.0</td>\n",
              "      <td>0 days 00:28:25</td>\n",
              "      <td>1705.0</td>\n",
              "      <td>37.0</td>\n",
              "    </tr>\n",
              "    <tr>\n",
              "      <th>2497</th>\n",
              "      <td>1571.0</td>\n",
              "      <td>1589.0</td>\n",
              "      <td>0 days 00:16:02</td>\n",
              "      <td>962.0</td>\n",
              "      <td>18.0</td>\n",
              "    </tr>\n",
              "    <tr>\n",
              "      <th>2498</th>\n",
              "      <td>1591.0</td>\n",
              "      <td>1594.0</td>\n",
              "      <td>0 days 00:25:20</td>\n",
              "      <td>1520.0</td>\n",
              "      <td>3.0</td>\n",
              "    </tr>\n",
              "    <tr>\n",
              "      <th>2499</th>\n",
              "      <td>1569.0</td>\n",
              "      <td>1603.0</td>\n",
              "      <td>0 days 00:25:37</td>\n",
              "      <td>1537.0</td>\n",
              "      <td>34.0</td>\n",
              "    </tr>\n",
              "  </tbody>\n",
              "</table>\n",
              "<p>2475 rows × 5 columns</p>\n",
              "</div>"
            ],
            "text/plain": [
              "      first_temp  last_temp       time_diff  time_diff_sec  temp_diff\n",
              "key                                                                  \n",
              "1         1571.0     1613.0 0 days 00:28:34         1714.0       42.0\n",
              "2         1581.0     1602.0 0 days 00:21:05         1265.0       21.0\n",
              "3         1596.0     1599.0 0 days 00:29:13         1753.0        3.0\n",
              "4         1601.0     1625.0 0 days 00:20:20         1220.0       24.0\n",
              "5         1576.0     1602.0 0 days 00:25:36         1536.0       26.0\n",
              "...          ...        ...             ...            ...        ...\n",
              "2495      1570.0     1591.0 0 days 00:23:00         1380.0       21.0\n",
              "2496      1554.0     1591.0 0 days 00:28:25         1705.0       37.0\n",
              "2497      1571.0     1589.0 0 days 00:16:02          962.0       18.0\n",
              "2498      1591.0     1594.0 0 days 00:25:20         1520.0        3.0\n",
              "2499      1569.0     1603.0 0 days 00:25:37         1537.0       34.0\n",
              "\n",
              "[2475 rows x 5 columns]"
            ]
          },
          "execution_count": 49,
          "metadata": {},
          "output_type": "execute_result"
        }
      ],
      "source": [
        "temp = aggregated_temp\n",
        "temp"
      ]
    },
    {
      "cell_type": "code",
      "execution_count": 50,
      "metadata": {
        "colab": {
          "base_uri": "https://localhost:8080/",
          "height": 452
        },
        "id": "CDHODsp8R2Ee",
        "outputId": "846aa91d-f070-45c9-d35f-2965b4a0638d"
      },
      "outputs": [
        {
          "data": {
            "image/png": "[encoded data removed]",
            "text/plain": [
              "<Figure size 640x480 with 1 Axes>"
            ]
          },
          "metadata": {},
          "output_type": "display_data"
        }
      ],
      "source": [
        "plt.hist((list(gas['Газ 1'])), bins=20)\n",
        "plt.title('Гистограмма по столбцу Газ 1')\n",
        "plt.show()"
      ]
    },
    {
      "cell_type": "code",
      "execution_count": 51,
      "metadata": {
        "colab": {
          "base_uri": "https://localhost:8080/",
          "height": 238
        },
        "id": "44qZZd9QR2Ef",
        "outputId": "dc26abd4-b0da-4a42-d8bb-94acaf9f4e01"
      },
      "outputs": [
        {
          "data": {
            "text/html": [
              "<div>\n",
              "<style scoped>\n",
              "    .dataframe tbody tr th:only-of-type {\n",
              "        vertical-align: middle;\n",
              "    }\n",
              "\n",
              "    .dataframe tbody tr th {\n",
              "        vertical-align: top;\n",
              "    }\n",
              "\n",
              "    .dataframe thead th {\n",
              "        text-align: right;\n",
              "    }\n",
              "</style>\n",
              "<table border=\"1\" class=\"dataframe\">\n",
              "  <thead>\n",
              "    <tr style=\"text-align: right;\">\n",
              "      <th></th>\n",
              "      <th>Газ 1</th>\n",
              "    </tr>\n",
              "    <tr>\n",
              "      <th>key</th>\n",
              "      <th></th>\n",
              "    </tr>\n",
              "  </thead>\n",
              "  <tbody>\n",
              "    <tr>\n",
              "      <th>1</th>\n",
              "      <td>29.749986</td>\n",
              "    </tr>\n",
              "    <tr>\n",
              "      <th>2</th>\n",
              "      <td>12.555561</td>\n",
              "    </tr>\n",
              "    <tr>\n",
              "      <th>3</th>\n",
              "      <td>28.554793</td>\n",
              "    </tr>\n",
              "    <tr>\n",
              "      <th>4</th>\n",
              "      <td>18.841219</td>\n",
              "    </tr>\n",
              "    <tr>\n",
              "      <th>5</th>\n",
              "      <td>5.413692</td>\n",
              "    </tr>\n",
              "  </tbody>\n",
              "</table>\n",
              "</div>"
            ],
            "text/plain": [
              "         Газ 1\n",
              "key           \n",
              "1    29.749986\n",
              "2    12.555561\n",
              "3    28.554793\n",
              "4    18.841219\n",
              "5     5.413692"
            ]
          },
          "execution_count": 51,
          "metadata": {},
          "output_type": "execute_result"
        }
      ],
      "source": [
        "# Проиндексируем по номерам партий:\n",
        "gas.set_index('key', inplace = True)\n",
        "gas.head()"
      ]
    },
    {
      "cell_type": "code",
      "execution_count": 52,
      "metadata": {
        "colab": {
          "base_uri": "https://localhost:8080/",
          "height": 564
        },
        "id": "GP_vsT3kR2Ef",
        "outputId": "85054cb3-a315-4b77-87b2-8dccd449e196"
      },
      "outputs": [
        {
          "data": {
            "image/png": "[encoded data removed]",
            "text/plain": [
              "<Figure size 1000x600 with 1 Axes>"
            ]
          },
          "metadata": {},
          "output_type": "display_data"
        }
      ],
      "source": [
        "sns.set_style('whitegrid') # устанавливаем стиль графика\n",
        "\n",
        "plt.figure(figsize=(10,6)) # задаем размер графика\n",
        "sns.histplot(data=gas, x='Газ 1', kde=True, bins=50) # строим гистограмму и ядерную оценку плотности (kde)\n",
        "\n",
        "plt.title('Распределение данных о продувке газом') # заголовок графика\n",
        "plt.xlabel('Объем газа') # подпись оси x\n",
        "plt.ylabel('Частота') # подпись оси y\n",
        "plt.show() # показываем график"
      ]
    },
    {
      "attachments": {},
      "cell_type": "markdown",
      "metadata": {
        "id": "H4hMDIYQR2Ef"
      },
      "source": [
        "#### Вывод по gas and temp"
      ]
    },
    {
      "attachments": {},
      "cell_type": "markdown",
      "metadata": {
        "id": "yEBzua9XR2Ef"
      },
      "source": [
        "1. В столбце в температурой много пропусков. Везде где температура меньше температуры плавления удаляем.(1500)\n",
        "2. Дубликаты отсутствуют\n",
        "3. Партии с одним замером нашли и удалили \n",
        "4. Агегировали по key оставили только начальную и конечную температуру. Разницу времени между ними, разницу температур\n",
        "5. в таблице gas проиндексировали по номеру партии"
      ]
    },
    {
      "attachments": {},
      "cell_type": "markdown",
      "metadata": {
        "id": "wXa8j_23R2Ef"
      },
      "source": [
        "### Промежуточные выводы по исследовательскому анализу данных "
      ]
    },
    {
      "attachments": {},
      "cell_type": "markdown",
      "metadata": {
        "id": "alZVCuw4R2Eg"
      },
      "source": [
        "Мы провели исследовательский анализ данных, в ходе которого было выявлено:\n",
        "1. Дубликаты отсутствуют.\n",
        "2. Во всех таблицах были выявлены пропуски данных. Природа части пропусков известна от заказчика.\n",
        "3. Партии с одним замером в температуре, мощности электродов удалили(от заказчика)\n",
        "4. В некоторых колонках были выявлены подозрительные значения. Они могли появиться в данных например, в результате сбоя измерительного оборудования;\n",
        "5. Были выявлены замеры температуры менее 1500 градусов. Данные удалены. (от заказчика)\n",
        "6. Была выявлена партия с отрицательной реактивной мощностью. Данные этой партии удалили.(от заказчика)\n",
        "7. Во всех таблицах количество уникальных значений в столбце key различается. При формировании единой таблицы обучающих признаков будет использовать inner.\n",
        "8. Все таблицы проиндекировали по номеру партии\n",
        "9. Пропуски в сыпучих материалах заменили на \"0\"(от заказчика)\n",
        "10. Высчитали время нагрева и полную мощность.\n",
        "11. Время привели к формату datetime\n",
        "12. В таблице temp оставили агрегировали по key. Оставили значение первой и последней температуры разницу между ними. И время первой и посленего замера и разница между ними"
      ]
    },
    {
      "attachments": {},
      "cell_type": "markdown",
      "metadata": {
        "id": "mTejDEUuR2Eg"
      },
      "source": [
        "## Формирование единой таблицы"
      ]
    },
    {
      "attachments": {},
      "cell_type": "markdown",
      "metadata": {
        "id": "gXe4PhjRR2Eg"
      },
      "source": [
        "Данные о времени подачи материала нам не пригодятся, поэтому не будем добавлять их в единую таблицу.\n",
        "\n"
      ]
    },
    {
      "cell_type": "code",
      "execution_count": 53,
      "metadata": {
        "colab": {
          "base_uri": "https://localhost:8080/",
          "height": 267
        },
        "id": "ZCkkxIdPR2Eg",
        "outputId": "59e12a20-a4de-4b09-d1c9-5fce45471ae4"
      },
      "outputs": [
        {
          "data": {
            "text/html": [
              "<div>\n",
              "<style scoped>\n",
              "    .dataframe tbody tr th:only-of-type {\n",
              "        vertical-align: middle;\n",
              "    }\n",
              "\n",
              "    .dataframe tbody tr th {\n",
              "        vertical-align: top;\n",
              "    }\n",
              "\n",
              "    .dataframe thead th {\n",
              "        text-align: right;\n",
              "    }\n",
              "</style>\n",
              "<table border=\"1\" class=\"dataframe\">\n",
              "  <thead>\n",
              "    <tr style=\"text-align: right;\">\n",
              "      <th></th>\n",
              "      <th>time</th>\n",
              "      <th>power</th>\n",
              "      <th>act_power</th>\n",
              "      <th>first_temp</th>\n",
              "      <th>last_temp</th>\n",
              "      <th>time_diff</th>\n",
              "      <th>time_diff_sec</th>\n",
              "      <th>temp_diff</th>\n",
              "      <th>Газ 1</th>\n",
              "      <th>Wire 1</th>\n",
              "      <th>...</th>\n",
              "      <th>Bulk 6</th>\n",
              "      <th>Bulk 7</th>\n",
              "      <th>Bulk 8</th>\n",
              "      <th>Bulk 9</th>\n",
              "      <th>Bulk 10</th>\n",
              "      <th>Bulk 11</th>\n",
              "      <th>Bulk 12</th>\n",
              "      <th>Bulk 13</th>\n",
              "      <th>Bulk 14</th>\n",
              "      <th>Bulk 15</th>\n",
              "    </tr>\n",
              "    <tr>\n",
              "      <th>key</th>\n",
              "      <th></th>\n",
              "      <th></th>\n",
              "      <th></th>\n",
              "      <th></th>\n",
              "      <th></th>\n",
              "      <th></th>\n",
              "      <th></th>\n",
              "      <th></th>\n",
              "      <th></th>\n",
              "      <th></th>\n",
              "      <th></th>\n",
              "      <th></th>\n",
              "      <th></th>\n",
              "      <th></th>\n",
              "      <th></th>\n",
              "      <th></th>\n",
              "      <th></th>\n",
              "      <th></th>\n",
              "      <th></th>\n",
              "      <th></th>\n",
              "      <th></th>\n",
              "    </tr>\n",
              "  </thead>\n",
              "  <tbody>\n",
              "    <tr>\n",
              "      <th>2495</th>\n",
              "      <td>723.0</td>\n",
              "      <td>694.177326</td>\n",
              "      <td>571.539318</td>\n",
              "      <td>1570.0</td>\n",
              "      <td>1591.0</td>\n",
              "      <td>0 days 00:23:00</td>\n",
              "      <td>1380.0</td>\n",
              "      <td>21.0</td>\n",
              "      <td>7.125735</td>\n",
              "      <td>89.150879</td>\n",
              "      <td>...</td>\n",
              "      <td>0.0</td>\n",
              "      <td>0.0</td>\n",
              "      <td>0.0</td>\n",
              "      <td>0.0</td>\n",
              "      <td>90.0</td>\n",
              "      <td>0.0</td>\n",
              "      <td>256.0</td>\n",
              "      <td>0.0</td>\n",
              "      <td>129.0</td>\n",
              "      <td>223.0</td>\n",
              "    </tr>\n",
              "    <tr>\n",
              "      <th>2496</th>\n",
              "      <td>940.0</td>\n",
              "      <td>815.818538</td>\n",
              "      <td>675.222467</td>\n",
              "      <td>1554.0</td>\n",
              "      <td>1591.0</td>\n",
              "      <td>0 days 00:28:25</td>\n",
              "      <td>1705.0</td>\n",
              "      <td>37.0</td>\n",
              "      <td>9.412616</td>\n",
              "      <td>114.179527</td>\n",
              "      <td>...</td>\n",
              "      <td>0.0</td>\n",
              "      <td>0.0</td>\n",
              "      <td>0.0</td>\n",
              "      <td>0.0</td>\n",
              "      <td>122.0</td>\n",
              "      <td>0.0</td>\n",
              "      <td>256.0</td>\n",
              "      <td>0.0</td>\n",
              "      <td>129.0</td>\n",
              "      <td>226.0</td>\n",
              "    </tr>\n",
              "    <tr>\n",
              "      <th>2497</th>\n",
              "      <td>569.0</td>\n",
              "      <td>823.020520</td>\n",
              "      <td>680.326674</td>\n",
              "      <td>1571.0</td>\n",
              "      <td>1589.0</td>\n",
              "      <td>0 days 00:16:02</td>\n",
              "      <td>962.0</td>\n",
              "      <td>18.0</td>\n",
              "      <td>6.271699</td>\n",
              "      <td>94.086723</td>\n",
              "      <td>...</td>\n",
              "      <td>0.0</td>\n",
              "      <td>0.0</td>\n",
              "      <td>0.0</td>\n",
              "      <td>0.0</td>\n",
              "      <td>0.0</td>\n",
              "      <td>0.0</td>\n",
              "      <td>230.0</td>\n",
              "      <td>0.0</td>\n",
              "      <td>124.0</td>\n",
              "      <td>226.0</td>\n",
              "    </tr>\n",
              "    <tr>\n",
              "      <th>2498</th>\n",
              "      <td>750.0</td>\n",
              "      <td>581.810739</td>\n",
              "      <td>474.918795</td>\n",
              "      <td>1591.0</td>\n",
              "      <td>1594.0</td>\n",
              "      <td>0 days 00:25:20</td>\n",
              "      <td>1520.0</td>\n",
              "      <td>3.0</td>\n",
              "      <td>14.953657</td>\n",
              "      <td>118.110717</td>\n",
              "      <td>...</td>\n",
              "      <td>0.0</td>\n",
              "      <td>0.0</td>\n",
              "      <td>0.0</td>\n",
              "      <td>0.0</td>\n",
              "      <td>101.0</td>\n",
              "      <td>0.0</td>\n",
              "      <td>206.0</td>\n",
              "      <td>0.0</td>\n",
              "      <td>129.0</td>\n",
              "      <td>207.0</td>\n",
              "    </tr>\n",
              "    <tr>\n",
              "      <th>2499</th>\n",
              "      <td>883.0</td>\n",
              "      <td>532.386183</td>\n",
              "      <td>427.922553</td>\n",
              "      <td>1569.0</td>\n",
              "      <td>1603.0</td>\n",
              "      <td>0 days 00:25:37</td>\n",
              "      <td>1537.0</td>\n",
              "      <td>34.0</td>\n",
              "      <td>11.336151</td>\n",
              "      <td>110.160958</td>\n",
              "      <td>...</td>\n",
              "      <td>0.0</td>\n",
              "      <td>0.0</td>\n",
              "      <td>0.0</td>\n",
              "      <td>0.0</td>\n",
              "      <td>0.0</td>\n",
              "      <td>0.0</td>\n",
              "      <td>233.0</td>\n",
              "      <td>0.0</td>\n",
              "      <td>126.0</td>\n",
              "      <td>227.0</td>\n",
              "    </tr>\n",
              "  </tbody>\n",
              "</table>\n",
              "<p>5 rows × 33 columns</p>\n",
              "</div>"
            ],
            "text/plain": [
              "       time       power   act_power  first_temp  last_temp       time_diff  \\\n",
              "key                                                                          \n",
              "2495  723.0  694.177326  571.539318      1570.0     1591.0 0 days 00:23:00   \n",
              "2496  940.0  815.818538  675.222467      1554.0     1591.0 0 days 00:28:25   \n",
              "2497  569.0  823.020520  680.326674      1571.0     1589.0 0 days 00:16:02   \n",
              "2498  750.0  581.810739  474.918795      1591.0     1594.0 0 days 00:25:20   \n",
              "2499  883.0  532.386183  427.922553      1569.0     1603.0 0 days 00:25:37   \n",
              "\n",
              "      time_diff_sec  temp_diff      Газ 1      Wire 1  ...  Bulk 6  Bulk 7  \\\n",
              "key                                                    ...                   \n",
              "2495         1380.0       21.0   7.125735   89.150879  ...     0.0     0.0   \n",
              "2496         1705.0       37.0   9.412616  114.179527  ...     0.0     0.0   \n",
              "2497          962.0       18.0   6.271699   94.086723  ...     0.0     0.0   \n",
              "2498         1520.0        3.0  14.953657  118.110717  ...     0.0     0.0   \n",
              "2499         1537.0       34.0  11.336151  110.160958  ...     0.0     0.0   \n",
              "\n",
              "      Bulk 8  Bulk 9  Bulk 10  Bulk 11  Bulk 12  Bulk 13  Bulk 14  Bulk 15  \n",
              "key                                                                         \n",
              "2495     0.0     0.0     90.0      0.0    256.0      0.0    129.0    223.0  \n",
              "2496     0.0     0.0    122.0      0.0    256.0      0.0    129.0    226.0  \n",
              "2497     0.0     0.0      0.0      0.0    230.0      0.0    124.0    226.0  \n",
              "2498     0.0     0.0    101.0      0.0    206.0      0.0    129.0    207.0  \n",
              "2499     0.0     0.0      0.0      0.0    233.0      0.0    126.0    227.0  \n",
              "\n",
              "[5 rows x 33 columns]"
            ]
          },
          "execution_count": 53,
          "metadata": {},
          "output_type": "execute_result"
        }
      ],
      "source": [
        "# Объединение всех таблиц в одну по ключу\n",
        "df = arc.join([temp, gas, wire, bulk], how='inner')\n",
        "df.tail()"
      ]
    },
    {
      "cell_type": "code",
      "execution_count": 54,
      "metadata": {
        "colab": {
          "base_uri": "https://localhost:8080/"
        },
        "id": "fUu796CBR2Eg",
        "outputId": "e76e4bf9-f7ea-4367-fe5d-6c13b0a7a984"
      },
      "outputs": [
        {
          "name": "stdout",
          "output_type": "stream",
          "text": [
            "<class 'pandas.core.frame.DataFrame'>\n",
            "Int64Index: 2303 entries, 1 to 2499\n",
            "Data columns (total 33 columns):\n",
            " #   Column         Non-Null Count  Dtype          \n",
            "---  ------         --------------  -----          \n",
            " 0   time           2303 non-null   float64        \n",
            " 1   power          2303 non-null   float64        \n",
            " 2   act_power      2303 non-null   float64        \n",
            " 3   first_temp     2303 non-null   float64        \n",
            " 4   last_temp      2303 non-null   float64        \n",
            " 5   time_diff      2303 non-null   timedelta64[ns]\n",
            " 6   time_diff_sec  2303 non-null   float64        \n",
            " 7   temp_diff      2303 non-null   float64        \n",
            " 8   Газ 1          2303 non-null   float64        \n",
            " 9   Wire 1         2303 non-null   float64        \n",
            " 10  Wire 2         2303 non-null   float64        \n",
            " 11  Wire 3         2303 non-null   float64        \n",
            " 12  Wire 4         2303 non-null   float64        \n",
            " 13  Wire 5         2303 non-null   float64        \n",
            " 14  Wire 6         2303 non-null   float64        \n",
            " 15  Wire 7         2303 non-null   float64        \n",
            " 16  Wire 8         2303 non-null   float64        \n",
            " 17  Wire 9         2303 non-null   float64        \n",
            " 18  Bulk 1         2303 non-null   float64        \n",
            " 19  Bulk 2         2303 non-null   float64        \n",
            " 20  Bulk 3         2303 non-null   float64        \n",
            " 21  Bulk 4         2303 non-null   float64        \n",
            " 22  Bulk 5         2303 non-null   float64        \n",
            " 23  Bulk 6         2303 non-null   float64        \n",
            " 24  Bulk 7         2303 non-null   float64        \n",
            " 25  Bulk 8         2303 non-null   float64        \n",
            " 26  Bulk 9         2303 non-null   float64        \n",
            " 27  Bulk 10        2303 non-null   float64        \n",
            " 28  Bulk 11        2303 non-null   float64        \n",
            " 29  Bulk 12        2303 non-null   float64        \n",
            " 30  Bulk 13        2303 non-null   float64        \n",
            " 31  Bulk 14        2303 non-null   float64        \n",
            " 32  Bulk 15        2303 non-null   float64        \n",
            "dtypes: float64(32), timedelta64[ns](1)\n",
            "memory usage: 611.7 KB\n"
          ]
        }
      ],
      "source": [
        "df.info()"
      ]
    },
    {
      "attachments": {},
      "cell_type": "markdown",
      "metadata": {
        "id": "pq2vud92R2Eg"
      },
      "source": [
        "Данные объеденены, посмотрим на корреляции."
      ]
    },
    {
      "cell_type": "code",
      "execution_count": 55,
      "metadata": {
        "colab": {
          "base_uri": "https://localhost:8080/",
          "height": 908
        },
        "id": "j3cvuaRYR2Eh",
        "outputId": "167797e7-903f-4f83-87b9-336bbfe8d733"
      },
      "outputs": [
        {
          "data": {
            "image/png": "[encoded data removed]",
            "text/plain": [
              "<Figure size 1500x1000 with 2 Axes>"
            ]
          },
          "metadata": {},
          "output_type": "display_data"
        }
      ],
      "source": [
        "# Вычисляем матрицу корреляций\n",
        "corr_matrix = df.corr(numeric_only=True)\n",
        "\n",
        "# Создаем маску для отображения только нижнего треугольника матрицы (так как матрица корреляций симметрична)\n",
        "mask = np.triu(np.ones_like(corr_matrix, dtype=bool))\n",
        "\n",
        "# Размер графика\n",
        "plt.figure(figsize=(15, 10))\n",
        "\n",
        "# Построение тепловой карты\n",
        "sns.heatmap(corr_matrix, mask=mask, annot=True, fmt=\".2f\", linewidths=.5, cmap='coolwarm')\n",
        "\n",
        "# Поворот заголовков для лучшего отображения\n",
        "plt.xticks(rotation=90)\n",
        "plt.yticks(rotation=0)\n",
        "plt.show()"
      ]
    },
    {
      "attachments": {},
      "cell_type": "markdown",
      "metadata": {
        "id": "J-jdZlxoR2Eh"
      },
      "source": [
        "Критерий Пирсона не выявил сильных линейных корреляций с целевым признаком. Есть корреляция между power and time, power and act_power, что логично"
      ]
    },
    {
      "cell_type": "code",
      "execution_count": 56,
      "metadata": {},
      "outputs": [],
      "source": [
        "df = df.drop(columns = ['time','power', 'Wire 5', 'temp_diff', 'time_diff'], axis = 1)\n",
        "# Дополнительно удали temp_diff - так это разница температур первой и последней.\n",
        "# Удалил time_diff т.к. останется этот же столбец но в секндах time_diff_sec\n"
      ]
    },
    {
      "attachments": {},
      "cell_type": "markdown",
      "metadata": {
        "id": "OPy-mv_1R2Ej"
      },
      "source": [
        "## Основная часть"
      ]
    },
    {
      "attachments": {},
      "cell_type": "markdown",
      "metadata": {
        "id": "SC-xBs1QTB6n"
      },
      "source": [
        "### Разделение на выборки"
      ]
    },
    {
      "cell_type": "code",
      "execution_count": 57,
      "metadata": {},
      "outputs": [
        {
          "data": {
            "text/plain": [
              "Index(['act_power', 'first_temp', 'last_temp', 'time_diff_sec', 'Газ 1',\n",
              "       'Wire 1', 'Wire 2', 'Wire 3', 'Wire 4', 'Wire 6', 'Wire 7', 'Wire 8',\n",
              "       'Wire 9', 'Bulk 1', 'Bulk 2', 'Bulk 3', 'Bulk 4', 'Bulk 5', 'Bulk 6',\n",
              "       'Bulk 7', 'Bulk 8', 'Bulk 9', 'Bulk 10', 'Bulk 11', 'Bulk 12',\n",
              "       'Bulk 13', 'Bulk 14', 'Bulk 15'],\n",
              "      dtype='object')"
            ]
          },
          "execution_count": 57,
          "metadata": {},
          "output_type": "execute_result"
        }
      ],
      "source": [
        "df.columns\n"
      ]
    },
    {
      "cell_type": "code",
      "execution_count": 58,
      "metadata": {},
      "outputs": [],
      "source": [
        "\n",
        "features = df.drop('last_temp', axis=1)\n",
        "target = df['last_temp']"
      ]
    },
    {
      "cell_type": "code",
      "execution_count": 59,
      "metadata": {},
      "outputs": [],
      "source": [
        "#делим на обучающую и тестовую выборки\n",
        "features_train, features_test, target_train, target_test = train_test_split(\n",
        "    features, target, test_size=0.25, random_state=RANDOM_STATE)"
      ]
    },
    {
      "cell_type": "code",
      "execution_count": 60,
      "metadata": {},
      "outputs": [
        {
          "data": {
            "text/plain": [
              "((1727, 27), (576, 27), (1727,), (576,))"
            ]
          },
          "execution_count": 60,
          "metadata": {},
          "output_type": "execute_result"
        }
      ],
      "source": [
        "features_train.shape, features_test.shape, target_train.shape, target_test.shape\n"
      ]
    },
    {
      "attachments": {},
      "cell_type": "markdown",
      "metadata": {
        "id": "0OJ21UVTT1b9"
      },
      "source": [
        "### Масштабирование"
      ]
    },
    {
      "cell_type": "code",
      "execution_count": 61,
      "metadata": {},
      "outputs": [],
      "source": [
        "scaler = StandardScaler()\n",
        "scaler.fit(features_train)\n",
        "features_train = pd.DataFrame(scaler.transform(features_train), columns = features.columns)\n",
        "features_test = pd.DataFrame(scaler.transform(features_test), columns = features.columns)"
      ]
    },
    {
      "attachments": {},
      "cell_type": "markdown",
      "metadata": {
        "id": "p1CA8YqbTuxU"
      },
      "source": [
        "### Обучение и выбор моделей"
      ]
    },
    {
      "cell_type": "code",
      "execution_count": 62,
      "metadata": {},
      "outputs": [],
      "source": [
        "# определите модели\n",
        "models = {\n",
        "    \"Linear Regression\": LinearRegression(),\n",
        "    \"Random Forest\": RandomForestRegressor(random_state=RANDOM_STATE),\n",
        "    \"CatBoost\": CatBoostRegressor(loss_function = 'MAE', verbose = False, random_seed=RANDOM_STATE)\n",
        "}"
      ]
    },
    {
      "cell_type": "code",
      "execution_count": 63,
      "metadata": {},
      "outputs": [],
      "source": [
        "# определите DataFrame для сохранения результатов\n",
        "results = pd.DataFrame(columns=[\"Model\", \"MAE\", \"R2\"])\n",
        "\n"
      ]
    },
    {
      "cell_type": "code",
      "execution_count": 64,
      "metadata": {},
      "outputs": [],
      "source": [
        "\n",
        "# обучите каждую модель и получите кросс-валидационные оценки\n",
        "for model_name, model in models.items():\n",
        "    model.fit(features_train, target_train)\n",
        "    scores = cross_val_score(model, features_train, target_train, cv=5, scoring='neg_mean_absolute_error')\n",
        "    r2_scores = cross_val_score(model, features_train, target_train, cv=5, scoring='r2')\n",
        "    results = results.append({\"Model\": model_name, \n",
        "                              \"MAE\": -scores.mean(), \n",
        "                              \"R2\": r2_scores.mean()}, \n",
        "                             ignore_index=True)\n"
      ]
    },
    {
      "cell_type": "code",
      "execution_count": 65,
      "metadata": {},
      "outputs": [
        {
          "data": {
            "text/html": [
              "<div>\n",
              "<style scoped>\n",
              "    .dataframe tbody tr th:only-of-type {\n",
              "        vertical-align: middle;\n",
              "    }\n",
              "\n",
              "    .dataframe tbody tr th {\n",
              "        vertical-align: top;\n",
              "    }\n",
              "\n",
              "    .dataframe thead th {\n",
              "        text-align: right;\n",
              "    }\n",
              "</style>\n",
              "<table border=\"1\" class=\"dataframe\">\n",
              "  <thead>\n",
              "    <tr style=\"text-align: right;\">\n",
              "      <th></th>\n",
              "      <th>Model</th>\n",
              "      <th>MAE</th>\n",
              "      <th>R2</th>\n",
              "    </tr>\n",
              "  </thead>\n",
              "  <tbody>\n",
              "    <tr>\n",
              "      <th>0</th>\n",
              "      <td>CatBoost</td>\n",
              "      <td>6.376137</td>\n",
              "      <td>0.393084</td>\n",
              "    </tr>\n",
              "    <tr>\n",
              "      <th>1</th>\n",
              "      <td>Random Forest</td>\n",
              "      <td>6.525937</td>\n",
              "      <td>0.384641</td>\n",
              "    </tr>\n",
              "    <tr>\n",
              "      <th>2</th>\n",
              "      <td>Linear Regression</td>\n",
              "      <td>7.550570</td>\n",
              "      <td>-5.649251</td>\n",
              "    </tr>\n",
              "  </tbody>\n",
              "</table>\n",
              "</div>"
            ],
            "text/plain": [
              "               Model       MAE        R2\n",
              "0           CatBoost  6.376137  0.393084\n",
              "1      Random Forest  6.525937  0.384641\n",
              "2  Linear Regression  7.550570 -5.649251"
            ]
          },
          "execution_count": 65,
          "metadata": {},
          "output_type": "execute_result"
        }
      ],
      "source": [
        "# отсортировать результаты по MAE\n",
        "results = results.sort_values(by=\"MAE\", ascending=True)\n",
        "results.reset_index(drop=True, inplace=True)\n",
        "results"
      ]
    },
    {
      "attachments": {},
      "cell_type": "markdown",
      "metadata": {},
      "source": [
        "### Промежуточные выводы"
      ]
    },
    {
      "attachments": {},
      "cell_type": "markdown",
      "metadata": {},
      "source": [
        "1. Разделили датасет на выборке 75% обучающий и 25% тестовые\n",
        "2. Прмаштабировали признаки\n",
        "3. Обучили три модели и полуили кросс-валидационные оценки. MAE < 6.8 для модели Catboost и Random Forest\n",
        "4. Лучшая модель это Catboost\n",
        "   "
      ]
    },
    {
      "cell_type": "markdown",
      "metadata": {},
      "source": [
        "### Сравниваем с константной"
      ]
    },
    {
      "cell_type": "code",
      "execution_count": 66,
      "metadata": {},
      "outputs": [
        {
          "name": "stdout",
          "output_type": "stream",
          "text": [
            "7.831597222222222\n",
            "-0.0022206011104053403\n"
          ]
        }
      ],
      "source": [
        "# Создаем и обучаем константную модель\n",
        "constant_model = DummyRegressor(strategy='median')\n",
        "constant_model.fit(features_train, target_train)\n",
        "\n",
        "# Получаем предсказания константной модели на тестовом наборе\n",
        "constant_predictions = constant_model.predict(features_test)\n",
        "\n",
        "# Вычисляем метрики для константной модели\n",
        "constant_mae = mean_absolute_error(target_test, constant_predictions)\n",
        "constant_r2 = r2_score(target_test, constant_predictions)\n",
        "\n",
        "# Выводим метрики\n",
        "print(constant_mae)\n",
        "print(constant_r2)"
      ]
    },
    {
      "cell_type": "code",
      "execution_count": 67,
      "metadata": {},
      "outputs": [
        {
          "data": {
            "text/html": [
              "<div>\n",
              "<style scoped>\n",
              "    .dataframe tbody tr th:only-of-type {\n",
              "        vertical-align: middle;\n",
              "    }\n",
              "\n",
              "    .dataframe tbody tr th {\n",
              "        vertical-align: top;\n",
              "    }\n",
              "\n",
              "    .dataframe thead th {\n",
              "        text-align: right;\n",
              "    }\n",
              "</style>\n",
              "<table border=\"1\" class=\"dataframe\">\n",
              "  <thead>\n",
              "    <tr style=\"text-align: right;\">\n",
              "      <th></th>\n",
              "      <th>Model</th>\n",
              "      <th>MAE</th>\n",
              "      <th>R2</th>\n",
              "    </tr>\n",
              "  </thead>\n",
              "  <tbody>\n",
              "    <tr>\n",
              "      <th>0</th>\n",
              "      <td>CatBoost</td>\n",
              "      <td>6.376137</td>\n",
              "      <td>0.393084</td>\n",
              "    </tr>\n",
              "    <tr>\n",
              "      <th>1</th>\n",
              "      <td>Random Forest</td>\n",
              "      <td>6.525937</td>\n",
              "      <td>0.384641</td>\n",
              "    </tr>\n",
              "    <tr>\n",
              "      <th>2</th>\n",
              "      <td>Linear Regression</td>\n",
              "      <td>7.550570</td>\n",
              "      <td>-5.649251</td>\n",
              "    </tr>\n",
              "    <tr>\n",
              "      <th>3</th>\n",
              "      <td>constant_model</td>\n",
              "      <td>7.831597</td>\n",
              "      <td>-0.002221</td>\n",
              "    </tr>\n",
              "  </tbody>\n",
              "</table>\n",
              "</div>"
            ],
            "text/plain": [
              "               Model       MAE        R2\n",
              "0           CatBoost  6.376137  0.393084\n",
              "1      Random Forest  6.525937  0.384641\n",
              "2  Linear Regression  7.550570 -5.649251\n",
              "3     constant_model  7.831597 -0.002221"
            ]
          },
          "execution_count": 67,
          "metadata": {},
          "output_type": "execute_result"
        }
      ],
      "source": [
        "results = results.append({\"Model\": \"constant_model\", \n",
        "                        \"MAE\": constant_mae, \n",
        "                        \"R2\": constant_r2}, \n",
        "                        ignore_index=True)\n",
        "results = results.sort_values(by=\"MAE\", ascending=True)\n",
        "\n",
        "results"
      ]
    },
    {
      "attachments": {},
      "cell_type": "markdown",
      "metadata": {
        "id": "PPqHfRfeR2Ek"
      },
      "source": [
        "### Тестирование лучшей модели"
      ]
    },
    {
      "cell_type": "code",
      "execution_count": 68,
      "metadata": {},
      "outputs": [],
      "source": [
        "# Обучаем модель с лучшими метриками\n",
        "best_model = CatBoostRegressor(loss_function = 'MAE', verbose = False, random_seed=RANDOM_STATE)\n",
        "best_model.fit(features_train, target_train)\n",
        "\n",
        "# Получаем предсказания на тестовом наборе\n",
        "best_model_predictions = best_model.predict(features_test)\n",
        "\n",
        "# Вычисляем метрики для лучшей модели\n",
        "best_model_mae = mean_absolute_error(target_test, best_model_predictions)\n",
        "best_model_r2 = r2_score(target_test, best_model_predictions)\n",
        "\n",
        "# Добавляем результаты в таблицу\n",
        "results = results.append({\"Model\": \"CatBoost(test)\", \n",
        "                          \"MAE\": best_model_mae, \n",
        "                          \"R2\": best_model_r2}, \n",
        "                         ignore_index=True)\n",
        "results = results.sort_values(by=\"MAE\", ascending=True)\n"
      ]
    },
    {
      "cell_type": "code",
      "execution_count": 75,
      "metadata": {},
      "outputs": [
        {
          "data": {
            "text/html": [
              "<div>\n",
              "<style scoped>\n",
              "    .dataframe tbody tr th:only-of-type {\n",
              "        vertical-align: middle;\n",
              "    }\n",
              "\n",
              "    .dataframe tbody tr th {\n",
              "        vertical-align: top;\n",
              "    }\n",
              "\n",
              "    .dataframe thead th {\n",
              "        text-align: right;\n",
              "    }\n",
              "</style>\n",
              "<table border=\"1\" class=\"dataframe\">\n",
              "  <thead>\n",
              "    <tr style=\"text-align: right;\">\n",
              "      <th></th>\n",
              "      <th>Model</th>\n",
              "      <th>MAE</th>\n",
              "      <th>R2</th>\n",
              "    </tr>\n",
              "  </thead>\n",
              "  <tbody>\n",
              "    <tr>\n",
              "      <th>4</th>\n",
              "      <td>CatBoost(test)</td>\n",
              "      <td>6.084312</td>\n",
              "      <td>0.378717</td>\n",
              "    </tr>\n",
              "    <tr>\n",
              "      <th>0</th>\n",
              "      <td>CatBoost</td>\n",
              "      <td>6.376137</td>\n",
              "      <td>0.393084</td>\n",
              "    </tr>\n",
              "    <tr>\n",
              "      <th>1</th>\n",
              "      <td>Random Forest</td>\n",
              "      <td>6.525937</td>\n",
              "      <td>0.384641</td>\n",
              "    </tr>\n",
              "    <tr>\n",
              "      <th>2</th>\n",
              "      <td>Linear Regression</td>\n",
              "      <td>7.550570</td>\n",
              "      <td>-5.649251</td>\n",
              "    </tr>\n",
              "    <tr>\n",
              "      <th>3</th>\n",
              "      <td>constant_model</td>\n",
              "      <td>7.831597</td>\n",
              "      <td>-0.002221</td>\n",
              "    </tr>\n",
              "  </tbody>\n",
              "</table>\n",
              "</div>"
            ],
            "text/plain": [
              "               Model       MAE        R2\n",
              "4     CatBoost(test)  6.084312  0.378717\n",
              "0           CatBoost  6.376137  0.393084\n",
              "1      Random Forest  6.525937  0.384641\n",
              "2  Linear Regression  7.550570 -5.649251\n",
              "3     constant_model  7.831597 -0.002221"
            ]
          },
          "execution_count": 75,
          "metadata": {},
          "output_type": "execute_result"
        }
      ],
      "source": [
        "results\n"
      ]
    },
    {
      "attachments": {},
      "cell_type": "markdown",
      "metadata": {
        "id": "9zWclyOGR2Ek"
      },
      "source": [
        "#### Промежуточные выводы"
      ]
    },
    {
      "attachments": {},
      "cell_type": "markdown",
      "metadata": {},
      "source": [
        "Наша модель лучше константной и хорошо отрабатывает на тестовых данных. Оценка MAE = 6.08"
      ]
    },
    {
      "attachments": {},
      "cell_type": "markdown",
      "metadata": {
        "id": "TV8AS10RUb7I"
      },
      "source": [
        "### Анализ важности признаков"
      ]
    },
    {
      "cell_type": "code",
      "execution_count": 70,
      "metadata": {},
      "outputs": [
        {
          "data": {
            "image/png": "[encoded data removed]",
            "text/plain": [
              "<Figure size 1000x800 with 1 Axes>"
            ]
          },
          "metadata": {},
          "output_type": "display_data"
        }
      ],
      "source": [
        "# Получим важность признаков\n",
        "feature_importances = best_model.get_feature_importance()\n",
        "# Создадим DataFrame для лучшего отображения\n",
        "feature_importances_df = pd.DataFrame({\n",
        "    'feature': features.columns,\n",
        "    'importance': feature_importances\n",
        "})\n",
        "# Отсортируем по убыванию важности\n",
        "feature_importances_df = feature_importances_df.sort_values(by='importance', ascending=True)\n",
        "\n",
        "# Визуализация с помощью matplotlib\n",
        "plt.figure(figsize=(10, 8))\n",
        "plt.barh(feature_importances_df['feature'], feature_importances_df['importance'])\n",
        "plt.xlabel('Importance')\n",
        "plt.ylabel('Feature')\n",
        "plt.title('Feature importances')\n",
        "plt.show()\n"
      ]
    },
    {
      "attachments": {},
      "cell_type": "markdown",
      "metadata": {
        "id": "S9ZPdjJRUhDS"
      },
      "source": [
        "#### Выводы по анализу признаков"
      ]
    },
    {
      "attachments": {},
      "cell_type": "markdown",
      "metadata": {},
      "source": [
        "Из полученного графика видно, что на финальную температуру в большей степени влияют:\n",
        "1. Начальная температура\n",
        "2. Переданная сплаву полная мощность\n",
        "3. Важную роль играет время процедуры (время остывания спалава). \n",
        " \n",
        "Влияние добавляемых материалов, в наибольшей степени на предсказания модели влияют:\n",
        "1. Добавки материалов Wire 1 и Bulk 12, Wire 2, Bulk 6, Bulk 14, Bulk 15\n",
        "2. Подача газа 1\n",
        "\n"
      ]
    },
    {
      "attachments": {},
      "cell_type": "markdown",
      "metadata": {
        "id": "VSTSvkrXR2Ek"
      },
      "source": [
        "### Итоговый вывод"
      ]
    },
    {
      "attachments": {},
      "cell_type": "markdown",
      "metadata": {},
      "source": [
        "**Мы провели исследовательский анализ данных, в ходе которого было выявлено:**\n",
        "\n",
        "1. таблицах были выявлены пропуски данных. Природа части пропусков известна от заказчика.\n",
        "2. Партии с одним замером в температуре, мощности электродов удалили(от заказчика)\n",
        "3. В некоторых колонках были выявлены подозрительные значения. Они могли появиться в данных например, в результате сбоя измерительного оборудования;\n",
        "4. Были выявлены замеры температуры менее 1500 градусов. Данные удалены. (от заказчика)\n",
        "5. Была выявлена партия с отрицательной реактивной мощностью. Данные этой партии удалили.(от заказчика)\n",
        "6. Во всех таблицах количество уникальных значений в столбце key различается. При формировании единой таблицы обучающих признаков будет использовать inner.\n",
        "7. Все таблицы проиндекировали по номеру партии\n",
        "8. Пропуски в сыпучих материалах заменили на \"0\"(от заказчика)\n",
        "9.  Высчитали время нагрева и полную мощность.\n",
        "10. Время привели к формату datetime\n",
        "11. В таблице temp оставили агрегировали по key. Оставили значение первой и последней температуры разницу между ними. И время первой и посленего замера.\n",
        "     \n",
        "**Обучили модели Catboost, линейная регрессия, Случайный лес**\n",
        "  \n",
        "1. Разделили датасет на выборке 75% обучающий и 25% тестовые\n",
        "2. Прмаштабировали признаки\n",
        "3. Обучили три модели и получили кросс-валидационные оценки. MAE < 6.8 для модели Catboost и Random Forest\n",
        "4. Лучшая модель это Catboost\n",
        "\n",
        "**Лучшую модель сравнили с константной и проверили на тестовой выборке**\n",
        "\n",
        "<table border=\"1\" class=\"dataframe\">\n",
        "  <thead>\n",
        "    <tr style=\"text-align: right;\">\n",
        "      <th></th>\n",
        "      <th>Model</th>\n",
        "      <th>MAE</th>\n",
        "      <th>R2</th>\n",
        "    </tr>\n",
        "  </thead>\n",
        "  <tbody>\n",
        "    <tr>\n",
        "      <th>4</th>\n",
        "      <td>CatBoost(test)</td>\n",
        "      <td>6.084312</td>\n",
        "      <td>0.378717</td>\n",
        "    </tr>\n",
        "    <tr>\n",
        "      <th>0</th>\n",
        "      <td>CatBoost</td>\n",
        "      <td>6.376137</td>\n",
        "      <td>0.393084</td>\n",
        "    </tr>\n",
        "    <tr>\n",
        "      <th>1</th>\n",
        "      <td>Random Forest</td>\n",
        "      <td>6.525937</td>\n",
        "      <td>0.384641</td>\n",
        "    </tr>\n",
        "    <tr>\n",
        "      <th>2</th>\n",
        "      <td>Linear Regression</td>\n",
        "      <td>7.550570</td>\n",
        "      <td>-5.649251</td>\n",
        "    </tr>\n",
        "    <tr>\n",
        "      <th>3</th>\n",
        "      <td>constant_model</td>\n",
        "      <td>7.831597</td>\n",
        "      <td>-0.002221</td>\n",
        "    </tr>\n",
        "  </tbody>\n",
        "</table>\n",
        "\n",
        "**Провели анализ признаков**\n",
        "На финальную температуру в большей степени влияют:\n",
        "1. Начальная температура\n",
        "2. Переданная сплаву полная мощность\n",
        "3. Важную роль играет время процедуры (время остывания спалава). \n",
        " \n",
        "Влияние добавляемых материалов, в наибольшей степени на предсказания модели влияют:\n",
        "1. Добавки материалов Wire 1 и Bulk 12, Wire 2, Bulk 6, Bulk 14, Bulk 15\n",
        "2. Подача газа 1\n"
      ]
    },
    {
      "cell_type": "markdown",
      "metadata": {
        "id": "nxvbpaAaVPmf"
      },
      "source": [
        "## Отчет "
      ]
    },
    {
      "attachments": {},
      "cell_type": "markdown",
      "metadata": {},
      "source": [
        "\n",
        "1. Были выполнены все пункты плана, такие как: анализ, предобработка, работа с моделями, выбор наилучшей модели\n",
        "2. Из трудностей можно выделить сам анализ данных\n",
        "3. Описание ключевых шагов\n",
        "   3.1 Анализ данных и выбор необходимых параметров для финального датасета, высчитал полною мощность, время остывания сплава.\n",
        "   3.2 Агрегированному по ключу key все таблицы\n",
        "   3.3 Проверил на корреляцию и убрал лишние столбцы\n",
        "4. Объединил все таблицы в финальный датасет и разделил на обучающую и тестовую выборки\n",
        "5. Было выбрано 3 модели: Линейная регрессия, Случайный лес, CatBoost\n",
        "6. Выбрана лучшая модель. CatBoostRegressor(loss_function = 'MAE', verbose = False, random_seed=RANDOM_STATE)\n",
        "7. Проверенна лучшая модель на адекватность с помощью константной\n",
        "8. Проверенна на тестовой выборке. Метрика MAE = 6.08"
      ]
    },
    {
      "cell_type": "markdown",
      "metadata": {},
      "source": []
    }
  ],
  "metadata": {
    "colab": {
      "provenance": [],
      "toc_visible": true
    },
    "kernelspec": {
      "display_name": "Python 3 (ipykernel)",
      "language": "python",
      "name": "python3"
    },
    "language_info": {
      "codemirror_mode": {
        "name": "ipython",
        "version": 3
      },
      "file_extension": ".py",
      "mimetype": "text/x-python",
      "name": "python",
      "nbconvert_exporter": "python",
      "pygments_lexer": "ipython3",
      "version": "3.10.10"
    },
    "toc-autonumbering": true
  },
  "nbformat": 4,
  "nbformat_minor": 0
}
