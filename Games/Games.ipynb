{
 "cells": [
  {
   "cell_type": "markdown",
   "id": "11afc6f0",
   "metadata": {},
   "source": [
    "# Сборный проект №1"
   ]
  },
  {
   "cell_type": "markdown",
   "id": "b73f1969",
   "metadata": {},
   "source": [
    "## Откроем файл с данными и изучем общую информацию"
   ]
  },
  {
   "cell_type": "code",
   "execution_count": null,
   "id": "0935bb6e",
   "metadata": {},
   "outputs": [],
   "source": [
    "import pandas as pd \n",
    "import matplotlib.pyplot as plt\n",
    "import seaborn as sns\n",
    "import bar_chart_race as bcr"
   ]
  },
  {
   "cell_type": "code",
   "execution_count": null,
   "id": "be025064",
   "metadata": {},
   "outputs": [],
   "source": [
    "data = pd.read_csv('/workspaces/Data-Science/Dataset/games.csv')\n",
    "data.head()"
   ]
  },
  {
   "cell_type": "markdown",
   "id": "992b7b11",
   "metadata": {},
   "source": [
    "* основную информацию для датафрейма `data` с помощью метода `info()`"
   ]
  },
  {
   "cell_type": "markdown",
   "id": "5ec0f4f9",
   "metadata": {},
   "source": [
    "## Подготовим данные\n",
    "### Заменим названия столбцов (приведем к нижнему регистру)"
   ]
  },
  {
   "cell_type": "code",
   "execution_count": null,
   "id": "d40e86d6",
   "metadata": {},
   "outputs": [],
   "source": [
    "data.columns = data.columns.str.lower()\n",
    "data.info()"
   ]
  },
  {
   "cell_type": "code",
   "execution_count": null,
   "id": "0423ecb9-8e1e-4f86-ad8f-8dedf8ee95ea",
   "metadata": {},
   "outputs": [],
   "source": [
    "data.isna().sum()# подсчёт пропусков"
   ]
  },
  {
   "cell_type": "markdown",
   "id": "abc43293-083d-428a-b1c4-351af186d1ed",
   "metadata": {},
   "source": [
    "* Данные в колонках 'year_of_release' можно преоброзовать в  формат datatime. \n",
    "* Данные в колонках 'critic_score' 'user_score' можно преоброзовать в  числовой тип. \n",
    "* Пропуски по годам незначительные. \n",
    "* Пропуски критиков и пользователей заменим на заглушки. \n",
    "* 'user_score' есть текст. Надо подробнее расмотреть\n",
    "* Данные операции произведем ниже"
   ]
  },
  {
   "cell_type": "markdown",
   "id": "e651dc5e-843f-4a29-9ab7-2227c3af47bd",
   "metadata": {},
   "source": [
    "<div class=\"alert alert-info\"> <b>Комментарий студента:</b> Добавил подсчет пропусков, а также. Указал особенности данных </div>"
   ]
  },
  {
   "cell_type": "markdown",
   "id": "218dd459",
   "metadata": {},
   "source": [
    "### Преобразуем данные в нужные типы"
   ]
  },
  {
   "cell_type": "code",
   "execution_count": null,
   "id": "2c8b1504",
   "metadata": {
    "scrolled": true
   },
   "outputs": [],
   "source": [
    "data['critic_score'].unique()# уникальные значения в колоке оценка критиков (максимум 100)"
   ]
  },
  {
   "cell_type": "code",
   "execution_count": null,
   "id": "fb3fe6f0",
   "metadata": {},
   "outputs": [],
   "source": [
    "data['critic_score'].isna().sum()#количество пропущенных значений оценка критиков"
   ]
  },
  {
   "cell_type": "code",
   "execution_count": null,
   "id": "89928bf7",
   "metadata": {
    "scrolled": true
   },
   "outputs": [],
   "source": [
    "data['critic_score'] = data['critic_score'].fillna(-1)# примем для отсутвующих значений оценки критиков \"-1\"\n",
    "data['critic_score'] = data['critic_score'].astype(int)# преобразуем в тип int\n",
    "data['critic_score'].unique()"
   ]
  },
  {
   "cell_type": "code",
   "execution_count": null,
   "id": "7619c19b",
   "metadata": {},
   "outputs": [],
   "source": [
    "import datetime\n",
    "data['year_of_release'].isna().sum()#количество пропущенных значений годе выпуска"
   ]
  },
  {
   "cell_type": "code",
   "execution_count": null,
   "id": "4ce46617",
   "metadata": {},
   "outputs": [],
   "source": [
    "data['year_of_release'].unique()# уникальные значения в годе выпуска"
   ]
  },
  {
   "cell_type": "code",
   "execution_count": null,
   "id": "9cc2985a",
   "metadata": {},
   "outputs": [],
   "source": [
    "data = data.dropna(subset=['year_of_release']).reset_index(drop=True)# удалим игры с пропущенными признаками года выпуска\n",
    "data.info()"
   ]
  },
  {
   "cell_type": "code",
   "execution_count": null,
   "id": "c99a32db",
   "metadata": {},
   "outputs": [],
   "source": [
    "data['year_of_release'] = pd.to_datetime(data['year_of_release'], format='%Y')\n",
    "#переводим столбец в формат datetime\n",
    "data['year_of_release'] = data['year_of_release'].dt.year #вытягивает год из колонки"
   ]
  },
  {
   "cell_type": "code",
   "execution_count": null,
   "id": "df13f66e",
   "metadata": {},
   "outputs": [],
   "source": [
    "data['user_score'].unique()# уникальные значения в колоке оценка пользователей (максимум 10)"
   ]
  },
  {
   "cell_type": "code",
   "execution_count": null,
   "id": "e8a89eef",
   "metadata": {
    "scrolled": true
   },
   "outputs": [],
   "source": [
    "data[data['user_score'] == 'tbd'].groupby(\n",
    "    ['year_of_release','platform','name']).agg(\n",
    "    {'user_score':'count'}).sort_values(by='user_score', ascending=False).head(10)"
   ]
  },
  {
   "cell_type": "markdown",
   "id": "579340d2",
   "metadata": {},
   "source": [
    "* Получается что 'tbd' означает to be determined: недостаточно пользовательских оценок для формирования рейтинга - можно заменить на '-2', а nan заменить на '-1'. Чтоб отличать эти значения\n",
    "* Рейтиг переведем в 100 бальную шкалу "
   ]
  },
  {
   "cell_type": "code",
   "execution_count": null,
   "id": "6830147b",
   "metadata": {},
   "outputs": [],
   "source": [
    "data['user_score'] = data['user_score'].replace(\"tbd\", -0.2) #присваиваем значению tbd = -0.2\n",
    "data['user_score'] = data['user_score'].fillna(-0.1)#присваиваем значению nan = -0.1\n",
    "data['user_score'] = data['user_score'].astype(float)#меняем тип на численные значения\n",
    "data['user_score'] = data['user_score']*10#переводим десятиричный рейтинг в 100 бальный\n",
    "data['user_score'] = data['user_score'].astype(int)#меняем тип на целые значения\n",
    "data['user_score'].unique()# уникальные значения в колоке оценка пользователей (максимум 100)"
   ]
  },
  {
   "cell_type": "code",
   "execution_count": null,
   "id": "500254d9",
   "metadata": {},
   "outputs": [],
   "source": [
    "data['rating'].unique()"
   ]
  },
  {
   "cell_type": "code",
   "execution_count": null,
   "id": "309fdec8",
   "metadata": {},
   "outputs": [],
   "source": [
    "data['rating'] = data['rating'].fillna('unknown')#присваиваем значению nan 'unknown'"
   ]
  },
  {
   "cell_type": "code",
   "execution_count": null,
   "id": "5af037bc",
   "metadata": {
    "scrolled": true
   },
   "outputs": [],
   "source": [
    "data[data['rating'] == 'unknown'].groupby(\n",
    "    ['na_sales','eu_sales','other_sales', 'jp_sales']).agg(\n",
    "    {'user_score':'count'}).sort_values(by='user_score', ascending=False).head(20)"
   ]
  },
  {
   "cell_type": "markdown",
   "id": "b1b6e5ee",
   "metadata": {},
   "source": [
    "* Entertainment Software Rating Board (ESRB) — негосударственная организация, основное направление деятельности — принятие и определение рейтингов для компьютерных видеоигр и другого развлекательного программного обеспечения в США и Канаде.\n",
    "* Больше всего пропусков в рейтинге у игр которые продавались за пределами Севенй Америки, что логично."
   ]
  },
  {
   "cell_type": "code",
   "execution_count": null,
   "id": "dea072b5",
   "metadata": {},
   "outputs": [],
   "source": [
    "data[data['name'].isnull()]#эти данные можно удалить, они не представляют интереса"
   ]
  },
  {
   "cell_type": "code",
   "execution_count": null,
   "id": "44afb884",
   "metadata": {
    "scrolled": true
   },
   "outputs": [],
   "source": [
    "data = data.dropna()#удаляем две строки без названия"
   ]
  },
  {
   "cell_type": "code",
   "execution_count": null,
   "id": "640225b0",
   "metadata": {
    "scrolled": true
   },
   "outputs": [],
   "source": [
    "data.info()"
   ]
  },
  {
   "cell_type": "code",
   "execution_count": null,
   "id": "e71ff62f",
   "metadata": {},
   "outputs": [],
   "source": [
    "data['word_sales'] = data['na_sales'] + data['eu_sales'] + data['jp_sales'] + data['other_sales']"
   ]
  },
  {
   "cell_type": "code",
   "execution_count": null,
   "id": "de0a2336",
   "metadata": {},
   "outputs": [],
   "source": [
    "data['platform'].unique()"
   ]
  },
  {
   "cell_type": "code",
   "execution_count": null,
   "id": "b993623c",
   "metadata": {},
   "outputs": [],
   "source": [
    "data['genre'].unique()"
   ]
  },
  {
   "cell_type": "code",
   "execution_count": null,
   "id": "46808144",
   "metadata": {},
   "outputs": [],
   "source": [
    "data.duplicated().sum()# подсчёт явных дубликатов"
   ]
  },
  {
   "cell_type": "markdown",
   "id": "1c9f82c3",
   "metadata": {},
   "source": [
    "###  Обработали данные\n",
    "* 1. Рейтинг критиков и пользователей привели к целым числам и сто бальной шкале\n",
    "* 2. Пропуски в этих рейтингах заменили на особое значение '-1'\n",
    "* 3. 'tbd' заменили на особое значение '-2'\n",
    "* 3. Пропуске в годах заменили на '2022'\n",
    "* 4. Пропуски в возрастной категории заменили на 'unknown'. Entertainment Software Rating Board (ESRB) — негосударственная организация, основное направление деятельности — принятие и определение рейтингов для компьютерных видеоигр и другого развлекательного программного обеспечения в США и Канаде. Больше всего пропусков в рейтинге у игр которые продавались за пределами Севенй Америки, что логично.\n",
    "* 5. 'word_sales' колонка суммы продаж в мире в млн копий\n",
    "* 6. Удалили оставшиеся пропуски в названиях\n",
    "* 7. Проверили явные дубликаты"
   ]
  },
  {
   "cell_type": "markdown",
   "id": "7592dce0",
   "metadata": {},
   "source": [
    "## Проведем исследовательский анализ данных"
   ]
  },
  {
   "cell_type": "markdown",
   "id": "6f9229be",
   "metadata": {},
   "source": [
    "### Посмотрим, сколько игр выпускалось в разные годы. Важны ли данные за все периоды?"
   ]
  },
  {
   "cell_type": "code",
   "execution_count": null,
   "id": "5426b8dd",
   "metadata": {},
   "outputs": [],
   "source": [
    "data_year = data.pivot_table(index=\"year_of_release\", values=[\"name\"], aggfunc=\"count\")\n",
    "plt.figure(figsize=(5, 5))\n",
    "plt.plot(data_year, 'v-.g', alpha=0.4, label=\"сколько игр выпускалось в разные годы\", \n",
    "         lw=2, mec='r', mew=2, ms=5)\n",
    "plt.legend()\n",
    "plt.grid(True)"
   ]
  },
  {
   "cell_type": "markdown",
   "id": "9b55be55",
   "metadata": {},
   "source": [
    "* До 1995 года выпускалось слишком мало игр. Их можно отброосить.\n",
    "* Пик продаж пришелся на 2005-2011. Больше всего было продано в 2008-2009 годах"
   ]
  },
  {
   "cell_type": "code",
   "execution_count": null,
   "id": "e3b84817",
   "metadata": {},
   "outputs": [],
   "source": [
    "data = data[data['year_of_release'] > 1994]"
   ]
  },
  {
   "cell_type": "markdown",
   "id": "fb2038e2",
   "metadata": {},
   "source": [
    "Посмотрим, как менялись продажи по платформам. Выберим платформы с наибольшими суммарными продажами и постройте распределение по годам. За какой характерный срок появляются новые и исчезают старые платформы?"
   ]
  },
  {
   "cell_type": "code",
   "execution_count": null,
   "id": "fb2038e2",
   "metadata": {},
   "outputs": [],
   "source": [
    "data.pivot_table(index=\"year_of_release\", columns=\"platform\", \n",
    "                 values=\"word_sales\", aggfunc=\"sum\").plot.bar(stacked=True, figsize=(20, 10), grid=True);\n"
   ]
  },
  {
   "cell_type": "markdown",
   "id": "56db6177",
   "metadata": {},
   "source": [
    "* Новые платформы повяются примерно каждые пять лет, старые изчезают примерно через один, два года после появления новых"
   ]
  },
  {
   "attachments": {},
   "cell_type": "markdown",
   "id": "6ac48e4f",
   "metadata": {},
   "source": [
    "Возьмем данные за соответствующий актуальный период. Основной фактор — эти данные помогут построить прогноз на 2017 год. С 2012 по 2016 (за 2016 данные не полные, новых платформ не появилось, но пропорция сохраняется)"
   ]
  },
  {
   "cell_type": "code",
   "execution_count": null,
   "id": "b882ba72",
   "metadata": {},
   "outputs": [],
   "source": [
    "data_topical = data.query('year_of_release > 2011 and year_of_release < 2017')#актуальный период\n",
    "data_topical.pivot_table(index=\"year_of_release\", \n",
    "columns=\"platform\", values=\"word_sales\", aggfunc=\"sum\").plot.bar(stacked=True, figsize=(10, 10), grid=True);\n",
    "data_topical.pivot_table(index=\"year_of_release\", \n",
    "columns=\"platform\", values=\"jp_sales\", aggfunc=\"sum\").plot.bar(stacked=True, figsize=(10, 10), grid=True);\n",
    "data_topical.pivot_table(index=\"year_of_release\", \n",
    "columns=\"platform\", values=\"na_sales\", aggfunc=\"sum\").plot.bar(stacked=True, figsize=(10, 10), grid=True);\n",
    "data_topical.pivot_table(index=\"year_of_release\", \n",
    "columns=\"platform\", values=\"eu_sales\", aggfunc=\"sum\").plot.bar(stacked=True, figsize=(10, 10), grid=True);\n",
    "data_topical.pivot_table(index=\"year_of_release\", \n",
    "columns=\"platform\", values=\"other_sales\", aggfunc=\"sum\").plot.bar(stacked=True, figsize=(10, 10), grid=True);"
   ]
  },
  {
   "cell_type": "code",
   "execution_count": null,
   "id": "6bffea8e",
   "metadata": {},
   "outputs": [],
   "source": [
    "data_topical.pivot_table(index=\"year_of_release\", \n",
    "columns=\"platform\", values=\"word_sales\", aggfunc=\"sum\")"
   ]
  },
  {
   "cell_type": "markdown",
   "id": "19054c65",
   "metadata": {},
   "source": [
    "* Лидируют по продажам PS4, XOne появилась в 2013 году и набирает популярность. У остальных продажи падают. Общая тенденция к сокращению продаж копии."
   ]
  },
  {
   "cell_type": "markdown",
   "id": "0753f4e3",
   "metadata": {
    "tags": []
   },
   "source": [
    "### Построим график «ящик с усами» по глобальным продажам игр в разбивке по платформам. Опишим результат."
   ]
  },
  {
   "cell_type": "code",
   "execution_count": null,
   "id": "38a537df",
   "metadata": {},
   "outputs": [],
   "source": [
    "colors = ['#78C850', '#F08030', '#6890F0','#F8D030', '#F85888', '#705898', '#98D8D8'] # цвета\n",
    "sns.boxplot(x=data_topical[\"word_sales\"], y=data_topical[\"platform\"], \n",
    "            palette=colors, order=[\"PS4\", \"PS3\", \"XOne\",  \"X360\", \"3DS\", \"WiiU\", 'Wii']);\n",
    "plt.xlim(0,3) \n",
    "# указали цвета и очередность по количествам продаж"
   ]
  },
  {
   "cell_type": "code",
   "execution_count": null,
   "id": "9b9d4261-065a-474a-84c4-d4f3bb7d420c",
   "metadata": {},
   "outputs": [],
   "source": [
    "colors = ['#78C850', '#F08030', '#6890F0','#F8D030', '#F85888', '#705898', '#98D8D8'] # цвета\n",
    "sns.boxplot(x=data_topical[\"word_sales\"], y=data_topical[\"platform\"], \n",
    "            palette=colors, order=[\"PS4\", \"PS3\", \"XOne\",  \"X360\", \"3DS\", \"WiiU\", 'Wii']);\n",
    "# указали цвета и очередность по количествам продаж"
   ]
  },
  {
   "cell_type": "markdown",
   "id": "42513aca",
   "metadata": {},
   "source": [
    "* У PS3 и PS4 одинаковые медиальные значения. Продажи им сделали 4 - 6 игр. \n",
    "* X360 аналогичная ситуация, но среднее медиальное больше\n",
    "* XOne менее всего выбросов. Более равномерное распределение и медеальное чуть меньше X360\n",
    "* 3 DS несколько игр которые сделали продажи платформе. Притом довольно малое медиальное значение\n",
    "* WiiU и Wii есть несколько игр, за счет чего выбивается из средних показателей"
   ]
  },
  {
   "cell_type": "markdown",
   "id": "397e9304",
   "metadata": {
    "tags": []
   },
   "source": [
    "### Посмотрим, как влияют на продажи внутри одной популярной платформы отзывы пользователей и критиков. Построим диаграмму рассеяния и посчитаем корреляцию между отзывами и продажами."
   ]
  },
  {
   "cell_type": "code",
   "execution_count": null,
   "id": "33f8fad3",
   "metadata": {},
   "outputs": [],
   "source": [
    "data_XOne = data_topical[data_topical['platform'] == 'XOne'].groupby('user_score')['word_sales'].mean()\n",
    "data_XOne2 = data_topical[data_topical['platform'] == 'XOne'].groupby('critic_score')['word_sales'].mean()\n",
    "plt.figure(figsize=(5, 5))\n",
    "plt.plot(data_XOne2, 'o-r', alpha=0.9, label=\"влияние продаж от оценки критиков XOne\", \n",
    "         lw=5, mec='b', mew=1, ms=5)\n",
    "plt.plot(data_XOne, 'v-.g', alpha=0.4, label=\"влияние продаж от оценки пользователя XOne\", \n",
    "         lw=2, mec='r', mew=2, ms=5)\n",
    "plt.legend()\n",
    "plt.grid(True)"
   ]
  },
  {
   "cell_type": "markdown",
   "id": "1a5ed338",
   "metadata": {},
   "source": [
    "* Для платформы XOne зависимость от оценки критиков появляется только для оценок больше 60, с ростом оценки увеличивается объем продаж\n",
    "* Оценка пользователей не оказывает влияние на продажи"
   ]
  },
  {
   "cell_type": "code",
   "execution_count": null,
   "id": "4930b969",
   "metadata": {},
   "outputs": [],
   "source": [
    "data_PS4 = data_topical[data_topical['platform'] == 'PS4'].groupby('user_score')['word_sales'].mean()\n",
    "data_PS4_2 = data_topical[data_topical['platform'] == 'PS4'].groupby('critic_score')['word_sales'].mean()\n",
    "plt.figure(figsize=(5, 5))\n",
    "plt.plot(data_PS4_2, 'o-r', alpha=0.9, label=\"влияние продаж от оценки критиков PS4\", \n",
    "         lw=5, mec='b', mew=1, ms=5)\n",
    "plt.plot(data_PS4, 'v-.g', alpha=0.4, label=\"влияние продаж от оценки пользователей PS4\", \n",
    "         lw=2, mec='r', mew=2, ms=5)\n",
    "plt.legend()\n",
    "plt.grid(True)"
   ]
  },
  {
   "cell_type": "markdown",
   "id": "b3db9660",
   "metadata": {},
   "source": [
    "* Аналогично с платформой XOne\n",
    "* Можно отбросить данные по которым рейтинг или не определен или отсутствует, затем помотреть корреляцию"
   ]
  },
  {
   "cell_type": "code",
   "execution_count": null,
   "id": "95dcb7ef",
   "metadata": {},
   "outputs": [],
   "source": [
    "p_data = data_topical[data_topical['user_score'] > 0] # без пропусков в оценках пользователей\n",
    "p_data = p_data[p_data['critic_score'] > 0]# без пропусков в оценках пользователей"
   ]
  },
  {
   "cell_type": "code",
   "execution_count": null,
   "id": "cdf53471",
   "metadata": {},
   "outputs": [],
   "source": [
    "p_data['user_score'].corr(p_data['word_sales'])"
   ]
  },
  {
   "cell_type": "markdown",
   "id": "038bed50",
   "metadata": {},
   "source": [
    "* Отсутствует зависимость от оценки пользователей количество проданных копий"
   ]
  },
  {
   "cell_type": "code",
   "execution_count": null,
   "id": "a0a620ad",
   "metadata": {},
   "outputs": [],
   "source": [
    "p_data['critic_score'].corr(p_data['word_sales'])"
   ]
  },
  {
   "cell_type": "markdown",
   "id": "b4c3e3a9",
   "metadata": {},
   "source": [
    "* Присутствует слабая зависимость от оценки критиков количество проданных копий"
   ]
  },
  {
   "cell_type": "code",
   "execution_count": null,
   "id": "bfb83893",
   "metadata": {},
   "outputs": [],
   "source": [
    "#Проверим для каждой из платформ зависимость корреляции\n",
    "platforms = [\"PS4\", \"PS3\", \"XOne\",  \"X360\", \"3DS\", \"WiiU\", 'Wii']\n",
    "n_platforms = len(platforms)\n",
    "\n",
    "# список столбцов, по которым хотим построить корреляцию\n",
    "cols = [\"user_score\", \"critic_score\", \"word_sales\"]\n",
    "\n",
    "# отрисовываем для каждой платформы\n",
    "for platform in platforms:\n",
    "    # отбираем все строки для платформы \n",
    "    # и дропаем неинформативные записи среди отобранных\n",
    "    q = p_data[\"platform\"] == platform\n",
    "    platform_df = p_data[q].dropna(subset=cols)\n",
    "    \n",
    "    # строим корреляции по выбранным столбцам\n",
    "    correlations = platform_df[cols].corr()\n",
    "    ax = sns.heatmap(correlations, cmap='rocket_r')\n",
    "    ax.set_title(platform)\n",
    "    plt.show()"
   ]
  },
  {
   "cell_type": "code",
   "execution_count": null,
   "id": "92625887",
   "metadata": {},
   "outputs": [],
   "source": [
    "fig, ax = plt.subplots(figsize=(5, 5))\n",
    "ax.scatter(x = p_data['user_score'], y = p_data['word_sales'], \n",
    "           color = \"blue\", edgecolors = \"white\", linewidths = 0.1, alpha = 0.2)\n",
    "plt.ylim(0,6)"
   ]
  },
  {
   "cell_type": "code",
   "execution_count": null,
   "id": "d92a0aad",
   "metadata": {},
   "outputs": [],
   "source": [
    "fig, ax = plt.subplots(figsize=(5, 5))\n",
    "ax.scatter(x = p_data['critic_score'], y = p_data['word_sales'], \n",
    "           color = \"green\", edgecolors = \"white\", linewidths = 0.1, alpha = 0.2)\n",
    "plt.ylim(0,6)"
   ]
  },
  {
   "cell_type": "markdown",
   "id": "1ac838ed",
   "metadata": {},
   "source": [
    "### Сформулируем выводы.\n",
    "* Присутствует слабая зависимость от оценки критиков количество проданных копий для каждой платформы\n",
    "* Большинство оценок раполагается в диапозоне от 40 до 90\n",
    "* Отстствует зависимость от оценке пользователей"
   ]
  },
  {
   "cell_type": "markdown",
   "id": "2a409e09",
   "metadata": {},
   "source": [
    "### Соотнесите выводы с продажами игр на других платформах.\n",
    "* Выше я рассматривал корреляцию по платформам\n",
    "* Рассмотрим заисимость продаж от платформы "
   ]
  },
  {
   "cell_type": "code",
   "execution_count": null,
   "id": "a658f7ed",
   "metadata": {},
   "outputs": [],
   "source": [
    "df = data_topical.pivot_table(index=\"platform\", \n",
    "                              values=[\"eu_sales\", \"jp_sales\", \"na_sales\", \n",
    "                                      \"other_sales\", \"word_sales\"], aggfunc=\"sum\")\n",
    "df.plot.pie(subplots=True, autopct='%1.1f%%', \n",
    "            shadow=True, wedgeprops={'lw':1, 'ls':'--','edgecolor':\"k\"}, \n",
    "            rotatelabels=True, figsize=(40, 40));"
   ]
  },
  {
   "cell_type": "code",
   "execution_count": null,
   "id": "e28a8a6a",
   "metadata": {},
   "outputs": [],
   "source": [
    "df = data_topical.pivot_table(index=\"platform\", values=[\"eu_sales\", \"word_sales\"], aggfunc=\"sum\")\n",
    "df.plot.pie(subplots=True, autopct='%1.1f%%', \n",
    "            shadow=True, wedgeprops={'lw':1, 'ls':'--','edgecolor':\"k\"}, \n",
    "            rotatelabels=True, figsize=(20, 20));\n"
   ]
  },
  {
   "cell_type": "code",
   "execution_count": null,
   "id": "e38cbe8b",
   "metadata": {},
   "outputs": [],
   "source": [
    "df = data_topical.pivot_table(index=\"platform\", values=[\"jp_sales\", \"other_sales\", \"na_sales\"], aggfunc=\"sum\")\n",
    "df.plot.pie(subplots=True, autopct='%1.1f%%', \n",
    "            shadow=True, wedgeprops={'lw':1, 'ls':'--','edgecolor':\"k\"}, \n",
    "            rotatelabels=True, figsize=(20, 20));"
   ]
  },
  {
   "cell_type": "markdown",
   "id": "3891f55f",
   "metadata": {},
   "source": [
    "* 1.1 Влияние на мировые продажи по платформам почти полностью соответствуют продажам в Европе. Самые популярные платформы PS4, PS3, X360, XOne, 3DS. Лидирует платформа марки PlayStation Японской компании\n",
    "* 1.2 Самые популярные платформы в Северной Америке -X360, PS4, PS3, XOne, 3DS. Лидирует платформа марки X-box американской компании\n",
    "* 1.3 Самые популярные платформы в Японии -3DS, PS3, PSV, PS4, PSP. Платформы Японских компании\n",
    "* 1.4 Самые популярные платформы в Остальном мире - PS4, PS3, X360, XOne, 3DS."
   ]
  },
  {
   "cell_type": "markdown",
   "id": "849fa974",
   "metadata": {
    "tags": [],
    "toc-hr-collapsed": true
   },
   "source": [
    "### Посмотрим на общее распределение игр по жанрам."
   ]
  },
  {
   "cell_type": "code",
   "execution_count": null,
   "id": "4cd83489",
   "metadata": {
    "scrolled": true
   },
   "outputs": [],
   "source": [
    "df = data_topical.pivot_table(index=\"genre\", values=[ \"jp_sales\", \"other_sales\", \"eu_sales\", \"na_sales\", \"word_sales\"], aggfunc=\"sum\")\n",
    "df.plot.pie(subplots=True, autopct='%1.1f%%', \n",
    "            shadow=True, wedgeprops={'lw':1, 'ls':'--','edgecolor':\"k\"}, \n",
    "            rotatelabels=True, figsize=(50, 50));"
   ]
  },
  {
   "cell_type": "code",
   "execution_count": null,
   "id": "12a69743",
   "metadata": {},
   "outputs": [],
   "source": [
    "df = data_topical.pivot_table(index=\"genre\", values=[\"other_sales\", \"eu_sales\", \"word_sales\"], aggfunc=\"sum\")\n",
    "df.plot.pie(subplots=True, autopct='%1.1f%%', \n",
    "            shadow=True, wedgeprops={'lw':1, 'ls':'--','edgecolor':\"k\"}, \n",
    "            rotatelabels=True, figsize=(20, 20));"
   ]
  },
  {
   "cell_type": "code",
   "execution_count": null,
   "id": "3962505d-fe7e-4b85-90ce-9510c998f13e",
   "metadata": {},
   "outputs": [],
   "source": [
    "df = data_topical.pivot_table(index=\"genre\", values=[\"jp_sales\", \"na_sales\"], aggfunc=\"sum\")\n",
    "df.plot.pie(subplots=True, autopct='%1.1f%%', \n",
    "            shadow=True, wedgeprops={'lw':1, 'ls':'--','edgecolor':\"k\"}, \n",
    "            rotatelabels=True, figsize=(20, 20));"
   ]
  },
  {
   "cell_type": "markdown",
   "id": "91c5f60c-6306-45ec-82d2-38accdc0e7cb",
   "metadata": {},
   "source": [
    "### Что можно сказать о самых прибыльных жанрах? Выделяются ли жанры с высокими и низкими продажами?"
   ]
  },
  {
   "cell_type": "markdown",
   "id": "7c0e376d",
   "metadata": {},
   "source": [
    "* Как и на продажи по платформам, влияние больше всего оказывает Европа и Остальной мир. Где предпочитают жанр Sport и Action, Shooter. Игры от первого лица. Меньше всего Strategy, Adventure, Puzzle\n",
    "* В Японии больше всего предпочитают Role-playing, Action, Misc, Fihting, Platform. Меньше всего Shooter, Racing, Strategy\n",
    "* В Америке Action, Shooter, Sport, Role-playing, Misc. Меньше всего Puzzle, Strategy, Adventure"
   ]
  },
  {
   "cell_type": "markdown",
   "id": "4b025a6b",
   "metadata": {},
   "source": [
    "## Составим портрет пользователя каждого региона\n",
    "* В предыдущем задании мы составили круговые графики по регионам от жанра, платформы. Обобщим результаты:\n",
    "* 1.1 Влияние на мировые продажи по платформам почти полностью соответствуют продажам в Европе. Самые популярные платформы PS4, PS3, X360, XOne, 3DS.\n",
    "* 1.2 Самые популярные платформы в Северной Америке -X360, PS4, PS3, XOne, 3DS.\n",
    "* 1.3 Самые популярные платформы в Японии -3DS, PS3, PSV, PS4, PSP\n",
    "* 1.4 Самые популярные платформы в Остальном мире - PS4, PS3, X360, XOne, 3DS.\n",
    "* 2.1 Самые популярные жанры в Европе и в Остальном мире - Action, Shooter, Sport, Role-Playing, Racing. Игры от первого лица\n",
    "* 2.2 В Японии больше всего предпочитают Role-playing, Action, Misc, Fihting, Platform. Меньше всего Shooter, Racing\n",
    "* 2.3 В Америке Action, Shooter, Sport, Role-playing, Misc. Меньше всего Puzzle, Strategy, Adventure\n",
    "* 3 Рассмотрим влияет ли рейтинг ESRB на продажи в отдельном регионе. \n",
    "* 3.1 Entertainment Software Rating Board (ESRB) — негосударственная организация, основное направление деятельности — принятие и определение рейтингов для компьютерных видеоигр и другого развлекательного программного обеспечения в США и Канаде. Больше всего пропусков в рейтинге у игр которые продавались за пределами Севенй Америки, что логично. "
   ]
  },
  {
   "cell_type": "code",
   "execution_count": null,
   "id": "c615ead0",
   "metadata": {},
   "outputs": [],
   "source": [
    "data_PS4 = data_topical[data_topical['platform'] == 'PS4'].groupby('rating')['na_sales'].mean()\n",
    "data_PS3 = data_topical[data_topical['platform'] == 'PS3'].groupby('rating')['na_sales'].mean()\n",
    "data_XOne = data_topical[data_topical['platform'] == 'XOne'].groupby('rating')['na_sales'].mean()\n",
    "data_3DS = data_topical[data_topical['platform'] == '3DS'].groupby('rating')['na_sales'].mean()\n",
    "plt.figure(figsize=(5, 5))\n",
    "plt.plot(data_PS4, 'v-.g', alpha=0.4, label=\"влияние продаж от оценки ESRB для PS4 в Северной Америке\", \n",
    "         lw=2, mec='r', mew=2, ms=5)\n",
    "plt.plot(data_PS3, 'v-.m', alpha=0.4, label=\"влияние продаж от оценки ESRB для PS3 в Северной Америке\", \n",
    "         lw=2, mec='r', mew=2, ms=5)\n",
    "plt.plot(data_XOne, 'v-.c', alpha=0.4, label=\"влияние продаж от оценки ESRB для XOne в Северной Америке\", \n",
    "         lw=2, mec='r', mew=2, ms=5)\n",
    "plt.plot(data_3DS, 'v-.g', alpha=0.4, label=\"влияние продаж от оценки ESRB для 3DS в Северной Америке\", \n",
    "         lw=2, mec='r', mew=2, ms=5)\n",
    "plt.legend()\n",
    "plt.grid(True)\n",
    "\n"
   ]
  },
  {
   "cell_type": "markdown",
   "id": "2c6f03a5-c6ac-4049-bbf7-8466a1aeec65",
   "metadata": {},
   "source": [
    "* 3.2 Рейтинг ESRB влияет на продажи игр. Больше всего игр покупают для взрослых с рейтингом \"М\". Затем идет для всех \"Е\". Потом для старше 10 \"Е10+\". Только потом для подростков \"Т\". Исключение платформа 3 DS у нее мало игр для взрослых. Анализируем только данные по Северной Америке."
   ]
  },
  {
   "cell_type": "code",
   "execution_count": null,
   "id": "35c21a1f-6a5b-4bd6-9811-56816f1ce708",
   "metadata": {},
   "outputs": [],
   "source": [
    "data_topical #актуальный период\n",
    "data_topical.pivot_table(index=[\"rating\", \"year_of_release\"], \n",
    "columns=\"platform\", values=\"word_sales\", aggfunc=\"sum\").plot.bar(stacked=True, figsize=(10, 10), grid=True,);\n",
    "# Количество продаж от оценки по годам за актуальный период в Мире"
   ]
  },
  {
   "cell_type": "code",
   "execution_count": null,
   "id": "ac91d7ee-642b-42a1-a874-7875e5d10018",
   "metadata": {},
   "outputs": [],
   "source": [
    "data_topical.pivot_table(index=[\"rating\", \"year_of_release\"], \n",
    "columns=\"platform\", values=\"na_sales\", aggfunc=\"sum\").plot.bar(stacked=True, figsize=(10, 10), grid=True);\n",
    "# Количество продаж от оценки по годам за актуальный период в Северной Америке\n"
   ]
  },
  {
   "cell_type": "code",
   "execution_count": null,
   "id": "afea1a1f-28cb-4727-a9a1-b5778dcea969",
   "metadata": {},
   "outputs": [],
   "source": [
    "data_topical.pivot_table(index=[\"rating\", \"year_of_release\"], \n",
    "columns=\"platform\", values=\"other_sales\", aggfunc=\"sum\").plot.bar(stacked=True, figsize=(10, 10), grid=True);\n",
    "# Количество продаж от оценки по годам за актуальный период в Остальном мире"
   ]
  },
  {
   "cell_type": "code",
   "execution_count": null,
   "id": "c06b9552-04b4-48ec-b44b-f75e9e9c05c5",
   "metadata": {},
   "outputs": [],
   "source": [
    "data_topical.pivot_table(index=[\"rating\", \"year_of_release\"], \n",
    "columns=\"platform\", values=\"jp_sales\", aggfunc=\"sum\").plot.bar(stacked=True, figsize=(10, 10), grid=True);\n",
    "# Количество продаж от оценки по годам за актуальный период в Японии"
   ]
  },
  {
   "cell_type": "code",
   "execution_count": null,
   "id": "8ef52dfa-2106-4431-b9eb-8c250202b3c2",
   "metadata": {},
   "outputs": [],
   "source": [
    "data_topical.pivot_table(index=[\"rating\", \"year_of_release\"], \n",
    "columns=\"platform\", values=\"eu_sales\", aggfunc=\"sum\").plot.bar(stacked=True, figsize=(10, 10), grid=True);\n",
    "# Количество продаж от оценки по годам за актуальный период в Европе"
   ]
  },
  {
   "cell_type": "markdown",
   "id": "d223f1b0-4b30-4743-88ab-8e8165151473",
   "metadata": {},
   "source": [
    "* 3.2 Рейтинг ESRB влияет на продажи игр. Больше всего игр покупают для взрослых с рейтингом \"М\". Затем идет для всех \"Е\". Потом для старше 10 \"Е10+\". Только потом для подростков \"Т\". Для Северной Америке \n",
    "* ДЛя остального мира, европы похожая тенденци. Но на результат может оказать влияния отсутствия рейтинга у многих игр.\n",
    "* не рассматриваем данные по Японии, т.к. количество игр без оценок ESRB там слишком велико. Что может исказить реультаты.\n"
   ]
  },
  {
   "cell_type": "markdown",
   "id": "2d28d799-9d27-48b6-aed1-50f071aa367e",
   "metadata": {},
   "source": [
    "<div class=\"alert alert-info\"> <b>Комментарий студента:</b> Определили влияние рейтинга ESRB из разных регионах в актуальном периоде.</div>"
   ]
  },
  {
   "cell_type": "markdown",
   "id": "98b23975-cab4-4f84-815a-40f90bb6a0a0",
   "metadata": {},
   "source": [
    "## Проверим гипотезы"
   ]
  },
  {
   "cell_type": "code",
   "execution_count": null,
   "id": "cfb95341-e196-447e-911f-e678cdd795b6",
   "metadata": {},
   "outputs": [],
   "source": [
    "from scipy import stats as st"
   ]
  },
  {
   "cell_type": "markdown",
   "id": "c8fd4f7e-8c2c-4861-a2cb-9dd0eb27ae33",
   "metadata": {},
   "source": [
    "* H_0: Средние пользовательские рейтинги платформ Xbox One = Средние пользовательские рейтинги платформ PC\n",
    "* H_a: Средние пользовательские рейтинги платформ Xbox One ≠ Средние пользовательские рейтинги платформ PC\n",
    "* alpha = 0.05"
   ]
  },
  {
   "cell_type": "code",
   "execution_count": null,
   "id": "a30b78b0-6b93-46ef-bc5b-0e403b33710d",
   "metadata": {},
   "outputs": [],
   "source": [
    "alpha = .05\n",
    "#создадим соответствующие переменные\n",
    "platform_XOne = p_data[(p_data['platform'] == 'XOne')]['user_score']\n",
    "platform_PC = p_data[(p_data['platform'] == 'PC')]['user_score']\n",
    "#проводим тест\n",
    "results = st.ttest_ind(platform_XOne.dropna(), platform_PC.dropna(), equal_var=False)\n",
    "print(results.pvalue)# вывод значения p-value на экран \n",
    "if results.pvalue < alpha:\n",
    "    print(\"Отвергаем нулевую гипотезу\")\n",
    "else:\n",
    "    print(\"Не получилось отвергнуть нулевую гипотезу\")# условный оператор с выводом строки с ответом"
   ]
  },
  {
   "cell_type": "markdown",
   "id": "d0fda811-6e9c-4e61-9f55-61c2a60f0906",
   "metadata": {},
   "source": [
    "* H_0: Средние пользовательские рейтинги жанров Action = Средние пользовательские рейтинги жанров Sports\n",
    "* H_a: Средние пользовательские рейтинги жанров Action ≠ Средние пользовательские рейтинги жанров Sports\n",
    "* alpha = 0.05"
   ]
  },
  {
   "cell_type": "code",
   "execution_count": null,
   "id": "e72cf100-08a9-4817-98aa-87c1c2489281",
   "metadata": {},
   "outputs": [],
   "source": [
    "alpha = .05\n",
    "#создадим соответствующие переменные\n",
    "genre_action = p_data[(p_data['genre'] == 'Action')]['user_score']\n",
    "genre_sport = p_data[(p_data['genre'] == 'Sports')]['user_score']\n",
    "#проводим тест\n",
    "results = st.ttest_ind(genre_action, genre_sport, equal_var=False)\n",
    "print(results.pvalue)# вывод значения p-value на экран \n",
    "if results.pvalue < alpha:\n",
    "    print(\"Отвергаем нулевую гипотезу\")\n",
    "else:\n",
    "    print(\"Не получилось отвергнуть нулевую гипотезу\")# условный оператор с выводом строки с ответом"
   ]
  },
  {
   "cell_type": "markdown",
   "id": "60fe921b-1f3c-4597-8792-bcba44495b71",
   "metadata": {
    "tags": []
   },
   "source": [
    "### Какой критерий применили для проверки гипотез и почему.\n",
    "Чтобы проверить гипотезу о равенстве среднего двух генеральных совокупностей по взятым из них выборкам, применили метод scipy.stats.ttest_ind()"
   ]
  },
  {
   "cell_type": "markdown",
   "id": "638c16aa-d948-494e-a57d-5a49f4a64ea9",
   "metadata": {},
   "source": [
    "## Общий вывод\n",
    "В цели задачи мы ставили выявить определяющие успешность игры закономерности. Что позволит сделать ставку на потенциально популярный продукт и спланировать рекламные кампании.\n",
    "* 1.1 Влияние на мировые продажи по платформам почти полностью соответствуют продажам в Европе. Самые популярные платформы PS4, PS3, X360, XOne, 3DS. Лидирует платформа марки PlayStation Японской компании\n",
    "* 1.2 Самые популярные платформы в Северной Америке -X360, PS4, PS3, XOne, 3DS. Лидирует платформа марки X-box американской компании\n",
    "* 1.3 Самые популярные платформы в Японии -3DS, PS3, PSV, PS4, PSP. Платформы Японских компании\n",
    "* 1.4 Самые популярные платформы в Остальном мире - PS4, PS3, X360, XOne, 3DS.\n",
    "\n",
    "* 2.1 C хорошей оценкой критиков выше 80. \n",
    "* 2.2 Европа и Остальной мир предпочитают жанр Sport и Action, Shooter.\n",
    "* 2.3 В Японии больше всего предпочитают Role-playing, Action, Misc, Fihting, Platform. Меньше всего Shooter, Racing, Strategy\n",
    "* 2.4 В Америке Action, Shooter, Sport, Role-playing, Misc. \n",
    "\n",
    "* С рейтингом ESRB для всех \"М\", кроме Японии.\n",
    "* Также проверили две гипотезы:\n",
    "1. Средние пользовательские рейтинги платформ Xbox One = Средние пользовательские рейтинги платформ PC (Не получилось отвергнуть гипотезу)\n",
    "2. Средние пользовательские рейтинги жанров Action = Средние пользовательские рейтинги жанров Sports (Отвергаем нулевую гипотезу)"
   ]
  },
  {
   "attachments": {},
   "cell_type": "markdown",
   "id": "6f0f99e8-aae0-45be-b863-5b02cd900b72",
   "metadata": {},
   "source": [
    "## Количество продаж в мире по годам и платформам bar_chart_race"
   ]
  },
  {
   "cell_type": "code",
   "execution_count": null,
   "id": "c46579a9-e03d-4220-9cbe-117c8f9316d9",
   "metadata": {},
   "outputs": [],
   "source": [
    "df = data.pivot_table(index=\"year_of_release\", columns=\"platform\", \n",
    "                 values=\"word_sales\", aggfunc=\"sum\")\n",
    "\n",
    "df.fillna(0, inplace=True)\n",
    "df.sort_values(list(df.columns),inplace=True)\n",
    "df = df.sort_index()\n",
    "df.iloc[:, 0:-1] = df.iloc[:, 0:-1].cumsum()\n",
    "best_platforms = set()\n",
    "\n",
    "for index, row in df.iterrows():\n",
    "    best_platforms |= set(row[row > 0].sort_values(ascending=False).head(6).index)\n",
    "\n",
    "bcr.bar_chart_race(df = df, \n",
    "                   n_bars = 6, \n",
    "                   sort='desc',\n",
    "                   title='Best Platforms by Year',\n",
    "                   fixed_max=True,\n",
    "                   steps_per_period=20,\n",
    "                   period_length=1500,\n",
    "                   filter_column_colors=True);"
   ]
  }
 ],
 "metadata": {
  "ExecuteTimeLog": [
   {
    "duration": 46,
    "start_time": "2022-12-04T18:11:43.850Z"
   },
   {
    "duration": 46,
    "start_time": "2022-12-04T18:32:03.064Z"
   }
  ],
  "celltoolbar": "Необработанный формат ячейки",
  "kernelspec": {
   "display_name": "Python 3",
   "language": "python",
   "name": "python3"
  },
  "language_info": {
   "codemirror_mode": {
    "name": "ipython",
    "version": 3
   },
   "file_extension": ".py",
   "mimetype": "text/x-python",
   "name": "python",
   "nbconvert_exporter": "python",
   "pygments_lexer": "ipython3",
   "version": "3.10.4"
  },
  "toc": {
   "base_numbering": 1,
   "nav_menu": {},
   "number_sections": true,
   "sideBar": true,
   "skip_h1_title": true,
   "title_cell": "Table of Contents",
   "title_sidebar": "Contents",
   "toc_cell": false,
   "toc_position": {},
   "toc_section_display": true,
   "toc_window_display": false
  },
  "toc-autonumbering": true,
  "vscode": {
   "interpreter": {
    "hash": "3ad933181bd8a04b432d3370b9dc3b0662ad032c4dfaa4e4f1596c548f763858"
   }
  }
 },
 "nbformat": 4,
 "nbformat_minor": 5
}
