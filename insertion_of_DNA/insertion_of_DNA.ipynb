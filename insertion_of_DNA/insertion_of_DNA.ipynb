{
  "nbformat": 4,
  "nbformat_minor": 0,
  "metadata": {
    "colab": {
      "provenance": [],
      "authorship_tag": "ABX9TyOxlconLPr4jj4Udu744lBj",
      "include_colab_link": true
    },
    "kernelspec": {
      "name": "python3",
      "display_name": "Python 3"
    },
    "language_info": {
      "name": "python"
    }
  },
  "cells": [
    {
      "cell_type": "markdown",
      "metadata": {
        "id": "view-in-github",
        "colab_type": "text"
      },
      "source": [
        "<a href=\"https://colab.research.google.com/github/AleksTurov/Data-Science/blob/main/insertion_of_DNA/insertion_of_DNA.ipynb\" target=\"_parent\"><img src=\"https://colab.research.google.com/assets/colab-badge.svg\" alt=\"Open In Colab\"/></a>"
      ]
    },
    {
      "cell_type": "markdown",
      "source": [
        "Давайте удостоверимся, что встраивание фрагмента ДНК в неправильной ориентации \n",
        "\n",
        "*   List item\n",
        "*   List item\n",
        "\n",
        "это плохо :)\n",
        "\n",
        "Допустим, мы производим встраивание последовательности (назовем ее вставка) GGATCCGATGCTACGTACGATGGATCC\n",
        "\n",
        "в последовательность (назовем ее мишень) ATGGTACGGATCCGTGACTAA по сайту рестрикции BamHI (выделен)\n",
        "\n",
        "В результате получится вот такая последовательность: ATG GTA CGG ATC CGA TGC TAC GTA CGA TGG ATC CGT GAC TAA. Если с нее считается мРНК, а с этой мРНК будет синтезирован белок, то получится вот такой полипептид -  MVRIRCYVRWIRD (использованы стандартные однобуквенные сокращения названий аминокислот).\n",
        "\n",
        "Вам предлагается посмотреть, что будет, если такую же последовательность вставить по тому же сайту рестрикции, но задом наперед. Для этого нужно: \n",
        "\n",
        "1. Дописать цепь ДНК, комплементарную вставке, что указана выше\n",
        "\n",
        "2. Записать ее в направлении от 5' к 3'-концу (фактически, развернуть задом наперед то, что сделано в шаге 1)\n",
        "\n",
        "3. Вставить эту последовательность в мишень по сайту рестрикции BamHI (по аналогии с приведенным примером)\n",
        "\n",
        "4. Перевести получившуюся последовательность в белковую последовательность, воспользовавшись таблицей генетического кода или готовым инструментом для трансляции последовательностей для упрощения жизни (в таком случае нас интересует только первый из представленных в ответе вариантов рамки считывания (5'3' Frame 1).\n",
        "\n",
        "5. Записать в ответ получившийся пептид в виде строки из однобуквенных обозначений аминокислот без пробелов (тоже по аналогии с примером). (Подсказка: помните, что трансляция заканчивается на одном из стоп-кодонов: TAA, TAG, TGA).."
      ],
      "metadata": {
        "id": "ruyUc5fYEsP1"
      }
    },
    {
      "cell_type": "code",
      "source": [
        "import pandas as pd\n",
        "from Bio.Seq import Seq\n",
        "from Bio import Restriction"
      ],
      "metadata": {
        "id": "qgt49Cb7EwZN"
      },
      "execution_count": null,
      "outputs": []
    },
    {
      "cell_type": "code",
      "source": [
        "# создаем объекты Seq для вставки и мишени\n",
        "insertion = Seq('GGATCCGATGCTACGTACGATGGATCC')\n",
        "target = Seq('ATGGTACGGATCCGTGACTAA')\n",
        "\n",
        "# находим сайт рестрикции BamHI в мишени и разбиваем ее на фрагменты слева и справа от сайта\n",
        "restriction_site = str(Restriction.BamHI.site)\n",
        "site_pos = target.find(restriction_site)\n",
        "left_fragment = target[:site_pos]\n",
        "right_fragment = target[site_pos+len(restriction_site):]\n"
      ],
      "metadata": {
        "id": "6sIw7ld5DvM7"
      },
      "execution_count": 121,
      "outputs": []
    },
    {
      "cell_type": "code",
      "source": [
        "recombined_sequence = left_fragment + insertion + right_fragment\n",
        "print(f'Recombined sequence: {recombined_sequence}')\n",
        "peptide = recombined_sequence.translate(table=\"Standard\", to_stop=True, stop_symbol=\"\")\n",
        "peptide_string = str(peptide)\n",
        "print(f'Peptide string: {peptide_string}')"
      ],
      "metadata": {
        "colab": {
          "base_uri": "https://localhost:8080/"
        },
        "id": "-Ye5CRsEEHsM",
        "outputId": "1a0a8651-1985-49ee-b072-4fd11553bb3c"
      },
      "execution_count": 122,
      "outputs": [
        {
          "output_type": "stream",
          "name": "stdout",
          "text": [
            "Recombined sequence: ATGGTACGGATCCGATGCTACGTACGATGGATCCGTGACTAA\n",
            "Peptide string: MVRIRCYVRWIRD\n"
          ]
        }
      ]
    },
    {
      "cell_type": "code",
      "source": [
        "\n",
        "\n",
        "# получаем комплементарную последовательность вставки, разворачиваем ее и сохраняем в переменную\n",
        "rev_compl_insertion = insertion.reverse_complement()\n",
        "rev_compl_insertion_reversed = rev_compl_insertion[::-1]\n",
        "\n",
        "\n",
        "# объединяем фрагменты мишени и вставку в одну последовательность\n",
        "recombined_sequence = left_fragment + rev_compl_insertion + right_fragment\n",
        "\n",
        "# выводим получившуюся последовательность\n",
        "print(f'Recombined sequence: {recombined_sequence}')\n",
        "\n",
        "# транслируем полученную последовательность и сохраняем результат в переменную\n",
        "peptide = recombined_sequence.translate(table=\"Standard\", to_stop=True, stop_symbol=\"\")\n",
        "\n",
        "# выводим результат трансляции в виде строки однобуквенных обозначений аминокислот\n",
        "peptide_string = str(peptide)\n",
        "print(f'Peptide string: {peptide_string}')\n",
        "\n"
      ],
      "metadata": {
        "colab": {
          "base_uri": "https://localhost:8080/"
        },
        "id": "r0jpiIpmtMeJ",
        "outputId": "3c9465aa-61d7-470a-c2f4-894491198bf7"
      },
      "execution_count": 123,
      "outputs": [
        {
          "output_type": "stream",
          "name": "stdout",
          "text": [
            "Recombined sequence: ATGGTACGGATCCATCGTACGTAGCATCGGATCCGTGACTAA\n",
            "Peptide string: MVRIHRT\n"
          ]
        }
      ]
    },
    {
      "cell_type": "code",
      "source": [],
      "metadata": {
        "id": "zzyvfJT0CR10"
      },
      "execution_count": 124,
      "outputs": []
    }
  ]
}