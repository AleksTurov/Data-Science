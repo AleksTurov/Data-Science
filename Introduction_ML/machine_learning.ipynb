{
 "cells": [
  {
   "cell_type": "markdown",
   "metadata": {},
   "source": [
    "# Рекомендация тарифов"
   ]
  },
  {
   "cell_type": "markdown",
   "metadata": {},
   "source": [
    "В вашем распоряжении данные о поведении клиентов, которые уже перешли на эти тарифы (из проекта курса «Статистический анализ данных»). Нужно построить модель для задачи классификации, которая выберет подходящий тариф. Предобработка данных не понадобится — вы её уже сделали.\n",
    "\n",
    "Постройте модель с максимально большим значением *accuracy*. Чтобы сдать проект успешно, нужно довести долю правильных ответов по крайней мере до 0.75. Проверьте *accuracy* на тестовой выборке самостоятельно."
   ]
  },
  {
   "cell_type": "markdown",
   "metadata": {},
   "source": [
    "## Откройте и изучите файл"
   ]
  },
  {
   "cell_type": "code",
   "execution_count": 1,
   "metadata": {},
   "outputs": [],
   "source": [
    "import pandas as pd \n",
    "import numpy as np\n",
    "import matplotlib.pyplot as plt\n",
    "import seaborn as sns\n",
    "\n",
    "from sklearn.preprocessing import StandardScaler\n",
    "from sklearn.tree import DecisionTreeClassifier\n",
    "from sklearn.metrics import accuracy_score, f1_score\n",
    "from sklearn.model_selection import train_test_split, RandomizedSearchCV, GridSearchCV\n",
    "from sklearn.ensemble import RandomForestClassifier\n",
    "from sklearn.dummy import DummyClassifier\n",
    "from sklearn.linear_model import LogisticRegression\n",
    "\n",
    "from joblib import dump"
   ]
  },
  {
   "cell_type": "code",
   "execution_count": 2,
   "metadata": {},
   "outputs": [],
   "source": [
    "data = pd.read_csv('/workspaces/Data-Science/Dataset/users_behavior.csv')"
   ]
  },
  {
   "cell_type": "code",
   "execution_count": 3,
   "metadata": {},
   "outputs": [
    {
     "data": {
      "text/html": [
       "<div>\n",
       "<style scoped>\n",
       "    .dataframe tbody tr th:only-of-type {\n",
       "        vertical-align: middle;\n",
       "    }\n",
       "\n",
       "    .dataframe tbody tr th {\n",
       "        vertical-align: top;\n",
       "    }\n",
       "\n",
       "    .dataframe thead th {\n",
       "        text-align: right;\n",
       "    }\n",
       "</style>\n",
       "<table border=\"1\" class=\"dataframe\">\n",
       "  <thead>\n",
       "    <tr style=\"text-align: right;\">\n",
       "      <th></th>\n",
       "      <th>calls</th>\n",
       "      <th>minutes</th>\n",
       "      <th>messages</th>\n",
       "      <th>mb_used</th>\n",
       "      <th>is_ultra</th>\n",
       "    </tr>\n",
       "  </thead>\n",
       "  <tbody>\n",
       "    <tr>\n",
       "      <th>0</th>\n",
       "      <td>40.0</td>\n",
       "      <td>311.90</td>\n",
       "      <td>83.0</td>\n",
       "      <td>19915.42</td>\n",
       "      <td>0</td>\n",
       "    </tr>\n",
       "    <tr>\n",
       "      <th>1</th>\n",
       "      <td>85.0</td>\n",
       "      <td>516.75</td>\n",
       "      <td>56.0</td>\n",
       "      <td>22696.96</td>\n",
       "      <td>0</td>\n",
       "    </tr>\n",
       "    <tr>\n",
       "      <th>2</th>\n",
       "      <td>77.0</td>\n",
       "      <td>467.66</td>\n",
       "      <td>86.0</td>\n",
       "      <td>21060.45</td>\n",
       "      <td>0</td>\n",
       "    </tr>\n",
       "    <tr>\n",
       "      <th>3</th>\n",
       "      <td>106.0</td>\n",
       "      <td>745.53</td>\n",
       "      <td>81.0</td>\n",
       "      <td>8437.39</td>\n",
       "      <td>1</td>\n",
       "    </tr>\n",
       "    <tr>\n",
       "      <th>4</th>\n",
       "      <td>66.0</td>\n",
       "      <td>418.74</td>\n",
       "      <td>1.0</td>\n",
       "      <td>14502.75</td>\n",
       "      <td>0</td>\n",
       "    </tr>\n",
       "  </tbody>\n",
       "</table>\n",
       "</div>"
      ],
      "text/plain": [
       "   calls  minutes  messages   mb_used  is_ultra\n",
       "0   40.0   311.90      83.0  19915.42         0\n",
       "1   85.0   516.75      56.0  22696.96         0\n",
       "2   77.0   467.66      86.0  21060.45         0\n",
       "3  106.0   745.53      81.0   8437.39         1\n",
       "4   66.0   418.74       1.0  14502.75         0"
      ]
     },
     "execution_count": 3,
     "metadata": {},
     "output_type": "execute_result"
    }
   ],
   "source": [
    "data.head()"
   ]
  },
  {
   "cell_type": "code",
   "execution_count": 4,
   "metadata": {},
   "outputs": [
    {
     "name": "stdout",
     "output_type": "stream",
     "text": [
      "<class 'pandas.core.frame.DataFrame'>\n",
      "RangeIndex: 3214 entries, 0 to 3213\n",
      "Data columns (total 5 columns):\n",
      " #   Column    Non-Null Count  Dtype  \n",
      "---  ------    --------------  -----  \n",
      " 0   calls     3214 non-null   float64\n",
      " 1   minutes   3214 non-null   float64\n",
      " 2   messages  3214 non-null   float64\n",
      " 3   mb_used   3214 non-null   float64\n",
      " 4   is_ultra  3214 non-null   int64  \n",
      "dtypes: float64(4), int64(1)\n",
      "memory usage: 125.7 KB\n"
     ]
    }
   ],
   "source": [
    "data.info()"
   ]
  },
  {
   "cell_type": "code",
   "execution_count": 5,
   "metadata": {},
   "outputs": [
    {
     "data": {
      "text/plain": [
       "calls       0\n",
       "minutes     0\n",
       "messages    0\n",
       "mb_used     0\n",
       "is_ultra    0\n",
       "dtype: int64"
      ]
     },
     "execution_count": 5,
     "metadata": {},
     "output_type": "execute_result"
    }
   ],
   "source": [
    "data.isna().sum() "
   ]
  },
  {
   "cell_type": "code",
   "execution_count": 6,
   "metadata": {},
   "outputs": [
    {
     "data": {
      "text/html": [
       "<div>\n",
       "<style scoped>\n",
       "    .dataframe tbody tr th:only-of-type {\n",
       "        vertical-align: middle;\n",
       "    }\n",
       "\n",
       "    .dataframe tbody tr th {\n",
       "        vertical-align: top;\n",
       "    }\n",
       "\n",
       "    .dataframe thead th {\n",
       "        text-align: right;\n",
       "    }\n",
       "</style>\n",
       "<table border=\"1\" class=\"dataframe\">\n",
       "  <thead>\n",
       "    <tr style=\"text-align: right;\">\n",
       "      <th></th>\n",
       "      <th>calls</th>\n",
       "      <th>minutes</th>\n",
       "      <th>messages</th>\n",
       "      <th>mb_used</th>\n",
       "      <th>is_ultra</th>\n",
       "    </tr>\n",
       "  </thead>\n",
       "  <tbody>\n",
       "    <tr>\n",
       "      <th>count</th>\n",
       "      <td>3214.000000</td>\n",
       "      <td>3214.000000</td>\n",
       "      <td>3214.000000</td>\n",
       "      <td>3214.000000</td>\n",
       "      <td>3214.000000</td>\n",
       "    </tr>\n",
       "    <tr>\n",
       "      <th>mean</th>\n",
       "      <td>63.038892</td>\n",
       "      <td>438.208787</td>\n",
       "      <td>38.281269</td>\n",
       "      <td>17207.673836</td>\n",
       "      <td>0.306472</td>\n",
       "    </tr>\n",
       "    <tr>\n",
       "      <th>std</th>\n",
       "      <td>33.236368</td>\n",
       "      <td>234.569872</td>\n",
       "      <td>36.148326</td>\n",
       "      <td>7570.968246</td>\n",
       "      <td>0.461100</td>\n",
       "    </tr>\n",
       "    <tr>\n",
       "      <th>min</th>\n",
       "      <td>0.000000</td>\n",
       "      <td>0.000000</td>\n",
       "      <td>0.000000</td>\n",
       "      <td>0.000000</td>\n",
       "      <td>0.000000</td>\n",
       "    </tr>\n",
       "    <tr>\n",
       "      <th>25%</th>\n",
       "      <td>40.000000</td>\n",
       "      <td>274.575000</td>\n",
       "      <td>9.000000</td>\n",
       "      <td>12491.902500</td>\n",
       "      <td>0.000000</td>\n",
       "    </tr>\n",
       "    <tr>\n",
       "      <th>50%</th>\n",
       "      <td>62.000000</td>\n",
       "      <td>430.600000</td>\n",
       "      <td>30.000000</td>\n",
       "      <td>16943.235000</td>\n",
       "      <td>0.000000</td>\n",
       "    </tr>\n",
       "    <tr>\n",
       "      <th>75%</th>\n",
       "      <td>82.000000</td>\n",
       "      <td>571.927500</td>\n",
       "      <td>57.000000</td>\n",
       "      <td>21424.700000</td>\n",
       "      <td>1.000000</td>\n",
       "    </tr>\n",
       "    <tr>\n",
       "      <th>max</th>\n",
       "      <td>244.000000</td>\n",
       "      <td>1632.060000</td>\n",
       "      <td>224.000000</td>\n",
       "      <td>49745.730000</td>\n",
       "      <td>1.000000</td>\n",
       "    </tr>\n",
       "  </tbody>\n",
       "</table>\n",
       "</div>"
      ],
      "text/plain": [
       "             calls      minutes     messages       mb_used     is_ultra\n",
       "count  3214.000000  3214.000000  3214.000000   3214.000000  3214.000000\n",
       "mean     63.038892   438.208787    38.281269  17207.673836     0.306472\n",
       "std      33.236368   234.569872    36.148326   7570.968246     0.461100\n",
       "min       0.000000     0.000000     0.000000      0.000000     0.000000\n",
       "25%      40.000000   274.575000     9.000000  12491.902500     0.000000\n",
       "50%      62.000000   430.600000    30.000000  16943.235000     0.000000\n",
       "75%      82.000000   571.927500    57.000000  21424.700000     1.000000\n",
       "max     244.000000  1632.060000   224.000000  49745.730000     1.000000"
      ]
     },
     "execution_count": 6,
     "metadata": {},
     "output_type": "execute_result"
    }
   ],
   "source": [
    "data.describe()"
   ]
  },
  {
   "cell_type": "code",
   "execution_count": 7,
   "metadata": {},
   "outputs": [
    {
     "data": {
      "image/png": "[encoded data removed]",
      "text/plain": [
       "<Figure size 640x480 with 2 Axes>"
      ]
     },
     "metadata": {},
     "output_type": "display_data"
    }
   ],
   "source": [
    "sns.heatmap(data.corr(), vmin = -1, vmax = +1, annot = True, cmap = 'coolwarm');"
   ]
  },
  {
   "cell_type": "markdown",
   "metadata": {},
   "source": [
    "**Описание данных\n",
    "Каждый объект в наборе данных — это информация о поведении одного пользователя за месяц. Известно:**\n",
    "* сalls — количество звонков,\n",
    "* minutes — суммарная длительность звонков в минутах,\n",
    "* messages — количество sms-сообщений,\n",
    "* mb_used — израсходованный интернет-трафик в Мб,\n",
    "* is_ultra — каким тарифом пользовался в течение месяца («Ультра» — 1, «Смарт» — 0)."
   ]
  },
  {
   "cell_type": "markdown",
   "metadata": {
    "tags": []
   },
   "source": [
    "## Разбейте данные на выборки"
   ]
  },
  {
   "cell_type": "code",
   "execution_count": 8,
   "metadata": {},
   "outputs": [],
   "source": [
    "# отделим 20% данных для тестовой выборки (для проверки модели)\n",
    "data_other, data_test = train_test_split(data, test_size=0.2, random_state=12345)\n"
   ]
  },
  {
   "cell_type": "code",
   "execution_count": 9,
   "metadata": {},
   "outputs": [],
   "source": [
    "features_other = data_other.drop(['is_ultra'], axis=1) \n",
    "target_other = data_other['is_ultra']\n",
    "features_test = data_test.drop(['is_ultra'], axis=1) \n",
    "target_test = data_test['is_ultra']"
   ]
  },
  {
   "cell_type": "code",
   "execution_count": 10,
   "metadata": {},
   "outputs": [],
   "source": [
    "# отделим 25% данных для validation выборки \n",
    "data_train, data_valid = train_test_split(data_other, test_size=0.25, random_state=12345) # < разделите данные на обучающую и валидационную выборки >"
   ]
  },
  {
   "cell_type": "code",
   "execution_count": 11,
   "metadata": {},
   "outputs": [],
   "source": [
    "features_train = data_train.drop(['is_ultra'], axis=1) \n",
    "target_train = data_train['is_ultra']\n",
    "features_valid = data_valid.drop(['is_ultra'], axis=1)\n",
    "target_valid = data_valid['is_ultra']"
   ]
  },
  {
   "cell_type": "code",
   "execution_count": 12,
   "metadata": {},
   "outputs": [
    {
     "name": "stdout",
     "output_type": "stream",
     "text": [
      "Размер обучающей выборки 1928\n",
      "Размер валидационной выборки 643\n",
      "Размер тестовой выборки 643\n"
     ]
    }
   ],
   "source": [
    "print('Размер обучающей выборки', len(data_train))\n",
    "print('Размер валидационной выборки', len(data_valid))\n",
    "print('Размер тестовой выборки', len(data_test))"
   ]
  },
  {
   "cell_type": "code",
   "execution_count": 13,
   "metadata": {},
   "outputs": [
    {
     "data": {
      "text/plain": [
       "0"
      ]
     },
     "execution_count": 13,
     "metadata": {},
     "output_type": "execute_result"
    }
   ],
   "source": [
    "len(data) - (len(data_train) + len(data_valid) + len(data_test))"
   ]
  },
  {
   "cell_type": "code",
   "execution_count": 14,
   "metadata": {},
   "outputs": [
    {
     "name": "stdout",
     "output_type": "stream",
     "text": [
      "Количество строк в target_train по классам: [1339  589]\n",
      "Количество строк в target_test по классам: [447 196]\n"
     ]
    }
   ],
   "source": [
    "print(f\"Количество строк в target_train по классам: {np.bincount(target_train)}\")\n",
    "print(f\"Количество строк в target_test по классам: {np.bincount(target_test)}\")"
   ]
  },
  {
   "cell_type": "code",
   "execution_count": 15,
   "metadata": {},
   "outputs": [],
   "source": [
    "def prop (data, column, set_name):\n",
    "    result = round((data[column].sum()/len(data[column])*100), 2)\n",
    "    return print(f'Доля в % абонентов «Ультра» в выборке {set_name}:',result)"
   ]
  },
  {
   "cell_type": "code",
   "execution_count": 16,
   "metadata": {},
   "outputs": [
    {
     "name": "stdout",
     "output_type": "stream",
     "text": [
      "Доля в % абонентов «Ультра» в выборке \"Тренировочный набор\": 30.55\n",
      "Доля в % абонентов «Ультра» в выборке \"Валидационный набор\": 31.1\n",
      "Доля в % абонентов «Ультра» в выборке \"Тестовый набор\": 30.48\n",
      "Доля в % абонентов «Ультра» в выборке \"Исходный набор\": 30.65\n"
     ]
    }
   ],
   "source": [
    "prop(data_train,'is_ultra', '\"Тренировочный набор\"')\n",
    "prop(data_valid,'is_ultra', '\"Валидационный набор\"')\n",
    "prop(data_test,'is_ultra', '\"Тестовый набор\"')\n",
    "prop(data,'is_ultra', '\"Исходный набор\"')"
   ]
  },
  {
   "cell_type": "code",
   "execution_count": 17,
   "metadata": {},
   "outputs": [
    {
     "data": {
      "text/html": [
       "<div>\n",
       "<style scoped>\n",
       "    .dataframe tbody tr th:only-of-type {\n",
       "        vertical-align: middle;\n",
       "    }\n",
       "\n",
       "    .dataframe tbody tr th {\n",
       "        vertical-align: top;\n",
       "    }\n",
       "\n",
       "    .dataframe thead th {\n",
       "        text-align: right;\n",
       "    }\n",
       "</style>\n",
       "<table border=\"1\" class=\"dataframe\">\n",
       "  <thead>\n",
       "    <tr style=\"text-align: right;\">\n",
       "      <th></th>\n",
       "      <th>is_ultra</th>\n",
       "    </tr>\n",
       "  </thead>\n",
       "  <tbody>\n",
       "    <tr>\n",
       "      <th>0</th>\n",
       "      <td>0.693528</td>\n",
       "    </tr>\n",
       "    <tr>\n",
       "      <th>1</th>\n",
       "      <td>0.306472</td>\n",
       "    </tr>\n",
       "  </tbody>\n",
       "</table>\n",
       "</div>"
      ],
      "text/plain": [
       "   is_ultra\n",
       "0  0.693528\n",
       "1  0.306472"
      ]
     },
     "execution_count": 17,
     "metadata": {},
     "output_type": "execute_result"
    }
   ],
   "source": [
    "(data['is_ultra'].value_counts()/data.shape[0]).to_frame()"
   ]
  },
  {
   "attachments": {},
   "cell_type": "markdown",
   "metadata": {},
   "source": [
    " Использовал классические пропорции 80-20-20. Проверили контроль разбиения использовав .shape. В начальной модели у нас 30.6 % пользователей Ультра. Сравним потом с итоговыми  (train/valid/test)"
   ]
  },
  {
   "cell_type": "markdown",
   "metadata": {
    "tags": []
   },
   "source": [
    "## Исследуйте модели"
   ]
  },
  {
   "attachments": {},
   "cell_type": "markdown",
   "metadata": {},
   "source": [
    "### Модель случайный лес"
   ]
  },
  {
   "cell_type": "markdown",
   "metadata": {},
   "source": [
    "#### Этап 1. Оптимизация гиперпараметров. RandomizedSearchCV\n",
    "Начать можно с алгоритма RandomizedSearchCV, который позволяет довольно грубо исследовать широкие диапазоны значений"
   ]
  },
  {
   "cell_type": "code",
   "execution_count": 18,
   "metadata": {},
   "outputs": [
    {
     "name": "stdout",
     "output_type": "stream",
     "text": [
      "Fitting 3 folds for each of 100 candidates, totalling 300 fits\n",
      "CPU times: user 1.01 s, sys: 108 ms, total: 1.12 s\n",
      "Wall time: 2min 25s\n"
     ]
    },
    {
     "data": {
      "text/html": [
       "<style>#sk-container-id-1 {color: black;background-color: white;}#sk-container-id-1 pre{padding: 0;}#sk-container-id-1 div.sk-toggleable {background-color: white;}#sk-container-id-1 label.sk-toggleable__label {cursor: pointer;display: block;width: 100%;margin-bottom: 0;padding: 0.3em;box-sizing: border-box;text-align: center;}#sk-container-id-1 label.sk-toggleable__label-arrow:before {content: \"▸\";float: left;margin-right: 0.25em;color: #696969;}#sk-container-id-1 label.sk-toggleable__label-arrow:hover:before {color: black;}#sk-container-id-1 div.sk-estimator:hover label.sk-toggleable__label-arrow:before {color: black;}#sk-container-id-1 div.sk-toggleable__content {max-height: 0;max-width: 0;overflow: hidden;text-align: left;background-color: #f0f8ff;}#sk-container-id-1 div.sk-toggleable__content pre {margin: 0.2em;color: black;border-radius: 0.25em;background-color: #f0f8ff;}#sk-container-id-1 input.sk-toggleable__control:checked~div.sk-toggleable__content {max-height: 200px;max-width: 100%;overflow: auto;}#sk-container-id-1 input.sk-toggleable__control:checked~label.sk-toggleable__label-arrow:before {content: \"▾\";}#sk-container-id-1 div.sk-estimator input.sk-toggleable__control:checked~label.sk-toggleable__label {background-color: #d4ebff;}#sk-container-id-1 div.sk-label input.sk-toggleable__control:checked~label.sk-toggleable__label {background-color: #d4ebff;}#sk-container-id-1 input.sk-hidden--visually {border: 0;clip: rect(1px 1px 1px 1px);clip: rect(1px, 1px, 1px, 1px);height: 1px;margin: -1px;overflow: hidden;padding: 0;position: absolute;width: 1px;}#sk-container-id-1 div.sk-estimator {font-family: monospace;background-color: #f0f8ff;border: 1px dotted black;border-radius: 0.25em;box-sizing: border-box;margin-bottom: 0.5em;}#sk-container-id-1 div.sk-estimator:hover {background-color: #d4ebff;}#sk-container-id-1 div.sk-parallel-item::after {content: \"\";width: 100%;border-bottom: 1px solid gray;flex-grow: 1;}#sk-container-id-1 div.sk-label:hover label.sk-toggleable__label {background-color: #d4ebff;}#sk-container-id-1 div.sk-serial::before {content: \"\";position: absolute;border-left: 1px solid gray;box-sizing: border-box;top: 0;bottom: 0;left: 50%;z-index: 0;}#sk-container-id-1 div.sk-serial {display: flex;flex-direction: column;align-items: center;background-color: white;padding-right: 0.2em;padding-left: 0.2em;position: relative;}#sk-container-id-1 div.sk-item {position: relative;z-index: 1;}#sk-container-id-1 div.sk-parallel {display: flex;align-items: stretch;justify-content: center;background-color: white;position: relative;}#sk-container-id-1 div.sk-item::before, #sk-container-id-1 div.sk-parallel-item::before {content: \"\";position: absolute;border-left: 1px solid gray;box-sizing: border-box;top: 0;bottom: 0;left: 50%;z-index: -1;}#sk-container-id-1 div.sk-parallel-item {display: flex;flex-direction: column;z-index: 1;position: relative;background-color: white;}#sk-container-id-1 div.sk-parallel-item:first-child::after {align-self: flex-end;width: 50%;}#sk-container-id-1 div.sk-parallel-item:last-child::after {align-self: flex-start;width: 50%;}#sk-container-id-1 div.sk-parallel-item:only-child::after {width: 0;}#sk-container-id-1 div.sk-dashed-wrapped {border: 1px dashed gray;margin: 0 0.4em 0.5em 0.4em;box-sizing: border-box;padding-bottom: 0.4em;background-color: white;}#sk-container-id-1 div.sk-label label {font-family: monospace;font-weight: bold;display: inline-block;line-height: 1.2em;}#sk-container-id-1 div.sk-label-container {text-align: center;}#sk-container-id-1 div.sk-container {/* jupyter's `normalize.less` sets `[hidden] { display: none; }` but bootstrap.min.css set `[hidden] { display: none !important; }` so we also need the `!important` here to be able to override the default hidden behavior on the sphinx rendered scikit-learn.org. See: https://github.com/scikit-learn/scikit-learn/issues/21755 */display: inline-block !important;position: relative;}#sk-container-id-1 div.sk-text-repr-fallback {display: none;}</style><div id=\"sk-container-id-1\" class=\"sk-top-container\"><div class=\"sk-text-repr-fallback\"><pre>RandomizedSearchCV(cv=3, estimator=RandomForestClassifier(), n_iter=100,\n",
       "                   n_jobs=-1,\n",
       "                   param_distributions={&#x27;bootstrap&#x27;: [True, False],\n",
       "                                        &#x27;max_depth&#x27;: [1, 2, 3, 4, 5, 6, 7, 8, 9,\n",
       "                                                      10, 11, 12, 13, 14, 15,\n",
       "                                                      16, 17, 18, 19, 20],\n",
       "                                        &#x27;max_features&#x27;: [&#x27;log2&#x27;, &#x27;sqrt&#x27;],\n",
       "                                        &#x27;min_samples_leaf&#x27;: [2, 7, 12, 18, 23,\n",
       "                                                             28, 34, 39, 44,\n",
       "                                                             50],\n",
       "                                        &#x27;min_samples_split&#x27;: [2, 7, 12, 18, 23,\n",
       "                                                              28, 34, 39, 44,\n",
       "                                                              50],\n",
       "                                        &#x27;n_estimators&#x27;: [1, 53, 106, 158, 211,\n",
       "                                                         263, 316, 369, 421,\n",
       "                                                         474, 526, 579, 631,\n",
       "                                                         684, 737, 789, 842,\n",
       "                                                         894, 947, 1000]},\n",
       "                   random_state=12345, verbose=1)</pre><b>In a Jupyter environment, please rerun this cell to show the HTML representation or trust the notebook. <br />On GitHub, the HTML representation is unable to render, please try loading this page with nbviewer.org.</b></div><div class=\"sk-container\" hidden><div class=\"sk-item sk-dashed-wrapped\"><div class=\"sk-label-container\"><div class=\"sk-label sk-toggleable\"><input class=\"sk-toggleable__control sk-hidden--visually\" id=\"sk-estimator-id-1\" type=\"checkbox\" ><label for=\"sk-estimator-id-1\" class=\"sk-toggleable__label sk-toggleable__label-arrow\">RandomizedSearchCV</label><div class=\"sk-toggleable__content\"><pre>RandomizedSearchCV(cv=3, estimator=RandomForestClassifier(), n_iter=100,\n",
       "                   n_jobs=-1,\n",
       "                   param_distributions={&#x27;bootstrap&#x27;: [True, False],\n",
       "                                        &#x27;max_depth&#x27;: [1, 2, 3, 4, 5, 6, 7, 8, 9,\n",
       "                                                      10, 11, 12, 13, 14, 15,\n",
       "                                                      16, 17, 18, 19, 20],\n",
       "                                        &#x27;max_features&#x27;: [&#x27;log2&#x27;, &#x27;sqrt&#x27;],\n",
       "                                        &#x27;min_samples_leaf&#x27;: [2, 7, 12, 18, 23,\n",
       "                                                             28, 34, 39, 44,\n",
       "                                                             50],\n",
       "                                        &#x27;min_samples_split&#x27;: [2, 7, 12, 18, 23,\n",
       "                                                              28, 34, 39, 44,\n",
       "                                                              50],\n",
       "                                        &#x27;n_estimators&#x27;: [1, 53, 106, 158, 211,\n",
       "                                                         263, 316, 369, 421,\n",
       "                                                         474, 526, 579, 631,\n",
       "                                                         684, 737, 789, 842,\n",
       "                                                         894, 947, 1000]},\n",
       "                   random_state=12345, verbose=1)</pre></div></div></div><div class=\"sk-parallel\"><div class=\"sk-parallel-item\"><div class=\"sk-item\"><div class=\"sk-label-container\"><div class=\"sk-label sk-toggleable\"><input class=\"sk-toggleable__control sk-hidden--visually\" id=\"sk-estimator-id-2\" type=\"checkbox\" ><label for=\"sk-estimator-id-2\" class=\"sk-toggleable__label sk-toggleable__label-arrow\">estimator: RandomForestClassifier</label><div class=\"sk-toggleable__content\"><pre>RandomForestClassifier()</pre></div></div></div><div class=\"sk-serial\"><div class=\"sk-item\"><div class=\"sk-estimator sk-toggleable\"><input class=\"sk-toggleable__control sk-hidden--visually\" id=\"sk-estimator-id-3\" type=\"checkbox\" ><label for=\"sk-estimator-id-3\" class=\"sk-toggleable__label sk-toggleable__label-arrow\">RandomForestClassifier</label><div class=\"sk-toggleable__content\"><pre>RandomForestClassifier()</pre></div></div></div></div></div></div></div></div></div></div>"
      ],
      "text/plain": [
       "RandomizedSearchCV(cv=3, estimator=RandomForestClassifier(), n_iter=100,\n",
       "                   n_jobs=-1,\n",
       "                   param_distributions={'bootstrap': [True, False],\n",
       "                                        'max_depth': [1, 2, 3, 4, 5, 6, 7, 8, 9,\n",
       "                                                      10, 11, 12, 13, 14, 15,\n",
       "                                                      16, 17, 18, 19, 20],\n",
       "                                        'max_features': ['log2', 'sqrt'],\n",
       "                                        'min_samples_leaf': [2, 7, 12, 18, 23,\n",
       "                                                             28, 34, 39, 44,\n",
       "                                                             50],\n",
       "                                        'min_samples_split': [2, 7, 12, 18, 23,\n",
       "                                                              28, 34, 39, 44,\n",
       "                                                              50],\n",
       "                                        'n_estimators': [1, 53, 106, 158, 211,\n",
       "                                                         263, 316, 369, 421,\n",
       "                                                         474, 526, 579, 631,\n",
       "                                                         684, 737, 789, 842,\n",
       "                                                         894, 947, 1000]},\n",
       "                   random_state=12345, verbose=1)"
      ]
     },
     "execution_count": 18,
     "metadata": {},
     "output_type": "execute_result"
    }
   ],
   "source": [
    "%%time\n",
    "1 + 1\n",
    "n_estimators = [int(x) for x in np.linspace(start = 1, stop = 1000, num = 20)]\n",
    "max_features = ['log2', 'sqrt']\n",
    "max_depth = [int(x) for x in np.linspace(start = 1, stop = 20, num = 20)]\n",
    "min_samples_split = [int(x) for x in np.linspace(start = 2, stop = 50, num = 10)]\n",
    "min_samples_leaf = [int(x) for x in np.linspace(start = 2, stop = 50, num = 10)]\n",
    "bootstrap = [True, False]\n",
    "#В ходе работы мы генерируем сущность param_dist, содержащую, для каждого гиперпараметра, диапазон значений, которые нужно испытать\n",
    "param_dist = {'n_estimators': n_estimators,\n",
    "               'max_features': max_features,\n",
    "               'max_depth': max_depth,\n",
    "               'min_samples_split': min_samples_split,\n",
    "               'min_samples_leaf': min_samples_leaf,\n",
    "               'bootstrap': bootstrap}\n",
    "model = RandomizedSearchCV(RandomForestClassifier(), \n",
    "                        param_dist, \n",
    "                        n_iter = 100, \n",
    "                        cv = 3, \n",
    "                        verbose = 1, \n",
    "                        n_jobs=-1, \n",
    "                        random_state=12345)\n",
    "model.fit(features_train, target_train)"
   ]
  },
  {
   "cell_type": "markdown",
   "metadata": {},
   "source": [
    "* При значениях параметров n_iter = 100 и cv = 3, мы создали 300 RF-моделей, случайно выбирая комбинации представленных выше гиперпараметров\n",
    "* Для того чтобы выяснить то, в каком диапазоне значений стоит продолжать поиск, мы легко можем получить датафрейм, содержащий результаты работы алгоритма RandomizedSearchCV."
   ]
  },
  {
   "cell_type": "code",
   "execution_count": 19,
   "metadata": {},
   "outputs": [
    {
     "data": {
      "text/html": [
       "<div>\n",
       "<style scoped>\n",
       "    .dataframe tbody tr th:only-of-type {\n",
       "        vertical-align: middle;\n",
       "    }\n",
       "\n",
       "    .dataframe tbody tr th {\n",
       "        vertical-align: top;\n",
       "    }\n",
       "\n",
       "    .dataframe thead th {\n",
       "        text-align: right;\n",
       "    }\n",
       "</style>\n",
       "<table border=\"1\" class=\"dataframe\">\n",
       "  <thead>\n",
       "    <tr style=\"text-align: right;\">\n",
       "      <th></th>\n",
       "      <th>param_n_estimators</th>\n",
       "      <th>param_min_samples_split</th>\n",
       "      <th>param_min_samples_leaf</th>\n",
       "      <th>param_max_features</th>\n",
       "      <th>param_max_depth</th>\n",
       "      <th>param_bootstrap</th>\n",
       "      <th>mean_test_score</th>\n",
       "      <th>rank_test_score</th>\n",
       "    </tr>\n",
       "  </thead>\n",
       "  <tbody>\n",
       "    <tr>\n",
       "      <th>0</th>\n",
       "      <td>106</td>\n",
       "      <td>34</td>\n",
       "      <td>7</td>\n",
       "      <td>sqrt</td>\n",
       "      <td>19</td>\n",
       "      <td>True</td>\n",
       "      <td>0.820029</td>\n",
       "      <td>1</td>\n",
       "    </tr>\n",
       "    <tr>\n",
       "      <th>1</th>\n",
       "      <td>421</td>\n",
       "      <td>39</td>\n",
       "      <td>7</td>\n",
       "      <td>log2</td>\n",
       "      <td>18</td>\n",
       "      <td>True</td>\n",
       "      <td>0.818472</td>\n",
       "      <td>2</td>\n",
       "    </tr>\n",
       "    <tr>\n",
       "      <th>2</th>\n",
       "      <td>842</td>\n",
       "      <td>34</td>\n",
       "      <td>7</td>\n",
       "      <td>sqrt</td>\n",
       "      <td>10</td>\n",
       "      <td>True</td>\n",
       "      <td>0.818470</td>\n",
       "      <td>3</td>\n",
       "    </tr>\n",
       "    <tr>\n",
       "      <th>3</th>\n",
       "      <td>526</td>\n",
       "      <td>23</td>\n",
       "      <td>2</td>\n",
       "      <td>log2</td>\n",
       "      <td>19</td>\n",
       "      <td>True</td>\n",
       "      <td>0.818468</td>\n",
       "      <td>4</td>\n",
       "    </tr>\n",
       "    <tr>\n",
       "      <th>4</th>\n",
       "      <td>158</td>\n",
       "      <td>44</td>\n",
       "      <td>7</td>\n",
       "      <td>log2</td>\n",
       "      <td>11</td>\n",
       "      <td>False</td>\n",
       "      <td>0.817954</td>\n",
       "      <td>5</td>\n",
       "    </tr>\n",
       "    <tr>\n",
       "      <th>...</th>\n",
       "      <td>...</td>\n",
       "      <td>...</td>\n",
       "      <td>...</td>\n",
       "      <td>...</td>\n",
       "      <td>...</td>\n",
       "      <td>...</td>\n",
       "      <td>...</td>\n",
       "      <td>...</td>\n",
       "    </tr>\n",
       "    <tr>\n",
       "      <th>95</th>\n",
       "      <td>789</td>\n",
       "      <td>44</td>\n",
       "      <td>18</td>\n",
       "      <td>sqrt</td>\n",
       "      <td>1</td>\n",
       "      <td>False</td>\n",
       "      <td>0.774903</td>\n",
       "      <td>96</td>\n",
       "    </tr>\n",
       "    <tr>\n",
       "      <th>96</th>\n",
       "      <td>579</td>\n",
       "      <td>39</td>\n",
       "      <td>2</td>\n",
       "      <td>sqrt</td>\n",
       "      <td>1</td>\n",
       "      <td>False</td>\n",
       "      <td>0.774903</td>\n",
       "      <td>96</td>\n",
       "    </tr>\n",
       "    <tr>\n",
       "      <th>97</th>\n",
       "      <td>579</td>\n",
       "      <td>28</td>\n",
       "      <td>39</td>\n",
       "      <td>sqrt</td>\n",
       "      <td>1</td>\n",
       "      <td>True</td>\n",
       "      <td>0.772307</td>\n",
       "      <td>98</td>\n",
       "    </tr>\n",
       "    <tr>\n",
       "      <th>98</th>\n",
       "      <td>631</td>\n",
       "      <td>7</td>\n",
       "      <td>44</td>\n",
       "      <td>log2</td>\n",
       "      <td>1</td>\n",
       "      <td>True</td>\n",
       "      <td>0.769200</td>\n",
       "      <td>99</td>\n",
       "    </tr>\n",
       "    <tr>\n",
       "      <th>99</th>\n",
       "      <td>1000</td>\n",
       "      <td>18</td>\n",
       "      <td>7</td>\n",
       "      <td>log2</td>\n",
       "      <td>1</td>\n",
       "      <td>True</td>\n",
       "      <td>0.761925</td>\n",
       "      <td>100</td>\n",
       "    </tr>\n",
       "  </tbody>\n",
       "</table>\n",
       "<p>100 rows × 8 columns</p>\n",
       "</div>"
      ],
      "text/plain": [
       "   param_n_estimators param_min_samples_split param_min_samples_leaf  \\\n",
       "0                 106                      34                      7   \n",
       "1                 421                      39                      7   \n",
       "2                 842                      34                      7   \n",
       "3                 526                      23                      2   \n",
       "4                 158                      44                      7   \n",
       "..                ...                     ...                    ...   \n",
       "95                789                      44                     18   \n",
       "96                579                      39                      2   \n",
       "97                579                      28                     39   \n",
       "98                631                       7                     44   \n",
       "99               1000                      18                      7   \n",
       "\n",
       "   param_max_features param_max_depth param_bootstrap  mean_test_score  \\\n",
       "0                sqrt              19            True         0.820029   \n",
       "1                log2              18            True         0.818472   \n",
       "2                sqrt              10            True         0.818470   \n",
       "3                log2              19            True         0.818468   \n",
       "4                log2              11           False         0.817954   \n",
       "..                ...             ...             ...              ...   \n",
       "95               sqrt               1           False         0.774903   \n",
       "96               sqrt               1           False         0.774903   \n",
       "97               sqrt               1            True         0.772307   \n",
       "98               log2               1            True         0.769200   \n",
       "99               log2               1            True         0.761925   \n",
       "\n",
       "    rank_test_score  \n",
       "0                 1  \n",
       "1                 2  \n",
       "2                 3  \n",
       "3                 4  \n",
       "4                 5  \n",
       "..              ...  \n",
       "95               96  \n",
       "96               96  \n",
       "97               98  \n",
       "98               99  \n",
       "99              100  \n",
       "\n",
       "[100 rows x 8 columns]"
      ]
     },
     "execution_count": 19,
     "metadata": {},
     "output_type": "execute_result"
    }
   ],
   "source": [
    "rs_df = pd.DataFrame(model.cv_results_).sort_values('rank_test_score').reset_index(drop=True)\n",
    "rs_df = rs_df.drop([\n",
    "            'mean_fit_time', \n",
    "            'std_fit_time', \n",
    "            'mean_score_time',\n",
    "            'std_score_time', \n",
    "            'params', \n",
    "            'split0_test_score', \n",
    "            'split1_test_score', \n",
    "            'split2_test_score', \n",
    "            'std_test_score'],\n",
    "            axis=1)\n",
    "rs_df"
   ]
  },
  {
   "cell_type": "markdown",
   "metadata": {},
   "source": [
    "Теперь создадим столбчатые графики, на которых, по оси Х, расположены значения гиперпараметров, а по оси Y — средние значения, показываемые моделями. Это позволит понять то, какие значения гиперпараметров, в среднем, лучше всего себя показывают."
   ]
  },
  {
   "cell_type": "code",
   "execution_count": 20,
   "metadata": {},
   "outputs": [
    {
     "data": {
      "image/png": "[encoded data removed]",
      "text/plain": [
       "<Figure size 3000x2500 with 6 Axes>"
      ]
     },
     "metadata": {},
     "output_type": "display_data"
    }
   ],
   "source": [
    "fig, axs = plt.subplots(ncols=3, nrows=2)\n",
    "sns.set(style=\"whitegrid\", color_codes=True, font_scale = 2)\n",
    "fig.set_size_inches(30,25)\n",
    "sns.barplot(x='param_n_estimators', y='mean_test_score', data=rs_df, ax=axs[0,0], color='lightgrey')\n",
    "axs[0,0].set_ylim([.77,.82])\n",
    "axs[0,0].set_title('n_estimators')\n",
    "\n",
    "sns.barplot(x='param_min_samples_split', y='mean_test_score', data=rs_df, ax=axs[0,1], color='coral')\n",
    "axs[0,1].set_ylim([.77,.82])\n",
    "axs[0,1].set_title('min_samples_split')\n",
    "\n",
    "sns.barplot(x='param_min_samples_leaf', y='mean_test_score', data=rs_df, ax=axs[0,2], color='lightgreen')\n",
    "axs[0,2].set_ylim([.77,.82])\n",
    "axs[0,2].set_title('min_samples_leaf')\n",
    "\n",
    "sns.barplot(x='param_max_features', y='mean_test_score', data=rs_df, ax=axs[1,0], color='wheat')\n",
    "axs[1,0].set_ylim([.77,.82])\n",
    "axs[1,0].set_title('max_features')\n",
    "\n",
    "sns.barplot(x='param_max_depth', y='mean_test_score', data=rs_df, ax=axs[1,1], color='lightpink')\n",
    "axs[1,1].set_ylim([.77,.82])\n",
    "axs[1,1].set_title('max_depth')\n",
    "\n",
    "sns.barplot(x='param_bootstrap',y='mean_test_score', data=rs_df, ax=axs[1,2], color='skyblue')\n",
    "axs[1,2].set_ylim([.77,.82])\n",
    "axs[1,2].set_title('bootstrap')\n",
    "\n",
    "plt.show()"
   ]
  },
  {
   "cell_type": "markdown",
   "metadata": {},
   "source": [
    "Анализируя графики можно увидеть некоторые закономеренности:\n",
    "1. n_estimators - выберем лучшие параметры 316, 421, 842\n",
    "2. min_samples_split - выберем лучшие параметры 23, 34, 44\n",
    "3. min_samples_leaf - выберем лучшие параметры 2, 7, 12\n",
    "4. max_features -  вариант sqrt и log2 даёт одинаковый результат.\n",
    "5. max_depth - выберем лучшие параметры 4,5,7, 13\n",
    "6. bootstrap - вариант False даёт самый высокий средний результат."
   ]
  },
  {
   "cell_type": "markdown",
   "metadata": {},
   "source": [
    "#### Этап 2. Оптимизация гиперпараметров. GridSearchCV"
   ]
  },
  {
   "cell_type": "code",
   "execution_count": 21,
   "metadata": {},
   "outputs": [
    {
     "name": "stdout",
     "output_type": "stream",
     "text": [
      "Fitting 3 folds for each of 216 candidates, totalling 648 fits\n",
      "CPU times: user 3.06 s, sys: 163 ms, total: 3.23 s\n",
      "Wall time: 7min 3s\n"
     ]
    },
    {
     "data": {
      "text/html": [
       "<style>#sk-container-id-2 {color: black;background-color: white;}#sk-container-id-2 pre{padding: 0;}#sk-container-id-2 div.sk-toggleable {background-color: white;}#sk-container-id-2 label.sk-toggleable__label {cursor: pointer;display: block;width: 100%;margin-bottom: 0;padding: 0.3em;box-sizing: border-box;text-align: center;}#sk-container-id-2 label.sk-toggleable__label-arrow:before {content: \"▸\";float: left;margin-right: 0.25em;color: #696969;}#sk-container-id-2 label.sk-toggleable__label-arrow:hover:before {color: black;}#sk-container-id-2 div.sk-estimator:hover label.sk-toggleable__label-arrow:before {color: black;}#sk-container-id-2 div.sk-toggleable__content {max-height: 0;max-width: 0;overflow: hidden;text-align: left;background-color: #f0f8ff;}#sk-container-id-2 div.sk-toggleable__content pre {margin: 0.2em;color: black;border-radius: 0.25em;background-color: #f0f8ff;}#sk-container-id-2 input.sk-toggleable__control:checked~div.sk-toggleable__content {max-height: 200px;max-width: 100%;overflow: auto;}#sk-container-id-2 input.sk-toggleable__control:checked~label.sk-toggleable__label-arrow:before {content: \"▾\";}#sk-container-id-2 div.sk-estimator input.sk-toggleable__control:checked~label.sk-toggleable__label {background-color: #d4ebff;}#sk-container-id-2 div.sk-label input.sk-toggleable__control:checked~label.sk-toggleable__label {background-color: #d4ebff;}#sk-container-id-2 input.sk-hidden--visually {border: 0;clip: rect(1px 1px 1px 1px);clip: rect(1px, 1px, 1px, 1px);height: 1px;margin: -1px;overflow: hidden;padding: 0;position: absolute;width: 1px;}#sk-container-id-2 div.sk-estimator {font-family: monospace;background-color: #f0f8ff;border: 1px dotted black;border-radius: 0.25em;box-sizing: border-box;margin-bottom: 0.5em;}#sk-container-id-2 div.sk-estimator:hover {background-color: #d4ebff;}#sk-container-id-2 div.sk-parallel-item::after {content: \"\";width: 100%;border-bottom: 1px solid gray;flex-grow: 1;}#sk-container-id-2 div.sk-label:hover label.sk-toggleable__label {background-color: #d4ebff;}#sk-container-id-2 div.sk-serial::before {content: \"\";position: absolute;border-left: 1px solid gray;box-sizing: border-box;top: 0;bottom: 0;left: 50%;z-index: 0;}#sk-container-id-2 div.sk-serial {display: flex;flex-direction: column;align-items: center;background-color: white;padding-right: 0.2em;padding-left: 0.2em;position: relative;}#sk-container-id-2 div.sk-item {position: relative;z-index: 1;}#sk-container-id-2 div.sk-parallel {display: flex;align-items: stretch;justify-content: center;background-color: white;position: relative;}#sk-container-id-2 div.sk-item::before, #sk-container-id-2 div.sk-parallel-item::before {content: \"\";position: absolute;border-left: 1px solid gray;box-sizing: border-box;top: 0;bottom: 0;left: 50%;z-index: -1;}#sk-container-id-2 div.sk-parallel-item {display: flex;flex-direction: column;z-index: 1;position: relative;background-color: white;}#sk-container-id-2 div.sk-parallel-item:first-child::after {align-self: flex-end;width: 50%;}#sk-container-id-2 div.sk-parallel-item:last-child::after {align-self: flex-start;width: 50%;}#sk-container-id-2 div.sk-parallel-item:only-child::after {width: 0;}#sk-container-id-2 div.sk-dashed-wrapped {border: 1px dashed gray;margin: 0 0.4em 0.5em 0.4em;box-sizing: border-box;padding-bottom: 0.4em;background-color: white;}#sk-container-id-2 div.sk-label label {font-family: monospace;font-weight: bold;display: inline-block;line-height: 1.2em;}#sk-container-id-2 div.sk-label-container {text-align: center;}#sk-container-id-2 div.sk-container {/* jupyter's `normalize.less` sets `[hidden] { display: none; }` but bootstrap.min.css set `[hidden] { display: none !important; }` so we also need the `!important` here to be able to override the default hidden behavior on the sphinx rendered scikit-learn.org. See: https://github.com/scikit-learn/scikit-learn/issues/21755 */display: inline-block !important;position: relative;}#sk-container-id-2 div.sk-text-repr-fallback {display: none;}</style><div id=\"sk-container-id-2\" class=\"sk-top-container\"><div class=\"sk-text-repr-fallback\"><pre>RandomForestClassifier(bootstrap=False, max_depth=13, min_samples_leaf=7,\n",
       "                       min_samples_split=44, n_estimators=316)</pre><b>In a Jupyter environment, please rerun this cell to show the HTML representation or trust the notebook. <br />On GitHub, the HTML representation is unable to render, please try loading this page with nbviewer.org.</b></div><div class=\"sk-container\" hidden><div class=\"sk-item\"><div class=\"sk-estimator sk-toggleable\"><input class=\"sk-toggleable__control sk-hidden--visually\" id=\"sk-estimator-id-4\" type=\"checkbox\" checked><label for=\"sk-estimator-id-4\" class=\"sk-toggleable__label sk-toggleable__label-arrow\">RandomForestClassifier</label><div class=\"sk-toggleable__content\"><pre>RandomForestClassifier(bootstrap=False, max_depth=13, min_samples_leaf=7,\n",
       "                       min_samples_split=44, n_estimators=316)</pre></div></div></div></div></div>"
      ],
      "text/plain": [
       "RandomForestClassifier(bootstrap=False, max_depth=13, min_samples_leaf=7,\n",
       "                       min_samples_split=44, n_estimators=316)"
      ]
     },
     "execution_count": 21,
     "metadata": {},
     "output_type": "execute_result"
    }
   ],
   "source": [
    "%%time\n",
    "1 + 1\n",
    "n_estimators = [316, 421, 842]\n",
    "max_features = ['sqrt', 'log2']\n",
    "max_depth = [4,5,7, 13]\n",
    "min_samples_split = [23, 34, 44]\n",
    "min_samples_leaf = [2, 7, 12]\n",
    "bootstrap = [False]\n",
    "param_dist = {'n_estimators': n_estimators,\n",
    "               'max_features': max_features,\n",
    "               'max_depth': max_depth,\n",
    "               'min_samples_split': min_samples_split,\n",
    "               'min_samples_leaf': min_samples_leaf,\n",
    "               'bootstrap': bootstrap}\n",
    "model = GridSearchCV(RandomForestClassifier(), \n",
    "                     param_dist, \n",
    "                     cv = 3, \n",
    "                     verbose = 1, \n",
    "                     n_jobs=-1)\n",
    "model.fit(features_other, target_other)\n",
    "model.best_estimator_"
   ]
  },
  {
   "cell_type": "code",
   "execution_count": 22,
   "metadata": {},
   "outputs": [
    {
     "data": {
      "text/plain": [
       "0.8082458187475691"
      ]
     },
     "execution_count": 22,
     "metadata": {},
     "output_type": "execute_result"
    }
   ],
   "source": [
    "model.best_score_"
   ]
  },
  {
   "cell_type": "markdown",
   "metadata": {},
   "source": [
    "Здесь мы применяем кросс-валидацию по 3 блокам для 216 (3 x 2 x 4 x 3 x 3 x 1) сеансов обучения модели, что даёт 648 сеансов обучения модели, случайно выбирая комбинации представленных выше гиперпараметров. Мы можем обратиться к атрибуту best_params_ для получения сведений о наборе параметров, позволяющем создать самую лучшую модель."
   ]
  },
  {
   "cell_type": "markdown",
   "metadata": {},
   "source": [
    "#### **Вывод:** \n",
    "*Наилучшие гиперпараметры для модели случайный лес при Accuracy = 0.8094126798910929:*\n",
    "* 'n_estimators': 316\n",
    "* 'min_samples_split': 44\n",
    "* 'min_samples_leaf': 2\n",
    "* 'max_features': 'log2'\n",
    "* 'max_depth': 5\n",
    "* 'bootstrap': False"
   ]
  },
  {
   "cell_type": "markdown",
   "metadata": {},
   "source": [
    "### Модель Логистическая регрессия\n",
    "* С помощью смены гиперпараметров подберем самые подходящие. С самым большим показателем Accuracy"
   ]
  },
  {
   "cell_type": "code",
   "execution_count": 23,
   "metadata": {},
   "outputs": [
    {
     "data": {
      "text/plain": [
       "0.6967340590979783"
      ]
     },
     "execution_count": 23,
     "metadata": {},
     "output_type": "execute_result"
    }
   ],
   "source": [
    "model = LogisticRegression(solver = 'liblinear', penalty = 'l2', multi_class ='auto', fit_intercept=True, dual=False, C=10,\n",
    "                           random_state=12345, max_iter=1000) \n",
    "model.fit(features_train, target_train) # обучим модель по тренировочным данным\n",
    "\n",
    "model.score(features_valid, target_valid)# посчитаем качество модели на валидационной выборке"
   ]
  },
  {
   "cell_type": "code",
   "execution_count": 24,
   "metadata": {},
   "outputs": [
    {
     "name": "stderr",
     "output_type": "stream",
     "text": [
      "/home/codespace/.local/lib/python3.10/site-packages/sklearn/linear_model/_sag.py:350: ConvergenceWarning: The max_iter was reached which means the coef_ did not converge\n",
      "  warnings.warn(\n"
     ]
    },
    {
     "data": {
      "text/plain": [
       "0.6936236391912908"
      ]
     },
     "execution_count": 24,
     "metadata": {},
     "output_type": "execute_result"
    }
   ],
   "source": [
    "model = LogisticRegression(solver = 'saga', penalty = 'l2', multi_class ='auto', fit_intercept=True, dual=False, C=10,\n",
    "                           random_state=12345, max_iter=1000) \n",
    "model.fit(features_train, target_train) # обучим модель по тренировочным данным\n",
    "\n",
    "model.score(features_valid, target_valid)# посчитаем качество модели на валидационной выборке"
   ]
  },
  {
   "cell_type": "code",
   "execution_count": 25,
   "metadata": {},
   "outputs": [
    {
     "data": {
      "text/plain": [
       "0.6920684292379471"
      ]
     },
     "execution_count": 25,
     "metadata": {},
     "output_type": "execute_result"
    }
   ],
   "source": [
    "model = LogisticRegression(solver = 'lbfgs', penalty = 'l2', multi_class ='auto', fit_intercept=True, dual=False, C=10,\n",
    "                           random_state=12345, max_iter=1000) \n",
    "model.fit(features_train, target_train) # обучим модель по тренировочным данным\n",
    "\n",
    "model.score(features_valid, target_valid)# посчитаем качество модели на валидационной выборке"
   ]
  },
  {
   "cell_type": "code",
   "execution_count": 26,
   "metadata": {},
   "outputs": [
    {
     "data": {
      "text/plain": [
       "0.6967340590979783"
      ]
     },
     "execution_count": 26,
     "metadata": {},
     "output_type": "execute_result"
    }
   ],
   "source": [
    "model = LogisticRegression(solver = 'lbfgs', penalty = 'l2', multi_class ='auto', fit_intercept=False, dual=False, C=2,\n",
    "                           random_state=12345, max_iter=1000) \n",
    "model.fit(features_train, target_train) # обучим модель по тренировочным данным\n",
    "\n",
    "model.score(features_valid, target_valid)# посчитаем качество модели на валидационной выборке"
   ]
  },
  {
   "cell_type": "markdown",
   "metadata": {},
   "source": [
    "**Вывод:** \n",
    "*Наилучшие гиперпараметры для модели логистическая регрессия, полученное методом перебора с Accuracy 0.6998444790046656:*\n",
    "* olver = 'lbfgs', \n",
    "* penalty = 'l2', \n",
    "* multi_class ='auto', \n",
    "* fit_intercept=True, \n",
    "* dual=False, \n",
    "* C=10,\n",
    "* random_state=12345, \n",
    "* max_iter=1000"
   ]
  },
  {
   "cell_type": "markdown",
   "metadata": {},
   "source": [
    "### Модель Дерево решений"
   ]
  },
  {
   "cell_type": "code",
   "execution_count": 27,
   "metadata": {},
   "outputs": [
    {
     "name": "stdout",
     "output_type": "stream",
     "text": [
      "Accuracy лучшей модели: 0.7651632970451011\n",
      "max_depth лучшей модели: DecisionTreeClassifier(max_depth=3)\n"
     ]
    }
   ],
   "source": [
    "best_model = None\n",
    "best_result = 0\n",
    "for depth in range(1, 6):\n",
    "\tmodel = DecisionTreeClassifier(max_depth=depth) # обучим модель с заданной глубиной дерева\n",
    "\tmodel.fit(features_train, target_train) # обучим модель\n",
    "\tpredictions = model.predict(features_valid) # получим предсказания модели на валидационной выборке\n",
    "\tresult = accuracy_score(target_valid, predictions) # посчитаем качество модели\n",
    "\tif result > best_result:\n",
    "\t\tbest_model = model\n",
    "\t\tbest_result = result\n",
    "\n",
    "print(\"Accuracy лучшей модели:\", best_result)\n",
    "print(\"max_depth лучшей модели:\", best_model)"
   ]
  },
  {
   "cell_type": "markdown",
   "metadata": {},
   "source": [
    "**Вывод:** \n",
    "*Наилучшие гиперпараметры для древа решений, полученное методом перебора с Accuracy 0.7651632970451011:*\n",
    "* max_depth=3, "
   ]
  },
  {
   "cell_type": "markdown",
   "metadata": {},
   "source": [
    "### Общий вывод по выбору модели\n",
    "*Наилучшие гиперпараметры для модели случайный лес при Accuracy = 0.8094126798910929:*\n",
    "* 'n_estimators': 316\n",
    "* 'min_samples_split': 44\n",
    "* 'min_samples_leaf': 2\n",
    "* 'max_features': 'log2'\n",
    "* 'max_depth': 5\n",
    "* 'bootstrap': False"
   ]
  },
  {
   "cell_type": "markdown",
   "metadata": {},
   "source": [
    "## Проверьте модель на тестовой выборке"
   ]
  },
  {
   "cell_type": "code",
   "execution_count": 28,
   "metadata": {},
   "outputs": [
    {
     "name": "stderr",
     "output_type": "stream",
     "text": [
      "[Parallel(n_jobs=-1)]: Using backend ThreadingBackend with 4 concurrent workers.\n",
      "[Parallel(n_jobs=-1)]: Done  42 tasks      | elapsed:    0.1s\n",
      "[Parallel(n_jobs=-1)]: Done 192 tasks      | elapsed:    0.3s\n",
      "[Parallel(n_jobs=-1)]: Done 316 out of 316 | elapsed:    0.5s finished\n",
      "[Parallel(n_jobs=4)]: Using backend ThreadingBackend with 4 concurrent workers.\n",
      "[Parallel(n_jobs=4)]: Done  42 tasks      | elapsed:    0.0s\n",
      "[Parallel(n_jobs=4)]: Done 192 tasks      | elapsed:    0.1s\n",
      "[Parallel(n_jobs=4)]: Done 316 out of 316 | elapsed:    0.1s finished\n"
     ]
    }
   ],
   "source": [
    "model = RandomForestClassifier(n_estimators = 316, min_samples_split = 44, min_samples_leaf = 2, \n",
    "                               max_features ='log2', max_depth = 5, bootstrap = False, n_jobs=-1,\n",
    "                               verbose = 1) # обучите модель с заданным гиперпараметрами\n",
    "model_RFC_final_prediction = model.fit(features_test, target_test)\n",
    "predictions = model.predict(features_valid) # получим предсказания модели на валидационной выборке\n",
    "result = accuracy_score(target_valid, predictions) # посчитайте качество модели на валидационной выборке"
   ]
  },
  {
   "cell_type": "code",
   "execution_count": 29,
   "metadata": {},
   "outputs": [
    {
     "name": "stdout",
     "output_type": "stream",
     "text": [
      "Accuracy лучшей модели: 0.7698289269051322\n"
     ]
    }
   ],
   "source": [
    "print(\"Accuracy лучшей модели:\", result)"
   ]
  },
  {
   "cell_type": "markdown",
   "metadata": {},
   "source": [
    "## (бонус) Проверьте модели на адекватность"
   ]
  },
  {
   "cell_type": "markdown",
   "metadata": {},
   "source": [
    "Проверим модели на вменяемость. Для это построим случайную модель на основе DummyClassifier, попробуем посмотреть количественные характеристики по выборке столбца is_ultra"
   ]
  },
  {
   "cell_type": "code",
   "execution_count": 30,
   "metadata": {},
   "outputs": [
    {
     "data": {
      "text/html": [
       "<div>\n",
       "<style scoped>\n",
       "    .dataframe tbody tr th:only-of-type {\n",
       "        vertical-align: middle;\n",
       "    }\n",
       "\n",
       "    .dataframe tbody tr th {\n",
       "        vertical-align: top;\n",
       "    }\n",
       "\n",
       "    .dataframe thead th {\n",
       "        text-align: right;\n",
       "    }\n",
       "</style>\n",
       "<table border=\"1\" class=\"dataframe\">\n",
       "  <thead>\n",
       "    <tr style=\"text-align: right;\">\n",
       "      <th></th>\n",
       "      <th>most_frequent</th>\n",
       "      <th>stratified</th>\n",
       "      <th>uniform</th>\n",
       "    </tr>\n",
       "  </thead>\n",
       "  <tbody>\n",
       "    <tr>\n",
       "      <th>0</th>\n",
       "      <td>0.695179</td>\n",
       "      <td>0.000000</td>\n",
       "      <td>0.000000</td>\n",
       "    </tr>\n",
       "    <tr>\n",
       "      <th>1</th>\n",
       "      <td>0.000000</td>\n",
       "      <td>0.589425</td>\n",
       "      <td>0.000000</td>\n",
       "    </tr>\n",
       "    <tr>\n",
       "      <th>2</th>\n",
       "      <td>0.000000</td>\n",
       "      <td>0.000000</td>\n",
       "      <td>0.496112</td>\n",
       "    </tr>\n",
       "  </tbody>\n",
       "</table>\n",
       "</div>"
      ],
      "text/plain": [
       "   most_frequent  stratified   uniform\n",
       "0       0.695179    0.000000  0.000000\n",
       "1       0.000000    0.589425  0.000000\n",
       "2       0.000000    0.000000  0.496112"
      ]
     },
     "execution_count": 30,
     "metadata": {},
     "output_type": "execute_result"
    }
   ],
   "source": [
    "strategies = ['most_frequent', 'stratified', 'uniform']\n",
    "dummies_result = []\n",
    "for strat in strategies:\n",
    "    dc = DummyClassifier(strategy=strat, random_state=42)\n",
    "    dc.fit(features_train, target_train)\n",
    "    res = dc.score(features_test, target_test)\n",
    "    dummies_result.append({strat:res})\n",
    "\n",
    "pd.DataFrame(dummies_result).fillna(0)"
   ]
  },
  {
   "cell_type": "markdown",
   "metadata": {},
   "source": [
    "Самый лучший вариант, что мы получили алгоритмом - 0.695, в то время как наши модели показывают правильность больше 0.7744945567651633."
   ]
  },
  {
   "cell_type": "markdown",
   "metadata": {},
   "source": [
    "Финальная модель показывает результаты лучше, чем константная модель — модель можно считать адекватной."
   ]
  },
  {
   "cell_type": "code",
   "execution_count": 31,
   "metadata": {},
   "outputs": [
    {
     "data": {
      "text/html": [
       "<div>\n",
       "<style scoped>\n",
       "    .dataframe tbody tr th:only-of-type {\n",
       "        vertical-align: middle;\n",
       "    }\n",
       "\n",
       "    .dataframe tbody tr th {\n",
       "        vertical-align: top;\n",
       "    }\n",
       "\n",
       "    .dataframe thead th {\n",
       "        text-align: right;\n",
       "    }\n",
       "</style>\n",
       "<table border=\"1\" class=\"dataframe\">\n",
       "  <thead>\n",
       "    <tr style=\"text-align: right;\">\n",
       "      <th></th>\n",
       "      <th>is_ultra</th>\n",
       "    </tr>\n",
       "  </thead>\n",
       "  <tbody>\n",
       "    <tr>\n",
       "      <th>0</th>\n",
       "      <td>0.693528</td>\n",
       "    </tr>\n",
       "    <tr>\n",
       "      <th>1</th>\n",
       "      <td>0.306472</td>\n",
       "    </tr>\n",
       "  </tbody>\n",
       "</table>\n",
       "</div>"
      ],
      "text/plain": [
       "   is_ultra\n",
       "0  0.693528\n",
       "1  0.306472"
      ]
     },
     "execution_count": 31,
     "metadata": {},
     "output_type": "execute_result"
    }
   ],
   "source": [
    "(data['is_ultra'].value_counts()/data.shape[0]).to_frame()"
   ]
  },
  {
   "cell_type": "markdown",
   "metadata": {},
   "source": [
    "Доля клиентов с тарифом \"Ультра\" в начальной выборке 69,35 %. Наши модели показывают большую точность, они выявили закономерности, позволяющие предложить новым пользователям тариф"
   ]
  }
 ],
 "metadata": {
  "ExecuteTimeLog": [
   {
    "duration": 1959,
    "start_time": "2022-12-19T10:34:06.135Z"
   },
   {
    "duration": 140,
    "start_time": "2022-12-19T10:34:08.096Z"
   },
   {
    "duration": 33,
    "start_time": "2022-12-19T10:34:08.238Z"
   },
   {
    "duration": 17,
    "start_time": "2022-12-19T10:34:08.275Z"
   },
   {
    "duration": 25,
    "start_time": "2022-12-19T10:34:08.294Z"
   },
   {
    "duration": 31,
    "start_time": "2022-12-19T10:34:08.321Z"
   },
   {
    "duration": 16,
    "start_time": "2022-12-19T10:34:08.354Z"
   },
   {
    "duration": 13,
    "start_time": "2022-12-19T10:34:08.371Z"
   },
   {
    "duration": 14,
    "start_time": "2022-12-19T10:34:08.386Z"
   },
   {
    "duration": 7,
    "start_time": "2022-12-19T10:34:33.232Z"
   },
   {
    "duration": 1545,
    "start_time": "2022-12-21T08:16:28.022Z"
   },
   {
    "duration": 105,
    "start_time": "2022-12-21T08:16:29.569Z"
   },
   {
    "duration": 13,
    "start_time": "2022-12-21T08:16:29.675Z"
   },
   {
    "duration": 13,
    "start_time": "2022-12-21T08:16:29.690Z"
   },
   {
    "duration": 11,
    "start_time": "2022-12-21T08:16:29.706Z"
   },
   {
    "duration": 26,
    "start_time": "2022-12-21T08:16:29.718Z"
   },
   {
    "duration": 8,
    "start_time": "2022-12-21T08:16:29.745Z"
   },
   {
    "duration": 16,
    "start_time": "2022-12-21T08:16:29.754Z"
   },
   {
    "duration": 25,
    "start_time": "2022-12-21T08:16:29.772Z"
   },
   {
    "duration": 26,
    "start_time": "2022-12-21T08:16:29.798Z"
   },
   {
    "duration": 15,
    "start_time": "2022-12-21T08:16:29.826Z"
   },
   {
    "duration": 32,
    "start_time": "2022-12-21T08:16:29.844Z"
   },
   {
    "duration": 19,
    "start_time": "2022-12-21T08:16:29.877Z"
   },
   {
    "duration": 24,
    "start_time": "2022-12-21T08:16:29.899Z"
   },
   {
    "duration": 22,
    "start_time": "2022-12-21T08:16:29.925Z"
   },
   {
    "duration": 14,
    "start_time": "2022-12-21T08:16:29.949Z"
   },
   {
    "duration": 1280,
    "start_time": "2022-12-21T08:19:32.982Z"
   },
   {
    "duration": 56,
    "start_time": "2022-12-21T08:19:34.264Z"
   },
   {
    "duration": 14,
    "start_time": "2022-12-21T08:19:34.321Z"
   },
   {
    "duration": 93,
    "start_time": "2022-12-21T08:19:34.336Z"
   },
   {
    "duration": 43,
    "start_time": "2022-12-21T08:19:34.430Z"
   },
   {
    "duration": 54,
    "start_time": "2022-12-21T08:19:34.474Z"
   },
   {
    "duration": 23,
    "start_time": "2022-12-21T08:19:34.529Z"
   },
   {
    "duration": 22,
    "start_time": "2022-12-21T08:19:34.553Z"
   },
   {
    "duration": 20,
    "start_time": "2022-12-21T08:19:34.577Z"
   },
   {
    "duration": 25,
    "start_time": "2022-12-21T08:19:34.599Z"
   },
   {
    "duration": 29,
    "start_time": "2022-12-21T08:19:34.626Z"
   },
   {
    "duration": 33,
    "start_time": "2022-12-21T08:19:34.657Z"
   },
   {
    "duration": 41,
    "start_time": "2022-12-21T08:19:34.692Z"
   },
   {
    "duration": 28,
    "start_time": "2022-12-21T08:19:34.736Z"
   },
   {
    "duration": 27,
    "start_time": "2022-12-21T08:19:34.766Z"
   },
   {
    "duration": 52,
    "start_time": "2022-12-21T08:19:34.795Z"
   },
   {
    "duration": 287236,
    "start_time": "2022-12-21T08:19:34.849Z"
   },
   {
    "duration": 18,
    "start_time": "2022-12-21T08:24:22.087Z"
   },
   {
    "duration": 2139,
    "start_time": "2022-12-21T08:24:22.106Z"
   },
   {
    "duration": 1225523,
    "start_time": "2022-12-21T08:24:24.247Z"
   },
   {
    "duration": 3,
    "start_time": "2022-12-21T08:44:49.772Z"
   },
   {
    "duration": 24,
    "start_time": "2022-12-21T08:44:49.777Z"
   },
   {
    "duration": 197,
    "start_time": "2022-12-21T08:44:49.803Z"
   },
   {
    "duration": 36,
    "start_time": "2022-12-21T08:44:50.002Z"
   },
   {
    "duration": 23,
    "start_time": "2022-12-21T08:44:50.039Z"
   },
   {
    "duration": 28,
    "start_time": "2022-12-21T08:44:50.063Z"
   },
   {
    "duration": 438,
    "start_time": "2022-12-21T08:44:50.092Z"
   },
   {
    "duration": 2,
    "start_time": "2022-12-21T08:44:50.532Z"
   },
   {
    "duration": 26,
    "start_time": "2022-12-21T08:44:50.536Z"
   },
   {
    "duration": 9,
    "start_time": "2022-12-21T08:44:50.564Z"
   },
   {
    "duration": 48,
    "start_time": "2022-12-21T22:57:14.594Z"
   },
   {
    "duration": 1587,
    "start_time": "2022-12-21T22:57:20.314Z"
   },
   {
    "duration": 95,
    "start_time": "2022-12-21T22:57:21.903Z"
   },
   {
    "duration": 14,
    "start_time": "2022-12-21T22:57:22.000Z"
   },
   {
    "duration": 22,
    "start_time": "2022-12-21T22:57:22.015Z"
   },
   {
    "duration": 16,
    "start_time": "2022-12-21T22:57:22.041Z"
   },
   {
    "duration": 49,
    "start_time": "2022-12-21T22:57:22.059Z"
   },
   {
    "duration": 35,
    "start_time": "2022-12-21T22:57:22.110Z"
   },
   {
    "duration": 52,
    "start_time": "2022-12-21T22:57:22.146Z"
   },
   {
    "duration": 58,
    "start_time": "2022-12-21T22:57:22.200Z"
   },
   {
    "duration": 38,
    "start_time": "2022-12-21T22:57:22.260Z"
   },
   {
    "duration": 45,
    "start_time": "2022-12-21T22:57:22.299Z"
   },
   {
    "duration": 28,
    "start_time": "2022-12-21T22:57:22.346Z"
   },
   {
    "duration": 37,
    "start_time": "2022-12-21T22:57:22.376Z"
   },
   {
    "duration": 12,
    "start_time": "2022-12-21T22:57:22.416Z"
   },
   {
    "duration": 27,
    "start_time": "2022-12-21T22:57:22.430Z"
   },
   {
    "duration": 69,
    "start_time": "2022-12-21T22:57:22.458Z"
   }
  ],
  "kernelspec": {
   "display_name": "Python 3",
   "language": "python",
   "name": "python3"
  },
  "language_info": {
   "codemirror_mode": {
    "name": "ipython",
    "version": 3
   },
   "file_extension": ".py",
   "mimetype": "text/x-python",
   "name": "python",
   "nbconvert_exporter": "python",
   "pygments_lexer": "ipython3",
   "version": "3.10.4"
  },
  "toc": {
   "base_numbering": 1,
   "nav_menu": {},
   "number_sections": true,
   "sideBar": true,
   "skip_h1_title": true,
   "title_cell": "Table of Contents",
   "title_sidebar": "Contents",
   "toc_cell": false,
   "toc_position": {},
   "toc_section_display": true,
   "toc_window_display": false
  },
  "vscode": {
   "interpreter": {
    "hash": "3ad933181bd8a04b432d3370b9dc3b0662ad032c4dfaa4e4f1596c548f763858"
   }
  }
 },
 "nbformat": 4,
 "nbformat_minor": 4
}
